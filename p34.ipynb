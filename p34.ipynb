{
 "cells": [
  {
   "metadata": {
    "ExecuteTime": {
     "end_time": "2025-09-24T09:08:44.961310Z",
     "start_time": "2025-09-24T09:08:44.656643Z"
    }
   },
   "cell_type": "code",
   "source": [
    "import pandas as pd\n",
    "import numpy as np"
   ],
   "id": "493e3f191a7a3c55",
   "outputs": [],
   "execution_count": 1
  },
  {
   "metadata": {},
   "cell_type": "markdown",
   "source": [
    "#### DataFrame 是一种表格型的二维数据结构，既有行索引（index），又有列索引（columns），且默认都是从0开始递增的整数。可以把每一列看作是共同用一个索引的 Series，且不同列的数据类型可以不同。DataFrame 的结构图，如下所示：\n",
    "![DataFrame](picture/DataFrame.png)"
   ],
   "id": "673e905642c0db97"
  },
  {
   "metadata": {},
   "cell_type": "markdown",
   "source": [
    "#### pd.DataFrame(data=None, index=None, columns=None, dtype=None)\n",
    "- 创建 DataFrame 对象\n",
    "- data：array-like, dict\n",
    "- index：行索引。不指定时，默认为从 0 开始依次递增的整数\n",
    "- columns：列索引。不指定时，默认为从 0 开始依次递增的整数\n",
    "- dtype：数据类型，如果没有指定，则会自动推断得出"
   ],
   "id": "c49a8870dd205e79"
  },
  {
   "metadata": {
    "ExecuteTime": {
     "end_time": "2025-09-24T09:08:44.977088Z",
     "start_time": "2025-09-24T09:08:44.961310Z"
    }
   },
   "cell_type": "code",
   "source": [
    "df = pd.DataFrame()\n",
    "print(df)"
   ],
   "id": "7fe0fc0aad86d408",
   "outputs": [
    {
     "name": "stdout",
     "output_type": "stream",
     "text": [
      "Empty DataFrame\n",
      "Columns: []\n",
      "Index: []\n"
     ]
    }
   ],
   "execution_count": 2
  },
  {
   "metadata": {},
   "cell_type": "markdown",
   "source": "#### 单一列表创建DataFrame对象",
   "id": "2a036850d0365b81"
  },
  {
   "metadata": {
    "ExecuteTime": {
     "end_time": "2025-09-24T09:08:44.992374Z",
     "start_time": "2025-09-24T09:08:44.978421Z"
    }
   },
   "cell_type": "code",
   "source": [
    "lst = [['Tom'], ['Bob'], ['Linda']]\n",
    "df = pd.DataFrame(data=lst)\n",
    "print(df)\n",
    "print('*' * 30)\n",
    "lst = ['Tom', 'Bob', 'Linda']\n",
    "df = pd.DataFrame(data=lst)\n",
    "print(df)"
   ],
   "id": "a8b49d3f5ac5e9a3",
   "outputs": [
    {
     "name": "stdout",
     "output_type": "stream",
     "text": [
      "       0\n",
      "0    Tom\n",
      "1    Bob\n",
      "2  Linda\n",
      "******************************\n",
      "       0\n",
      "0    Tom\n",
      "1    Bob\n",
      "2  Linda\n"
     ]
    }
   ],
   "execution_count": 3
  },
  {
   "metadata": {},
   "cell_type": "markdown",
   "source": "#### 嵌套列表创建DataFrame对象",
   "id": "8e814c15b6b07abb"
  },
  {
   "metadata": {
    "ExecuteTime": {
     "end_time": "2025-09-24T09:08:45.008845Z",
     "start_time": "2025-09-24T09:08:44.993543Z"
    }
   },
   "cell_type": "code",
   "source": [
    "lst = [['Tom', 18, 188, 75],\n",
    "       ['Bob', 19, 179, 68],\n",
    "       ['Linda', 17, 177, 62]]\n",
    "df = pd.DataFrame(lst)\n",
    "print(df)"
   ],
   "id": "a4705db832873edc",
   "outputs": [
    {
     "name": "stdout",
     "output_type": "stream",
     "text": [
      "       0   1    2   3\n",
      "0    Tom  18  188  75\n",
      "1    Bob  19  179  68\n",
      "2  Linda  17  177  62\n"
     ]
    }
   ],
   "execution_count": 4
  },
  {
   "metadata": {},
   "cell_type": "markdown",
   "source": "#### ndarray创建DataFrame对象",
   "id": "a43554c885699f42"
  },
  {
   "metadata": {
    "ExecuteTime": {
     "end_time": "2025-09-24T09:08:45.024764Z",
     "start_time": "2025-09-24T09:08:45.010096Z"
    }
   },
   "cell_type": "code",
   "source": [
    "arr = np.array(lst)\n",
    "df = pd.DataFrame(arr)\n",
    "print(df)"
   ],
   "id": "fa88c67858ffd114",
   "outputs": [
    {
     "name": "stdout",
     "output_type": "stream",
     "text": [
      "       0   1    2   3\n",
      "0    Tom  18  188  75\n",
      "1    Bob  19  179  68\n",
      "2  Linda  17  177  62\n"
     ]
    }
   ],
   "execution_count": 5
  },
  {
   "metadata": {},
   "cell_type": "markdown",
   "source": "#### Series创建DataFrame对象",
   "id": "138828cb4ad6900d"
  },
  {
   "metadata": {
    "ExecuteTime": {
     "end_time": "2025-09-24T09:08:45.040131Z",
     "start_time": "2025-09-24T09:08:45.024764Z"
    }
   },
   "cell_type": "code",
   "source": [
    "lst = [pd.Series(['Tom', 18, 188, 75]),\n",
    "       pd.Series(['Bob', 19, 179, 68]),\n",
    "       pd.Series(['Linda', 17, 177, 62])]\n",
    "df = pd.DataFrame(lst)\n",
    "print(df)"
   ],
   "id": "1a322691c633e5b9",
   "outputs": [
    {
     "name": "stdout",
     "output_type": "stream",
     "text": [
      "       0   1    2   3\n",
      "0    Tom  18  188  75\n",
      "1    Bob  19  179  68\n",
      "2  Linda  17  177  62\n"
     ]
    }
   ],
   "execution_count": 6
  },
  {
   "metadata": {
    "ExecuteTime": {
     "end_time": "2025-09-24T09:08:45.055399Z",
     "start_time": "2025-09-24T09:08:45.040131Z"
    }
   },
   "cell_type": "code",
   "source": [
    "index = ['name', 'age', 'height', 'weight']\n",
    "lst = [pd.Series(['Tom', 18, 188, 75], index, name='a'),\n",
    "       pd.Series(['Bob', 19, 179, 68], index, name='b'),\n",
    "       pd.Series(['Linda', 17, 177, 62], index, name='c')]\n",
    "df = pd.DataFrame(lst)\n",
    "print(df)\n",
    "print('*' * 30)\n",
    "lst = [['Tom', 18, 188, 75],\n",
    "       ['Bob', 19, 179, 68],\n",
    "       ['Linda', 17, 177, 62]]\n",
    "df = pd.DataFrame(lst, index=['a', 'b', 'c'], columns=['name', 'age', 'height', 'weight'])\n",
    "print(df)"
   ],
   "id": "d3d11211ddb3ce1",
   "outputs": [
    {
     "name": "stdout",
     "output_type": "stream",
     "text": [
      "    name  age  height  weight\n",
      "a    Tom   18     188      75\n",
      "b    Bob   19     179      68\n",
      "c  Linda   17     177      62\n",
      "******************************\n",
      "    name  age  height  weight\n",
      "a    Tom   18     188      75\n",
      "b    Bob   19     179      68\n",
      "c  Linda   17     177      62\n"
     ]
    }
   ],
   "execution_count": 7
  },
  {
   "metadata": {},
   "cell_type": "markdown",
   "source": [
    "#### 字典嵌套列表创建DataFrame对象\n",
    "- 字典data中, 所有键对应的值的元素个数必须相同\n",
    "- 默认情况下，字典的键被用作列索引"
   ],
   "id": "2e9859e69916ee06"
  },
  {
   "metadata": {
    "ExecuteTime": {
     "end_time": "2025-09-24T09:08:45.071603Z",
     "start_time": "2025-09-24T09:08:45.056544Z"
    }
   },
   "cell_type": "code",
   "source": [
    "index = list('abc')\n",
    "data = {'name': pd.Series(['Tom', 'Bob', 'Linda'], index),\n",
    "        'age': pd.Series([18, 19, 17], index),\n",
    "        'height': pd.Series([188, 179, 177], index),\n",
    "        'weight': pd.Series([75, 68, 62], index)}\n",
    "df = pd.DataFrame(data)\n",
    "print(df)\n",
    "print('*' * 30)\n",
    "data = {'name': ['Tom', 'Bob', 'Linda'],\n",
    "        'age': [18, 19, 17],\n",
    "        'height': [188, 179, 177],\n",
    "        'weight': [75, 68, 62]}\n",
    "df = pd.DataFrame(data, index=list('abc'))\n",
    "print(df)"
   ],
   "id": "1f9ad84674fdba3",
   "outputs": [
    {
     "name": "stdout",
     "output_type": "stream",
     "text": [
      "    name  age  height  weight\n",
      "a    Tom   18     188      75\n",
      "b    Bob   19     179      68\n",
      "c  Linda   17     177      62\n",
      "******************************\n",
      "    name  age  height  weight\n",
      "a    Tom   18     188      75\n",
      "b    Bob   19     179      68\n",
      "c  Linda   17     177      62\n"
     ]
    }
   ],
   "execution_count": 8
  },
  {
   "metadata": {
    "ExecuteTime": {
     "end_time": "2025-09-24T09:08:45.087719Z",
     "start_time": "2025-09-24T09:08:45.072882Z"
    }
   },
   "cell_type": "code",
   "source": [
    "data = {'name': ['Tom', 'Bob', 'Linda'],\n",
    "        'age': [18, 19, 17],\n",
    "        'height': [188, 179, 177],\n",
    "        'weight': [75, 68, 62]}\n",
    "df = pd.DataFrame(data, index=list('abc'), columns=['height', 'score', 'age'])\n",
    "print(df)"
   ],
   "id": "2542ff0fb0e447c5",
   "outputs": [
    {
     "name": "stdout",
     "output_type": "stream",
     "text": [
      "   height score  age\n",
      "a     188   NaN   18\n",
      "b     179   NaN   19\n",
      "c     177   NaN   17\n"
     ]
    }
   ],
   "execution_count": 9
  },
  {
   "metadata": {
    "ExecuteTime": {
     "end_time": "2025-09-24T09:08:45.103817Z",
     "start_time": "2025-09-24T09:08:45.088805Z"
    }
   },
   "cell_type": "code",
   "source": [
    "lst = [['Tom', 18, 1.88, 75],\n",
    "       ['Bob', 19, 179, 68],\n",
    "       ['Linda', 17, 177, 62]]\n",
    "df = pd.DataFrame(lst,\n",
    "                  index=['a', 'b', 'c'],\n",
    "                  columns=['name', 'age', 'height', 'weight'])\n",
    "print(df)\n",
    "print('*' * 30)\n",
    "df = pd.DataFrame(lst,\n",
    "                  index=['a', 'b', 'c'],\n",
    "                  columns=['name', 'age', 'height', 'weight'],\n",
    "                  dtype=np.float32)\n",
    "print(df)\n",
    "print('*' * 30)\n",
    "lst = [['Tom', 18.0, 1.88, 75],\n",
    "       ['Bob', 19, 179, 68],\n",
    "       ['Linda', 17, 177, 62]]\n",
    "df = pd.DataFrame(lst,\n",
    "                  index=['a', 'b', 'c'],\n",
    "                  columns=['name', 'age', 'height', 'weight'],\n",
    "                  dtype=np.int32)\n",
    "print(df)"
   ],
   "id": "9fc4d549994c0d83",
   "outputs": [
    {
     "name": "stdout",
     "output_type": "stream",
     "text": [
      "    name  age  height  weight\n",
      "a    Tom   18    1.88      75\n",
      "b    Bob   19  179.00      68\n",
      "c  Linda   17  177.00      62\n",
      "******************************\n",
      "    name   age  height  weight\n",
      "a    Tom  18.0    1.88    75.0\n",
      "b    Bob  19.0  179.00    68.0\n",
      "c  Linda  17.0  177.00    62.0\n",
      "******************************\n",
      "    name  age  height  weight\n",
      "a    Tom   18    1.88      75\n",
      "b    Bob   19  179.00      68\n",
      "c  Linda   17  177.00      62\n"
     ]
    }
   ],
   "execution_count": 10
  },
  {
   "metadata": {
    "ExecuteTime": {
     "end_time": "2025-09-24T09:08:45.119763Z",
     "start_time": "2025-09-24T09:08:45.104814Z"
    }
   },
   "cell_type": "code",
   "source": [
    "lst = [['Tom', 18.0, 1.88, 75],\n",
    "       ['Bob', 19, 179, 68],\n",
    "       ['Linda', 17, 177, 62]]\n",
    "df = pd.DataFrame(lst,\n",
    "                  index=['a', 'b', 'c'],\n",
    "                  columns=['name', 'age', 'height', 'weight'],\n",
    "                  dtype=object)\n",
    "print(df)"
   ],
   "id": "588beef16c70e425",
   "outputs": [
    {
     "name": "stdout",
     "output_type": "stream",
     "text": [
      "    name   age height weight\n",
      "a    Tom  18.0   1.88     75\n",
      "b    Bob    19    179     68\n",
      "c  Linda    17    177     62\n"
     ]
    }
   ],
   "execution_count": 11
  },
  {
   "metadata": {},
   "cell_type": "markdown",
   "source": [
    "#### DataFrame 常用属性\n",
    "- T &emsp;&emsp;&emsp;&emsp;&emsp; 转置\n",
    "- dtypes &emsp;&emsp;&emsp; 返回每一列的数据类型\n",
    "- shape &emsp;&emsp;&emsp;返回 DataFrame 的形状\n",
    "- size &emsp;&emsp;&emsp;&emsp; 返回 DataFrame 中的元素数量\n",
    "- index &emsp;&emsp;&emsp; 返回行索引\n",
    "- columns &emsp;&emsp; 返回列索引\n",
    "- axes &emsp;&emsp;&emsp;&emsp; 以列表形式返回行索引和列索引\n",
    "- values &emsp;&emsp;&emsp; 以 ndarray 数组的形式返回 DataFrame 中的数据"
   ],
   "id": "9118150764363b96"
  },
  {
   "metadata": {
    "ExecuteTime": {
     "end_time": "2025-09-24T09:08:45.135783Z",
     "start_time": "2025-09-24T09:08:45.119763Z"
    }
   },
   "cell_type": "code",
   "source": "print(df)",
   "id": "9f23f974d0310c0e",
   "outputs": [
    {
     "name": "stdout",
     "output_type": "stream",
     "text": [
      "    name   age height weight\n",
      "a    Tom  18.0   1.88     75\n",
      "b    Bob    19    179     68\n",
      "c  Linda    17    177     62\n"
     ]
    }
   ],
   "execution_count": 12
  },
  {
   "metadata": {
    "ExecuteTime": {
     "end_time": "2025-09-24T09:08:45.151438Z",
     "start_time": "2025-09-24T09:08:45.136977Z"
    }
   },
   "cell_type": "code",
   "source": [
    "print(df.dtypes)\n",
    "print('*' * 30)\n",
    "print(df)\n",
    "print('*' * 30)\n",
    "print(df.T)"
   ],
   "id": "4cdb48820b9e8e1c",
   "outputs": [
    {
     "name": "stdout",
     "output_type": "stream",
     "text": [
      "name      object\n",
      "age       object\n",
      "height    object\n",
      "weight    object\n",
      "dtype: object\n",
      "******************************\n",
      "    name   age height weight\n",
      "a    Tom  18.0   1.88     75\n",
      "b    Bob    19    179     68\n",
      "c  Linda    17    177     62\n",
      "******************************\n",
      "           a    b      c\n",
      "name     Tom  Bob  Linda\n",
      "age     18.0   19     17\n",
      "height  1.88  179    177\n",
      "weight    75   68     62\n"
     ]
    }
   ],
   "execution_count": 13
  },
  {
   "metadata": {
    "ExecuteTime": {
     "end_time": "2025-09-24T09:08:45.167223Z",
     "start_time": "2025-09-24T09:08:45.151438Z"
    }
   },
   "cell_type": "code",
   "source": [
    "print(df.shape)\n",
    "print(df.size)\n",
    "print(df.index)\n",
    "print('*' * 30)\n",
    "print(df.columns)\n",
    "print('*' * 30)\n",
    "print(df.axes)\n",
    "print('*' * 30)\n",
    "print(df.values)"
   ],
   "id": "53b514a69c4a6d0c",
   "outputs": [
    {
     "name": "stdout",
     "output_type": "stream",
     "text": [
      "(3, 4)\n",
      "12\n",
      "Index(['a', 'b', 'c'], dtype='object')\n",
      "******************************\n",
      "Index(['name', 'age', 'height', 'weight'], dtype='object')\n",
      "******************************\n",
      "[Index(['a', 'b', 'c'], dtype='object'), Index(['name', 'age', 'height', 'weight'], dtype='object')]\n",
      "******************************\n",
      "[['Tom' 18.0 1.88 75]\n",
      " ['Bob' 19 179 68]\n",
      " ['Linda' 17 177 62]]\n"
     ]
    }
   ],
   "execution_count": 14
  },
  {
   "metadata": {
    "ExecuteTime": {
     "end_time": "2025-09-24T09:08:45.182785Z",
     "start_time": "2025-09-24T09:08:45.168491Z"
    }
   },
   "cell_type": "code",
   "source": [
    "df = pd.DataFrame(lst)\n",
    "df.index = [7, 8, 9]\n",
    "df.columns = list('ABCD')\n",
    "print(df)\n",
    "\n",
    "print('*' * 30)\n",
    "print(df.index)\n",
    "print('*' * 30)\n",
    "print(df.columns)\n",
    "print('*' * 30)\n",
    "print(df.axes)\n",
    "print('*' * 30)\n",
    "print(df.values)"
   ],
   "id": "a7f9dd611c37fd47",
   "outputs": [
    {
     "name": "stdout",
     "output_type": "stream",
     "text": [
      "       A     B       C   D\n",
      "7    Tom  18.0    1.88  75\n",
      "8    Bob  19.0  179.00  68\n",
      "9  Linda  17.0  177.00  62\n",
      "******************************\n",
      "Int64Index([7, 8, 9], dtype='int64')\n",
      "******************************\n",
      "Index(['A', 'B', 'C', 'D'], dtype='object')\n",
      "******************************\n",
      "[Int64Index([7, 8, 9], dtype='int64'), Index(['A', 'B', 'C', 'D'], dtype='object')]\n",
      "******************************\n",
      "[['Tom' 18.0 1.88 75]\n",
      " ['Bob' 19.0 179.0 68]\n",
      " ['Linda' 17.0 177.0 62]]\n"
     ]
    }
   ],
   "execution_count": 15
  },
  {
   "metadata": {},
   "cell_type": "markdown",
   "source": [
    "#### DataFrame 的运算\n",
    "#### DataFrame 保留了 NumPy 中的数组运算，且 DataFrame 进行数组运算的时候，索引与值之间的映射关系不会发生改变。在进行 DataFrame 和DataFrame 的运算时，把两个 DataFrame 中行索引名和列索引名一样的值进行运算和排序，其他不一样的做并集且对应的值为NaN"
   ],
   "id": "b659a0192ef7a5cc"
  },
  {
   "metadata": {
    "ExecuteTime": {
     "end_time": "2025-09-24T09:08:45.214217Z",
     "start_time": "2025-09-24T09:08:45.183939Z"
    }
   },
   "cell_type": "code",
   "source": [
    "np.random.seed(3)\n",
    "arr = np.random.randint(1, 10, size=(4, 3))\n",
    "df1 = pd.DataFrame(arr, index=list('ntbc'), columns=list('FAM'))\n",
    "print(df1 + 10)\n",
    "\n",
    "arr = np.random.randint(0, 10, size=(3, 3))\n",
    "df2 = pd.DataFrame(arr, index=list('cgt'), columns=list('AQM'))\n",
    "print(df2 + 10)\n",
    "print(df1 + df2 + 20)"
   ],
   "id": "8338dc13e231a6be",
   "outputs": [
    {
     "name": "stdout",
     "output_type": "stream",
     "text": [
      "    F   A   M\n",
      "n  19  14  19\n",
      "t  19  11  16\n",
      "b  14  16  18\n",
      "c  17  11  15\n",
      "    A   Q   M\n",
      "c  17  18  11\n",
      "g  16  12  12\n",
      "t  11  13  15\n",
      "      A   F     M   Q\n",
      "b   NaN NaN   NaN NaN\n",
      "c  28.0 NaN  26.0 NaN\n",
      "g   NaN NaN   NaN NaN\n",
      "n   NaN NaN   NaN NaN\n",
      "t  22.0 NaN  31.0 NaN\n"
     ]
    }
   ],
   "execution_count": 16
  },
  {
   "metadata": {},
   "cell_type": "markdown",
   "source": [
    "#### 访问 DataFrame 数据\n",
    "- 索引获取列数据，切片获取行数据"
   ],
   "id": "c271ca40a83a1455"
  },
  {
   "metadata": {
    "ExecuteTime": {
     "end_time": "2025-09-24T09:08:45.230128Z",
     "start_time": "2025-09-24T09:08:45.214217Z"
    }
   },
   "cell_type": "code",
   "source": "print(df)",
   "id": "febb18e785f0cf62",
   "outputs": [
    {
     "name": "stdout",
     "output_type": "stream",
     "text": [
      "       A     B       C   D\n",
      "7    Tom  18.0    1.88  75\n",
      "8    Bob  19.0  179.00  68\n",
      "9  Linda  17.0  177.00  62\n"
     ]
    }
   ],
   "execution_count": 17
  },
  {
   "metadata": {
    "ExecuteTime": {
     "end_time": "2025-09-24T09:08:45.245397Z",
     "start_time": "2025-09-24T09:08:45.230128Z"
    }
   },
   "cell_type": "code",
   "source": [
    "lst = [['Tom', 18, 188, 75],\n",
    "       ['Bob', 19, 179, 68],\n",
    "       ['Linda', 17, 177, 62]]\n",
    "df = pd.DataFrame(lst, index=['a', 'b', 'c'], columns=['name', 'age', 'height', 'weight'])\n",
    "print(df)"
   ],
   "id": "8a0d319c73245ecd",
   "outputs": [
    {
     "name": "stdout",
     "output_type": "stream",
     "text": [
      "    name  age  height  weight\n",
      "a    Tom   18     188      75\n",
      "b    Bob   19     179      68\n",
      "c  Linda   17     177      62\n"
     ]
    }
   ],
   "execution_count": 18
  },
  {
   "metadata": {},
   "cell_type": "markdown",
   "source": [
    "#### 索引针对列操作(只能给标签值)\n",
    "#### 切片针对行操作(既可以用下标，也可以用标签)"
   ],
   "id": "3bc14fb421c6af80"
  },
  {
   "metadata": {
    "ExecuteTime": {
     "end_time": "2025-09-24T09:08:45.260514Z",
     "start_time": "2025-09-24T09:08:45.245397Z"
    }
   },
   "cell_type": "code",
   "source": "print(df)",
   "id": "b23718d87f444361",
   "outputs": [
    {
     "name": "stdout",
     "output_type": "stream",
     "text": [
      "    name  age  height  weight\n",
      "a    Tom   18     188      75\n",
      "b    Bob   19     179      68\n",
      "c  Linda   17     177      62\n"
     ]
    }
   ],
   "execution_count": 19
  },
  {
   "metadata": {
    "ExecuteTime": {
     "end_time": "2025-09-24T09:08:45.276175Z",
     "start_time": "2025-09-24T09:08:45.261522Z"
    }
   },
   "cell_type": "code",
   "source": [
    "print(df['age'])\n",
    "print('*' * 30)\n",
    "print(df[['age']])\n",
    "print('*' * 30)\n",
    "print(df[['age', 'name', 'weight']])"
   ],
   "id": "f992c5392040e3e8",
   "outputs": [
    {
     "name": "stdout",
     "output_type": "stream",
     "text": [
      "a    18\n",
      "b    19\n",
      "c    17\n",
      "Name: age, dtype: int64\n",
      "******************************\n",
      "   age\n",
      "a   18\n",
      "b   19\n",
      "c   17\n",
      "******************************\n",
      "   age   name  weight\n",
      "a   18    Tom      75\n",
      "b   19    Bob      68\n",
      "c   17  Linda      62\n"
     ]
    }
   ],
   "execution_count": 20
  },
  {
   "metadata": {
    "ExecuteTime": {
     "end_time": "2025-09-24T09:08:45.292271Z",
     "start_time": "2025-09-24T09:08:45.276175Z"
    }
   },
   "cell_type": "code",
   "source": [
    "print(df[0:2])\n",
    "print(df['a':'b'])"
   ],
   "id": "5419275f300b300b",
   "outputs": [
    {
     "name": "stdout",
     "output_type": "stream",
     "text": [
      "  name  age  height  weight\n",
      "a  Tom   18     188      75\n",
      "b  Bob   19     179      68\n",
      "  name  age  height  weight\n",
      "a  Tom   18     188      75\n",
      "b  Bob   19     179      68\n"
     ]
    }
   ],
   "execution_count": 21
  },
  {
   "metadata": {},
   "cell_type": "markdown",
   "source": [
    "#### df.loc[针对行的操作，针对列的操作] &emsp;&emsp; 参数必须给标签\n",
    "#### df.iloc[针对行的操作，针对列的操作] &emsp;&emsp; 参数必须给下标"
   ],
   "id": "2835265ddd5f1bc6"
  },
  {
   "metadata": {
    "ExecuteTime": {
     "end_time": "2025-09-24T09:08:45.307856Z",
     "start_time": "2025-09-24T09:08:45.293558Z"
    }
   },
   "cell_type": "code",
   "source": "print(df)",
   "id": "79359e4b876ea90a",
   "outputs": [
    {
     "name": "stdout",
     "output_type": "stream",
     "text": [
      "    name  age  height  weight\n",
      "a    Tom   18     188      75\n",
      "b    Bob   19     179      68\n",
      "c  Linda   17     177      62\n"
     ]
    }
   ],
   "execution_count": 22
  },
  {
   "metadata": {
    "ExecuteTime": {
     "end_time": "2025-09-24T09:08:45.323793Z",
     "start_time": "2025-09-24T09:08:45.307856Z"
    }
   },
   "cell_type": "code",
   "source": [
    "print(df.loc[:, ])\n",
    "print('*' * 30)\n",
    "print(df.iloc[:])"
   ],
   "id": "69629035b709bd94",
   "outputs": [
    {
     "name": "stdout",
     "output_type": "stream",
     "text": [
      "    name  age  height  weight\n",
      "a    Tom   18     188      75\n",
      "b    Bob   19     179      68\n",
      "c  Linda   17     177      62\n",
      "******************************\n",
      "    name  age  height  weight\n",
      "a    Tom   18     188      75\n",
      "b    Bob   19     179      68\n",
      "c  Linda   17     177      62\n"
     ]
    }
   ],
   "execution_count": 23
  },
  {
   "metadata": {
    "ExecuteTime": {
     "end_time": "2025-09-24T09:08:45.339633Z",
     "start_time": "2025-09-24T09:08:45.325098Z"
    }
   },
   "cell_type": "code",
   "source": [
    "print(df.loc['a':'b'])\n",
    "print('*' * 30)\n",
    "print(df.iloc[0:2, ])"
   ],
   "id": "d278b45284738a83",
   "outputs": [
    {
     "name": "stdout",
     "output_type": "stream",
     "text": [
      "  name  age  height  weight\n",
      "a  Tom   18     188      75\n",
      "b  Bob   19     179      68\n",
      "******************************\n",
      "  name  age  height  weight\n",
      "a  Tom   18     188      75\n",
      "b  Bob   19     179      68\n"
     ]
    }
   ],
   "execution_count": 24
  },
  {
   "metadata": {
    "ExecuteTime": {
     "end_time": "2025-09-24T09:08:45.355091Z",
     "start_time": "2025-09-24T09:08:45.340629Z"
    }
   },
   "cell_type": "code",
   "source": [
    "print(df.loc[:, 'age'])\n",
    "print(df.iloc[:, 1])"
   ],
   "id": "5dc99c21e9f6a8c8",
   "outputs": [
    {
     "name": "stdout",
     "output_type": "stream",
     "text": [
      "a    18\n",
      "b    19\n",
      "c    17\n",
      "Name: age, dtype: int64\n",
      "a    18\n",
      "b    19\n",
      "c    17\n",
      "Name: age, dtype: int64\n"
     ]
    }
   ],
   "execution_count": 25
  },
  {
   "metadata": {
    "ExecuteTime": {
     "end_time": "2025-09-24T09:08:45.433535Z",
     "start_time": "2025-09-24T09:08:45.416828Z"
    }
   },
   "cell_type": "code",
   "source": [
    "print(df.loc[:, 'age':'height'])\n",
    "print(df.iloc[:, 1:3])"
   ],
   "id": "ec455fb97ac20dc1",
   "outputs": [
    {
     "name": "stdout",
     "output_type": "stream",
     "text": [
      "   age  height\n",
      "a   18     188\n",
      "b   19     179\n",
      "c   17     177\n",
      "   age  height\n",
      "a   18     188\n",
      "b   19     179\n",
      "c   17     177\n"
     ]
    }
   ],
   "execution_count": 26
  },
  {
   "metadata": {
    "ExecuteTime": {
     "end_time": "2025-09-24T09:08:45.557787Z",
     "start_time": "2025-09-24T09:08:45.547495Z"
    }
   },
   "cell_type": "code",
   "source": [
    "print(df.loc[:, 'height'::-2])\n",
    "print(df.iloc[:, 2::-2])"
   ],
   "id": "85bd057aea967515",
   "outputs": [
    {
     "name": "stdout",
     "output_type": "stream",
     "text": [
      "   height   name\n",
      "a     188    Tom\n",
      "b     179    Bob\n",
      "c     177  Linda\n",
      "   height   name\n",
      "a     188    Tom\n",
      "b     179    Bob\n",
      "c     177  Linda\n"
     ]
    }
   ],
   "execution_count": 27
  },
  {
   "metadata": {
    "ExecuteTime": {
     "end_time": "2025-09-24T09:08:45.666614Z",
     "start_time": "2025-09-24T09:08:45.650077Z"
    }
   },
   "cell_type": "code",
   "source": [
    "print(df.loc['b'])\n",
    "print('*' * 30)\n",
    "print(df.iloc[1])"
   ],
   "id": "57d15c9c3b7d1b3d",
   "outputs": [
    {
     "name": "stdout",
     "output_type": "stream",
     "text": [
      "name      Bob\n",
      "age        19\n",
      "height    179\n",
      "weight     68\n",
      "Name: b, dtype: object\n",
      "******************************\n",
      "name      Bob\n",
      "age        19\n",
      "height    179\n",
      "weight     68\n",
      "Name: b, dtype: object\n"
     ]
    }
   ],
   "execution_count": 28
  },
  {
   "metadata": {
    "ExecuteTime": {
     "end_time": "2025-09-24T09:08:45.698252Z",
     "start_time": "2025-09-24T09:08:45.686985Z"
    }
   },
   "cell_type": "code",
   "source": [
    "print(df.loc[['b']])\n",
    "print('*' * 30)\n",
    "print(df.iloc[[1]])"
   ],
   "id": "4151d12a42d98bd4",
   "outputs": [
    {
     "name": "stdout",
     "output_type": "stream",
     "text": [
      "  name  age  height  weight\n",
      "b  Bob   19     179      68\n",
      "******************************\n",
      "  name  age  height  weight\n",
      "b  Bob   19     179      68\n"
     ]
    }
   ],
   "execution_count": 29
  },
  {
   "metadata": {
    "ExecuteTime": {
     "end_time": "2025-09-24T09:08:45.744652Z",
     "start_time": "2025-09-24T09:08:45.735963Z"
    }
   },
   "cell_type": "code",
   "source": [
    "print(df.loc['b':'b'])\n",
    "print('*' * 30)\n",
    "print(df.iloc[1:2])"
   ],
   "id": "8c9ca95e75f75cee",
   "outputs": [
    {
     "name": "stdout",
     "output_type": "stream",
     "text": [
      "  name  age  height  weight\n",
      "b  Bob   19     179      68\n",
      "******************************\n",
      "  name  age  height  weight\n",
      "b  Bob   19     179      68\n"
     ]
    }
   ],
   "execution_count": 30
  },
  {
   "metadata": {
    "ExecuteTime": {
     "end_time": "2025-09-24T09:08:45.824376Z",
     "start_time": "2025-09-24T09:08:45.807306Z"
    }
   },
   "cell_type": "code",
   "source": [
    "print(df.loc[['a', 'b']])\n",
    "print('*' * 30)\n",
    "print(df.iloc[[0, 1]])"
   ],
   "id": "cb7e368dc6029bb1",
   "outputs": [
    {
     "name": "stdout",
     "output_type": "stream",
     "text": [
      "  name  age  height  weight\n",
      "a  Tom   18     188      75\n",
      "b  Bob   19     179      68\n",
      "******************************\n",
      "  name  age  height  weight\n",
      "a  Tom   18     188      75\n",
      "b  Bob   19     179      68\n"
     ]
    }
   ],
   "execution_count": 31
  },
  {
   "metadata": {},
   "cell_type": "markdown",
   "source": [
    "#### 修改 DataFrame 索引\n",
    "- 修改对应的属性即可\n",
    "- 对访问的数据重新赋值，即可修改数据；"
   ],
   "id": "9939fc04553a2aba"
  },
  {
   "metadata": {
    "ExecuteTime": {
     "end_time": "2025-09-24T09:08:45.839789Z",
     "start_time": "2025-09-24T09:08:45.831031Z"
    }
   },
   "cell_type": "code",
   "source": "print(df)",
   "id": "c945c74ebc3e2c2e",
   "outputs": [
    {
     "name": "stdout",
     "output_type": "stream",
     "text": [
      "    name  age  height  weight\n",
      "a    Tom   18     188      75\n",
      "b    Bob   19     179      68\n",
      "c  Linda   17     177      62\n"
     ]
    }
   ],
   "execution_count": 32
  },
  {
   "metadata": {
    "ExecuteTime": {
     "end_time": "2025-09-24T09:08:45.870235Z",
     "start_time": "2025-09-24T09:08:45.854502Z"
    }
   },
   "cell_type": "code",
   "source": [
    "df['height'] = [1.88, 1.79, 1.77]\n",
    "df.loc[:, 'weight'] = pd.Series([7.5, 6.8, 6.2], index=df.index)\n",
    "df.loc[:, 'weight'] = pd.Series([7.5, 6.8, 6.2], index=list('cba'))\n",
    "print(df)"
   ],
   "id": "c76c6510386361a",
   "outputs": [
    {
     "name": "stdout",
     "output_type": "stream",
     "text": [
      "    name  age  height  weight\n",
      "a    Tom   18    1.88     6.2\n",
      "b    Bob   19    1.79     6.8\n",
      "c  Linda   17    1.77     7.5\n"
     ]
    }
   ],
   "execution_count": 33
  },
  {
   "metadata": {
    "ExecuteTime": {
     "end_time": "2025-09-24T09:08:45.947582Z",
     "start_time": "2025-09-24T09:08:45.933163Z"
    }
   },
   "cell_type": "code",
   "source": [
    "df[['height', 'age']] = [[188, 20],\n",
    "                         [179, 21],\n",
    "                         [177, 22]]\n",
    "print(df)"
   ],
   "id": "d2777afe736c4951",
   "outputs": [
    {
     "name": "stdout",
     "output_type": "stream",
     "text": [
      "    name  age  height  weight\n",
      "a    Tom   20     188     6.2\n",
      "b    Bob   21     179     6.8\n",
      "c  Linda   22     177     7.5\n"
     ]
    }
   ],
   "execution_count": 34
  },
  {
   "metadata": {
    "ExecuteTime": {
     "end_time": "2025-09-24T09:08:45.993164Z",
     "start_time": "2025-09-24T09:08:45.980173Z"
    }
   },
   "cell_type": "code",
   "source": [
    "data = {'height': [1.88, 1.79, 1.77],\n",
    "        'age': [18, 19, 20]}\n",
    "df2 = pd.DataFrame(data, index=df.index)\n",
    "print(df2)\n",
    "df[['height', 'age']] = df2\n",
    "print(df)"
   ],
   "id": "f7d416ea3f76152d",
   "outputs": [
    {
     "name": "stdout",
     "output_type": "stream",
     "text": [
      "   height  age\n",
      "a    1.88   18\n",
      "b    1.79   19\n",
      "c    1.77   20\n",
      "    name  age  height  weight\n",
      "a    Tom   18    1.88     6.2\n",
      "b    Bob   19    1.79     6.8\n",
      "c  Linda   20    1.77     7.5\n"
     ]
    }
   ],
   "execution_count": 35
  },
  {
   "metadata": {
    "ExecuteTime": {
     "end_time": "2025-09-24T09:08:46.024247Z",
     "start_time": "2025-09-24T09:08:46.014172Z"
    }
   },
   "cell_type": "code",
   "source": [
    "df.loc['b'] = ['sam', 20, 1.79, 86]\n",
    "print(df)\n",
    "df[::2] = [['Tony', 20, 1.88, 80], ['Rose', 23, 1.77, 68]]\n",
    "print(df)"
   ],
   "id": "6e0a6ddb21e26a12",
   "outputs": [
    {
     "name": "stdout",
     "output_type": "stream",
     "text": [
      "    name  age  height  weight\n",
      "a    Tom   18    1.88     6.2\n",
      "b    sam   20    1.79    86.0\n",
      "c  Linda   20    1.77     7.5\n",
      "   name  age  height  weight\n",
      "a  Tony   20    1.88    80.0\n",
      "b   sam   20    1.79    86.0\n",
      "c  Rose   23    1.77    68.0\n"
     ]
    }
   ],
   "execution_count": 36
  },
  {
   "metadata": {},
   "cell_type": "markdown",
   "source": "#### 如果访问数据不存在，则会添加数据",
   "id": "d6c9ecbaeb81d7f2"
  },
  {
   "metadata": {
    "ExecuteTime": {
     "end_time": "2025-09-24T09:08:46.055621Z",
     "start_time": "2025-09-24T09:08:46.042457Z"
    }
   },
   "cell_type": "code",
   "source": "print(df)",
   "id": "c7765c3f61987202",
   "outputs": [
    {
     "name": "stdout",
     "output_type": "stream",
     "text": [
      "   name  age  height  weight\n",
      "a  Tony   20    1.88    80.0\n",
      "b   sam   20    1.79    86.0\n",
      "c  Rose   23    1.77    68.0\n"
     ]
    }
   ],
   "execution_count": 37
  },
  {
   "metadata": {
    "ExecuteTime": {
     "end_time": "2025-09-24T09:08:46.101926Z",
     "start_time": "2025-09-24T09:08:46.082641Z"
    }
   },
   "cell_type": "code",
   "source": [
    "df['score'] = [100, 98, 80]\n",
    "print(df)"
   ],
   "id": "87e396689a0b6ae4",
   "outputs": [
    {
     "name": "stdout",
     "output_type": "stream",
     "text": [
      "   name  age  height  weight  score\n",
      "a  Tony   20    1.88    80.0    100\n",
      "b   sam   20    1.79    86.0     98\n",
      "c  Rose   23    1.77    68.0     80\n"
     ]
    }
   ],
   "execution_count": 38
  },
  {
   "metadata": {
    "ExecuteTime": {
     "end_time": "2025-09-24T09:08:46.147780Z",
     "start_time": "2025-09-24T09:08:46.135562Z"
    }
   },
   "cell_type": "code",
   "source": [
    "df[['score', 'stu_id']] = [[100, 101],\n",
    "                           [98, 102],\n",
    "                           [95, 103]]\n",
    "print(df)"
   ],
   "id": "f07f28ba4dedc734",
   "outputs": [
    {
     "name": "stdout",
     "output_type": "stream",
     "text": [
      "   name  age  height  weight  score  stu_id\n",
      "a  Tony   20    1.88    80.0    100     101\n",
      "b   sam   20    1.79    86.0     98     102\n",
      "c  Rose   23    1.77    68.0     95     103\n"
     ]
    }
   ],
   "execution_count": 39
  },
  {
   "metadata": {
    "ExecuteTime": {
     "end_time": "2025-09-24T09:08:46.179598Z",
     "start_time": "2025-09-24T09:08:46.169047Z"
    }
   },
   "cell_type": "code",
   "source": [
    "df.loc['d'] = ['Jake', 23, 187, 68, 80, 104]\n",
    "print(df)"
   ],
   "id": "2fd2c270124dd9",
   "outputs": [
    {
     "name": "stdout",
     "output_type": "stream",
     "text": [
      "   name  age  height  weight  score  stu_id\n",
      "a  Tony   20    1.88    80.0    100     101\n",
      "b   sam   20    1.79    86.0     98     102\n",
      "c  Rose   23    1.77    68.0     95     103\n",
      "d  Jake   23  187.00    68.0     80     104\n"
     ]
    }
   ],
   "execution_count": 40
  },
  {
   "metadata": {},
   "cell_type": "markdown",
   "source": "#### 删除",
   "id": "194f04fee11d7da7"
  },
  {
   "metadata": {
    "ExecuteTime": {
     "end_time": "2025-09-24T09:08:46.257072Z",
     "start_time": "2025-09-24T09:08:46.242693Z"
    }
   },
   "cell_type": "code",
   "source": "print(df)",
   "id": "ab7669d70d56a8b3",
   "outputs": [
    {
     "name": "stdout",
     "output_type": "stream",
     "text": [
      "   name  age  height  weight  score  stu_id\n",
      "a  Tony   20    1.88    80.0    100     101\n",
      "b   sam   20    1.79    86.0     98     102\n",
      "c  Rose   23    1.77    68.0     95     103\n",
      "d  Jake   23  187.00    68.0     80     104\n"
     ]
    }
   ],
   "execution_count": 41
  },
  {
   "metadata": {
    "ExecuteTime": {
     "end_time": "2025-09-24T09:08:46.271831Z",
     "start_time": "2025-09-24T09:08:46.263668Z"
    }
   },
   "cell_type": "code",
   "source": [
    "del df['age'], df['weight']\n",
    "df = df.T\n",
    "del df['a'], df['c']\n",
    "df = df.T\n",
    "print(df)"
   ],
   "id": "ee4cda34d5c17c6e",
   "outputs": [
    {
     "name": "stdout",
     "output_type": "stream",
     "text": [
      "   name height score stu_id\n",
      "b   sam   1.79    98    102\n",
      "d  Jake  187.0    80    104\n"
     ]
    }
   ],
   "execution_count": 42
  },
  {
   "metadata": {},
   "cell_type": "markdown",
   "source": "#### DataFrame 常用方法",
   "id": "870a6952c6d173b4"
  },
  {
   "metadata": {},
   "cell_type": "markdown",
   "source": [
    "#### DataFrame.isnull() / DataFrame.notnull()\n",
    "- 检测 DataFrame 中的缺失值"
   ],
   "id": "a18a932e81525df5"
  },
  {
   "metadata": {
    "ExecuteTime": {
     "end_time": "2025-09-24T09:08:46.318336Z",
     "start_time": "2025-09-24T09:08:46.301004Z"
    }
   },
   "cell_type": "code",
   "source": "print(df)",
   "id": "586d16581b20505a",
   "outputs": [
    {
     "name": "stdout",
     "output_type": "stream",
     "text": [
      "   name height score stu_id\n",
      "b   sam   1.79    98    102\n",
      "d  Jake  187.0    80    104\n"
     ]
    }
   ],
   "execution_count": 43
  },
  {
   "metadata": {
    "ExecuteTime": {
     "end_time": "2025-09-24T09:08:46.380443Z",
     "start_time": "2025-09-24T09:08:46.372452Z"
    }
   },
   "cell_type": "code",
   "source": [
    "d = [[8, np.nan],\n",
    "     [np.nan, 7],\n",
    "     [0, 2],\n",
    "     [np.nan, np.nan]]\n",
    "df = pd.DataFrame(d)\n",
    "print(df)\n",
    "print(df.isnull())\n",
    "print(df.notnull())"
   ],
   "id": "d0c81cf17c48159e",
   "outputs": [
    {
     "name": "stdout",
     "output_type": "stream",
     "text": [
      "     0    1\n",
      "0  8.0  NaN\n",
      "1  NaN  7.0\n",
      "2  0.0  2.0\n",
      "3  NaN  NaN\n",
      "       0      1\n",
      "0  False   True\n",
      "1   True  False\n",
      "2  False  False\n",
      "3   True   True\n",
      "       0      1\n",
      "0   True  False\n",
      "1  False   True\n",
      "2   True   True\n",
      "3  False  False\n"
     ]
    }
   ],
   "execution_count": 44
  },
  {
   "metadata": {},
   "cell_type": "markdown",
   "source": [
    "#### DataFrame.insert(loc, column, value)\n",
    "- loc：int，整数列索引，指定插入数据列的位置\n",
    "- column：新插入的数据列的名字\n",
    "- value：int, Series, or array-like，插入的数据"
   ],
   "id": "adc735062a4e9caa"
  },
  {
   "metadata": {
    "ExecuteTime": {
     "end_time": "2025-09-24T09:08:46.427022Z",
     "start_time": "2025-09-24T09:08:46.415933Z"
    }
   },
   "cell_type": "code",
   "source": "print(df)",
   "id": "c1d6364f1e178307",
   "outputs": [
    {
     "name": "stdout",
     "output_type": "stream",
     "text": [
      "     0    1\n",
      "0  8.0  NaN\n",
      "1  NaN  7.0\n",
      "2  0.0  2.0\n",
      "3  NaN  NaN\n"
     ]
    }
   ],
   "execution_count": 45
  },
  {
   "metadata": {
    "ExecuteTime": {
     "end_time": "2025-09-24T09:08:46.458412Z",
     "start_time": "2025-09-24T09:08:46.447874Z"
    }
   },
   "cell_type": "code",
   "source": [
    "df = pd.DataFrame(lst, index=['a', 'b', 'c'], columns=['name', 'age', 'height', 'weight'])\n",
    "df.insert(1, 'score', [100, 98, 95])\n",
    "print(df)\n",
    "df = df.T\n",
    "df.insert(2, 'd', ['Sam', 100, 20, 199, 68])\n",
    "df = df.T\n",
    "print(df)"
   ],
   "id": "92100601fb558d43",
   "outputs": [
    {
     "name": "stdout",
     "output_type": "stream",
     "text": [
      "    name  score  age  height  weight\n",
      "a    Tom    100   18     188      75\n",
      "b    Bob     98   19     179      68\n",
      "c  Linda     95   17     177      62\n",
      "    name score age height weight\n",
      "a    Tom   100  18    188     75\n",
      "b    Bob    98  19    179     68\n",
      "d    Sam   100  20    199     68\n",
      "c  Linda    95  17    177     62\n"
     ]
    }
   ],
   "execution_count": 46
  },
  {
   "metadata": {},
   "cell_type": "markdown",
   "source": [
    "#### DataFrame.reindex(labels=None, axis=0, index=None, columns=None,fill_value=np.NaN)\n",
    "- labels：要获取数据的列标签或者行标签，传入列表，与axis对应\n",
    "- axis：轴的方向，0为行，1为列\n",
    "- index：要获取数据的行索引，传入列表\n",
    "- columns：要获取数据的列索引，传入列表\n",
    "- fill_value：填充的缺失值（标量），默认为 np.NaN\n",
    "- 返回重新索引组成的新的 DataFrame 对象"
   ],
   "id": "775d0f04444d52c1"
  },
  {
   "metadata": {
    "ExecuteTime": {
     "end_time": "2025-09-24T09:08:46.521796Z",
     "start_time": "2025-09-24T09:08:46.508134Z"
    }
   },
   "cell_type": "code",
   "source": "print(df)",
   "id": "41badfbc2af1fd23",
   "outputs": [
    {
     "name": "stdout",
     "output_type": "stream",
     "text": [
      "    name score age height weight\n",
      "a    Tom   100  18    188     75\n",
      "b    Bob    98  19    179     68\n",
      "d    Sam   100  20    199     68\n",
      "c  Linda    95  17    177     62\n"
     ]
    }
   ],
   "execution_count": 47
  },
  {
   "metadata": {
    "ExecuteTime": {
     "end_time": "2025-09-24T09:08:46.552799Z",
     "start_time": "2025-09-24T09:08:46.541587Z"
    }
   },
   "cell_type": "code",
   "source": [
    "df = pd.DataFrame(lst, index=list('abc'), columns=['name', 'age', 'height', 'weight'])\n",
    "print(df.reindex(labels=list('cmak'), axis=0))\n",
    "print(df.reindex(labels=['height', 'score', 'name'], axis=1))"
   ],
   "id": "5847f989a3e651c4",
   "outputs": [
    {
     "name": "stdout",
     "output_type": "stream",
     "text": [
      "    name   age  height  weight\n",
      "c  Linda  17.0   177.0    62.0\n",
      "m    NaN   NaN     NaN     NaN\n",
      "a    Tom  18.0   188.0    75.0\n",
      "k    NaN   NaN     NaN     NaN\n",
      "   height  score   name\n",
      "a     188    NaN    Tom\n",
      "b     179    NaN    Bob\n",
      "c     177    NaN  Linda\n"
     ]
    }
   ],
   "execution_count": 48
  },
  {
   "metadata": {
    "ExecuteTime": {
     "end_time": "2025-09-24T09:08:46.599767Z",
     "start_time": "2025-09-24T09:08:46.583890Z"
    }
   },
   "cell_type": "code",
   "source": [
    "df = pd.DataFrame(lst, index=list('abc'), columns=['name', 'age', 'height', 'weight'])\n",
    "print(df.reindex(index=list('cmak'), columns=['height', 'score', 'name'], fill_value=0))"
   ],
   "id": "9863736a449c2247",
   "outputs": [
    {
     "name": "stdout",
     "output_type": "stream",
     "text": [
      "   height  score   name\n",
      "c     177      0  Linda\n",
      "m       0      0      0\n",
      "a     188      0    Tom\n",
      "k       0      0      0\n"
     ]
    }
   ],
   "execution_count": 49
  },
  {
   "metadata": {},
   "cell_type": "markdown",
   "source": [
    "#### DataFrame.drop(labels=None, axis=0, index=None, columns=None,inplace=False)\n",
    "- labels：要删除的列标签或者行标签，如果要删除多个，传入列表，与axis对应\n",
    "- axis：轴的方向，0为行，1为列\n",
    "- index：要删除的行索引，如果要删除多个，传入列表\n",
    "- columns：要删除的列索引，如果要删除多个，传入列表\n",
    "- inplace：inplace=True时，对原数据操作，返回None"
   ],
   "id": "ea7e5961a2882d4e"
  },
  {
   "metadata": {
    "ExecuteTime": {
     "end_time": "2025-09-24T09:08:46.630909Z",
     "start_time": "2025-09-24T09:08:46.622758Z"
    }
   },
   "cell_type": "code",
   "source": [
    "print(df.drop(labels=list('ac')))\n",
    "print('*' * 30)\n",
    "print(df.drop(labels=['height', 'age'], axis=1))"
   ],
   "id": "5356f1a76b9694a3",
   "outputs": [
    {
     "name": "stdout",
     "output_type": "stream",
     "text": [
      "  name  age  height  weight\n",
      "b  Bob   19     179      68\n",
      "******************************\n",
      "    name  weight\n",
      "a    Tom      75\n",
      "b    Bob      68\n",
      "c  Linda      62\n"
     ]
    }
   ],
   "execution_count": 50
  },
  {
   "metadata": {
    "ExecuteTime": {
     "end_time": "2025-09-24T09:08:46.677588Z",
     "start_time": "2025-09-24T09:08:46.675207Z"
    }
   },
   "cell_type": "code",
   "source": "print(df)",
   "id": "d048e5d10f484d2",
   "outputs": [
    {
     "name": "stdout",
     "output_type": "stream",
     "text": [
      "    name  age  height  weight\n",
      "a    Tom   18     188      75\n",
      "b    Bob   19     179      68\n",
      "c  Linda   17     177      62\n"
     ]
    }
   ],
   "execution_count": 51
  },
  {
   "metadata": {
    "ExecuteTime": {
     "end_time": "2025-09-24T09:08:46.708259Z",
     "start_time": "2025-09-24T09:08:46.695901Z"
    }
   },
   "cell_type": "code",
   "source": [
    "df.drop(index=list('ac'), columns=['height', 'age'], inplace=True)\n",
    "print(df)"
   ],
   "id": "fa39c83cf0aa6ff0",
   "outputs": [
    {
     "name": "stdout",
     "output_type": "stream",
     "text": [
      "  name  weight\n",
      "b  Bob      68\n"
     ]
    }
   ],
   "execution_count": 52
  },
  {
   "metadata": {
    "ExecuteTime": {
     "end_time": "2025-09-24T09:08:46.724246Z",
     "start_time": "2025-09-24T09:08:46.715771Z"
    }
   },
   "cell_type": "code",
   "source": [
    "lst = [['Tom', 18, 188, 75],\n",
    "       ['Bob', 19, 179, 68],\n",
    "       ['Linda', 17, 177, 62]]\n",
    "df = pd.DataFrame(lst, index=['a', 'b', 'c'], columns=['name', 'age', 'height', 'weight'])\n",
    "print(df)"
   ],
   "id": "31d9524b145c1f33",
   "outputs": [
    {
     "name": "stdout",
     "output_type": "stream",
     "text": [
      "    name  age  height  weight\n",
      "a    Tom   18     188      75\n",
      "b    Bob   19     179      68\n",
      "c  Linda   17     177      62\n"
     ]
    }
   ],
   "execution_count": 53
  },
  {
   "metadata": {},
   "cell_type": "markdown",
   "source": [
    "#### pd.concat(objs, axis=0, join='outer', ignore_index=False)\n",
    "- objs：DataFrame对象的序列\n",
    "- axis：要拼接的轴\n",
    "- join：外连接（'outer'）保留两个表中的所有信息；内连接（'inner'）只保留共有信息\n",
    "- ignore_index：如果指定为 True，则索引将变为从0开始递增的整数\n",
    "- 返回一个新的 DataFrame"
   ],
   "id": "826066d166c6ffaf"
  },
  {
   "metadata": {
    "ExecuteTime": {
     "end_time": "2025-09-24T09:08:46.803069Z",
     "start_time": "2025-09-24T09:08:46.783469Z"
    }
   },
   "cell_type": "code",
   "source": [
    "df1 = pd.DataFrame([[1, 2], [3, 4]], index=['p1', 'p2'], columns=list('AB'))\n",
    "df2 = pd.DataFrame([[5, 6], [7, 8]], columns=list('AC'))\n",
    "print(df1)\n",
    "print(df2)\n",
    "print('*' * 30)\n",
    "print(pd.concat((df1, df2)))"
   ],
   "id": "eaa74651d369b579",
   "outputs": [
    {
     "name": "stdout",
     "output_type": "stream",
     "text": [
      "    A  B\n",
      "p1  1  2\n",
      "p2  3  4\n",
      "   A  C\n",
      "0  5  6\n",
      "1  7  8\n",
      "******************************\n",
      "    A    B    C\n",
      "p1  1  2.0  NaN\n",
      "p2  3  4.0  NaN\n",
      "0   5  NaN  6.0\n",
      "1   7  NaN  8.0\n"
     ]
    }
   ],
   "execution_count": 54
  },
  {
   "metadata": {
    "ExecuteTime": {
     "end_time": "2025-09-24T09:08:46.848009Z",
     "start_time": "2025-09-24T09:08:46.834235Z"
    }
   },
   "cell_type": "code",
   "source": [
    "print(pd.concat((df1, df2), join='inner'))\n",
    "print('*' * 30)\n",
    "print(pd.concat([df1, df2], join='inner', ignore_index=True))"
   ],
   "id": "bacbe2007c32ad36",
   "outputs": [
    {
     "name": "stdout",
     "output_type": "stream",
     "text": [
      "    A\n",
      "p1  1\n",
      "p2  3\n",
      "0   5\n",
      "1   7\n",
      "******************************\n",
      "   A\n",
      "0  1\n",
      "1  3\n",
      "2  5\n",
      "3  7\n"
     ]
    }
   ],
   "execution_count": 55
  },
  {
   "metadata": {
    "ExecuteTime": {
     "end_time": "2025-09-24T09:08:46.893518Z",
     "start_time": "2025-09-24T09:08:46.873869Z"
    }
   },
   "cell_type": "code",
   "source": [
    "print(pd.concat([df1, df2], axis=1))\n",
    "print('*' * 30)\n",
    "print(pd.concat([df1, df2], axis=1, ignore_index=True))"
   ],
   "id": "818ffd2cf7694207",
   "outputs": [
    {
     "name": "stdout",
     "output_type": "stream",
     "text": [
      "      A    B    A    C\n",
      "p1  1.0  2.0  NaN  NaN\n",
      "p2  3.0  4.0  NaN  NaN\n",
      "0   NaN  NaN  5.0  6.0\n",
      "1   NaN  NaN  7.0  8.0\n",
      "******************************\n",
      "      0    1    2    3\n",
      "p1  1.0  2.0  NaN  NaN\n",
      "p2  3.0  4.0  NaN  NaN\n",
      "0   NaN  NaN  5.0  6.0\n",
      "1   NaN  NaN  7.0  8.0\n"
     ]
    }
   ],
   "execution_count": 56
  },
  {
   "metadata": {
    "ExecuteTime": {
     "end_time": "2025-09-24T09:08:46.924386Z",
     "start_time": "2025-09-24T09:08:46.910201Z"
    }
   },
   "cell_type": "code",
   "source": [
    "print(pd.concat([df1, df2], axis=1, join='inner'))\n",
    "print('*' * 30)\n",
    "df2.index = [0, 'p1']  # 修改索引\n",
    "print(df2)\n",
    "print(pd.concat([df1, df2], axis=1, join='inner'))"
   ],
   "id": "e9908c3467fbd06f",
   "outputs": [
    {
     "name": "stdout",
     "output_type": "stream",
     "text": [
      "Empty DataFrame\n",
      "Columns: [A, B, A, C]\n",
      "Index: []\n",
      "******************************\n",
      "    A  C\n",
      "0   5  6\n",
      "p1  7  8\n",
      "    A  B  A  C\n",
      "p1  1  2  7  8\n"
     ]
    }
   ],
   "execution_count": 57
  },
  {
   "metadata": {
    "ExecuteTime": {
     "end_time": "2025-09-24T09:08:46.970869Z",
     "start_time": "2025-09-24T09:08:46.963038Z"
    }
   },
   "cell_type": "code",
   "source": [
    "df2 = pd.DataFrame([[5, 6], [7, 8]], index=['p1', 'p2'], columns=list('AB'))\n",
    "print(pd.concat([df1, df2]))\n",
    "df2 = pd.DataFrame([[5, 6], [7, 8]], index=['p1', 'p2'], columns=list('AB'))\n",
    "print(pd.concat([df1, df2], axis=1))"
   ],
   "id": "f8946d67d4b1b8da",
   "outputs": [
    {
     "name": "stdout",
     "output_type": "stream",
     "text": [
      "    A  B\n",
      "p1  1  2\n",
      "p2  3  4\n",
      "p1  5  6\n",
      "p2  7  8\n",
      "    A  B  A  B\n",
      "p1  1  2  5  6\n",
      "p2  3  4  7  8\n"
     ]
    }
   ],
   "execution_count": 58
  },
  {
   "metadata": {},
   "cell_type": "markdown",
   "source": [
    "#### pd.merge(left, right, how='inner', on=None)\n",
    "- left：左侧 DataFrame 对象\n",
    "- right：右侧 DataFrame 对象\n",
    "- how：要执行的合并类型。'inner'为内连接，取左右两个DataFrame 的键的交集进行合并；\n",
    "- 'left'为左连接，以左侧DataFrame 的键为基准进行合并，如果左侧 DataFrame 中的键在右侧不存在，则用缺失值NaN 填充；\n",
    "- 'right'为右连接，以右侧DataFrame 的键为基准进行合并，如果右侧 DataFrame 中的键在左侧不存在，则用缺失值NaN 填充；'outer'为外连接，取左右两个DataFrame 的键的并集进行合并\n",
    "- on：指定用于连接的键（即列标签的名字），该键必须同时存在于左右两个 DataFrame 中，如果没有指定，那么将会以两个DataFrame 的列名交集做为连接键"
   ],
   "id": "75f1d177318c24c7"
  },
  {
   "metadata": {
    "ExecuteTime": {
     "end_time": "2025-09-24T09:08:47.001847Z",
     "start_time": "2025-09-24T09:08:46.995377Z"
    }
   },
   "cell_type": "code",
   "source": [
    "d1 = {'name': ['Tom', 'Bob', 'Jack'], 'age': [18, 17,19], 'weight': [65, 66, 67]}\n",
    "df1 = pd.DataFrame(data=d1)\n",
    "d2 = {'name': ['Tom', 'Jack'], 'height': [168, 187],'weight': [65, 68]}\n",
    "df2 = pd.DataFrame(data=d2)\n",
    "print(df1)\n",
    "print(df2)"
   ],
   "id": "86abb07a90b41429",
   "outputs": [
    {
     "name": "stdout",
     "output_type": "stream",
     "text": [
      "   name  age  weight\n",
      "0   Tom   18      65\n",
      "1   Bob   17      66\n",
      "2  Jack   19      67\n",
      "   name  height  weight\n",
      "0   Tom     168      65\n",
      "1  Jack     187      68\n"
     ]
    }
   ],
   "execution_count": 59
  },
  {
   "metadata": {
    "ExecuteTime": {
     "end_time": "2025-09-24T09:08:47.063678Z",
     "start_time": "2025-09-24T09:08:47.040997Z"
    }
   },
   "cell_type": "code",
   "source": [
    "print(pd.merge(df1, df2))\n",
    "print(pd.merge(df1, df2, how='inner'))\n",
    "print(pd.merge(df1, df2, how='inner', on=['name','weight']))"
   ],
   "id": "a2c74c554afa1e29",
   "outputs": [
    {
     "name": "stdout",
     "output_type": "stream",
     "text": [
      "  name  age  weight  height\n",
      "0  Tom   18      65     168\n",
      "  name  age  weight  height\n",
      "0  Tom   18      65     168\n",
      "  name  age  weight  height\n",
      "0  Tom   18      65     168\n"
     ]
    }
   ],
   "execution_count": 60
  },
  {
   "metadata": {
    "ExecuteTime": {
     "end_time": "2025-09-24T09:08:47.110546Z",
     "start_time": "2025-09-24T09:08:47.096346Z"
    }
   },
   "cell_type": "code",
   "source": "print(pd.merge(df1, df2, how='outer', on=['name','weight']))",
   "id": "54c46447a5666b55",
   "outputs": [
    {
     "name": "stdout",
     "output_type": "stream",
     "text": [
      "   name   age  weight  height\n",
      "0   Tom  18.0      65   168.0\n",
      "1   Bob  17.0      66     NaN\n",
      "2  Jack  19.0      67     NaN\n",
      "3  Jack   NaN      68   187.0\n"
     ]
    }
   ],
   "execution_count": 61
  },
  {
   "metadata": {
    "ExecuteTime": {
     "end_time": "2025-09-24T09:08:47.140957Z",
     "start_time": "2025-09-24T09:08:47.133813Z"
    }
   },
   "cell_type": "code",
   "source": "print(pd.merge(df1, df2, how='left', on=['name','weight']))",
   "id": "cb071ee8308d18e9",
   "outputs": [
    {
     "name": "stdout",
     "output_type": "stream",
     "text": [
      "   name  age  weight  height\n",
      "0   Tom   18      65   168.0\n",
      "1   Bob   17      66     NaN\n",
      "2  Jack   19      67     NaN\n"
     ]
    }
   ],
   "execution_count": 62
  },
  {
   "metadata": {
    "ExecuteTime": {
     "end_time": "2025-09-24T09:08:47.187237Z",
     "start_time": "2025-09-24T09:08:47.167757Z"
    }
   },
   "cell_type": "code",
   "source": "print(pd.merge(df1, df2, how='right', on=['name','weight']))",
   "id": "2178cf76cf8cf87e",
   "outputs": [
    {
     "name": "stdout",
     "output_type": "stream",
     "text": [
      "   name   age  weight  height\n",
      "0   Tom  18.0      65     168\n",
      "1  Jack   NaN      68     187\n"
     ]
    }
   ],
   "execution_count": 63
  },
  {
   "metadata": {
    "ExecuteTime": {
     "end_time": "2025-09-24T09:08:47.249794Z",
     "start_time": "2025-09-24T09:08:47.241121Z"
    }
   },
   "cell_type": "code",
   "source": [
    "print(pd.merge(df1, df2, how='inner', on='name'))\n",
    "print(pd.merge(df1, df2, how='right', on='name'))"
   ],
   "id": "e37684647b9153ce",
   "outputs": [
    {
     "name": "stdout",
     "output_type": "stream",
     "text": [
      "   name  age  weight_x  height  weight_y\n",
      "0   Tom   18        65     168        65\n",
      "1  Jack   19        67     187        68\n",
      "   name  age  weight_x  height  weight_y\n",
      "0   Tom   18        65     168        65\n",
      "1  Jack   19        67     187        68\n"
     ]
    }
   ],
   "execution_count": 64
  },
  {
   "metadata": {
    "ExecuteTime": {
     "end_time": "2025-09-24T09:08:47.313841Z",
     "start_time": "2025-09-24T09:08:47.295101Z"
    }
   },
   "cell_type": "code",
   "source": "print(pd.merge(df1, df2, how='right', on='weight'))",
   "id": "a3b7ff448e37e931",
   "outputs": [
    {
     "name": "stdout",
     "output_type": "stream",
     "text": [
      "  name_x   age  weight name_y  height\n",
      "0    Tom  18.0      65    Tom     168\n",
      "1    NaN   NaN      68   Jack     187\n"
     ]
    }
   ],
   "execution_count": 65
  },
  {
   "metadata": {
    "ExecuteTime": {
     "end_time": "2025-09-24T09:08:47.360978Z",
     "start_time": "2025-09-24T09:08:47.346200Z"
    }
   },
   "cell_type": "code",
   "source": "print(pd.merge(df1, df2, how='left', on='weight'))",
   "id": "4a08f237ff24a037",
   "outputs": [
    {
     "name": "stdout",
     "output_type": "stream",
     "text": [
      "  name_x  age  weight name_y  height\n",
      "0    Tom   18      65    Tom   168.0\n",
      "1    Bob   17      66    NaN     NaN\n",
      "2   Jack   19      67    NaN     NaN\n"
     ]
    }
   ],
   "execution_count": 66
  },
  {
   "metadata": {
    "ExecuteTime": {
     "end_time": "2025-09-24T09:08:47.438708Z",
     "start_time": "2025-09-24T09:08:47.421930Z"
    }
   },
   "cell_type": "code",
   "source": "print(pd.merge(df1, df2, how='outer', on='weight'))",
   "id": "9f26433d60fddb18",
   "outputs": [
    {
     "name": "stdout",
     "output_type": "stream",
     "text": [
      "  name_x   age  weight name_y  height\n",
      "0    Tom  18.0      65    Tom   168.0\n",
      "1    Bob  17.0      66    NaN     NaN\n",
      "2   Jack  19.0      67    NaN     NaN\n",
      "3    NaN   NaN      68   Jack   187.0\n"
     ]
    }
   ],
   "execution_count": 67
  }
 ],
 "metadata": {
  "kernelspec": {
   "display_name": "Python 3",
   "language": "python",
   "name": "python3"
  },
  "language_info": {
   "codemirror_mode": {
    "name": "ipython",
    "version": 2
   },
   "file_extension": ".py",
   "mimetype": "text/x-python",
   "name": "python",
   "nbconvert_exporter": "python",
   "pygments_lexer": "ipython2",
   "version": "2.7.6"
  }
 },
 "nbformat": 4,
 "nbformat_minor": 5
}
