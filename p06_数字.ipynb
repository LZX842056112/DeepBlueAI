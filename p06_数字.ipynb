{
 "cells": [
  {
   "metadata": {
    "ExecuteTime": {
     "end_time": "2025-09-30T05:43:08.182721Z",
     "start_time": "2025-09-30T05:43:08.171433Z"
    }
   },
   "cell_type": "code",
   "source": "import math",
   "id": "d96b4c3fde645270",
   "outputs": [],
   "execution_count": 1
  },
  {
   "metadata": {},
   "cell_type": "markdown",
   "source": [
    "#### 数字（Number）\n",
    "- 特性：不可变，不是序列\n",
    "- 分类：整数、浮点数、布尔型、复数\n",
    "#### 整数（int）\n",
    "- 包括正整数，负整数和零，如：789，-789，0\n",
    "#### 浮点数（float）\n",
    "- 和数学中的小数类似，如：7.89，8.0\n",
    "- 科学计数法认定为浮点数，如：3e4，3E4\n",
    "#### 布尔型（bool）\n",
    "- True 和 False 定义成了关键字，它们被当成数字时，大小分别为1和0\n",
    "#### 复数（complex）\n",
    "- 实部+虚部，和数学中 a+bi 是类似的，只不过这里的虚部是以 j 或者 J 结尾，\n",
    "- 如：a = 3 + 4j 、 b = 1J（注意：j 或 J 前面的系数不能省略）"
   ],
   "id": "cdbd89438eeef516"
  },
  {
   "metadata": {},
   "cell_type": "markdown",
   "source": [
    "#### type(object)\n",
    "- 返回 object 的类型"
   ],
   "id": "61162ed6ffcd6647"
  },
  {
   "metadata": {
    "ExecuteTime": {
     "end_time": "2025-09-30T05:43:08.198167Z",
     "start_time": "2025-09-30T05:43:08.182721Z"
    }
   },
   "cell_type": "code",
   "source": [
    "print(type('123'))\n",
    "print(str)\n",
    "print(type(3 + 3j))\n",
    "print(float)"
   ],
   "id": "f7ed2e487cfa36ba",
   "outputs": [
    {
     "name": "stdout",
     "output_type": "stream",
     "text": [
      "<class 'str'>\n",
      "<class 'str'>\n",
      "<class 'complex'>\n",
      "<class 'float'>\n"
     ]
    }
   ],
   "execution_count": 2
  },
  {
   "metadata": {},
   "cell_type": "markdown",
   "source": [
    "#### int([x])\n",
    "- x：接收数字或特定字符串\n",
    "- 将 x 转换为十进制整数并返回，如果没有指定 x，则返回 0"
   ],
   "id": "9c2bbad93b9bf41b"
  },
  {
   "cell_type": "code",
   "id": "initial_id",
   "metadata": {
    "collapsed": true,
    "ExecuteTime": {
     "end_time": "2025-09-30T05:43:08.213573Z",
     "start_time": "2025-09-30T05:43:08.198167Z"
    }
   },
   "source": [
    "print(int())  # 0\n",
    "print(int(3))  # 3\n",
    "print(int(-3))  # -3\n",
    "print(int(3.99))  # 3\n",
    "print(int(-3.99))  # -3\n",
    "print(int(True))  # 1\n",
    "print(int(False))  # 0\n",
    "print(int('12'))  # 12\n",
    "print(int('-12'))  # -12\n",
    "print(type(int('-12')))\n",
    "# 当传的是字符串时, 必须是整数形式的\n",
    "# ValueError: invalid literal for int() with base 10: '12.1'\n",
    "# int('12.1')"
   ],
   "outputs": [
    {
     "name": "stdout",
     "output_type": "stream",
     "text": [
      "0\n",
      "3\n",
      "-3\n",
      "3\n",
      "-3\n",
      "1\n",
      "0\n",
      "12\n",
      "-12\n",
      "<class 'int'>\n"
     ]
    }
   ],
   "execution_count": 3
  },
  {
   "metadata": {
    "ExecuteTime": {
     "end_time": "2025-09-30T05:43:08.228711Z",
     "start_time": "2025-09-30T05:43:08.214772Z"
    }
   },
   "cell_type": "code",
   "source": [
    "print(round(3.1415926, 3))\n",
    "print(round(3.5))"
   ],
   "id": "a685d9df29c107e4",
   "outputs": [
    {
     "name": "stdout",
     "output_type": "stream",
     "text": [
      "3.142\n",
      "4\n"
     ]
    }
   ],
   "execution_count": 4
  },
  {
   "metadata": {
    "ExecuteTime": {
     "end_time": "2025-09-30T05:43:08.244289Z",
     "start_time": "2025-09-30T05:43:08.230Z"
    }
   },
   "cell_type": "code",
   "source": [
    "print(math.pi)\n",
    "print(math.e)\n",
    "print(math.ceil(7.1))\n",
    "print(math.floor(7.9))\n",
    "print(math.sqrt(16))\n",
    "# 返回输入值的平方根的整数部分。\n",
    "print(math.isqrt(16))"
   ],
   "id": "512efc5d9efa92d",
   "outputs": [
    {
     "name": "stdout",
     "output_type": "stream",
     "text": [
      "3.141592653589793\n",
      "2.718281828459045\n",
      "8\n",
      "7\n",
      "4.0\n",
      "4\n"
     ]
    }
   ],
   "execution_count": 5
  },
  {
   "metadata": {
    "ExecuteTime": {
     "end_time": "2025-09-30T05:43:08.260220Z",
     "start_time": "2025-09-30T05:43:08.244289Z"
    }
   },
   "cell_type": "code",
   "source": [
    "print(math.sin(math.pi / 6))\n",
    "print(math.cos(math.pi / 3))\n",
    "print(math.tan(math.pi / 4))\n",
    "print(math.asin(0.5))\n",
    "print(math.acos(0.5))\n",
    "print(math.atan(0.5))"
   ],
   "id": "336d490181200339",
   "outputs": [
    {
     "name": "stdout",
     "output_type": "stream",
     "text": [
      "0.49999999999999994\n",
      "0.5000000000000001\n",
      "0.9999999999999999\n",
      "0.5235987755982989\n",
      "1.0471975511965979\n",
      "0.4636476090008061\n"
     ]
    }
   ],
   "execution_count": 6
  },
  {
   "metadata": {
    "ExecuteTime": {
     "end_time": "2025-09-30T05:43:08.275786Z",
     "start_time": "2025-09-30T05:43:08.261659Z"
    }
   },
   "cell_type": "code",
   "source": [
    "# x和y的最大公约数\n",
    "print(math.gcd(12, 9))\n",
    "# 返回x的以给定底数为底的对数值。\n",
    "print(math.log(math.e ** 3))"
   ],
   "id": "9cabf5acb39a90b",
   "outputs": [
    {
     "name": "stdout",
     "output_type": "stream",
     "text": [
      "3\n",
      "3.0\n"
     ]
    }
   ],
   "execution_count": 7
  },
  {
   "metadata": {},
   "cell_type": "markdown",
   "source": [
    "#### float([x])\n",
    "- x：接收数字或特定字符串\n",
    "- 将 x 转换为浮点数并返回，如果没有指定 x，则返回 0.0"
   ],
   "id": "be22f007bb743816"
  },
  {
   "metadata": {
    "ExecuteTime": {
     "end_time": "2025-09-30T05:43:08.291431Z",
     "start_time": "2025-09-30T05:43:08.276983Z"
    }
   },
   "cell_type": "code",
   "source": [
    "print(float())  # 0.0\n",
    "print(float(3))  # 3.0\n",
    "print(float(-3))  # -3.0\n",
    "print(float(3.99))  # 3.99\n",
    "print(float(-3.99))  # -3.99\n",
    "print(float(True))  # 1.0\n",
    "print(float(False))  # 0.0\n",
    "print(float('12'))  # 12.0\n",
    "print(float('-12'))  # -12.0\n",
    "print(float('12.1'))  # 12.1\n",
    "print(type(float('12.1')))\n",
    "print(int(float('12.1')))"
   ],
   "id": "38f51001c2449363",
   "outputs": [
    {
     "name": "stdout",
     "output_type": "stream",
     "text": [
      "0.0\n",
      "3.0\n",
      "-3.0\n",
      "3.99\n",
      "-3.99\n",
      "1.0\n",
      "0.0\n",
      "12.0\n",
      "-12.0\n",
      "12.1\n",
      "<class 'float'>\n",
      "12\n"
     ]
    }
   ],
   "execution_count": 8
  },
  {
   "metadata": {},
   "cell_type": "markdown",
   "source": [
    "#### bool([x])\n",
    "- 根据指定的 x，返回布尔值\n",
    "- 如果没有指定 x，则返回 False"
   ],
   "id": "2e2a7677c38a8752"
  },
  {
   "metadata": {
    "ExecuteTime": {
     "end_time": "2025-09-30T05:43:08.307446Z",
     "start_time": "2025-09-30T05:43:08.293750Z"
    }
   },
   "cell_type": "code",
   "source": [
    "\"\"\"\n",
    "数字0, 0.0, 0j, False,\n",
    "空字符串, 空列表, 空元组,\n",
    "空字典, 空集合, 关键字None\n",
    "...\n",
    "以上这些数据bool判定为False,\n",
    "其它通常判定为True\n",
    "\"\"\"\n",
    "print(bool())\n",
    "print(bool(0))\n",
    "print(bool(0.0))\n",
    "print(bool(0j))\n",
    "print(bool(False))\n",
    "print(bool(''))\n",
    "print(bool([]))\n",
    "print(bool(()))\n",
    "print(bool({}))\n",
    "print(bool(set()))\n",
    "print(bool(None))\n",
    "print(bool(' ')) # True\n",
    "print(bool('None')) # True\n",
    "print(bool('False')) # True\n",
    "print(bool('12'))"
   ],
   "id": "54f9ba5b0c81d2a6",
   "outputs": [
    {
     "name": "stdout",
     "output_type": "stream",
     "text": [
      "False\n",
      "False\n",
      "False\n",
      "False\n",
      "False\n",
      "False\n",
      "False\n",
      "False\n",
      "False\n",
      "False\n",
      "False\n",
      "True\n",
      "True\n",
      "True\n",
      "True\n"
     ]
    }
   ],
   "execution_count": 9
  },
  {
   "metadata": {},
   "cell_type": "markdown",
   "source": [
    "#### complex([real[, imag]])\n",
    "- 返回一个 real + imag * 1j 的复数\n",
    "- 如果第一个参数是字符串，它将被解释为复数，此时不能传第二个参数\n",
    "- 如果没有指定实参，则返回 0j"
   ],
   "id": "326572a8ef2f7374"
  },
  {
   "metadata": {
    "ExecuteTime": {
     "end_time": "2025-09-30T05:43:08.322486Z",
     "start_time": "2025-09-30T05:43:08.307446Z"
    }
   },
   "cell_type": "code",
   "source": [
    "print(complex()) # 0j\n",
    "print(complex(3.2, 4)) # (3.2+4j)\n",
    "print(complex(3.2)) # (3.2+0j)\n",
    "print(complex('3.2')) # (3.2+0j)\n",
    "print(complex(\"3.2+4j\")) # (3.2+4j)\n",
    "print(complex(3, 4j))"
   ],
   "id": "923ead07271bff96",
   "outputs": [
    {
     "name": "stdout",
     "output_type": "stream",
     "text": [
      "0j\n",
      "(3.2+4j)\n",
      "(3.2+0j)\n",
      "(3.2+0j)\n",
      "(3.2+4j)\n",
      "(-1+0j)\n"
     ]
    }
   ],
   "execution_count": 10
  }
 ],
 "metadata": {
  "kernelspec": {
   "display_name": "Python 3",
   "language": "python",
   "name": "python3"
  },
  "language_info": {
   "codemirror_mode": {
    "name": "ipython",
    "version": 2
   },
   "file_extension": ".py",
   "mimetype": "text/x-python",
   "name": "python",
   "nbconvert_exporter": "python",
   "pygments_lexer": "ipython2",
   "version": "2.7.6"
  }
 },
 "nbformat": 4,
 "nbformat_minor": 5
}
