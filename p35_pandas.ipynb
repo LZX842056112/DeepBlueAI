{
 "cells": [
  {
   "metadata": {
    "ExecuteTime": {
     "end_time": "2025-09-25T15:03:06.614898Z",
     "start_time": "2025-09-25T15:03:06.322732Z"
    }
   },
   "cell_type": "code",
   "source": [
    "import numpy as np\n",
    "import pandas as pd"
   ],
   "id": "3f689713e66dfde3",
   "outputs": [],
   "execution_count": 1
  },
  {
   "metadata": {},
   "cell_type": "markdown",
   "source": [
    "#### DataFrame.dropna(axis=0, how='any', thresh=None, subset=None,inplace=False)\n",
    "- 删除缺失值所在的行或列\n",
    "- axis：0表示删除包含缺失值的行，1表示删除包含缺失值的列\n",
    "- how：'any'表示如果存在任何缺失值，则删除该行或列；'all'表示如果所有值都是缺失值，则删除该行或列\n",
    "- thresh：只保留至少n个非NaN值的行或列，n由该参数指定\n",
    "- subset：定义要根据哪些列（行）中的缺失值来删除行（列），和axis成行列对应关系\n",
    "- inplace：如果为 True 表示对原数据操作，返回 None"
   ],
   "id": "553cdee6d35932da"
  },
  {
   "cell_type": "code",
   "id": "initial_id",
   "metadata": {
    "collapsed": true,
    "ExecuteTime": {
     "end_time": "2025-09-25T15:03:06.630618Z",
     "start_time": "2025-09-25T15:03:06.615920Z"
    }
   },
   "source": [
    "d = {'name': ['Tom', np.nan, 'Bob'], \n",
    "     'age': [np.nan, np.nan, 19], \n",
    "     'height': [177, 182, 179]}\n",
    "df = pd.DataFrame(data=d)\n",
    "print(df)"
   ],
   "outputs": [
    {
     "name": "stdout",
     "output_type": "stream",
     "text": [
      "  name   age  height\n",
      "0  Tom   NaN     177\n",
      "1  NaN   NaN     182\n",
      "2  Bob  19.0     179\n"
     ]
    }
   ],
   "execution_count": 2
  },
  {
   "metadata": {
    "ExecuteTime": {
     "end_time": "2025-09-25T15:03:06.661163Z",
     "start_time": "2025-09-25T15:03:06.630618Z"
    }
   },
   "cell_type": "code",
   "source": [
    "# 删除缺失值所在的行\n",
    "print(df.dropna())\n",
    "print('*' * 30)\n",
    "print(df.dropna(how='any'))\n",
    "print('*' * 30)\n",
    "# 删除缺失值所在的列\n",
    "print(df.dropna(axis=1))\n",
    "print('*' * 30)\n",
    "print(df.dropna(axis=1, how='any'))"
   ],
   "id": "213b6d638013f113",
   "outputs": [
    {
     "name": "stdout",
     "output_type": "stream",
     "text": [
      "  name   age  height\n",
      "2  Bob  19.0     179\n",
      "******************************\n",
      "  name   age  height\n",
      "2  Bob  19.0     179\n",
      "******************************\n",
      "   height\n",
      "0     177\n",
      "1     182\n",
      "2     179\n",
      "******************************\n",
      "   height\n",
      "0     177\n",
      "1     182\n",
      "2     179\n"
     ]
    }
   ],
   "execution_count": 3
  },
  {
   "metadata": {
    "ExecuteTime": {
     "end_time": "2025-09-25T15:03:06.676840Z",
     "start_time": "2025-09-25T15:03:06.662357Z"
    }
   },
   "cell_type": "code",
   "source": [
    "# 修改数据\n",
    "df.loc[2, 'age'] = np.nan\n",
    "df.loc[1, 'height'] = np.nan\n",
    "print(df)\n",
    "print('*' * 30)\n",
    "# 删除所有值都是缺失值的行\n",
    "print(df.dropna(how='all'))\n",
    "print('*' * 30)\n",
    "print(df.dropna(axis=1, how='all'))"
   ],
   "id": "c3f54b05badba6ca",
   "outputs": [
    {
     "name": "stdout",
     "output_type": "stream",
     "text": [
      "  name  age  height\n",
      "0  Tom  NaN   177.0\n",
      "1  NaN  NaN     NaN\n",
      "2  Bob  NaN   179.0\n",
      "******************************\n",
      "  name  age  height\n",
      "0  Tom  NaN   177.0\n",
      "2  Bob  NaN   179.0\n",
      "******************************\n",
      "  name  height\n",
      "0  Tom   177.0\n",
      "1  NaN     NaN\n",
      "2  Bob   179.0\n"
     ]
    }
   ],
   "execution_count": 4
  },
  {
   "metadata": {},
   "cell_type": "markdown",
   "source": "#### threshold 值，门槛",
   "id": "22bf263307e2319"
  },
  {
   "metadata": {
    "ExecuteTime": {
     "end_time": "2025-09-25T15:03:06.692117Z",
     "start_time": "2025-09-25T15:03:06.678053Z"
    }
   },
   "cell_type": "code",
   "source": [
    "df.loc[2, 'age'] = 19\n",
    "df.loc[1, 'height'] = 182\n",
    "print(df)\n",
    "print('*' * 30)\n",
    "# 只保留至少2个非NaN值的列\n",
    "print(df.dropna(thresh=2))\n",
    "print('*' * 30)\n",
    "print(df.dropna(axis=1, thresh=2))"
   ],
   "id": "a44d745391d48fc9",
   "outputs": [
    {
     "name": "stdout",
     "output_type": "stream",
     "text": [
      "  name   age  height\n",
      "0  Tom   NaN   177.0\n",
      "1  NaN   NaN   182.0\n",
      "2  Bob  19.0   179.0\n",
      "******************************\n",
      "  name   age  height\n",
      "0  Tom   NaN   177.0\n",
      "2  Bob  19.0   179.0\n",
      "******************************\n",
      "  name  height\n",
      "0  Tom   177.0\n",
      "1  NaN   182.0\n",
      "2  Bob   179.0\n"
     ]
    }
   ],
   "execution_count": 5
  },
  {
   "metadata": {
    "ExecuteTime": {
     "end_time": "2025-09-25T15:03:06.708016Z",
     "start_time": "2025-09-25T15:03:06.693301Z"
    }
   },
   "cell_type": "code",
   "source": [
    "# 根据'name'、'height'列中的缺失值来删除行\n",
    "print(df.dropna(subset=['name', 'height']))\n",
    "print('*' * 30)\n",
    "# 根据0、2行中的缺失值来删除列\n",
    "print(df.dropna(axis=1, subset=[0, 2]))"
   ],
   "id": "4f91fbf6fba7e920",
   "outputs": [
    {
     "name": "stdout",
     "output_type": "stream",
     "text": [
      "  name   age  height\n",
      "0  Tom   NaN   177.0\n",
      "2  Bob  19.0   179.0\n",
      "******************************\n",
      "  name  height\n",
      "0  Tom   177.0\n",
      "1  NaN   182.0\n",
      "2  Bob   179.0\n"
     ]
    }
   ],
   "execution_count": 6
  },
  {
   "metadata": {
    "ExecuteTime": {
     "end_time": "2025-09-25T15:03:06.724139Z",
     "start_time": "2025-09-25T15:03:06.708016Z"
    }
   },
   "cell_type": "code",
   "source": [
    "print(df)\n",
    "print('*' * 30)\n",
    "# 对原数据操作\n",
    "df.dropna(axis=1, inplace=True)\n",
    "print(df)"
   ],
   "id": "cfde200ec50cb4f4",
   "outputs": [
    {
     "name": "stdout",
     "output_type": "stream",
     "text": [
      "  name   age  height\n",
      "0  Tom   NaN   177.0\n",
      "1  NaN   NaN   182.0\n",
      "2  Bob  19.0   179.0\n",
      "******************************\n",
      "   height\n",
      "0   177.0\n",
      "1   182.0\n",
      "2   179.0\n"
     ]
    }
   ],
   "execution_count": 7
  },
  {
   "metadata": {},
   "cell_type": "markdown",
   "source": [
    "#### DataFrame.fillna(value=None, method=None, axis=None, inplace=False,limit=None)\n",
    "- value：需要填充的数据\n",
    "- method：填充方式。'pad'/'ffill' 表示用前一个非缺失值去填充该缺失值；'backfill'/'bfill' 表示用后一个非缺失值填充该缺失值\n",
    "- axis：指定填充方向\n",
    "- inplace：如果为 True 表示对原数据操作，返回 None\n",
    "- limit：限制填充个数"
   ],
   "id": "fc24ec2939b8cf61"
  },
  {
   "metadata": {
    "ExecuteTime": {
     "end_time": "2025-09-25T15:03:06.739208Z",
     "start_time": "2025-09-25T15:03:06.725405Z"
    }
   },
   "cell_type": "code",
   "source": [
    "df = pd.DataFrame([[np.nan, 2, np.nan, 0],\n",
    "                   [3, 4, np.nan, 1],\n",
    "                   [np.nan, np.nan, np.nan, np.nan],\n",
    "                   [np.nan, 3, np.nan, 4]],\n",
    "                  columns=list(\"ABCD\"))\n",
    "print(df)\n",
    "print('*' * 30)\n",
    "# 用标量填充：将所有NaN填充为0\n",
    "print(df.fillna(0))"
   ],
   "id": "fff87958a5e1535d",
   "outputs": [
    {
     "name": "stdout",
     "output_type": "stream",
     "text": [
      "     A    B   C    D\n",
      "0  NaN  2.0 NaN  0.0\n",
      "1  3.0  4.0 NaN  1.0\n",
      "2  NaN  NaN NaN  NaN\n",
      "3  NaN  3.0 NaN  4.0\n",
      "******************************\n",
      "     A    B    C    D\n",
      "0  0.0  2.0  0.0  0.0\n",
      "1  3.0  4.0  0.0  1.0\n",
      "2  0.0  0.0  0.0  0.0\n",
      "3  0.0  3.0  0.0  4.0\n"
     ]
    }
   ],
   "execution_count": 8
  },
  {
   "metadata": {
    "ExecuteTime": {
     "end_time": "2025-09-25T15:03:06.753907Z",
     "start_time": "2025-09-25T15:03:06.740423Z"
    }
   },
   "cell_type": "code",
   "source": [
    "# 用字典填充：指定不同列的NaN填充值\n",
    "dic = {'A': 6, 'B': 7}\n",
    "print(df.fillna(dic))\n",
    "print('*' * 30)\n",
    "# 指定'A'列填充为6,'C'列填充7, 且限制每列最多填充2个\n",
    "print(df.fillna({'A': 6, 'C': 7}, limit=2))"
   ],
   "id": "6216499d58e1ecac",
   "outputs": [
    {
     "name": "stdout",
     "output_type": "stream",
     "text": [
      "     A    B   C    D\n",
      "0  6.0  2.0 NaN  0.0\n",
      "1  3.0  4.0 NaN  1.0\n",
      "2  6.0  7.0 NaN  NaN\n",
      "3  6.0  3.0 NaN  4.0\n",
      "******************************\n",
      "     A    B    C    D\n",
      "0  6.0  2.0  7.0  0.0\n",
      "1  3.0  4.0  7.0  1.0\n",
      "2  6.0  NaN  NaN  NaN\n",
      "3  NaN  3.0  NaN  4.0\n"
     ]
    }
   ],
   "execution_count": 9
  },
  {
   "metadata": {
    "ExecuteTime": {
     "end_time": "2025-09-25T15:03:06.769809Z",
     "start_time": "2025-09-25T15:03:06.755199Z"
    }
   },
   "cell_type": "code",
   "source": [
    "# 当使用DataFrame填充时，替换会沿着相同的行列索引进行\n",
    "np.random.seed(3)\n",
    "arr = np.random.randint(100, 200, size=(3, 5))\n",
    "df2 = pd.DataFrame(arr, columns=list(\"DHATC\"))\n",
    "print(df2)\n",
    "print('*' * 30)\n",
    "print(df.fillna(df2))"
   ],
   "id": "a0114663417c69a7",
   "outputs": [
    {
     "name": "stdout",
     "output_type": "stream",
     "text": [
      "     D    H    A    T    C\n",
      "0  124  103  156  172  100\n",
      "1  121  119  174  141  110\n",
      "2  121  138  196  120  144\n",
      "******************************\n",
      "       A    B      C      D\n",
      "0  156.0  2.0  100.0    0.0\n",
      "1    3.0  4.0  110.0    1.0\n",
      "2  196.0  NaN  144.0  121.0\n",
      "3    NaN  3.0    NaN    4.0\n"
     ]
    }
   ],
   "execution_count": 10
  },
  {
   "metadata": {
    "ExecuteTime": {
     "end_time": "2025-09-25T15:03:06.785840Z",
     "start_time": "2025-09-25T15:03:06.769809Z"
    }
   },
   "cell_type": "code",
   "source": [
    "# 用前一个非缺失值去填充该缺失值\n",
    "print(df.fillna(method='pad'))\n",
    "print(df.fillna(method='ffill', axis=1))"
   ],
   "id": "2d5b0882412a3de2",
   "outputs": [
    {
     "name": "stdout",
     "output_type": "stream",
     "text": [
      "     A    B   C    D\n",
      "0  NaN  2.0 NaN  0.0\n",
      "1  3.0  4.0 NaN  1.0\n",
      "2  3.0  4.0 NaN  1.0\n",
      "3  3.0  3.0 NaN  4.0\n",
      "     A    B    C    D\n",
      "0  NaN  2.0  2.0  0.0\n",
      "1  3.0  4.0  4.0  1.0\n",
      "2  NaN  NaN  NaN  NaN\n",
      "3  NaN  3.0  3.0  4.0\n"
     ]
    }
   ],
   "execution_count": 11
  },
  {
   "metadata": {
    "ExecuteTime": {
     "end_time": "2025-09-25T15:03:06.801610Z",
     "start_time": "2025-09-25T15:03:06.786837Z"
    }
   },
   "cell_type": "code",
   "source": "print(df)",
   "id": "ebc736dc842fbf80",
   "outputs": [
    {
     "name": "stdout",
     "output_type": "stream",
     "text": [
      "     A    B   C    D\n",
      "0  NaN  2.0 NaN  0.0\n",
      "1  3.0  4.0 NaN  1.0\n",
      "2  NaN  NaN NaN  NaN\n",
      "3  NaN  3.0 NaN  4.0\n"
     ]
    }
   ],
   "execution_count": 12
  },
  {
   "metadata": {
    "ExecuteTime": {
     "end_time": "2025-09-25T15:03:06.816762Z",
     "start_time": "2025-09-25T15:03:06.801610Z"
    }
   },
   "cell_type": "code",
   "source": [
    "# 用后一个非缺失值去填充该缺失值\n",
    "print(df.fillna(method='backfill'))\n",
    "print(df.fillna(method='bfill', axis=1))"
   ],
   "id": "46001d4410f6bcaf",
   "outputs": [
    {
     "name": "stdout",
     "output_type": "stream",
     "text": [
      "     A    B   C    D\n",
      "0  3.0  2.0 NaN  0.0\n",
      "1  3.0  4.0 NaN  1.0\n",
      "2  NaN  3.0 NaN  4.0\n",
      "3  NaN  3.0 NaN  4.0\n",
      "     A    B    C    D\n",
      "0  2.0  2.0  0.0  0.0\n",
      "1  3.0  4.0  1.0  1.0\n",
      "2  NaN  NaN  NaN  NaN\n",
      "3  3.0  3.0  4.0  4.0\n"
     ]
    }
   ],
   "execution_count": 13
  },
  {
   "metadata": {},
   "cell_type": "markdown",
   "source": [
    "#### DataFrame.info(verbose=None, show_counts=None)\n",
    "- 打印 DataFrame 的简明摘要\n",
    "- verbose：是否打印完整的摘要，为None时表示打印完整摘要，为False则打印简短摘要\n",
    "- show_counts：是否显示Non-Null Count，为None时表示显示，为False则不显示"
   ],
   "id": "cbce950f05d5fb0c"
  },
  {
   "metadata": {
    "ExecuteTime": {
     "end_time": "2025-09-25T15:03:06.831786Z",
     "start_time": "2025-09-25T15:03:06.816762Z"
    }
   },
   "cell_type": "code",
   "source": [
    "df = pd.DataFrame(data={'name': ['Tom', 'Bob', np.nan],\n",
    "                        'age': [18, 19, 17],\n",
    "                        'height': [167, 177, 178]},\n",
    "                  index=['n1', 'n2', 'n3'])\n",
    "print(df)\n",
    "print('*' * 30)\n",
    "df.info()"
   ],
   "id": "3a7c3b3c847ff217",
   "outputs": [
    {
     "name": "stdout",
     "output_type": "stream",
     "text": [
      "   name  age  height\n",
      "n1  Tom   18     167\n",
      "n2  Bob   19     177\n",
      "n3  NaN   17     178\n",
      "******************************\n",
      "<class 'pandas.core.frame.DataFrame'>\n",
      "Index: 3 entries, n1 to n3\n",
      "Data columns (total 3 columns):\n",
      " #   Column  Non-Null Count  Dtype \n",
      "---  ------  --------------  ----- \n",
      " 0   name    2 non-null      object\n",
      " 1   age     3 non-null      int64 \n",
      " 2   height  3 non-null      int64 \n",
      "dtypes: int64(2), object(1)\n",
      "memory usage: 96.0+ bytes\n"
     ]
    }
   ],
   "execution_count": 14
  },
  {
   "metadata": {
    "ExecuteTime": {
     "end_time": "2025-09-25T15:03:06.847460Z",
     "start_time": "2025-09-25T15:03:06.832706Z"
    }
   },
   "cell_type": "code",
   "source": "df.info(verbose=False)",
   "id": "9fbc682967f80bf",
   "outputs": [
    {
     "name": "stdout",
     "output_type": "stream",
     "text": [
      "<class 'pandas.core.frame.DataFrame'>\n",
      "Index: 3 entries, n1 to n3\n",
      "Columns: 3 entries, name to height\n",
      "dtypes: int64(2), object(1)\n",
      "memory usage: 96.0+ bytes\n"
     ]
    }
   ],
   "execution_count": 15
  },
  {
   "metadata": {
    "ExecuteTime": {
     "end_time": "2025-09-25T15:03:06.863213Z",
     "start_time": "2025-09-25T15:03:06.847460Z"
    }
   },
   "cell_type": "code",
   "source": "df.info(show_counts=False)",
   "id": "6e9a6d2243d5c326",
   "outputs": [
    {
     "name": "stdout",
     "output_type": "stream",
     "text": [
      "<class 'pandas.core.frame.DataFrame'>\n",
      "Index: 3 entries, n1 to n3\n",
      "Data columns (total 3 columns):\n",
      " #   Column  Dtype \n",
      "---  ------  ----- \n",
      " 0   name    object\n",
      " 1   age     int64 \n",
      " 2   height  int64 \n",
      "dtypes: int64(2), object(1)\n",
      "memory usage: 96.0+ bytes\n"
     ]
    }
   ],
   "execution_count": 16
  },
  {
   "metadata": {},
   "cell_type": "markdown",
   "source": [
    "#### DataFrame.describe(percentiles=None, include=None, exclude=None)\n",
    "- 返回描述性统计\n",
    "- percentiles：默认值为 [.25, .5, .75]，它返回第 25、第 50 和第 75个百分位数\n",
    "- include：包含在结果中的数据类型；默认None表示结果将包括所有数字列；'all'表示包括所有列；'number'表示包括所有数字列；'object'表示包括所有字符列\n",
    "- exclude：不包含在结果中的数据类型；默认None表示结果不会排除任何列；'number'表示不包括所有数字列；'object'表示不包括所有字符列"
   ],
   "id": "ca469aaf08e1c5cc"
  },
  {
   "metadata": {
    "ExecuteTime": {
     "end_time": "2025-09-25T15:03:06.878836Z",
     "start_time": "2025-09-25T15:03:06.864269Z"
    }
   },
   "cell_type": "code",
   "source": [
    "df = pd.DataFrame(data={'name': ['Tom', 'Bob', 'Bob'],\n",
    "                        'age': [18, 19, 17],\n",
    "                        'height': [167, 177, 178]},\n",
    "                  index=['n1', 'n2', 'n3'])\n",
    "print(df)"
   ],
   "id": "a78f2a8797ad426f",
   "outputs": [
    {
     "name": "stdout",
     "output_type": "stream",
     "text": [
      "   name  age  height\n",
      "n1  Tom   18     167\n",
      "n2  Bob   19     177\n",
      "n3  Bob   17     178\n"
     ]
    }
   ],
   "execution_count": 17
  },
  {
   "metadata": {
    "ExecuteTime": {
     "end_time": "2025-09-25T15:03:06.894129Z",
     "start_time": "2025-09-25T15:03:06.880016Z"
    }
   },
   "cell_type": "code",
   "source": [
    "print(df.describe())\n",
    "print('*' * 30)\n",
    "print(df.describe(exclude='object'))"
   ],
   "id": "89db3f55cca08ed1",
   "outputs": [
    {
     "name": "stdout",
     "output_type": "stream",
     "text": [
      "        age      height\n",
      "count   3.0    3.000000\n",
      "mean   18.0  174.000000\n",
      "std     1.0    6.082763\n",
      "min    17.0  167.000000\n",
      "25%    17.5  172.000000\n",
      "50%    18.0  177.000000\n",
      "75%    18.5  177.500000\n",
      "max    19.0  178.000000\n",
      "******************************\n",
      "        age      height\n",
      "count   3.0    3.000000\n",
      "mean   18.0  174.000000\n",
      "std     1.0    6.082763\n",
      "min    17.0  167.000000\n",
      "25%    17.5  172.000000\n",
      "50%    18.0  177.000000\n",
      "75%    18.5  177.500000\n",
      "max    19.0  178.000000\n"
     ]
    }
   ],
   "execution_count": 18
  },
  {
   "metadata": {
    "ExecuteTime": {
     "end_time": "2025-09-25T15:03:06.910110Z",
     "start_time": "2025-09-25T15:03:06.895292Z"
    }
   },
   "cell_type": "code",
   "source": [
    "print(df.describe(include='object'))\n",
    "print('*' * 30)\n",
    "print(df.describe(exclude='number'))"
   ],
   "id": "54e5bdad25940f54",
   "outputs": [
    {
     "name": "stdout",
     "output_type": "stream",
     "text": [
      "       name\n",
      "count     3\n",
      "unique    2\n",
      "top     Bob\n",
      "freq      2\n",
      "******************************\n",
      "       name\n",
      "count     3\n",
      "unique    2\n",
      "top     Bob\n",
      "freq      2\n"
     ]
    }
   ],
   "execution_count": 19
  },
  {
   "metadata": {
    "ExecuteTime": {
     "end_time": "2025-09-25T15:03:06.940855Z",
     "start_time": "2025-09-25T15:03:06.911260Z"
    }
   },
   "cell_type": "code",
   "source": [
    "print(df.describe(include='all'))\n",
    "print('*' * 30)\n",
    "# 也可以是数据类型的组合\n",
    "print(df.describe(include=['number', 'object']))"
   ],
   "id": "4eb74de4cdfeb453",
   "outputs": [
    {
     "name": "stdout",
     "output_type": "stream",
     "text": [
      "       name   age      height\n",
      "count     3   3.0    3.000000\n",
      "unique    2   NaN         NaN\n",
      "top     Bob   NaN         NaN\n",
      "freq      2   NaN         NaN\n",
      "mean    NaN  18.0  174.000000\n",
      "std     NaN   1.0    6.082763\n",
      "min     NaN  17.0  167.000000\n",
      "25%     NaN  17.5  172.000000\n",
      "50%     NaN  18.0  177.000000\n",
      "75%     NaN  18.5  177.500000\n",
      "max     NaN  19.0  178.000000\n",
      "******************************\n",
      "       name   age      height\n",
      "count     3   3.0    3.000000\n",
      "unique    2   NaN         NaN\n",
      "top     Bob   NaN         NaN\n",
      "freq      2   NaN         NaN\n",
      "mean    NaN  18.0  174.000000\n",
      "std     NaN   1.0    6.082763\n",
      "min     NaN  17.0  167.000000\n",
      "25%     NaN  17.5  172.000000\n",
      "50%     NaN  18.0  177.000000\n",
      "75%     NaN  18.5  177.500000\n",
      "max     NaN  19.0  178.000000\n"
     ]
    }
   ],
   "execution_count": 20
  },
  {
   "metadata": {},
   "cell_type": "markdown",
   "source": [
    "- DataFrame.count(axis=0) 返回指定轴的非缺失值的数量\n",
    "- DataFrame.max(axis=0) 返回指定轴的最大值\n",
    "- DataFrame.min(axis=0) 返回指定轴的最小值\n",
    "- DataFrame.mean(axis=0) 返回指定轴的平均值\n",
    "- DataFrame.var(axis=0) 返回指定轴的方差\n",
    "- DataFrame.std(axis=0) 返回指定轴的标准差"
   ],
   "id": "a959611fba653239"
  },
  {
   "metadata": {
    "ExecuteTime": {
     "end_time": "2025-09-25T15:03:06.956099Z",
     "start_time": "2025-09-25T15:03:06.940855Z"
    }
   },
   "cell_type": "code",
   "source": [
    "np.random.seed(3)\n",
    "arr = np.random.randint(0, 10, size=(3, 5))\n",
    "df = pd.DataFrame(arr, columns=list(\"DHATC\"))\n",
    "print(df)\n",
    "print('*' * 30)\n",
    "print(df.count())\n",
    "print('*' * 30)\n",
    "print(df.count(axis=1))"
   ],
   "id": "1c8764c99386f9a8",
   "outputs": [
    {
     "name": "stdout",
     "output_type": "stream",
     "text": [
      "   D  H  A  T  C\n",
      "0  8  9  3  8  8\n",
      "1  0  5  3  9  9\n",
      "2  5  7  6  0  4\n",
      "******************************\n",
      "D    3\n",
      "H    3\n",
      "A    3\n",
      "T    3\n",
      "C    3\n",
      "dtype: int64\n",
      "******************************\n",
      "0    5\n",
      "1    5\n",
      "2    5\n",
      "dtype: int64\n"
     ]
    }
   ],
   "execution_count": 21
  },
  {
   "metadata": {
    "ExecuteTime": {
     "end_time": "2025-09-25T15:03:06.972198Z",
     "start_time": "2025-09-25T15:03:06.956099Z"
    }
   },
   "cell_type": "code",
   "source": [
    "print(df.max(axis=0))  # 返回每列最大值\n",
    "print('*' * 30)\n",
    "print(df.max(axis=1))  # 返回每行最大值"
   ],
   "id": "bdfe6f0b37231dd6",
   "outputs": [
    {
     "name": "stdout",
     "output_type": "stream",
     "text": [
      "D    8\n",
      "H    9\n",
      "A    6\n",
      "T    9\n",
      "C    9\n",
      "dtype: int32\n",
      "******************************\n",
      "0    9\n",
      "1    9\n",
      "2    7\n",
      "dtype: int32\n"
     ]
    }
   ],
   "execution_count": 22
  },
  {
   "metadata": {
    "ExecuteTime": {
     "end_time": "2025-09-25T15:03:06.987635Z",
     "start_time": "2025-09-25T15:03:06.973512Z"
    }
   },
   "cell_type": "code",
   "source": [
    "print(df.min())  # 返回每列最小值\n",
    "print('*' * 30)\n",
    "print(df.min(axis=1))  # 返回每行最小值"
   ],
   "id": "20d1f89c7a0032c1",
   "outputs": [
    {
     "name": "stdout",
     "output_type": "stream",
     "text": [
      "D    0\n",
      "H    5\n",
      "A    3\n",
      "T    0\n",
      "C    4\n",
      "dtype: int32\n",
      "******************************\n",
      "0    3\n",
      "1    0\n",
      "2    0\n",
      "dtype: int32\n"
     ]
    }
   ],
   "execution_count": 23
  },
  {
   "metadata": {
    "ExecuteTime": {
     "end_time": "2025-09-25T15:03:07.003219Z",
     "start_time": "2025-09-25T15:03:06.988982Z"
    }
   },
   "cell_type": "code",
   "source": [
    "print(df.mean())  # 返回每列平均值\n",
    "print('*' * 30)\n",
    "print(df.mean(axis=1))  # 返回每行平均值"
   ],
   "id": "bafbe6f0c2510c00",
   "outputs": [
    {
     "name": "stdout",
     "output_type": "stream",
     "text": [
      "D    4.333333\n",
      "H    7.000000\n",
      "A    4.000000\n",
      "T    5.666667\n",
      "C    7.000000\n",
      "dtype: float64\n",
      "******************************\n",
      "0    7.2\n",
      "1    5.2\n",
      "2    4.4\n",
      "dtype: float64\n"
     ]
    }
   ],
   "execution_count": 24
  },
  {
   "metadata": {
    "ExecuteTime": {
     "end_time": "2025-09-25T15:03:07.018698Z",
     "start_time": "2025-09-25T15:03:07.004457Z"
    }
   },
   "cell_type": "code",
   "source": [
    "print(df.var())  # 返回每列方差\n",
    "print('*' * 30)\n",
    "print(df.var(axis=1))  # 返回每行方差"
   ],
   "id": "378f380821c4e4c9",
   "outputs": [
    {
     "name": "stdout",
     "output_type": "stream",
     "text": [
      "D    16.333333\n",
      "H     4.000000\n",
      "A     3.000000\n",
      "T    24.333333\n",
      "C     7.000000\n",
      "dtype: float64\n",
      "******************************\n",
      "0     5.7\n",
      "1    15.2\n",
      "2     7.3\n",
      "dtype: float64\n"
     ]
    }
   ],
   "execution_count": 25
  },
  {
   "metadata": {
    "ExecuteTime": {
     "end_time": "2025-09-25T15:03:07.049910Z",
     "start_time": "2025-09-25T15:03:07.038365Z"
    }
   },
   "cell_type": "code",
   "source": [
    "print(df.std())  # 返回每列标准差\n",
    "print('*' * 30)\n",
    "print(df.std(axis=1))  # 返回每行标准差"
   ],
   "id": "5985ddd2a2a3ecb9",
   "outputs": [
    {
     "name": "stdout",
     "output_type": "stream",
     "text": [
      "D    4.041452\n",
      "H    2.000000\n",
      "A    1.732051\n",
      "T    4.932883\n",
      "C    2.645751\n",
      "dtype: float64\n",
      "******************************\n",
      "0    2.387467\n",
      "1    3.898718\n",
      "2    2.701851\n",
      "dtype: float64\n"
     ]
    }
   ],
   "execution_count": 26
  },
  {
   "metadata": {},
   "cell_type": "markdown",
   "source": [
    "#### DataFrame.apply(func, axis=0)\n",
    "- 沿着给定的 DataFrame 轴应用 func 的结果\n",
    "- func：应用于每一个列或行的函数\n",
    "- axis：0 or 'index'表示函数处理的是每一列；1 or 'columns'表示函数处理的是每一行"
   ],
   "id": "a2007cf1ee887409"
  },
  {
   "metadata": {
    "ExecuteTime": {
     "end_time": "2025-09-25T15:03:07.172637Z",
     "start_time": "2025-09-25T15:03:07.168434Z"
    }
   },
   "cell_type": "code",
   "source": "print(df)",
   "id": "f0f8980f8d5f2113",
   "outputs": [
    {
     "name": "stdout",
     "output_type": "stream",
     "text": [
      "   D  H  A  T  C\n",
      "0  8  9  3  8  8\n",
      "1  0  5  3  9  9\n",
      "2  5  7  6  0  4\n"
     ]
    }
   ],
   "execution_count": 27
  },
  {
   "metadata": {
    "ExecuteTime": {
     "end_time": "2025-09-25T15:03:07.312155Z",
     "start_time": "2025-09-25T15:03:07.298020Z"
    }
   },
   "cell_type": "code",
   "source": [
    "print(df.median())\n",
    "print('*' * 30)\n",
    "print(df.apply(np.median))\n",
    "print('*' * 30)\n",
    "print(df.apply(np.median, axis=1))"
   ],
   "id": "a6b53ba7b99d9bf5",
   "outputs": [
    {
     "name": "stdout",
     "output_type": "stream",
     "text": [
      "D    5.0\n",
      "H    7.0\n",
      "A    3.0\n",
      "T    8.0\n",
      "C    8.0\n",
      "dtype: float64\n",
      "******************************\n",
      "D    5.0\n",
      "H    7.0\n",
      "A    3.0\n",
      "T    8.0\n",
      "C    8.0\n",
      "dtype: float64\n",
      "******************************\n",
      "0    8.0\n",
      "1    5.0\n",
      "2    5.0\n",
      "dtype: float64\n"
     ]
    }
   ],
   "execution_count": 28
  },
  {
   "metadata": {
    "ExecuteTime": {
     "end_time": "2025-09-25T15:03:07.327365Z",
     "start_time": "2025-09-25T15:03:07.317680Z"
    }
   },
   "cell_type": "code",
   "source": [
    "def f(seq):\n",
    "    return [i ** 2 for i in seq]\n",
    "\n",
    "\n",
    "print(df.apply(f))"
   ],
   "id": "c9f48640ecfaf757",
   "outputs": [
    {
     "name": "stdout",
     "output_type": "stream",
     "text": [
      "    D   H   A   T   C\n",
      "0  64  81   9  64  64\n",
      "1   0  25   9  81  81\n",
      "2  25  49  36   0  16\n"
     ]
    }
   ],
   "execution_count": 29
  },
  {
   "metadata": {},
   "cell_type": "markdown",
   "source": [
    "#### DataFrame.sample(n=None, frac=None, replace=False,random_state=None, axis=None)\n",
    "- 从指定的轴返回随机样本\n",
    "- n：默认为1，表示要采样的行数或列数，不能和 frac 参数一起使用\n",
    "- frac：表示要采用的比例，不能和 n 参数一起使用\n",
    "- replace：表示是否有放回采样\n",
    "- random_state：随机数种子\n",
    "- axis：表示采样的方向，默认为0，行采样"
   ],
   "id": "9edb120181eb494e"
  },
  {
   "metadata": {
    "ExecuteTime": {
     "end_time": "2025-09-25T15:03:07.343043Z",
     "start_time": "2025-09-25T15:03:07.328601Z"
    }
   },
   "cell_type": "code",
   "source": [
    "df = pd.DataFrame(data={'name': ['Tom', 'Bob', 'Jack', 'Linda'],\n",
    "                        'age': [18, 19, 17, 21],\n",
    "                        'height': [167, 177, 178, 188]},\n",
    "                  index=['n1', 'n2', 'n3', 'n4'])\n",
    "print(df)"
   ],
   "id": "411b98dee9abd26b",
   "outputs": [
    {
     "name": "stdout",
     "output_type": "stream",
     "text": [
      "     name  age  height\n",
      "n1    Tom   18     167\n",
      "n2    Bob   19     177\n",
      "n3   Jack   17     178\n",
      "n4  Linda   21     188\n"
     ]
    }
   ],
   "execution_count": 30
  },
  {
   "metadata": {
    "ExecuteTime": {
     "end_time": "2025-09-25T15:03:07.405818Z",
     "start_time": "2025-09-25T15:03:07.390563Z"
    }
   },
   "cell_type": "code",
   "source": [
    "# 默认n=1, 随机采样一行数据\n",
    "print(df.sample())\n",
    "print('*' * 30)\n",
    "# 默认n=1, 随机采样一列数据\n",
    "print(df.sample(axis=1))\n",
    "print('*' * 30)\n",
    "# 随机采样75%的数据, 即这里即3行\n",
    "print(df.sample(frac=0.70))"
   ],
   "id": "bdf80dd649603b54",
   "outputs": [
    {
     "name": "stdout",
     "output_type": "stream",
     "text": [
      "     name  age  height\n",
      "n4  Linda   21     188\n",
      "******************************\n",
      "    age\n",
      "n1   18\n",
      "n2   19\n",
      "n3   17\n",
      "n4   21\n",
      "******************************\n",
      "     name  age  height\n",
      "n4  Linda   21     188\n",
      "n1    Tom   18     167\n",
      "n2    Bob   19     177\n"
     ]
    }
   ],
   "execution_count": 31
  },
  {
   "metadata": {
    "ExecuteTime": {
     "end_time": "2025-09-25T15:03:07.421437Z",
     "start_time": "2025-09-25T15:03:07.411493Z"
    }
   },
   "cell_type": "code",
   "source": [
    "# 随机采样2列数据\n",
    "print(df.sample(n=2, axis=1))\n",
    "print('*' * 30)\n",
    "# 随机采样2行数据\n",
    "print(df.sample(n=2, replace=False))\n",
    "print('*' * 30)\n",
    "# 随机有放回采样2行数据(有可能会重复采样)\n",
    "print(df.sample(n=2, replace=True))"
   ],
   "id": "a2d5190a0d275f1a",
   "outputs": [
    {
     "name": "stdout",
     "output_type": "stream",
     "text": [
      "    age   name\n",
      "n1   18    Tom\n",
      "n2   19    Bob\n",
      "n3   17   Jack\n",
      "n4   21  Linda\n",
      "******************************\n",
      "     name  age  height\n",
      "n4  Linda   21     188\n",
      "n2    Bob   19     177\n",
      "******************************\n",
      "     name  age  height\n",
      "n4  Linda   21     188\n",
      "n3   Jack   17     178\n"
     ]
    }
   ],
   "execution_count": 32
  },
  {
   "metadata": {
    "ExecuteTime": {
     "end_time": "2025-09-25T15:03:07.437423Z",
     "start_time": "2025-09-25T15:03:07.431827Z"
    }
   },
   "cell_type": "code",
   "source": [
    "# 随机采样2行数据, 设置随机数种子seed为3\n",
    "print(df.sample(n=2, random_state=3))\n",
    "print(df.sample(frac=0.5, random_state=3))"
   ],
   "id": "b2260a525cb65dcd",
   "outputs": [
    {
     "name": "stdout",
     "output_type": "stream",
     "text": [
      "     name  age  height\n",
      "n4  Linda   21     188\n",
      "n2    Bob   19     177\n",
      "     name  age  height\n",
      "n4  Linda   21     188\n",
      "n2    Bob   19     177\n"
     ]
    }
   ],
   "execution_count": 33
  },
  {
   "metadata": {},
   "cell_type": "markdown",
   "source": [
    "#### DataFrame.drop_duplicates(subset=None, keep='first', inplace=False)\n",
    "- 返回去重（删除重复行）之后的 DataFrame\n",
    "- subset：表示要进行去重的列名，默认为 None，表示所有列\n",
    "- keep：保留哪些副本。'first'表示只保留第一次出现的重复项，删除其余重复项；'last '表示只保留最后一次出现的重复项；False 则表示删除所有重复项\n",
    "- inplace：False 表示删除重复项后返回一个副本；Ture 表示直接在原数据上删除重复项"
   ],
   "id": "179dfde8159c99ce"
  },
  {
   "metadata": {
    "ExecuteTime": {
     "end_time": "2025-09-25T15:03:07.500142Z",
     "start_time": "2025-09-25T15:03:07.488299Z"
    }
   },
   "cell_type": "code",
   "source": [
    "d = {'A': [1, 3, 3, 1],\n",
    "     'B': [0, 2, 5, 0],\n",
    "     'C': [4, 0, 4, 4],\n",
    "     'D': [1, 0, 0, 1]}\n",
    "df = pd.DataFrame(data=d)\n",
    "print(df)"
   ],
   "id": "294ea6f1c9e343ad",
   "outputs": [
    {
     "name": "stdout",
     "output_type": "stream",
     "text": [
      "   A  B  C  D\n",
      "0  1  0  4  1\n",
      "1  3  2  0  0\n",
      "2  3  5  4  0\n",
      "3  1  0  4  1\n"
     ]
    }
   ],
   "execution_count": 34
  },
  {
   "metadata": {
    "ExecuteTime": {
     "end_time": "2025-09-25T15:03:07.545924Z",
     "start_time": "2025-09-25T15:03:07.528177Z"
    }
   },
   "cell_type": "code",
   "source": [
    "# 第一行和第四行重复, 删除第4行\n",
    "print(df.drop_duplicates())\n",
    "print('*' * 30)\n",
    "# 第一行和第四行重复, 删除第1行\n",
    "print(df.drop_duplicates(keep='last'))\n",
    "print('*' * 30)\n",
    "# 第一行和第四行重复, 两行都删除\n",
    "print(df.drop_duplicates(keep=False))"
   ],
   "id": "6582c8fbbfa9ea09",
   "outputs": [
    {
     "name": "stdout",
     "output_type": "stream",
     "text": [
      "   A  B  C  D\n",
      "0  1  0  4  1\n",
      "1  3  2  0  0\n",
      "2  3  5  4  0\n",
      "******************************\n",
      "   A  B  C  D\n",
      "1  3  2  0  0\n",
      "2  3  5  4  0\n",
      "3  1  0  4  1\n",
      "******************************\n",
      "   A  B  C  D\n",
      "1  3  2  0  0\n",
      "2  3  5  4  0\n"
     ]
    }
   ],
   "execution_count": 35
  },
  {
   "metadata": {
    "ExecuteTime": {
     "end_time": "2025-09-25T15:03:07.561396Z",
     "start_time": "2025-09-25T15:03:07.548412Z"
    }
   },
   "cell_type": "code",
   "source": [
    "# 指定columns为'A'和'D'的两列去重\n",
    "# 第二行和第三行重复, 保留第三行\n",
    "# 第一行和第四行重复, 保留第四行\n",
    "print(df.drop_duplicates(subset=['A', 'D'], keep='first'))\n",
    "print('*' * 30)\n",
    "# 直接在原数据上删除重复项\n",
    "df.drop_duplicates(subset=['A', 'D'], keep='last', inplace=True)\n",
    "print(df)"
   ],
   "id": "c999a8a8894a4c1d",
   "outputs": [
    {
     "name": "stdout",
     "output_type": "stream",
     "text": [
      "   A  B  C  D\n",
      "0  1  0  4  1\n",
      "1  3  2  0  0\n",
      "******************************\n",
      "   A  B  C  D\n",
      "2  3  5  4  0\n",
      "3  1  0  4  1\n"
     ]
    }
   ],
   "execution_count": 36
  },
  {
   "metadata": {},
   "cell_type": "markdown",
   "source": [
    "#### DataFrame.sort_values(by, axis=0, ascending=True, inplace=False,na_position='last')\n",
    "- by：要排序的名称或名称列表\n",
    "- 如果 axis=0 或 'index'，by可指定列标签\n",
    "- 如果 axis=1 或 'columns'，by可指定行标签\n",
    "- axis：要排序的轴，可选择 0 或 'index', 1 或 'columns'\n",
    "- ascending：False 则为降序；如果这是一个 bool 列表，则必须匹配 by 的长度\n",
    "- inplace：是否原地操作\n",
    "- na_position：设置缺失值的排序位置，'first'表示开头，'last'表示结尾"
   ],
   "id": "6ff90143a6d78968"
  },
  {
   "metadata": {
    "ExecuteTime": {
     "end_time": "2025-09-25T15:03:07.577350Z",
     "start_time": "2025-09-25T15:03:07.568458Z"
    }
   },
   "cell_type": "code",
   "source": [
    "df = pd.DataFrame({'col1': [4, 1, 2, np.nan, 5, 2],\n",
    "                   'col2': [2, 1, 9, 8, 7, 6],\n",
    "                   'col3': [0, 1, 9, 4, 2, 3],\n",
    "                   'col4': ['a', 'B', 'c', 'D', 'e', 1]\n",
    "                   })\n",
    "print(df)"
   ],
   "id": "def0cfe70bec5a40",
   "outputs": [
    {
     "name": "stdout",
     "output_type": "stream",
     "text": [
      "   col1  col2  col3 col4\n",
      "0   4.0     2     0    a\n",
      "1   1.0     1     1    B\n",
      "2   2.0     9     9    c\n",
      "3   NaN     8     4    D\n",
      "4   5.0     7     2    e\n",
      "5   2.0     6     3    1\n"
     ]
    }
   ],
   "execution_count": 37
  },
  {
   "metadata": {
    "ExecuteTime": {
     "end_time": "2025-09-25T15:03:07.624456Z",
     "start_time": "2025-09-25T15:03:07.617349Z"
    }
   },
   "cell_type": "code",
   "source": [
    "print(df.sort_values(by=['col1']))\n",
    "print('*' * 30)\n",
    "print(df.sort_values(by='col1', ascending=False))"
   ],
   "id": "acb127c50f627584",
   "outputs": [
    {
     "name": "stdout",
     "output_type": "stream",
     "text": [
      "   col1  col2  col3 col4\n",
      "1   1.0     1     1    B\n",
      "2   2.0     9     9    c\n",
      "5   2.0     6     3    1\n",
      "0   4.0     2     0    a\n",
      "4   5.0     7     2    e\n",
      "3   NaN     8     4    D\n",
      "******************************\n",
      "   col1  col2  col3 col4\n",
      "4   5.0     7     2    e\n",
      "0   4.0     2     0    a\n",
      "2   2.0     9     9    c\n",
      "5   2.0     6     3    1\n",
      "1   1.0     1     1    B\n",
      "3   NaN     8     4    D\n"
     ]
    }
   ],
   "execution_count": 38
  },
  {
   "metadata": {
    "ExecuteTime": {
     "end_time": "2025-09-25T15:03:07.655134Z",
     "start_time": "2025-09-25T15:03:07.645211Z"
    }
   },
   "cell_type": "code",
   "source": [
    "print(df.sort_values(by='col1', na_position='first'))\n",
    "print('*' * 30)\n",
    "print(df.sort_values(by=['col1', 'col2']))"
   ],
   "id": "6ba11621a356e25a",
   "outputs": [
    {
     "name": "stdout",
     "output_type": "stream",
     "text": [
      "   col1  col2  col3 col4\n",
      "3   NaN     8     4    D\n",
      "1   1.0     1     1    B\n",
      "2   2.0     9     9    c\n",
      "5   2.0     6     3    1\n",
      "0   4.0     2     0    a\n",
      "4   5.0     7     2    e\n",
      "******************************\n",
      "   col1  col2  col3 col4\n",
      "1   1.0     1     1    B\n",
      "5   2.0     6     3    1\n",
      "2   2.0     9     9    c\n",
      "0   4.0     2     0    a\n",
      "4   5.0     7     2    e\n",
      "3   NaN     8     4    D\n"
     ]
    }
   ],
   "execution_count": 39
  },
  {
   "metadata": {
    "ExecuteTime": {
     "end_time": "2025-09-25T15:03:07.701285Z",
     "start_time": "2025-09-25T15:03:07.682375Z"
    }
   },
   "cell_type": "code",
   "source": [
    "print(df.sort_values(by=5, axis=1))\n",
    "print('*' * 30)\n",
    "print(df.sort_values(['col1', 'col2'], ascending=[True, False]))"
   ],
   "id": "10bb404c2c6fb095",
   "outputs": [
    {
     "name": "stdout",
     "output_type": "stream",
     "text": [
      "  col4  col1  col3  col2\n",
      "0    a   4.0     0     2\n",
      "1    B   1.0     1     1\n",
      "2    c   2.0     9     9\n",
      "3    D   NaN     4     8\n",
      "4    e   5.0     2     7\n",
      "5    1   2.0     3     6\n",
      "******************************\n",
      "   col1  col2  col3 col4\n",
      "1   1.0     1     1    B\n",
      "2   2.0     9     9    c\n",
      "5   2.0     6     3    1\n",
      "0   4.0     2     0    a\n",
      "4   5.0     7     2    e\n",
      "3   NaN     8     4    D\n"
     ]
    }
   ],
   "execution_count": 40
  },
  {
   "metadata": {
    "ExecuteTime": {
     "end_time": "2025-09-25T15:03:07.732698Z",
     "start_time": "2025-09-25T15:03:07.717055Z"
    }
   },
   "cell_type": "code",
   "source": [
    "df.sort_values(by='col1', inplace=True)\n",
    "print(df)"
   ],
   "id": "af207b5caed8c5ba",
   "outputs": [
    {
     "name": "stdout",
     "output_type": "stream",
     "text": [
      "   col1  col2  col3 col4\n",
      "1   1.0     1     1    B\n",
      "2   2.0     9     9    c\n",
      "5   2.0     6     3    1\n",
      "0   4.0     2     0    a\n",
      "4   5.0     7     2    e\n",
      "3   NaN     8     4    D\n"
     ]
    }
   ],
   "execution_count": 41
  },
  {
   "metadata": {},
   "cell_type": "markdown",
   "source": [
    "#### DataFrame.groupby(by=None, as_index=True, sort=True, dropna=True)\n",
    "- 返回一个包含分组信息的 DataFrameGroupBy 对象\n",
    "- by：指定根据哪个或者哪些标签分组\n",
    "- as_index：对于聚合操作的输出结果，默认将分组列的值作为索引，如果将 as_index 设置为 False，可以重置索引（0, 1, 2...）\n",
    "- sort：结果按分组标签的值升序排列，设置为False则不排序\n",
    "- dropna：默认为 True 时，分组标签那列的 NaN 在分组结果中不保留，设置为 False，可以保留 NaN 分组"
   ],
   "id": "9f72f0360ec3deb"
  },
  {
   "metadata": {
    "ExecuteTime": {
     "end_time": "2025-09-25T15:03:07.796189Z",
     "start_time": "2025-09-25T15:03:07.788802Z"
    }
   },
   "cell_type": "code",
   "source": [
    "d = {'company': ['A', 'B', 'A', 'C', 'C', 'B', 'C', 'A'],\n",
    "     'salary': [8, 15, 10, 15, np.nan, 28, 30, 15],\n",
    "     'age': [26, 29, 26, 30, 50, 30, 30, 35]}\n",
    "df = pd.DataFrame(data=d)\n",
    "print(df)"
   ],
   "id": "17287c660788c9cb",
   "outputs": [
    {
     "name": "stdout",
     "output_type": "stream",
     "text": [
      "  company  salary  age\n",
      "0       A     8.0   26\n",
      "1       B    15.0   29\n",
      "2       A    10.0   26\n",
      "3       C    15.0   30\n",
      "4       C     NaN   50\n",
      "5       B    28.0   30\n",
      "6       C    30.0   30\n",
      "7       A    15.0   35\n"
     ]
    }
   ],
   "execution_count": 42
  },
  {
   "metadata": {
    "ExecuteTime": {
     "end_time": "2025-09-25T15:03:07.858070Z",
     "start_time": "2025-09-25T15:03:07.841613Z"
    }
   },
   "cell_type": "code",
   "source": [
    "df_gb = df.groupby(by='age')\n",
    "print(df_gb)\n",
    "for i in df_gb:\n",
    "    print(i)"
   ],
   "id": "d5f5ad24388c87eb",
   "outputs": [
    {
     "name": "stdout",
     "output_type": "stream",
     "text": [
      "<pandas.core.groupby.generic.DataFrameGroupBy object at 0x0000021AD132D4F0>\n",
      "(26,   company  salary  age\n",
      "0       A     8.0   26\n",
      "2       A    10.0   26)\n",
      "(29,   company  salary  age\n",
      "1       B    15.0   29)\n",
      "(30,   company  salary  age\n",
      "3       C    15.0   30\n",
      "5       B    28.0   30\n",
      "6       C    30.0   30)\n",
      "(35,   company  salary  age\n",
      "7       A    15.0   35)\n",
      "(50,   company  salary  age\n",
      "4       C     NaN   50)\n"
     ]
    }
   ],
   "execution_count": 43
  },
  {
   "metadata": {
    "ExecuteTime": {
     "end_time": "2025-09-25T15:03:07.873891Z",
     "start_time": "2025-09-25T15:03:07.859473Z"
    }
   },
   "cell_type": "code",
   "source": [
    "df_gb = df.groupby('age', sort=False)\n",
    "print(df_gb)\n",
    "for i in df_gb:\n",
    "    print(i)"
   ],
   "id": "3159440509957ab1",
   "outputs": [
    {
     "name": "stdout",
     "output_type": "stream",
     "text": [
      "<pandas.core.groupby.generic.DataFrameGroupBy object at 0x0000021AD13EB520>\n",
      "(26,   company  salary  age\n",
      "0       A     8.0   26\n",
      "2       A    10.0   26)\n",
      "(29,   company  salary  age\n",
      "1       B    15.0   29)\n",
      "(30,   company  salary  age\n",
      "3       C    15.0   30\n",
      "5       B    28.0   30\n",
      "6       C    30.0   30)\n",
      "(50,   company  salary  age\n",
      "4       C     NaN   50)\n",
      "(35,   company  salary  age\n",
      "7       A    15.0   35)\n"
     ]
    }
   ],
   "execution_count": 44
  },
  {
   "metadata": {
    "ExecuteTime": {
     "end_time": "2025-09-25T15:03:07.904665Z",
     "start_time": "2025-09-25T15:03:07.880798Z"
    }
   },
   "cell_type": "code",
   "source": [
    "df_gb = df.groupby(by=['salary'], dropna=False, as_index=False)\n",
    "for g, data in df_gb:\n",
    "    print(g)\n",
    "    print(data)"
   ],
   "id": "e01f4717dae50847",
   "outputs": [
    {
     "name": "stdout",
     "output_type": "stream",
     "text": [
      "8.0\n",
      "  company  salary  age\n",
      "0       A     8.0   26\n",
      "10.0\n",
      "  company  salary  age\n",
      "2       A    10.0   26\n",
      "15.0\n",
      "  company  salary  age\n",
      "1       B    15.0   29\n",
      "3       C    15.0   30\n",
      "7       A    15.0   35\n",
      "28.0\n",
      "  company  salary  age\n",
      "5       B    28.0   30\n",
      "30.0\n",
      "  company  salary  age\n",
      "6       C    30.0   30\n",
      "nan\n",
      "  company  salary  age\n",
      "4       C     NaN   50\n"
     ]
    }
   ],
   "execution_count": 45
  },
  {
   "metadata": {
    "ExecuteTime": {
     "end_time": "2025-09-25T15:03:07.936470Z",
     "start_time": "2025-09-25T15:03:07.921707Z"
    }
   },
   "cell_type": "code",
   "source": [
    "# 根据'salary'列的数据对行分组, 返回DataFrameGroupBy的实例对象\n",
    "df_gb = df.groupby(by=['age', 'company'])\n",
    "# 该实例对象是iterable, 迭代操作可以得到各个分组\n",
    "for g, data in df_gb:\n",
    "    print(g)\n",
    "    print(data)"
   ],
   "id": "b13e92189f0ba06e",
   "outputs": [
    {
     "name": "stdout",
     "output_type": "stream",
     "text": [
      "(26, 'A')\n",
      "  company  salary  age\n",
      "0       A     8.0   26\n",
      "2       A    10.0   26\n",
      "(29, 'B')\n",
      "  company  salary  age\n",
      "1       B    15.0   29\n",
      "(30, 'B')\n",
      "  company  salary  age\n",
      "5       B    28.0   30\n",
      "(30, 'C')\n",
      "  company  salary  age\n",
      "3       C    15.0   30\n",
      "6       C    30.0   30\n",
      "(35, 'A')\n",
      "  company  salary  age\n",
      "7       A    15.0   35\n",
      "(50, 'C')\n",
      "  company  salary  age\n",
      "4       C     NaN   50\n"
     ]
    }
   ],
   "execution_count": 46
  },
  {
   "metadata": {
    "ExecuteTime": {
     "end_time": "2025-09-25T15:03:07.951693Z",
     "start_time": "2025-09-25T15:03:07.940180Z"
    }
   },
   "cell_type": "code",
   "source": [
    "df_gb = df.groupby(by=['company', 'age'])\n",
    "for g, data in df_gb:\n",
    "    print(g)\n",
    "    print(data)"
   ],
   "id": "97cf25f95deda129",
   "outputs": [
    {
     "name": "stdout",
     "output_type": "stream",
     "text": [
      "('A', 26)\n",
      "  company  salary  age\n",
      "0       A     8.0   26\n",
      "2       A    10.0   26\n",
      "('A', 35)\n",
      "  company  salary  age\n",
      "7       A    15.0   35\n",
      "('B', 29)\n",
      "  company  salary  age\n",
      "1       B    15.0   29\n",
      "('B', 30)\n",
      "  company  salary  age\n",
      "5       B    28.0   30\n",
      "('C', 30)\n",
      "  company  salary  age\n",
      "3       C    15.0   30\n",
      "6       C    30.0   30\n",
      "('C', 50)\n",
      "  company  salary  age\n",
      "4       C     NaN   50\n"
     ]
    }
   ],
   "execution_count": 47
  },
  {
   "metadata": {},
   "cell_type": "markdown",
   "source": "#### DataFrameGroupBy相关属性",
   "id": "9b12f6b6f22f9c15"
  },
  {
   "metadata": {
    "ExecuteTime": {
     "end_time": "2025-09-25T15:03:07.997407Z",
     "start_time": "2025-09-25T15:03:07.984542Z"
    }
   },
   "cell_type": "code",
   "source": [
    "df_gb = df.groupby(by=['company'])\n",
    "for g, data in df_gb:\n",
    "    print(g)\n",
    "    print(data)"
   ],
   "id": "11f487459fbd9e75",
   "outputs": [
    {
     "name": "stdout",
     "output_type": "stream",
     "text": [
      "A\n",
      "  company  salary  age\n",
      "0       A     8.0   26\n",
      "2       A    10.0   26\n",
      "7       A    15.0   35\n",
      "B\n",
      "  company  salary  age\n",
      "1       B    15.0   29\n",
      "5       B    28.0   30\n",
      "C\n",
      "  company  salary  age\n",
      "3       C    15.0   30\n",
      "4       C     NaN   50\n",
      "6       C    30.0   30\n"
     ]
    }
   ],
   "execution_count": 48
  },
  {
   "metadata": {
    "ExecuteTime": {
     "end_time": "2025-09-25T15:03:08.012792Z",
     "start_time": "2025-09-25T15:03:08.001895Z"
    }
   },
   "cell_type": "code",
   "source": [
    "# 分成了几组\n",
    "print(df_gb.ngroups)\n",
    "print('*' * 30)\n",
    "# 各个分组的index\n",
    "print(df_gb.groups)\n",
    "print('*' * 30)\n",
    "# 各个分组的index\n",
    "print(df_gb.indices)"
   ],
   "id": "1fc83b98080fc0b9",
   "outputs": [
    {
     "name": "stdout",
     "output_type": "stream",
     "text": [
      "3\n",
      "******************************\n",
      "{'A': [0, 2, 7], 'B': [1, 5], 'C': [3, 4, 6]}\n",
      "******************************\n",
      "{'A': array([0, 2, 7], dtype=int64), 'B': array([1, 5], dtype=int64), 'C': array([3, 4, 6], dtype=int64)}\n"
     ]
    }
   ],
   "execution_count": 49
  },
  {
   "metadata": {
    "ExecuteTime": {
     "end_time": "2025-09-25T15:03:08.060156Z",
     "start_time": "2025-09-25T15:03:08.040730Z"
    }
   },
   "cell_type": "code",
   "source": [
    "# 获取指定组的数据\n",
    "print(df.loc[[0, 2, 7]])\n",
    "print('*' * 30)\n",
    "print(df.loc[df_gb.groups['A']])\n",
    "print('*' * 30)\n",
    "print(df_gb.get_group('A'))\n",
    "# print(df_gb.get_group('B'))\n",
    "# print(df_gb.get_group('C'))"
   ],
   "id": "adb063bff7500163",
   "outputs": [
    {
     "name": "stdout",
     "output_type": "stream",
     "text": [
      "  company  salary  age\n",
      "0       A     8.0   26\n",
      "2       A    10.0   26\n",
      "7       A    15.0   35\n",
      "******************************\n",
      "  company  salary  age\n",
      "0       A     8.0   26\n",
      "2       A    10.0   26\n",
      "7       A    15.0   35\n",
      "******************************\n",
      "  company  salary  age\n",
      "0       A     8.0   26\n",
      "2       A    10.0   26\n",
      "7       A    15.0   35\n"
     ]
    }
   ],
   "execution_count": 50
  },
  {
   "metadata": {
    "ExecuteTime": {
     "end_time": "2025-09-25T15:03:08.090936Z",
     "start_time": "2025-09-25T15:03:08.082908Z"
    }
   },
   "cell_type": "code",
   "source": [
    "# 聚合操作(对各个组的数据分别操作)\n",
    "print(df_gb.agg('mean'))\n",
    "print('*' * 30)\n",
    "print(df_gb.agg(np.mean))"
   ],
   "id": "57455f3dc8b4a651",
   "outputs": [
    {
     "name": "stdout",
     "output_type": "stream",
     "text": [
      "         salary        age\n",
      "company                   \n",
      "A          11.0  29.000000\n",
      "B          21.5  29.500000\n",
      "C          22.5  36.666667\n",
      "******************************\n",
      "         salary        age\n",
      "company                   \n",
      "A          11.0  29.000000\n",
      "B          21.5  29.500000\n",
      "C          22.5  36.666667\n"
     ]
    }
   ],
   "execution_count": 51
  },
  {
   "metadata": {
    "ExecuteTime": {
     "end_time": "2025-09-25T15:03:08.136816Z",
     "start_time": "2025-09-25T15:03:08.124018Z"
    }
   },
   "cell_type": "code",
   "source": [
    "print(df_gb.agg('max'))\n",
    "print('*' * 30)\n",
    "print(df_gb.agg('min'))"
   ],
   "id": "85ae80e2bd0ef33e",
   "outputs": [
    {
     "name": "stdout",
     "output_type": "stream",
     "text": [
      "         salary  age\n",
      "company             \n",
      "A          15.0   35\n",
      "B          28.0   30\n",
      "C          30.0   50\n",
      "******************************\n",
      "         salary  age\n",
      "company             \n",
      "A           8.0   26\n",
      "B          15.0   29\n",
      "C          15.0   30\n"
     ]
    }
   ],
   "execution_count": 52
  },
  {
   "metadata": {
    "ExecuteTime": {
     "end_time": "2025-09-25T15:03:08.152825Z",
     "start_time": "2025-09-25T15:03:08.139976Z"
    }
   },
   "cell_type": "code",
   "source": [
    "print(df_gb.agg('median'))\n",
    "print('*' * 30)\n",
    "print(df_gb.agg('sum'))"
   ],
   "id": "771ab095a32798e8",
   "outputs": [
    {
     "name": "stdout",
     "output_type": "stream",
     "text": [
      "         salary   age\n",
      "company              \n",
      "A          10.0  26.0\n",
      "B          21.5  29.5\n",
      "C          22.5  30.0\n",
      "******************************\n",
      "         salary  age\n",
      "company             \n",
      "A          33.0   87\n",
      "B          43.0   59\n",
      "C          45.0  110\n"
     ]
    }
   ],
   "execution_count": 53
  },
  {
   "metadata": {
    "ExecuteTime": {
     "end_time": "2025-09-25T15:03:08.183531Z",
     "start_time": "2025-09-25T15:03:08.174192Z"
    }
   },
   "cell_type": "code",
   "source": [
    "print(df_gb.agg('std'))\n",
    "print('*' * 30)\n",
    "print(df_gb.agg('var'))"
   ],
   "id": "bbab0180ba4dcab6",
   "outputs": [
    {
     "name": "stdout",
     "output_type": "stream",
     "text": [
      "            salary        age\n",
      "company                      \n",
      "A         3.605551   5.196152\n",
      "B         9.192388   0.707107\n",
      "C        10.606602  11.547005\n",
      "******************************\n",
      "         salary         age\n",
      "company                    \n",
      "A          13.0   27.000000\n",
      "B          84.5    0.500000\n",
      "C         112.5  133.333333\n"
     ]
    }
   ],
   "execution_count": 54
  },
  {
   "metadata": {
    "ExecuteTime": {
     "end_time": "2025-09-25T15:03:08.214983Z",
     "start_time": "2025-09-25T15:03:08.201190Z"
    }
   },
   "cell_type": "code",
   "source": "print(df_gb.agg('count'))",
   "id": "18c3212ffec707c9",
   "outputs": [
    {
     "name": "stdout",
     "output_type": "stream",
     "text": [
      "         salary  age\n",
      "company             \n",
      "A             3    3\n",
      "B             2    2\n",
      "C             2    3\n"
     ]
    }
   ],
   "execution_count": 55
  },
  {
   "metadata": {
    "ExecuteTime": {
     "end_time": "2025-09-25T15:03:08.261906Z",
     "start_time": "2025-09-25T15:03:08.247904Z"
    }
   },
   "cell_type": "code",
   "source": [
    "# 变换操作(在聚合操作的结果之上, 还将值变换到分组前的对应位置上)\n",
    "print(df_gb.transform('mean'))\n",
    "print(df_gb.transform(np.mean))"
   ],
   "id": "3d0a1664b1e5373d",
   "outputs": [
    {
     "name": "stdout",
     "output_type": "stream",
     "text": [
      "   salary        age\n",
      "0    11.0  29.000000\n",
      "1    21.5  29.500000\n",
      "2    11.0  29.000000\n",
      "3    22.5  36.666667\n",
      "4    22.5  36.666667\n",
      "5    21.5  29.500000\n",
      "6    22.5  36.666667\n",
      "7    11.0  29.000000\n",
      "   salary        age\n",
      "0    11.0  29.000000\n",
      "1    21.5  29.500000\n",
      "2    11.0  29.000000\n",
      "3    22.5  36.666667\n",
      "4    22.5  36.666667\n",
      "5    21.5  29.500000\n",
      "6    22.5  36.666667\n",
      "7    11.0  29.000000\n"
     ]
    }
   ],
   "execution_count": 56
  },
  {
   "metadata": {
    "ExecuteTime": {
     "end_time": "2025-09-25T15:03:08.278003Z",
     "start_time": "2025-09-25T15:03:08.261906Z"
    }
   },
   "cell_type": "code",
   "source": [
    "df['avg_age'] = df_gb.transform('mean')['age']\n",
    "print(df)"
   ],
   "id": "5461c7e70be42af1",
   "outputs": [
    {
     "name": "stdout",
     "output_type": "stream",
     "text": [
      "  company  salary  age    avg_age\n",
      "0       A     8.0   26  29.000000\n",
      "1       B    15.0   29  29.500000\n",
      "2       A    10.0   26  29.000000\n",
      "3       C    15.0   30  36.666667\n",
      "4       C     NaN   50  36.666667\n",
      "5       B    28.0   30  29.500000\n",
      "6       C    30.0   30  36.666667\n",
      "7       A    15.0   35  29.000000\n"
     ]
    }
   ],
   "execution_count": 57
  },
  {
   "metadata": {
    "ExecuteTime": {
     "end_time": "2025-09-25T15:03:08.293692Z",
     "start_time": "2025-09-25T15:03:08.279182Z"
    }
   },
   "cell_type": "code",
   "source": [
    "# 新增两列数据\n",
    "df[['avg_salary', 'avg_age']] = df_gb.transform('mean')\n",
    "print(df)"
   ],
   "id": "ea8792531eea951f",
   "outputs": [
    {
     "name": "stdout",
     "output_type": "stream",
     "text": [
      "  company  salary  age    avg_age  avg_salary\n",
      "0       A     8.0   26  29.000000        11.0\n",
      "1       B    15.0   29  29.500000        21.5\n",
      "2       A    10.0   26  29.000000        11.0\n",
      "3       C    15.0   30  36.666667        22.5\n",
      "4       C     NaN   50  36.666667        22.5\n",
      "5       B    28.0   30  29.500000        21.5\n",
      "6       C    30.0   30  36.666667        22.5\n",
      "7       A    15.0   35  29.000000        11.0\n"
     ]
    }
   ],
   "execution_count": 58
  },
  {
   "metadata": {
    "ExecuteTime": {
     "end_time": "2025-09-25T15:03:08.325475Z",
     "start_time": "2025-09-25T15:03:08.319239Z"
    }
   },
   "cell_type": "code",
   "source": [
    "lst = [['Tom', 18, 188, 75],\n",
    "       ['Bob', 19, 179, 68],\n",
    "       ['Linda', 17, 177, 62]]\n",
    "df = pd.DataFrame(lst, columns=['A', 'B', 'C', 'D'])\n",
    "print(df)\n",
    "print('*' * 30)\n",
    "df.index.name = '行'\n",
    "df.columns.name = '列'\n",
    "print(df)"
   ],
   "id": "305c76ae7d8da259",
   "outputs": [
    {
     "name": "stdout",
     "output_type": "stream",
     "text": [
      "       A   B    C   D\n",
      "0    Tom  18  188  75\n",
      "1    Bob  19  179  68\n",
      "2  Linda  17  177  62\n",
      "******************************\n",
      "列      A   B    C   D\n",
      "行                    \n",
      "0    Tom  18  188  75\n",
      "1    Bob  19  179  68\n",
      "2  Linda  17  177  62\n"
     ]
    }
   ],
   "execution_count": 59
  },
  {
   "metadata": {
    "ExecuteTime": {
     "end_time": "2025-09-25T15:03:08.371220Z",
     "start_time": "2025-09-25T15:03:08.354680Z"
    }
   },
   "cell_type": "code",
   "source": [
    "df.index = pd.Int64Index([0, 1, 2], dtype='int64', name='行')\n",
    "df.columns = pd.Index(list('ABCD'), dtype=object, name='列')\n",
    "print(df)"
   ],
   "id": "cf36a4fd79ca848",
   "outputs": [
    {
     "name": "stdout",
     "output_type": "stream",
     "text": [
      "列      A   B    C   D\n",
      "行                    \n",
      "0    Tom  18  188  75\n",
      "1    Bob  19  179  68\n",
      "2  Linda  17  177  62\n"
     ]
    }
   ],
   "execution_count": 60
  }
 ],
 "metadata": {
  "kernelspec": {
   "display_name": "Python 3",
   "language": "python",
   "name": "python3"
  },
  "language_info": {
   "codemirror_mode": {
    "name": "ipython",
    "version": 2
   },
   "file_extension": ".py",
   "mimetype": "text/x-python",
   "name": "python",
   "nbconvert_exporter": "python",
   "pygments_lexer": "ipython2",
   "version": "2.7.6"
  }
 },
 "nbformat": 4,
 "nbformat_minor": 5
}
