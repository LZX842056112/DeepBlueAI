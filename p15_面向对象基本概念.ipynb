{
 "cells": [
  {
   "metadata": {},
   "cell_type": "markdown",
   "source": "#### 模拟学生和老师的一天",
   "id": "638277efb25643c"
  },
  {
   "metadata": {},
   "cell_type": "markdown",
   "source": [
    "|学生| 老师               |\n",
    "|--|------------------|\n",
    "|人物出场介绍（姓名、年龄、年级） | 人物出场介绍（姓名、年龄、部门） |\n",
    "|起床（睁开眼睛、起身、穿好衣服）| 起床（睁开眼睛、起身、穿好衣服） |\n",
    "|洗漱（刷牙、洗脸）| 洗漱（刷牙、洗脸）        |\n",
    "|吃饭（吃菜、扒饭）| 吃饭（吃菜、扒饭）        |\n",
    "|登录账号（输入账号密码、登录成功）| 打卡（录入指纹、打卡成功）    |\n",
    "|学习（看视频、查资料、写代码） | 工作（授课、答疑、写代码）    |\n",
    "|吃饭（吃菜、扒饭） | 吃饭（吃菜、扒饭）        |\n",
    "|学习（看视频、查资料、写代码）| 工作（授课、答疑、写代码）    |\n",
    "|吃饭（吃菜、扒饭）| 吃饭（吃菜、扒饭）        |\n",
    "|洗漱（刷牙、洗脸） | 洗漱（刷牙、洗脸）        |\n",
    "|睡觉（脱掉外套、躺下、闭眼） | 睡觉（脱掉外套、躺下、闭眼）   |\n",
    "|人数统计（统计、公布） | 人数统计（统计、公布）      |"
   ],
   "id": "266096fe458a385f"
  },
  {
   "metadata": {},
   "cell_type": "markdown",
   "source": "#### 面向过程编程",
   "id": "12569507428af8aa"
  },
  {
   "metadata": {
    "ExecuteTime": {
     "end_time": "2025-10-03T13:19:40.227748Z",
     "start_time": "2025-10-03T13:19:40.216569Z"
    }
   },
   "cell_type": "code",
   "source": [
    "def get_up(name):\n",
    "    print(f'{name}睁开眼睛')\n",
    "    print(f'{name}起身')\n",
    "    print(f'{name}穿好衣服')\n",
    "\n",
    "\n",
    "def wash(name):\n",
    "    print(f'{name}刷牙')\n",
    "    print(f'{name}洗脸')\n",
    "\n",
    "\n",
    "def eat(name):\n",
    "    print(f'{name}吃菜')\n",
    "    print(f'{name}扒饭')\n",
    "\n",
    "\n",
    "def login_id(name):\n",
    "    print(f'{name}输入账号密码')\n",
    "    print(f'{name}登陆账号成功')\n",
    "\n",
    "\n",
    "def study(name):\n",
    "    print(f'{name}看视频')\n",
    "    print(f'{name}查资料')\n",
    "    print(f'{name}写代码')\n",
    "\n",
    "\n",
    "def sleep(name):\n",
    "    print(f'{name}脱掉外套')\n",
    "    print(f'{name}躺下')\n",
    "    print(f'{name}闭上眼睛')\n",
    "\n",
    "\n",
    "count_s = 0\n",
    "stu1 = '张三'\n",
    "age1 = 18\n",
    "grade1 = '高三'\n",
    "print(f'大家好! 我是{stu1}, 今年{age1}岁, 目前正在读{grade1}!')\n",
    "count_s += 1\n",
    "get_up(stu1)\n",
    "wash(stu1)\n",
    "eat(stu1)\n",
    "login_id(stu1)\n",
    "study(stu1)\n",
    "eat(stu1)\n",
    "study(stu1)\n",
    "eat(stu1)\n",
    "wash(stu1)\n",
    "sleep(stu1)\n",
    "print(f'当前统计的学生人数为: {count_s}')\n",
    "\n",
    "\n",
    "def get_up(name):\n",
    "    print(f'{name}睁开眼睛')\n",
    "    print(f'{name}起身')\n",
    "    print(f'{name}穿好衣服')\n",
    "\n",
    "\n",
    "def wash(name):\n",
    "    print(f'{name}刷牙')\n",
    "    print(f'{name}洗脸')\n",
    "\n",
    "\n",
    "def eat(name):\n",
    "    print(f'{name}吃菜')\n",
    "    print(f'{name}扒饭')\n",
    "\n",
    "\n",
    "def clock_in(name):\n",
    "    print(f'{name}录入指纹')\n",
    "    print(f'{name}打卡成功')\n",
    "\n",
    "\n",
    "def work(name):\n",
    "    print(f'{name}授课')\n",
    "    print(f'{name}答疑')\n",
    "    print(f'{name}写代码')\n",
    "\n",
    "\n",
    "def sleep(name):\n",
    "    print(f'{name}脱掉外套')\n",
    "    print(f'{name}躺下')\n",
    "    print(f'{name}闭上眼睛')\n",
    "\n",
    "\n",
    "count_t = 0\n",
    "t1 = '老赵'\n",
    "age1 = 39\n",
    "department = '教学部'\n",
    "print(f'大家好! 我是{t1}, 今年{age1}岁, 在{department}任职!')\n",
    "count_t += 1\n",
    "get_up(t1)\n",
    "wash(t1)\n",
    "eat(t1)\n",
    "clock_in(t1)\n",
    "work(t1)\n",
    "eat(t1)\n",
    "work(t1)\n",
    "eat(t1)\n",
    "wash(t1)\n",
    "sleep(t1)\n",
    "print(f'当前统计的老师人数为: {count_t}')"
   ],
   "id": "266da8ccafeb29d5",
   "outputs": [
    {
     "name": "stdout",
     "output_type": "stream",
     "text": [
      "大家好! 我是张三, 今年18岁, 目前正在读高三!\n",
      "张三睁开眼睛\n",
      "张三起身\n",
      "张三穿好衣服\n",
      "张三刷牙\n",
      "张三洗脸\n",
      "张三吃菜\n",
      "张三扒饭\n",
      "张三输入账号密码\n",
      "张三登陆账号成功\n",
      "张三看视频\n",
      "张三查资料\n",
      "张三写代码\n",
      "张三吃菜\n",
      "张三扒饭\n",
      "张三看视频\n",
      "张三查资料\n",
      "张三写代码\n",
      "张三吃菜\n",
      "张三扒饭\n",
      "张三刷牙\n",
      "张三洗脸\n",
      "张三脱掉外套\n",
      "张三躺下\n",
      "张三闭上眼睛\n",
      "当前统计的学生人数为: 1\n",
      "大家好! 我是老赵, 今年39岁, 在教学部任职!\n",
      "老赵睁开眼睛\n",
      "老赵起身\n",
      "老赵穿好衣服\n",
      "老赵刷牙\n",
      "老赵洗脸\n",
      "老赵吃菜\n",
      "老赵扒饭\n",
      "老赵录入指纹\n",
      "老赵打卡成功\n",
      "老赵授课\n",
      "老赵答疑\n",
      "老赵写代码\n",
      "老赵吃菜\n",
      "老赵扒饭\n",
      "老赵授课\n",
      "老赵答疑\n",
      "老赵写代码\n",
      "老赵吃菜\n",
      "老赵扒饭\n",
      "老赵刷牙\n",
      "老赵洗脸\n",
      "老赵脱掉外套\n",
      "老赵躺下\n",
      "老赵闭上眼睛\n",
      "当前统计的老师人数为: 1\n"
     ]
    }
   ],
   "execution_count": 1
  },
  {
   "metadata": {},
   "cell_type": "markdown",
   "source": "#### 面向对象编程",
   "id": "180d3d4b4224f525"
  },
  {
   "metadata": {
    "ExecuteTime": {
     "end_time": "2025-10-03T13:19:40.243197Z",
     "start_time": "2025-10-03T13:19:40.229164Z"
    }
   },
   "cell_type": "code",
   "source": [
    "class Person:\n",
    "    def __init__(self, name, age):\n",
    "        self.name = name\n",
    "        self.age = age\n",
    "        self.show()\n",
    "\n",
    "    def get_up(self):\n",
    "        print(f'{self.name}睁开眼睛')\n",
    "        print(f'{self.name}起身')\n",
    "        print(f'{self.name}穿好衣服')\n",
    "\n",
    "    def wash(self):\n",
    "        print(f'{self.name}刷牙')\n",
    "        print(f'{self.name}洗脸')\n",
    "\n",
    "    def eat(self):\n",
    "        print(f'{self.name}吃菜')\n",
    "        print(f'{self.name}扒饭')\n",
    "\n",
    "    def sleep(self):\n",
    "        print(f'{self.name}脱掉外套')\n",
    "        print(f'{self.name}躺下')\n",
    "        print(f'{self.name}闭上眼睛')\n",
    "\n",
    "\n",
    "class Student(Person):\n",
    "    count_s = 0\n",
    "\n",
    "    def __init__(self, name, age, grade):\n",
    "        self.grade = grade\n",
    "        super().__init__(name, age)\n",
    "        Student.count_s += 1\n",
    "\n",
    "    def show(self):\n",
    "        print(f'大家好! 我是{self.name}, 今年{self.age}岁, 目前正在读{self.grade}!')\n",
    "\n",
    "    def login_id(self):\n",
    "        print(f'{self.name}输入账号密码')\n",
    "        print(f'{self.name}登陆账号成功')\n",
    "\n",
    "    def study(self):\n",
    "        print(f'{self.name}看视频')\n",
    "        print(f'{self.name}查资料')\n",
    "        print(f'{self.name}写代码')\n",
    "\n",
    "    @staticmethod\n",
    "    def publish():\n",
    "        print(f'当前统计的学生人数为: {Student.count_s}')\n",
    "\n",
    "\n",
    "class Teacher(Person):\n",
    "    count_t = 0\n",
    "\n",
    "    def __init__(self, name, age, department):\n",
    "        self.department = department\n",
    "        super().__init__(name, age)\n",
    "        Teacher.count_t += 1\n",
    "\n",
    "    def show(self):\n",
    "        print(f'大家好! 我是{self.name}, 今年{self.age}岁, 在{self.department}任职!')\n",
    "\n",
    "    def clock_in(self):\n",
    "        print(f'{self.name}录入指纹')\n",
    "        print(f'{self.name}打卡成功')\n",
    "\n",
    "    def work(self):\n",
    "        print(f'{self.name}授课')\n",
    "        print(f'{self.name}答疑')\n",
    "        print(f'{self.name}写代码')\n",
    "\n",
    "    @staticmethod\n",
    "    def publish():\n",
    "        print(f'当前统计的老师人数为: {Teacher.count_t}')\n",
    "\n",
    "\n",
    "stu1 = Student('张三', 18, '大二')\n",
    "stu2 = Student('李四', 20, '大一')\n",
    "stu3 = Student('王五', 19, '大一')\n",
    "stu1.get_up()\n",
    "stu1.sleep()\n",
    "stu2.wash()\n",
    "stu3.eat()\n",
    "\n",
    "tea1 = Teacher('老李', 45, '财务部')\n",
    "tea2 = Teacher('老刘', 50, '教务部')\n",
    "tea1.clock_in()\n",
    "tea2.work()\n",
    "Student.publish()\n",
    "Teacher.publish()"
   ],
   "id": "e0a4ed99def1340",
   "outputs": [
    {
     "name": "stdout",
     "output_type": "stream",
     "text": [
      "大家好! 我是张三, 今年18岁, 目前正在读大二!\n",
      "大家好! 我是李四, 今年20岁, 目前正在读大一!\n",
      "大家好! 我是王五, 今年19岁, 目前正在读大一!\n",
      "张三睁开眼睛\n",
      "张三起身\n",
      "张三穿好衣服\n",
      "张三脱掉外套\n",
      "张三躺下\n",
      "张三闭上眼睛\n",
      "李四刷牙\n",
      "李四洗脸\n",
      "王五吃菜\n",
      "王五扒饭\n",
      "大家好! 我是老李, 今年45岁, 在财务部任职!\n",
      "大家好! 我是老刘, 今年50岁, 在教务部任职!\n",
      "老李录入指纹\n",
      "老李打卡成功\n",
      "老刘授课\n",
      "老刘答疑\n",
      "老刘写代码\n",
      "当前统计的学生人数为: 3\n",
      "当前统计的老师人数为: 2\n"
     ]
    }
   ],
   "execution_count": 2
  },
  {
   "metadata": {},
   "cell_type": "markdown",
   "source": "#### 把大象放入冰箱",
   "id": "a7baf68086bcfb8a"
  },
  {
   "metadata": {
    "ExecuteTime": {
     "end_time": "2025-10-03T13:19:40.258975Z",
     "start_time": "2025-10-03T13:19:40.244343Z"
    }
   },
   "cell_type": "code",
   "source": [
    "class elephant:\n",
    "    def __init__(self):\n",
    "        print('大象', end='')\n",
    "\n",
    "    def into(self):\n",
    "        print('进入', end='')\n",
    "        fridge()\n",
    "        print()\n",
    "\n",
    "\n",
    "class fridge:\n",
    "    def __init__(self):\n",
    "        print('冰箱', end='')\n",
    "\n",
    "    def open(self):\n",
    "        print('开门')\n",
    "\n",
    "    def close(self):\n",
    "        print('关门')\n",
    "\n",
    "\n",
    "class Person:\n",
    "    def __init__(self, name):\n",
    "        self.n = name\n",
    "        print(self.n, end='')\n",
    "\n",
    "    def open(self):\n",
    "        print('打开', end='')\n",
    "        fridge().open()\n",
    "\n",
    "    def set(self):\n",
    "        print('操作', end='')\n",
    "        elephant().into()\n",
    "\n",
    "    def close(self):\n",
    "        print('关闭', end='')\n",
    "        fridge().close()\n",
    "\n",
    "\n",
    "Person('zs').open()\n",
    "Person('zs').set()\n",
    "Person('zs').close()\n",
    "print('*' * 40)\n",
    "\n",
    "p = 'zs'\n",
    "print(f'{p}打开冰箱开门')\n",
    "print(f'{p}操作大象进入冰箱')\n",
    "print(f'{p}关闭冰箱关门')"
   ],
   "id": "5a1ee7a30f2c4daf",
   "outputs": [
    {
     "name": "stdout",
     "output_type": "stream",
     "text": [
      "zs打开冰箱开门\n",
      "zs操作大象进入冰箱\n",
      "zs关闭冰箱关门\n",
      "****************************************\n",
      "zs打开冰箱开门\n",
      "zs操作大象进入冰箱\n",
      "zs关闭冰箱关门\n"
     ]
    }
   ],
   "execution_count": 3
  },
  {
   "metadata": {},
   "cell_type": "markdown",
   "source": "![p23面向对象编程](picture/p23面向对象编程.png)",
   "id": "cef7fb9b66e2b3b7"
  },
  {
   "metadata": {},
   "cell_type": "markdown",
   "source": [
    "#### 面向对象基本概念\n",
    "- 类对象、实例对象、类属性、实例属性"
   ],
   "id": "24af570b0c6695eb"
  },
  {
   "metadata": {
    "ExecuteTime": {
     "end_time": "2025-10-03T13:19:40.274693Z",
     "start_time": "2025-10-03T13:19:40.258975Z"
    }
   },
   "cell_type": "code",
   "source": [
    "\"\"\"\n",
    "类, 类对象, 类型\n",
    "所有类都默认继承object, 通常省略不写\n",
    "\"\"\"\n",
    "\n",
    "\n",
    "class A:\n",
    "    pass\n",
    "\n",
    "\n",
    "class B(A, object):\n",
    "    pass\n",
    "\n",
    "\n",
    "class Student(object):\n",
    "    pass\n",
    "\n",
    "\n",
    "# Student('张三', 18, 2)\n",
    "stu1 = Student()\n",
    "print(stu1)"
   ],
   "id": "b5d9107812e66a1c",
   "outputs": [
    {
     "name": "stdout",
     "output_type": "stream",
     "text": [
      "<__main__.Student object at 0x000002027C5A7760>\n"
     ]
    }
   ],
   "execution_count": 4
  },
  {
   "metadata": {},
   "cell_type": "markdown",
   "source": [
    "#### 类方法、对象方法、静态方法\n",
    "- 通常把定义在类中的函数叫方法（method）\n",
    "- 对象方法的第一个参数位隐式的接收了实例对象\n",
    "- 类方法的第一个参数位隐式的接收了类对象"
   ],
   "id": "ea2cafcd090184d8"
  },
  {
   "metadata": {
    "ExecuteTime": {
     "end_time": "2025-10-03T13:19:40.290726Z",
     "start_time": "2025-10-03T13:19:40.275841Z"
    }
   },
   "cell_type": "code",
   "source": [
    "class Student(object):\n",
    "    # 类属性(类变量)\n",
    "    school = '深兰教育'\n",
    "\n",
    "    # 方法: 在类中定义的函数\n",
    "    # 魔术方法(特殊方法): 官方设计好的, 以两个下划线开头并且以两个下划线结尾来命名的方法\n",
    "    # 魔术方法的特点: 魔术方法通常不需要主动的调用, 在特定情况下, 会被自动调用\n",
    "    def __init__(self, name, age, grade):\n",
    "        # 实例属性(实例变量)\n",
    "        self.__name = name\n",
    "        self.age = age\n",
    "        self.grade = grade\n",
    "\n",
    "    def get_name(self):\n",
    "        return self.__name\n",
    "\n",
    "    def f(self):\n",
    "        print(stu2.__name)\n",
    "\n",
    "    # 对象方法: 第一个参数位隐式的接收了调用该方法的实例对象\n",
    "    def study(self, course):\n",
    "        return f'{self.__name}在听{course}课'\n",
    "\n",
    "    # 内置的类方法装饰器\n",
    "    @classmethod\n",
    "    def study1(cls, obj, course):\n",
    "        return f'{obj.__name}在听{course}课!'\n",
    "\n",
    "    @classmethod\n",
    "    def study2(cls, course):  # 类方法: 第一个参数位隐式的接收了调用该方法的类对象\n",
    "        print(f'{cls.school}的学生在学习{course}课!')\n",
    "        print(f'{Student.school}的学生在学习{course}课!')\n",
    "\n",
    "    # 内置的静态方法装饰器\n",
    "    @staticmethod\n",
    "    def study3(course):  # 静态方法\n",
    "        print(f'{Student.school}的学生在学习{course}课!')\n",
    "\n",
    "    # 内置的属性装饰器, 将方法装饰成一个只读属性, 属性名即方法名, 属性的值即方法的返回值\n",
    "    @property\n",
    "    def study4(self):\n",
    "        return f'{self.__name}在学习Python课'\n",
    "\n",
    "    @property\n",
    "    def get_all_attr(self):\n",
    "        return self.__name, self.age, self.grade\n",
    "\n",
    "    def __study1(self, course):\n",
    "        return f'{self.__name}在听{course}课'\n",
    "\n",
    "    def call_study1(self, course):\n",
    "        return self.__study1(course)\n",
    "\n",
    "\n",
    "class Exam(Student):\n",
    "    school = 'yyy培训机构'\n",
    "\n",
    "\n",
    "stu1 = Student('张三', 18, '大一')\n",
    "stu2 = Student('李四', 19, '大二')\n",
    "stu3 = Student('王五', 20, grade='大三')\n",
    "\n",
    "Student.study(stu1, 'Python')\n",
    "Exam.study(stu1, 'Python')"
   ],
   "id": "5bf697fc10053db",
   "outputs": [
    {
     "data": {
      "text/plain": [
       "'张三在听Python课'"
      ]
     },
     "execution_count": 5,
     "metadata": {},
     "output_type": "execute_result"
    }
   ],
   "execution_count": 5
  },
  {
   "metadata": {},
   "cell_type": "markdown",
   "source": [
    "#### 魔术方法(特殊方法)\n",
    "- __new__称为构造方法, 在实例化时被自动触发, 用来创建并返回实例对象的, 并返回该实例对象\n",
    "- __init__称为初始化方法, 在实例化时被自动触发, 用来对实例对象做属性定制的, 没有返回值\n",
    "- 每次实例化时, 都会先自动调用__new__(cls, *args, **kwargs)方法, 把要实例化的类对象(即: Student)作为实参传递给形参cls, 实例化传入的其它实参(即: '张三', 18, '大一')传递给形参*args, **kwargs,然后__new__方法就会根据形参cls接收到的类对象创建出一个对应的实例对象, 并返回该实例对象.\n",
    "\n",
    "- 接着, 实例化还会自动调用__init__(self, name, age, grade), 把__new__方法创建的实例对象作为实参传递给形参self, __new__接收到的其它参数(即: '张三', 18, '大一')分别传递给形参name, age, grade,然后__init__方法就可以对形参self接收到实例对象做属性定制(inplace操作, __init__方法不能有返回值)"
   ],
   "id": "75ecc10e59c684d4"
  },
  {
   "metadata": {
    "ExecuteTime": {
     "end_time": "2025-10-03T13:19:40.306200Z",
     "start_time": "2025-10-03T13:19:40.291876Z"
    }
   },
   "cell_type": "code",
   "source": [
    "print(stu1.study('python'))\n",
    "stu1.__init__('张三丰', 20, 0)\n",
    "print(Student.study(stu1, 'python'))\n",
    "print('*' * 30)\n",
    "stu1.study2('Python')\n",
    "stu2.study2('Python')\n",
    "print('*' * 30)\n",
    "\n",
    "Student.study3('Python')\n",
    "stu1.study3('Python')\n",
    "print('*' * 30)\n",
    "\n",
    "print(Student.get_all_attr)\n",
    "print(stu1.get_all_attr)\n",
    "print('*' * 30)\n",
    "\n",
    "print(stu1.call_study1('python'))"
   ],
   "id": "cc83d55cfdd84d79",
   "outputs": [
    {
     "name": "stdout",
     "output_type": "stream",
     "text": [
      "张三在听python课\n",
      "张三丰在听python课\n",
      "******************************\n",
      "深兰教育的学生在学习Python课!\n",
      "深兰教育的学生在学习Python课!\n",
      "深兰教育的学生在学习Python课!\n",
      "深兰教育的学生在学习Python课!\n",
      "******************************\n",
      "深兰教育的学生在学习Python课!\n",
      "深兰教育的学生在学习Python课!\n",
      "******************************\n",
      "<property object at 0x000002027C5AEA40>\n",
      "('张三丰', 20, 0)\n",
      "******************************\n",
      "张三丰在听python课\n"
     ]
    }
   ],
   "execution_count": 6
  },
  {
   "metadata": {},
   "cell_type": "markdown",
   "source": [
    "#### getattr(object, name[, default])\n",
    "- 返回 object 对象的 name 属性值（name 参数为字符串）\n",
    "- 如果 name 属性不存在，且提供了 default 值，则返回它，否则触发 AttributeError"
   ],
   "id": "879a383a9c65ba72"
  },
  {
   "metadata": {},
   "cell_type": "markdown",
   "source": [
    "#### 调用实例属性\n",
    "- 只能用实例对象调用, 不能用类对象调用"
   ],
   "id": "8062eec960da4a3a"
  },
  {
   "metadata": {
    "ExecuteTime": {
     "end_time": "2025-10-03T13:19:40.322225Z",
     "start_time": "2025-10-03T13:19:40.307394Z"
    }
   },
   "cell_type": "code",
   "source": [
    "print(stu1)\n",
    "print(stu2)\n",
    "print('*' * 30)\n",
    "\n",
    "print(stu1.get_name())\n",
    "print(stu2.get_name())\n",
    "print('*' * 30)\n",
    "\n",
    "print(getattr(stu1, 'age'))\n",
    "# print(getattr(stu1, 'address'))  # Error\n",
    "print(getattr(stu1, 'address', '该实例属性不存在'))"
   ],
   "id": "a794ed841973313",
   "outputs": [
    {
     "name": "stdout",
     "output_type": "stream",
     "text": [
      "<__main__.Student object at 0x000002027C5F0400>\n",
      "<__main__.Student object at 0x000002027C5F0220>\n",
      "******************************\n",
      "张三丰\n",
      "李四\n",
      "******************************\n",
      "20\n",
      "该实例属性不存在\n"
     ]
    }
   ],
   "execution_count": 7
  },
  {
   "metadata": {},
   "cell_type": "markdown",
   "source": [
    "#### 对象方法\n",
    "- 通常用实例对象去调用, 用类对象调用时需要主动给self传实参"
   ],
   "id": "249e3cb238c46359"
  },
  {
   "metadata": {
    "ExecuteTime": {
     "end_time": "2025-10-03T13:19:40.337437Z",
     "start_time": "2025-10-03T13:19:40.323216Z"
    }
   },
   "cell_type": "code",
   "source": [
    "print(stu1.study('Python'))\n",
    "print(stu2.study('数学'))\n",
    "print(stu3.study('Python'))\n",
    "print('*' * 30)\n",
    "\n",
    "print(Student.study(stu1, 'Python'))\n",
    "print(Student.study(stu2, '数学'))\n",
    "print(Student.study(stu3, 'Python'))\n",
    "print('*' * 30)\n",
    "\n",
    "stu1.f()\n",
    "stu2.f()\n",
    "stu3.f()"
   ],
   "id": "ace04f3e6db7bf18",
   "outputs": [
    {
     "name": "stdout",
     "output_type": "stream",
     "text": [
      "张三丰在听Python课\n",
      "李四在听数学课\n",
      "王五在听Python课\n",
      "******************************\n",
      "张三丰在听Python课\n",
      "李四在听数学课\n",
      "王五在听Python课\n",
      "******************************\n",
      "李四\n",
      "李四\n",
      "李四\n"
     ]
    }
   ],
   "execution_count": 8
  },
  {
   "metadata": {},
   "cell_type": "markdown",
   "source": [
    "#### 调用类属性\n",
    "- 既可以用类对象调用(推荐), 也可以用实例对象调用\n",
    "- 注意: 当实例属性和类属性同名时, 实例对象优先调用实例属性"
   ],
   "id": "8b7b90b245d4bcac"
  },
  {
   "metadata": {
    "ExecuteTime": {
     "end_time": "2025-10-03T13:19:40.353115Z",
     "start_time": "2025-10-03T13:19:40.339141Z"
    }
   },
   "cell_type": "code",
   "source": [
    "print(Student.school)\n",
    "print(stu1.school)\n",
    "print(stu2.school)\n",
    "print(stu3.school)\n",
    "print('*' * 30)\n",
    "\n",
    "print(getattr(Student, 'school'))\n",
    "print(getattr(Student, 'adres', '该类属性不存在'))"
   ],
   "id": "40d38b2188f32c9f",
   "outputs": [
    {
     "name": "stdout",
     "output_type": "stream",
     "text": [
      "深兰教育\n",
      "深兰教育\n",
      "深兰教育\n",
      "深兰教育\n",
      "******************************\n",
      "深兰教育\n",
      "该类属性不存在\n"
     ]
    }
   ],
   "execution_count": 9
  },
  {
   "metadata": {},
   "cell_type": "markdown",
   "source": [
    "#### 调用类方法\n",
    "- 既可以用类对象调用(推荐), 也可以用实例对象调用,用类对象调用时需要主动给self传实参"
   ],
   "id": "b1ff7631429d9b49"
  },
  {
   "metadata": {
    "ExecuteTime": {
     "end_time": "2025-10-03T13:19:40.368268Z",
     "start_time": "2025-10-03T13:19:40.354113Z"
    }
   },
   "cell_type": "code",
   "source": [
    "print(Student.study1(stu1, 'Python'))\n",
    "print(stu1.study1(stu1, 'Python'))\n",
    "print(stu2.study1(stu2, 'Python'))\n",
    "print('*' * 30)\n",
    "\n",
    "Student.study2('Python')\n",
    "stu1.study2('Python')\n",
    "stu2.study2('Python')"
   ],
   "id": "6efc21c009409fdd",
   "outputs": [
    {
     "name": "stdout",
     "output_type": "stream",
     "text": [
      "张三丰在听Python课!\n",
      "张三丰在听Python课!\n",
      "李四在听Python课!\n",
      "******************************\n",
      "深兰教育的学生在学习Python课!\n",
      "深兰教育的学生在学习Python课!\n",
      "深兰教育的学生在学习Python课!\n",
      "深兰教育的学生在学习Python课!\n",
      "深兰教育的学生在学习Python课!\n",
      "深兰教育的学生在学习Python课!\n"
     ]
    }
   ],
   "execution_count": 10
  },
  {
   "metadata": {},
   "cell_type": "markdown",
   "source": [
    "#### 调用静态方法\n",
    "- 既可以用类对象调用(推荐), 也可以用实例对象调用"
   ],
   "id": "1c149abed5588273"
  },
  {
   "metadata": {
    "ExecuteTime": {
     "end_time": "2025-10-03T13:19:40.383830Z",
     "start_time": "2025-10-03T13:19:40.369341Z"
    }
   },
   "cell_type": "code",
   "source": [
    "Student.study3('Python')\n",
    "stu1.study3('Python')\n",
    "stu2.study3('Python')\n",
    "stu3.study3('Python')"
   ],
   "id": "41ebbd4cfbc873d7",
   "outputs": [
    {
     "name": "stdout",
     "output_type": "stream",
     "text": [
      "深兰教育的学生在学习Python课!\n",
      "深兰教育的学生在学习Python课!\n",
      "深兰教育的学生在学习Python课!\n",
      "深兰教育的学生在学习Python课!\n"
     ]
    }
   ],
   "execution_count": 11
  },
  {
   "metadata": {},
   "cell_type": "markdown",
   "source": [
    "#### 调用只读属性\n",
    "- 用实例对象调用"
   ],
   "id": "e6c14d28ce140bf5"
  },
  {
   "metadata": {
    "ExecuteTime": {
     "end_time": "2025-10-03T13:19:40.399613Z",
     "start_time": "2025-10-03T13:19:40.384827Z"
    }
   },
   "cell_type": "code",
   "source": [
    "print(stu1.study4)\n",
    "print(stu2.study4)\n",
    "\n",
    "print(stu1.get_all_attr)\n",
    "print(stu2.get_all_attr)\n",
    "print(stu3.get_all_attr)"
   ],
   "id": "b93c648aec7bc1e",
   "outputs": [
    {
     "name": "stdout",
     "output_type": "stream",
     "text": [
      "张三丰在学习Python课\n",
      "李四在学习Python课\n",
      "('张三丰', 20, 0)\n",
      "('李四', 19, '大二')\n",
      "('王五', 20, '大三')\n"
     ]
    }
   ],
   "execution_count": 12
  },
  {
   "metadata": {},
   "cell_type": "markdown",
   "source": [
    "#### setattr(object, name, value)\n",
    "- 将 object 的 name 属性设置为 value，属性不存在则新增属性（name参数为字符串）"
   ],
   "id": "f41ec0a7e22086d9"
  },
  {
   "metadata": {},
   "cell_type": "markdown",
   "source": [
    "#### 修改实例属性\n",
    "- 只能用实例对象修改, 不能用类对象"
   ],
   "id": "6baa471ae0f31a84"
  },
  {
   "metadata": {
    "ExecuteTime": {
     "end_time": "2025-10-03T13:19:40.415252Z",
     "start_time": "2025-10-03T13:19:40.400600Z"
    }
   },
   "cell_type": "code",
   "source": [
    "stu1.age = 29\n",
    "print(stu1.age)\n",
    "setattr(stu1, 'age', 27)\n",
    "print(stu1.age)"
   ],
   "id": "e50c1ce93cd727c9",
   "outputs": [
    {
     "name": "stdout",
     "output_type": "stream",
     "text": [
      "29\n",
      "27\n"
     ]
    }
   ],
   "execution_count": 13
  },
  {
   "metadata": {},
   "cell_type": "markdown",
   "source": [
    "#### 修改类属性:\n",
    "- 只能用类对象修改, 不能用实例对象"
   ],
   "id": "5c736e6b9aeb4a5b"
  },
  {
   "metadata": {
    "ExecuteTime": {
     "end_time": "2025-10-03T13:19:40.431047Z",
     "start_time": "2025-10-03T13:19:40.416482Z"
    }
   },
   "cell_type": "code",
   "source": [
    "Student.school = '深兰大学'\n",
    "print(Student.school)\n",
    "setattr(Student, 'school', '教育')\n",
    "print(Student.school)\n",
    "print(stu1.school)\n",
    "print(stu2.school)\n",
    "print(stu3.school)"
   ],
   "id": "d5abd3fd57f078c5",
   "outputs": [
    {
     "name": "stdout",
     "output_type": "stream",
     "text": [
      "深兰大学\n",
      "教育\n",
      "教育\n",
      "教育\n",
      "教育\n"
     ]
    }
   ],
   "execution_count": 14
  },
  {
   "metadata": {},
   "cell_type": "markdown",
   "source": [
    "#### 动态定义实例属性\n",
    "- 当实例对象修改的属性不存在时, 则新增该实例属性"
   ],
   "id": "4008c4cf1e8d5371"
  },
  {
   "metadata": {
    "ExecuteTime": {
     "end_time": "2025-10-03T13:19:40.446216Z",
     "start_time": "2025-10-03T13:19:40.431554Z"
    }
   },
   "cell_type": "code",
   "source": [
    "# 给stu1新增一个实例属性\n",
    "stu1.school = 'ShenLanEdu'\n",
    "print(stu1.school)\n",
    "\n",
    "# 类属性不变\n",
    "print(Student.school)\n",
    "print(stu2.school)\n",
    "print(stu3.school)\n",
    "\n",
    "# 给stu2新增一个实例属性\n",
    "setattr(stu2, 'adres', '威宁路')\n",
    "print(stu2.adres)\n",
    "\n",
    "# AttributeError: type object 'Student' has no attribute 'adres'\n",
    "# print(Student.adres)"
   ],
   "id": "ccc9b51b6c3a89dc",
   "outputs": [
    {
     "name": "stdout",
     "output_type": "stream",
     "text": [
      "ShenLanEdu\n",
      "教育\n",
      "教育\n",
      "教育\n",
      "威宁路\n"
     ]
    }
   ],
   "execution_count": 15
  },
  {
   "metadata": {},
   "cell_type": "markdown",
   "source": [
    "#### 动态定义类属性\n",
    "- 当类对象修改的属性不存在时, 则新增该类属性"
   ],
   "id": "9dcb1f560e20a988"
  },
  {
   "cell_type": "code",
   "id": "initial_id",
   "metadata": {
    "collapsed": true,
    "ExecuteTime": {
     "end_time": "2025-10-03T13:19:40.461611Z",
     "start_time": "2025-10-03T13:19:40.446216Z"
    }
   },
   "source": [
    "# 新增一个类属性\n",
    "Student.subject = 'AI'\n",
    "print(Student.subject)\n",
    "print(stu1.subject)\n",
    "print(stu2.subject)\n",
    "\n",
    "# 新增一个类属性\n",
    "setattr(Student, 'course', '人工智能')\n",
    "print(Student.course)\n",
    "print(stu1.course)\n",
    "print(stu2.course)"
   ],
   "outputs": [
    {
     "name": "stdout",
     "output_type": "stream",
     "text": [
      "AI\n",
      "AI\n",
      "AI\n",
      "人工智能\n",
      "人工智能\n",
      "人工智能\n"
     ]
    }
   ],
   "execution_count": 16
  },
  {
   "metadata": {},
   "cell_type": "markdown",
   "source": [
    "#### delattr(object, name)\n",
    "- 删除 object 的 name 属性（name 参数为字符串）"
   ],
   "id": "c7ae7d786f5e0f53"
  },
  {
   "metadata": {
    "ExecuteTime": {
     "end_time": "2025-10-03T13:19:40.477483Z",
     "start_time": "2025-10-03T13:19:40.462119Z"
    }
   },
   "cell_type": "code",
   "source": [
    "# del stu1.age, Student.school\n",
    "\"\"\" 等价于 del stu1.age \"\"\"\n",
    "delattr(stu1, 'age')\n",
    "\"\"\" 等价于 del Student.school \"\"\"\n",
    "delattr(Student, 'school')\n",
    "# print(stu1.age)  # Error\n",
    "print(stu2.age)\n",
    "print(stu3.age)\n",
    "# print(Student.school)  # Error\n",
    "# print(stu1.school)  # Error\n",
    "# print(stu2.school)  # Error\n",
    "# print(stu3.school)  # Error"
   ],
   "id": "80f010685f15ab31",
   "outputs": [
    {
     "name": "stdout",
     "output_type": "stream",
     "text": [
      "19\n",
      "20\n"
     ]
    }
   ],
   "execution_count": 17
  },
  {
   "metadata": {},
   "cell_type": "markdown",
   "source": [
    "#### hasattr(object, name)\n",
    "- 判断 object 对象是否包含 name 属性（name 参数为字符串），返回 True 或 False\n",
    "- 此功能是通过调用 getattr(object, name) 看是否有AttributeError 异常来实现的"
   ],
   "id": "be184c24e5f216e5"
  },
  {
   "metadata": {
    "ExecuteTime": {
     "end_time": "2025-10-03T13:19:40.492726Z",
     "start_time": "2025-10-03T13:19:40.478599Z"
    }
   },
   "cell_type": "code",
   "source": [
    "print(hasattr(stu1, 'name'))\n",
    "print(hasattr(stu2, 'age'))\n",
    "print(hasattr(stu3, 'grade'))\n",
    "print(hasattr(Student, 'school'))\n",
    "print(hasattr(Student, 'grade'))  # False\n",
    "print(hasattr(stu1, 'address'))  # False\n",
    "print(hasattr(stu1, 'school'))\n",
    "print(hasattr(stu2, 'school'))\n",
    "print(hasattr(stu3, 'school'))\n",
    "\n",
    "# AttributeError: 'Student' object has no attribute 'school'\n",
    "# print(getattr(stu1, 'school'))\n",
    "# print(getattr(stu2, 'school'))\n",
    "# print(getattr(stu3, 'school'))"
   ],
   "id": "2999cdc6b11e5e71",
   "outputs": [
    {
     "name": "stdout",
     "output_type": "stream",
     "text": [
      "False\n",
      "True\n",
      "True\n",
      "False\n",
      "False\n",
      "False\n",
      "True\n",
      "False\n",
      "False\n"
     ]
    }
   ],
   "execution_count": 18
  },
  {
   "metadata": {
    "ExecuteTime": {
     "end_time": "2025-10-03T13:19:40.508038Z",
     "start_time": "2025-10-03T13:19:40.493714Z"
    }
   },
   "cell_type": "code",
   "source": [
    "print(type(stu1) is Student)\n",
    "print(type(stu2) is Student)\n",
    "print(type(stu3) is Student)\n",
    "print(Student)"
   ],
   "id": "4a279c50a83bb664",
   "outputs": [
    {
     "name": "stdout",
     "output_type": "stream",
     "text": [
      "True\n",
      "True\n",
      "True\n",
      "<class '__main__.Student'>\n"
     ]
    }
   ],
   "execution_count": 19
  }
 ],
 "metadata": {
  "kernelspec": {
   "display_name": "Python 3",
   "language": "python",
   "name": "python3"
  },
  "language_info": {
   "codemirror_mode": {
    "name": "ipython",
    "version": 2
   },
   "file_extension": ".py",
   "mimetype": "text/x-python",
   "name": "python",
   "nbconvert_exporter": "python",
   "pygments_lexer": "ipython2",
   "version": "2.7.6"
  }
 },
 "nbformat": 4,
 "nbformat_minor": 5
}
