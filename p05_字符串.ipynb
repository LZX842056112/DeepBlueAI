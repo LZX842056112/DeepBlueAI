{
 "cells": [
  {
   "metadata": {},
   "cell_type": "markdown",
   "source": "#### 标准数据类型",
   "id": "703ea0cc8a68f738"
  },
  {
   "metadata": {},
   "cell_type": "markdown",
   "source": [
    "#### Python 3 中有六种标准数据类型：\n",
    "- 数字（Number）\n",
    "- 字符串（String）\n",
    "- 列表（List）\n",
    "- 元组（Tuple）\n",
    "- 字典（Dictionary）\n",
    "- 集合（Set）"
   ],
   "id": "8560bfa8fe9bb99e"
  },
  {
   "metadata": {},
   "cell_type": "markdown",
   "source": [
    "#### 字符串（String）\n",
    "- 特性：不可变，是序列\n",
    "- 单行字符串：用一对单引号或一对双引号定义\n",
    "- 多行字符串：用三个成对的单引号或双引号定义"
   ],
   "id": "6bfbd2522a2302f3"
  },
  {
   "metadata": {
    "ExecuteTime": {
     "end_time": "2025-10-01T06:28:00.752321Z",
     "start_time": "2025-10-01T06:28:00.739833Z"
    }
   },
   "cell_type": "code",
   "source": [
    "s1 = '这是一个单行字符串'\n",
    "s2 = \"这是一个单行字符串\"\n",
    "s3 = '''这是一个\n",
    "多行字符串'''\n",
    "s4 = \"\"\"这是一个\n",
    "多行字符串\"\"\"\n",
    "\"\"\" 这是一个多行注释,\n",
    "它会被解释器无视 \"\"\""
   ],
   "id": "97b1a6badcb4bd9c",
   "outputs": [
    {
     "data": {
      "text/plain": [
       "' 这是一个多行注释,\\n它会被解释器无视 '"
      ]
     },
     "execution_count": 1,
     "metadata": {},
     "output_type": "execute_result"
    }
   ],
   "execution_count": 1
  },
  {
   "metadata": {},
   "cell_type": "markdown",
   "source": [
    "#### str(object='')\n",
    "- 返回 object 的字符串格式"
   ],
   "id": "908a8d5c1f6ea961"
  },
  {
   "metadata": {
    "ExecuteTime": {
     "end_time": "2025-10-01T06:28:00.766763Z",
     "start_time": "2025-10-01T06:28:00.753629Z"
    }
   },
   "cell_type": "code",
   "source": [
    "print(str())  # ''\n",
    "print(str(1234))  # '1234'\n",
    "print(str(-1.23))  # '-1.23'"
   ],
   "id": "5e6a416e2e4dfa6f",
   "outputs": [
    {
     "name": "stdout",
     "output_type": "stream",
     "text": [
      "\n",
      "1234\n",
      "-1.23\n"
     ]
    }
   ],
   "execution_count": 2
  },
  {
   "metadata": {
    "ExecuteTime": {
     "end_time": "2025-10-01T06:28:00.782810Z",
     "start_time": "2025-10-01T06:28:00.767936Z"
    }
   },
   "cell_type": "code",
   "source": [
    "print(str(1).__eq__('1'))\n",
    "print(str(7.8) == '7.8')\n",
    "print([str()])\n",
    "print([str(True)])\n",
    "print([str(3 + 4j)])"
   ],
   "id": "4fe0928651edcc8a",
   "outputs": [
    {
     "name": "stdout",
     "output_type": "stream",
     "text": [
      "True\n",
      "True\n",
      "['']\n",
      "['True']\n",
      "['(3+4j)']\n"
     ]
    }
   ],
   "execution_count": 3
  },
  {
   "metadata": {
    "ExecuteTime": {
     "end_time": "2025-10-01T06:28:00.798226Z",
     "start_time": "2025-10-01T06:28:00.783927Z"
    }
   },
   "cell_type": "code",
   "source": "print([1233, '645', \"\"\"52\"\"\", True == 1, 3 + 4j, 45.52])",
   "id": "3ab66b5c75b1b17e",
   "outputs": [
    {
     "name": "stdout",
     "output_type": "stream",
     "text": [
      "[1233, '645', '52', True, (3+4j), 45.52]\n"
     ]
    }
   ],
   "execution_count": 4
  },
  {
   "metadata": {},
   "cell_type": "markdown",
   "source": [
    "#### 转义字符\n",
    "- 在字符串中，反斜杠和特定的字符可以组成转义字符\n",
    "\n",
    "| 转义字符 | 描述      |\n",
    "|------|---------|\n",
    "|\\\\ | 一个反斜杠字符 |\n",
    "|\\'| 单引号字符   |\n",
    "|\\\" | 双引号字符   |\n",
    "|\\n | 换行符     |\n",
    "|\\t | 横向制表符   |"
   ],
   "id": "b785618f75ad1a78"
  },
  {
   "metadata": {
    "ExecuteTime": {
     "end_time": "2025-10-01T06:28:00.813666Z",
     "start_time": "2025-10-01T06:28:00.799352Z"
    }
   },
   "cell_type": "code",
   "source": [
    "print('今天天气很好。小明问我:\\'去打球吗?\\'')\n",
    "print('\\100')\n",
    "print('qwe\\tqweqe')\n",
    "print('q\\tqw')\n",
    "print('\\tqwe')"
   ],
   "id": "dd67d9c43c7966c9",
   "outputs": [
    {
     "name": "stdout",
     "output_type": "stream",
     "text": [
      "今天天气很好。小明问我:'去打球吗?'\n",
      "@\n",
      "qwe\tqweqe\n",
      "q\tqw\n",
      "\tqwe\n"
     ]
    }
   ],
   "execution_count": 5
  },
  {
   "metadata": {
    "ExecuteTime": {
     "end_time": "2025-10-01T06:28:00.829560Z",
     "start_time": "2025-10-01T06:28:00.814227Z"
    }
   },
   "cell_type": "code",
   "source": [
    "s = 'a\\\\b'\n",
    "print(s)\n",
    "print([s])"
   ],
   "id": "6944932e6f24a1d2",
   "outputs": [
    {
     "name": "stdout",
     "output_type": "stream",
     "text": [
      "a\\b\n",
      "['a\\\\b']\n"
     ]
    }
   ],
   "execution_count": 6
  },
  {
   "metadata": {},
   "cell_type": "markdown",
   "source": [
    "#### Raw 字符串\n",
    "- 如果希望字符串中的转义字符不发生转义效果，可以在字符串前面\n",
    "加一个字母 r，表示原始字符串"
   ],
   "id": "64b4c0b403dab6d1"
  },
  {
   "metadata": {
    "ExecuteTime": {
     "end_time": "2025-10-01T06:28:00.845364Z",
     "start_time": "2025-10-01T06:28:00.830754Z"
    }
   },
   "cell_type": "code",
   "source": [
    "print('https:\\\\www.example.com\\nuxy\\tngj')\n",
    "print(r'https:\\\\www.example.com\\nuxy\\tngj')\n",
    "print(R'https:\\\\www.example.com\\nuxy\\tngj')"
   ],
   "id": "5045c6dd4051a78b",
   "outputs": [
    {
     "name": "stdout",
     "output_type": "stream",
     "text": [
      "https:\\www.example.com\n",
      "uxy\tngj\n",
      "https:\\\\www.example.com\\nuxy\\tngj\n",
      "https:\\\\www.example.com\\nuxy\\tngj\n"
     ]
    }
   ],
   "execution_count": 7
  },
  {
   "metadata": {},
   "cell_type": "markdown",
   "source": [
    "#### 字符串格式化\n",
    "- ① % 格式化\n",
    "- 格式化符号：\n",
    "\n",
    "|符号 |描述|\n",
    "|--|--|\n",
    "|%s |格式化为字符串|\n",
    "|%d、%i |格式化为十进制整数，仅适用于数字|\n",
    "|%f、%F |格式化为浮点数，默认精确到小数点后六位，仅适用于数字|"
   ],
   "id": "50f3baaf5bee063c"
  },
  {
   "metadata": {
    "ExecuteTime": {
     "end_time": "2025-10-01T06:28:00.861004Z",
     "start_time": "2025-10-01T06:28:00.846527Z"
    }
   },
   "cell_type": "code",
   "source": [
    "print('它说它叫%s, 今年%d岁, 每天睡%f小时!' % ('旺财', 2, 8.5))\n",
    "# %.nf 表示精确到小数点后n位\n",
    "print('今天买了%s斤青菜, %s元/斤, 花了%.2f元!' % (3.5, 2.59, 3.5 * 2.59))"
   ],
   "id": "14b772e1e8c0bccd",
   "outputs": [
    {
     "name": "stdout",
     "output_type": "stream",
     "text": [
      "它说它叫旺财, 今年2岁, 每天睡8.500000小时!\n",
      "今天买了3.5斤青菜, 2.59元/斤, 花了9.06元!\n"
     ]
    }
   ],
   "execution_count": 8
  },
  {
   "metadata": {
    "ExecuteTime": {
     "end_time": "2025-10-01T06:28:00.876124Z",
     "start_time": "2025-10-01T06:28:00.862211Z"
    }
   },
   "cell_type": "code",
   "source": [
    "print('aaaaa%s,%d' % ('1', 2))\n",
    "num = 1\n",
    "num2 = 2\n",
    "print(f'aaaaa{num},{num2}')\n",
    "print(f'{123}5555555555''{}''')"
   ],
   "id": "8911199f4aa37a80",
   "outputs": [
    {
     "name": "stdout",
     "output_type": "stream",
     "text": [
      "aaaaa1,2\n",
      "aaaaa1,2\n",
      "1235555555555{}\n"
     ]
    }
   ],
   "execution_count": 9
  },
  {
   "metadata": {},
   "cell_type": "markdown",
   "source": "- ② format方法格式化",
   "id": "763077ccb8244f2"
  },
  {
   "metadata": {
    "ExecuteTime": {
     "end_time": "2025-10-01T06:28:00.891661Z",
     "start_time": "2025-10-01T06:28:00.877290Z"
    }
   },
   "cell_type": "code",
   "source": [
    "name = '旺财'\n",
    "age1 = 2\n",
    "age2 = 3\n",
    "# 传位置参数, 实参按照从左往右的顺序传入占位符{}\n",
    "print('它说它叫{}, 它今年{}岁, 它宝宝{}个月了!'.format(name, age1, age2))\n",
    "# 传关键字参数\n",
    "print('它说它叫{n}, 它今年{a1}岁, 它宝宝{a2}个月了!'.format(a1=age1, n=name, a2=age2))\n",
    "# 根据实参的下标传参\n",
    "print('它说它叫{1}, 它今年{0}岁, 它宝宝{2}个月了!'.format(age1, name, age2))\n",
    "# {:.nf} 表示精确到小数点后n位\n",
    "print('今天买了{}斤青菜, {}元/斤, 花了{:.2f}元!'.format(3.5, 2.59, 3.5 * 2.59))"
   ],
   "id": "e8591fa9b6920fab",
   "outputs": [
    {
     "name": "stdout",
     "output_type": "stream",
     "text": [
      "它说它叫旺财, 它今年2岁, 它宝宝3个月了!\n",
      "它说它叫旺财, 它今年2岁, 它宝宝3个月了!\n",
      "它说它叫旺财, 它今年2岁, 它宝宝3个月了!\n",
      "今天买了3.5斤青菜, 2.59元/斤, 花了9.06元!\n"
     ]
    }
   ],
   "execution_count": 10
  },
  {
   "metadata": {},
   "cell_type": "markdown",
   "source": "- ③ f-string格式化",
   "id": "1d0d72699de17b09"
  },
  {
   "metadata": {
    "ExecuteTime": {
     "end_time": "2025-10-01T06:28:00.906610Z",
     "start_time": "2025-10-01T06:28:00.892868Z"
    }
   },
   "cell_type": "code",
   "source": [
    "name = '旺财'\n",
    "age1 = 2\n",
    "age2 = 3\n",
    "print(f'它说它叫{name},\\n它{age1}岁,\\n它宝宝{age2}个月了!')\n",
    "print(fr'它说它叫{name},\\n它{age1}岁,\\n它宝宝{age2}个月了!')\n",
    "# {:.nf} 表示精确到小数点后n位\n",
    "print(f'今天买了{3.5}斤青菜, {2.59}元/斤, 花了{3.5 * 2.59:.2f}元!')"
   ],
   "id": "cbbe685fd6d302fa",
   "outputs": [
    {
     "name": "stdout",
     "output_type": "stream",
     "text": [
      "它说它叫旺财,\n",
      "它2岁,\n",
      "它宝宝3个月了!\n",
      "它说它叫旺财,\\n它2岁,\\n它宝宝3个月了!\n",
      "今天买了3.5斤青菜, 2.59元/斤, 花了9.06元!\n"
     ]
    }
   ],
   "execution_count": 11
  },
  {
   "metadata": {},
   "cell_type": "markdown",
   "source": "#### 字符串方法",
   "id": "569ce254f0a3cafa"
  },
  {
   "metadata": {},
   "cell_type": "markdown",
   "source": [
    "#### str.replace(old, new, count=-1\n",
    "- 用新字符串替换旧字符串并返回\n",
    "- old：旧字符串\n",
    "- new：新字符串\n",
    "- count：要替换的最大次数，默认不限制替换次数"
   ],
   "id": "3a33d72f46e2bceb"
  },
  {
   "metadata": {
    "ExecuteTime": {
     "end_time": "2025-10-01T06:28:00.922097Z",
     "start_time": "2025-10-01T06:28:00.907835Z"
    }
   },
   "cell_type": "code",
   "source": [
    "s = \"Line1 Line2 Line4\"\n",
    "# 用 \"b\" 替换所有的 \"Li\"\n",
    "print(s.replace(\"Li\", \"b\"))\n",
    "# 用 \"b\" 替换 \"Li\" 最多2次\n",
    "print(s.replace(\"Li\", \"b\", 2))"
   ],
   "id": "82a26ed6581bac8f",
   "outputs": [
    {
     "name": "stdout",
     "output_type": "stream",
     "text": [
      "bne1 bne2 bne4\n",
      "bne1 bne2 Line4\n"
     ]
    }
   ],
   "execution_count": 12
  },
  {
   "metadata": {
    "ExecuteTime": {
     "end_time": "2025-10-01T06:28:00.937409Z",
     "start_time": "2025-10-01T06:28:00.923333Z"
    }
   },
   "cell_type": "code",
   "source": [
    "s = 'hello world'\n",
    "print(s.replace('l', '9'))\n",
    "print(s.replace('l', '9', 2))\n",
    "print(s.replace('', '🐉'))"
   ],
   "id": "378cc28aa2bb82fc",
   "outputs": [
    {
     "name": "stdout",
     "output_type": "stream",
     "text": [
      "he99o wor9d\n",
      "he99o world\n",
      "🐉h🐉e🐉l🐉l🐉o🐉 🐉w🐉o🐉r🐉l🐉d🐉\n"
     ]
    }
   ],
   "execution_count": 13
  },
  {
   "metadata": {},
   "cell_type": "markdown",
   "source": [
    "#### str.strip([chars])\n",
    "- 删除字符串左右两边指定的字符\n",
    "- chars：指定要移除的字符，如果没有指定，则默认移除空白符（空格符、换行符、制表符）"
   ],
   "id": "3ba62c475da9605b"
  },
  {
   "metadata": {
    "ExecuteTime": {
     "end_time": "2025-10-01T06:28:00.952776Z",
     "start_time": "2025-10-01T06:28:00.937409Z"
    }
   },
   "cell_type": "code",
   "source": [
    "# 删除字符串两边的空白符\n",
    "str1 = ' \\thello wrold h \\n'\n",
    "print(str1.strip())\n",
    "s = ' \\t\\n \\tab\\n    c \\n \\t \\n'\n",
    "print(s.strip())\n",
    "\n",
    "# 删除字符串两边的'o'字符\n",
    "str2 = \"ooho hello wrold\"\n",
    "print(str2.strip('o'))\n",
    "\n",
    "# 删除字符串两边的'c','w','o','m'字符\n",
    "str3 = 'www.example.com'\n",
    "print(str3.strip(\"cwom\"))"
   ],
   "id": "c4df23dec78e3ca0",
   "outputs": [
    {
     "name": "stdout",
     "output_type": "stream",
     "text": [
      "hello wrold h\n",
      "ab\n",
      "    c\n",
      "ho hello wrold\n",
      ".example.\n"
     ]
    }
   ],
   "execution_count": 14
  },
  {
   "metadata": {
    "ExecuteTime": {
     "end_time": "2025-10-01T06:28:00.968663Z",
     "start_time": "2025-10-01T06:28:00.952776Z"
    }
   },
   "cell_type": "code",
   "source": [
    "s = 'hello world'\n",
    "print(s.strip('h'))\n",
    "print(s.strip('d'))\n",
    "print(s.strip('hel'))\n",
    "print(s.strip('rld'))\n",
    "print(s.strip('we hld'))\n",
    "print(s.strip('whlde '))\n",
    "print(s.strip('lde  wh'))"
   ],
   "id": "b7c6001f7cf86087",
   "outputs": [
    {
     "name": "stdout",
     "output_type": "stream",
     "text": [
      "ello world\n",
      "hello worl\n",
      "o world\n",
      "hello wo\n",
      "o wor\n",
      "o wor\n",
      "o wor\n"
     ]
    }
   ],
   "execution_count": 15
  },
  {
   "metadata": {},
   "cell_type": "markdown",
   "source": [
    "#### str.startswith(prefix[, start[, end]])\n",
    "- prefix：匹配的前缀，可以是字符串或者字符串组成的元组（元组中只要一个元素满足即可）\n",
    "- start：开始索引，不指定则默认为0\n",
    "- end：结束索引（开区间），不指定则默认为 len(str)\n",
    "- 判定字符串是否以 prefix 指定的值开始（start和end参数用来控制字符串的判定区间）"
   ],
   "id": "d38c0d990d60f21c"
  },
  {
   "metadata": {
    "ExecuteTime": {
     "end_time": "2025-10-01T06:28:00.984447Z",
     "start_time": "2025-10-01T06:28:00.969863Z"
    }
   },
   "cell_type": "code",
   "source": [
    "s = \"hello world\"\n",
    "print(s.startswith('hello world'))\n",
    "print(s.startswith('hel'))\n",
    "print(s.startswith(''))\n",
    "print(s.startswith('el'))\n",
    "print('*' * 30)\n",
    "print(s.startswith(('he', 'eh')))\n",
    "print(s.startswith(('eh', 'he')))\n",
    "print(s.startswith('el', 1))\n",
    "print(s.startswith('el', 1, 5))\n",
    "print(s.startswith('el', 2, 5))"
   ],
   "id": "bc3537a92fb3659b",
   "outputs": [
    {
     "name": "stdout",
     "output_type": "stream",
     "text": [
      "True\n",
      "True\n",
      "True\n",
      "False\n",
      "******************************\n",
      "True\n",
      "True\n",
      "True\n",
      "True\n",
      "False\n"
     ]
    }
   ],
   "execution_count": 16
  },
  {
   "metadata": {},
   "cell_type": "markdown",
   "source": [
    "#### str.endswith(suffix[, start[, end]])\n",
    "- suffix：匹配的后缀，可以是字符串或者字符串组成的元组（元组中只要一个元素满足即可）\n",
    "- start：开始索引，不指定则默认为0\n",
    "- end：结束索引（不包括该索引），不指定则默认为 len(str)\n",
    "- 判定字符串是否以 suffix 指定的值结束（start和end参数用来控制字符串的判定区间）"
   ],
   "id": "606a28905d67a545"
  },
  {
   "metadata": {
    "ExecuteTime": {
     "end_time": "2025-10-01T06:28:00.999893Z",
     "start_time": "2025-10-01T06:28:00.985465Z"
    }
   },
   "cell_type": "code",
   "source": [
    "s = \"hello world\"\n",
    "print(s.endswith('hello world'))\n",
    "print(s.endswith('ld'))\n",
    "print(s.endswith(''))\n",
    "print(s.endswith('l'))\n",
    "print('*' * 30)\n",
    "print(s.endswith(('eh', 'rld')))\n",
    "print(s.endswith(('he', 'wo')))\n",
    "print(s.endswith('ld', 1))\n",
    "print(s.endswith('lo', 1, 5))\n",
    "print(s.endswith('el', 2, 5))"
   ],
   "id": "7a1ff7211bfc0c9",
   "outputs": [
    {
     "name": "stdout",
     "output_type": "stream",
     "text": [
      "True\n",
      "True\n",
      "True\n",
      "False\n",
      "******************************\n",
      "True\n",
      "False\n",
      "True\n",
      "True\n",
      "False\n"
     ]
    }
   ],
   "execution_count": 17
  },
  {
   "metadata": {},
   "cell_type": "markdown",
   "source": [
    "#### str.isdigit()\n",
    "- 判定字符串中的每个字符是否都为数字型的字符"
   ],
   "id": "7c1a44f1b4d7fdf1"
  },
  {
   "metadata": {
    "ExecuteTime": {
     "end_time": "2025-10-01T06:28:01.015095Z",
     "start_time": "2025-10-01T06:28:00.999893Z"
    }
   },
   "cell_type": "code",
   "source": [
    "s = '123'\n",
    "print(s.isdigit())\n",
    "s = '1.23'\n",
    "print(s.isdigit())\n",
    "s = '-123'\n",
    "print(s.isdigit())\n",
    "s = '12a23'\n",
    "print(s.isdigit())"
   ],
   "id": "c4899a6d67e69826",
   "outputs": [
    {
     "name": "stdout",
     "output_type": "stream",
     "text": [
      "True\n",
      "False\n",
      "False\n",
      "False\n"
     ]
    }
   ],
   "execution_count": 18
  },
  {
   "metadata": {},
   "cell_type": "markdown",
   "source": [
    "#### str.split(sep=None, maxsplit=-1)\n",
    "- sep：分隔符, 不指定时默认为所有的空白符（空格、换行、制表符）, 并丢弃结果中的空字符串\n",
    "- maxsplit：最大分隔次数，默认不限制分割次数\n",
    "- 通过指定的分隔符对字符串进行分割，以列表的形式返回"
   ],
   "id": "bfb4ca02b8707f01"
  },
  {
   "metadata": {
    "ExecuteTime": {
     "end_time": "2025-10-01T06:28:01.030615Z",
     "start_time": "2025-10-01T06:28:01.016321Z"
    }
   },
   "cell_type": "code",
   "source": [
    "s = \" Line1 \\nLine2 \\tLine3\"\n",
    "print(s.split('Li'))\n",
    "print(s.split(' '))\n",
    "print(s.split())\n",
    "print(s.split('Li', 2))"
   ],
   "id": "bf71e9df61f04918",
   "outputs": [
    {
     "name": "stdout",
     "output_type": "stream",
     "text": [
      "[' ', 'ne1 \\n', 'ne2 \\t', 'ne3']\n",
      "['', 'Line1', '\\nLine2', '\\tLine3']\n",
      "['Line1', 'Line2', 'Line3']\n",
      "[' ', 'ne1 \\n', 'ne2 \\tLine3']\n"
     ]
    }
   ],
   "execution_count": 19
  },
  {
   "metadata": {
    "ExecuteTime": {
     "end_time": "2025-10-01T06:28:01.045795Z",
     "start_time": "2025-10-01T06:28:01.031773Z"
    }
   },
   "cell_type": "code",
   "source": [
    "s = 'hello world'\n",
    "print(s.split(' '))\n",
    "print(s.split(sep='l', maxsplit=2))\n",
    "print(s.split('l', 2))\n",
    "print(s.split('l'))\n",
    "print(s.split('a'))"
   ],
   "id": "16c8a805c032c875",
   "outputs": [
    {
     "name": "stdout",
     "output_type": "stream",
     "text": [
      "['hello', 'world']\n",
      "['he', '', 'o world']\n",
      "['he', '', 'o world']\n",
      "['he', '', 'o wor', 'd']\n",
      "['hello world']\n"
     ]
    }
   ],
   "execution_count": 20
  },
  {
   "metadata": {},
   "cell_type": "markdown",
   "source": [
    "#### str.join(iterable)\n",
    "- iterable：包括 string、list、tuple、dict、set等等\n",
    "- 将可迭代对象中的元素（元素必须是字符串）以指定的字符串连接，返回新的字符串"
   ],
   "id": "95b6d8186deabb82"
  },
  {
   "metadata": {
    "ExecuteTime": {
     "end_time": "2025-10-01T06:28:01.061802Z",
     "start_time": "2025-10-01T06:28:01.046792Z"
    }
   },
   "cell_type": "code",
   "source": [
    "s = ' abc  \\nd   \\tef'\n",
    "print(s.join('--'))\n",
    "print(s.join('---'))\n",
    "print(s.join('****'))"
   ],
   "id": "3bcb00f5e8ff3710",
   "outputs": [
    {
     "name": "stdout",
     "output_type": "stream",
     "text": [
      "- abc  \n",
      "d   \tef-\n",
      "- abc  \n",
      "d   \tef- abc  \n",
      "d   \tef-\n",
      "* abc  \n",
      "d   \tef* abc  \n",
      "d   \tef* abc  \n",
      "d   \tef*\n"
     ]
    }
   ],
   "execution_count": 21
  },
  {
   "metadata": {
    "ExecuteTime": {
     "end_time": "2025-10-01T06:28:01.076680Z",
     "start_time": "2025-10-01T06:28:01.062406Z"
    }
   },
   "cell_type": "code",
   "source": [
    "s = '-.'\n",
    "print(s.join('hello world'))\n",
    "print(s.join(['1', '2', '3', '4']))\n",
    "print(s.join(('1', '2', '3', '4')))\n",
    "# 字典作为iterable, 只有键参与迭代\n",
    "print(s.join({'height': 175, 'weight': 65}))\n",
    "print(s.join({'5', 'hello', '789', 'world'}))"
   ],
   "id": "4e28e126fafec6b3",
   "outputs": [
    {
     "name": "stdout",
     "output_type": "stream",
     "text": [
      "h-.e-.l-.l-.o-. -.w-.o-.r-.l-.d\n",
      "1-.2-.3-.4\n",
      "1-.2-.3-.4\n",
      "height-.weight\n",
      "5-.789-.world-.hello\n"
     ]
    }
   ],
   "execution_count": 22
  },
  {
   "metadata": {},
   "cell_type": "markdown",
   "source": [
    "#### str.count(sub, [start[, end])\n",
    "- sub：需要查找的字符串\n",
    "- start：开始索引，默认为0\n",
    "- end：结束索引（开区间），默认为 len(str)\n",
    "- 返回 sub 在字符串中出现的非重叠的次数"
   ],
   "id": "2532a90aaa214cd7"
  },
  {
   "metadata": {
    "ExecuteTime": {
     "end_time": "2025-10-01T06:28:01.092335Z",
     "start_time": "2025-10-01T06:28:01.077852Z"
    }
   },
   "cell_type": "code",
   "source": [
    "s = \"hello world\"\n",
    "print(s.count('l'))\n",
    "print(s.count('l', 3))\n",
    "print(s.count('l', 3, 6))\n",
    "print(s.count('l', 4, 6))\n",
    "s = 'aaaaa'\n",
    "print(s.count('aa'))"
   ],
   "id": "735c76c7dbe9f3b6",
   "outputs": [
    {
     "name": "stdout",
     "output_type": "stream",
     "text": [
      "3\n",
      "2\n",
      "1\n",
      "0\n",
      "2\n"
     ]
    }
   ],
   "execution_count": 23
  },
  {
   "metadata": {},
   "cell_type": "markdown",
   "source": [
    "#### str.find(sub[, start[, end]])\n",
    "- 返回从左边开始第一次找到指定字符串时的正向索引，找不到就返回 -1"
   ],
   "id": "ddcbde08f416bd71"
  },
  {
   "metadata": {
    "ExecuteTime": {
     "end_time": "2025-10-01T06:28:01.107651Z",
     "start_time": "2025-10-01T06:28:01.093484Z"
    }
   },
   "cell_type": "code",
   "source": [
    "s = 'hello world'\n",
    "print(s.find('a'))\n",
    "print(s.find('lo'))\n",
    "print(s.find('ol'))  # -1\n",
    "print(s.find('l', 2, 3))\n",
    "print(s.find('l', 3))"
   ],
   "id": "fff4744c5c5ec69d",
   "outputs": [
    {
     "name": "stdout",
     "output_type": "stream",
     "text": [
      "-1\n",
      "3\n",
      "-1\n",
      "2\n",
      "3\n"
     ]
    }
   ],
   "execution_count": 24
  },
  {
   "metadata": {},
   "cell_type": "markdown",
   "source": [
    "#### str.rfind(sub[, start[, end]])\n",
    "- 返回从右边开始第一次找到指定字符串时的正向索引，找不到就返回 -1"
   ],
   "id": "3e54faa4f135c2c"
  },
  {
   "metadata": {
    "ExecuteTime": {
     "end_time": "2025-10-01T06:28:01.154362Z",
     "start_time": "2025-10-01T06:28:01.144980Z"
    }
   },
   "cell_type": "code",
   "source": [
    "s = 'hello world'\n",
    "print(s.rfind('l'))\n",
    "print(s.rfind('lo'))\n",
    "print(s.rfind('ol'))  # -1\n",
    "print(s.rfind('l', 2, 3))\n",
    "print(s.rfind('l', 3))"
   ],
   "id": "eca1a8bf7397a519",
   "outputs": [
    {
     "name": "stdout",
     "output_type": "stream",
     "text": [
      "9\n",
      "3\n",
      "-1\n",
      "2\n",
      "9\n"
     ]
    }
   ],
   "execution_count": 25
  },
  {
   "metadata": {},
   "cell_type": "markdown",
   "source": [
    "#### str.index(sub[, start[, end]])\n",
    "- 类似于find()，唯一不同在于，找不到就会报错"
   ],
   "id": "8c2177774df147ca"
  },
  {
   "metadata": {
    "ExecuteTime": {
     "end_time": "2025-10-01T06:28:01.185823Z",
     "start_time": "2025-10-01T06:28:01.169999Z"
    }
   },
   "cell_type": "code",
   "source": [
    "s = 'hello world'\n",
    "print(s.index('l'))\n",
    "print(s.index('lo'))\n",
    "print(s.index('l', 2, 3))\n",
    "print(s.index('l', 3))\n",
    "# ValueError: substring not found\n",
    "# print(s.index('a'))"
   ],
   "id": "3b09c243cc623a41",
   "outputs": [
    {
     "name": "stdout",
     "output_type": "stream",
     "text": [
      "2\n",
      "3\n",
      "2\n",
      "3\n"
     ]
    }
   ],
   "execution_count": 26
  },
  {
   "metadata": {},
   "cell_type": "markdown",
   "source": [
    "#### str.rindex(sub[, start[, end]])\n",
    "- 类似于rfind()，唯一不同在于，找不到就会报错\n",
    "- sub：需要查找的字符串\n",
    "- start：开始索引，默认为0\n",
    "- end：结束索引（开区间），默认为 len(str)"
   ],
   "id": "69aaa295abe3fbfc"
  },
  {
   "metadata": {
    "ExecuteTime": {
     "end_time": "2025-10-01T06:28:01.201777Z",
     "start_time": "2025-10-01T06:28:01.185823Z"
    }
   },
   "cell_type": "code",
   "source": [
    "s = 'hello world'\n",
    "print(s.rindex('l'))\n",
    "print(s.rindex('lo'))\n",
    "print(s.rindex('l', 2, 3))\n",
    "print(s.rindex('l', 3))\n",
    "# ValueError: substring not found\n",
    "# print(s.rindex('a'))"
   ],
   "id": "277988ea1cc7dde9",
   "outputs": [
    {
     "name": "stdout",
     "output_type": "stream",
     "text": [
      "9\n",
      "3\n",
      "2\n",
      "9\n"
     ]
    }
   ],
   "execution_count": 27
  },
  {
   "metadata": {},
   "cell_type": "markdown",
   "source": [
    "#### str.capitalize()\n",
    "- 将字符串的首字母变成大写，其他字母变小写，并返回"
   ],
   "id": "f3957f6e7b1337f4"
  },
  {
   "metadata": {
    "ExecuteTime": {
     "end_time": "2025-10-01T06:28:01.217922Z",
     "start_time": "2025-10-01T06:28:01.214720Z"
    }
   },
   "cell_type": "code",
   "source": [
    "s = '你好hELlo wo?rLD世界TuP'\n",
    "print(s.capitalize())"
   ],
   "id": "e6c988f5d3864605",
   "outputs": [
    {
     "name": "stdout",
     "output_type": "stream",
     "text": [
      "你好hello wo?rld世界tup\n"
     ]
    }
   ],
   "execution_count": 28
  },
  {
   "metadata": {},
   "cell_type": "markdown",
   "source": [
    "#### str.title()\n",
    "- 将字符串中所有单词的首字母变成大写，其他字母变小写，并返回"
   ],
   "id": "523b5a65a88e3ea"
  },
  {
   "metadata": {
    "ExecuteTime": {
     "end_time": "2025-10-01T06:28:01.233411Z",
     "start_time": "2025-10-01T06:28:01.230386Z"
    }
   },
   "cell_type": "code",
   "source": [
    "s = '你好hELlo wo?rLD世界TuP'\n",
    "print(s.title())"
   ],
   "id": "af46ba78ddfb1b65",
   "outputs": [
    {
     "name": "stdout",
     "output_type": "stream",
     "text": [
      "你好Hello Wo?Rld世界Tup\n"
     ]
    }
   ],
   "execution_count": 29
  },
  {
   "metadata": {},
   "cell_type": "markdown",
   "source": [
    "#### str.upper()\n",
    "- 将字符串中所有字符变成大写，并返回"
   ],
   "id": "289e9ef0295444ac"
  },
  {
   "metadata": {
    "ExecuteTime": {
     "end_time": "2025-10-01T06:28:01.249204Z",
     "start_time": "2025-10-01T06:28:01.245053Z"
    }
   },
   "cell_type": "code",
   "source": [
    "s = '你好hELlo wo?rLD世界TuP'\n",
    "print(s.upper())"
   ],
   "id": "de8a27afa63b5742",
   "outputs": [
    {
     "name": "stdout",
     "output_type": "stream",
     "text": [
      "你好HELLO WO?RLD世界TUP\n"
     ]
    }
   ],
   "execution_count": 30
  },
  {
   "metadata": {},
   "cell_type": "markdown",
   "source": [
    "#### str.lower()\n",
    "- 将字符串中所有字符变成小写，并返回"
   ],
   "id": "89077974f9ff3945"
  },
  {
   "metadata": {
    "ExecuteTime": {
     "end_time": "2025-10-01T06:28:01.311956Z",
     "start_time": "2025-10-01T06:28:01.297147Z"
    }
   },
   "cell_type": "code",
   "source": [
    "s = '你好hELlo wo?rLD世界TuP'\n",
    "print(s.lower())"
   ],
   "id": "daac49dd90333b6a",
   "outputs": [
    {
     "name": "stdout",
     "output_type": "stream",
     "text": [
      "你好hello wo?rld世界tup\n"
     ]
    }
   ],
   "execution_count": 31
  },
  {
   "metadata": {},
   "cell_type": "markdown",
   "source": [
    "#### str.swapcase()\n",
    "- 将字符串中所有大写字符变成小写，小写变成大写，并返回"
   ],
   "id": "64f274642119b353"
  },
  {
   "metadata": {
    "ExecuteTime": {
     "end_time": "2025-10-01T06:28:01.327012Z",
     "start_time": "2025-10-01T06:28:01.313139Z"
    }
   },
   "cell_type": "code",
   "source": [
    "s = '你好hELlo wo?rLD世界TuP'\n",
    "print(s.swapcase())"
   ],
   "id": "ccb66f47197514c4",
   "outputs": [
    {
     "name": "stdout",
     "output_type": "stream",
     "text": [
      "你好HelLO WO?Rld世界tUp\n"
     ]
    }
   ],
   "execution_count": 32
  }
 ],
 "metadata": {
  "kernelspec": {
   "display_name": "Python 3",
   "language": "python",
   "name": "python3"
  },
  "language_info": {
   "codemirror_mode": {
    "name": "ipython",
    "version": 2
   },
   "file_extension": ".py",
   "mimetype": "text/x-python",
   "name": "python",
   "nbconvert_exporter": "python",
   "pygments_lexer": "ipython2",
   "version": "2.7.6"
  }
 },
 "nbformat": 4,
 "nbformat_minor": 5
}
