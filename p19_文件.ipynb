{
 "cells": [
  {
   "metadata": {},
   "cell_type": "markdown",
   "source": [
    "#### 路径操作\n",
    "- 路径决定了文件或目录在文件系统中的位置，可以是绝对路径或相对路径。\n",
    "- 绝对路径：从根目录开始的完整路径。比如：\n",
    "- - D:\\PythonFiles\\p01.py\n",
    "- 相对路径：是相对于某个位置开始的路径。\n",
    "- -表示当前目录\n",
    "- - 表示当前目录的上一级目录"
   ],
   "id": "b1ac2ef593134ec8"
  },
  {
   "metadata": {},
   "cell_type": "markdown",
   "source": "#### os模块中提供了很多对目录和文件操作的函数：",
   "id": "8d9b7e5a52e061b5"
  },
  {
   "metadata": {},
   "cell_type": "markdown",
   "source": [
    "#### os.getcwd()\n",
    "- 返回表示当前工作目录的字符串"
   ],
   "id": "61ffacf6bcd5dd61"
  },
  {
   "cell_type": "code",
   "id": "initial_id",
   "metadata": {
    "collapsed": true,
    "ExecuteTime": {
     "end_time": "2025-10-04T06:23:18.461124Z",
     "start_time": "2025-10-04T06:23:18.448423Z"
    }
   },
   "source": [
    "import os\n",
    "\n",
    "path = os.getcwd()\n",
    "path2 = r'D:\\Projects\\DeepBule\\PythonFiles\\p261'\n",
    "print(path)\n",
    "print(path2)"
   ],
   "outputs": [
    {
     "name": "stdout",
     "output_type": "stream",
     "text": [
      "D:\\Projects\\DeepBule\\PythonFiles\n",
      "D:\\Projects\\DeepBule\\PythonFiles\\p261\n"
     ]
    }
   ],
   "execution_count": 1
  },
  {
   "metadata": {},
   "cell_type": "markdown",
   "source": [
    "#### os.listdir(path)\n",
    "- 返回 path 指定的文件夹中包含的文件或文件夹的名字构成的列表"
   ],
   "id": "757c19c52231441a"
  },
  {
   "metadata": {
    "ExecuteTime": {
     "end_time": "2025-10-04T06:23:18.477214Z",
     "start_time": "2025-10-04T06:23:18.462120Z"
    }
   },
   "cell_type": "code",
   "source": "print(os.listdir(path2))",
   "id": "79851d03fce17642",
   "outputs": [
    {
     "name": "stdout",
     "output_type": "stream",
     "text": [
      "['p26.py', 'p262', '__pycache__']\n"
     ]
    }
   ],
   "execution_count": 2
  },
  {
   "metadata": {
    "ExecuteTime": {
     "end_time": "2025-10-04T06:23:18.492413Z",
     "start_time": "2025-10-04T06:23:18.478211Z"
    }
   },
   "cell_type": "code",
   "source": "print(os.listdir(os.getcwd()))",
   "id": "794c5ad5c2d7e68e",
   "outputs": [
    {
     "name": "stdout",
     "output_type": "stream",
     "text": [
      "['.git', '.idea', 'dir1', 'homework1', 'homework2', 'homework3', 'homework4', 'homework5', 'homework6', 'homework7', 'homework8', 'p00.py', 'p01_认识编程语言，Python环境搭建.ipynb', 'p02_PyCharm基本使用.ipynb', 'p03_函数.ipynb', 'p04_基本概念，输入输出，conda.ipynb', 'p05_字符串.ipynb', 'p06_数字.ipynb', 'p07_列表.ipynb', 'p08_元组.ipynb', 'p09_字典.ipynb', 'p10_集合.ipynb', 'p11_序列的索引和切片.ipynb', 'p12_运算符.ipynb', 'p13_条件语句.ipynb', 'p14_循环语句.ipynb', 'p15_面向对象基本概念.ipynb', 'p16_面向对象三大特性.ipynb', 'p17_错误异常.ipynb', 'p18_模块和包.ipynb', 'p19_文件.ipynb', 'p20_正则表达式.ipynb', 'p261', 'p27_1.py', 'p28.ipynb', 'p29.ipynb', 'p30_numpy.ipynb', 'p31_numpy.ipynb', 'p32_numpy.ipynb', 'p33_1_numpy.ipynb', 'p33_2_pandas.ipynb', 'p34_pandas.ipynb', 'p35_pandas.ipynb', 'p361', 'p36_1_pandas.ipynb', 'p36_2_Matplotlib.ipynb', 'p37_Matplotlib.ipynb', 'p37_Matplotlib.py', 'picture', 't01.txt', '__pycache__']\n"
     ]
    }
   ],
   "execution_count": 3
  },
  {
   "metadata": {},
   "cell_type": "markdown",
   "source": [
    "#### os.makedirs(name, exist_ok=False)\n",
    "- 创建目录，并且还会自动创建到达最后一级目录所需要的中间目录\n",
    "- exist_ok 为 False (默认值)，表示如果目标目录已存在将引发FileExistsError"
   ],
   "id": "f10b6605ace09244"
  },
  {
   "metadata": {
    "ExecuteTime": {
     "end_time": "2025-10-04T06:23:18.569465Z",
     "start_time": "2025-10-04T06:23:18.493421Z"
    }
   },
   "cell_type": "code",
   "source": "os.makedirs('./dir1/dir2/dir3')",
   "id": "15483755be66c913",
   "outputs": [
    {
     "ename": "FileExistsError",
     "evalue": "[WinError 183] 当文件已存在时，无法创建该文件。: './dir1/dir2/dir3'",
     "output_type": "error",
     "traceback": [
      "\u001B[1;31m---------------------------------------------------------------------------\u001B[0m",
      "\u001B[1;31mFileExistsError\u001B[0m                           Traceback (most recent call last)",
      "\u001B[1;32m<ipython-input-4-01ed309b9bb2>\u001B[0m in \u001B[0;36m<module>\u001B[1;34m\u001B[0m\n\u001B[1;32m----> 1\u001B[1;33m \u001B[0mos\u001B[0m\u001B[1;33m.\u001B[0m\u001B[0mmakedirs\u001B[0m\u001B[1;33m(\u001B[0m\u001B[1;34m'./dir1/dir2/dir3'\u001B[0m\u001B[1;33m)\u001B[0m\u001B[1;33m\u001B[0m\u001B[1;33m\u001B[0m\u001B[0m\n\u001B[0m",
      "\u001B[1;32mC:\\MySoftware\\Anaconda3\\lib\\os.py\u001B[0m in \u001B[0;36mmakedirs\u001B[1;34m(name, mode, exist_ok)\u001B[0m\n\u001B[0;32m    221\u001B[0m             \u001B[1;32mreturn\u001B[0m\u001B[1;33m\u001B[0m\u001B[1;33m\u001B[0m\u001B[0m\n\u001B[0;32m    222\u001B[0m     \u001B[1;32mtry\u001B[0m\u001B[1;33m:\u001B[0m\u001B[1;33m\u001B[0m\u001B[1;33m\u001B[0m\u001B[0m\n\u001B[1;32m--> 223\u001B[1;33m         \u001B[0mmkdir\u001B[0m\u001B[1;33m(\u001B[0m\u001B[0mname\u001B[0m\u001B[1;33m,\u001B[0m \u001B[0mmode\u001B[0m\u001B[1;33m)\u001B[0m\u001B[1;33m\u001B[0m\u001B[1;33m\u001B[0m\u001B[0m\n\u001B[0m\u001B[0;32m    224\u001B[0m     \u001B[1;32mexcept\u001B[0m \u001B[0mOSError\u001B[0m\u001B[1;33m:\u001B[0m\u001B[1;33m\u001B[0m\u001B[1;33m\u001B[0m\u001B[0m\n\u001B[0;32m    225\u001B[0m         \u001B[1;31m# Cannot rely on checking for EEXIST, since the operating system\u001B[0m\u001B[1;33m\u001B[0m\u001B[1;33m\u001B[0m\u001B[1;33m\u001B[0m\u001B[0m\n",
      "\u001B[1;31mFileExistsError\u001B[0m: [WinError 183] 当文件已存在时，无法创建该文件。: './dir1/dir2/dir3'"
     ]
    }
   ],
   "execution_count": 4
  },
  {
   "metadata": {
    "ExecuteTime": {
     "end_time": "2025-10-04T06:23:58.912857Z",
     "start_time": "2025-10-04T06:23:58.886727Z"
    }
   },
   "cell_type": "code",
   "source": "os.makedirs('p261', exist_ok=False)",
   "id": "2b91a0cf5ac8a44a",
   "outputs": [
    {
     "ename": "FileExistsError",
     "evalue": "[WinError 183] 当文件已存在时，无法创建该文件。: 'p261'",
     "output_type": "error",
     "traceback": [
      "\u001B[1;31m---------------------------------------------------------------------------\u001B[0m",
      "\u001B[1;31mFileExistsError\u001B[0m                           Traceback (most recent call last)",
      "\u001B[1;32m<ipython-input-26-2d470eb4b073>\u001B[0m in \u001B[0;36m<module>\u001B[1;34m\u001B[0m\n\u001B[1;32m----> 1\u001B[1;33m \u001B[0mos\u001B[0m\u001B[1;33m.\u001B[0m\u001B[0mmakedirs\u001B[0m\u001B[1;33m(\u001B[0m\u001B[1;34m'p261'\u001B[0m\u001B[1;33m,\u001B[0m \u001B[0mexist_ok\u001B[0m\u001B[1;33m=\u001B[0m\u001B[1;32mFalse\u001B[0m\u001B[1;33m)\u001B[0m\u001B[1;33m\u001B[0m\u001B[1;33m\u001B[0m\u001B[0m\n\u001B[0m",
      "\u001B[1;32mC:\\MySoftware\\Anaconda3\\lib\\os.py\u001B[0m in \u001B[0;36mmakedirs\u001B[1;34m(name, mode, exist_ok)\u001B[0m\n\u001B[0;32m    221\u001B[0m             \u001B[1;32mreturn\u001B[0m\u001B[1;33m\u001B[0m\u001B[1;33m\u001B[0m\u001B[0m\n\u001B[0;32m    222\u001B[0m     \u001B[1;32mtry\u001B[0m\u001B[1;33m:\u001B[0m\u001B[1;33m\u001B[0m\u001B[1;33m\u001B[0m\u001B[0m\n\u001B[1;32m--> 223\u001B[1;33m         \u001B[0mmkdir\u001B[0m\u001B[1;33m(\u001B[0m\u001B[0mname\u001B[0m\u001B[1;33m,\u001B[0m \u001B[0mmode\u001B[0m\u001B[1;33m)\u001B[0m\u001B[1;33m\u001B[0m\u001B[1;33m\u001B[0m\u001B[0m\n\u001B[0m\u001B[0;32m    224\u001B[0m     \u001B[1;32mexcept\u001B[0m \u001B[0mOSError\u001B[0m\u001B[1;33m:\u001B[0m\u001B[1;33m\u001B[0m\u001B[1;33m\u001B[0m\u001B[0m\n\u001B[0;32m    225\u001B[0m         \u001B[1;31m# Cannot rely on checking for EEXIST, since the operating system\u001B[0m\u001B[1;33m\u001B[0m\u001B[1;33m\u001B[0m\u001B[1;33m\u001B[0m\u001B[0m\n",
      "\u001B[1;31mFileExistsError\u001B[0m: [WinError 183] 当文件已存在时，无法创建该文件。: 'p261'"
     ]
    }
   ],
   "execution_count": 26
  },
  {
   "metadata": {},
   "cell_type": "markdown",
   "source": [
    "#### os.path.basename(path)\n",
    "- 返回路径 path 最后一级的名称，通常用来返回文件名"
   ],
   "id": "e43fd6db1ecced6e"
  },
  {
   "metadata": {
    "ExecuteTime": {
     "end_time": "2025-10-04T06:24:04.835272Z",
     "start_time": "2025-10-04T06:24:04.820255Z"
    }
   },
   "cell_type": "code",
   "source": [
    "print(os.path.basename('./dir3/dir2/dir1/a.txt'))\n",
    "print(os.path.basename(os.getcwd()))\n",
    "print(os.path.basename(path2))"
   ],
   "id": "ef810b839083ccd4",
   "outputs": [
    {
     "name": "stdout",
     "output_type": "stream",
     "text": [
      "a.txt\n",
      "PythonFiles\n",
      "p261\n"
     ]
    }
   ],
   "execution_count": 27
  },
  {
   "metadata": {},
   "cell_type": "markdown",
   "source": [
    "#### os.path.dirname(path)\n",
    "- 返回路径 path 的目录名称"
   ],
   "id": "4f0e2190993a4424"
  },
  {
   "metadata": {
    "ExecuteTime": {
     "end_time": "2025-10-04T06:24:12.963558Z",
     "start_time": "2025-10-04T06:24:12.946233Z"
    }
   },
   "cell_type": "code",
   "source": [
    "print(os.path.dirname('./dir3/dir2/dir1/a.txt'))\n",
    "print(os.path.dirname(os.getcwd()))\n",
    "print(os.path.dirname(path2))"
   ],
   "id": "8bd5613f80ad6dc5",
   "outputs": [
    {
     "name": "stdout",
     "output_type": "stream",
     "text": [
      "./dir3/dir2/dir1\n",
      "D:\\Projects\\DeepBule\n",
      "D:\\Projects\\DeepBule\\PythonFiles\n"
     ]
    }
   ],
   "execution_count": 28
  },
  {
   "metadata": {},
   "cell_type": "markdown",
   "source": [
    "#### os.path.split(path)\n",
    "- 把路径分割成 dirname 和 basename，返回一个元组"
   ],
   "id": "ec950c228168122e"
  },
  {
   "metadata": {
    "ExecuteTime": {
     "end_time": "2025-10-04T06:28:32.117925Z",
     "start_time": "2025-10-04T06:28:32.115914Z"
    }
   },
   "cell_type": "code",
   "source": [
    "import os\n",
    "\n",
    "print(os.path.split('./dir3/dir2/dir1/a.txt'))\n",
    "print(os.path.split(os.getcwd()))\n",
    "print(os.path.split(path2))"
   ],
   "id": "af987fbda1257ab5",
   "outputs": [
    {
     "name": "stdout",
     "output_type": "stream",
     "text": [
      "('./dir3/dir2/dir1', 'a.txt')\n",
      "('D:\\\\Projects\\\\DeepBule', 'PythonFiles')\n",
      "('D:\\\\Projects\\\\DeepBule\\\\PythonFiles', 'p261')\n"
     ]
    }
   ],
   "execution_count": 29
  },
  {
   "metadata": {},
   "cell_type": "markdown",
   "source": [
    "#### os.path.splitext(path)\n",
    "- 把路径中的扩展名分割出来，返回一个元组"
   ],
   "id": "417566611bd4f36a"
  },
  {
   "metadata": {
    "ExecuteTime": {
     "end_time": "2025-10-04T06:28:53.640566Z",
     "start_time": "2025-10-04T06:28:53.632122Z"
    }
   },
   "cell_type": "code",
   "source": [
    "import os\n",
    "\n",
    "print(os.path.splitext('./dir3/dir2/dir1/a.txt'))\n",
    "print(os.path.splitext(os.getcwd()))\n",
    "print(os.path.splitext(path2))"
   ],
   "id": "7c86b75c03e0ac63",
   "outputs": [
    {
     "name": "stdout",
     "output_type": "stream",
     "text": [
      "('./dir3/dir2/dir1/a', '.txt')\n",
      "('D:\\\\Projects\\\\DeepBule\\\\PythonFiles', '')\n",
      "('D:\\\\Projects\\\\DeepBule\\\\PythonFiles\\\\p261', '')\n"
     ]
    }
   ],
   "execution_count": 30
  },
  {
   "metadata": {},
   "cell_type": "markdown",
   "source": [
    "#### os.path.exists(path)\n",
    "- path 路径存在则返回 True，不存在则返回 False"
   ],
   "id": "59b36ce6000a9aa7"
  },
  {
   "metadata": {
    "ExecuteTime": {
     "end_time": "2025-10-04T06:29:08.309256Z",
     "start_time": "2025-10-04T06:29:08.306181Z"
    }
   },
   "cell_type": "code",
   "source": [
    "import os\n",
    "\n",
    "p = r'D:\\PythonFiles\\p01.py'\n",
    "print(os.path.exists(p))\n",
    "print(os.path.exists(os.getcwd()))\n",
    "print(os.path.exists(path2))"
   ],
   "id": "c634017a2a61e97f",
   "outputs": [
    {
     "name": "stdout",
     "output_type": "stream",
     "text": [
      "False\n",
      "True\n",
      "True\n"
     ]
    }
   ],
   "execution_count": 31
  },
  {
   "metadata": {},
   "cell_type": "markdown",
   "source": [
    "#### os.path.isfile(path)\n",
    "- 判断路径是否为文件"
   ],
   "id": "3f9ae00857309f8"
  },
  {
   "metadata": {
    "ExecuteTime": {
     "end_time": "2025-10-04T06:30:56.623406Z",
     "start_time": "2025-10-04T06:30:56.615969Z"
    }
   },
   "cell_type": "code",
   "source": [
    "import os\n",
    "\n",
    "print(os.path.isfile(\"./dir3/dir2/dir1/a.txt\"))\n",
    "print(os.path.isfile(os.getcwd()))\n",
    "print(os.path.isfile(path2))\n",
    "print(os.path.isfile(r'D:\\Projects\\DeepBule\\PythonFiles\\p261\\p26.py'))"
   ],
   "id": "76d86155bc3a062e",
   "outputs": [
    {
     "name": "stdout",
     "output_type": "stream",
     "text": [
      "False\n",
      "False\n",
      "False\n",
      "True\n"
     ]
    }
   ],
   "execution_count": 38
  },
  {
   "metadata": {},
   "cell_type": "markdown",
   "source": [
    "#### os.path.isdir(path)\n",
    "- 判断路径是否为目录"
   ],
   "id": "4ae7b7926d4b0521"
  },
  {
   "metadata": {
    "ExecuteTime": {
     "end_time": "2025-10-04T06:30:28.258378Z",
     "start_time": "2025-10-04T06:30:28.251651Z"
    }
   },
   "cell_type": "code",
   "source": [
    "import os\n",
    "\n",
    "print(os.path.isdir(\"./dir3/dir2/dir1\"))\n",
    "print(os.path.isdir(os.getcwd()))\n",
    "print(os.path.isdir(path2))\n",
    "print(os.path.isdir(r'D:\\Projects\\DeepBule\\PythonFiles\\p261\\p26.py'))"
   ],
   "id": "5f3c88105a86cc8e",
   "outputs": [
    {
     "name": "stdout",
     "output_type": "stream",
     "text": [
      "False\n",
      "True\n",
      "True\n",
      "False\n"
     ]
    }
   ],
   "execution_count": 35
  },
  {
   "metadata": {},
   "cell_type": "markdown",
   "source": [
    "#### os.path.join(path, *paths)\n",
    "- 智能地拼接一个或多个路径部分"
   ],
   "id": "e9a644f68f3f8ab"
  },
  {
   "metadata": {
    "ExecuteTime": {
     "end_time": "2025-10-04T06:23:18.831917Z",
     "start_time": "2025-10-04T06:23:18.828761Z"
    }
   },
   "cell_type": "code",
   "source": [
    "p1 = 'D:\\\\Projects\\\\DeepBule\\\\PythonFiles\\\\'\n",
    "p2 = r'p261'\n",
    "p3 = 'p26.py'\n",
    "\n",
    "os.path.join(p1, p2, p3)"
   ],
   "id": "c0870175c92f24b",
   "outputs": [
    {
     "data": {
      "text/plain": [
       "'D:\\\\Projects\\\\DeepBule\\\\PythonFiles\\\\p261\\\\p26.py'"
      ]
     },
     "execution_count": 8,
     "metadata": {},
     "output_type": "execute_result"
    }
   ],
   "execution_count": 8
  },
  {
   "metadata": {},
   "cell_type": "markdown",
   "source": [
    "#### 文件读写\n",
    "- 从文件的编码方式来看，文件可以分为文本文件和二进制文件。\n",
    "- 文本文件：txt、html、json等； 二进制文件：图片、音频、视频等。"
   ],
   "id": "a21136e09fe8da4d"
  },
  {
   "metadata": {},
   "cell_type": "markdown",
   "source": [
    "#### open(file, mode='r', encoding=None)\n",
    "- file：文件路径\n",
    "- mode：文件打开的模式，默认为 'r' 模式\n",
    "- encoding：指定文本文件的编码方式，默认依赖系统，处理非ASCII文本时，\"UTF-8\" 通常是首选编码\n",
    "- 打开指定的文件，返回一个文件对象（迭代器对象）"
   ],
   "id": "5e8448f29ea87eba"
  },
  {
   "metadata": {
    "ExecuteTime": {
     "end_time": "2025-10-04T06:31:28.057208Z",
     "start_time": "2025-10-04T06:31:28.051580Z"
    }
   },
   "cell_type": "code",
   "source": [
    "import _io\n",
    "\n",
    "print(_io.TextIOWrapper)"
   ],
   "id": "1b0aaba9e9d6cad3",
   "outputs": [
    {
     "name": "stdout",
     "output_type": "stream",
     "text": [
      "<class '_io.TextIOWrapper'>\n"
     ]
    }
   ],
   "execution_count": 40
  },
  {
   "metadata": {
    "ExecuteTime": {
     "end_time": "2025-10-04T06:31:13.867603Z",
     "start_time": "2025-10-04T06:31:13.858435Z"
    }
   },
   "cell_type": "code",
   "source": "open(r'D:\\Projects\\DeepBule\\PythonFiles\\p261\\p26.py', mode='r', encoding='utf-8')",
   "id": "344081cf280b1db9",
   "outputs": [
    {
     "data": {
      "text/plain": [
       "<_io.TextIOWrapper name='D:\\\\Projects\\\\DeepBule\\\\PythonFiles\\\\p261\\\\p26.py' mode='r' encoding='utf-8'>"
      ]
     },
     "execution_count": 39,
     "metadata": {},
     "output_type": "execute_result"
    }
   ],
   "execution_count": 39
  },
  {
   "metadata": {
    "ExecuteTime": {
     "end_time": "2025-10-04T06:33:00.097299Z",
     "start_time": "2025-10-04T06:33:00.090611Z"
    }
   },
   "cell_type": "code",
   "source": [
    "file = open('./p261/p26.py', mode='r', encoding='utf-8')\n",
    "print(file)"
   ],
   "id": "c2df42208068573a",
   "outputs": [
    {
     "name": "stdout",
     "output_type": "stream",
     "text": [
      "<_io.TextIOWrapper name='./p261/p26.py' mode='r' encoding='utf-8'>\n"
     ]
    }
   ],
   "execution_count": 50
  },
  {
   "metadata": {
    "ExecuteTime": {
     "end_time": "2025-10-04T06:33:06.262962Z",
     "start_time": "2025-10-04T06:33:06.255012Z"
    }
   },
   "cell_type": "code",
   "source": [
    "file = open('./p261/p26.py', encoding='utf-8')\n",
    "print(file)"
   ],
   "id": "2d0af134ac3618a2",
   "outputs": [
    {
     "name": "stdout",
     "output_type": "stream",
     "text": [
      "<_io.TextIOWrapper name='./p261/p26.py' mode='r' encoding='utf-8'>\n"
     ]
    }
   ],
   "execution_count": 51
  },
  {
   "metadata": {},
   "cell_type": "markdown",
   "source": "- 当前open以默认模式打开指定的文件, 返回一个文件对象,该对象为迭代器对象, 每次迭代会返回该文件中的一行数据",
   "id": "2bc3368866b04505"
  },
  {
   "metadata": {
    "ExecuteTime": {
     "end_time": "2025-10-04T06:33:07.814278Z",
     "start_time": "2025-10-04T06:33:07.812026Z"
    }
   },
   "cell_type": "code",
   "source": [
    "print(next(file))\n",
    "print([next(file)])"
   ],
   "id": "154beee08495de98",
   "outputs": [
    {
     "name": "stdout",
     "output_type": "stream",
     "text": [
      "print('p26成功')\n",
      "\n",
      "['\\n']\n"
     ]
    }
   ],
   "execution_count": 52
  },
  {
   "metadata": {
    "ExecuteTime": {
     "end_time": "2025-10-04T06:33:11.479948Z",
     "start_time": "2025-10-04T06:33:11.470208Z"
    }
   },
   "cell_type": "code",
   "source": [
    "for line in file:\n",
    "    print(line, end='')"
   ],
   "id": "eaf4bab9ffa76d19",
   "outputs": [
    {
     "name": "stdout",
     "output_type": "stream",
     "text": [
      "from p261.p262.p263 import p26_2\n",
      "\n",
      "print('p263')\n",
      "\n",
      "print(__name__,'*******')\n",
      "\n",
      "if __name__ == '__main__':\n",
      "    print('************')"
     ]
    }
   ],
   "execution_count": 53
  },
  {
   "metadata": {},
   "cell_type": "markdown",
   "source": [
    "#### mode 常用模式：\n",
    "|模式| 描述                                                                          |\n",
    "|--|-----------------------------------------------------------------------------|\n",
    "|r| 以只读方式打开文件。文件的指针将会放在文件的开头。                                                   |\n",
    "|w| 打开一个文件只用于写入。如果该文件已存在则打开文件，并从开头开始编辑，即原有内容会被删除。如果该文件不存在，创建新的文件再写入。            |\n",
    "|a| 打开一个文件用于追加。如果该文件已存在，文件指针将会放在文件的结尾。也就是说，新的内容将会被写入到已有内容之后。如果该文件不存在，创建新文件进行写入。 |\n",
    "|+| 如果要以读写模式打开，加上 + 即可，比如：r+、w+、a+                                              |"
   ],
   "id": "93c190d11d396136"
  },
  {
   "metadata": {},
   "cell_type": "markdown",
   "source": "#### file 常用对象方法：",
   "id": "2f0592d8abbd8f98"
  },
  {
   "metadata": {},
   "cell_type": "markdown",
   "source": [
    "#### file.read(size=-1)\n",
    "- 从 file 中读取至多 size 个字符并返回\n",
    "- 如果 size 为负值或 None，则读取至 EOF（End Of File）"
   ],
   "id": "45e39fd1dbe86d62"
  },
  {
   "metadata": {
    "ExecuteTime": {
     "end_time": "2025-10-04T06:34:00.846880Z",
     "start_time": "2025-10-04T06:34:00.837911Z"
    }
   },
   "cell_type": "code",
   "source": [
    "file = open('./p261/p26.py', encoding='utf-8')\n",
    "print(file.read(11))\n",
    "print('*' * 30)\n",
    "print(file.read(25))"
   ],
   "id": "a16707bd6b838516",
   "outputs": [
    {
     "name": "stdout",
     "output_type": "stream",
     "text": [
      "print('p26成\n",
      "******************************\n",
      "功')\n",
      "\n",
      "from p261.p262.p263 \n"
     ]
    }
   ],
   "execution_count": 54
  },
  {
   "metadata": {
    "ExecuteTime": {
     "end_time": "2025-10-04T06:34:03.481063Z",
     "start_time": "2025-10-04T06:34:03.476078Z"
    }
   },
   "cell_type": "code",
   "source": [
    "print(file.read(20))\n",
    "print('*' * 30)\n",
    "\n",
    "# print(file.read(-1))\n",
    "print(file.read())"
   ],
   "id": "342254d8a1f67c23",
   "outputs": [
    {
     "name": "stdout",
     "output_type": "stream",
     "text": [
      "import p26_2\n",
      "\n",
      "print(\n",
      "******************************\n",
      "'p263')\n",
      "\n",
      "print(__name__,'*******')\n",
      "\n",
      "if __name__ == '__main__':\n",
      "    print('************')\n"
     ]
    }
   ],
   "execution_count": 55
  },
  {
   "metadata": {},
   "cell_type": "markdown",
   "source": [
    "#### file.write(s)\n",
    "- 将字符串 s 写入并返回写入的字符数"
   ],
   "id": "171ed20ce150d0aa"
  },
  {
   "metadata": {
    "ExecuteTime": {
     "end_time": "2025-10-04T06:23:19.126236Z",
     "start_time": "2025-10-04T06:23:19.116329Z"
    }
   },
   "cell_type": "code",
   "source": [
    "file = open('./p261/p26.py', mode='w', encoding='utf-8')\n",
    "print(file.write('abcd\\n123'))"
   ],
   "id": "e673550b53f8a31d",
   "outputs": [
    {
     "name": "stdout",
     "output_type": "stream",
     "text": [
      "8\n"
     ]
    }
   ],
   "execution_count": 16
  },
  {
   "metadata": {
    "ExecuteTime": {
     "end_time": "2025-10-04T06:23:19.141038Z",
     "start_time": "2025-10-04T06:23:19.138627Z"
    }
   },
   "cell_type": "code",
   "source": [
    "file = open('./p27_1.py', mode='a', encoding='utf-8')\n",
    "print(file.write('\\nabcd\\n123'))"
   ],
   "id": "18b680184a394b39",
   "outputs": [
    {
     "name": "stdout",
     "output_type": "stream",
     "text": [
      "9\n"
     ]
    }
   ],
   "execution_count": 17
  },
  {
   "metadata": {
    "ExecuteTime": {
     "end_time": "2025-10-04T06:23:19.156835Z",
     "start_time": "2025-10-04T06:23:19.147574Z"
    }
   },
   "cell_type": "code",
   "source": [
    "file = open('./p27_1.py', mode='r+', encoding='utf-8')\n",
    "print(file.read())\n",
    "print(file.write('\\nabcd\\n123'))\n",
    "file.close()"
   ],
   "id": "877fc91a1a13cb4d",
   "outputs": [
    {
     "name": "stdout",
     "output_type": "stream",
     "text": [
      "hello\n",
      "wo你rld\n",
      "\n",
      "\n",
      "123456789\n",
      "123456789\n",
      "abcd\n",
      "123\n",
      "9\n"
     ]
    }
   ],
   "execution_count": 18
  },
  {
   "metadata": {
    "ExecuteTime": {
     "end_time": "2025-10-04T06:23:19.203336Z",
     "start_time": "2025-10-04T06:23:19.193831Z"
    }
   },
   "cell_type": "code",
   "source": [
    "file = open('./p27_1.py', mode='r+', encoding='utf-8')\n",
    "print(file.write('你\\n好'))\n",
    "print(file.read())\n",
    "file.close()"
   ],
   "id": "a5793a04292df61c",
   "outputs": [
    {
     "name": "stdout",
     "output_type": "stream",
     "text": [
      "3\n",
      "o你rld\n",
      "\n",
      "\n",
      "123456789\n",
      "123456789\n",
      "abcd\n",
      "123\n",
      "abcd\n",
      "123\n"
     ]
    }
   ],
   "execution_count": 19
  },
  {
   "metadata": {
    "ExecuteTime": {
     "end_time": "2025-10-04T06:23:19.219316Z",
     "start_time": "2025-10-04T06:23:19.210043Z"
    }
   },
   "cell_type": "code",
   "source": [
    "file = open('./p27_1.py', mode='w+', encoding='utf-8')\n",
    "print(file.read())\n",
    "file.write('hello\\nworld')"
   ],
   "id": "8b2c594e81fceba",
   "outputs": [
    {
     "name": "stdout",
     "output_type": "stream",
     "text": [
      "\n"
     ]
    },
    {
     "data": {
      "text/plain": [
       "11"
      ]
     },
     "execution_count": 20,
     "metadata": {},
     "output_type": "execute_result"
    }
   ],
   "execution_count": 20
  },
  {
   "metadata": {
    "ExecuteTime": {
     "end_time": "2025-10-04T06:23:19.234571Z",
     "start_time": "2025-10-04T06:23:19.220495Z"
    }
   },
   "cell_type": "code",
   "source": [
    "file = open(r\"./p27_1.py\", mode='a+', encoding='utf-8')\n",
    "print(file.read())\n",
    "file.write('\\n123456789')\n",
    "file.close()"
   ],
   "id": "2f4f218db82e878",
   "outputs": [
    {
     "name": "stdout",
     "output_type": "stream",
     "text": [
      "hello\n",
      "world\n"
     ]
    }
   ],
   "execution_count": 21
  },
  {
   "metadata": {
    "ExecuteTime": {
     "end_time": "2025-10-04T06:23:19.250509Z",
     "start_time": "2025-10-04T06:23:19.235676Z"
    }
   },
   "cell_type": "code",
   "source": [
    "file = open(r\"./p27_1.py\", mode='a+', encoding='utf-8')\n",
    "file.write('\\n123456789')\n",
    "print(file.read())\n",
    "file.close()"
   ],
   "id": "578ed5355f52ad9f",
   "outputs": [
    {
     "name": "stdout",
     "output_type": "stream",
     "text": [
      "\n"
     ]
    }
   ],
   "execution_count": 22
  },
  {
   "metadata": {},
   "cell_type": "markdown",
   "source": [
    "#### file.flush()\n",
    "- 刷新缓冲区，即将缓冲区中的数据立刻写入文件，同时清空缓冲区，不需要被动的等待缓冲区写入。一般情况下，文件关闭后会自动刷新缓冲区，但有时你需要在关闭前刷新它，这时就可以使用flush() 方法"
   ],
   "id": "b09696dc52e2162a"
  },
  {
   "metadata": {
    "ExecuteTime": {
     "end_time": "2025-10-04T06:23:24.306293Z",
     "start_time": "2025-10-04T06:23:19.281503Z"
    }
   },
   "cell_type": "code",
   "source": [
    "import time\n",
    "\n",
    "file = open(r\"./p27_1.py\", mode='a')\n",
    "file.write('\\n123456789')\n",
    "time.sleep(5)  # 文件需要等到关闭文件时才会把数据从缓冲区写入文件\n",
    "file.close()  # 关闭文件，自动刷新缓冲区，数据才写入文件"
   ],
   "id": "b264400be106f1a6",
   "outputs": [],
   "execution_count": 23
  },
  {
   "metadata": {
    "ExecuteTime": {
     "end_time": "2025-10-04T06:23:29.331741Z",
     "start_time": "2025-10-04T06:23:24.306670Z"
    }
   },
   "cell_type": "code",
   "source": [
    "file = open(r\"./p27_1.py\", mode='a')\n",
    "file.write('\\n123456789')\n",
    "file.flush()  # 刷新缓冲区，数据立刻写入文件\n",
    "time.sleep(5)\n",
    "file.close()"
   ],
   "id": "a36936494b01ea88",
   "outputs": [],
   "execution_count": 24
  },
  {
   "metadata": {},
   "cell_type": "markdown",
   "source": [
    "#### file.close()\n",
    "- 刷新缓冲区并关闭该文件。如果文件已经关闭，则此方法无效\n",
    "- 文件关闭后，对文件的任何操作（如：读取或写入）都会引发ValueError"
   ],
   "id": "1bf349cd891173d3"
  },
  {
   "metadata": {
    "ExecuteTime": {
     "end_time": "2025-10-04T06:23:29.347535Z",
     "start_time": "2025-10-04T06:23:29.332786Z"
    }
   },
   "cell_type": "code",
   "source": [
    "file = open(r'./p27_1.py')\n",
    "print(file.read())\n",
    "file.close()\n",
    "\n",
    "# ValueError: I/O operation on closed file.\n",
    "file.read()  # 引发ValueError"
   ],
   "id": "c8c8b1d26ad01fe5",
   "outputs": [
    {
     "name": "stdout",
     "output_type": "stream",
     "text": [
      "hello\n",
      "world\n",
      "123456789\n",
      "123456789\n",
      "123456789\n",
      "123456789\n"
     ]
    },
    {
     "ename": "ValueError",
     "evalue": "I/O operation on closed file.",
     "output_type": "error",
     "traceback": [
      "\u001B[1;31m---------------------------------------------------------------------------\u001B[0m",
      "\u001B[1;31mValueError\u001B[0m                                Traceback (most recent call last)",
      "\u001B[1;32m<ipython-input-25-700017d4b9bb>\u001B[0m in \u001B[0;36m<module>\u001B[1;34m\u001B[0m\n\u001B[0;32m      2\u001B[0m \u001B[0mprint\u001B[0m\u001B[1;33m(\u001B[0m\u001B[0mfile\u001B[0m\u001B[1;33m.\u001B[0m\u001B[0mread\u001B[0m\u001B[1;33m(\u001B[0m\u001B[1;33m)\u001B[0m\u001B[1;33m)\u001B[0m\u001B[1;33m\u001B[0m\u001B[1;33m\u001B[0m\u001B[0m\n\u001B[0;32m      3\u001B[0m \u001B[0mfile\u001B[0m\u001B[1;33m.\u001B[0m\u001B[0mclose\u001B[0m\u001B[1;33m(\u001B[0m\u001B[1;33m)\u001B[0m\u001B[1;33m\u001B[0m\u001B[1;33m\u001B[0m\u001B[0m\n\u001B[1;32m----> 4\u001B[1;33m \u001B[0mfile\u001B[0m\u001B[1;33m.\u001B[0m\u001B[0mread\u001B[0m\u001B[1;33m(\u001B[0m\u001B[1;33m)\u001B[0m  \u001B[1;31m# 引发ValueError\u001B[0m\u001B[1;33m\u001B[0m\u001B[1;33m\u001B[0m\u001B[0m\n\u001B[0m",
      "\u001B[1;31mValueError\u001B[0m: I/O operation on closed file."
     ]
    }
   ],
   "execution_count": 25
  },
  {
   "metadata": {},
   "cell_type": "markdown",
   "source": [
    "#### file.seek(offset)\n",
    "- 移动文件指针到指定位置"
   ],
   "id": "4f77906918daf98"
  },
  {
   "metadata": {
    "ExecuteTime": {
     "end_time": "2025-10-04T06:35:55.022514Z",
     "start_time": "2025-10-04T06:35:55.015600Z"
    }
   },
   "cell_type": "code",
   "source": [
    "file = open('./p27_1.py', mode='w+', encoding='utf-8')\n",
    "file.write('hello\\nwo你rld')\n",
    "file.seek(4)\n",
    "print(file.read())\n",
    "file.seek(5)\n",
    "print(file.read())\n",
    "file.seek(6)\n",
    "print(file.read())\n",
    "file.seek(7)\n",
    "print(file.read())"
   ],
   "id": "778eaf439ef0ad23",
   "outputs": [
    {
     "name": "stdout",
     "output_type": "stream",
     "text": [
      "o\n",
      "wo你rld\n",
      "\n",
      "wo你rld\n",
      "\n",
      "wo你rld\n",
      "wo你rld\n"
     ]
    }
   ],
   "execution_count": 57
  },
  {
   "metadata": {},
   "cell_type": "markdown",
   "source": [
    "#### with 语句\n",
    "- 这种写法如果在open之后close之前发生未知的异常，就不能确保\n",
    "- 打开的文件一定被正常关闭，这显然不是一个好的做法"
   ],
   "id": "1b1949be155d2b79"
  },
  {
   "metadata": {},
   "cell_type": "code",
   "source": [
    "file = open(r'./p27_1.py', mode='w')\n",
    "file.write('hello world')\n",
    "...\n",
    "...\n",
    "file.close()"
   ],
   "id": "4c1e0dbc75759bcd",
   "outputs": [],
   "execution_count": null
  },
  {
   "metadata": {},
   "cell_type": "markdown",
   "source": "- 所以可以使用下面这种写法，确保close一定会被执行",
   "id": "4de4904034e552c9"
  },
  {
   "metadata": {},
   "cell_type": "code",
   "source": [
    "file = open(r'./p27_1.py', mode='w')\n",
    "try:\n",
    "    file.write('hello world')\n",
    "    ...\n",
    "    ...\n",
    "finally:\n",
    "    file.close()"
   ],
   "id": "739bbd07c780dc0",
   "outputs": [],
   "execution_count": null
  },
  {
   "metadata": {},
   "cell_type": "markdown",
   "source": "- 用 with 语句将会是一种更加简洁、优雅的方式",
   "id": "c7a382702aeb1d7"
  },
  {
   "metadata": {},
   "cell_type": "code",
   "source": [
    "with open(r'./p27_1.py', mode='w') as file:\n",
    "    file.write('hello world')\n",
    "    ...\n",
    "    ..."
   ],
   "id": "c51d32ab6261ce74",
   "outputs": [],
   "execution_count": null
  },
  {
   "metadata": {},
   "cell_type": "code",
   "source": [
    "with open(r\"./p27_1.py\", mode='a') as file:\n",
    "    file.write('\\n123456789')"
   ],
   "id": "12b4ef755d254784",
   "outputs": [],
   "execution_count": null
  }
 ],
 "metadata": {
  "kernelspec": {
   "display_name": "Python 3",
   "language": "python",
   "name": "python3"
  },
  "language_info": {
   "codemirror_mode": {
    "name": "ipython",
    "version": 2
   },
   "file_extension": ".py",
   "mimetype": "text/x-python",
   "name": "python",
   "nbconvert_exporter": "python",
   "pygments_lexer": "ipython2",
   "version": "2.7.6"
  }
 },
 "nbformat": 4,
 "nbformat_minor": 5
}
