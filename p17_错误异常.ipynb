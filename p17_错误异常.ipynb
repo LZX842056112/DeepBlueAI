{
 "cells": [
  {
   "metadata": {},
   "cell_type": "markdown",
   "source": [
    "#### 错误分类\n",
    "- 错误一般可分为两种：\n",
    "- - 语法错误：又称解析错误（语法分析器检查到的错误）\n",
    "- - 异常错误：在运行时检测到的错误（程序的语法是正确的）"
   ],
   "id": "21ec69e36eb08ee0"
  },
  {
   "metadata": {},
   "cell_type": "markdown",
   "source": "#### 处理异常",
   "id": "44b7e1d924b1f757"
  },
  {
   "metadata": {},
   "cell_type": "markdown",
   "source": [
    "#### try ... except ...\n",
    "- 如果在执行 try 子句时没有异常发生，则不会执行 except 子句\n",
    "- 如果 try 子句发生了异常，则跳过该子句中剩下的部分，执行except 子句\n",
    "- 如果 except 子句没有指定异常类型，则可以处理 try 中的所有异常类型\n",
    "- 如果 except 子句指定了异常类型，则只能处理对应的异常类型（指定多个异常类型时，可以用元组来表示）\n",
    "- 如果一个异常没有与任何的 except 匹配，则报错"
   ],
   "id": "1d92571db1c92ba1"
  },
  {
   "cell_type": "code",
   "id": "initial_id",
   "metadata": {
    "collapsed": true,
    "ExecuteTime": {
     "end_time": "2025-10-04T05:04:29.189468Z",
     "start_time": "2025-10-04T05:04:29.178833Z"
    }
   },
   "source": [
    "def div(a, b):\n",
    "    try:\n",
    "        c = a / b\n",
    "        print(f\"{a} / {b} = {c}\")\n",
    "    except:\n",
    "        print('try中发生异常')\n",
    "\n",
    "\n",
    "div(2, 1)\n",
    "div(2, 0)\n",
    "div('2', 2)"
   ],
   "outputs": [
    {
     "name": "stdout",
     "output_type": "stream",
     "text": [
      "2 / 1 = 2.0\n",
      "try中发生异常\n",
      "try中发生异常\n"
     ]
    }
   ],
   "execution_count": 1
  },
  {
   "metadata": {
    "ExecuteTime": {
     "end_time": "2025-10-04T05:04:29.204761Z",
     "start_time": "2025-10-04T05:04:29.189468Z"
    }
   },
   "cell_type": "code",
   "source": [
    "def div(a, b):\n",
    "    try:\n",
    "        c = a / b\n",
    "        print(f\"{a} / {b} = {c}\")\n",
    "    except ZeroDivisionError:\n",
    "        print('try中发生了除数为0的异常')\n",
    "\n",
    "    except TypeError:\n",
    "        print('try中发生了类型异常')\n",
    "\n",
    "\n",
    "div(2, 1)\n",
    "div(2, 0)\n",
    "div('2', 2)"
   ],
   "id": "9186d2be5c8cd3bc",
   "outputs": [
    {
     "name": "stdout",
     "output_type": "stream",
     "text": [
      "2 / 1 = 2.0\n",
      "try中发生了除数为0的异常\n",
      "try中发生了类型异常\n"
     ]
    }
   ],
   "execution_count": 2
  },
  {
   "metadata": {
    "ExecuteTime": {
     "end_time": "2025-10-04T05:04:29.220374Z",
     "start_time": "2025-10-04T05:04:29.205948Z"
    }
   },
   "cell_type": "code",
   "source": [
    "def div(a, b):\n",
    "    try:\n",
    "        c = a / b\n",
    "        print(f\"{a} / {b} = {c}\")\n",
    "    except (ZeroDivisionError, TypeError):\n",
    "        print('try中发生了除数为0的异常或者类型异常')\n",
    "\n",
    "\n",
    "div(2, 1)\n",
    "div(2, 0)\n",
    "div('2', 2)"
   ],
   "id": "52db1b94eb003286",
   "outputs": [
    {
     "name": "stdout",
     "output_type": "stream",
     "text": [
      "2 / 1 = 2.0\n",
      "try中发生了除数为0的异常或者类型异常\n",
      "try中发生了除数为0的异常或者类型异常\n"
     ]
    }
   ],
   "execution_count": 3
  },
  {
   "metadata": {},
   "cell_type": "markdown",
   "source": [
    "#### try ... except ... else ...\n",
    "- else 子句必须放在所有的 except 子句之后\n",
    "- else 子句将在 try 子句没有发生任何异常的时候执行"
   ],
   "id": "8231acabb8e00c3b"
  },
  {
   "metadata": {
    "ExecuteTime": {
     "end_time": "2025-10-04T05:04:29.235596Z",
     "start_time": "2025-10-04T05:04:29.220374Z"
    }
   },
   "cell_type": "code",
   "source": [
    "def div(a, b):\n",
    "    try:\n",
    "        c = a / b\n",
    "        print(f\"{a} / {b} = {c}\")\n",
    "    except ZeroDivisionError:\n",
    "        print('try中发生了除数为0的异常')\n",
    "    except:\n",
    "        print('发生了除0以外的异常')\n",
    "    else:\n",
    "        print('try中没有异常')\n",
    "\n",
    "\n",
    "div(2, 1)\n",
    "div(2, 0)\n",
    "div('2', 2)"
   ],
   "id": "d744cbb940f31fc7",
   "outputs": [
    {
     "name": "stdout",
     "output_type": "stream",
     "text": [
      "2 / 1 = 2.0\n",
      "try中没有异常\n",
      "try中发生了除数为0的异常\n",
      "发生了除0以外的异常\n"
     ]
    }
   ],
   "execution_count": 4
  },
  {
   "metadata": {},
   "cell_type": "markdown",
   "source": [
    "#### try ... except ... as ...\n",
    "- as 后面为异常实例对象的名称"
   ],
   "id": "843cb5cd56d6c782"
  },
  {
   "metadata": {
    "ExecuteTime": {
     "end_time": "2025-10-04T05:04:29.251217Z",
     "start_time": "2025-10-04T05:04:29.235596Z"
    }
   },
   "cell_type": "code",
   "source": [
    "z = ZeroDivisionError()\n",
    "print(z)\n",
    "z = ZeroDivisionError([1, 2, 3])\n",
    "print(z)\n",
    "z = ZeroDivisionError('division by zero')\n",
    "print(z)"
   ],
   "id": "2d1e1899de84ba4",
   "outputs": [
    {
     "name": "stdout",
     "output_type": "stream",
     "text": [
      "\n",
      "[1, 2, 3]\n",
      "division by zero\n"
     ]
    }
   ],
   "execution_count": 5
  },
  {
   "metadata": {
    "ExecuteTime": {
     "end_time": "2025-10-04T05:04:29.266799Z",
     "start_time": "2025-10-04T05:04:29.252216Z"
    }
   },
   "cell_type": "code",
   "source": [
    "class MyZeroDivisionError(BaseException):\n",
    "    # class MyZeroDivisionError:\n",
    "    #     def __init__(self, describe=''):\n",
    "    #         self.describe = describe\n",
    "\n",
    "    # def __str__(self):\n",
    "    #     return f'{self.describe}'\n",
    "    pass\n",
    "\n",
    "\n",
    "z = MyZeroDivisionError()\n",
    "print(z)\n",
    "z = MyZeroDivisionError([1, 2, 3])\n",
    "print(z)\n",
    "z = MyZeroDivisionError('division by zero')\n",
    "print(z)"
   ],
   "id": "7f7c0809d8ea489b",
   "outputs": [
    {
     "name": "stdout",
     "output_type": "stream",
     "text": [
      "\n",
      "[1, 2, 3]\n",
      "division by zero\n"
     ]
    }
   ],
   "execution_count": 6
  },
  {
   "metadata": {
    "ExecuteTime": {
     "end_time": "2025-10-04T05:04:29.282742Z",
     "start_time": "2025-10-04T05:04:29.267416Z"
    }
   },
   "cell_type": "code",
   "source": [
    "def div(a, b):\n",
    "    try:\n",
    "        c = a / b\n",
    "        print(f\"{a} / {b} = {c}\")\n",
    "    # e：ZeroDivisionError('division by zero')\n",
    "    except ZeroDivisionError as e:\n",
    "        print(type(e) is ZeroDivisionError)\n",
    "        print(e)\n",
    "        print(ZeroDivisionError('division by zero'))\n",
    "    except Exception as e:\n",
    "        print(type(e) is TypeError)\n",
    "        print(e)\n",
    "\n",
    "\n",
    "div(2, 0)\n",
    "div(2, '0')"
   ],
   "id": "27fa365a0bebddeb",
   "outputs": [
    {
     "name": "stdout",
     "output_type": "stream",
     "text": [
      "True\n",
      "division by zero\n",
      "division by zero\n",
      "True\n",
      "unsupported operand type(s) for /: 'int' and 'str'\n"
     ]
    }
   ],
   "execution_count": 7
  },
  {
   "metadata": {},
   "cell_type": "markdown",
   "source": [
    "#### try ... finally ...\n",
    "- finally 子句将作为 try 语句结束前的最后一项任务被执行\n",
    "- 不论 try 语句是否产生了异常都会被执行"
   ],
   "id": "75fa5d2993b0331e"
  },
  {
   "metadata": {
    "ExecuteTime": {
     "end_time": "2025-10-04T05:04:29.298613Z",
     "start_time": "2025-10-04T05:04:29.284138Z"
    }
   },
   "cell_type": "code",
   "source": [
    "def div(a, b):\n",
    "    try:\n",
    "        c = a / b\n",
    "        print(f\"{a} / {b} = {c}\")\n",
    "    finally:\n",
    "        print(\"执行finally子句\")\n",
    "\n",
    "# ZeroDivisionError: division by zero\n",
    "# div(2, 0)"
   ],
   "id": "933976f3700fc905",
   "outputs": [],
   "execution_count": 8
  },
  {
   "metadata": {
    "ExecuteTime": {
     "end_time": "2025-10-04T05:04:29.313932Z",
     "start_time": "2025-10-04T05:04:29.299853Z"
    }
   },
   "cell_type": "code",
   "source": [
    "def div(a, b):\n",
    "    try:\n",
    "        c = a / b\n",
    "        print(f\"{a} / {b} = {c}\")\n",
    "    except:\n",
    "        print('except在发生异常时执行')\n",
    "    else:\n",
    "        print('else在没有异常时执行')\n",
    "    finally:\n",
    "        print('finally在任何情况下都会被执行')\n",
    "\n",
    "\n",
    "div(2, 1)\n",
    "div(2, 0)"
   ],
   "id": "106599288f130bc0",
   "outputs": [
    {
     "name": "stdout",
     "output_type": "stream",
     "text": [
      "2 / 1 = 2.0\n",
      "else在没有异常时执行\n",
      "finally在任何情况下都会被执行\n",
      "except在发生异常时执行\n",
      "finally在任何情况下都会被执行\n"
     ]
    }
   ],
   "execution_count": 9
  },
  {
   "metadata": {
    "ExecuteTime": {
     "end_time": "2025-10-04T05:04:29.330104Z",
     "start_time": "2025-10-04T05:04:29.315148Z"
    }
   },
   "cell_type": "code",
   "source": [
    "def f(a, b):\n",
    "    try:\n",
    "        print(a - b)\n",
    "        print(a * b)\n",
    "        return\n",
    "    finally:\n",
    "        print('finally')\n",
    "    print(a + b)\n",
    "\n",
    "\n",
    "f(5, 0)"
   ],
   "id": "ea8aeba353888365",
   "outputs": [
    {
     "name": "stdout",
     "output_type": "stream",
     "text": [
      "5\n",
      "0\n",
      "finally\n"
     ]
    }
   ],
   "execution_count": 10
  },
  {
   "metadata": {
    "ExecuteTime": {
     "end_time": "2025-10-04T05:04:29.345350Z",
     "start_time": "2025-10-04T05:04:29.330104Z"
    }
   },
   "cell_type": "code",
   "source": [
    "def f(a, b):\n",
    "    try:\n",
    "        print(a - b)\n",
    "        print(a * b)\n",
    "    finally:\n",
    "        return\n",
    "        print('finally')\n",
    "    print(a + b)\n",
    "\n",
    "\n",
    "f(5, 0)"
   ],
   "id": "bafdf372312d2fe1",
   "outputs": [
    {
     "name": "stdout",
     "output_type": "stream",
     "text": [
      "5\n",
      "0\n"
     ]
    }
   ],
   "execution_count": 11
  },
  {
   "metadata": {},
   "cell_type": "markdown",
   "source": [
    "#### 抛出异常\n",
    "- raise 语句可以主动的抛出异常\n",
    "- raise 后面可以是 异常实例 / 异常类 / 没有内容"
   ],
   "id": "346b94fdc78d3569"
  },
  {
   "metadata": {
    "ExecuteTime": {
     "end_time": "2025-10-04T05:04:29.423925Z",
     "start_time": "2025-10-04T05:04:29.345350Z"
    }
   },
   "cell_type": "code",
   "source": [
    "def div(a, b):\n",
    "    if b == 0:\n",
    "        raise ZeroDivisionError('除数为0')\n",
    "    c = a / b\n",
    "    print(f\"{a} / {b} = {c}\")\n",
    "\n",
    "\n",
    "div(2, 1)\n",
    "# ZeroDivisionError: 除数为0\n",
    "div(2, 0)"
   ],
   "id": "264207cca31d3d40",
   "outputs": [
    {
     "name": "stdout",
     "output_type": "stream",
     "text": [
      "2 / 1 = 2.0\n"
     ]
    },
    {
     "ename": "ZeroDivisionError",
     "evalue": "除数为0",
     "output_type": "error",
     "traceback": [
      "\u001B[1;31m---------------------------------------------------------------------------\u001B[0m",
      "\u001B[1;31mZeroDivisionError\u001B[0m                         Traceback (most recent call last)",
      "\u001B[1;32m<ipython-input-12-6491d6259044>\u001B[0m in \u001B[0;36m<module>\u001B[1;34m\u001B[0m\n\u001B[0;32m      8\u001B[0m \u001B[0mdiv\u001B[0m\u001B[1;33m(\u001B[0m\u001B[1;36m2\u001B[0m\u001B[1;33m,\u001B[0m \u001B[1;36m1\u001B[0m\u001B[1;33m)\u001B[0m\u001B[1;33m\u001B[0m\u001B[1;33m\u001B[0m\u001B[0m\n\u001B[0;32m      9\u001B[0m \u001B[1;31m# ZeroDivisionError: 除数为0\u001B[0m\u001B[1;33m\u001B[0m\u001B[1;33m\u001B[0m\u001B[1;33m\u001B[0m\u001B[0m\n\u001B[1;32m---> 10\u001B[1;33m \u001B[0mdiv\u001B[0m\u001B[1;33m(\u001B[0m\u001B[1;36m2\u001B[0m\u001B[1;33m,\u001B[0m \u001B[1;36m0\u001B[0m\u001B[1;33m)\u001B[0m\u001B[1;33m\u001B[0m\u001B[1;33m\u001B[0m\u001B[0m\n\u001B[0m",
      "\u001B[1;32m<ipython-input-12-6491d6259044>\u001B[0m in \u001B[0;36mdiv\u001B[1;34m(a, b)\u001B[0m\n\u001B[0;32m      1\u001B[0m \u001B[1;32mdef\u001B[0m \u001B[0mdiv\u001B[0m\u001B[1;33m(\u001B[0m\u001B[0ma\u001B[0m\u001B[1;33m,\u001B[0m \u001B[0mb\u001B[0m\u001B[1;33m)\u001B[0m\u001B[1;33m:\u001B[0m\u001B[1;33m\u001B[0m\u001B[1;33m\u001B[0m\u001B[0m\n\u001B[0;32m      2\u001B[0m     \u001B[1;32mif\u001B[0m \u001B[0mb\u001B[0m \u001B[1;33m==\u001B[0m \u001B[1;36m0\u001B[0m\u001B[1;33m:\u001B[0m\u001B[1;33m\u001B[0m\u001B[1;33m\u001B[0m\u001B[0m\n\u001B[1;32m----> 3\u001B[1;33m         \u001B[1;32mraise\u001B[0m \u001B[0mZeroDivisionError\u001B[0m\u001B[1;33m(\u001B[0m\u001B[1;34m'除数为0'\u001B[0m\u001B[1;33m)\u001B[0m\u001B[1;33m\u001B[0m\u001B[1;33m\u001B[0m\u001B[0m\n\u001B[0m\u001B[0;32m      4\u001B[0m     \u001B[0mc\u001B[0m \u001B[1;33m=\u001B[0m \u001B[0ma\u001B[0m \u001B[1;33m/\u001B[0m \u001B[0mb\u001B[0m\u001B[1;33m\u001B[0m\u001B[1;33m\u001B[0m\u001B[0m\n\u001B[0;32m      5\u001B[0m     \u001B[0mprint\u001B[0m\u001B[1;33m(\u001B[0m\u001B[1;34mf\"{a} / {b} = {c}\"\u001B[0m\u001B[1;33m)\u001B[0m\u001B[1;33m\u001B[0m\u001B[1;33m\u001B[0m\u001B[0m\n",
      "\u001B[1;31mZeroDivisionError\u001B[0m: 除数为0"
     ]
    }
   ],
   "execution_count": 12
  },
  {
   "metadata": {
    "ExecuteTime": {
     "end_time": "2025-10-04T05:04:32.263502Z",
     "start_time": "2025-10-04T05:04:32.238963Z"
    }
   },
   "cell_type": "code",
   "source": [
    "def div(a, b):\n",
    "    if b == 0:\n",
    "        raise ZeroDivisionError\n",
    "    c = a / b\n",
    "    print(f\"{a} / {b} = {c}\")\n",
    "\n",
    "\n",
    "div(2, 1)\n",
    "# ZeroDivisionError:\n",
    "div(2, 0)"
   ],
   "id": "d44ebc4bdf85068f",
   "outputs": [
    {
     "name": "stdout",
     "output_type": "stream",
     "text": [
      "2 / 1 = 2.0\n"
     ]
    },
    {
     "ename": "ZeroDivisionError",
     "evalue": "",
     "output_type": "error",
     "traceback": [
      "\u001B[1;31m---------------------------------------------------------------------------\u001B[0m",
      "\u001B[1;31mZeroDivisionError\u001B[0m                         Traceback (most recent call last)",
      "\u001B[1;32m<ipython-input-13-4d58522fca51>\u001B[0m in \u001B[0;36m<module>\u001B[1;34m\u001B[0m\n\u001B[0;32m      8\u001B[0m \u001B[0mdiv\u001B[0m\u001B[1;33m(\u001B[0m\u001B[1;36m2\u001B[0m\u001B[1;33m,\u001B[0m \u001B[1;36m1\u001B[0m\u001B[1;33m)\u001B[0m\u001B[1;33m\u001B[0m\u001B[1;33m\u001B[0m\u001B[0m\n\u001B[0;32m      9\u001B[0m \u001B[1;31m# ZeroDivisionError:\u001B[0m\u001B[1;33m\u001B[0m\u001B[1;33m\u001B[0m\u001B[1;33m\u001B[0m\u001B[0m\n\u001B[1;32m---> 10\u001B[1;33m \u001B[0mdiv\u001B[0m\u001B[1;33m(\u001B[0m\u001B[1;36m2\u001B[0m\u001B[1;33m,\u001B[0m \u001B[1;36m0\u001B[0m\u001B[1;33m)\u001B[0m\u001B[1;33m\u001B[0m\u001B[1;33m\u001B[0m\u001B[0m\n\u001B[0m",
      "\u001B[1;32m<ipython-input-13-4d58522fca51>\u001B[0m in \u001B[0;36mdiv\u001B[1;34m(a, b)\u001B[0m\n\u001B[0;32m      1\u001B[0m \u001B[1;32mdef\u001B[0m \u001B[0mdiv\u001B[0m\u001B[1;33m(\u001B[0m\u001B[0ma\u001B[0m\u001B[1;33m,\u001B[0m \u001B[0mb\u001B[0m\u001B[1;33m)\u001B[0m\u001B[1;33m:\u001B[0m\u001B[1;33m\u001B[0m\u001B[1;33m\u001B[0m\u001B[0m\n\u001B[0;32m      2\u001B[0m     \u001B[1;32mif\u001B[0m \u001B[0mb\u001B[0m \u001B[1;33m==\u001B[0m \u001B[1;36m0\u001B[0m\u001B[1;33m:\u001B[0m\u001B[1;33m\u001B[0m\u001B[1;33m\u001B[0m\u001B[0m\n\u001B[1;32m----> 3\u001B[1;33m         \u001B[1;32mraise\u001B[0m \u001B[0mZeroDivisionError\u001B[0m\u001B[1;33m\u001B[0m\u001B[1;33m\u001B[0m\u001B[0m\n\u001B[0m\u001B[0;32m      4\u001B[0m     \u001B[0mc\u001B[0m \u001B[1;33m=\u001B[0m \u001B[0ma\u001B[0m \u001B[1;33m/\u001B[0m \u001B[0mb\u001B[0m\u001B[1;33m\u001B[0m\u001B[1;33m\u001B[0m\u001B[0m\n\u001B[0;32m      5\u001B[0m     \u001B[0mprint\u001B[0m\u001B[1;33m(\u001B[0m\u001B[1;34mf\"{a} / {b} = {c}\"\u001B[0m\u001B[1;33m)\u001B[0m\u001B[1;33m\u001B[0m\u001B[1;33m\u001B[0m\u001B[0m\n",
      "\u001B[1;31mZeroDivisionError\u001B[0m: "
     ]
    }
   ],
   "execution_count": 13
  },
  {
   "metadata": {
    "ExecuteTime": {
     "end_time": "2025-10-04T05:04:32.589596Z",
     "start_time": "2025-10-04T05:04:32.573492Z"
    }
   },
   "cell_type": "code",
   "source": [
    "def div(a, b):\n",
    "    if b == 0:\n",
    "        raise\n",
    "    c = a / b\n",
    "    print(f\"{a} / {b} = {c}\")\n",
    "\n",
    "\n",
    "div(2, 1)\n",
    "# RuntimeError: No active exception to reraise\n",
    "div(2, 0)"
   ],
   "id": "7e5b623881a22048",
   "outputs": [
    {
     "name": "stdout",
     "output_type": "stream",
     "text": [
      "2 / 1 = 2.0\n"
     ]
    },
    {
     "ename": "RuntimeError",
     "evalue": "No active exception to reraise",
     "output_type": "error",
     "traceback": [
      "\u001B[1;31m---------------------------------------------------------------------------\u001B[0m",
      "\u001B[1;31mRuntimeError\u001B[0m                              Traceback (most recent call last)",
      "\u001B[1;32m<ipython-input-14-4b080a7b5af6>\u001B[0m in \u001B[0;36m<module>\u001B[1;34m\u001B[0m\n\u001B[0;32m      8\u001B[0m \u001B[0mdiv\u001B[0m\u001B[1;33m(\u001B[0m\u001B[1;36m2\u001B[0m\u001B[1;33m,\u001B[0m \u001B[1;36m1\u001B[0m\u001B[1;33m)\u001B[0m\u001B[1;33m\u001B[0m\u001B[1;33m\u001B[0m\u001B[0m\n\u001B[0;32m      9\u001B[0m \u001B[1;31m# RuntimeError: No active exception to reraise\u001B[0m\u001B[1;33m\u001B[0m\u001B[1;33m\u001B[0m\u001B[1;33m\u001B[0m\u001B[0m\n\u001B[1;32m---> 10\u001B[1;33m \u001B[0mdiv\u001B[0m\u001B[1;33m(\u001B[0m\u001B[1;36m2\u001B[0m\u001B[1;33m,\u001B[0m \u001B[1;36m0\u001B[0m\u001B[1;33m)\u001B[0m\u001B[1;33m\u001B[0m\u001B[1;33m\u001B[0m\u001B[0m\n\u001B[0m",
      "\u001B[1;32m<ipython-input-14-4b080a7b5af6>\u001B[0m in \u001B[0;36mdiv\u001B[1;34m(a, b)\u001B[0m\n\u001B[0;32m      1\u001B[0m \u001B[1;32mdef\u001B[0m \u001B[0mdiv\u001B[0m\u001B[1;33m(\u001B[0m\u001B[0ma\u001B[0m\u001B[1;33m,\u001B[0m \u001B[0mb\u001B[0m\u001B[1;33m)\u001B[0m\u001B[1;33m:\u001B[0m\u001B[1;33m\u001B[0m\u001B[1;33m\u001B[0m\u001B[0m\n\u001B[0;32m      2\u001B[0m     \u001B[1;32mif\u001B[0m \u001B[0mb\u001B[0m \u001B[1;33m==\u001B[0m \u001B[1;36m0\u001B[0m\u001B[1;33m:\u001B[0m\u001B[1;33m\u001B[0m\u001B[1;33m\u001B[0m\u001B[0m\n\u001B[1;32m----> 3\u001B[1;33m         \u001B[1;32mraise\u001B[0m\u001B[1;33m\u001B[0m\u001B[1;33m\u001B[0m\u001B[0m\n\u001B[0m\u001B[0;32m      4\u001B[0m     \u001B[0mc\u001B[0m \u001B[1;33m=\u001B[0m \u001B[0ma\u001B[0m \u001B[1;33m/\u001B[0m \u001B[0mb\u001B[0m\u001B[1;33m\u001B[0m\u001B[1;33m\u001B[0m\u001B[0m\n\u001B[0;32m      5\u001B[0m     \u001B[0mprint\u001B[0m\u001B[1;33m(\u001B[0m\u001B[1;34mf\"{a} / {b} = {c}\"\u001B[0m\u001B[1;33m)\u001B[0m\u001B[1;33m\u001B[0m\u001B[1;33m\u001B[0m\u001B[0m\n",
      "\u001B[1;31mRuntimeError\u001B[0m: No active exception to reraise"
     ]
    }
   ],
   "execution_count": 14
  },
  {
   "metadata": {
    "ExecuteTime": {
     "end_time": "2025-10-04T05:04:32.981231Z",
     "start_time": "2025-10-04T05:04:32.965576Z"
    }
   },
   "cell_type": "code",
   "source": [
    "def div(a, b):\n",
    "    assert b != 0, 'error'\n",
    "    if not b != 0:\n",
    "        raise AssertionError('error')\n",
    "    print(a / b)\n",
    "\n",
    "\n",
    "div(4, 2)\n",
    "# AssertionError: error\n",
    "div(4, 0)"
   ],
   "id": "9fa3bba615248ce7",
   "outputs": [
    {
     "name": "stdout",
     "output_type": "stream",
     "text": [
      "2.0\n"
     ]
    },
    {
     "ename": "AssertionError",
     "evalue": "error",
     "output_type": "error",
     "traceback": [
      "\u001B[1;31m---------------------------------------------------------------------------\u001B[0m",
      "\u001B[1;31mAssertionError\u001B[0m                            Traceback (most recent call last)",
      "\u001B[1;32m<ipython-input-15-591f8b50c39a>\u001B[0m in \u001B[0;36m<module>\u001B[1;34m\u001B[0m\n\u001B[0;32m      8\u001B[0m \u001B[0mdiv\u001B[0m\u001B[1;33m(\u001B[0m\u001B[1;36m4\u001B[0m\u001B[1;33m,\u001B[0m \u001B[1;36m2\u001B[0m\u001B[1;33m)\u001B[0m\u001B[1;33m\u001B[0m\u001B[1;33m\u001B[0m\u001B[0m\n\u001B[0;32m      9\u001B[0m \u001B[1;31m# AssertionError: error\u001B[0m\u001B[1;33m\u001B[0m\u001B[1;33m\u001B[0m\u001B[1;33m\u001B[0m\u001B[0m\n\u001B[1;32m---> 10\u001B[1;33m \u001B[0mdiv\u001B[0m\u001B[1;33m(\u001B[0m\u001B[1;36m4\u001B[0m\u001B[1;33m,\u001B[0m \u001B[1;36m0\u001B[0m\u001B[1;33m)\u001B[0m\u001B[1;33m\u001B[0m\u001B[1;33m\u001B[0m\u001B[0m\n\u001B[0m",
      "\u001B[1;32m<ipython-input-15-591f8b50c39a>\u001B[0m in \u001B[0;36mdiv\u001B[1;34m(a, b)\u001B[0m\n\u001B[0;32m      1\u001B[0m \u001B[1;32mdef\u001B[0m \u001B[0mdiv\u001B[0m\u001B[1;33m(\u001B[0m\u001B[0ma\u001B[0m\u001B[1;33m,\u001B[0m \u001B[0mb\u001B[0m\u001B[1;33m)\u001B[0m\u001B[1;33m:\u001B[0m\u001B[1;33m\u001B[0m\u001B[1;33m\u001B[0m\u001B[0m\n\u001B[1;32m----> 2\u001B[1;33m     \u001B[1;32massert\u001B[0m \u001B[0mb\u001B[0m \u001B[1;33m!=\u001B[0m \u001B[1;36m0\u001B[0m\u001B[1;33m,\u001B[0m \u001B[1;34m'error'\u001B[0m\u001B[1;33m\u001B[0m\u001B[1;33m\u001B[0m\u001B[0m\n\u001B[0m\u001B[0;32m      3\u001B[0m     \u001B[1;32mif\u001B[0m \u001B[1;32mnot\u001B[0m \u001B[0mb\u001B[0m \u001B[1;33m!=\u001B[0m \u001B[1;36m0\u001B[0m\u001B[1;33m:\u001B[0m\u001B[1;33m\u001B[0m\u001B[1;33m\u001B[0m\u001B[0m\n\u001B[0;32m      4\u001B[0m         \u001B[1;32mraise\u001B[0m \u001B[0mAssertionError\u001B[0m\u001B[1;33m(\u001B[0m\u001B[1;34m'error'\u001B[0m\u001B[1;33m)\u001B[0m\u001B[1;33m\u001B[0m\u001B[1;33m\u001B[0m\u001B[0m\n\u001B[0;32m      5\u001B[0m     \u001B[0mprint\u001B[0m\u001B[1;33m(\u001B[0m\u001B[0ma\u001B[0m \u001B[1;33m/\u001B[0m \u001B[0mb\u001B[0m\u001B[1;33m)\u001B[0m\u001B[1;33m\u001B[0m\u001B[1;33m\u001B[0m\u001B[0m\n",
      "\u001B[1;31mAssertionError\u001B[0m: error"
     ]
    }
   ],
   "execution_count": 15
  },
  {
   "metadata": {},
   "cell_type": "markdown",
   "source": [
    "#### assert 断言\n",
    "- assert 用于判断一个表达式，在表达式为 False 的时候触发 AssertionError 异常\n",
    "- assert expression 等价于 if not expression: raise AssertionError\n",
    "- assert expression [, arguments] 等价于：if not expression: raise AssertionError(arguments)"
   ],
   "id": "d8fdc7877e765bef"
  },
  {
   "metadata": {
    "ExecuteTime": {
     "end_time": "2025-10-04T05:04:35.627393Z",
     "start_time": "2025-10-04T05:04:33.836241Z"
    }
   },
   "cell_type": "code",
   "source": [
    "num = int(input(\"请输入一个整数: \"))\n",
    "assert num % 2\n",
    "print(f'{num}为奇数')"
   ],
   "id": "a602fcf5c019eb4",
   "outputs": [
    {
     "ename": "AssertionError",
     "evalue": "",
     "output_type": "error",
     "traceback": [
      "\u001B[1;31m---------------------------------------------------------------------------\u001B[0m",
      "\u001B[1;31mAssertionError\u001B[0m                            Traceback (most recent call last)",
      "\u001B[1;32m<ipython-input-16-cacae81f1119>\u001B[0m in \u001B[0;36m<module>\u001B[1;34m\u001B[0m\n\u001B[0;32m      1\u001B[0m \u001B[0mnum\u001B[0m \u001B[1;33m=\u001B[0m \u001B[0mint\u001B[0m\u001B[1;33m(\u001B[0m\u001B[0minput\u001B[0m\u001B[1;33m(\u001B[0m\u001B[1;34m\"请输入一个整数: \"\u001B[0m\u001B[1;33m)\u001B[0m\u001B[1;33m)\u001B[0m\u001B[1;33m\u001B[0m\u001B[1;33m\u001B[0m\u001B[0m\n\u001B[1;32m----> 2\u001B[1;33m \u001B[1;32massert\u001B[0m \u001B[0mnum\u001B[0m \u001B[1;33m%\u001B[0m \u001B[1;36m2\u001B[0m\u001B[1;33m\u001B[0m\u001B[1;33m\u001B[0m\u001B[0m\n\u001B[0m\u001B[0;32m      3\u001B[0m \u001B[0mprint\u001B[0m\u001B[1;33m(\u001B[0m\u001B[1;34mf'{num}为奇数'\u001B[0m\u001B[1;33m)\u001B[0m\u001B[1;33m\u001B[0m\u001B[1;33m\u001B[0m\u001B[0m\n",
      "\u001B[1;31mAssertionError\u001B[0m: "
     ]
    }
   ],
   "execution_count": 16
  },
  {
   "metadata": {
    "ExecuteTime": {
     "end_time": "2025-10-04T05:04:37.119183Z",
     "start_time": "2025-10-04T05:04:36.259432Z"
    }
   },
   "cell_type": "code",
   "source": [
    "num = int(input(\"请输入一个整数: \"))\n",
    "if not num % 2:\n",
    "    raise AssertionError\n",
    "print(f'{num}为奇数')"
   ],
   "id": "12be113167501716",
   "outputs": [
    {
     "ename": "AssertionError",
     "evalue": "",
     "output_type": "error",
     "traceback": [
      "\u001B[1;31m---------------------------------------------------------------------------\u001B[0m",
      "\u001B[1;31mAssertionError\u001B[0m                            Traceback (most recent call last)",
      "\u001B[1;32m<ipython-input-17-d2b24f89d3ba>\u001B[0m in \u001B[0;36m<module>\u001B[1;34m\u001B[0m\n\u001B[0;32m      1\u001B[0m \u001B[0mnum\u001B[0m \u001B[1;33m=\u001B[0m \u001B[0mint\u001B[0m\u001B[1;33m(\u001B[0m\u001B[0minput\u001B[0m\u001B[1;33m(\u001B[0m\u001B[1;34m\"请输入一个整数: \"\u001B[0m\u001B[1;33m)\u001B[0m\u001B[1;33m)\u001B[0m\u001B[1;33m\u001B[0m\u001B[1;33m\u001B[0m\u001B[0m\n\u001B[0;32m      2\u001B[0m \u001B[1;32mif\u001B[0m \u001B[1;32mnot\u001B[0m \u001B[0mnum\u001B[0m \u001B[1;33m%\u001B[0m \u001B[1;36m2\u001B[0m\u001B[1;33m:\u001B[0m\u001B[1;33m\u001B[0m\u001B[1;33m\u001B[0m\u001B[0m\n\u001B[1;32m----> 3\u001B[1;33m     \u001B[1;32mraise\u001B[0m \u001B[0mAssertionError\u001B[0m\u001B[1;33m\u001B[0m\u001B[1;33m\u001B[0m\u001B[0m\n\u001B[0m\u001B[0;32m      4\u001B[0m \u001B[0mprint\u001B[0m\u001B[1;33m(\u001B[0m\u001B[1;34mf'{num}为奇数'\u001B[0m\u001B[1;33m)\u001B[0m\u001B[1;33m\u001B[0m\u001B[1;33m\u001B[0m\u001B[0m\n",
      "\u001B[1;31mAssertionError\u001B[0m: "
     ]
    }
   ],
   "execution_count": 17
  },
  {
   "metadata": {
    "ExecuteTime": {
     "end_time": "2025-10-04T05:04:38.589696Z",
     "start_time": "2025-10-04T05:04:37.859793Z"
    }
   },
   "cell_type": "code",
   "source": [
    "num = int(input(\"请输入一个整数: \"))\n",
    "assert num % 2, f'断言失败, {num}是偶数'\n",
    "print(f'{num}为奇数')"
   ],
   "id": "a3a00fd99e274997",
   "outputs": [
    {
     "ename": "AssertionError",
     "evalue": "断言失败, 2是偶数",
     "output_type": "error",
     "traceback": [
      "\u001B[1;31m---------------------------------------------------------------------------\u001B[0m",
      "\u001B[1;31mAssertionError\u001B[0m                            Traceback (most recent call last)",
      "\u001B[1;32m<ipython-input-18-00838a7016e5>\u001B[0m in \u001B[0;36m<module>\u001B[1;34m\u001B[0m\n\u001B[0;32m      1\u001B[0m \u001B[0mnum\u001B[0m \u001B[1;33m=\u001B[0m \u001B[0mint\u001B[0m\u001B[1;33m(\u001B[0m\u001B[0minput\u001B[0m\u001B[1;33m(\u001B[0m\u001B[1;34m\"请输入一个整数: \"\u001B[0m\u001B[1;33m)\u001B[0m\u001B[1;33m)\u001B[0m\u001B[1;33m\u001B[0m\u001B[1;33m\u001B[0m\u001B[0m\n\u001B[1;32m----> 2\u001B[1;33m \u001B[1;32massert\u001B[0m \u001B[0mnum\u001B[0m \u001B[1;33m%\u001B[0m \u001B[1;36m2\u001B[0m\u001B[1;33m,\u001B[0m \u001B[1;34mf'断言失败, {num}是偶数'\u001B[0m\u001B[1;33m\u001B[0m\u001B[1;33m\u001B[0m\u001B[0m\n\u001B[0m\u001B[0;32m      3\u001B[0m \u001B[0mprint\u001B[0m\u001B[1;33m(\u001B[0m\u001B[1;34mf'{num}为奇数'\u001B[0m\u001B[1;33m)\u001B[0m\u001B[1;33m\u001B[0m\u001B[1;33m\u001B[0m\u001B[0m\n",
      "\u001B[1;31mAssertionError\u001B[0m: 断言失败, 2是偶数"
     ]
    }
   ],
   "execution_count": 18
  },
  {
   "metadata": {
    "ExecuteTime": {
     "end_time": "2025-10-04T05:04:40.718151Z",
     "start_time": "2025-10-04T05:04:39.834619Z"
    }
   },
   "cell_type": "code",
   "source": [
    "num = int(input(\"请输入一个整数: \"))\n",
    "if not num % 2:\n",
    "    raise AssertionError(f'断言失败, {num}是偶数')\n",
    "print(f'{num}为奇数')"
   ],
   "id": "9e8c5e73c063cbbd",
   "outputs": [
    {
     "ename": "AssertionError",
     "evalue": "断言失败, 2是偶数",
     "output_type": "error",
     "traceback": [
      "\u001B[1;31m---------------------------------------------------------------------------\u001B[0m",
      "\u001B[1;31mAssertionError\u001B[0m                            Traceback (most recent call last)",
      "\u001B[1;32m<ipython-input-19-7c66fb1e2a88>\u001B[0m in \u001B[0;36m<module>\u001B[1;34m\u001B[0m\n\u001B[0;32m      1\u001B[0m \u001B[0mnum\u001B[0m \u001B[1;33m=\u001B[0m \u001B[0mint\u001B[0m\u001B[1;33m(\u001B[0m\u001B[0minput\u001B[0m\u001B[1;33m(\u001B[0m\u001B[1;34m\"请输入一个整数: \"\u001B[0m\u001B[1;33m)\u001B[0m\u001B[1;33m)\u001B[0m\u001B[1;33m\u001B[0m\u001B[1;33m\u001B[0m\u001B[0m\n\u001B[0;32m      2\u001B[0m \u001B[1;32mif\u001B[0m \u001B[1;32mnot\u001B[0m \u001B[0mnum\u001B[0m \u001B[1;33m%\u001B[0m \u001B[1;36m2\u001B[0m\u001B[1;33m:\u001B[0m\u001B[1;33m\u001B[0m\u001B[1;33m\u001B[0m\u001B[0m\n\u001B[1;32m----> 3\u001B[1;33m     \u001B[1;32mraise\u001B[0m \u001B[0mAssertionError\u001B[0m\u001B[1;33m(\u001B[0m\u001B[1;34mf'断言失败, {num}是偶数'\u001B[0m\u001B[1;33m)\u001B[0m\u001B[1;33m\u001B[0m\u001B[1;33m\u001B[0m\u001B[0m\n\u001B[0m\u001B[0;32m      4\u001B[0m \u001B[0mprint\u001B[0m\u001B[1;33m(\u001B[0m\u001B[1;34mf'{num}为奇数'\u001B[0m\u001B[1;33m)\u001B[0m\u001B[1;33m\u001B[0m\u001B[1;33m\u001B[0m\u001B[0m\n",
      "\u001B[1;31mAssertionError\u001B[0m: 断言失败, 2是偶数"
     ]
    }
   ],
   "execution_count": 19
  }
 ],
 "metadata": {
  "kernelspec": {
   "display_name": "Python 3",
   "language": "python",
   "name": "python3"
  },
  "language_info": {
   "codemirror_mode": {
    "name": "ipython",
    "version": 2
   },
   "file_extension": ".py",
   "mimetype": "text/x-python",
   "name": "python",
   "nbconvert_exporter": "python",
   "pygments_lexer": "ipython2",
   "version": "2.7.6"
  }
 },
 "nbformat": 4,
 "nbformat_minor": 5
}
