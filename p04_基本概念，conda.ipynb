{
 "cells": [
  {
   "metadata": {},
   "cell_type": "markdown",
   "source": [
    "#### 拼接\n",
    "#### 显式的行拼接\n",
    "- 如果某行代码过于冗长，可以用续行符（反斜杠 \\）将一行代码分成多行书写，以提高代码的可读性和清晰度。"
   ],
   "id": "c1be9e9b648ac56d"
  },
  {
   "cell_type": "code",
   "id": "initial_id",
   "metadata": {
    "collapsed": true,
    "ExecuteTime": {
     "end_time": "2025-09-30T03:13:26.296369Z",
     "start_time": "2025-09-30T03:13:26.281458Z"
    }
   },
   "source": [
    "\"\"\" 下面 a, b 两种写法是等价的 \"\"\"\n",
    "a = 1 + 2 + 3 + 4 + 5 + 6\n",
    "b = 1 + 2 + \\\n",
    "    3 + 4 + \\\n",
    "    5 + 6\n",
    "\n",
    "print(a)\n",
    "print(b)"
   ],
   "outputs": [
    {
     "name": "stdout",
     "output_type": "stream",
     "text": [
      "21\n",
      "21\n"
     ]
    }
   ],
   "execution_count": 2
  },
  {
   "metadata": {},
   "cell_type": "markdown",
   "source": [
    "#### 隐式的行拼接\n",
    "- 列表，元组，字典和集合，无需使用续行符，它们的元素会自动拼接为一行。"
   ],
   "id": "e01d19801fe7091e"
  },
  {
   "metadata": {
    "ExecuteTime": {
     "end_time": "2025-09-30T03:13:26.312190Z",
     "start_time": "2025-09-30T03:13:26.305158Z"
    }
   },
   "cell_type": "code",
   "source": [
    "\"\"\" 下面 num1, num2 两种写法是等价的 \"\"\"\n",
    "num1 = [1, 2, 3,\n",
    "        4, 5, 6,\n",
    "        7, 8, 9]\n",
    "num2 = [1, 2, 3, 4, 5, 6, 7, 8, 9]\n",
    "print(num1)\n",
    "print(num2)"
   ],
   "id": "c1e3f3e540a535e7",
   "outputs": [
    {
     "name": "stdout",
     "output_type": "stream",
     "text": [
      "[1, 2, 3, 4, 5, 6, 7, 8, 9]\n",
      "[1, 2, 3, 4, 5, 6, 7, 8, 9]\n"
     ]
    }
   ],
   "execution_count": 3
  },
  {
   "metadata": {},
   "cell_type": "markdown",
   "source": [
    "#### 变量\n",
    "- 变量就是可以变化的量，是计算机语言中能表示值的抽象概念。\n",
    "- 变量需要先定义再使用，解释器执行到变量定义的代码时会申请内存空间存放数据，然后将数据所在的内存地址绑定给变量名。\n",
    "- 变量的定义由三部分组成：\n",
    "- - 变量名：指向数据所在的内存地址，通过它访问数据。\n",
    "- - 等号（=）：赋值符号，用来将数据所在的内存地址绑定给变量名。\n",
    "- - 值：内存地址对应空间存储的数据。\n",
    "- 标识符：用于变量、函数、类、模块等的名称。\n",
    "- 变量命名规范（其它标识符也是类似）：\n",
    "- - 变量名通常只包括字母、数字和下划线，且不能以数字开头。\n",
    "- - 变量名是区分大小写的，如：num 和 Num 是两个不同的变量名。\n",
    "- - 由多个单词构成的变量名，可用下划线来分隔这些单词，或使用驼峰命名法。\n",
    "- - 变量名要尽量简短及具描述性，尽量做到短小精悍，见名知义。\n",
    "- - 不能使用关键字作为变量名。\n",
    "- - 尽量不要使用内置函数名作为变量名。"
   ],
   "id": "77112edf2f27f5c1"
  },
  {
   "metadata": {
    "ExecuteTime": {
     "end_time": "2025-09-30T03:13:26.404350Z",
     "start_time": "2025-09-30T03:13:26.313445Z"
    }
   },
   "cell_type": "code",
   "source": [
    "import numpy as np\n",
    "\n",
    "\n",
    "def exam(arr):\n",
    "    return arr + 100\n",
    "\n",
    "\n",
    "res = exam(np.random.randint(1, 10, size=(2, 3)))\n",
    "print(res)"
   ],
   "id": "cbca1684d8a1080c",
   "outputs": [
    {
     "name": "stdout",
     "output_type": "stream",
     "text": [
      "[[103 104 103]\n",
      " [107 103 101]]\n"
     ]
    }
   ],
   "execution_count": 4
  },
  {
   "metadata": {},
   "cell_type": "markdown",
   "source": [
    "#### conda\n",
    "#### 列出当前环境中已安装的包\n",
    "- conda list\n",
    "\n",
    "![list](picture/list.png)"
   ],
   "id": "3d6ded0c0409faf0"
  },
  {
   "metadata": {},
   "cell_type": "markdown",
   "source": [
    "#### 列出当前存在的所有环境\n",
    "- conda env list\n",
    "\n",
    "![env_list](picture/env_list.png)"
   ],
   "id": "c86cc0e02a639916"
  },
  {
   "metadata": {},
   "cell_type": "markdown",
   "source": [
    "#### 为 conda 添加国内镜像源\n",
    "- conda config --add channels https://mirrors.tuna.tsinghua.edu.cn/anaconda/pkgs/main/"
   ],
   "id": "fa734509f040e0ee"
  },
  {
   "metadata": {},
   "cell_type": "markdown",
   "source": [
    "#### 移除指定的 channel\n",
    "- conda config --remove channels <channel_name>"
   ],
   "id": "804806445e31aad1"
  },
  {
   "metadata": {},
   "cell_type": "markdown",
   "source": [
    "#### 恢复默认源\n",
    "- conda config --remove-key channels"
   ],
   "id": "b5b073ae91ef8ddc"
  },
  {
   "metadata": {},
   "cell_type": "markdown",
   "source": [
    "#### 查看当前 channels 配置状态\n",
    "- conda config --show channels\n",
    "\n",
    "![show_channels](picture/show_channels.png)"
   ],
   "id": "819b3e0b2a32c930"
  },
  {
   "metadata": {},
   "cell_type": "markdown",
   "source": [
    "#### 搜索指定的包\n",
    "- conda search <package_name>\n",
    "\n",
    "![search_numpy](picture/search_numpy.png)"
   ],
   "id": "e3197ac15658fdc0"
  },
  {
   "metadata": {},
   "cell_type": "markdown",
   "source": [
    "#### 创建 Python 虚拟环境\n",
    "- conda create -n <your_env_name> python=x.x\n",
    "- 解释：创建 Python 版本为 x.x，名字为 your_env_name 的虚拟环境"
   ],
   "id": "8a5df876dabd61db"
  },
  {
   "metadata": {},
   "cell_type": "markdown",
   "source": [
    "#### 激活指定的环境\n",
    "- conda activate <your_env_name>"
   ],
   "id": "9b50ea00b6346091"
  },
  {
   "metadata": {},
   "cell_type": "markdown",
   "source": [
    "#### 退出当前环境\n",
    "- conda deactivate"
   ],
   "id": "194bfe772ee16783"
  },
  {
   "metadata": {},
   "cell_type": "markdown",
   "source": [
    "#### 在当前环境中安装包\n",
    "- conda install <package_name>=x.x"
   ],
   "id": "9941c848e76e3cce"
  },
  {
   "metadata": {},
   "cell_type": "markdown",
   "source": [
    "#### 在指定环境中安装包\n",
    "- conda install -n <your_env_name> <package_name>=x.x"
   ],
   "id": "b1182669004fd595"
  },
  {
   "metadata": {},
   "cell_type": "markdown",
   "source": [
    "#### 删除当前环境中的某个包\n",
    "- conda remove <package_name>"
   ],
   "id": "454dc3c1bd2a8d06"
  },
  {
   "metadata": {},
   "cell_type": "markdown",
   "source": [
    "#### 删除指定环境中的某个包\n",
    "- conda remove -n <your_env_name> <package_name>"
   ],
   "id": "b7f88fb5dfc3afea"
  },
  {
   "metadata": {},
   "cell_type": "markdown",
   "source": [
    "#### 删除指定的虚拟环境\n",
    "- conda remove -n <your_env_name> --all"
   ],
   "id": "79887800ad54b69e"
  }
 ],
 "metadata": {
  "kernelspec": {
   "display_name": "Python 3",
   "language": "python",
   "name": "python3"
  },
  "language_info": {
   "codemirror_mode": {
    "name": "ipython",
    "version": 2
   },
   "file_extension": ".py",
   "mimetype": "text/x-python",
   "name": "python",
   "nbconvert_exporter": "python",
   "pygments_lexer": "ipython2",
   "version": "2.7.6"
  }
 },
 "nbformat": 4,
 "nbformat_minor": 5
}
