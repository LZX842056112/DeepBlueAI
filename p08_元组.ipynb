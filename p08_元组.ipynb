{
 "cells": [
  {
   "metadata": {},
   "cell_type": "markdown",
   "source": [
    "#### 元组（Tuple）\n",
    "- 特性：不可变，是序列\n",
    "- 元组用圆括号定义（圆括号可省略），元素没有类型限制"
   ],
   "id": "3b6256907aeb02c1"
  },
  {
   "cell_type": "code",
   "id": "initial_id",
   "metadata": {
    "collapsed": true,
    "ExecuteTime": {
     "end_time": "2025-10-01T07:28:13.804415Z",
     "start_time": "2025-10-01T07:28:13.792471Z"
    }
   },
   "source": [
    "# 空元组\n",
    "tup = ()\n",
    "print(tup)\n",
    "\n",
    "# 元组中只有一个元素时, 逗号不能省略\n",
    "tup = (789,)\n",
    "print(tup)\n",
    "tup = 789,\n",
    "print(tup)\n",
    "\n",
    "# 这不是元组，仍为数字789\n",
    "tup = (789)\n",
    "print(tup)\n",
    "\n",
    "# 封包\n",
    "tup = (132, 'asa', True, ['qw', False, 564], 3 + 4j, 132)\n",
    "print(tup)\n",
    "tup = 132, 'asa', True, ['qw', False, 564], 3 + 4j, 132\n",
    "print(tup)\n",
    "\n",
    "# 元组是不可变的, 但其中的可变成员仍然可以被改变\n",
    "tup = (456, 'hello', ([789, 'world'],))\n",
    "tup[-1][0][0] = 987\n",
    "print(tup)\n",
    "print(len(tup))\n",
    "print(type(tup))"
   ],
   "outputs": [
    {
     "name": "stdout",
     "output_type": "stream",
     "text": [
      "()\n",
      "(789,)\n",
      "(789,)\n",
      "789\n",
      "(132, 'asa', True, ['qw', False, 564], (3+4j), 132)\n",
      "(132, 'asa', True, ['qw', False, 564], (3+4j), 132)\n",
      "(456, 'hello', ([987, 'world'],))\n",
      "3\n",
      "<class 'tuple'>\n"
     ]
    }
   ],
   "execution_count": 1
  },
  {
   "metadata": {},
   "cell_type": "markdown",
   "source": [
    "#### tuple([iterable])\n",
    "- 将一个iterable对象转化为元组并返回，如果没有实参，则返回空元组"
   ],
   "id": "7ad185cfcef15c98"
  },
  {
   "metadata": {
    "ExecuteTime": {
     "end_time": "2025-10-01T07:28:13.819252Z",
     "start_time": "2025-10-01T07:28:13.805763Z"
    }
   },
   "cell_type": "code",
   "source": [
    "print(list())\n",
    "print(tuple())\n",
    "print(tuple('465asdas'))\n",
    "\n",
    "tup = (132, 'asa', True, ['qw', False, 564], 3 + 4j, 132)\n",
    "lst = list(tup)\n",
    "print(lst)\n",
    "tup = tuple(lst)\n",
    "print(tup)\n",
    "\n",
    "# 字典作为一个iterable, 只有键参与迭代\n",
    "print(tuple({1: 2, 3: 4}))\n",
    "print(tuple({'a', 'b', 'c', 789, 456}))"
   ],
   "id": "b355dd608980a0c1",
   "outputs": [
    {
     "name": "stdout",
     "output_type": "stream",
     "text": [
      "[]\n",
      "()\n",
      "('4', '6', '5', 'a', 's', 'd', 'a', 's')\n",
      "[132, 'asa', True, ['qw', False, 564], (3+4j), 132]\n",
      "(132, 'asa', True, ['qw', False, 564], (3+4j), 132)\n",
      "(1, 3)\n",
      "('a', 'c', 456, 789, 'b')\n"
     ]
    }
   ],
   "execution_count": 2
  },
  {
   "metadata": {},
   "cell_type": "markdown",
   "source": "#### 元组方法",
   "id": "7cd5fcbbbae8bf8"
  },
  {
   "metadata": {},
   "cell_type": "markdown",
   "source": [
    "#### tuple.count(x)\n",
    "- 返回元素 x 在元组中出现的次数"
   ],
   "id": "a11cc6d9ea4cec94"
  },
  {
   "metadata": {
    "ExecuteTime": {
     "end_time": "2025-10-01T07:28:13.835205Z",
     "start_time": "2025-10-01T07:28:13.820515Z"
    }
   },
   "cell_type": "code",
   "source": [
    "tup = (1, 2, 3, '23', 2, [2, 4])\n",
    "print(tup.count(2))"
   ],
   "id": "5e799a0ea9a8c53e",
   "outputs": [
    {
     "name": "stdout",
     "output_type": "stream",
     "text": [
      "2\n"
     ]
    }
   ],
   "execution_count": 3
  },
  {
   "metadata": {},
   "cell_type": "markdown",
   "source": [
    "#### tuple.index(x[, start[, end]])\n",
    "- x：要找的值\n",
    "- start：起始索引，默认为 0\n",
    "- end：结束索引（开区间），默认为 len(tup)\n",
    "- 返回从左边开始第一次找到指定值时的正向索引，找不到报错"
   ],
   "id": "d542a813c30eb7c6"
  },
  {
   "metadata": {
    "ExecuteTime": {
     "end_time": "2025-10-01T07:28:13.850577Z",
     "start_time": "2025-10-01T07:28:13.835205Z"
    }
   },
   "cell_type": "code",
   "source": [
    "tup = (1, 2, 3, '23', 2, [2, 4])\n",
    "print(tup.index(2))\n",
    "print(tup.index(2, 2))\n",
    "# ValueError: tuple.index(x): x not in tuple\n",
    "# print(tup.index(2, 4))"
   ],
   "id": "4692fe15b50bf5ef",
   "outputs": [
    {
     "name": "stdout",
     "output_type": "stream",
     "text": [
      "1\n",
      "4\n"
     ]
    }
   ],
   "execution_count": 4
  }
 ],
 "metadata": {
  "kernelspec": {
   "display_name": "Python 3",
   "language": "python",
   "name": "python3"
  },
  "language_info": {
   "codemirror_mode": {
    "name": "ipython",
    "version": 2
   },
   "file_extension": ".py",
   "mimetype": "text/x-python",
   "name": "python",
   "nbconvert_exporter": "python",
   "pygments_lexer": "ipython2",
   "version": "2.7.6"
  }
 },
 "nbformat": 4,
 "nbformat_minor": 5
}
