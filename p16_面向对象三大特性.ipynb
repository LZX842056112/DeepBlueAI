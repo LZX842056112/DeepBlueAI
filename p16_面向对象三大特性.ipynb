{
 "cells": [
  {
   "metadata": {},
   "cell_type": "markdown",
   "source": "#### 面向对象三大特性",
   "id": "673fa8def7978e01"
  },
  {
   "metadata": {},
   "cell_type": "markdown",
   "source": [
    "#### 封装\n",
    "- 在属性名或方法名前面加两个下划线开头, 声明为私有属性或私有方法\n",
    "- 私有属性或私有方法只能在该类的内部调用, 不能在该类的外部直接调用"
   ],
   "id": "86cd985fa31c3289"
  },
  {
   "metadata": {
    "ExecuteTime": {
     "end_time": "2025-10-04T04:06:53.347621Z",
     "start_time": "2025-10-04T04:06:53.337656Z"
    }
   },
   "cell_type": "code",
   "source": [
    "class Person:\n",
    "    school = '深兰教育'\n",
    "    __eat = 'rice'\n",
    "\n",
    "    def __init__(self, name, age):\n",
    "        self.name = name\n",
    "        self.__age = age\n",
    "\n",
    "    def get_up(self):\n",
    "        print(f'{self.name}起床了!')\n",
    "\n",
    "    def __sleep(self):\n",
    "        print(f'{self.name}睡觉了!')\n",
    "\n",
    "    @classmethod\n",
    "    def get_eat(cls):\n",
    "        return cls.__eat\n",
    "\n",
    "    def get_age(self):\n",
    "        return self.__age\n",
    "\n",
    "    def call_sleep(self):\n",
    "        self.__sleep()\n",
    "\n",
    "\n",
    "print(Person.school)\n",
    "# Person.__eat # Error\n",
    "print(Person.get_eat())\n",
    "\n",
    "p1 = Person('张三', 19)\n",
    "print(p1.name)\n",
    "# p1.__age # Error\n",
    "print(p1.get_age())\n",
    "\n",
    "p1.get_up()\n",
    "# p1.__sleep() # Error\n",
    "p1.call_sleep()"
   ],
   "id": "93aa0cc4cd01895b",
   "outputs": [
    {
     "name": "stdout",
     "output_type": "stream",
     "text": [
      "深兰教育\n",
      "rice\n",
      "张三\n",
      "19\n",
      "张三起床了!\n",
      "张三睡觉了!\n"
     ]
    }
   ],
   "execution_count": 1
  },
  {
   "metadata": {},
   "cell_type": "markdown",
   "source": [
    "#### 继承\n",
    "- 所有的类都默认继承内置的 object 类，通常不用显式的写出来\n",
    "- 子类继承父类后，就可以调用父类中的属性和方法"
   ],
   "id": "5c694410abdfa288"
  },
  {
   "metadata": {
    "ExecuteTime": {
     "end_time": "2025-10-04T04:06:53.363831Z",
     "start_time": "2025-10-04T04:06:53.348618Z"
    }
   },
   "cell_type": "code",
   "source": [
    "class A:  # 父类\n",
    "    pass\n",
    "\n",
    "\n",
    "class B(A):  # 子类\n",
    "    pass"
   ],
   "id": "f2c73d9ae97b217e",
   "outputs": [],
   "execution_count": 2
  },
  {
   "metadata": {},
   "cell_type": "markdown",
   "source": [
    "#### 单继承\n",
    "- 继承顺序：先找当前类，再找父类，再找父类的父类，依此类推"
   ],
   "id": "30245f79b361b08d"
  },
  {
   "metadata": {
    "ExecuteTime": {
     "end_time": "2025-10-04T04:06:53.379170Z",
     "start_time": "2025-10-04T04:06:53.365125Z"
    }
   },
   "cell_type": "code",
   "source": [
    "class Person:\n",
    "    state = \"China\"\n",
    "\n",
    "    @staticmethod\n",
    "    def eat():\n",
    "        print('吃饭')\n",
    "\n",
    "    @staticmethod\n",
    "    def speak():\n",
    "        print('说话')\n",
    "\n",
    "\n",
    "class Student(Person):\n",
    "    @staticmethod\n",
    "    def study():\n",
    "        print('读书')\n",
    "\n",
    "\n",
    "class Worker(Person):\n",
    "    @staticmethod\n",
    "    def work():\n",
    "        print('搬砖')\n",
    "\n",
    "\n",
    "Student.study()\n",
    "Student.eat()\n",
    "Student.speak()\n",
    "print(Student.state)\n",
    "\n",
    "Worker.work()\n",
    "Worker.eat()\n",
    "Worker.speak()\n",
    "print(Worker.state)"
   ],
   "id": "59c94ab8243e0429",
   "outputs": [
    {
     "name": "stdout",
     "output_type": "stream",
     "text": [
      "读书\n",
      "吃饭\n",
      "说话\n",
      "China\n",
      "搬砖\n",
      "吃饭\n",
      "说话\n",
      "China\n"
     ]
    }
   ],
   "execution_count": 3
  },
  {
   "metadata": {},
   "cell_type": "markdown",
   "source": [
    "#### 多重继承\n",
    "- 继承顺序：先找当前类，再按照从左往右的顺序依次找对应的父类"
   ],
   "id": "34603602813a9eaa"
  },
  {
   "metadata": {
    "ExecuteTime": {
     "end_time": "2025-10-04T04:06:53.394309Z",
     "start_time": "2025-10-04T04:06:53.380322Z"
    }
   },
   "cell_type": "code",
   "source": [
    "class Animal:\n",
    "    @staticmethod\n",
    "    def eat():\n",
    "        print('吃东西')\n",
    "\n",
    "\n",
    "class Cat:\n",
    "    @staticmethod\n",
    "    def catch_mouse():\n",
    "        print('抓老鼠')\n",
    "\n",
    "\n",
    "class Ragdoll(Cat, Animal):\n",
    "    @staticmethod\n",
    "    def cute():\n",
    "        print('卖萌')\n",
    "\n",
    "\n",
    "Ragdoll.cute()\n",
    "Ragdoll.catch_mouse()\n",
    "Ragdoll.eat()"
   ],
   "id": "fc76473520028b32",
   "outputs": [
    {
     "name": "stdout",
     "output_type": "stream",
     "text": [
      "卖萌\n",
      "抓老鼠\n",
      "吃东西\n"
     ]
    }
   ],
   "execution_count": 4
  },
  {
   "metadata": {},
   "cell_type": "markdown",
   "source": [
    "#### 方法重写\n",
    "- 在继承关系中，当父类的方法不能满足子类的需求时，可以在子类重写父类的该方法"
   ],
   "id": "6f8347ecdc8f17a9"
  },
  {
   "metadata": {
    "ExecuteTime": {
     "end_time": "2025-10-04T04:06:53.409882Z",
     "start_time": "2025-10-04T04:06:53.394309Z"
    }
   },
   "cell_type": "code",
   "source": [
    "class Animal:\n",
    "    def __init__(self, food):\n",
    "        self.food = food\n",
    "\n",
    "    def eat(self):\n",
    "        print(f\"动物吃{self.food}\")\n",
    "\n",
    "\n",
    "class Cat(Animal):\n",
    "    # 为了实现'猫吃鱼'的功能, 而不是父类的'动物吃鱼'\n",
    "    # 子类对eat方法重写\n",
    "    def eat(self):\n",
    "        print(f\"猫吃{self.food}\")\n",
    "\n",
    "\n",
    "c = Cat(\"鱼\")\n",
    "c.eat()"
   ],
   "id": "51021df536f41e0f",
   "outputs": [
    {
     "name": "stdout",
     "output_type": "stream",
     "text": [
      "猫吃鱼\n"
     ]
    }
   ],
   "execution_count": 5
  },
  {
   "metadata": {
    "ExecuteTime": {
     "end_time": "2025-10-04T04:06:53.424968Z",
     "start_time": "2025-10-04T04:06:53.411050Z"
    }
   },
   "cell_type": "code",
   "source": [
    "class Animal:\n",
    "    name = '动物'\n",
    "\n",
    "    def __init__(self, who, food):\n",
    "        self.food = food\n",
    "        self.who = who\n",
    "\n",
    "    @staticmethod\n",
    "    def cute():\n",
    "        print('动物卖萌')\n",
    "\n",
    "    # def eat(self, who):\n",
    "    #     print(f'{who}吃{self.food}')\n",
    "    def eat(self):\n",
    "        print(f'{self.who}吃{self.food}')\n",
    "\n",
    "\n",
    "class Cat(Animal):\n",
    "    name = '猫'\n",
    "\n",
    "    @staticmethod\n",
    "    def cute():\n",
    "        print('猫卖萌')\n",
    "\n",
    "    @staticmethod\n",
    "    def catch_mouse():\n",
    "        print('猫抓老鼠')\n",
    "\n",
    "\n",
    "class Ragdoll(Cat, Animal):\n",
    "    @staticmethod\n",
    "    def cute():\n",
    "        print('布偶猫卖萌')\n",
    "\n",
    "\n",
    "class Dog(Animal):\n",
    "    name = '狗'\n",
    "\n",
    "    def eat(self):\n",
    "        print(f'狗吃{self.food}')\n",
    "\n",
    "\n",
    "Ragdoll.cute()\n",
    "Ragdoll.catch_mouse()\n",
    "\n",
    "# TypeError: eat() missing 1 required positional argument: 'self'\n",
    "# Ragdoll.eat()\n",
    "print('*' * 40)\n",
    "\n",
    "a = Animal(Animal.name, '🥩')\n",
    "print(a.food)\n",
    "\n",
    "d = Dog(Dog.name, '🍎')\n",
    "print(d.food)\n",
    "\n",
    "c = Cat(Cat.name, '🐟')\n",
    "print(c.food)\n",
    "print('*' * 40)"
   ],
   "id": "7eb81bb17d6849df",
   "outputs": [
    {
     "name": "stdout",
     "output_type": "stream",
     "text": [
      "布偶猫卖萌\n",
      "猫抓老鼠\n",
      "****************************************\n",
      "🥩\n",
      "🍎\n",
      "🐟\n",
      "****************************************\n"
     ]
    }
   ],
   "execution_count": 6
  },
  {
   "metadata": {
    "ExecuteTime": {
     "end_time": "2025-10-04T04:06:53.440817Z",
     "start_time": "2025-10-04T04:06:53.426266Z"
    }
   },
   "cell_type": "code",
   "source": [
    "a.eat()\n",
    "d.eat()\n",
    "c.eat()\n",
    "print('*' * 40)\n",
    "\n",
    "Animal('动物', '🥩').eat()\n",
    "Cat('猫', '🍎').eat()\n",
    "Dog('狗', '🐟').eat()\n",
    "print('*' * 40)\n",
    "\n",
    "print(Animal.name)\n",
    "print(Cat.name)\n",
    "print(Dog.name)"
   ],
   "id": "5c08ee50093c97ff",
   "outputs": [
    {
     "name": "stdout",
     "output_type": "stream",
     "text": [
      "动物吃🥩\n",
      "狗吃🍎\n",
      "猫吃🐟\n",
      "****************************************\n",
      "动物吃🥩\n",
      "猫吃🍎\n",
      "狗吃🐟\n",
      "****************************************\n",
      "动物\n",
      "猫\n",
      "狗\n"
     ]
    }
   ],
   "execution_count": 7
  },
  {
   "metadata": {},
   "cell_type": "markdown",
   "source": [
    "### super()\n",
    "- super是内置的类, 可以表示指定类的父类（超类）\n",
    "- 适用场景：在子类重写父类方法后，想再调用父类的该方法"
   ],
   "id": "92bb959a7f8b6f77"
  },
  {
   "metadata": {
    "ExecuteTime": {
     "end_time": "2025-10-04T04:06:53.456317Z",
     "start_time": "2025-10-04T04:06:53.440817Z"
    }
   },
   "cell_type": "code",
   "source": [
    "class Animal:\n",
    "    name = '动物'\n",
    "\n",
    "    @staticmethod\n",
    "    def cute():\n",
    "        print('动物卖萌')\n",
    "\n",
    "\n",
    "class Cat(Animal):\n",
    "    name = '猫'\n",
    "\n",
    "    @staticmethod\n",
    "    def cute():\n",
    "        print('猫卖萌')\n",
    "\n",
    "\n",
    "class Ragdoll(Cat):\n",
    "    name = '布偶猫'\n",
    "\n",
    "    @staticmethod\n",
    "    def cute():\n",
    "        print('布偶猫卖萌')\n",
    "\n",
    "\n",
    "rd = Ragdoll()\n",
    "rd.cute()\n",
    "super(Ragdoll, rd).cute()  # rd调用Ragdoll父类的eat方法\n",
    "super(Ragdoll, Ragdoll).cute()\n",
    "super(Cat, rd).cute()  # rd调用Cat父类的eat方法\n",
    "print('*' * 30)\n",
    "\n",
    "c = Cat()\n",
    "c.cute()  # c调用Cat类中的eat方法\n",
    "super(Cat, Cat).cute()\n",
    "super(Cat, c).cute()  # c调用Cat父类的eat方法\n",
    "print('*' * 30)\n",
    "\n",
    "print(Ragdoll.name)\n",
    "print(super(Ragdoll, Ragdoll).name)\n",
    "print(super(Cat, Ragdoll).name)\n",
    "print(super(Cat, Cat).name)"
   ],
   "id": "b8d2659af6ca39d9",
   "outputs": [
    {
     "name": "stdout",
     "output_type": "stream",
     "text": [
      "布偶猫卖萌\n",
      "猫卖萌\n",
      "猫卖萌\n",
      "动物卖萌\n",
      "******************************\n",
      "猫卖萌\n",
      "动物卖萌\n",
      "动物卖萌\n",
      "******************************\n",
      "布偶猫\n",
      "猫\n",
      "动物\n",
      "动物\n"
     ]
    }
   ],
   "execution_count": 8
  },
  {
   "metadata": {
    "ExecuteTime": {
     "end_time": "2025-10-04T04:06:53.472292Z",
     "start_time": "2025-10-04T04:06:53.457693Z"
    }
   },
   "cell_type": "code",
   "source": [
    "class Animal:\n",
    "    def cute(self):\n",
    "        print('动物卖萌')\n",
    "\n",
    "\n",
    "class Cat:\n",
    "    def cute(self):\n",
    "        print('猫卖萌')\n",
    "\n",
    "\n",
    "class Ragdoll(Cat, Animal):\n",
    "    def cute(self):\n",
    "        print('布偶猫卖萌')\n",
    "\n",
    "    def cute2(self):\n",
    "        print('布偶猫卖萌')\n",
    "        super().cute()\n",
    "        super(Ragdoll, self).cute()\n",
    "        super(Cat, self).cute()\n",
    "\n",
    "\n",
    "class Exam(Animal):\n",
    "    def cute(self):\n",
    "        print('Exam卖萌')\n",
    "\n",
    "\n",
    "r = Ragdoll()\n",
    "r.cute()\n",
    "super(Ragdoll, r).cute()\n",
    "super(Cat, r).cute()\n",
    "print('*' * 40)\n",
    "\n",
    "# super(Exam, r).cute()\n",
    "r.cute2()"
   ],
   "id": "cc080b92cafce4fc",
   "outputs": [
    {
     "name": "stdout",
     "output_type": "stream",
     "text": [
      "布偶猫卖萌\n",
      "猫卖萌\n",
      "动物卖萌\n",
      "****************************************\n",
      "布偶猫卖萌\n",
      "猫卖萌\n",
      "猫卖萌\n",
      "动物卖萌\n"
     ]
    }
   ],
   "execution_count": 9
  },
  {
   "metadata": {},
   "cell_type": "markdown",
   "source": "#### 继承中的__init__方法",
   "id": "aa91c4a1bd3c463"
  },
  {
   "metadata": {
    "ExecuteTime": {
     "end_time": "2025-10-04T04:06:53.488374Z",
     "start_time": "2025-10-04T04:06:53.473548Z"
    }
   },
   "cell_type": "code",
   "source": [
    "class A:\n",
    "    def __init__(self, name):\n",
    "        self.name = name\n",
    "        self.Q()\n",
    "\n",
    "    def Q(self):\n",
    "        print(self.name, 'Q方法被调用')\n",
    "\n",
    "\n",
    "class B(A):\n",
    "    pass\n",
    "\n",
    "\n",
    "b = B('张三')\n",
    "b.Q()\n",
    "print('*' * 40)\n",
    "\n",
    "\n",
    "class C(A):\n",
    "    def __init__(self, name):\n",
    "        self.name = name\n",
    "\n",
    "\n",
    "c = C('赵六')\n",
    "c.Q()\n",
    "print('*' * 40)\n",
    "\n",
    "\n",
    "class D(A):\n",
    "    def __init__(self, name):\n",
    "        super(D, self).__init__('李四')\n",
    "        self.name = name\n",
    "\n",
    "\n",
    "d = D('王五')\n",
    "d.Q()"
   ],
   "id": "1d0555c5a7bdf5",
   "outputs": [
    {
     "name": "stdout",
     "output_type": "stream",
     "text": [
      "张三 Q方法被调用\n",
      "张三 Q方法被调用\n",
      "****************************************\n",
      "赵六 Q方法被调用\n",
      "****************************************\n",
      "李四 Q方法被调用\n",
      "王五 Q方法被调用\n"
     ]
    }
   ],
   "execution_count": 10
  },
  {
   "metadata": {},
   "cell_type": "markdown",
   "source": "#### 与继承相关的两个内置函数",
   "id": "afe9720ef524d053"
  },
  {
   "metadata": {},
   "cell_type": "markdown",
   "source": [
    "#### isinstance(object, classinfo)\n",
    "- 判定 object 是否为 classinfo 的实例对象或者其子类的实例对象\n",
    "- object：实例对象\n",
    "- classinfo：类对象或者由多个类对象构成的元组"
   ],
   "id": "4e5d2053fb06232"
  },
  {
   "metadata": {
    "ExecuteTime": {
     "end_time": "2025-10-04T04:06:53.503865Z",
     "start_time": "2025-10-04T04:06:53.489374Z"
    }
   },
   "cell_type": "code",
   "source": [
    "class A:\n",
    "    pass\n",
    "\n",
    "\n",
    "class B(A):\n",
    "    pass\n",
    "\n",
    "\n",
    "class C(A):\n",
    "    pass\n",
    "\n",
    "\n",
    "a, b, c = A(), B(), C()\n",
    "print(type(a) == A)  # True\n",
    "print(type(b) == A)  # False，type不考虑继承\n",
    "print(type(c) == A)  # False，type不考虑继承\n",
    "\n",
    "print(isinstance(a, A))  # True\n",
    "print(isinstance(b, A))  # True，考虑继承\n",
    "print(isinstance(c, A))  # True，考虑继承\n",
    "\n",
    "print(isinstance(c, (B, A)))  # True，c是A子类的实例\n",
    "print(isinstance(a, (B, C)))"
   ],
   "id": "560c45e12aec23fc",
   "outputs": [
    {
     "name": "stdout",
     "output_type": "stream",
     "text": [
      "True\n",
      "False\n",
      "False\n",
      "True\n",
      "True\n",
      "True\n",
      "True\n",
      "False\n"
     ]
    }
   ],
   "execution_count": 11
  },
  {
   "metadata": {},
   "cell_type": "markdown",
   "source": [
    "#### issubclass(class, classinfo)\n",
    "- 判定 class 是否为 classinfo 的子类, 该函数会把自己视作为自己的子类\n",
    "- class：类对象\n",
    "- classinfo：类对象或者由多个类对象构成的元组"
   ],
   "id": "ad96f52b82a2df22"
  },
  {
   "metadata": {
    "ExecuteTime": {
     "end_time": "2025-10-04T04:06:53.519219Z",
     "start_time": "2025-10-04T04:06:53.503865Z"
    }
   },
   "cell_type": "code",
   "source": [
    "class C(B):\n",
    "    pass\n",
    "\n",
    "\n",
    "print(issubclass(B, A))  # True\n",
    "print(issubclass(C, A))  # True\n",
    "print(issubclass(A, A))  # True，类会被视作其自身的子类\n",
    "\n",
    "print(issubclass(C, (B, A)))  # True\n",
    "print(issubclass(A, (B, C)))"
   ],
   "id": "2a5f9111d6b71a15",
   "outputs": [
    {
     "name": "stdout",
     "output_type": "stream",
     "text": [
      "True\n",
      "True\n",
      "True\n",
      "True\n",
      "False\n"
     ]
    }
   ],
   "execution_count": 12
  },
  {
   "metadata": {},
   "cell_type": "markdown",
   "source": [
    "#### 多态性\n",
    "- 多态性是指具有不同内容的方法可以使用相同的方法名，则可以用一个方法名调用不同内容的方法"
   ],
   "id": "64e223a4cda34ca1"
  },
  {
   "metadata": {
    "ExecuteTime": {
     "end_time": "2025-10-04T04:06:53.535234Z",
     "start_time": "2025-10-04T04:06:53.520218Z"
    }
   },
   "cell_type": "code",
   "source": [
    "class Apple:\n",
    "    @staticmethod\n",
    "    def change():\n",
    "        return '啊~ 我变成了苹果汁!'\n",
    "\n",
    "\n",
    "class Banana:\n",
    "    @staticmethod\n",
    "    def change():\n",
    "        return '啊~ 我变成了香蕉汁!'\n",
    "\n",
    "\n",
    "class Mango:\n",
    "    @staticmethod\n",
    "    def change():\n",
    "        return '啊~ 我变成了芒果汁!'\n",
    "\n",
    "\n",
    "class Juicer:\n",
    "    @staticmethod\n",
    "    def work(fruit):\n",
    "        print(fruit.change())\n",
    "\n",
    "\n",
    "\"\"\"\n",
    "三个内容不同的change方法使用相同的名字命名,\n",
    "只要改变change的调用对象, 就可以调用不同内容的方法\n",
    "\"\"\"\n",
    "Juicer.work(Apple)\n",
    "Juicer.work(Banana)\n",
    "Juicer.work(Mango)"
   ],
   "id": "f4204292ed1e64aa",
   "outputs": [
    {
     "name": "stdout",
     "output_type": "stream",
     "text": [
      "啊~ 我变成了苹果汁!\n",
      "啊~ 我变成了香蕉汁!\n",
      "啊~ 我变成了芒果汁!\n"
     ]
    }
   ],
   "execution_count": 13
  },
  {
   "metadata": {},
   "cell_type": "markdown",
   "source": [
    "#### __str__   __repr__ \n",
    "- 必须返回字符串类型的数据\n",
    "- 当实例对象被转字符串时，会自动调用"
   ],
   "id": "a21d2f3ad5a25f18"
  },
  {
   "metadata": {
    "ExecuteTime": {
     "end_time": "2025-10-04T04:06:53.550873Z",
     "start_time": "2025-10-04T04:06:53.536429Z"
    }
   },
   "cell_type": "code",
   "source": [
    "print(list('hello'))\n",
    "print(range(1, 6, 2))\n",
    "print(zip('xyz', [1, 2, 3]))\n",
    "print(enumerate('XYZW'))"
   ],
   "id": "a7f80341de9e9fc1",
   "outputs": [
    {
     "name": "stdout",
     "output_type": "stream",
     "text": [
      "['h', 'e', 'l', 'l', 'o']\n",
      "range(1, 6, 2)\n",
      "<zip object at 0x0000019064211BC0>\n",
      "<enumerate object at 0x0000019064211B00>\n"
     ]
    }
   ],
   "execution_count": 14
  },
  {
   "metadata": {
    "ExecuteTime": {
     "end_time": "2025-10-04T04:06:53.566903Z",
     "start_time": "2025-10-04T04:06:53.551872Z"
    }
   },
   "cell_type": "code",
   "source": [
    "class Cat:\n",
    "    pass\n",
    "\n",
    "\n",
    "c = Cat()\n",
    "print(c)"
   ],
   "id": "a6680c9dcebe37ad",
   "outputs": [
    {
     "name": "stdout",
     "output_type": "stream",
     "text": [
      "<__main__.Cat object at 0x00000190641F5040>\n"
     ]
    }
   ],
   "execution_count": 15
  },
  {
   "metadata": {
    "ExecuteTime": {
     "end_time": "2025-10-04T04:06:53.582525Z",
     "start_time": "2025-10-04T04:06:53.568080Z"
    }
   },
   "cell_type": "code",
   "source": [
    "class Cat:\n",
    "    pass\n",
    "\n",
    "    # TypeError: __str__ returned non-string (type int)\n",
    "    # def __str__(self):\n",
    "    #     return 789\n",
    "\n",
    "    def __str__(self):\n",
    "        return '789'\n",
    "\n",
    "\n",
    "c = Cat()\n",
    "print(c)\n",
    "print(c.__str__())"
   ],
   "id": "82120604ee28e234",
   "outputs": [
    {
     "name": "stdout",
     "output_type": "stream",
     "text": [
      "789\n",
      "789\n"
     ]
    }
   ],
   "execution_count": 16
  },
  {
   "metadata": {},
   "cell_type": "markdown",
   "source": "- 如果实例对象被直接转字符串，那么触发__str__方法，如果没有该方法，则触发__repr__.",
   "id": "235ecaf78a780597"
  },
  {
   "metadata": {
    "ExecuteTime": {
     "end_time": "2025-10-04T04:06:53.597871Z",
     "start_time": "2025-10-04T04:06:53.583722Z"
    }
   },
   "cell_type": "code",
   "source": [
    "class Cat:\n",
    "    pass\n",
    "\n",
    "    # def __str__(self):\n",
    "    #     return \"🐱\"\n",
    "\n",
    "    def __repr__(self):\n",
    "        return \"猫\"\n",
    "\n",
    "\n",
    "c = Cat()\n",
    "print(c)"
   ],
   "id": "4b58f1b7ff9c75ec",
   "outputs": [
    {
     "name": "stdout",
     "output_type": "stream",
     "text": [
      "猫\n"
     ]
    }
   ],
   "execution_count": 17
  },
  {
   "metadata": {
    "ExecuteTime": {
     "end_time": "2025-10-04T04:06:53.612778Z",
     "start_time": "2025-10-04T04:06:53.599054Z"
    }
   },
   "cell_type": "code",
   "source": [
    "class Cat:\n",
    "    def __str__(self):\n",
    "        return \"🐱\"\n",
    "\n",
    "    def __repr__(self):\n",
    "        return \"猫\"\n",
    "\n",
    "\n",
    "c = Cat()\n",
    "print(c)\n",
    "print(str(c))\n",
    "print('%s' % c)\n",
    "print('{}'.format(c))\n",
    "print(f'{c}')"
   ],
   "id": "d76b8b41501279c0",
   "outputs": [
    {
     "name": "stdout",
     "output_type": "stream",
     "text": [
      "🐱\n",
      "🐱\n",
      "🐱\n",
      "🐱\n",
      "🐱\n"
     ]
    }
   ],
   "execution_count": 18
  },
  {
   "metadata": {},
   "cell_type": "markdown",
   "source": [
    "- 如果实例对象被间接转字符串，那么只触发__repr__方法，不会找__str__方法.\n",
    "- 如果没有__repr__，找object"
   ],
   "id": "9427e261240fc940"
  },
  {
   "metadata": {
    "ExecuteTime": {
     "end_time": "2025-10-04T04:06:53.627663Z",
     "start_time": "2025-10-04T04:06:53.613938Z"
    }
   },
   "cell_type": "code",
   "source": [
    "class Cat:\n",
    "    def __str__(self):\n",
    "        return \"🐱\"\n",
    "\n",
    "    def __repr__(self):\n",
    "        return \"猫\"\n",
    "\n",
    "\n",
    "c = Cat()\n",
    "print([c])\n",
    "print({c: str(c)})"
   ],
   "id": "b2bdba485a487a68",
   "outputs": [
    {
     "name": "stdout",
     "output_type": "stream",
     "text": [
      "[猫]\n",
      "{猫: '🐱'}\n"
     ]
    }
   ],
   "execution_count": 19
  },
  {
   "metadata": {
    "ExecuteTime": {
     "end_time": "2025-10-04T04:06:53.643611Z",
     "start_time": "2025-10-04T04:06:53.628660Z"
    }
   },
   "cell_type": "code",
   "source": [
    "class Cat:\n",
    "    pass\n",
    "\n",
    "    def __str__(self):\n",
    "        return \"🐱\"\n",
    "\n",
    "    # def __repr__(self):\n",
    "    #     return \"猫\"\n",
    "\n",
    "\n",
    "c = Cat()\n",
    "print([c])\n",
    "print({c: str(c)})"
   ],
   "id": "8c4fcd2020aa1af",
   "outputs": [
    {
     "name": "stdout",
     "output_type": "stream",
     "text": [
      "[<__main__.Cat object at 0x00000190641B66A0>]\n",
      "{<__main__.Cat object at 0x00000190641B66A0>: '🐱'}\n"
     ]
    }
   ],
   "execution_count": 20
  }
 ],
 "metadata": {
  "kernelspec": {
   "display_name": "Python 3",
   "language": "python",
   "name": "python3"
  },
  "language_info": {
   "codemirror_mode": {
    "name": "ipython",
    "version": 2
   },
   "file_extension": ".py",
   "mimetype": "text/x-python",
   "name": "python",
   "nbconvert_exporter": "python",
   "pygments_lexer": "ipython2",
   "version": "2.7.6"
  }
 },
 "nbformat": 4,
 "nbformat_minor": 5
}
