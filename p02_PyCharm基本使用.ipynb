{
 "cells": [
  {
   "metadata": {},
   "cell_type": "markdown",
   "source": [
    "#### Python 之禅（Zen of Python）\n",
    "- Python之禅是隐藏在Python语言中的一种哲学思想，作者是 TimPeters。旨在鼓励开发者编写更加优美、简洁、易读和可维护的代码。希望开发者遵循一致的编码风格，避免编写过度复杂和晦涩难懂的代码。\n",
    "\n",
    "![this](picture/this.png)\n",
    "\n",
    "- 翻译如下：\n",
    "- 优美胜于丑陋（Python 以编写优美的代码为目标）\n",
    "- 明了胜于晦涩（优美的代码应当是明了的，命名规范，风格相似）\n",
    "- 简洁胜于复杂（优美的代码应当是简洁的，不要有复杂的内部实现）\n",
    "- 复杂胜于凌乱（如果复杂不可避免，那代码间也不能有难懂的关系，要保持接口简洁）\n",
    "- 扁平胜于嵌套（优美的代码应当是扁平的，不能有太多的嵌套）\n",
    "- 间隔胜于紧凑（优美的代码有适当的间隔，不要奢望一行代码解决问题）\n",
    "- 可读性很重要（优美的代码是可读的）\n",
    "- 即便假借特例的实用性之名，也不可违背这些规则（这些规则至高无上）\n",
    "- 不要包容所有错误，除非你确定需要这样做（精准地捕获异常，不写 except:pass 风格的代码）\n",
    "- 当存在多种可能，不要尝试去猜测\n",
    "- 而是尽量找一种，最好是唯一一种明显的解决方案（如果不确定，就用穷举法）\n",
    "- 虽然这并不容易，因为你不是 Python 之父（这里的 Dutch 是指作者 Guido ）\n",
    "- 做也许好过不做，但不假思索就动手还不如不做（动手之前要细思量）\n",
    "- 如果你无法向人描述你的方案，那肯定不是一个好方案；反之亦然（方案测评标准）\n",
    "- 命名空间是一种绝妙的理念，我们应当多加利用（倡导与号召）"
   ],
   "id": "ffd835084fd6a9fc"
  },
  {
   "metadata": {
    "ExecuteTime": {
     "end_time": "2025-09-30T05:25:24.299277Z",
     "start_time": "2025-09-30T05:25:24.287840Z"
    }
   },
   "cell_type": "code",
   "source": [
    "import this\n",
    "\n",
    "print(this.s)"
   ],
   "id": "6d9cd2bece89cbd8",
   "outputs": [
    {
     "name": "stdout",
     "output_type": "stream",
     "text": [
      "The Zen of Python, by Tim Peters\n",
      "\n",
      "Beautiful is better than ugly.\n",
      "Explicit is better than implicit.\n",
      "Simple is better than complex.\n",
      "Complex is better than complicated.\n",
      "Flat is better than nested.\n",
      "Sparse is better than dense.\n",
      "Readability counts.\n",
      "Special cases aren't special enough to break the rules.\n",
      "Although practicality beats purity.\n",
      "Errors should never pass silently.\n",
      "Unless explicitly silenced.\n",
      "In the face of ambiguity, refuse the temptation to guess.\n",
      "There should be one-- and preferably only one --obvious way to do it.\n",
      "Although that way may not be obvious at first unless you're Dutch.\n",
      "Now is better than never.\n",
      "Although never is often better than *right* now.\n",
      "If the implementation is hard to explain, it's a bad idea.\n",
      "If the implementation is easy to explain, it may be a good idea.\n",
      "Namespaces are one honking great idea -- let's do more of those!\n",
      "Gur Mra bs Clguba, ol Gvz Crgref\n",
      "\n",
      "Ornhgvshy vf orggre guna htyl.\n",
      "Rkcyvpvg vf orggre guna vzcyvpvg.\n",
      "Fvzcyr vf orggre guna pbzcyrk.\n",
      "Pbzcyrk vf orggre guna pbzcyvpngrq.\n",
      "Syng vf orggre guna arfgrq.\n",
      "Fcnefr vf orggre guna qrafr.\n",
      "Ernqnovyvgl pbhagf.\n",
      "Fcrpvny pnfrf nera'g fcrpvny rabhtu gb oernx gur ehyrf.\n",
      "Nygubhtu cenpgvpnyvgl orngf chevgl.\n",
      "Reebef fubhyq arire cnff fvyragyl.\n",
      "Hayrff rkcyvpvgyl fvyraprq.\n",
      "Va gur snpr bs nzovthvgl, ershfr gur grzcgngvba gb thrff.\n",
      "Gurer fubhyq or bar-- naq cersrenoyl bayl bar --boivbhf jnl gb qb vg.\n",
      "Nygubhtu gung jnl znl abg or boivbhf ng svefg hayrff lbh'er Qhgpu.\n",
      "Abj vf orggre guna arire.\n",
      "Nygubhtu arire vf bsgra orggre guna *evtug* abj.\n",
      "Vs gur vzcyrzragngvba vf uneq gb rkcynva, vg'f n onq vqrn.\n",
      "Vs gur vzcyrzragngvba vf rnfl gb rkcynva, vg znl or n tbbq vqrn.\n",
      "Anzrfcnprf ner bar ubaxvat terng vqrn -- yrg'f qb zber bs gubfr!\n"
     ]
    }
   ],
   "execution_count": 1
  },
  {
   "metadata": {
    "ExecuteTime": {
     "end_time": "2025-09-30T05:25:24.315041Z",
     "start_time": "2025-09-30T05:25:24.299277Z"
    }
   },
   "cell_type": "code",
   "source": [
    "print(this.d)\n",
    "'''hugikhuo'''\n",
    "\n",
    "\"\"\"2+4949849\"\"\""
   ],
   "id": "7d5125cc88a6e0de",
   "outputs": [
    {
     "name": "stdout",
     "output_type": "stream",
     "text": [
      "{'A': 'N', 'B': 'O', 'C': 'P', 'D': 'Q', 'E': 'R', 'F': 'S', 'G': 'T', 'H': 'U', 'I': 'V', 'J': 'W', 'K': 'X', 'L': 'Y', 'M': 'Z', 'N': 'A', 'O': 'B', 'P': 'C', 'Q': 'D', 'R': 'E', 'S': 'F', 'T': 'G', 'U': 'H', 'V': 'I', 'W': 'J', 'X': 'K', 'Y': 'L', 'Z': 'M', 'a': 'n', 'b': 'o', 'c': 'p', 'd': 'q', 'e': 'r', 'f': 's', 'g': 't', 'h': 'u', 'i': 'v', 'j': 'w', 'k': 'x', 'l': 'y', 'm': 'z', 'n': 'a', 'o': 'b', 'p': 'c', 'q': 'd', 'r': 'e', 's': 'f', 't': 'g', 'u': 'h', 'v': 'i', 'w': 'j', 'x': 'k', 'y': 'l', 'z': 'm'}\n"
     ]
    },
    {
     "data": {
      "text/plain": [
       "'2+4949849'"
      ]
     },
     "execution_count": 2,
     "metadata": {},
     "output_type": "execute_result"
    }
   ],
   "execution_count": 2
  },
  {
   "metadata": {},
   "cell_type": "markdown",
   "source": [
    "#### 注释\n",
    "- 注释在 Python 解释器的语法分析中会被忽略。通俗的说，注释是给人看的，而程序执行时会将它无视。\n",
    "- 单行注释：以 # 开头定义。\n",
    "- 多行注释：用成对的三个引号定义。"
   ],
   "id": "db1297cb08ba0045"
  },
  {
   "metadata": {
    "ExecuteTime": {
     "end_time": "2025-09-30T05:25:24.330857Z",
     "start_time": "2025-09-30T05:25:24.315041Z"
    }
   },
   "cell_type": "code",
   "source": [
    "# 定义一个求减法的函数\n",
    "def sub(left, right):  # left和right是形参\n",
    "    print(left - right)\n",
    "    print(right - left)\n",
    "\n",
    "\n",
    "'''\n",
    "上面的函数只是做了定义，\n",
    "还没有被调用，所以不会执行函数体\n",
    "'''\n",
    "\"\"\"\n",
    "上面的函数没有返回值，\n",
    "或者可以理解为return None\n",
    "\"\"\""
   ],
   "id": "6eb6fcfd8148459b",
   "outputs": [
    {
     "data": {
      "text/plain": [
       "'\\n上面的函数没有返回值，\\n或者可以理解为return None\\n'"
      ]
     },
     "execution_count": 3,
     "metadata": {},
     "output_type": "execute_result"
    }
   ],
   "execution_count": 3
  },
  {
   "metadata": {
    "ExecuteTime": {
     "end_time": "2025-09-30T05:25:24.346157Z",
     "start_time": "2025-09-30T05:25:24.330857Z"
    }
   },
   "cell_type": "code",
   "source": [
    "print('wqeqwe+++🐉🐂🐎')\n",
    "print(\"wqeqwe+++🐉🐂🐎\")"
   ],
   "id": "6989b9b25b2daf2b",
   "outputs": [
    {
     "name": "stdout",
     "output_type": "stream",
     "text": [
      "wqeqwe+++🐉🐂🐎\n",
      "wqeqwe+++🐉🐂🐎\n"
     ]
    }
   ],
   "execution_count": 4
  },
  {
   "metadata": {
    "ExecuteTime": {
     "end_time": "2025-09-30T05:25:24.361205Z",
     "start_time": "2025-09-30T05:25:24.346157Z"
    }
   },
   "cell_type": "code",
   "source": [
    "print('''sfadadadadadas\n",
    "\n",
    "\n",
    "                    sdzczsczczczc\n",
    "\n",
    "asdasd''')\n",
    "print(\"\"\"'''sfadadadadadas\n",
    "\n",
    "\n",
    "                    sdzczsczczczc\n",
    "\n",
    "asdasd'''\"\"\")"
   ],
   "id": "56d0b59909f0cf24",
   "outputs": [
    {
     "name": "stdout",
     "output_type": "stream",
     "text": [
      "sfadadadadadas\n",
      "\n",
      "\n",
      "                    sdzczsczczczc\n",
      "\n",
      "asdasd\n",
      "'''sfadadadadadas\n",
      "\n",
      "\n",
      "                    sdzczsczczczc\n",
      "\n",
      "asdasd'''\n"
     ]
    }
   ],
   "execution_count": 5
  }
 ],
 "metadata": {
  "kernelspec": {
   "display_name": "Python 3",
   "language": "python",
   "name": "python3"
  },
  "language_info": {
   "codemirror_mode": {
    "name": "ipython",
    "version": 2
   },
   "file_extension": ".py",
   "mimetype": "text/x-python",
   "name": "python",
   "nbconvert_exporter": "python",
   "pygments_lexer": "ipython2",
   "version": "2.7.6"
  }
 },
 "nbformat": 4,
 "nbformat_minor": 5
}
