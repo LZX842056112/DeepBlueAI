{
 "cells": [
  {
   "metadata": {},
   "cell_type": "markdown",
   "source": "#### 条件语句",
   "id": "a0f87c63067481a5"
  },
  {
   "metadata": {},
   "cell_type": "markdown",
   "source": [
    "#### 格式一\n",
    "- if 判断条件:\n",
    "- - 执行代码块"
   ],
   "id": "df9da101978ea9a3"
  },
  {
   "cell_type": "code",
   "id": "initial_id",
   "metadata": {
    "collapsed": true,
    "ExecuteTime": {
     "end_time": "2025-10-01T10:58:04.959656Z",
     "start_time": "2025-10-01T10:58:03.023663Z"
    }
   },
   "source": [
    "age = float(input('请问你今年多少岁? '))\n",
    "if age >= 18:\n",
    "    print('你已经成年了!')"
   ],
   "outputs": [
    {
     "name": "stdout",
     "output_type": "stream",
     "text": [
      "你已经成年了!\n"
     ]
    }
   ],
   "execution_count": 1
  },
  {
   "metadata": {},
   "cell_type": "markdown",
   "source": [
    "#### 格式二\n",
    "- if 判断条件:\n",
    "- - 执行代码块1\n",
    "- else:\n",
    "- - 执行代码块2"
   ],
   "id": "cdbba3e40a2a9b05"
  },
  {
   "metadata": {
    "ExecuteTime": {
     "end_time": "2025-10-01T10:58:06.077484Z",
     "start_time": "2025-10-01T10:58:04.960749Z"
    }
   },
   "cell_type": "code",
   "source": [
    "age = float(input('请问你今年多少岁? '))\n",
    "if age >= 18:\n",
    "    print('你已经成年了!')\n",
    "else:\n",
    "    print('你还未成年!')"
   ],
   "id": "2793a3c9d0d91720",
   "outputs": [
    {
     "name": "stdout",
     "output_type": "stream",
     "text": [
      "你已经成年了!\n"
     ]
    }
   ],
   "execution_count": 2
  },
  {
   "metadata": {},
   "cell_type": "markdown",
   "source": [
    "#### 格式三\n",
    "- if 判断条件1:\n",
    "- - 执行代码块1\n",
    "- elif 判断条件2:\n",
    "- - 执行代码块2\n",
    "- elif 判断条件3:\n",
    "- - 执行代码块3\n",
    "- ...\n",
    "- else:\n",
    "- - 执行代码块n"
   ],
   "id": "a5e9082196c4120d"
  },
  {
   "metadata": {
    "ExecuteTime": {
     "end_time": "2025-10-01T10:58:07.496037Z",
     "start_time": "2025-10-01T10:58:06.078682Z"
    }
   },
   "cell_type": "code",
   "source": [
    "score = float(input('你这次考试考了多少分? '))\n",
    "if score >= 90:\n",
    "    print('厉害!')\n",
    "elif score >= 80:\n",
    "    print('优秀!')\n",
    "elif score >= 70:\n",
    "    print('良好!')\n",
    "elif score >= 60:\n",
    "    print('及格!')\n",
    "else:\n",
    "    print('不及格!')"
   ],
   "id": "9d91ea3eea0ce43b",
   "outputs": [
    {
     "name": "stdout",
     "output_type": "stream",
     "text": [
      "厉害!\n"
     ]
    }
   ],
   "execution_count": 3
  },
  {
   "metadata": {},
   "cell_type": "markdown",
   "source": [
    "#### 三元表达式\n",
    "- 三元表达式用来实现一些简单的条件语句，会比结构化的代码块更灵活"
   ],
   "id": "a02216059429da5d"
  },
  {
   "metadata": {
    "ExecuteTime": {
     "end_time": "2025-10-01T10:58:11.321139Z",
     "start_time": "2025-10-01T10:58:07.497058Z"
    }
   },
   "cell_type": "code",
   "source": [
    "age = float(input('请问你今年多少岁? '))\n",
    "print('你已经成年了!') if age >= 18 else print('你还未成年!')\n",
    "\n",
    "score = float(input('你这次考试考了多少分? '))\n",
    "print('厉害!') if score >= 90 else \\\n",
    "    print('优秀!') if score >= 80 else \\\n",
    "        print('良好!') if score >= 70 else \\\n",
    "            print('及格!') if score >= 60 else \\\n",
    "                print('不及格!')\n",
    "\n",
    "score = float(input('你这次考试考了多少分? '))\n",
    "res = '厉害!' if score >= 90 else \\\n",
    "    '优秀!' if score >= 80 else \\\n",
    "        '良好!' if score >= 70 else \\\n",
    "            '及格!' if score >= 60 else \\\n",
    "                '不及格!'\n",
    "print(res)"
   ],
   "id": "729255a25e31e64e",
   "outputs": [
    {
     "name": "stdout",
     "output_type": "stream",
     "text": [
      "你已经成年了!\n",
      "厉害!\n",
      "厉害!\n"
     ]
    }
   ],
   "execution_count": 4
  },
  {
   "metadata": {},
   "cell_type": "markdown",
   "source": "#### 条件语句嵌套",
   "id": "ccb06c336a3dd43c"
  },
  {
   "metadata": {
    "ExecuteTime": {
     "end_time": "2025-10-01T10:58:14.820289Z",
     "start_time": "2025-10-01T10:58:11.322433Z"
    }
   },
   "cell_type": "code",
   "source": [
    "age = float(input('请问你今年多少岁? '))\n",
    "if age >= 18:\n",
    "    ans = input('可以出示您的身份证吗(Y/N): ')\n",
    "    if ans == 'Y':\n",
    "        print('身份核对正确, 请尽情冲浪吧!')\n",
    "    else:\n",
    "        print('成年人需要凭身份证上网!')\n",
    "else:\n",
    "    print('未成年人禁止出入网吧!')"
   ],
   "id": "2ce2d9dd19c3fcc2",
   "outputs": [
    {
     "name": "stdout",
     "output_type": "stream",
     "text": [
      "成年人需要凭身份证上网!\n"
     ]
    }
   ],
   "execution_count": 5
  },
  {
   "metadata": {},
   "cell_type": "markdown",
   "source": [
    "#### 条件语句特点\n",
    "- 每个条件语句中，最多只会满足一次条件"
   ],
   "id": "9c1fe98318d03a25"
  },
  {
   "metadata": {
    "ExecuteTime": {
     "end_time": "2025-10-01T10:58:14.835992Z",
     "start_time": "2025-10-01T10:58:14.821372Z"
    }
   },
   "cell_type": "code",
   "source": [
    "num = 5\n",
    "if num > 0:\n",
    "    print('a')\n",
    "elif num > 1:\n",
    "    print('b')\n",
    "elif num > 2:\n",
    "    print('c')\n",
    "if num > 3:\n",
    "    print('d')\n",
    "if num > 4:\n",
    "    print('f')\n",
    "if num > 5:\n",
    "    print('g')\n",
    "else:\n",
    "    print('h')"
   ],
   "id": "d5ce0a49167915a1",
   "outputs": [
    {
     "name": "stdout",
     "output_type": "stream",
     "text": [
      "a\n",
      "d\n",
      "f\n",
      "h\n"
     ]
    }
   ],
   "execution_count": 6
  },
  {
   "metadata": {},
   "cell_type": "markdown",
   "source": "- 当判断条件是一个值时，该值bool判定的结果决定条件是否成立",
   "id": "13b038ceadec1e15"
  },
  {
   "metadata": {
    "ExecuteTime": {
     "end_time": "2025-10-01T10:58:14.851542Z",
     "start_time": "2025-10-01T10:58:14.835992Z"
    }
   },
   "cell_type": "code",
   "source": [
    "if 1:\n",
    "    print('hello world')\n",
    "if None:\n",
    "    print('hello world')"
   ],
   "id": "5f941e81c19bab1f",
   "outputs": [
    {
     "name": "stdout",
     "output_type": "stream",
     "text": [
      "hello world\n"
     ]
    }
   ],
   "execution_count": 7
  },
  {
   "metadata": {},
   "cell_type": "markdown",
   "source": "#### 简单的猜拳游戏",
   "id": "790db605cf6dbaf9"
  },
  {
   "metadata": {
    "ExecuteTime": {
     "end_time": "2025-10-01T10:58:20.689984Z",
     "start_time": "2025-10-01T10:58:14.851542Z"
    }
   },
   "cell_type": "code",
   "source": [
    "d = {'石头': 0, '剪刀': 1, '布': 2}\n",
    "computer = set(d).pop()\n",
    "player = input('请出拳: ')\n",
    "if player not in ('石头', '剪刀', '布'):\n",
    "    print('请输入正确')\n",
    "else:\n",
    "    print(f'电脑：{computer}, 玩家：{player}')\n",
    "    if d[computer] == d[player]:\n",
    "        print('平局')\n",
    "    elif d[computer] - d[player] in (-1, 2):\n",
    "        print('电脑胜')\n",
    "    else:\n",
    "        print('玩家胜')"
   ],
   "id": "5c258f42eff4eb47",
   "outputs": [
    {
     "name": "stdout",
     "output_type": "stream",
     "text": [
      "电脑：布, 玩家：布\n",
      "平局\n"
     ]
    }
   ],
   "execution_count": 8
  }
 ],
 "metadata": {
  "kernelspec": {
   "display_name": "Python 3",
   "language": "python",
   "name": "python3"
  },
  "language_info": {
   "codemirror_mode": {
    "name": "ipython",
    "version": 2
   },
   "file_extension": ".py",
   "mimetype": "text/x-python",
   "name": "python",
   "nbconvert_exporter": "python",
   "pygments_lexer": "ipython2",
   "version": "2.7.6"
  }
 },
 "nbformat": 4,
 "nbformat_minor": 5
}
