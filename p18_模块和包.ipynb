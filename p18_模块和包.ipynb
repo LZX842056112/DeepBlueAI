{
 "cells": [
  {
   "metadata": {},
   "cell_type": "markdown",
   "source": [
    "#### 模块概念\n",
    "- 模块是一个包含Python定义和语句的文件，把相关的代码分配到一个模块里，可以让代码更好用、更易懂"
   ],
   "id": "640d4057e292aaf0"
  },
  {
   "metadata": {},
   "cell_type": "markdown",
   "source": [
    "#### 模块导入\n",
    "- 模块可以被别的程序引入，以使用该模块中定义的变量，函数等功能\n",
    "- 习惯上（但不强制要求）把所有导入语句放在模块的开头\n",
    "- 一个模块被另一个程序第一次导入时，会执行该模块\n",
    "\n",
    "|模块导入|\n",
    "|--|\n",
    "|import module|\n",
    "|import module as alias|\n",
    "|from module import item|\n",
    "|from module import item as alias|\n",
    "|from module import *|\n",
    "\n",
    "- 注意：请慎用 from module import * ，很容易出现名称重复的情况，导致出现一些意外的问题"
   ],
   "id": "3c1d7db6c5557cc1"
  },
  {
   "metadata": {
    "ExecuteTime": {
     "end_time": "2025-10-04T05:45:46.144840Z",
     "start_time": "2025-10-04T05:45:45.718486Z"
    }
   },
   "cell_type": "code",
   "source": [
    "import matplotlib.pyplot as plt\n",
    "from numpy.random.tests import test_smoke as ts\n",
    "\n",
    "print(plt.install_repl_displayhook)\n",
    "print('*' * 30)\n",
    "\n",
    "print(ts)"
   ],
   "id": "55eaa6b77af99d8a",
   "outputs": [
    {
     "name": "stdout",
     "output_type": "stream",
     "text": [
      "<function install_repl_displayhook at 0x00000149F3A869D0>\n",
      "******************************\n",
      "<module 'numpy.random.tests.test_smoke' from 'C:\\\\MySoftware\\\\Anaconda3\\\\lib\\\\site-packages\\\\numpy\\\\random\\\\tests\\\\test_smoke.py'>\n"
     ]
    }
   ],
   "execution_count": 1
  },
  {
   "metadata": {},
   "cell_type": "markdown",
   "source": [
    "#### 包的概念\n",
    "- Python包本质上是一个文件夹，只是该文件夹会包含 __init__.py模块\n",
    "- 和文件夹一样，包里面还可以存在子包，模块或者其它文件"
   ],
   "id": "c118d02861014c41"
  },
  {
   "metadata": {},
   "cell_type": "markdown",
   "source": [
    "#### 包的作用\n",
    "- 避免相同命名冲突： 如果在同一个包里，是不允许两个模块命名相同的，但是如果不在同一个包里，是可以的\n",
    "- 模块分区： 把不同功能的模块归类到不同的包里，方便查询和修改。在比较大型的项目中常常需要编写大量的模块，此时我们可以使用包来对这些模块进行管理"
   ],
   "id": "d7197d481531d74f"
  },
  {
   "metadata": {},
   "cell_type": "markdown",
   "source": [
    "#### 包的导入\n",
    "\n",
    "|包的导入|\n",
    "|--|\n",
    "|import package|\n",
    "|import package as alias|\n",
    "|from package import module|\n",
    "|from package import module as alias|\n",
    "|from package.module import item|\n",
    "|from package.module import item as alias|"
   ],
   "id": "c1a700445cd279d1"
  },
  {
   "metadata": {},
   "cell_type": "markdown",
   "source": [
    "#### 搜索路径\n",
    "- sys模块的path变量以列表的形式记录了Python解释器自动查找所需模块或包的路径；如果这些路径都找不到，则会报错：ModuleNotFoundError: No module named 'xxx'"
   ],
   "id": "fce2a62e37f7880"
  },
  {
   "metadata": {
    "ExecuteTime": {
     "end_time": "2025-10-04T05:45:46.160167Z",
     "start_time": "2025-10-04T05:45:46.146019Z"
    }
   },
   "cell_type": "code",
   "source": [
    "import sys\n",
    "\n",
    "print(sys.path)"
   ],
   "id": "initial_id",
   "outputs": [
    {
     "name": "stdout",
     "output_type": "stream",
     "text": [
      "['D:\\\\Projects\\\\DeepBule\\\\PythonFiles', 'D:\\\\Projects\\\\DeepBule\\\\PythonFiles', 'C:\\\\MySoftware\\\\Anaconda3\\\\python38.zip', 'C:\\\\MySoftware\\\\Anaconda3\\\\DLLs', 'C:\\\\MySoftware\\\\Anaconda3\\\\lib', 'C:\\\\MySoftware\\\\Anaconda3', '', 'C:\\\\MySoftware\\\\Anaconda3\\\\lib\\\\site-packages', 'C:\\\\MySoftware\\\\Anaconda3\\\\lib\\\\site-packages\\\\locket-0.2.1-py3.8.egg', 'C:\\\\MySoftware\\\\Anaconda3\\\\lib\\\\site-packages\\\\win32', 'C:\\\\MySoftware\\\\Anaconda3\\\\lib\\\\site-packages\\\\win32\\\\lib', 'C:\\\\MySoftware\\\\Anaconda3\\\\lib\\\\site-packages\\\\Pythonwin', 'C:\\\\MySoftware\\\\Anaconda3\\\\lib\\\\site-packages\\\\IPython\\\\extensions', 'C:\\\\Users\\\\lzx84\\\\.ipython']\n"
     ]
    }
   ],
   "execution_count": 2
  },
  {
   "metadata": {},
   "cell_type": "markdown",
   "source": [
    "#### __name__属性\n",
    "- 每个模块都有一个__name__属性，当其值是 '__main__' 时，说明该模块自身在运行，否则说明该模块因为被导入才执行的，此时其值为模块名\n",
    "- 在完成一个模块的编写之前，我们一般会对模块中的功能进行测试，看看各项功能是否正常运行。对于这些测试的代码，我们希望只在直接运行这个模块时执行，而在其它程序导入这个模块时不要执行，这个时候就可以借助__name__属性来实现。"
   ],
   "id": "dcdaf0bec022f102"
  },
  {
   "metadata": {
    "ExecuteTime": {
     "end_time": "2025-10-04T05:45:46.175398Z",
     "start_time": "2025-10-04T05:45:46.161342Z"
    }
   },
   "cell_type": "code",
   "source": [
    "def add(x, y):\n",
    "    print(x + y)\n",
    "    print(x * 2)\n",
    "\n",
    "\n",
    "if __name__ == '__main__':\n",
    "    add(3, 4)\n",
    "    add('3', '4')"
   ],
   "id": "d59db1592fae3550",
   "outputs": [
    {
     "name": "stdout",
     "output_type": "stream",
     "text": [
      "7\n",
      "6\n",
      "34\n",
      "33\n"
     ]
    }
   ],
   "execution_count": 3
  }
 ],
 "metadata": {
  "kernelspec": {
   "display_name": "Python 3",
   "language": "python",
   "name": "python3"
  },
  "language_info": {
   "codemirror_mode": {
    "name": "ipython",
    "version": 2
   },
   "file_extension": ".py",
   "mimetype": "text/x-python",
   "name": "python",
   "nbconvert_exporter": "python",
   "pygments_lexer": "ipython2",
   "version": "2.7.6"
  }
 },
 "nbformat": 4,
 "nbformat_minor": 5
}
