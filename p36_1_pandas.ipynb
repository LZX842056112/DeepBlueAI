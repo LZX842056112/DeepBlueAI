{
 "cells": [
  {
   "metadata": {
    "ExecuteTime": {
     "end_time": "2025-09-27T05:09:00.086535Z",
     "start_time": "2025-09-27T05:08:59.766608Z"
    }
   },
   "cell_type": "code",
   "source": [
    "import pandas as pd\n",
    "import numpy as np\n",
    "\n",
    "print(pd.__version__)"
   ],
   "id": "6864119be3130f72",
   "outputs": [
    {
     "name": "stdout",
     "output_type": "stream",
     "text": [
      "1.2.4\n"
     ]
    }
   ],
   "execution_count": 1
  },
  {
   "metadata": {},
   "cell_type": "markdown",
   "source": "#### CSV文件读写",
   "id": "219b190395901132"
  },
  {
   "cell_type": "code",
   "id": "initial_id",
   "metadata": {
    "collapsed": true,
    "ExecuteTime": {
     "end_time": "2025-09-27T05:09:00.102527Z",
     "start_time": "2025-09-27T05:09:00.087818Z"
    }
   },
   "source": [
    "with open('./p361/exam1.csv') as file:\n",
    "    print(file.read())"
   ],
   "outputs": [
    {
     "name": "stdout",
     "output_type": "stream",
     "text": [
      "a,b,c,d\n",
      "8,5,0,9\n",
      "6,7,1,2\n",
      "0,4,7,3\n",
      "1,1,5,6\n",
      "7,6,2,4\n",
      "9,0,5,6\n"
     ]
    }
   ],
   "execution_count": 2
  },
  {
   "metadata": {},
   "cell_type": "markdown",
   "source": "- sep参数默认为逗号(exam2.csv文件是用 = 分隔)",
   "id": "3303cab9d5a8505b"
  },
  {
   "metadata": {
    "ExecuteTime": {
     "end_time": "2025-09-27T05:09:00.118283Z",
     "start_time": "2025-09-27T05:09:00.103759Z"
    }
   },
   "cell_type": "code",
   "source": [
    "df = pd.read_csv('./p361/exam1.csv')\n",
    "print(df)\n",
    "df2 = pd.read_csv('./p361/exam2.csv', sep='=')\n",
    "print(df2)"
   ],
   "id": "654b245af1d3304f",
   "outputs": [
    {
     "name": "stdout",
     "output_type": "stream",
     "text": [
      "   a  b  c  d\n",
      "0  8  5  0  9\n",
      "1  6  7  1  2\n",
      "2  0  4  7  3\n",
      "3  1  1  5  6\n",
      "4  7  6  2  4\n",
      "5  9  0  5  6\n",
      "   a  b  c  d\n",
      "0  8  5  0  9\n",
      "1  6  7  1  2\n",
      "2  0  4  7  3\n",
      "3  1  1  5  6\n",
      "4  7  6  2  4\n",
      "5  9  0  5  6\n"
     ]
    }
   ],
   "execution_count": 3
  },
  {
   "metadata": {},
   "cell_type": "markdown",
   "source": [
    "- header参数默认自行推断, 会把第一行数据作为列索引(表头)\n",
    "- 如果不想使用数据为列索引, 可设置为None, 那么列索引就会是(0,1...)"
   ],
   "id": "ff64de1a1e175721"
  },
  {
   "metadata": {
    "ExecuteTime": {
     "end_time": "2025-09-27T05:09:00.134453Z",
     "start_time": "2025-09-27T05:09:00.118283Z"
    }
   },
   "cell_type": "code",
   "source": [
    "df = pd.read_csv('./p361/exam2.csv', sep='=', header=None)\n",
    "print(df)"
   ],
   "id": "d6e4684235e8a0b4",
   "outputs": [
    {
     "name": "stdout",
     "output_type": "stream",
     "text": [
      "   0  1  2  3\n",
      "0  a  b  c  d\n",
      "1  8  5  0  9\n",
      "2  6  7  1  2\n",
      "3  0  4  7  3\n",
      "4  1  1  5  6\n",
      "5  7  6  2  4\n",
      "6  9  0  5  6\n"
     ]
    }
   ],
   "execution_count": 4
  },
  {
   "metadata": {},
   "cell_type": "markdown",
   "source": "- header=2, 指定第3行数据作为列索引(表头), 之后的行才为数据",
   "id": "3edcb4e42e5d4aee"
  },
  {
   "metadata": {
    "ExecuteTime": {
     "end_time": "2025-09-27T05:09:00.150573Z",
     "start_time": "2025-09-27T05:09:00.134453Z"
    }
   },
   "cell_type": "code",
   "source": [
    "df = pd.read_csv('./p361/exam1.csv', header=2)\n",
    "print(df)"
   ],
   "id": "d60cf6166f2cc9c0",
   "outputs": [
    {
     "name": "stdout",
     "output_type": "stream",
     "text": [
      "   6  7  1  2\n",
      "0  0  4  7  3\n",
      "1  1  1  5  6\n",
      "2  7  6  2  4\n",
      "3  9  0  5  6\n"
     ]
    }
   ],
   "execution_count": 5
  },
  {
   "metadata": {},
   "cell_type": "markdown",
   "source": "- names参数可以指定列索引",
   "id": "f1f56ecba5c49c5e"
  },
  {
   "metadata": {
    "ExecuteTime": {
     "end_time": "2025-09-27T05:09:00.165792Z",
     "start_time": "2025-09-27T05:09:00.151569Z"
    }
   },
   "cell_type": "code",
   "source": [
    "df = pd.read_csv('./p361/exam1.csv', names=list('QWER'))\n",
    "print(df)"
   ],
   "id": "49c2a91c6a65ff18",
   "outputs": [
    {
     "name": "stdout",
     "output_type": "stream",
     "text": [
      "   Q  W  E  R\n",
      "0  a  b  c  d\n",
      "1  8  5  0  9\n",
      "2  6  7  1  2\n",
      "3  0  4  7  3\n",
      "4  1  1  5  6\n",
      "5  7  6  2  4\n",
      "6  9  0  5  6\n"
     ]
    }
   ],
   "execution_count": 6
  },
  {
   "metadata": {},
   "cell_type": "markdown",
   "source": "- 如果指定names, 则header推断为None",
   "id": "20a4ce277ffd7ce0"
  },
  {
   "metadata": {
    "ExecuteTime": {
     "end_time": "2025-09-27T05:09:00.181152Z",
     "start_time": "2025-09-27T05:09:00.166858Z"
    }
   },
   "cell_type": "code",
   "source": [
    "df = pd.read_csv('./p361/exam1.csv', names=list('QWER'), header=2)\n",
    "print(df)"
   ],
   "id": "2f46fd7f146c192e",
   "outputs": [
    {
     "name": "stdout",
     "output_type": "stream",
     "text": [
      "   Q  W  E  R\n",
      "0  0  4  7  3\n",
      "1  1  1  5  6\n",
      "2  7  6  2  4\n",
      "3  9  0  5  6\n"
     ]
    }
   ],
   "execution_count": 7
  },
  {
   "metadata": {},
   "cell_type": "markdown",
   "source": "#### index_col 指定某一列为行索引名",
   "id": "f2e7aa46450de278"
  },
  {
   "metadata": {
    "ExecuteTime": {
     "end_time": "2025-09-27T05:09:00.196470Z",
     "start_time": "2025-09-27T05:09:00.182178Z"
    }
   },
   "cell_type": "code",
   "source": [
    "df = pd.read_csv('./p361/exam1.csv', index_col=1)\n",
    "print(df)\n",
    "print('*' * 30)\n",
    "df.index.name = None\n",
    "print(df)"
   ],
   "id": "989483fa36af6d23",
   "outputs": [
    {
     "name": "stdout",
     "output_type": "stream",
     "text": [
      "   a  c  d\n",
      "b         \n",
      "5  8  0  9\n",
      "7  6  1  2\n",
      "4  0  7  3\n",
      "1  1  5  6\n",
      "6  7  2  4\n",
      "0  9  5  6\n",
      "******************************\n",
      "   a  c  d\n",
      "5  8  0  9\n",
      "7  6  1  2\n",
      "4  0  7  3\n",
      "1  1  5  6\n",
      "6  7  2  4\n",
      "0  9  5  6\n"
     ]
    }
   ],
   "execution_count": 8
  },
  {
   "metadata": {
    "ExecuteTime": {
     "end_time": "2025-09-27T05:09:00.212232Z",
     "start_time": "2025-09-27T05:09:00.197755Z"
    }
   },
   "cell_type": "code",
   "source": [
    "df = pd.read_csv('./p361/exam1.csv', index_col=1, names=list('QWER'))\n",
    "print(df)"
   ],
   "id": "a9b3489c68472a57",
   "outputs": [
    {
     "name": "stdout",
     "output_type": "stream",
     "text": [
      "   Q  E  R\n",
      "W         \n",
      "b  a  c  d\n",
      "5  8  0  9\n",
      "7  6  1  2\n",
      "4  0  7  3\n",
      "1  1  5  6\n",
      "6  7  2  4\n",
      "0  9  5  6\n"
     ]
    }
   ],
   "execution_count": 9
  },
  {
   "metadata": {},
   "cell_type": "markdown",
   "source": "#### 读取大文件片段",
   "id": "a28411755eb77d3e"
  },
  {
   "metadata": {},
   "cell_type": "markdown",
   "source": "- nrows参数用来读取指定行数的数据：这里读取前两行数据(header先推断再读取)",
   "id": "5733546b05213845"
  },
  {
   "metadata": {
    "ExecuteTime": {
     "end_time": "2025-09-27T05:09:00.228301Z",
     "start_time": "2025-09-27T05:09:00.213346Z"
    }
   },
   "cell_type": "code",
   "source": [
    "df = pd.read_csv('./p361/exam1.csv', header=1, nrows=3)\n",
    "print(df)"
   ],
   "id": "6f34193fc6f8cbf6",
   "outputs": [
    {
     "name": "stdout",
     "output_type": "stream",
     "text": [
      "   8  5  0  9\n",
      "0  6  7  1  2\n",
      "1  0  4  7  3\n",
      "2  1  1  5  6\n"
     ]
    }
   ],
   "execution_count": 10
  },
  {
   "metadata": {},
   "cell_type": "markdown",
   "source": [
    "- skiprows参数用来指定需要跳过的行(先跳过, header再推断)\n",
    "- 当skiprows为整数时, 表示跳过对应的前几行：这里跳过前两行\n",
    "- 当skiprows为索引时, 表示跳过对应的索引行：这里跳过第1行和第3行\n"
   ],
   "id": "3330a7dce07cf0b2"
  },
  {
   "metadata": {
    "ExecuteTime": {
     "end_time": "2025-09-27T05:09:00.243260Z",
     "start_time": "2025-09-27T05:09:00.229335Z"
    }
   },
   "cell_type": "code",
   "source": [
    "df = pd.read_csv('./p361/exam1.csv', header=1, skiprows=2)\n",
    "print(df)\n",
    "print('*' * 30)\n",
    "df = pd.read_csv('./p361/exam1.csv', header=1, skiprows=[0, 2])\n",
    "print(df)"
   ],
   "id": "5e4a34335405701b",
   "outputs": [
    {
     "name": "stdout",
     "output_type": "stream",
     "text": [
      "   0  4  7  3\n",
      "0  1  1  5  6\n",
      "1  7  6  2  4\n",
      "2  9  0  5  6\n",
      "******************************\n",
      "   0  4  7  3\n",
      "0  1  1  5  6\n",
      "1  7  6  2  4\n",
      "2  9  0  5  6\n"
     ]
    }
   ],
   "execution_count": 11
  },
  {
   "metadata": {},
   "cell_type": "markdown",
   "source": "- usecols参数用来读取指定列的数据：这里读取第1列和第3列",
   "id": "42b5c7ab528d5eae"
  },
  {
   "metadata": {
    "ExecuteTime": {
     "end_time": "2025-09-27T05:09:00.258484Z",
     "start_time": "2025-09-27T05:09:00.244431Z"
    }
   },
   "cell_type": "code",
   "source": [
    "df = pd.read_csv('./p361/exam1.csv')\n",
    "print(df)"
   ],
   "id": "7f29616c5b293f66",
   "outputs": [
    {
     "name": "stdout",
     "output_type": "stream",
     "text": [
      "   a  b  c  d\n",
      "0  8  5  0  9\n",
      "1  6  7  1  2\n",
      "2  0  4  7  3\n",
      "3  1  1  5  6\n",
      "4  7  6  2  4\n",
      "5  9  0  5  6\n"
     ]
    }
   ],
   "execution_count": 12
  },
  {
   "metadata": {
    "ExecuteTime": {
     "end_time": "2025-09-27T05:09:00.274250Z",
     "start_time": "2025-09-27T05:09:00.258484Z"
    }
   },
   "cell_type": "code",
   "source": [
    "df = pd.read_csv('./p361/exam1.csv', usecols=[0, 2])\n",
    "print(df)"
   ],
   "id": "c2ee400b29e340bb",
   "outputs": [
    {
     "name": "stdout",
     "output_type": "stream",
     "text": [
      "   a  c\n",
      "0  8  0\n",
      "1  6  1\n",
      "2  0  7\n",
      "3  1  5\n",
      "4  7  2\n",
      "5  9  5\n"
     ]
    }
   ],
   "execution_count": 13
  },
  {
   "metadata": {},
   "cell_type": "markdown",
   "source": [
    "- chunksize参数指定时, read_csv会返回TextFileReader对象\n",
    "- TextFileReader对象是个迭代器, 可以按照chunksize迭代"
   ],
   "id": "a9e16b533e9e923e"
  },
  {
   "metadata": {
    "ExecuteTime": {
     "end_time": "2025-09-27T05:09:00.290284Z",
     "start_time": "2025-09-27T05:09:00.275400Z"
    }
   },
   "cell_type": "code",
   "source": [
    "df = pd.read_csv('./p361/exam1.csv', chunksize=4)\n",
    "print(df)\n",
    "for i in df:\n",
    "    print(i)"
   ],
   "id": "c45771606fb8bb86",
   "outputs": [
    {
     "name": "stdout",
     "output_type": "stream",
     "text": [
      "<pandas.io.parsers.TextFileReader object at 0x000001E91B8A54F0>\n",
      "   a  b  c  d\n",
      "0  8  5  0  9\n",
      "1  6  7  1  2\n",
      "2  0  4  7  3\n",
      "3  1  1  5  6\n",
      "   a  b  c  d\n",
      "4  7  6  2  4\n",
      "5  9  0  5  6\n"
     ]
    }
   ],
   "execution_count": 14
  },
  {
   "metadata": {},
   "cell_type": "markdown",
   "source": [
    "#### 把DataFrame写入csv文件\n",
    "- sep参数默认为逗号, 所以文件中分隔符为逗号\n",
    "- index参数默认为True, 所以行索引也被写入了文件\n",
    "- header参数默认为True, 所以列索引也被写入了文件"
   ],
   "id": "d550b66ee013583c"
  },
  {
   "metadata": {
    "ExecuteTime": {
     "end_time": "2025-09-27T05:09:00.306205Z",
     "start_time": "2025-09-27T05:09:00.290284Z"
    }
   },
   "cell_type": "code",
   "source": [
    "d = {'名字': ['张三', '李四', '王五', '赵六', '孙七'],\n",
    "     '年龄': [18, 19, 20, 22, 17],\n",
    "     '身高': [188, 178, 189, 175, 177]}\n",
    "df = pd.DataFrame(data=d)\n",
    "print(df)\n",
    "df.to_csv('./p361/exam3.csv')\n",
    "# df.to_csv('./p361/exam3.csv', index=False,header=False)"
   ],
   "id": "b4c980f0911e42f0",
   "outputs": [
    {
     "name": "stdout",
     "output_type": "stream",
     "text": [
      "   名字  年龄   身高\n",
      "0  张三  18  188\n",
      "1  李四  19  178\n",
      "2  王五  20  189\n",
      "3  赵六  22  175\n",
      "4  孙七  17  177\n"
     ]
    }
   ],
   "execution_count": 15
  },
  {
   "metadata": {},
   "cell_type": "markdown",
   "source": "- 可以给sep参数指定其他的分隔符(分隔符必须是一个字符)",
   "id": "1891dd5b8722fdc4"
  },
  {
   "metadata": {
    "ExecuteTime": {
     "end_time": "2025-09-27T05:09:00.321659Z",
     "start_time": "2025-09-27T05:09:00.306205Z"
    }
   },
   "cell_type": "code",
   "source": [
    "df.to_csv('./p361/exam3.csv', sep=';')\n",
    "df = pd.read_csv('./p361/exam3.csv', sep=';', index_col=0, header=0)\n",
    "print(df)"
   ],
   "id": "253c3b1e0a8aec35",
   "outputs": [
    {
     "name": "stdout",
     "output_type": "stream",
     "text": [
      "   名字  年龄   身高\n",
      "0  张三  18  188\n",
      "1  李四  19  178\n",
      "2  王五  20  189\n",
      "3  赵六  22  175\n",
      "4  孙七  17  177\n"
     ]
    }
   ],
   "execution_count": 16
  },
  {
   "metadata": {},
   "cell_type": "markdown",
   "source": "- 如果不想把行索引写入文件可以把index参数指定为False",
   "id": "7577f7e8448dc83"
  },
  {
   "metadata": {
    "ExecuteTime": {
     "end_time": "2025-09-27T05:09:00.337655Z",
     "start_time": "2025-09-27T05:09:00.321659Z"
    }
   },
   "cell_type": "code",
   "source": [
    "df.to_csv('./p361/exam3.csv', index=False)\n",
    "df = pd.read_csv('./p361/exam3.csv')\n",
    "print(df)"
   ],
   "id": "cc3fe970708188eb",
   "outputs": [
    {
     "name": "stdout",
     "output_type": "stream",
     "text": [
      "   名字  年龄   身高\n",
      "0  张三  18  188\n",
      "1  李四  19  178\n",
      "2  王五  20  189\n",
      "3  赵六  22  175\n",
      "4  孙七  17  177\n"
     ]
    }
   ],
   "execution_count": 17
  },
  {
   "metadata": {},
   "cell_type": "markdown",
   "source": "- 如果不想把列索引写入文件可以把header参数指定为False",
   "id": "f18c7eb789c0a14f"
  },
  {
   "metadata": {
    "ExecuteTime": {
     "end_time": "2025-09-27T05:09:00.353519Z",
     "start_time": "2025-09-27T05:09:00.338850Z"
    }
   },
   "cell_type": "code",
   "source": [
    "df.to_csv('./p361/exam3.csv', header=False)\n",
    "df = pd.read_csv('./p361/exam3.csv', index_col=0, names=['名字', '年龄', '身高'])\n",
    "print(df)"
   ],
   "id": "3d0ec215bcb17e49",
   "outputs": [
    {
     "name": "stdout",
     "output_type": "stream",
     "text": [
      "   名字  年龄   身高\n",
      "0  张三  18  188\n",
      "1  李四  19  178\n",
      "2  王五  20  189\n",
      "3  赵六  22  175\n",
      "4  孙七  17  177\n"
     ]
    }
   ],
   "execution_count": 18
  },
  {
   "metadata": {},
   "cell_type": "markdown",
   "source": "#### EXCEL文件读写",
   "id": "4196eec034363fa5"
  },
  {
   "metadata": {},
   "cell_type": "markdown",
   "source": [
    "- 把DataFrame写入excel文件\n",
    "- index参数默认为True, 所以行索引也被写入了文件\n",
    "- header参数默认为True, 所以列索引也被写入了文件"
   ],
   "id": "a5a18924f32cad0c"
  },
  {
   "metadata": {
    "ExecuteTime": {
     "end_time": "2025-09-27T05:09:00.369003Z",
     "start_time": "2025-09-27T05:09:00.354668Z"
    }
   },
   "cell_type": "code",
   "source": "import pandas as pd",
   "id": "edbb0ab7b200bc25",
   "outputs": [],
   "execution_count": 19
  },
  {
   "metadata": {
    "ExecuteTime": {
     "end_time": "2025-09-27T05:09:00.692334Z",
     "start_time": "2025-09-27T05:09:00.370317Z"
    }
   },
   "cell_type": "code",
   "source": [
    "d = {'名字': ['张三', '李四', '王五', '赵六', '孙七'],\n",
    "     '年龄': [18, 19, 20, 22, 17],\n",
    "     '身高': [188, 178, 189, 175, 177]}\n",
    "df = pd.DataFrame(data=d)\n",
    "print(df)\n",
    "df.to_excel('./p361/exam4.xlsx')\n",
    "df = pd.read_excel('./p361/exam4.xlsx', index_col=0, header=0)\n",
    "print(df)"
   ],
   "id": "3a0e996b3388ec6e",
   "outputs": [
    {
     "name": "stdout",
     "output_type": "stream",
     "text": [
      "   名字  年龄   身高\n",
      "0  张三  18  188\n",
      "1  李四  19  178\n",
      "2  王五  20  189\n",
      "3  赵六  22  175\n",
      "4  孙七  17  177\n",
      "   名字  年龄   身高\n",
      "0  张三  18  188\n",
      "1  李四  19  178\n",
      "2  王五  20  189\n",
      "3  赵六  22  175\n",
      "4  孙七  17  177\n"
     ]
    }
   ],
   "execution_count": 20
  },
  {
   "metadata": {
    "ExecuteTime": {
     "end_time": "2025-09-27T05:09:00.739295Z",
     "start_time": "2025-09-27T05:09:00.692334Z"
    }
   },
   "cell_type": "code",
   "source": [
    "d = {'名字': ['张三', '李四', '王五', '赵六', '孙七'],\n",
    "     '年龄': [18, 19, 20, 22, 17],\n",
    "     '身高': [188, 178, 189, 175, 177]}\n",
    "df = pd.DataFrame(data=d)\n",
    "df.to_excel('./p361/exam4.xlsx', index=False, header=False)\n",
    "df = pd.read_excel('./p361/exam4.xlsx', header=None, names=['名字', '年龄', '身高'])\n",
    "print(df)"
   ],
   "id": "e3d042b46c39db90",
   "outputs": [
    {
     "name": "stdout",
     "output_type": "stream",
     "text": [
      "   名字  年龄   身高\n",
      "0  张三  18  188\n",
      "1  李四  19  178\n",
      "2  王五  20  189\n",
      "3  赵六  22  175\n",
      "4  孙七  17  177\n"
     ]
    }
   ],
   "execution_count": 21
  },
  {
   "metadata": {},
   "cell_type": "markdown",
   "source": "- 如果不想把行索引写入文件可以把index参数指定为False",
   "id": "b44148dbe7ee406"
  },
  {
   "metadata": {
    "ExecuteTime": {
     "end_time": "2025-09-27T05:09:00.785565Z",
     "start_time": "2025-09-27T05:09:00.739295Z"
    }
   },
   "cell_type": "code",
   "source": [
    "d = {'名字': ['张三', '李四', '王五', '赵六', '孙七'],\n",
    "     '年龄': [18, 19, 20, 22, 17],\n",
    "     '身高': [188, 178, 189, 175, 177]}\n",
    "df = pd.DataFrame(data=d)\n",
    "df.to_excel('./p361/exam4.xlsx', index=False)\n",
    "df = pd.read_excel('./p361/exam4.xlsx')\n",
    "print(df)"
   ],
   "id": "d3b86171f0c02e2f",
   "outputs": [
    {
     "name": "stdout",
     "output_type": "stream",
     "text": [
      "   名字  年龄   身高\n",
      "0  张三  18  188\n",
      "1  李四  19  178\n",
      "2  王五  20  189\n",
      "3  赵六  22  175\n",
      "4  孙七  17  177\n"
     ]
    }
   ],
   "execution_count": 22
  },
  {
   "metadata": {},
   "cell_type": "markdown",
   "source": "- 如果不想把列索引写入文件可以把header参数指定为False",
   "id": "91cf01015d3eebb1"
  },
  {
   "metadata": {
    "ExecuteTime": {
     "end_time": "2025-09-27T05:09:00.832665Z",
     "start_time": "2025-09-27T05:09:00.786746Z"
    }
   },
   "cell_type": "code",
   "source": [
    "d = {'名字': ['张三', '李四', '王五', '赵六', '孙七'],\n",
    "     '年龄': [18, 19, 20, 22, 17],\n",
    "     '身高': [188, 178, 189, 175, 177]}\n",
    "df = pd.DataFrame(data=d)\n",
    "df.to_excel('./p361/exam4.xlsx', header=False)\n",
    "df = pd.read_excel('./p361/exam4.xlsx', index_col=0, header=None, names=['名字', '年龄', '身高'])\n",
    "print(df)"
   ],
   "id": "4484c6f990d0b1db",
   "outputs": [
    {
     "name": "stdout",
     "output_type": "stream",
     "text": [
      "   名字  年龄   身高\n",
      "0  张三  18  188\n",
      "1  李四  19  178\n",
      "2  王五  20  189\n",
      "3  赵六  22  175\n",
      "4  孙七  17  177\n"
     ]
    }
   ],
   "execution_count": 23
  },
  {
   "metadata": {},
   "cell_type": "markdown",
   "source": "#### 把DataFrame写入excel文件",
   "id": "f87c92119bfafca0"
  },
  {
   "metadata": {
    "ExecuteTime": {
     "end_time": "2025-09-27T05:09:00.847870Z",
     "start_time": "2025-09-27T05:09:00.833662Z"
    }
   },
   "cell_type": "code",
   "source": [
    "d = {'名字': ['张三', '李四', '王五', '赵六', '孙七'],\n",
    "     '年龄': [18, 19, 20, 22, 17],\n",
    "     '身高': [188, 178, 189, 175, 177]}\n",
    "df = pd.DataFrame(data=d)\n",
    "print(df)\n",
    "print('*' * 30)\n",
    "lst = [[1, 2],\n",
    "       [3, 4],\n",
    "       [5, 6]]\n",
    "df2 = pd.DataFrame(lst)\n",
    "print(df2)"
   ],
   "id": "9d842c8145b8d597",
   "outputs": [
    {
     "name": "stdout",
     "output_type": "stream",
     "text": [
      "   名字  年龄   身高\n",
      "0  张三  18  188\n",
      "1  李四  19  178\n",
      "2  王五  20  189\n",
      "3  赵六  22  175\n",
      "4  孙七  17  177\n",
      "******************************\n",
      "   0  1\n",
      "0  1  2\n",
      "1  3  4\n",
      "2  5  6\n"
     ]
    }
   ],
   "execution_count": 24
  },
  {
   "metadata": {
    "ExecuteTime": {
     "end_time": "2025-09-27T05:09:00.895094Z",
     "start_time": "2025-09-27T05:09:00.849179Z"
    }
   },
   "cell_type": "code",
   "source": [
    "writer = pd.ExcelWriter('./p361/exam4.xlsx')\n",
    "df.to_excel(writer)\n",
    "df2.to_excel(writer)\n",
    "writer.close()\n",
    "df = pd.read_excel('./p361/exam4.xlsx', index_col=0)\n",
    "print(df)"
   ],
   "id": "a2795f0965629a14",
   "outputs": [
    {
     "name": "stdout",
     "output_type": "stream",
     "text": [
      "    0   1   身高\n",
      "0   1   2  188\n",
      "1   3   4  178\n",
      "2   5   6  189\n",
      "3  赵六  22  175\n",
      "4  孙七  17  177\n"
     ]
    }
   ],
   "execution_count": 25
  },
  {
   "metadata": {
    "ExecuteTime": {
     "end_time": "2025-09-27T05:09:00.941764Z",
     "start_time": "2025-09-27T05:09:00.895094Z"
    }
   },
   "cell_type": "code",
   "source": [
    "writer = pd.ExcelWriter('./p361/exam4.xlsx')\n",
    "df.to_excel(writer)\n",
    "df2.to_excel(writer, startrow=6, startcol=1)\n",
    "writer.close()\n",
    "df = pd.read_excel('./p361/exam4.xlsx', index_col=0)\n",
    "print(df)"
   ],
   "id": "6be81e108fe3e16",
   "outputs": [
    {
     "name": "stdout",
     "output_type": "stream",
     "text": [
      "       0   1   身高\n",
      "0.0    1   2  188\n",
      "1.0    3   4  178\n",
      "2.0    5   6  189\n",
      "3.0   赵六  22  175\n",
      "4.0   孙七  17  177\n",
      "NaN  NaN   0    1\n",
      "NaN    0   1    2\n",
      "NaN    1   3    4\n",
      "NaN    2   5    6\n"
     ]
    }
   ],
   "execution_count": 26
  },
  {
   "metadata": {
    "ExecuteTime": {
     "end_time": "2025-09-27T05:09:00.988311Z",
     "start_time": "2025-09-27T05:09:00.943001Z"
    }
   },
   "cell_type": "code",
   "source": [
    "with pd.ExcelWriter('./p361/exam4.xlsx') as writer:\n",
    "    df.to_excel(writer)\n",
    "    df2.to_excel(writer, sheet_name='工作表2', startrow=6, startcol=1)\n",
    "df = pd.read_excel('./p361/exam4.xlsx', index_col=0)\n",
    "print(df)"
   ],
   "id": "ca8c10130ffecf9b",
   "outputs": [
    {
     "name": "stdout",
     "output_type": "stream",
     "text": [
      "       0   1   身高\n",
      "0.0    1   2  188\n",
      "1.0    3   4  178\n",
      "2.0    5   6  189\n",
      "3.0   赵六  22  175\n",
      "4.0   孙七  17  177\n",
      "NaN  NaN   0    1\n",
      "NaN    0   1    2\n",
      "NaN    1   3    4\n",
      "NaN    2   5    6\n"
     ]
    }
   ],
   "execution_count": 27
  },
  {
   "metadata": {},
   "cell_type": "markdown",
   "source": "#### 读取excel",
   "id": "4934379f5e0a78ca"
  },
  {
   "metadata": {
    "ExecuteTime": {
     "end_time": "2025-09-27T05:09:01.003743Z",
     "start_time": "2025-09-27T05:09:00.989496Z"
    }
   },
   "cell_type": "code",
   "source": [
    "# d = {'名字': ['张三', '李四', '王五', '赵六', '孙七'],\n",
    "#      '年龄': [18, 19, 20, 22, 17],\n",
    "#      '身高': [188, 178, 189, 175, 177]}\n",
    "# df = pd.DataFrame(data=d)\n",
    "# df.to_excel('./p361/exam4.xlsx')"
   ],
   "id": "6745968af5d62ee6",
   "outputs": [],
   "execution_count": 28
  },
  {
   "metadata": {
    "ExecuteTime": {
     "end_time": "2025-09-27T05:09:01.018900Z",
     "start_time": "2025-09-27T05:09:01.004202Z"
    }
   },
   "cell_type": "code",
   "source": [
    "df = pd.read_excel('./p361/exam4.xlsx')\n",
    "print(df)"
   ],
   "id": "1e542dc1919c2bea",
   "outputs": [
    {
     "name": "stdout",
     "output_type": "stream",
     "text": [
      "   Unnamed: 0    0   1   身高\n",
      "0         0.0    1   2  188\n",
      "1         1.0    3   4  178\n",
      "2         2.0    5   6  189\n",
      "3         3.0   赵六  22  175\n",
      "4         4.0   孙七  17  177\n",
      "5         NaN  NaN   0    1\n",
      "6         NaN    0   1    2\n",
      "7         NaN    1   3    4\n",
      "8         NaN    2   5    6\n"
     ]
    }
   ],
   "execution_count": 29
  },
  {
   "metadata": {
    "ExecuteTime": {
     "end_time": "2025-09-27T05:09:01.034245Z",
     "start_time": "2025-09-27T05:09:01.018900Z"
    }
   },
   "cell_type": "code",
   "source": [
    "df = pd.read_excel('./p361/exam4.xlsx', index_col=0)\n",
    "print(df)"
   ],
   "id": "f27f9ca648b0deec",
   "outputs": [
    {
     "name": "stdout",
     "output_type": "stream",
     "text": [
      "       0   1   身高\n",
      "0.0    1   2  188\n",
      "1.0    3   4  178\n",
      "2.0    5   6  189\n",
      "3.0   赵六  22  175\n",
      "4.0   孙七  17  177\n",
      "NaN  NaN   0    1\n",
      "NaN    0   1    2\n",
      "NaN    1   3    4\n",
      "NaN    2   5    6\n"
     ]
    }
   ],
   "execution_count": 30
  },
  {
   "metadata": {
    "ExecuteTime": {
     "end_time": "2025-09-27T05:09:01.050340Z",
     "start_time": "2025-09-27T05:09:01.035280Z"
    }
   },
   "cell_type": "code",
   "source": [
    "df = pd.read_excel('./p361/exam4.xlsx', index_col=0, names=[None, 'A', 'B', 'C'])\n",
    "print(df)"
   ],
   "id": "c283823f123c6bf5",
   "outputs": [
    {
     "name": "stdout",
     "output_type": "stream",
     "text": [
      "       A   B    C\n",
      "0.0    1   2  188\n",
      "1.0    3   4  178\n",
      "2.0    5   6  189\n",
      "3.0   赵六  22  175\n",
      "4.0   孙七  17  177\n",
      "NaN  NaN   0    1\n",
      "NaN    0   1    2\n",
      "NaN    1   3    4\n",
      "NaN    2   5    6\n"
     ]
    }
   ],
   "execution_count": 31
  },
  {
   "metadata": {
    "ExecuteTime": {
     "end_time": "2025-09-27T05:09:01.065733Z",
     "start_time": "2025-09-27T05:09:01.051573Z"
    }
   },
   "cell_type": "code",
   "source": [
    "df2 = pd.read_excel('./p361/exam4.xlsx', sheet_name='工作表2')\n",
    "print(df2.iloc[-4:,-3:])"
   ],
   "id": "f263a6ec43c1e542",
   "outputs": [
    {
     "name": "stdout",
     "output_type": "stream",
     "text": [
      "   Unnamed: 1  Unnamed: 2  Unnamed: 3\n",
      "5         NaN         0.0         1.0\n",
      "6         0.0         1.0         2.0\n",
      "7         1.0         3.0         4.0\n",
      "8         2.0         5.0         6.0\n"
     ]
    }
   ],
   "execution_count": 32
  },
  {
   "metadata": {
    "ExecuteTime": {
     "end_time": "2025-09-27T05:09:01.082Z",
     "start_time": "2025-09-27T05:09:01.065733Z"
    }
   },
   "cell_type": "code",
   "source": [
    "df2 = pd.read_excel('./p361/exam4.xlsx', sheet_name='工作表2')\n",
    "print(df2.dropna(how='all').dropna(axis=1,how='all'))"
   ],
   "id": "181b20a9c2843baa",
   "outputs": [
    {
     "name": "stdout",
     "output_type": "stream",
     "text": [
      "   Unnamed: 1  Unnamed: 2  Unnamed: 3\n",
      "5         NaN         0.0         1.0\n",
      "6         0.0         1.0         2.0\n",
      "7         1.0         3.0         4.0\n",
      "8         2.0         5.0         6.0\n"
     ]
    }
   ],
   "execution_count": 33
  },
  {
   "metadata": {
    "ExecuteTime": {
     "end_time": "2025-09-27T05:09:01.097222Z",
     "start_time": "2025-09-27T05:09:01.082Z"
    }
   },
   "cell_type": "code",
   "source": [
    "df = pd.read_excel('./p361/exam4.xlsx', sheet_name=[0,'工作表2'])\n",
    "print(df)"
   ],
   "id": "6bb112fd357a120",
   "outputs": [
    {
     "name": "stdout",
     "output_type": "stream",
     "text": [
      "{0:    Unnamed: 0    0   1   身高\n",
      "0         0.0    1   2  188\n",
      "1         1.0    3   4  178\n",
      "2         2.0    5   6  189\n",
      "3         3.0   赵六  22  175\n",
      "4         4.0   孙七  17  177\n",
      "5         NaN  NaN   0    1\n",
      "6         NaN    0   1    2\n",
      "7         NaN    1   3    4\n",
      "8         NaN    2   5    6, '工作表2':    Unnamed: 0  Unnamed: 1  Unnamed: 2  Unnamed: 3\n",
      "0         NaN         NaN         NaN         NaN\n",
      "1         NaN         NaN         NaN         NaN\n",
      "2         NaN         NaN         NaN         NaN\n",
      "3         NaN         NaN         NaN         NaN\n",
      "4         NaN         NaN         NaN         NaN\n",
      "5         NaN         NaN         0.0         1.0\n",
      "6         NaN         0.0         1.0         2.0\n",
      "7         NaN         1.0         3.0         4.0\n",
      "8         NaN         2.0         5.0         6.0}\n"
     ]
    }
   ],
   "execution_count": 34
  },
  {
   "metadata": {},
   "cell_type": "markdown",
   "source": "",
   "id": "35697adeab1595b"
  }
 ],
 "metadata": {
  "kernelspec": {
   "display_name": "Python 3",
   "language": "python",
   "name": "python3"
  },
  "language_info": {
   "codemirror_mode": {
    "name": "ipython",
    "version": 2
   },
   "file_extension": ".py",
   "mimetype": "text/x-python",
   "name": "python",
   "nbconvert_exporter": "python",
   "pygments_lexer": "ipython2",
   "version": "2.7.6"
  }
 },
 "nbformat": 4,
 "nbformat_minor": 5
}
