{
 "cells": [
  {
   "metadata": {},
   "cell_type": "markdown",
   "source": "#### 运算符",
   "id": "f0bb77e0cea2128"
  },
  {
   "metadata": {},
   "cell_type": "markdown",
   "source": [
    "#### 算术运算符\n",
    "|运算符| 描述                   |\n",
    "|--|----------------------|\n",
    "|+ | 加                    |\n",
    "|- | 减                    |\n",
    "|* | 乘                    |\n",
    "|/ | 除                    |\n",
    "|% | 取模（求余数）              |\n",
    "|** | 幂                    |\n",
    "|//|  整除（ 相当于 / 的结果再向下取整） |"
   ],
   "id": "b67ea52fb2440dc2"
  },
  {
   "cell_type": "code",
   "id": "initial_id",
   "metadata": {
    "collapsed": true,
    "ExecuteTime": {
     "end_time": "2025-09-30T14:16:32.781290Z",
     "start_time": "2025-09-30T14:16:32.767854Z"
    }
   },
   "source": [
    "a = 5\n",
    "b = 2\n",
    "print(a + b)  # 7\n",
    "print(a - b)  # 3\n",
    "print(a * b)  # 10\n",
    "print(a / b)  # 2.5\n",
    "print(a ** b)  # 25\n",
    "print(a // b)  # 2\n",
    "print(a % b)  # 1\n",
    "print(-15 % 4)  # 1"
   ],
   "outputs": [
    {
     "name": "stdout",
     "output_type": "stream",
     "text": [
      "7\n",
      "3\n",
      "10\n",
      "2.5\n",
      "25\n",
      "2\n",
      "1\n",
      "1\n"
     ]
    }
   ],
   "execution_count": 12
  },
  {
   "metadata": {
    "ExecuteTime": {
     "end_time": "2025-09-30T14:16:32.843386Z",
     "start_time": "2025-09-30T14:16:32.838500Z"
    }
   },
   "cell_type": "code",
   "source": [
    "tup1 = (1, 2)\n",
    "tup2 = (3, 4, 5)\n",
    "print(tup1 + tup2)\n",
    "tup1 += tup2\n",
    "print(tup1)"
   ],
   "id": "25130c3f98a2d02b",
   "outputs": [
    {
     "name": "stdout",
     "output_type": "stream",
     "text": [
      "(1, 2, 3, 4, 5)\n",
      "(1, 2, 3, 4, 5)\n"
     ]
    }
   ],
   "execution_count": 13
  },
  {
   "metadata": {
    "ExecuteTime": {
     "end_time": "2025-09-30T14:29:40.366466Z",
     "start_time": "2025-09-30T14:29:40.350336Z"
    }
   },
   "cell_type": "code",
   "source": [
    "str1 = 'hahhahah'\n",
    "str2 = str1\n",
    "str1 += \"123\"\n",
    "print(str1, str2)"
   ],
   "id": "76dc76ef4002d372",
   "outputs": [
    {
     "name": "stdout",
     "output_type": "stream",
     "text": [
      "hahhahah123 hahhahah\n"
     ]
    }
   ],
   "execution_count": 63
  },
  {
   "metadata": {},
   "cell_type": "markdown",
   "source": [
    "#### 比较运算符\n",
    "- 判断两个对象值的大小关系\n",
    "- 返回布尔值：True，False\n",
    "\n",
    "| 运算符 | 描述    |\n",
    "|-----|-------|\n",
    "| ==  | 等于    |\n",
    "| !=  | 不等于   |\n",
    "| \\>  | 大于    |\n",
    "| <   | 小于    |\n",
    "| >=  | 大于或等于 |\n",
    "| <=  | 小于或等于 |"
   ],
   "id": "a8e912bffd6bf015"
  },
  {
   "metadata": {
    "ExecuteTime": {
     "end_time": "2025-09-30T14:16:32.858889Z",
     "start_time": "2025-09-30T14:16:32.844390Z"
    }
   },
   "cell_type": "code",
   "source": [
    "a = 456\n",
    "b = 456\n",
    "c = 789\n",
    "print(a == b)\n",
    "print(a != c)\n",
    "print(c > a)\n",
    "print(b < c)\n",
    "print(a >= b)\n",
    "print(a <= b)"
   ],
   "id": "a5d3d2e0e2413016",
   "outputs": [
    {
     "name": "stdout",
     "output_type": "stream",
     "text": [
      "True\n",
      "True\n",
      "True\n",
      "True\n",
      "True\n",
      "True\n"
     ]
    }
   ],
   "execution_count": 14
  },
  {
   "metadata": {},
   "cell_type": "markdown",
   "source": [
    "#### 赋值运算符\n",
    "|运算符| 描述       |\n",
    "|--|----------|\n",
    "|= | 简单的赋值运算符 |\n",
    "|+= | 加法赋值运算符  |\n",
    "|-= | 减法赋值运算符  |\n",
    "|*= | 乘法赋值运算符  |\n",
    "|/= | 除法赋值运算符  |\n",
    "|%= | 取模赋值运算符  |\n",
    "|**= | 幂赋值运算符   |\n",
    "|//= | 取整赋值运算符  |"
   ],
   "id": "a5f94dc990af15f0"
  },
  {
   "metadata": {
    "ExecuteTime": {
     "end_time": "2025-09-30T14:16:32.874828Z",
     "start_time": "2025-09-30T14:16:32.859928Z"
    }
   },
   "cell_type": "code",
   "source": [
    "a = 3\n",
    "c = a + 2\n",
    "print(c)  # 5\n",
    "c += a\n",
    "print(c)  # 8 结果等于 c = c + a\n",
    "c -= a\n",
    "print(c)  # 5 结果等于 c = c - a\n",
    "c *= a\n",
    "print(c)  # 15 结果等于 c = c * a\n",
    "c /= a\n",
    "print(c)  # 5.0 结果等于 c = c / a\n",
    "c %= a\n",
    "print(c)  # 2.0 结果等于 c = c % a\n",
    "c **= a\n",
    "print(c)  # 8.0 结果等于 c = c ** a\n",
    "c //= a\n",
    "print(c)  # 2.0 结果等于 c = c // a"
   ],
   "id": "bc1848c2b1a371e6",
   "outputs": [
    {
     "name": "stdout",
     "output_type": "stream",
     "text": [
      "5\n",
      "8\n",
      "5\n",
      "15\n",
      "5.0\n",
      "2.0\n",
      "8.0\n",
      "2.0\n"
     ]
    }
   ],
   "execution_count": 15
  },
  {
   "metadata": {},
   "cell_type": "markdown",
   "source": [
    "#### 增强赋值\n",
    "- 增强赋值在条件符合的情况下（如：操作数是一个可变数据）会以inplace的方式来进行处理，而普通赋值则会以新建的方式进行处理。"
   ],
   "id": "5df28381d40b4097"
  },
  {
   "metadata": {
    "ExecuteTime": {
     "end_time": "2025-09-30T14:16:32.890513Z",
     "start_time": "2025-09-30T14:16:32.875163Z"
    }
   },
   "cell_type": "code",
   "source": [
    "lst1 = [1, 2]\n",
    "lst2 = [3, 4, 5]\n",
    "print(id(lst1))\n",
    "lst1 += lst2\n",
    "print(id(lst1))\n",
    "print(lst1)\n",
    "\n",
    "lst1 = [1, 2]\n",
    "lst2 = [3, 4, 5]\n",
    "print(id(lst1))\n",
    "lst1 = lst1 + lst2\n",
    "print(id(lst1))\n",
    "print(lst1)"
   ],
   "id": "6a1a202808cea863",
   "outputs": [
    {
     "name": "stdout",
     "output_type": "stream",
     "text": [
      "1309817833728\n",
      "1309817833728\n",
      "[1, 2, 3, 4, 5]\n",
      "1309816684800\n",
      "1309812762368\n",
      "[1, 2, 3, 4, 5]\n"
     ]
    }
   ],
   "execution_count": 16
  },
  {
   "metadata": {},
   "cell_type": "markdown",
   "source": [
    "#### id(object)\n",
    "- 返回 object 的唯一标识符（内存地址）\n",
    "- 两个对象具有相同的id值，说明它们为同一对象"
   ],
   "id": "b422c2544cebcb3f"
  },
  {
   "metadata": {
    "ExecuteTime": {
     "end_time": "2025-09-30T14:16:32.906098Z",
     "start_time": "2025-09-30T14:16:32.892935Z"
    }
   },
   "cell_type": "code",
   "source": [
    "a = [1, 2, 3, 4]\n",
    "b = [4, 3, 2, 1]\n",
    "c = b\n",
    "print(id(a))\n",
    "print(id(b))\n",
    "print(id(c))"
   ],
   "id": "d8ed4afced8348bf",
   "outputs": [
    {
     "name": "stdout",
     "output_type": "stream",
     "text": [
      "1309816679488\n",
      "1309816685824\n",
      "1309816685824\n"
     ]
    }
   ],
   "execution_count": 17
  },
  {
   "metadata": {
    "ExecuteTime": {
     "end_time": "2025-09-30T14:16:32.921338Z",
     "start_time": "2025-09-30T14:16:32.907254Z"
    }
   },
   "cell_type": "code",
   "source": [
    "lst = ['4864', '3', '132']\n",
    "x = lst\n",
    "print(id(lst))\n",
    "del lst[0], lst[1:2]\n",
    "print(id(lst))\n",
    "print(id(x))\n",
    "print(lst)\n",
    "print(x)"
   ],
   "id": "40e8642417d753de",
   "outputs": [
    {
     "name": "stdout",
     "output_type": "stream",
     "text": [
      "1309817836544\n",
      "1309817836544\n",
      "1309817836544\n",
      "['3']\n",
      "['3']\n"
     ]
    }
   ],
   "execution_count": 18
  },
  {
   "metadata": {
    "ExecuteTime": {
     "end_time": "2025-09-30T14:16:32.936606Z",
     "start_time": "2025-09-30T14:16:32.921338Z"
    }
   },
   "cell_type": "code",
   "source": [
    "a = [9, 6]\n",
    "b = [2, 1, 3]\n",
    "print(b + a)\n",
    "print(b * 3)\n",
    "print(id(a))\n",
    "\n",
    "a = a + b\n",
    "print(id(a))\n",
    "\n",
    "a += b\n",
    "print(id(a))\n",
    "\n",
    "a = a + b\n",
    "print(id(b))\n",
    "print(id(a))\n",
    "\n",
    "b = a\n",
    "print(id(a))\n",
    "print(id(b))"
   ],
   "id": "6322d0e31ffa24b",
   "outputs": [
    {
     "name": "stdout",
     "output_type": "stream",
     "text": [
      "[2, 1, 3, 9, 6]\n",
      "[2, 1, 3, 2, 1, 3, 2, 1, 3]\n",
      "1309817820352\n",
      "1309817821504\n",
      "1309817821504\n",
      "1309817821760\n",
      "1309817820352\n",
      "1309817820352\n",
      "1309817820352\n"
     ]
    }
   ],
   "execution_count": 19
  },
  {
   "metadata": {
    "ExecuteTime": {
     "end_time": "2025-09-30T14:16:32.952074Z",
     "start_time": "2025-09-30T14:16:32.937905Z"
    }
   },
   "cell_type": "code",
   "source": [
    "d = {'name': 'zs', 'age': 12}\n",
    "c = d\n",
    "c['age'] = 50\n",
    "print(c)\n",
    "print(d)\n",
    "print(id(c))\n",
    "print(id(d))"
   ],
   "id": "2cef4df6f25dd8a4",
   "outputs": [
    {
     "name": "stdout",
     "output_type": "stream",
     "text": [
      "{'name': 'zs', 'age': 50}\n",
      "{'name': 'zs', 'age': 50}\n",
      "1309817820672\n",
      "1309817820672\n"
     ]
    }
   ],
   "execution_count": 20
  },
  {
   "metadata": {},
   "cell_type": "markdown",
   "source": [
    "#### +、* 的拼接操作\n",
    "- +、+=、*、*= 还支持字符串、列表、元组的拼接操作"
   ],
   "id": "15a15da23145452c"
  },
  {
   "metadata": {
    "ExecuteTime": {
     "end_time": "2025-09-30T14:16:32.983445Z",
     "start_time": "2025-09-30T14:16:32.969410Z"
    }
   },
   "cell_type": "code",
   "source": [
    "str1 = 'hello '\n",
    "str2 = 'world'\n",
    "print(str1 + str2)\n",
    "str1 += str2\n",
    "print(str1)\n",
    "\n",
    "str1 = 'hello '\n",
    "print(str1 * 3)\n",
    "str1 *= 3\n",
    "print(str1)"
   ],
   "id": "26d485822f618fb9",
   "outputs": [
    {
     "name": "stdout",
     "output_type": "stream",
     "text": [
      "hello world\n",
      "hello world\n",
      "hello hello hello \n",
      "hello hello hello \n"
     ]
    }
   ],
   "execution_count": 21
  },
  {
   "metadata": {
    "ExecuteTime": {
     "end_time": "2025-09-30T14:16:32.999211Z",
     "start_time": "2025-09-30T14:16:32.993451Z"
    }
   },
   "cell_type": "code",
   "source": [
    "lst1 = [1, 2]\n",
    "lst2 = [3, 4, 5]\n",
    "print(lst1 + lst2)\n",
    "lst1 += lst2\n",
    "print(lst1)\n",
    "\n",
    "lst1 = [1, 2]\n",
    "print(lst1 * 3)\n",
    "lst1 *= 3\n",
    "print(lst1)\n",
    "\n",
    "tup1 = (1, 2)\n",
    "tup2 = (3, 4, 5)\n",
    "print(tup1 + tup2)\n",
    "tup1 += tup2\n",
    "print(tup1)"
   ],
   "id": "a6a5aaf8b5d127d2",
   "outputs": [
    {
     "name": "stdout",
     "output_type": "stream",
     "text": [
      "[1, 2, 3, 4, 5]\n",
      "[1, 2, 3, 4, 5]\n",
      "[1, 2, 1, 2, 1, 2]\n",
      "[1, 2, 1, 2, 1, 2]\n",
      "(1, 2, 3, 4, 5)\n",
      "(1, 2, 3, 4, 5)\n"
     ]
    }
   ],
   "execution_count": 22
  },
  {
   "metadata": {},
   "cell_type": "markdown",
   "source": [
    "#### 基本序列赋值\n",
    "- 格式： a, b, c, ... = iterable\n",
    "- 将iterable的元素分别赋值给对应变量，元素和变量个数需要一致"
   ],
   "id": "f9a2fd7963766c55"
  },
  {
   "metadata": {
    "ExecuteTime": {
     "end_time": "2025-09-30T14:16:33.014188Z",
     "start_time": "2025-09-30T14:16:33.000208Z"
    }
   },
   "cell_type": "code",
   "source": [
    "a, b = 3, 4\n",
    "print(a, b)\n",
    "\n",
    "a, b, c = [3, 4, 5]\n",
    "print(a, b, c)\n",
    "\n",
    "a, b, c, d = '你好吗?'\n",
    "print(a, b, c, d)\n",
    "\n",
    "a, b, c = '123'\n",
    "print(a, b, c)\n",
    "\n",
    "a, b, c = {1: 1, 2: 2, 3: 3}\n",
    "print(a, b, c)"
   ],
   "id": "f6c697f5ad9197f5",
   "outputs": [
    {
     "name": "stdout",
     "output_type": "stream",
     "text": [
      "3 4\n",
      "3 4 5\n",
      "你 好 吗 ?\n",
      "1 2 3\n",
      "1 2 3\n"
     ]
    }
   ],
   "execution_count": 23
  },
  {
   "metadata": {},
   "cell_type": "markdown",
   "source": [
    "#### 多目标赋值\n",
    "- 将一个对象同时赋值给多个变量。"
   ],
   "id": "d5f11ac2abdc3bd9"
  },
  {
   "metadata": {
    "ExecuteTime": {
     "end_time": "2025-09-30T14:16:33.030190Z",
     "start_time": "2025-09-30T14:16:33.015351Z"
    }
   },
   "cell_type": "code",
   "source": [
    "a = b = c = 999\n",
    "print(id(a))\n",
    "print(id(b))\n",
    "print(id(c))\n",
    "\n",
    "a = b = c = [1, 2, 3]\n",
    "print(id(a))\n",
    "print(id(b))\n",
    "print(id(c))\n",
    "\n",
    "b.append(4)\n",
    "print(a)\n",
    "print(b)\n",
    "print(c)"
   ],
   "id": "2088b7f94f9cd362",
   "outputs": [
    {
     "name": "stdout",
     "output_type": "stream",
     "text": [
      "1309818363216\n",
      "1309818363216\n",
      "1309818363216\n",
      "1309816558144\n",
      "1309816558144\n",
      "1309816558144\n",
      "[1, 2, 3, 4]\n",
      "[1, 2, 3, 4]\n",
      "[1, 2, 3, 4]\n"
     ]
    }
   ],
   "execution_count": 24
  },
  {
   "metadata": {},
   "cell_type": "markdown",
   "source": [
    "#### 逻辑运算符\n",
    "|运算符 | 描述                                      |\n",
    "|--|-----------------------------------------|\n",
    "|and | 布尔\"与\"（左边bool判定为False，返回左边；否则返回右边）       |\n",
    "|or | 布尔\"或\"（左边bool判定为True，返回左边；否则返回右边）        |\n",
    "|not | 布尔\"非\"（判定为False，返回 True；判定为True，返回False） |"
   ],
   "id": "c7d264abcbf47242"
  },
  {
   "metadata": {
    "ExecuteTime": {
     "end_time": "2025-09-30T14:16:33.060747Z",
     "start_time": "2025-09-30T14:16:33.057526Z"
    }
   },
   "cell_type": "code",
   "source": [
    "a = 2\n",
    "b = 'hello'\n",
    "c = []\n",
    "d = 0\n",
    "print(c and a)  # []\n",
    "print(a and c)  # []\n",
    "print(d and c)  # 0\n",
    "print(c and d)  # []\n",
    "print(a and b)  # 'hello'\n",
    "print(b and a)  # 2"
   ],
   "id": "275d8ba91e06734a",
   "outputs": [
    {
     "name": "stdout",
     "output_type": "stream",
     "text": [
      "[]\n",
      "[]\n",
      "0\n",
      "[]\n",
      "hello\n",
      "2\n"
     ]
    }
   ],
   "execution_count": 25
  },
  {
   "metadata": {
    "ExecuteTime": {
     "end_time": "2025-09-30T14:16:33.075797Z",
     "start_time": "2025-09-30T14:16:33.062966Z"
    }
   },
   "cell_type": "code",
   "source": [
    "print(a or c)  # 2\n",
    "print(c or a)  # 2\n",
    "print(b or a)  # 'hello'\n",
    "print(a or b)  # 2\n",
    "print(c or d)  # 0\n",
    "print(d or c)  # []\n",
    "\n",
    "print(not a)  # False\n",
    "print(not b)  # False\n",
    "print(not c)  # True\n",
    "print(not d)  # True\n",
    "# 优先级：not > and > or\n",
    "print(b and not a or c)  # []"
   ],
   "id": "4650defc586ec2c3",
   "outputs": [
    {
     "name": "stdout",
     "output_type": "stream",
     "text": [
      "2\n",
      "2\n",
      "hello\n",
      "2\n",
      "0\n",
      "[]\n",
      "False\n",
      "False\n",
      "True\n",
      "True\n",
      "[]\n"
     ]
    }
   ],
   "execution_count": 26
  },
  {
   "metadata": {},
   "cell_type": "markdown",
   "source": [
    "#### 短路机制\n",
    "- 在逻辑表达式中，由于and和or的特点，表达式中的部分内容可能不会执行"
   ],
   "id": "6d2cd27a9811588b"
  },
  {
   "metadata": {
    "ExecuteTime": {
     "end_time": "2025-09-30T14:16:33.091709Z",
     "start_time": "2025-09-30T14:16:33.076973Z"
    }
   },
   "cell_type": "code",
   "source": [
    "a = 0\n",
    "b = 1\n",
    "c = ()\n",
    "print(c and b / c)  # ()\n",
    "print(b or a + c)  # 1\n",
    "\n",
    "# TypeError: unsupported operand type(s) for +: 'int' and 'tuple'\n",
    "# b and a + c"
   ],
   "id": "450e9ef4585957f3",
   "outputs": [
    {
     "name": "stdout",
     "output_type": "stream",
     "text": [
      "()\n",
      "1\n"
     ]
    }
   ],
   "execution_count": 27
  },
  {
   "metadata": {},
   "cell_type": "markdown",
   "source": [
    "#### all(iterable)\n",
    "- 如果 iterable 的所有元素 bool 判定都为 True，则返回 True\n",
    "- 如果 iterable 为空，也返回 True"
   ],
   "id": "616088a8bd940c37"
  },
  {
   "metadata": {
    "ExecuteTime": {
     "end_time": "2025-09-30T14:19:53.390381Z",
     "start_time": "2025-09-30T14:19:53.378602Z"
    }
   },
   "cell_type": "code",
   "source": [
    "tup = ()\n",
    "print(all(tup))"
   ],
   "id": "54dc210d11d994be",
   "outputs": [
    {
     "name": "stdout",
     "output_type": "stream",
     "text": [
      "True\n"
     ]
    }
   ],
   "execution_count": 39
  },
  {
   "metadata": {
    "ExecuteTime": {
     "end_time": "2025-09-30T14:18:10.620298Z",
     "start_time": "2025-09-30T14:18:10.608649Z"
    }
   },
   "cell_type": "code",
   "source": [
    "tup = ('0', ' ', 'None', 'False', '[]')\n",
    "print(all(tup))\n",
    "print(all([]))\n",
    "\n",
    "tup = ('0', ' ', 'None', 'False', '')\n",
    "print(all(tup))"
   ],
   "id": "dc782c64b415165",
   "outputs": [
    {
     "name": "stdout",
     "output_type": "stream",
     "text": [
      "True\n",
      "True\n",
      "False\n"
     ]
    }
   ],
   "execution_count": 36
  },
  {
   "metadata": {},
   "cell_type": "markdown",
   "source": [
    "#### any(iterable)\n",
    "- 如果 iterable 中存在至少一个元素 bool 判定为 True，则返回 True\n",
    "- 如果 iterable 为空，也返回 False"
   ],
   "id": "e8bcde96cee9e554"
  },
  {
   "metadata": {
    "ExecuteTime": {
     "end_time": "2025-09-30T14:19:55.825089Z",
     "start_time": "2025-09-30T14:19:55.808895Z"
    }
   },
   "cell_type": "code",
   "source": [
    "tup = ()\n",
    "print(any(tup))"
   ],
   "id": "85731c39b555af75",
   "outputs": [
    {
     "name": "stdout",
     "output_type": "stream",
     "text": [
      "False\n"
     ]
    }
   ],
   "execution_count": 40
  },
  {
   "metadata": {
    "ExecuteTime": {
     "end_time": "2025-09-30T14:17:40.189601Z",
     "start_time": "2025-09-30T14:17:40.179140Z"
    }
   },
   "cell_type": "code",
   "source": [
    "tup = (0, '', None, False, [], 0j, set())\n",
    "print(any(tup))  # False\n",
    "print(any([]))  # False\n",
    "\n",
    "tup = (0, ' ', None, False, [], 0j, set())\n",
    "print(any(tup))"
   ],
   "id": "91fe591670ae279b",
   "outputs": [
    {
     "name": "stdout",
     "output_type": "stream",
     "text": [
      "False\n",
      "False\n",
      "True\n",
      "False\n"
     ]
    }
   ],
   "execution_count": 35
  },
  {
   "metadata": {},
   "cell_type": "markdown",
   "source": [
    "#### 成员运算符\n",
    "- 判断某个对象是否为指定 iterable 的元素\n",
    "- 返回布尔值：True，False\n",
    "\n",
    "|运算符 | 描述   |\n",
    "|--|------|\n",
    "|in| 在其中  |\n",
    "|not in| 不在其中 |"
   ],
   "id": "2d8e96859f496a64"
  },
  {
   "metadata": {
    "ExecuteTime": {
     "end_time": "2025-09-30T14:21:51.862131Z",
     "start_time": "2025-09-30T14:21:51.844970Z"
    }
   },
   "cell_type": "code",
   "source": [
    "string = 'hello world'\n",
    "print('e' in string)\n",
    "print('lo' in string)\n",
    "print('' in string)\n",
    "print(' ' in string)\n",
    "\n",
    "print('' not in string)\n",
    "print(' ' not in string)\n",
    "print('ol' not in string)"
   ],
   "id": "92304372750c366",
   "outputs": [
    {
     "name": "stdout",
     "output_type": "stream",
     "text": [
      "True\n",
      "True\n",
      "True\n",
      "True\n",
      "False\n",
      "False\n",
      "True\n"
     ]
    }
   ],
   "execution_count": 45
  },
  {
   "metadata": {
    "ExecuteTime": {
     "end_time": "2025-09-30T14:22:51.707471Z",
     "start_time": "2025-09-30T14:22:51.693320Z"
    }
   },
   "cell_type": "code",
   "source": [
    "lst = [True, False, [2, 3], 4]\n",
    "print(1 in lst)\n",
    "print(False in lst)\n",
    "print([2, 3] in lst)\n",
    "\n",
    "print(2 in lst)\n",
    "print([True, False] in lst)\n",
    "print(None in lst)\n",
    "\n",
    "print(None not in lst)"
   ],
   "id": "f96f6f969fa5c26f",
   "outputs": [
    {
     "name": "stdout",
     "output_type": "stream",
     "text": [
      "True\n",
      "True\n",
      "True\n",
      "False\n",
      "False\n",
      "False\n",
      "True\n"
     ]
    }
   ],
   "execution_count": 47
  },
  {
   "metadata": {
    "ExecuteTime": {
     "end_time": "2025-09-30T14:20:59.699417Z",
     "start_time": "2025-09-30T14:20:59.687859Z"
    }
   },
   "cell_type": "code",
   "source": [
    "d = {1: 2, 0: 4}\n",
    "print(True in d)\n",
    "print(False in d)\n",
    "print(2 not in d)\n",
    "print(4 not in d)"
   ],
   "id": "e285966fb9e13940",
   "outputs": [
    {
     "name": "stdout",
     "output_type": "stream",
     "text": [
      "True\n",
      "True\n",
      "True\n",
      "True\n"
     ]
    }
   ],
   "execution_count": 44
  },
  {
   "metadata": {},
   "cell_type": "markdown",
   "source": [
    "#### 身份运算符\n",
    "- 判断两个标识符是不是引用自同一个对象\n",
    "- 返回布尔值：True，False\n",
    "\n",
    "|运算符| 描述                   |\n",
    "|--|----------------------|\n",
    "|is | 类似于判断 id(a) == id(b) |\n",
    "|is not | 类似于判断 id(a) != id(b) |"
   ],
   "id": "4c9983b0645dc6d5"
  },
  {
   "metadata": {
    "ExecuteTime": {
     "end_time": "2025-09-30T14:23:59.633274Z",
     "start_time": "2025-09-30T14:23:59.623819Z"
    }
   },
   "cell_type": "code",
   "source": [
    "a = 256\n",
    "b = 256\n",
    "print(a == b)\n",
    "print(a is b)\n",
    "print(id(a) == id(b))"
   ],
   "id": "665265de74f4cd9c",
   "outputs": [
    {
     "name": "stdout",
     "output_type": "stream",
     "text": [
      "True\n",
      "True\n",
      "True\n"
     ]
    }
   ],
   "execution_count": 48
  },
  {
   "metadata": {
    "ExecuteTime": {
     "end_time": "2025-09-30T14:25:17.591209Z",
     "start_time": "2025-09-30T14:25:17.587807Z"
    }
   },
   "cell_type": "code",
   "source": [
    "a = [257, 1]\n",
    "b = [257, 1]\n",
    "print(a == b)\n",
    "print(a is b)\n",
    "print(id(a) == id(b))"
   ],
   "id": "b09edb2e18c3af7a",
   "outputs": [
    {
     "name": "stdout",
     "output_type": "stream",
     "text": [
      "True\n",
      "False\n",
      "False\n"
     ]
    }
   ],
   "execution_count": 52
  },
  {
   "metadata": {
    "ExecuteTime": {
     "end_time": "2025-09-30T14:25:26.892195Z",
     "start_time": "2025-09-30T14:25:26.876517Z"
    }
   },
   "cell_type": "code",
   "source": [
    "b = a\n",
    "print(a == b)\n",
    "print(a is b)\n",
    "print(id(a) == id(b))"
   ],
   "id": "aa1a6751e3e999d8",
   "outputs": [
    {
     "name": "stdout",
     "output_type": "stream",
     "text": [
      "True\n",
      "True\n",
      "True\n"
     ]
    }
   ],
   "execution_count": 53
  },
  {
   "metadata": {
    "ExecuteTime": {
     "end_time": "2025-09-30T14:26:02.333060Z",
     "start_time": "2025-09-30T14:26:02.316849Z"
    }
   },
   "cell_type": "code",
   "source": [
    "a = (1, 2, 3, {})\n",
    "b = (1, 2, 3, {})\n",
    "print(id(a))\n",
    "print(id(b))\n",
    "print(a is b)\n",
    "\n",
    "b = a\n",
    "print(a is b)"
   ],
   "id": "ee8fd0f512b85b4f",
   "outputs": [
    {
     "name": "stdout",
     "output_type": "stream",
     "text": [
      "1309817012768\n",
      "1309817012928\n",
      "False\n",
      "True\n"
     ]
    }
   ],
   "execution_count": 55
  },
  {
   "metadata": {
    "ExecuteTime": {
     "end_time": "2025-09-30T14:26:18.709336Z",
     "start_time": "2025-09-30T14:26:18.699674Z"
    }
   },
   "cell_type": "code",
   "source": [
    "a = (1, 2, 3)\n",
    "b = (1, 2, 3)\n",
    "print(id(a))\n",
    "print(id(b))\n",
    "print(a is b)"
   ],
   "id": "94569c4330854dbf",
   "outputs": [
    {
     "name": "stdout",
     "output_type": "stream",
     "text": [
      "1309813976704\n",
      "1309817976320\n",
      "False\n"
     ]
    }
   ],
   "execution_count": 56
  },
  {
   "metadata": {
    "ExecuteTime": {
     "end_time": "2025-09-30T14:27:10.099311Z",
     "start_time": "2025-09-30T14:27:10.088767Z"
    }
   },
   "cell_type": "code",
   "source": [
    "# 下面v1,v2的值分别是多少？为什么？\n",
    "v1 = 3\n",
    "v2 = v1\n",
    "print(\"v1在内存的地址：%d,v2在内存中地址:%d\" % (id(v1), id(v2)))\n",
    "v1 += 2\n",
    "print(\"v1在内存的地址：%d,v2在内存中地址:%d\" % (id(v1), id(v2)))\n",
    "print(\"v1:\", v1)\n",
    "print(\"v2:\", v2)"
   ],
   "id": "553c0bebd9a79339",
   "outputs": [
    {
     "name": "stdout",
     "output_type": "stream",
     "text": [
      "v1在内存的地址：140734531774320,v2在内存中地址:140734531774320\n",
      "v1在内存的地址：140734531774384,v2在内存中地址:140734531774320\n",
      "v1: 5\n",
      "v2: 3\n"
     ]
    }
   ],
   "execution_count": 57
  },
  {
   "metadata": {
    "ExecuteTime": {
     "end_time": "2025-09-30T14:28:01.022740Z",
     "start_time": "2025-09-30T14:28:01.007881Z"
    }
   },
   "cell_type": "code",
   "source": [
    "# 下面l2的值又是多少？为什么？\n",
    "l1 = [1, 2, 3]\n",
    "l2 = l1\n",
    "print(\"l1在内存的地址：%d,l2在内存中地址:%d\" % (id(l1), id(l2)))\n",
    "print(l2)\n",
    "print(\"l1在内存的地址：%d,l2在内存中地址:%d\" % (id(l1), id(l2)))\n",
    "\n",
    "l1.append(4)\n",
    "print(l2)\n",
    "print(\"l1在内存的地址：%d\" % (id(l1)))"
   ],
   "id": "f010cd1f6f31441e",
   "outputs": [
    {
     "name": "stdout",
     "output_type": "stream",
     "text": [
      "l1在内存的地址：1309817889984,l2在内存中地址:1309817889984\n",
      "[1, 2, 3]\n",
      "l1在内存的地址：1309817889984,l2在内存中地址:1309817889984\n",
      "[1, 2, 3, 4]\n",
      "l1在内存的地址：1309817889984\n"
     ]
    }
   ],
   "execution_count": 58
  },
  {
   "metadata": {},
   "cell_type": "markdown",
   "source": [
    "#### 运算符优先级\n",
    "- 以下表格列出了从高到低优先级的常用运算符：\n",
    "\n",
    "|运算符| 描述          |\n",
    "|--|-------------|\n",
    "|** | 指数          |\n",
    "|* / % // | 乘，除，求余数和取整除 |\n",
    "|+ - | 加法、减法       |\n",
    "|<= < > >= | 比较运算符       |\n",
    "|== != | 等于运算符       |\n",
    "|%= /= //= -= += *= **= | 赋值运算符       |\n",
    "|is is not | 身份运算符       |\n",
    "|in not in | 成员运算符       |\n",
    "|not and or | 逻辑运算符       |\n",
    "|= | 简单赋值运算符     |"
   ],
   "id": "f40e198244a9d56e"
  },
  {
   "metadata": {
    "ExecuteTime": {
     "end_time": "2025-09-30T14:29:18.565721Z",
     "start_time": "2025-09-30T14:29:18.562202Z"
    }
   },
   "cell_type": "code",
   "source": [
    "from random import random\n",
    "\n",
    "a, b = float(random()), float(random())\n",
    "print(f'a: {a}, b: {b}')\n",
    "\n",
    "if a == b:\n",
    "    print('a == b')\n",
    "elif a > b:\n",
    "    print('a > b')\n",
    "else:\n",
    "    print('a < b')"
   ],
   "id": "4b4c57654829e868",
   "outputs": [
    {
     "name": "stdout",
     "output_type": "stream",
     "text": [
      "a: 0.43658164684534095, b: 0.01972390462225193\n",
      "a > b\n"
     ]
    }
   ],
   "execution_count": 62
  }
 ],
 "metadata": {
  "kernelspec": {
   "display_name": "Python 3",
   "language": "python",
   "name": "python3"
  },
  "language_info": {
   "codemirror_mode": {
    "name": "ipython",
    "version": 2
   },
   "file_extension": ".py",
   "mimetype": "text/x-python",
   "name": "python",
   "nbconvert_exporter": "python",
   "pygments_lexer": "ipython2",
   "version": "2.7.6"
  }
 },
 "nbformat": 4,
 "nbformat_minor": 5
}
