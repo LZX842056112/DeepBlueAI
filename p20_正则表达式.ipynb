{
 "cells": [
  {
   "metadata": {},
   "cell_type": "markdown",
   "source": [
    "#### 简介\n",
    "- 对字符串进行操作的需求很多，只凭索引切片、对象方法等方式有时是不够用的（比如：判断一个字符串是否是有效的 email 地址），此时可以考虑使用正则表达式。\n",
    "- 正则表达式（Regular Expression），是对字符串操作的一种\"逻辑公式\"，它是由一些特定的字符组成的一个\"匹配规则\"，可以对要匹配的字符串指定该\"规则\"。\n",
    "- 许多语言都支持利用正则表达式进行字符串操作，Python也不例外，通过内置的 re 模块实现。"
   ],
   "id": "df49e3154566d7b7"
  },
  {
   "cell_type": "code",
   "id": "initial_id",
   "metadata": {
    "collapsed": true,
    "ExecuteTime": {
     "end_time": "2025-10-04T08:43:10.993134Z",
     "start_time": "2025-10-04T08:43:10.986954Z"
    }
   },
   "source": [
    "\"\"\"\n",
    "假设QQ邮箱的规则如下:\n",
    "- 结尾是 @qq.com\n",
    "- @前面只能是数字\n",
    "- 且长度为5-11位\n",
    "- 且不能以0开头\n",
    "\"\"\"\n",
    "import re\n",
    "\n",
    "if re.fullmatch(r'[1-9]\\d{4,10}@qq\\.com', '842123123@qq.com'):\n",
    "    print('yes')\n",
    "\n",
    "pattern = r'[1-9]\\d{4,10}@qq\\.com'\n",
    "p = re.compile(pattern)\n",
    "\n",
    "\n",
    "def isValid(email):\n",
    "    if p.fullmatch(email):\n",
    "        print(\"有效的QQ邮箱\")\n",
    "    else:\n",
    "        print(\"无效的QQ邮箱\")\n",
    "\n",
    "\n",
    "isValid('842123123@qq.com')\n",
    "isValid('842123123@qq.c1m')\n",
    "isValid('q8421231232@qq.com')\n",
    "isValid('8421@qq.com')\n",
    "isValid('842123123123@qq.com')"
   ],
   "outputs": [
    {
     "name": "stdout",
     "output_type": "stream",
     "text": [
      "yes\n",
      "有效的QQ邮箱\n",
      "无效的QQ邮箱\n",
      "无效的QQ邮箱\n",
      "无效的QQ邮箱\n",
      "无效的QQ邮箱\n"
     ]
    }
   ],
   "execution_count": 1
  },
  {
   "metadata": {},
   "cell_type": "markdown",
   "source": [
    "#### 字符匹配\n",
    "- 匹配机制：对要匹配的字符串的元素挨个判断是否与 \"规则\" 匹配。\n",
    "- 书写注意：正则表达式是字符串，所以书写时通常不要随意加空格。\n",
    "- 反斜杠问题：因为正则表达式和Python字符串都使用反斜杠字符来转义，有时就需要使用双倍的反斜杠才能达到想要的效果，而这很麻烦，所以强烈建议大家在写正则表达式时，用原始字符串\n",
    "- 正则表达式可以包含普通字符或者特殊字符（元字符）"
   ],
   "id": "9d5d465d24078afa"
  },
  {
   "metadata": {},
   "cell_type": "markdown",
   "source": [
    "#### 普通字符\n",
    "- 大多数字符为普通字符，它们只会和自身匹配"
   ],
   "id": "2607a35a0abc7c47"
  },
  {
   "metadata": {
    "ExecuteTime": {
     "end_time": "2025-10-04T08:43:11.008040Z",
     "start_time": "2025-10-04T08:43:10.993134Z"
    }
   },
   "cell_type": "code",
   "source": [
    "p = re.compile(r\"test123\")\n",
    "print(p.search(\"atest123b\"))"
   ],
   "id": "828e5203414d05c6",
   "outputs": [
    {
     "name": "stdout",
     "output_type": "stream",
     "text": [
      "<re.Match object; span=(1, 8), match='test123'>\n"
     ]
    }
   ],
   "execution_count": 2
  },
  {
   "metadata": {},
   "cell_type": "markdown",
   "source": [
    "#### 特殊字符（元字符）\n",
    "- 有些字符它们和自身并不匹配，而是匹配一些与众不同的东西或者影响正则表达式的其他部分（对其重复或改变含义）\n",
    "- 元字符：. ^ $ * + ? { } [ ] \\ | ( )"
   ],
   "id": "4355d712df3e4331"
  },
  {
   "metadata": {},
   "cell_type": "markdown",
   "source": [
    "#### .\n",
    "- 匹配除了换行符以外的任意一个字符\n",
    "- DOTALL 模式下，它将匹配包括换行符的任意一个字符"
   ],
   "id": "4043f52ce624da17"
  },
  {
   "metadata": {
    "ExecuteTime": {
     "end_time": "2025-10-04T08:43:11.023938Z",
     "start_time": "2025-10-04T08:43:11.009362Z"
    }
   },
   "cell_type": "code",
   "source": [
    "p = re.compile(r\".\")\n",
    "print(p.match(\"abc\"))\n",
    "print(p.match(\"9bc\"))\n",
    "print(p.match(\"@bc\"))\n",
    "print(p.match(\".bc\"))\n",
    "print(p.match(\"\\tbc\"))\n",
    "print(p.match(\"\\nbc\"))\n",
    "p = re.compile(r\".\", flags=re.DOTALL)\n",
    "print(p.match(\"\\nbc\"))"
   ],
   "id": "ad9ba6383752e8ff",
   "outputs": [
    {
     "name": "stdout",
     "output_type": "stream",
     "text": [
      "<re.Match object; span=(0, 1), match='a'>\n",
      "<re.Match object; span=(0, 1), match='9'>\n",
      "<re.Match object; span=(0, 1), match='@'>\n",
      "<re.Match object; span=(0, 1), match='.'>\n",
      "<re.Match object; span=(0, 1), match='\\t'>\n",
      "None\n",
      "<re.Match object; span=(0, 1), match='\\n'>\n"
     ]
    }
   ],
   "execution_count": 3
  },
  {
   "metadata": {},
   "cell_type": "markdown",
   "source": [
    "#### ^\n",
    "- 匹配字符串的开头\n",
    "- MULTILINE 模式下，还会继续匹配换行后的开头"
   ],
   "id": "7789495a3ea288ba"
  },
  {
   "metadata": {
    "ExecuteTime": {
     "end_time": "2025-10-04T08:43:11.038680Z",
     "start_time": "2025-10-04T08:43:11.023938Z"
    }
   },
   "cell_type": "code",
   "source": [
    "p = re.compile(r\"^ab\")\n",
    "print(p.findall(\"abcd\\nabfg\"))\n",
    "\n",
    "p = re.compile(r\"^ab\", flags=re.MULTILINE)\n",
    "print(p.findall(\"abcd\\tabfg\"))\n",
    "\n",
    "p = re.compile(r\"^ab\", flags=re.MULTILINE)\n",
    "print(p.findall(\"abcd\\nabfg\"))"
   ],
   "id": "d2c30d3f6d97fab",
   "outputs": [
    {
     "name": "stdout",
     "output_type": "stream",
     "text": [
      "['ab']\n",
      "['ab']\n",
      "['ab', 'ab']\n"
     ]
    }
   ],
   "execution_count": 4
  },
  {
   "metadata": {},
   "cell_type": "markdown",
   "source": [
    "#### $\n",
    "- 匹配字符串的末尾 或者 匹配在字符串结尾的换行符之前的末尾\n",
    "- MULTILINE 模式下，还会匹配换行符之前的末尾（换行符可以不在字符串末尾）"
   ],
   "id": "a95d4d878e45f58d"
  },
  {
   "metadata": {
    "ExecuteTime": {
     "end_time": "2025-10-04T08:43:11.099973Z",
     "start_time": "2025-10-04T08:43:11.091264Z"
    }
   },
   "cell_type": "code",
   "source": [
    "p = re.compile(r\"cd$\")\n",
    "print(p.findall(\"abcd\\n\"))\n",
    "\n",
    "p = re.compile(r\"cd$\", flags=re.MULTILINE)\n",
    "print(p.findall(\"abcd\\nefcd\"))\n",
    "\n",
    "\"\"\" 会找到两个（空的）匹配：一个在换行符之前，一个在字符串的末尾\"\"\"\n",
    "p = re.compile(r\"$\")\n",
    "print(p.findall(\"abcd\\n\"))"
   ],
   "id": "fe34dd5a5218213a",
   "outputs": [
    {
     "name": "stdout",
     "output_type": "stream",
     "text": [
      "['cd']\n",
      "['cd', 'cd']\n",
      "['', '']\n"
     ]
    }
   ],
   "execution_count": 5
  },
  {
   "metadata": {},
   "cell_type": "markdown",
   "source": [
    "#### *\n",
    "- 对它前面的正则表达式匹配0到任意次重复，尽量多的匹配（贪婪）"
   ],
   "id": "3fad18a0e94c4ab0"
  },
  {
   "metadata": {
    "ExecuteTime": {
     "end_time": "2025-10-04T08:43:11.176808Z",
     "start_time": "2025-10-04T08:43:11.169476Z"
    }
   },
   "cell_type": "code",
   "source": [
    "p = re.compile(r\"ab*\")\n",
    "print(p.search(\"a\"))\n",
    "print(p.search(\"ab\"))\n",
    "print(p.search(\"abb\"))\n",
    "print(p.search(\"abbbc\"))"
   ],
   "id": "91a4bb5cb02e875f",
   "outputs": [
    {
     "name": "stdout",
     "output_type": "stream",
     "text": [
      "<re.Match object; span=(0, 1), match='a'>\n",
      "<re.Match object; span=(0, 2), match='ab'>\n",
      "<re.Match object; span=(0, 3), match='abb'>\n",
      "<re.Match object; span=(0, 4), match='abbb'>\n"
     ]
    }
   ],
   "execution_count": 6
  },
  {
   "metadata": {
    "ExecuteTime": {
     "end_time": "2025-10-04T08:43:11.331233Z",
     "start_time": "2025-10-04T08:43:11.317921Z"
    }
   },
   "cell_type": "code",
   "source": [
    "p = re.compile(r\"a.*\")\n",
    "print(p.search(\"a\"))\n",
    "print(p.search(\"ab\"))\n",
    "print(p.search(\"abb\"))\n",
    "print(p.search(\"abbbc\"))"
   ],
   "id": "60ccef0d5a6567f6",
   "outputs": [
    {
     "name": "stdout",
     "output_type": "stream",
     "text": [
      "<re.Match object; span=(0, 1), match='a'>\n",
      "<re.Match object; span=(0, 2), match='ab'>\n",
      "<re.Match object; span=(0, 3), match='abb'>\n",
      "<re.Match object; span=(0, 5), match='abbbc'>\n"
     ]
    }
   ],
   "execution_count": 7
  },
  {
   "metadata": {},
   "cell_type": "markdown",
   "source": [
    "#### +\n",
    "- 对它前面的正则表达式匹配1到任意次重复， 尽量多的匹配（贪婪）"
   ],
   "id": "2a371df926c03b8c"
  },
  {
   "metadata": {
    "ExecuteTime": {
     "end_time": "2025-10-04T08:43:11.394916Z",
     "start_time": "2025-10-04T08:43:11.384754Z"
    }
   },
   "cell_type": "code",
   "source": [
    "p = re.compile(r\"ab+\")\n",
    "print(p.search(\"a\"))\n",
    "print(p.search(\"ab\"))\n",
    "print(p.search(\"abb\"))\n",
    "print(p.search(\"abbbc\"))"
   ],
   "id": "6f216e6d62f5faac",
   "outputs": [
    {
     "name": "stdout",
     "output_type": "stream",
     "text": [
      "None\n",
      "<re.Match object; span=(0, 2), match='ab'>\n",
      "<re.Match object; span=(0, 3), match='abb'>\n",
      "<re.Match object; span=(0, 4), match='abbb'>\n"
     ]
    }
   ],
   "execution_count": 8
  },
  {
   "metadata": {},
   "cell_type": "markdown",
   "source": [
    "#### ?\n",
    "- 对它前面的正则表达式匹配0到1次， 尽量多的匹配（贪婪）"
   ],
   "id": "f6574214ea6c442c"
  },
  {
   "metadata": {
    "ExecuteTime": {
     "end_time": "2025-10-04T08:43:11.440906Z",
     "start_time": "2025-10-04T08:43:11.434446Z"
    }
   },
   "cell_type": "code",
   "source": [
    "p = re.compile(r\"ab?\")\n",
    "print(p.search(\"a\"))\n",
    "print(p.search(\"ab\"))\n",
    "print(p.search(\"abb\"))\n",
    "print(p.search(\"abbbc\"))"
   ],
   "id": "a960972d7b261138",
   "outputs": [
    {
     "name": "stdout",
     "output_type": "stream",
     "text": [
      "<re.Match object; span=(0, 1), match='a'>\n",
      "<re.Match object; span=(0, 2), match='ab'>\n",
      "<re.Match object; span=(0, 2), match='ab'>\n",
      "<re.Match object; span=(0, 2), match='ab'>\n"
     ]
    }
   ],
   "execution_count": 9
  },
  {
   "metadata": {},
   "cell_type": "markdown",
   "source": [
    "#### *? +? ??\n",
    "- * + ? 都是贪婪的，它们对字符串进行尽可能多的匹配，有时候并不需要这种行为，可以在之后添加 ?，就可以以非贪婪的方式进行匹配，则尽可能少的字符将会被匹配"
   ],
   "id": "3667c2866c5ed590"
  },
  {
   "metadata": {
    "ExecuteTime": {
     "end_time": "2025-10-04T08:43:11.595028Z",
     "start_time": "2025-10-04T08:43:11.581948Z"
    }
   },
   "cell_type": "code",
   "source": [
    "p = re.compile(r'<.*>')\n",
    "print(p.search('<a> b <c>'))\n",
    "\n",
    "p = re.compile(r'<.*?>')\n",
    "print(p.search('<a> b <c>'))\n",
    "\n",
    "p = re.compile(r\"ab+?\")\n",
    "print(p.search(\"abbbc\"))\n",
    "\n",
    "p = re.compile(r\"ab??\")\n",
    "print(p.search(\"abc\"))"
   ],
   "id": "f1eacd9c694868d5",
   "outputs": [
    {
     "name": "stdout",
     "output_type": "stream",
     "text": [
      "<re.Match object; span=(0, 9), match='<a> b <c>'>\n",
      "<re.Match object; span=(0, 3), match='<a>'>\n",
      "<re.Match object; span=(0, 2), match='ab'>\n",
      "<re.Match object; span=(0, 1), match='a'>\n"
     ]
    }
   ],
   "execution_count": 10
  },
  {
   "metadata": {},
   "cell_type": "markdown",
   "source": [
    "#### {m}\n",
    "- 对其之前的正则表达式指定匹配 m 个重复"
   ],
   "id": "22535adc2231f3ca"
  },
  {
   "metadata": {
    "ExecuteTime": {
     "end_time": "2025-10-04T08:43:11.657031Z",
     "start_time": "2025-10-04T08:43:11.652751Z"
    }
   },
   "cell_type": "code",
   "source": [
    "p = re.compile(r\"ab{2}\")\n",
    "# p = re.compile(r\"ab{3}\")\n",
    "print(p.search(\"a\"))\n",
    "print(p.search(\"ab\"))\n",
    "print(p.search(\"abb\"))\n",
    "print(p.search(\"abbbc\"))"
   ],
   "id": "26d212cd650ba78d",
   "outputs": [
    {
     "name": "stdout",
     "output_type": "stream",
     "text": [
      "None\n",
      "None\n",
      "<re.Match object; span=(0, 3), match='abb'>\n",
      "<re.Match object; span=(0, 3), match='abb'>\n"
     ]
    }
   ],
   "execution_count": 11
  },
  {
   "metadata": {},
   "cell_type": "markdown",
   "source": [
    "#### {m,n}\n",
    "- 对其之前的正则表达式进行 m 到 n 次匹配，在 m 和 n 之间取尽量多（贪婪方式）\n",
    "- 忽略 m 则下限默认为 0，忽略 n 则上限默认为无限次（逗号不能省略）"
   ],
   "id": "6a7757f1f553a69"
  },
  {
   "metadata": {
    "ExecuteTime": {
     "end_time": "2025-10-04T08:43:11.799250Z",
     "start_time": "2025-10-04T08:43:11.793068Z"
    }
   },
   "cell_type": "code",
   "source": [
    "p = re.compile(r\"ab{2,4}\")\n",
    "print(p.search(\"abc\"))\n",
    "print(p.search(\"abbc\"))\n",
    "print(p.search(\"abbbc\"))\n",
    "print(p.search(\"abbbbc\"))\n",
    "print(p.search(\"abbbbbc\"))"
   ],
   "id": "f908c6e2fcc7f8da",
   "outputs": [
    {
     "name": "stdout",
     "output_type": "stream",
     "text": [
      "None\n",
      "<re.Match object; span=(0, 3), match='abb'>\n",
      "<re.Match object; span=(0, 4), match='abbb'>\n",
      "<re.Match object; span=(0, 5), match='abbbb'>\n",
      "<re.Match object; span=(0, 5), match='abbbb'>\n"
     ]
    }
   ],
   "execution_count": 12
  },
  {
   "metadata": {
    "ExecuteTime": {
     "end_time": "2025-10-04T08:43:11.844917Z",
     "start_time": "2025-10-04T08:43:11.830033Z"
    }
   },
   "cell_type": "code",
   "source": [
    "p = re.compile(r\"ab{,4}\")\n",
    "print(p.search(\"ac\"))\n",
    "print(p.search(\"abc\"))\n",
    "\n",
    "p = re.compile(r\"ab{2,}\")\n",
    "print(p.search(\"abbbbc\"))\n",
    "print(p.search(\"abbbbbc\"))"
   ],
   "id": "5d3db2ac4cdbec0d",
   "outputs": [
    {
     "name": "stdout",
     "output_type": "stream",
     "text": [
      "<re.Match object; span=(0, 1), match='a'>\n",
      "<re.Match object; span=(0, 2), match='ab'>\n",
      "<re.Match object; span=(0, 5), match='abbbb'>\n",
      "<re.Match object; span=(0, 6), match='abbbbb'>\n"
     ]
    }
   ],
   "execution_count": 13
  },
  {
   "metadata": {},
   "cell_type": "markdown",
   "source": [
    "#### {m,n}?\n",
    "- 上面 {m,n} 的非贪婪模式"
   ],
   "id": "91130b1f3c43400d"
  },
  {
   "metadata": {
    "ExecuteTime": {
     "end_time": "2025-10-04T08:43:11.968276Z",
     "start_time": "2025-10-04T08:43:11.951788Z"
    }
   },
   "cell_type": "code",
   "source": [
    "p = re.compile(r\"ab{2,4}?\")\n",
    "print(p.search(\"abc\"))\n",
    "print(p.search(\"abbc\"))\n",
    "print(p.search(\"abbbc\"))\n",
    "print(p.search(\"abbbbc\"))\n",
    "print(p.search(\"abbbbbc\"))"
   ],
   "id": "4c80d00e41237fd8",
   "outputs": [
    {
     "name": "stdout",
     "output_type": "stream",
     "text": [
      "None\n",
      "<re.Match object; span=(0, 3), match='abb'>\n",
      "<re.Match object; span=(0, 3), match='abb'>\n",
      "<re.Match object; span=(0, 3), match='abb'>\n",
      "<re.Match object; span=(0, 3), match='abb'>\n"
     ]
    }
   ],
   "execution_count": 14
  },
  {
   "metadata": {
    "ExecuteTime": {
     "end_time": "2025-10-04T08:43:11.998584Z",
     "start_time": "2025-10-04T08:43:11.992808Z"
    }
   },
   "cell_type": "code",
   "source": [
    "p = re.compile(r\"ab{,4}?\")\n",
    "print(p.search(\"ac\"))\n",
    "print(p.search(\"abc\"))\n",
    "\n",
    "p = re.compile(r\"ab{2,}?\")\n",
    "print(p.search(\"abbbbc\"))\n",
    "print(p.search(\"abbbbbc\"))"
   ],
   "id": "ab45ca590839ce0d",
   "outputs": [
    {
     "name": "stdout",
     "output_type": "stream",
     "text": [
      "<re.Match object; span=(0, 1), match='a'>\n",
      "<re.Match object; span=(0, 1), match='a'>\n",
      "<re.Match object; span=(0, 3), match='abb'>\n",
      "<re.Match object; span=(0, 3), match='abb'>\n"
     ]
    }
   ],
   "execution_count": 15
  },
  {
   "metadata": {},
   "cell_type": "markdown",
   "source": [
    "#### |\n",
    "- 任意个正则表达式可以用 | 连接，比如 A|B 表示匹配正则表达式 A 或者 B，一旦有一个先匹配成功，另外的就不会再进行匹配"
   ],
   "id": "3d605e26b053a4f3"
  },
  {
   "metadata": {
    "ExecuteTime": {
     "end_time": "2025-10-04T08:43:12.091287Z",
     "start_time": "2025-10-04T08:43:12.082289Z"
    }
   },
   "cell_type": "code",
   "source": [
    "p = re.compile(r\"d|e|b\")\n",
    "print(p.search(\"abc\"))\n",
    "print(p.search(\"aebcd\"))\n",
    "print(p.findall(\"abc\"))\n",
    "print(p.findall(\"aebcd\"))"
   ],
   "id": "a687faf605c71ecc",
   "outputs": [
    {
     "name": "stdout",
     "output_type": "stream",
     "text": [
      "<re.Match object; span=(1, 2), match='b'>\n",
      "<re.Match object; span=(1, 2), match='e'>\n",
      "['b']\n",
      "['e', 'b', 'd']\n"
     ]
    }
   ],
   "execution_count": 16
  },
  {
   "metadata": {},
   "cell_type": "markdown",
   "source": [
    "#### \\\n",
    "- 转义特殊字符"
   ],
   "id": "ef255e4ba4f1bcd8"
  },
  {
   "metadata": {
    "ExecuteTime": {
     "end_time": "2025-10-04T08:43:12.168572Z",
     "start_time": "2025-10-04T08:43:12.152201Z"
    }
   },
   "cell_type": "code",
   "source": [
    "# 只匹配*号\n",
    "p = re.compile(r\"\\*\")\n",
    "print(p.fullmatch(\"*\"))\n",
    "# 只匹配+号\n",
    "p = re.compile(r\"\\+\")\n",
    "print(p.fullmatch(\"+\"))\n",
    "# 只匹配?号\n",
    "p = re.compile(r\"\\?\")\n",
    "print(p.fullmatch(\"?\"))\n",
    "\n",
    "p = re.compile(r\"\\++\")\n",
    "print(p.findall('a...8b++e..t+++2.1+'))\n",
    "\n",
    "p = re.compile(r\"\\.+\")\n",
    "print(p.findall('a...8b++e..t+++2.1+'))"
   ],
   "id": "8175c40480521258",
   "outputs": [
    {
     "name": "stdout",
     "output_type": "stream",
     "text": [
      "<re.Match object; span=(0, 1), match='*'>\n",
      "<re.Match object; span=(0, 1), match='+'>\n",
      "<re.Match object; span=(0, 1), match='?'>\n",
      "['++', '+++', '+']\n",
      "['...', '..', '.']\n"
     ]
    }
   ],
   "execution_count": 17
  },
  {
   "metadata": {},
   "cell_type": "markdown",
   "source": "#### 用来表示一个特殊序列（由 \\和一个字符组成的特殊序列）",
   "id": "72ab54cc0640083b"
  },
  {
   "metadata": {},
   "cell_type": "markdown",
   "source": [
    "#### \\number\n",
    "- 匹配数字代表的分组里面的内容（每个括号是一个子组，子组从1开始编号），在 [ 和 ] 字符集内，任何数字转义都被看作是字符"
   ],
   "id": "b1cfa24f739a728f"
  },
  {
   "metadata": {
    "ExecuteTime": {
     "end_time": "2025-10-04T08:43:12.261904Z",
     "start_time": "2025-10-04T08:43:12.257987Z"
    }
   },
   "cell_type": "code",
   "source": [
    "\"\"\" \\1匹配的内容和第1组一定一样 \"\"\"\n",
    "p = re.compile(r\"(.+) \\1\")\n",
    "print(p.search(\"ab abc\"))\n",
    "print(p.search(\"5 5\"))\n",
    "\n",
    "\"\"\" 两个组匹配的内容不一定一样 \"\"\"\n",
    "p = re.compile(r\"(.+) (.+)\")\n",
    "print(p.search(\"ab abc\"))\n",
    "print(p.search(\"5 5\"))"
   ],
   "id": "fa30da459feb6a75",
   "outputs": [
    {
     "name": "stdout",
     "output_type": "stream",
     "text": [
      "<re.Match object; span=(0, 5), match='ab ab'>\n",
      "<re.Match object; span=(0, 3), match='5 5'>\n",
      "<re.Match object; span=(0, 6), match='ab abc'>\n",
      "<re.Match object; span=(0, 3), match='5 5'>\n"
     ]
    }
   ],
   "execution_count": 18
  },
  {
   "metadata": {},
   "cell_type": "markdown",
   "source": [
    "#### \\A\n",
    "- 匹配字符串的开头，类似于 ^，区别在于：MULTILINE模式下，\\A 不识别换行"
   ],
   "id": "230c56dd7b5c3f92"
  },
  {
   "metadata": {
    "ExecuteTime": {
     "end_time": "2025-10-04T08:43:12.307076Z",
     "start_time": "2025-10-04T08:43:12.300708Z"
    }
   },
   "cell_type": "code",
   "source": [
    "p = re.compile(r\"^ab\")\n",
    "print(p.findall(\"abcd\\nabfg\"))\n",
    "\n",
    "p = re.compile(r\"^ab\", flags=re.MULTILINE)\n",
    "print(p.findall(\"abcd\\nabfg\"))\n",
    "\n",
    "p = re.compile(r\"\\Aab\")\n",
    "print(p.findall(\"abcd\\nabfg\"))\n",
    "\n",
    "p = re.compile(r\"\\Aab\", flags=re.M)\n",
    "print(p.findall(\"abcd\\nabfg\"))\n",
    "\n",
    "p = re.compile(r'\\A', re.M)\n",
    "string = 'abcd\\nabfabg'\n",
    "p.findall(string)"
   ],
   "id": "95951da6073fea1a",
   "outputs": [
    {
     "name": "stdout",
     "output_type": "stream",
     "text": [
      "['ab']\n",
      "['ab', 'ab']\n",
      "['ab']\n",
      "['ab']\n"
     ]
    },
    {
     "data": {
      "text/plain": [
       "['']"
      ]
     },
     "execution_count": 19,
     "metadata": {},
     "output_type": "execute_result"
    }
   ],
   "execution_count": 19
  },
  {
   "metadata": {},
   "cell_type": "markdown",
   "source": [
    "#### \\b\n",
    "- 匹配空字符串，但只在单词开始或结尾的位置，即匹配一个单词边界"
   ],
   "id": "4fcfc65b8f95d3f6"
  },
  {
   "metadata": {
    "ExecuteTime": {
     "end_time": "2025-10-04T08:43:12.431457Z",
     "start_time": "2025-10-04T08:43:12.421487Z"
    }
   },
   "cell_type": "code",
   "source": [
    "p = re.compile(r\"er\\b\")\n",
    "print(p.search(\"never\"))\n",
    "print(p.search(\"verb\"))\n",
    "\n",
    "p = re.compile(r\"\\ba\")\n",
    "print(p.search(\"I have a panda\"))\n",
    "\n",
    "p = re.compile(r\"\\ba\\b\")\n",
    "print(p.search(\"I have a dog\"))\n",
    "\n",
    "p = re.compile(r\"\\b\")\n",
    "print(p.search(\"what\"))\n",
    "print(p.findall(\"what\"))"
   ],
   "id": "1a248208177e2332",
   "outputs": [
    {
     "name": "stdout",
     "output_type": "stream",
     "text": [
      "<re.Match object; span=(3, 5), match='er'>\n",
      "None\n",
      "<re.Match object; span=(7, 8), match='a'>\n",
      "<re.Match object; span=(7, 8), match='a'>\n",
      "<re.Match object; span=(0, 0), match=''>\n",
      "['', '']\n"
     ]
    }
   ],
   "execution_count": 20
  },
  {
   "metadata": {
    "ExecuteTime": {
     "end_time": "2025-10-04T08:43:12.478161Z",
     "start_time": "2025-10-04T08:43:12.468679Z"
    }
   },
   "cell_type": "code",
   "source": [
    "p = re.compile(r\"a\\b\")\n",
    "print(p.findall('abc'))\n",
    "print(p.findall('a123'))\n",
    "print(p.findall('a_24'))\n",
    "print(p.findall('a你好'))"
   ],
   "id": "18ff3e7d4acc85a5",
   "outputs": [
    {
     "name": "stdout",
     "output_type": "stream",
     "text": [
      "[]\n",
      "[]\n",
      "[]\n",
      "[]\n"
     ]
    }
   ],
   "execution_count": 21
  },
  {
   "metadata": {
    "ExecuteTime": {
     "end_time": "2025-10-04T08:43:12.586424Z",
     "start_time": "2025-10-04T08:43:12.574460Z"
    }
   },
   "cell_type": "code",
   "source": [
    "p = re.compile(r\"a\\b\")\n",
    "print(p.findall('a-你好'))\n",
    "print(p.findall('a+你好'))\n",
    "print(p.findall('a*'))\n",
    "print(p.findall('a/'))\n",
    "print(p.findall('a '))\n",
    "print(p.findall('a\\n'))\n",
    "print(p.findall('a\\t'))"
   ],
   "id": "910aa3193f5a5b61",
   "outputs": [
    {
     "name": "stdout",
     "output_type": "stream",
     "text": [
      "['a']\n",
      "['a']\n",
      "['a']\n",
      "['a']\n",
      "['a']\n",
      "['a']\n",
      "['a']\n"
     ]
    }
   ],
   "execution_count": 22
  },
  {
   "metadata": {},
   "cell_type": "markdown",
   "source": [
    "#### \\B\n",
    "- 匹配空字符串，但不能在单词开始或结尾的位置，即匹配非单词边界"
   ],
   "id": "8f0253ee15285786"
  },
  {
   "metadata": {
    "ExecuteTime": {
     "end_time": "2025-10-04T08:43:12.647241Z",
     "start_time": "2025-10-04T08:43:12.633360Z"
    }
   },
   "cell_type": "code",
   "source": [
    "p = re.compile(r\"a\\b\")\n",
    "print(p.search(\"I ha\\nve a panda\"))\n",
    "print(p.findall(\"I ha\\nve a panda\"))"
   ],
   "id": "60060c3ead14b616",
   "outputs": [
    {
     "name": "stdout",
     "output_type": "stream",
     "text": [
      "<re.Match object; span=(3, 4), match='a'>\n",
      "['a', 'a', 'a']\n"
     ]
    }
   ],
   "execution_count": 23
  },
  {
   "metadata": {
    "ExecuteTime": {
     "end_time": "2025-10-04T08:43:12.726302Z",
     "start_time": "2025-10-04T08:43:12.714764Z"
    }
   },
   "cell_type": "code",
   "source": [
    "p = re.compile(r\"er\\B\")\n",
    "print(p.search(\"never\"))\n",
    "print(p.search(\"verb\"))\n",
    "\n",
    "p = re.compile(r\"\\Ba\\B\")\n",
    "print(p.search(\"I have a dog\"))"
   ],
   "id": "ed2070c399f7644b",
   "outputs": [
    {
     "name": "stdout",
     "output_type": "stream",
     "text": [
      "None\n",
      "<re.Match object; span=(1, 3), match='er'>\n",
      "<re.Match object; span=(3, 4), match='a'>\n"
     ]
    }
   ],
   "execution_count": 24
  },
  {
   "metadata": {
    "ExecuteTime": {
     "end_time": "2025-10-04T08:43:12.790378Z",
     "start_time": "2025-10-04T08:43:12.787286Z"
    }
   },
   "cell_type": "code",
   "source": [
    "p = re.compile(r\"\\ba\\B\")\n",
    "print(p.search(\"I have a panda\"))\n",
    "\n",
    "p = re.compile(r\"\\Ba\\b\")\n",
    "print(p.search(\"I have a panda\"))\n",
    "\n",
    "p = re.compile(r\"\\ba\\b\")\n",
    "print(p.search(\"I have a dog\"))"
   ],
   "id": "ffc131fd7f76c179",
   "outputs": [
    {
     "name": "stdout",
     "output_type": "stream",
     "text": [
      "None\n",
      "<re.Match object; span=(13, 14), match='a'>\n",
      "<re.Match object; span=(7, 8), match='a'>\n"
     ]
    }
   ],
   "execution_count": 25
  },
  {
   "metadata": {
    "ExecuteTime": {
     "end_time": "2025-10-04T08:43:12.867440Z",
     "start_time": "2025-10-04T08:43:12.849811Z"
    }
   },
   "cell_type": "code",
   "source": [
    "p = re.compile(r\"\")\n",
    "print(p.search(\"what\"))\n",
    "print(p.findall(\"what\"))\n",
    "\n",
    "p = re.compile(r\"\\B\")\n",
    "print(p.search(\"what\"))\n",
    "print(p.findall(\"what\"))"
   ],
   "id": "f374bd6476855eb5",
   "outputs": [
    {
     "name": "stdout",
     "output_type": "stream",
     "text": [
      "<re.Match object; span=(0, 0), match=''>\n",
      "['', '', '', '', '']\n",
      "<re.Match object; span=(1, 1), match=''>\n",
      "['', '', '']\n"
     ]
    }
   ],
   "execution_count": 26
  },
  {
   "metadata": {},
   "cell_type": "markdown",
   "source": [
    "#### \\d\n",
    "- 匹配任意一个数字字符，等价于 [0-9]"
   ],
   "id": "15034405170734f2"
  },
  {
   "metadata": {
    "ExecuteTime": {
     "end_time": "2025-10-04T08:43:12.931953Z",
     "start_time": "2025-10-04T08:43:12.917603Z"
    }
   },
   "cell_type": "code",
   "source": [
    "p = re.compile(r\"\\d\")\n",
    "print(p.findall(\"ab41+789*- C\"))\n",
    "\n",
    "p = re.compile(r\"\\d+\")\n",
    "print(p.findall(\"ab41+789*- C\"))"
   ],
   "id": "52db7233a6d8b667",
   "outputs": [
    {
     "name": "stdout",
     "output_type": "stream",
     "text": [
      "['4', '1', '7', '8', '9']\n",
      "['41', '789']\n"
     ]
    }
   ],
   "execution_count": 27
  },
  {
   "metadata": {
    "ExecuteTime": {
     "end_time": "2025-10-04T08:43:13.024368Z",
     "start_time": "2025-10-04T08:43:13.013541Z"
    }
   },
   "cell_type": "code",
   "source": [
    "p = re.compile(r\"\\d\")\n",
    "print(p.search(\"a1234b\"))\n",
    "\n",
    "p = re.compile(r\"\\d+\")\n",
    "print(p.search(\"a1234b\"))"
   ],
   "id": "489213de887d61f2",
   "outputs": [
    {
     "name": "stdout",
     "output_type": "stream",
     "text": [
      "<re.Match object; span=(1, 2), match='1'>\n",
      "<re.Match object; span=(1, 5), match='1234'>\n"
     ]
    }
   ],
   "execution_count": 28
  },
  {
   "metadata": {},
   "cell_type": "markdown",
   "source": [
    "#### \\D\n",
    "- 匹配任意一个非数字字符，等价于 [^0-9]"
   ],
   "id": "c1df123c4ab8ad22"
  },
  {
   "metadata": {
    "ExecuteTime": {
     "end_time": "2025-10-04T08:43:13.086445Z",
     "start_time": "2025-10-04T08:43:13.078981Z"
    }
   },
   "cell_type": "code",
   "source": [
    "p = re.compile(r\"\\D\")\n",
    "print(p.findall(\"ab41+789*- C\"))\n",
    "\n",
    "p = re.compile(r\"\\D+\")\n",
    "print(p.findall(\"ab41+789*- C\"))"
   ],
   "id": "403a75846dd6a9",
   "outputs": [
    {
     "name": "stdout",
     "output_type": "stream",
     "text": [
      "['a', 'b', '+', '*', '-', ' ', 'C']\n",
      "['ab', '+', '*- C']\n"
     ]
    }
   ],
   "execution_count": 29
  },
  {
   "metadata": {
    "ExecuteTime": {
     "end_time": "2025-10-04T08:43:13.211543Z",
     "start_time": "2025-10-04T08:43:13.196820Z"
    }
   },
   "cell_type": "code",
   "source": [
    "p = re.compile(r\"\\D\")\n",
    "print(p.search(\"ab1234c\"))\n",
    "\n",
    "p = re.compile(r\"\\D+\")\n",
    "print(p.search(\"ab1234c\"))"
   ],
   "id": "4924feb9ab856ba6",
   "outputs": [
    {
     "name": "stdout",
     "output_type": "stream",
     "text": [
      "<re.Match object; span=(0, 1), match='a'>\n",
      "<re.Match object; span=(0, 2), match='ab'>\n"
     ]
    }
   ],
   "execution_count": 30
  },
  {
   "metadata": {},
   "cell_type": "markdown",
   "source": [
    "#### \\s\n",
    "- 匹配任何一个空白符"
   ],
   "id": "52fb9639b22ee5aa"
  },
  {
   "metadata": {
    "ExecuteTime": {
     "end_time": "2025-10-04T08:43:13.256577Z",
     "start_time": "2025-10-04T08:43:13.242905Z"
    }
   },
   "cell_type": "code",
   "source": [
    "p = re.compile(r\"a\\sc\")\n",
    "print(p.findall(\"adc a ca\\nc  a\\tc a+c  a我c\"))"
   ],
   "id": "676bf4ba7320fe16",
   "outputs": [
    {
     "name": "stdout",
     "output_type": "stream",
     "text": [
      "['a c', 'a\\nc', 'a\\tc']\n"
     ]
    }
   ],
   "execution_count": 31
  },
  {
   "metadata": {},
   "cell_type": "markdown",
   "source": [
    "#### \\S\n",
    "- 匹配任何一个非空白符"
   ],
   "id": "48b93b58d3bb4648"
  },
  {
   "metadata": {
    "ExecuteTime": {
     "end_time": "2025-10-04T08:43:13.334247Z",
     "start_time": "2025-10-04T08:43:13.327976Z"
    }
   },
   "cell_type": "code",
   "source": [
    "p = re.compile(r\"a\\Sc\")\n",
    "print(p.findall(\"adc a ca\\nc  a\\tc a+c  a我c\"))"
   ],
   "id": "825345bafecff9be",
   "outputs": [
    {
     "name": "stdout",
     "output_type": "stream",
     "text": [
      "['adc', 'a+c', 'a我c']\n"
     ]
    }
   ],
   "execution_count": 32
  },
  {
   "metadata": {},
   "cell_type": "markdown",
   "source": [
    "#### \\w\n",
    "- 匹配一个字母或一个数字或一个下划线，等价于 [a-zA-Z0-9_]"
   ],
   "id": "5ff47b169266240c"
  },
  {
   "metadata": {
    "ExecuteTime": {
     "end_time": "2025-10-04T08:43:13.395951Z",
     "start_time": "2025-10-04T08:43:13.379753Z"
    }
   },
   "cell_type": "code",
   "source": [
    "p = re.compile(r\"a\\wb\")\n",
    "print(p.findall(\"adba9ba_ba b aのb a+b a-b a\\nb\"))"
   ],
   "id": "c1473b37fa8317c",
   "outputs": [
    {
     "name": "stdout",
     "output_type": "stream",
     "text": [
      "['adb', 'a9b', 'a_b', 'aのb']\n"
     ]
    }
   ],
   "execution_count": 33
  },
  {
   "metadata": {},
   "cell_type": "markdown",
   "source": [
    "#### \\W\n",
    "- 匹配一个非字母非数字非下划线的字符，等价于 [^a-zA-Z0-9_]"
   ],
   "id": "9e1d2b0b410c9710"
  },
  {
   "metadata": {
    "ExecuteTime": {
     "end_time": "2025-10-04T08:43:13.473373Z",
     "start_time": "2025-10-04T08:43:13.462359Z"
    }
   },
   "cell_type": "code",
   "source": [
    "p = re.compile(r\"a\\Wb\")\n",
    "print(p.findall(\"adba9ba_ba b aのb a+b a-b a\\nb\"))"
   ],
   "id": "2e8c55bac617f344",
   "outputs": [
    {
     "name": "stdout",
     "output_type": "stream",
     "text": [
      "['a b', 'a+b', 'a-b', 'a\\nb']\n"
     ]
    }
   ],
   "execution_count": 34
  },
  {
   "metadata": {},
   "cell_type": "markdown",
   "source": [
    "#### \\Z\n",
    "- 只匹配字符串的末尾，且 MULTILINE 模式下，\\Z 不识别换行"
   ],
   "id": "7be3671cc40621e1"
  },
  {
   "metadata": {
    "ExecuteTime": {
     "end_time": "2025-10-04T08:43:13.551261Z",
     "start_time": "2025-10-04T08:43:13.548112Z"
    }
   },
   "cell_type": "code",
   "source": [
    "p = re.compile(r\"cd\\Z\")\n",
    "print(p.findall(\"abcd\"))\n",
    "\n",
    "\"\"\" 结尾是'\\n'，不是'cd' \"\"\"\n",
    "print(p.findall(\"abcd\\n\"))\n",
    "\n",
    "print(p.findall(\"abcd\\nabcd\"))\n",
    "\n",
    "\"\"\" MULTILINE 模式下，\\Z 不识别换行 \"\"\"\n",
    "p2 = re.compile(r\"cd\\Z\", flags=re.MULTILINE)\n",
    "print(p2.findall(\"abcd\\nef\"))\n",
    "\n",
    "p2 = re.compile(r\"cd\\Z\", flags=re.MULTILINE)\n",
    "print(p2.findall(\"abcd\\nabcd\"))\n",
    "\n",
    "\"\"\" 只会找到一个（空的）匹配 \"\"\"\n",
    "p = re.compile(r\"\\Z\")\n",
    "print(p.findall(\"abcd\\n\"))"
   ],
   "id": "e71ca3cf5000a5dc",
   "outputs": [
    {
     "name": "stdout",
     "output_type": "stream",
     "text": [
      "['cd']\n",
      "[]\n",
      "['cd']\n",
      "[]\n",
      "['cd']\n",
      "['']\n"
     ]
    }
   ],
   "execution_count": 35
  },
  {
   "metadata": {},
   "cell_type": "markdown",
   "source": [
    "#### \\n \\t \\\\ \\' \\\"\n",
    "- 绝大部分Python的标准转义字符也被正则表达式分析器支持"
   ],
   "id": "f929b65249f11559"
  },
  {
   "metadata": {
    "ExecuteTime": {
     "end_time": "2025-10-04T08:43:13.629810Z",
     "start_time": "2025-10-04T08:43:13.614675Z"
    }
   },
   "cell_type": "code",
   "source": [
    "p = re.compile(r\"\\n\")\n",
    "print(p.findall(\"\\n\"))\n",
    "\n",
    "p = re.compile(r\"\\t\")\n",
    "print(p.findall(\"\\t\"))\n",
    "\n",
    "p = re.compile(r\"\\\\\")\n",
    "print(p.findall(\"\\\\\"))\n",
    "\n",
    "p = re.compile(r\"\\'\")\n",
    "print(p.findall(\"'\"))\n",
    "\n",
    "p = re.compile(r\"\\\"\")\n",
    "print(p.findall('\"'))"
   ],
   "id": "ae35b7879418ed3a",
   "outputs": [
    {
     "name": "stdout",
     "output_type": "stream",
     "text": [
      "['\\n']\n",
      "['\\t']\n",
      "['\\\\']\n",
      "[\"'\"]\n",
      "['\"']\n"
     ]
    }
   ],
   "execution_count": 36
  },
  {
   "metadata": {},
   "cell_type": "markdown",
   "source": [
    "#### []\n",
    "- 用于表示一个字符集：\n",
    "- - 字符可以单独列出，比如 [amk] 匹配 'a'， 'm'， 或者 'k'"
   ],
   "id": "2ce8454d8fba3f50"
  },
  {
   "metadata": {
    "ExecuteTime": {
     "end_time": "2025-10-04T08:43:13.691290Z",
     "start_time": "2025-10-04T08:43:13.679395Z"
    }
   },
   "cell_type": "code",
   "source": [
    "p = re.compile(r\"[amk]\")\n",
    "print(p.findall(\"I have a monkey\"))"
   ],
   "id": "8162e64f9035ce2f",
   "outputs": [
    {
     "name": "stdout",
     "output_type": "stream",
     "text": [
      "['a', 'a', 'm', 'k']\n"
     ]
    }
   ],
   "execution_count": 37
  },
  {
   "metadata": {},
   "cell_type": "markdown",
   "source": "- - 可以表示字符范围，通过用 - 将两个字符连起来",
   "id": "1b2e8cb20bb77ad3"
  },
  {
   "metadata": {
    "ExecuteTime": {
     "end_time": "2025-10-04T08:43:13.813835Z",
     "start_time": "2025-10-04T08:43:13.805526Z"
    }
   },
   "cell_type": "code",
   "source": [
    "p = re.compile(r\"[a-y]\")\n",
    "print(p.findall(\"ahzyqAHZYQ\"))\n",
    "\n",
    "p = re.compile(r\"[0-5][A-Y]\")\n",
    "print(p.findall(\"a0hzyq125A6HZYQ\"))"
   ],
   "id": "8a02f741843be6e9",
   "outputs": [
    {
     "name": "stdout",
     "output_type": "stream",
     "text": [
      "['a', 'h', 'y', 'q']\n",
      "['5A']\n"
     ]
    }
   ],
   "execution_count": 38
  },
  {
   "metadata": {
    "ExecuteTime": {
     "end_time": "2025-10-04T08:43:13.860637Z",
     "start_time": "2025-10-04T08:43:13.855351Z"
    }
   },
   "cell_type": "code",
   "source": [
    "p = re.compile(r'[0-9]')\n",
    "print(p.findall('8`3_+]-.4t^[k\\GNfaLM'))\n",
    "\n",
    "p = re.compile(r'\\d')\n",
    "print(p.findall('8`3_+]-.4t^[k\\GNfaLM'))"
   ],
   "id": "a352daa48254f9c6",
   "outputs": [
    {
     "name": "stdout",
     "output_type": "stream",
     "text": [
      "['8', '3', '4']\n",
      "['8', '3', '4']\n"
     ]
    }
   ],
   "execution_count": 39
  },
  {
   "metadata": {
    "ExecuteTime": {
     "end_time": "2025-10-04T08:43:13.953161Z",
     "start_time": "2025-10-04T08:43:13.948995Z"
    }
   },
   "cell_type": "code",
   "source": [
    "p = re.compile(r'\\+')\n",
    "print(p.findall('8`3_++.4t^[k\\+++aLM'))\n",
    "\n",
    "p = re.compile(r'[+]+')\n",
    "print(p.findall('8`3_++.4t^[k\\+++aLM'))\n",
    "\n",
    "p = re.compile(r\"[\\d+]\")\n",
    "print(p.findall('8`3_++.4t^[k\\+++aLM'))"
   ],
   "id": "993801f62ba2da4c",
   "outputs": [
    {
     "name": "stdout",
     "output_type": "stream",
     "text": [
      "['+', '+', '+', '+', '+']\n",
      "['++', '+++']\n",
      "['8', '3', '+', '+', '4', '+', '+', '+']\n"
     ]
    }
   ],
   "execution_count": 40
  },
  {
   "metadata": {},
   "cell_type": "markdown",
   "source": "- - 特殊字符在字符集中，失去它的特殊含义",
   "id": "1279ab8a6aa5b13b"
  },
  {
   "metadata": {
    "ExecuteTime": {
     "end_time": "2025-10-04T08:43:13.999780Z",
     "start_time": "2025-10-04T08:43:13.993378Z"
    }
   },
   "cell_type": "code",
   "source": [
    "p = re.compile(r\"[.+]\")\n",
    "print(p.findall(\"abc\"))\n",
    "\n",
    "p = re.compile(r\"[.+]\")\n",
    "print(p.findall(\"a.b+c.d+\"))"
   ],
   "id": "e9efc930372a638d",
   "outputs": [
    {
     "name": "stdout",
     "output_type": "stream",
     "text": [
      "[]\n",
      "['.', '+', '.', '+']\n"
     ]
    }
   ],
   "execution_count": 41
  },
  {
   "metadata": {},
   "cell_type": "markdown",
   "source": "- - 特殊序列，如 \\d \\s \\w 在字符集中可以被接受",
   "id": "e643b9aa2b9aea84"
  },
  {
   "metadata": {
    "ExecuteTime": {
     "end_time": "2025-10-04T08:43:14.123485Z",
     "start_time": "2025-10-04T08:43:14.110976Z"
    }
   },
   "cell_type": "code",
   "source": [
    "p = re.compile(r\"[\\d]\")\n",
    "print(p.search(\"a1234b\"))\n",
    "\n",
    "p = re.compile(r\"[\\d+]\")\n",
    "print(p.findall(\"a1234b+\"))\n",
    "\n",
    "p = re.compile(r\"[a\\sb]\")\n",
    "print(p.findall(\"adb a bc\"))\n",
    "\n",
    "p = re.compile(r\"[\\w]\")\n",
    "print(p.findall(\"adb_a b!c\"))"
   ],
   "id": "3e9b57bce87428e2",
   "outputs": [
    {
     "name": "stdout",
     "output_type": "stream",
     "text": [
      "<re.Match object; span=(1, 2), match='1'>\n",
      "['1', '2', '3', '4', '+']\n",
      "['a', 'b', ' ', 'a', ' ', 'b']\n",
      "['a', 'd', 'b', '_', 'a', 'b', 'c']\n"
     ]
    }
   ],
   "execution_count": 42
  },
  {
   "metadata": {
    "ExecuteTime": {
     "end_time": "2025-10-04T08:43:14.155348Z",
     "start_time": "2025-10-04T08:43:14.137141Z"
    }
   },
   "cell_type": "code",
   "source": [
    "p = re.compile(r'\\^')\n",
    "print(p.findall('8^^^^^-.4t^[k\\G^NfaL^^M'))\n",
    "\n",
    "p = re.compile(r'[\\^]')\n",
    "print(p.findall('8^^^^^-.4t^[k\\G^NfaL^^M'))\n",
    "\n",
    "p = re.compile(r'[^\\d+._\\-a-z\\]\\[\\\\]', re.I)\n",
    "print(p.findall('8^^^^^-.4_t^[k\\G^NfaL^^M'))"
   ],
   "id": "7ee68066ae56018c",
   "outputs": [
    {
     "name": "stdout",
     "output_type": "stream",
     "text": [
      "['^', '^', '^', '^', '^', '^', '^', '^', '^']\n",
      "['^', '^', '^', '^', '^', '^', '^', '^', '^']\n",
      "['^', '^', '^', '^', '^', '^', '^', '^', '^']\n"
     ]
    }
   ],
   "execution_count": 43
  },
  {
   "metadata": {},
   "cell_type": "markdown",
   "source": "- - 不在字符集范围内的字符可以通过取反来进行匹配，如果字符集首字符是 ^ ，所有不在字符集内的字符将会被匹配， ^ 如果不在字符集首位，就没有特殊含义",
   "id": "8509a63957ed4e3c"
  },
  {
   "metadata": {
    "ExecuteTime": {
     "end_time": "2025-10-04T08:43:14.216942Z",
     "start_time": "2025-10-04T08:43:14.200532Z"
    }
   },
   "cell_type": "code",
   "source": [
    "p = re.compile(r\"[^5]\")\n",
    "print(p.findall(\"5a b512!5\"))\n",
    "\n",
    "p = re.compile(r'[^^]')\n",
    "print(p.findall('8^^^^^-.4_t^[k\\G^NfaL^^M'))"
   ],
   "id": "1bfd75ce64b9d827",
   "outputs": [
    {
     "name": "stdout",
     "output_type": "stream",
     "text": [
      "['a', ' ', 'b', '1', '2', '!']\n",
      "['8', '-', '.', '4', '_', 't', '[', 'k', '\\\\', 'G', 'N', 'f', 'a', 'L', 'M']\n"
     ]
    }
   ],
   "execution_count": 44
  },
  {
   "metadata": {},
   "cell_type": "markdown",
   "source": "- - 如果要匹配 '[' ']'，可以在它之前加上反斜杠",
   "id": "72b2ad49e042f2a"
  },
  {
   "metadata": {
    "ExecuteTime": {
     "end_time": "2025-10-04T08:43:14.278284Z",
     "start_time": "2025-10-04T08:43:14.265204Z"
    }
   },
   "cell_type": "code",
   "source": [
    "p = re.compile(r\"[\\[\\]]\")\n",
    "print(p.findall(\"[]\"))\n",
    "\n",
    "p = re.compile(r'\\[|]')\n",
    "print(p.findall('8[]^^]^[36_+[]-t^'))"
   ],
   "id": "6edfbe425ce8a6ea",
   "outputs": [
    {
     "name": "stdout",
     "output_type": "stream",
     "text": [
      "['[', ']']\n",
      "['[', ']', ']', '[', '[', ']']\n"
     ]
    }
   ],
   "execution_count": 45
  },
  {
   "metadata": {},
   "cell_type": "markdown",
   "source": [
    "#### (...)\n",
    "- 捕获分组，匹配括号内的任意正则表达式，并标识出该分组的开始和结尾。\n",
    "- 组从 0 开始编号，组 0 始终存在，它表示整个正则，所以Match的对象方法都将组 0 作为默认参数；子组从左到右编号，从 1 向上编号\n",
    "- 分组匹配的内容可以在之后其他分组用 \\number 进行再次引用\n",
    "- 要匹配字符 ( 或者 )，用 \\( 或 \\)，或者把它们包含在字符集里： [(]，[)]"
   ],
   "id": "b57c7b6ca5397268"
  },
  {
   "metadata": {
    "ExecuteTime": {
     "end_time": "2025-10-04T08:43:14.401334Z",
     "start_time": "2025-10-04T08:43:14.390048Z"
    }
   },
   "cell_type": "code",
   "source": [
    "p = re.compile(r\"b(.+)a(.+)e\")\n",
    "m = p.match(\"babacdefg\")\n",
    "print(m)\n",
    "print(m.group(1), m.group(2))\n",
    "print(m.span(1), m.span(2))\n",
    "print(m.start(1), m.end(1))\n",
    "print(m.start(2), m.end(2))"
   ],
   "id": "623bdf8d2bea2f0a",
   "outputs": [
    {
     "name": "stdout",
     "output_type": "stream",
     "text": [
      "<re.Match object; span=(0, 7), match='babacde'>\n",
      "ab cd\n",
      "(1, 3) (4, 6)\n",
      "1 3\n",
      "4 6\n"
     ]
    }
   ],
   "execution_count": 46
  },
  {
   "metadata": {
    "ExecuteTime": {
     "end_time": "2025-10-04T08:43:14.448667Z",
     "start_time": "2025-10-04T08:43:14.445628Z"
    }
   },
   "cell_type": "code",
   "source": [
    "# 多个分组，返回元组列表\n",
    "print(p.findall(\"babacdefg\"))\n",
    "# 引用第1组匹配的内容\n",
    "p = re.compile(r\"b(.+)a(\\1)e\")\n",
    "print(p.findall(\"babaabefg\"))"
   ],
   "id": "8d98f5ebb97e3d19",
   "outputs": [
    {
     "name": "stdout",
     "output_type": "stream",
     "text": [
      "[('ab', 'cd')]\n",
      "[('ab', 'ab')]\n"
     ]
    }
   ],
   "execution_count": 47
  },
  {
   "metadata": {
    "ExecuteTime": {
     "end_time": "2025-10-04T08:43:14.573084Z",
     "start_time": "2025-10-04T08:43:14.556797Z"
    }
   },
   "cell_type": "code",
   "source": [
    "p = re.compile(r'a(bc)d(efg)(.+)')\n",
    "m = p.search('abcdefghijk')\n",
    "print(m)\n",
    "print(m.group())\n",
    "print(m.group(0))\n",
    "print(m.group(1))\n",
    "print(m.group(2))\n",
    "print(m.group(3))\n",
    "print('*' * 30)\n",
    "\n",
    "print(m.group(2, 0, 3))\n",
    "print(m.span())\n",
    "print(m.span(0))\n",
    "print(m.span(2))"
   ],
   "id": "ab0bb8682ddd5e29",
   "outputs": [
    {
     "name": "stdout",
     "output_type": "stream",
     "text": [
      "<re.Match object; span=(0, 11), match='abcdefghijk'>\n",
      "abcdefghijk\n",
      "abcdefghijk\n",
      "bc\n",
      "efg\n",
      "hijk\n",
      "******************************\n",
      "('efg', 'abcdefghijk', 'hijk')\n",
      "(0, 11)\n",
      "(0, 11)\n",
      "(4, 7)\n"
     ]
    }
   ],
   "execution_count": 48
  },
  {
   "metadata": {
    "ExecuteTime": {
     "end_time": "2025-10-04T08:43:14.619333Z",
     "start_time": "2025-10-04T08:43:14.601776Z"
    }
   },
   "cell_type": "code",
   "source": [
    "p = re.compile(r'a(bc)d(efg)(.+?)')\n",
    "m = p.search('abcdefghijk')\n",
    "print(m)\n",
    "\n",
    "p = re.compile(r'a(bc)d(efg)(.+)?')\n",
    "m = p.search('abcdefghijk')\n",
    "print(m)\n",
    "\n",
    "p = re.compile(r'a(bc)d(efg)(.+)??')\n",
    "m = p.search('abcdefghijk')\n",
    "print(m)"
   ],
   "id": "121dbe09ad1aaaae",
   "outputs": [
    {
     "name": "stdout",
     "output_type": "stream",
     "text": [
      "<re.Match object; span=(0, 8), match='abcdefgh'>\n",
      "<re.Match object; span=(0, 11), match='abcdefghijk'>\n",
      "<re.Match object; span=(0, 7), match='abcdefg'>\n"
     ]
    }
   ],
   "execution_count": 49
  },
  {
   "metadata": {
    "ExecuteTime": {
     "end_time": "2025-10-04T08:43:14.713043Z",
     "start_time": "2025-10-04T08:43:14.702430Z"
    }
   },
   "cell_type": "code",
   "source": [
    "p = re.compile(r\"(.+) \\1\")\n",
    "print(p.search(\"ab abc\"))\n",
    "print(p.search(\"5 5\"))"
   ],
   "id": "a842c594e4535c74",
   "outputs": [
    {
     "name": "stdout",
     "output_type": "stream",
     "text": [
      "<re.Match object; span=(0, 5), match='ab ab'>\n",
      "<re.Match object; span=(0, 3), match='5 5'>\n"
     ]
    }
   ],
   "execution_count": 50
  },
  {
   "metadata": {
    "ExecuteTime": {
     "end_time": "2025-10-04T08:43:14.743449Z",
     "start_time": "2025-10-04T08:43:14.734698Z"
    }
   },
   "cell_type": "code",
   "source": [
    "p = re.compile(r\"(.+)( )\\2\")\n",
    "print(p.search(\"ab  abc\"))\n",
    "print(p.search(\"5  5\"))"
   ],
   "id": "8ce53ae480a115a2",
   "outputs": [
    {
     "name": "stdout",
     "output_type": "stream",
     "text": [
      "<re.Match object; span=(0, 4), match='ab  '>\n",
      "<re.Match object; span=(0, 3), match='5  '>\n"
     ]
    }
   ],
   "execution_count": 51
  },
  {
   "metadata": {
    "ExecuteTime": {
     "end_time": "2025-10-04T08:43:14.806Z",
     "start_time": "2025-10-04T08:43:14.801301Z"
    }
   },
   "cell_type": "code",
   "source": [
    "p = re.compile(r\"(.+) [\\1]\")\n",
    "print(p.search(\"ab abc\"))\n",
    "m = p.search(\"ab \\1abc\")\n",
    "print(m.group())"
   ],
   "id": "7df6d660c704fb44",
   "outputs": [
    {
     "name": "stdout",
     "output_type": "stream",
     "text": [
      "None\n",
      "ab \u0001\n"
     ]
    }
   ],
   "execution_count": 52
  },
  {
   "metadata": {},
   "cell_type": "markdown",
   "source": [
    "#### (?:…)\n",
    "- 非捕获分组，并不创建新的组合，所匹配的子字符串不能在执行匹配后被获取或是之后在模式中被引用"
   ],
   "id": "cc8b37157a310826"
  },
  {
   "metadata": {
    "ExecuteTime": {
     "end_time": "2025-10-04T08:43:14.882977Z",
     "start_time": "2025-10-04T08:43:14.872734Z"
    }
   },
   "cell_type": "code",
   "source": [
    "p = re.compile(r\"b(?:.+)a(?:.+)e\")\n",
    "m = p.match(\"babacdefg\")\n",
    "print(m)\n",
    "\n",
    "p = re.compile(r'a(?:bc)d(?:efg)(?:.+)')\n",
    "m = p.search('abcdefghijk')\n",
    "print(m)"
   ],
   "id": "d457a07edc5b357c",
   "outputs": [
    {
     "name": "stdout",
     "output_type": "stream",
     "text": [
      "<re.Match object; span=(0, 7), match='babacde'>\n",
      "<re.Match object; span=(0, 11), match='abcdefghijk'>\n"
     ]
    }
   ],
   "execution_count": 53
  },
  {
   "metadata": {
    "ExecuteTime": {
     "end_time": "2025-10-04T08:43:14.961080Z",
     "start_time": "2025-10-04T08:43:14.944249Z"
    }
   },
   "cell_type": "code",
   "source": [
    "p = re.compile(r'abcdefg(?:.+)?')\n",
    "m = p.search('abcdefghijk')\n",
    "print(m)\n",
    "print(m.group())\n",
    "print(m.group(0))"
   ],
   "id": "2335a2e0c0c9e5c0",
   "outputs": [
    {
     "name": "stdout",
     "output_type": "stream",
     "text": [
      "<re.Match object; span=(0, 11), match='abcdefghijk'>\n",
      "abcdefghijk\n",
      "abcdefghijk\n"
     ]
    }
   ],
   "execution_count": 54
  },
  {
   "metadata": {
    "ExecuteTime": {
     "end_time": "2025-10-04T08:43:15.022534Z",
     "start_time": "2025-10-04T08:43:15.005397Z"
    }
   },
   "cell_type": "code",
   "source": [
    "p = re.compile(r'abcdefg.+?')\n",
    "m = p.search('abcdefghijk')\n",
    "print(m)\n",
    "print(m.group())\n",
    "print(m.group(0))"
   ],
   "id": "1c86d21e1b34c93",
   "outputs": [
    {
     "name": "stdout",
     "output_type": "stream",
     "text": [
      "<re.Match object; span=(0, 8), match='abcdefgh'>\n",
      "abcdefgh\n",
      "abcdefgh\n"
     ]
    }
   ],
   "execution_count": 55
  },
  {
   "metadata": {},
   "cell_type": "markdown",
   "source": "#### 使用正则表达式",
   "id": "cfbe79353fb1dc3f"
  },
  {
   "metadata": {},
   "cell_type": "markdown",
   "source": [
    "#### re.compile(pattern, flags=0)\n",
    "- 编译一个正则表达式，返回一个Pattern类的实例对象\n",
    "- 编译正则表达式\n",
    "- pattern：正则表达式\n",
    "- flags：编译模式，用于控制正则表达式的匹配方式"
   ],
   "id": "28752e00627b83d5"
  },
  {
   "metadata": {
    "ExecuteTime": {
     "end_time": "2025-10-04T08:43:15.083798Z",
     "start_time": "2025-10-04T08:43:15.073758Z"
    }
   },
   "cell_type": "code",
   "source": [
    "p = re.compile('ab*', flags=0)\n",
    "print(p)\n",
    "print(type(p))"
   ],
   "id": "b548876d21576cb4",
   "outputs": [
    {
     "name": "stdout",
     "output_type": "stream",
     "text": [
      "re.compile('ab*')\n",
      "<class 're.Pattern'>\n"
     ]
    }
   ],
   "execution_count": 56
  },
  {
   "metadata": {},
   "cell_type": "markdown",
   "source": [
    "#### 执行匹配\n",
    "- 编译正则表达式得到 Pattern 实例对象，然后通过调用该对象的不同方法来执行匹配"
   ],
   "id": "f7c39d0b92ff850c"
  },
  {
   "metadata": {},
   "cell_type": "markdown",
   "source": "#### Pattern 实例对象支持以下方法：",
   "id": "daa598ce26aea3cf"
  },
  {
   "metadata": {},
   "cell_type": "markdown",
   "source": [
    "#### Pattern.search(string[, pos[, endpos]])\n",
    "- 扫描整个字符串，寻找第一个成功的匹配，返回Match类的实例对象（该实例对象包含匹配相关的信息：起始和结束位置、匹配的子串等等）；如果没有匹配，则返回 None\n",
    "- string：要匹配的字符串\n",
    "- pos：匹配的起始位置，默认为0\n",
    "- endpos：匹配的结束位置，默认为字符串长度"
   ],
   "id": "9152f1c2d97869ee"
  },
  {
   "metadata": {
    "ExecuteTime": {
     "end_time": "2025-10-04T08:43:15.130883Z",
     "start_time": "2025-10-04T08:43:15.120369Z"
    }
   },
   "cell_type": "code",
   "source": [
    "p = re.compile('abcd')\n",
    "print(p)"
   ],
   "id": "37951c5894c6e2eb",
   "outputs": [
    {
     "name": "stdout",
     "output_type": "stream",
     "text": [
      "re.compile('abcd')\n"
     ]
    }
   ],
   "execution_count": 57
  },
  {
   "metadata": {
    "ExecuteTime": {
     "end_time": "2025-10-04T08:43:15.239433Z",
     "start_time": "2025-10-04T08:43:15.235204Z"
    }
   },
   "cell_type": "code",
   "source": [
    "m = p.search('wa8kabc6+abcd-43abcdja')\n",
    "print(m)\n",
    "print(type(m))\n",
    "print(m.group())\n",
    "print(m.span())\n",
    "print(m.start())\n",
    "print(m.end())"
   ],
   "id": "6e920d043ce914b6",
   "outputs": [
    {
     "name": "stdout",
     "output_type": "stream",
     "text": [
      "<re.Match object; span=(9, 13), match='abcd'>\n",
      "<class 're.Match'>\n",
      "abcd\n",
      "(9, 13)\n",
      "9\n",
      "13\n"
     ]
    }
   ],
   "execution_count": 58
  },
  {
   "metadata": {
    "ExecuteTime": {
     "end_time": "2025-10-04T08:43:15.286994Z",
     "start_time": "2025-10-04T08:43:15.269161Z"
    }
   },
   "cell_type": "code",
   "source": [
    "m = p.search('wa8kabc6+abcd-43abcdja', pos=15)\n",
    "print(m)\n",
    "print(type(m))\n",
    "print(m.group())\n",
    "print(m.span())\n",
    "print(m.start())\n",
    "print(m.end())"
   ],
   "id": "774b981c6c8a17bc",
   "outputs": [
    {
     "name": "stdout",
     "output_type": "stream",
     "text": [
      "<re.Match object; span=(16, 20), match='abcd'>\n",
      "<class 're.Match'>\n",
      "abcd\n",
      "(16, 20)\n",
      "16\n",
      "20\n"
     ]
    }
   ],
   "execution_count": 59
  },
  {
   "metadata": {},
   "cell_type": "markdown",
   "source": [
    "#### Pattern.match(string[, pos[, endpos]])\n",
    "- 当字符串的起始位置匹配成功，返回Match类的实例对象（该实例对象包含匹配相关的信息：起始和结束位置、匹配的子串等等）；如果起始位置没有匹配，则返回 None\n",
    "- string：要匹配的字符串\n",
    "- pos：匹配的起始位置，默认为0\n",
    "- endpos：匹配的结束位置，默认为字符串长度"
   ],
   "id": "c5b1fa151c4d7a1"
  },
  {
   "metadata": {
    "ExecuteTime": {
     "end_time": "2025-10-04T08:43:15.411034Z",
     "start_time": "2025-10-04T08:43:15.396221Z"
    }
   },
   "cell_type": "code",
   "source": [
    "m = p.match('wa8kabc6+abcd-43abcdja')\n",
    "print(m)\n",
    "\n",
    "m = p.match('wa8kabc6+abcd-43abcdja', pos=9, endpos=14)\n",
    "print(m)"
   ],
   "id": "ac89e3b9de271fbb",
   "outputs": [
    {
     "name": "stdout",
     "output_type": "stream",
     "text": [
      "None\n",
      "<re.Match object; span=(9, 13), match='abcd'>\n"
     ]
    }
   ],
   "execution_count": 60
  },
  {
   "metadata": {},
   "cell_type": "markdown",
   "source": [
    "#### Pattern.fullmatch(string[, pos[, endpos]])\n",
    "- 当整个字符串都匹配成功，返回Match类的实例对象（该实例对象包含匹配相关的信息：起始和结束位置、匹配的子串等等），否则返回 None\n",
    "- string：要匹配的字符串\n",
    "- pos：匹配的起始位置，默认为0\n",
    "- endpos：匹配的结束位置，默认为字符串长度"
   ],
   "id": "325e05bd837272c1"
  },
  {
   "metadata": {
    "ExecuteTime": {
     "end_time": "2025-10-04T08:43:15.457087Z",
     "start_time": "2025-10-04T08:43:15.440277Z"
    }
   },
   "cell_type": "code",
   "source": [
    "m = p.fullmatch('wa8kabc6+abcd-43abcdja', pos=9)\n",
    "print(m)\n",
    "\n",
    "m = p.fullmatch('wa8kabc6+abcd-43abcdja', pos=9, endpos=13)\n",
    "print(m)"
   ],
   "id": "2788e998b8c0baa0",
   "outputs": [
    {
     "name": "stdout",
     "output_type": "stream",
     "text": [
      "None\n",
      "<re.Match object; span=(9, 13), match='abcd'>\n"
     ]
    }
   ],
   "execution_count": 61
  },
  {
   "metadata": {},
   "cell_type": "markdown",
   "source": [
    "#### Pattern.findall(string[, pos[, endpos]])\n",
    "- 对字符串从左往右扫描，找到所有不重复匹配，以列表的形式返回，如果有子组，那么只保留子组的捕获内容，如果子组多个（至少两个子组），则以元组形式构建列表，如果没有找到匹配的，则返回空列表\n",
    "- string：要匹配的字符串\n",
    "- pos：匹配的起始位置，默认为0\n",
    "- endpos：匹配的结束位置，默认为字符串长度"
   ],
   "id": "9aaebef206192ee1"
  },
  {
   "metadata": {
    "ExecuteTime": {
     "end_time": "2025-10-04T08:43:15.550532Z",
     "start_time": "2025-10-04T08:43:15.544552Z"
    }
   },
   "cell_type": "code",
   "source": "p.findall('wa8kabc6+abcd-43abcdja')",
   "id": "9f486a07c978ceb2",
   "outputs": [
    {
     "data": {
      "text/plain": [
       "['abcd', 'abcd']"
      ]
     },
     "execution_count": 62,
     "metadata": {},
     "output_type": "execute_result"
    }
   ],
   "execution_count": 62
  },
  {
   "metadata": {
    "ExecuteTime": {
     "end_time": "2025-10-04T08:43:15.614405Z",
     "start_time": "2025-10-04T08:43:15.600453Z"
    }
   },
   "cell_type": "code",
   "source": [
    "p = re.compile('aaa')\n",
    "p.findall('aaaaa')"
   ],
   "id": "a4a51e13dfdb3627",
   "outputs": [
    {
     "data": {
      "text/plain": [
       "['aaa']"
      ]
     },
     "execution_count": 63,
     "metadata": {},
     "output_type": "execute_result"
    }
   ],
   "execution_count": 63
  },
  {
   "metadata": {
    "ExecuteTime": {
     "end_time": "2025-10-04T08:43:15.720531Z",
     "start_time": "2025-10-04T08:43:15.702354Z"
    }
   },
   "cell_type": "code",
   "source": [
    "p = re.compile(r'\\\\\\\\')\n",
    "string = r'e\\g7\\\\10E\\\\\\H4'\n",
    "p.findall(string)"
   ],
   "id": "200ee3c37be45454",
   "outputs": [
    {
     "data": {
      "text/plain": [
       "['\\\\\\\\', '\\\\\\\\']"
      ]
     },
     "execution_count": 64,
     "metadata": {},
     "output_type": "execute_result"
    }
   ],
   "execution_count": 64
  },
  {
   "metadata": {
    "ExecuteTime": {
     "end_time": "2025-10-04T08:43:15.752281Z",
     "start_time": "2025-10-04T08:43:15.743472Z"
    }
   },
   "cell_type": "code",
   "source": [
    "p = re.compile(r'\\d')\n",
    "print(p.findall(\"Ten years ago, Three dogs\"))\n",
    "print(p.findall(\"10 years ago, 3 dogs\"))\n",
    "\n",
    "p = re.compile(r'\\d+-\\D')\n",
    "print(p.findall('101-years 8346 ago，3-dogs'))\n",
    "\n",
    "# 多个分组，返回元组列表\n",
    "p = re.compile(r'(\\d+)-(\\D)')\n",
    "print(p.findall(\"Ten-years ago, Three-dogs\"))\n",
    "print(p.findall(\"101-years ago, 3-dogs\"))"
   ],
   "id": "ca2241278c702e68",
   "outputs": [
    {
     "name": "stdout",
     "output_type": "stream",
     "text": [
      "[]\n",
      "['1', '0', '3']\n",
      "['101-y', '3-d']\n",
      "[]\n",
      "[('101', 'y'), ('3', 'd')]\n"
     ]
    }
   ],
   "execution_count": 65
  },
  {
   "metadata": {
    "ExecuteTime": {
     "end_time": "2025-10-04T08:43:15.860284Z",
     "start_time": "2025-10-04T08:43:15.842453Z"
    }
   },
   "cell_type": "code",
   "source": [
    "p = re.compile(r'(\\d+)(-)(\\D)')\n",
    "print(p.findall('101-years 8346 ago，3-dogs'))\n",
    "\n",
    "p = re.compile(r'(\\d)+-(\\D)')\n",
    "print(p.findall('101-years 8346-ago，3-dogs'))\n",
    "\n",
    "# 当捕获分组被重复时, 组号也重复了, 所以后面组的结果会把前面组的结果覆盖\n",
    "p = re.compile(r\"(\\d)(\\d){2}\")  # 等价于 (\\d)(\\d)(\\d)且后面两个组号都为2\n",
    "print(p.findall(\"1234567890\"))"
   ],
   "id": "3ebe6f1363220a23",
   "outputs": [
    {
     "name": "stdout",
     "output_type": "stream",
     "text": [
      "[('101', '-', 'y'), ('3', '-', 'd')]\n",
      "[('1', 'y'), ('6', 'a'), ('3', 'd')]\n",
      "[('1', '3'), ('4', '6'), ('7', '9')]\n"
     ]
    }
   ],
   "execution_count": 66
  },
  {
   "metadata": {},
   "cell_type": "markdown",
   "source": [
    "#### Pattern.split(string, maxsplit=0)\n",
    "- string：要匹配的字符串\n",
    "- maxsplit：最大分割次数，默认为 0，表示不限制次数\n",
    "- 按照匹配的子串将字符串分割，以列表形式返回\n",
    "- 如果有捕获分组，那么分组里匹配的内容也会包含在结果中"
   ],
   "id": "ea4a7f438d4a9c3"
  },
  {
   "metadata": {
    "ExecuteTime": {
     "end_time": "2025-10-04T08:43:15.876078Z",
     "start_time": "2025-10-04T08:43:15.873038Z"
    }
   },
   "cell_type": "code",
   "source": [
    "p = re.compile(r\"\\W+\")\n",
    "print(p.split('Words, words+-words.'))\n",
    "print(p.split('Words, words+-words.', 2))\n",
    "print('*' * 30)\n",
    "\n",
    "p = re.compile(r\"(\\W+)\")\n",
    "print(p.split('Words, words+-words.'))\n",
    "print(p.split('...Words, words+-words...'))\n",
    "print('*' * 30)\n",
    "\n",
    "p = re.compile(r\"(\\W)+\")\n",
    "print(p.split('Words, words+-words.'))"
   ],
   "id": "3537e23407fa2843",
   "outputs": [
    {
     "name": "stdout",
     "output_type": "stream",
     "text": [
      "['Words', 'words', 'words', '']\n",
      "['Words', 'words', 'words.']\n",
      "******************************\n",
      "['Words', ', ', 'words', '+-', 'words', '.', '']\n",
      "['', '...', 'Words', ', ', 'words', '+-', 'words', '...', '']\n",
      "******************************\n",
      "['Words', ' ', 'words', '-', 'words', '.', '']\n"
     ]
    }
   ],
   "execution_count": 67
  },
  {
   "metadata": {},
   "cell_type": "markdown",
   "source": [
    "#### Pattern.sub(repl, string, count=0)\n",
    "- repl：替换的字符串 或者 函数\n",
    "- string：要被匹配后替换的字符串\n",
    "- count：匹配后替换的最大次数，默认 0，表示替换所有的匹配"
   ],
   "id": "14c7fc6b76ed3075"
  },
  {
   "metadata": {
    "ExecuteTime": {
     "end_time": "2025-10-04T08:43:15.954045Z",
     "start_time": "2025-10-04T08:43:15.939341Z"
    }
   },
   "cell_type": "code",
   "source": [
    "p = re.compile(r'blue|white|red')\n",
    "\"\"\" 把每一个从左开始非重叠匹配的字符串用其他字符串替换 \"\"\"\n",
    "print(p.sub('colour', 'blue socks and red shoes'))\n",
    "print(p.sub('colour', 'blue socks and red shoes', count=1))\n",
    "\n",
    "\n",
    "def func(matchobj):\n",
    "    if matchobj.group() == '-':\n",
    "        return ' '\n",
    "    return '-'\n",
    "\n",
    "\n",
    "\"\"\" 把每一个从左开始非重叠匹配的对象作为参数传入函数调用这个函数只能有一个 匹配对象 参数, 并返回一个替换字符串 \"\"\"\n",
    "p = re.compile(r'-{1,2}')\n",
    "print(p.sub(func, 'pro----gram-files'))"
   ],
   "id": "4fa35f18e168d503",
   "outputs": [
    {
     "name": "stdout",
     "output_type": "stream",
     "text": [
      "colour socks and colour shoes\n",
      "colour socks and red shoes\n",
      "pro--gram files\n"
     ]
    }
   ],
   "execution_count": 68
  },
  {
   "metadata": {},
   "cell_type": "markdown",
   "source": "#### Match 实例对象支持以下方法：",
   "id": "fd994b6d02526b80"
  },
  {
   "metadata": {},
   "cell_type": "markdown",
   "source": [
    "#### Match.group(*groupN)\n",
    "- groupN：对应的组号，默认为 0，返回整个匹配结果\n",
    "- 返回一个或者多个子组的匹配结果，如果有多个参数，结果就是一个元组"
   ],
   "id": "5a588904d134fdb"
  },
  {
   "metadata": {
    "ExecuteTime": {
     "end_time": "2025-10-04T08:43:16.062351Z",
     "start_time": "2025-10-04T08:43:16.057172Z"
    }
   },
   "cell_type": "code",
   "source": [
    "p = re.compile(r\"b(.+)a(.+)e\")\n",
    "m = p.match(\"babacdefg\")\n",
    "print(m)\n",
    "print(m.group())\n",
    "print(m.group(0))\n",
    "print(m.group(1))\n",
    "print(m.group(2))\n",
    "print(m.group(2, 1, 0))"
   ],
   "id": "3f4806255cc5191a",
   "outputs": [
    {
     "name": "stdout",
     "output_type": "stream",
     "text": [
      "<re.Match object; span=(0, 7), match='babacde'>\n",
      "babacde\n",
      "babacde\n",
      "ab\n",
      "cd\n",
      "('cd', 'ab', 'babacde')\n"
     ]
    }
   ],
   "execution_count": 69
  },
  {
   "metadata": {},
   "cell_type": "markdown",
   "source": [
    "#### Match.start([group])\n",
    "- 返回对应 group 匹配开始的位置，group默认为 0\n",
    "#### Match.end([group])\n",
    "- 返回对应 group 匹配结束的位置，group默认为 0"
   ],
   "id": "7f6122e958d4a554"
  },
  {
   "metadata": {
    "ExecuteTime": {
     "end_time": "2025-10-04T08:43:16.155928Z",
     "start_time": "2025-10-04T08:43:16.147637Z"
    }
   },
   "cell_type": "code",
   "source": [
    "p = re.compile(r\"b(.+)a(.+)e\")\n",
    "m = p.match(\"babacdefg\")\n",
    "print(m)\n",
    "print(m.start(), m.end())\n",
    "print(m.start(1), m.end(1))\n",
    "print(m.start(2), m.end(2))"
   ],
   "id": "ef2ab25d2e1d0091",
   "outputs": [
    {
     "name": "stdout",
     "output_type": "stream",
     "text": [
      "<re.Match object; span=(0, 7), match='babacde'>\n",
      "0 7\n",
      "1 3\n",
      "4 6\n"
     ]
    }
   ],
   "execution_count": 70
  },
  {
   "metadata": {},
   "cell_type": "markdown",
   "source": [
    "#### Match.span([group])\n",
    "- 返回一个元组，包含 (Match.start([group]), Match.end([group]))，group默认为 0"
   ],
   "id": "2ac0db523cfe4f5b"
  },
  {
   "metadata": {
    "ExecuteTime": {
     "end_time": "2025-10-04T08:43:16.202634Z",
     "start_time": "2025-10-04T08:43:16.191784Z"
    }
   },
   "cell_type": "code",
   "source": [
    "p = re.compile(r\"b(.+)a(.+)e\")\n",
    "m = p.match(\"babacdefg\")\n",
    "print(m)\n",
    "print(m.span())\n",
    "print(m.span(0))\n",
    "print(m.span(1))\n",
    "print(m.span(2))"
   ],
   "id": "ee0831b9026db778",
   "outputs": [
    {
     "name": "stdout",
     "output_type": "stream",
     "text": [
      "<re.Match object; span=(0, 7), match='babacde'>\n",
      "(0, 7)\n",
      "(0, 7)\n",
      "(1, 3)\n",
      "(4, 6)\n"
     ]
    }
   ],
   "execution_count": 71
  },
  {
   "metadata": {},
   "cell_type": "markdown",
   "source": [
    "#### 模块级别函数\n",
    "- 如果你不想创建Pattern实例对象并调用其方法，也可以直接使用re模块提供的函数：\n",
    "- re.search(pattern, string, flags=0)\n",
    "- re.match(pattern, string, flags=0)\n",
    "- re.fullmatch(pattern, string, flags=0)\n",
    "- re.findall(pattern, string, flags=0)\n",
    "- re.split(pattern, string, maxsplit=0, flags=0)\n",
    "- re.sub(pattern, repl, string, count=0, flags=0)"
   ],
   "id": "ab4f78ffdaf028ee"
  },
  {
   "metadata": {},
   "cell_type": "markdown",
   "source": [
    "#### 编译模式\n",
    "- 编译标志可以修改正则表达式的一些匹配方式，它在 re 模块中有两个名称：全名 和 缩写。其中需要掌握的有："
   ],
   "id": "8bf9a52e08bb3fc1"
  },
  {
   "metadata": {},
   "cell_type": "markdown",
   "source": [
    "#### re.I / re.IGNORECASE\n",
    "- 进行忽略大小写匹配"
   ],
   "id": "a672b60614e3da9d"
  },
  {
   "metadata": {
    "ExecuteTime": {
     "end_time": "2025-10-04T08:43:16.310972Z",
     "start_time": "2025-10-04T08:43:16.305363Z"
    }
   },
   "cell_type": "code",
   "source": [
    "p = re.compile(r'[a-zA-Z]')\n",
    "print(p.findall('8`3_+]-.4t^[k\\GNfaLM'))\n",
    "\n",
    "p = re.compile(r'[a-z]', re.I)\n",
    "print(p.findall('8`3_+]-.4t^[k\\GNfaLM'))"
   ],
   "id": "e9244760f3cb6bcc",
   "outputs": [
    {
     "name": "stdout",
     "output_type": "stream",
     "text": [
      "['t', 'k', 'G', 'N', 'f', 'a', 'L', 'M']\n",
      "['t', 'k', 'G', 'N', 'f', 'a', 'L', 'M']\n"
     ]
    }
   ],
   "execution_count": 72
  },
  {
   "metadata": {
    "ExecuteTime": {
     "end_time": "2025-10-04T08:43:16.341263Z",
     "start_time": "2025-10-04T08:43:16.336538Z"
    }
   },
   "cell_type": "code",
   "source": [
    "p = re.compile(r\"[a-z]+\", flags=re.IGNORECASE)\n",
    "print(p.match(\"aAbBcC\"))"
   ],
   "id": "eb211bd841f4cc46",
   "outputs": [
    {
     "name": "stdout",
     "output_type": "stream",
     "text": [
      "<re.Match object; span=(0, 6), match='aAbBcC'>\n"
     ]
    }
   ],
   "execution_count": 73
  },
  {
   "metadata": {},
   "cell_type": "markdown",
   "source": [
    "#### re.M / re.MULTILINE\n",
    "- 多行匹配，影响 ^ 和 &#36;\n",
    "- 设置以后， ^ 匹配字符串的开始，和每一行的开始\n",
    "- &#36; 匹配字符串尾，和每一行的结尾"
   ],
   "id": "6c20086dd427b967"
  },
  {
   "metadata": {
    "ExecuteTime": {
     "end_time": "2025-10-04T08:43:16.496804Z",
     "start_time": "2025-10-04T08:43:16.482194Z"
    }
   },
   "cell_type": "code",
   "source": [
    "p = re.compile(r'^ab', re.M)\n",
    "string = 'abcd\\nabfabg'\n",
    "p.findall(string)"
   ],
   "id": "98698ca989e27f80",
   "outputs": [
    {
     "data": {
      "text/plain": [
       "['ab', 'ab']"
      ]
     },
     "execution_count": 74,
     "metadata": {},
     "output_type": "execute_result"
    }
   ],
   "execution_count": 74
  },
  {
   "metadata": {
    "ExecuteTime": {
     "end_time": "2025-10-04T08:43:16.543180Z",
     "start_time": "2025-10-04T08:43:16.534592Z"
    }
   },
   "cell_type": "code",
   "source": [
    "p = re.compile(r'^', re.M)\n",
    "string = 'abcd\\nabfabg\\n'\n",
    "p.findall(string)"
   ],
   "id": "7c2121dd0f6b0828",
   "outputs": [
    {
     "data": {
      "text/plain": [
       "['', '', '']"
      ]
     },
     "execution_count": 75,
     "metadata": {},
     "output_type": "execute_result"
    }
   ],
   "execution_count": 75
  },
  {
   "metadata": {
    "ExecuteTime": {
     "end_time": "2025-10-04T08:43:16.653322Z",
     "start_time": "2025-10-04T08:43:16.640375Z"
    }
   },
   "cell_type": "code",
   "source": [
    "p = re.compile(r'cd')\n",
    "string = 'acdbcd\\nefcd'\n",
    "p.findall(string)"
   ],
   "id": "1f5b85af84907000",
   "outputs": [
    {
     "data": {
      "text/plain": [
       "['cd', 'cd', 'cd']"
      ]
     },
     "execution_count": 76,
     "metadata": {},
     "output_type": "execute_result"
    }
   ],
   "execution_count": 76
  },
  {
   "metadata": {
    "ExecuteTime": {
     "end_time": "2025-10-04T08:43:16.701068Z",
     "start_time": "2025-10-04T08:43:16.693663Z"
    }
   },
   "cell_type": "code",
   "source": [
    "p = re.compile(r'cd$')\n",
    "string = 'acdbcd\\nefcd'\n",
    "p.findall(string)"
   ],
   "id": "76e3f83a96981f88",
   "outputs": [
    {
     "data": {
      "text/plain": [
       "['cd']"
      ]
     },
     "execution_count": 77,
     "metadata": {},
     "output_type": "execute_result"
    }
   ],
   "execution_count": 77
  },
  {
   "metadata": {
    "ExecuteTime": {
     "end_time": "2025-10-04T08:43:16.762175Z",
     "start_time": "2025-10-04T08:43:16.755892Z"
    }
   },
   "cell_type": "code",
   "source": [
    "p = re.compile(r'cd$', re.M)\n",
    "string = 'acdbcd\\nefcd'\n",
    "p.findall(string)"
   ],
   "id": "e881c2cc24eb4dee",
   "outputs": [
    {
     "data": {
      "text/plain": [
       "['cd', 'cd']"
      ]
     },
     "execution_count": 78,
     "metadata": {},
     "output_type": "execute_result"
    }
   ],
   "execution_count": 78
  },
  {
   "metadata": {
    "ExecuteTime": {
     "end_time": "2025-10-04T08:43:16.809727Z",
     "start_time": "2025-10-04T08:43:16.799851Z"
    }
   },
   "cell_type": "code",
   "source": [
    "p = re.compile(r'$', re.M)\n",
    "string = 'acdbcd\\nefcd\\n'\n",
    "p.findall(string)"
   ],
   "id": "769a5ef430f6f452",
   "outputs": [
    {
     "data": {
      "text/plain": [
       "['', '', '']"
      ]
     },
     "execution_count": 79,
     "metadata": {},
     "output_type": "execute_result"
    }
   ],
   "execution_count": 79
  },
  {
   "metadata": {
    "ExecuteTime": {
     "end_time": "2025-10-04T08:43:16.902583Z",
     "start_time": "2025-10-04T08:43:16.884583Z"
    }
   },
   "cell_type": "code",
   "source": [
    "p = re.compile(r\"^ab\", flags=re.MULTILINE)\n",
    "print(p.findall(\"abcd\\nabfg\"))\n",
    "p = re.compile(r\"cd$\", flags=re.MULTILINE)\n",
    "print(p.findall(\"abcd\\nefcd\"))"
   ],
   "id": "40c61c03dcf9e778",
   "outputs": [
    {
     "name": "stdout",
     "output_type": "stream",
     "text": [
      "['ab', 'ab']\n",
      "['cd', 'cd']\n"
     ]
    }
   ],
   "execution_count": 80
  },
  {
   "metadata": {},
   "cell_type": "markdown",
   "source": [
    "#### re.S / re.DOTALL\n",
    "- 使 . 匹配包括换行在内的所有字符，没有设置时 . 是不能匹配换行符的"
   ],
   "id": "d9228a444bf28078"
  },
  {
   "metadata": {
    "ExecuteTime": {
     "end_time": "2025-10-04T08:43:16.949003Z",
     "start_time": "2025-10-04T08:43:16.933196Z"
    }
   },
   "cell_type": "code",
   "source": [
    "p = re.compile(r'ab.c')\n",
    "string = 'ab c ab+c ab我c ab\\nc ab\\tc abkfc'\n",
    "p.findall(string)"
   ],
   "id": "3761b7b23f51343c",
   "outputs": [
    {
     "data": {
      "text/plain": [
       "['ab c', 'ab+c', 'ab我c', 'ab\\tc']"
      ]
     },
     "execution_count": 81,
     "metadata": {},
     "output_type": "execute_result"
    }
   ],
   "execution_count": 81
  },
  {
   "metadata": {
    "ExecuteTime": {
     "end_time": "2025-10-04T08:43:17.026327Z",
     "start_time": "2025-10-04T08:43:17.012195Z"
    }
   },
   "cell_type": "code",
   "source": [
    "p = re.compile(r'ab.c', flags=re.S)\n",
    "p = re.compile(r'ab.c', flags=re.DOTALL)\n",
    "string = 'ab c ab+c ab我c ab\\nc ab\\tc abkfc'\n",
    "p.findall(string)"
   ],
   "id": "48aaef8f3f21a8f6",
   "outputs": [
    {
     "data": {
      "text/plain": [
       "['ab c', 'ab+c', 'ab我c', 'ab\\nc', 'ab\\tc']"
      ]
     },
     "execution_count": 82,
     "metadata": {},
     "output_type": "execute_result"
    }
   ],
   "execution_count": 82
  },
  {
   "metadata": {
    "ExecuteTime": {
     "end_time": "2025-10-04T08:43:17.072544Z",
     "start_time": "2025-10-04T08:43:17.056731Z"
    }
   },
   "cell_type": "code",
   "source": [
    "p1 = re.compile(r\".\")\n",
    "p2 = re.compile(r\".\", flags=re.DOTALL)\n",
    "print(p1.search(\"\\nbc\"))\n",
    "print(p2.search(\"\\nbc\"))"
   ],
   "id": "ff5e9ae368c1da10",
   "outputs": [
    {
     "name": "stdout",
     "output_type": "stream",
     "text": [
      "<re.Match object; span=(1, 2), match='b'>\n",
      "<re.Match object; span=(0, 1), match='\\n'>\n"
     ]
    }
   ],
   "execution_count": 83
  }
 ],
 "metadata": {
  "kernelspec": {
   "display_name": "Python 3",
   "language": "python",
   "name": "python3"
  },
  "language_info": {
   "codemirror_mode": {
    "name": "ipython",
    "version": 2
   },
   "file_extension": ".py",
   "mimetype": "text/x-python",
   "name": "python",
   "nbconvert_exporter": "python",
   "pygments_lexer": "ipython2",
   "version": "2.7.6"
  }
 },
 "nbformat": 4,
 "nbformat_minor": 5
}
