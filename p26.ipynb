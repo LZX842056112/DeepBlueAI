{
 "cells": [
  {
   "cell_type": "code",
   "id": "initial_id",
   "metadata": {
    "collapsed": true,
    "ExecuteTime": {
     "end_time": "2025-09-14T13:07:38.130036Z",
     "start_time": "2025-09-14T13:07:38.113201Z"
    }
   },
   "source": [
    "import numpy as np\n",
    "import pandas as pd\n",
    "import matplotlib.pyplot as plt\n",
    "from numpy.random.tests import test_smoke as ts"
   ],
   "outputs": [],
   "execution_count": 10
  },
  {
   "metadata": {
    "ExecuteTime": {
     "end_time": "2025-09-14T13:07:38.752950Z",
     "start_time": "2025-09-14T13:07:38.744225Z"
    }
   },
   "cell_type": "code",
   "source": "print(plt.install_repl_displayhook)",
   "id": "b641e281de59d8e4",
   "outputs": [
    {
     "name": "stdout",
     "output_type": "stream",
     "text": [
      "<function install_repl_displayhook at 0x00000195B7EB50D0>\n"
     ]
    }
   ],
   "execution_count": 11
  },
  {
   "metadata": {
    "ExecuteTime": {
     "end_time": "2025-09-14T13:07:39.064998Z",
     "start_time": "2025-09-14T13:07:39.058900Z"
    }
   },
   "cell_type": "code",
   "source": "print(ts)",
   "id": "750c36522261d364",
   "outputs": [
    {
     "name": "stdout",
     "output_type": "stream",
     "text": [
      "<module 'numpy.random.tests.test_smoke' from 'C:\\\\MySoftware\\\\Anaconda3\\\\lib\\\\site-packages\\\\numpy\\\\random\\\\tests\\\\test_smoke.py'>\n"
     ]
    }
   ],
   "execution_count": 12
  },
  {
   "metadata": {
    "ExecuteTime": {
     "end_time": "2025-09-14T13:07:39.237102Z",
     "start_time": "2025-09-14T13:07:39.218452Z"
    }
   },
   "cell_type": "code",
   "source": [
    "import sys\n",
    "print(sys.path)"
   ],
   "id": "1f239472d42b6f58",
   "outputs": [
    {
     "name": "stdout",
     "output_type": "stream",
     "text": [
      "['C:\\\\MySoftware\\\\PyCharm 2024.1.5\\\\plugins\\\\python\\\\helpers-pro\\\\jupyter_debug', 'C:\\\\MySoftware\\\\PyCharm 2024.1.5\\\\plugins\\\\python\\\\helpers\\\\pydev', 'D:\\\\Projects\\\\DeepBule\\\\PythonFiles', 'D:\\\\Projects\\\\DeepBule\\\\PythonFiles', 'C:\\\\MySoftware\\\\Anaconda3\\\\python38.zip', 'C:\\\\MySoftware\\\\Anaconda3\\\\DLLs', 'C:\\\\MySoftware\\\\Anaconda3\\\\lib', 'C:\\\\MySoftware\\\\Anaconda3', '', 'C:\\\\MySoftware\\\\Anaconda3\\\\lib\\\\site-packages', 'C:\\\\MySoftware\\\\Anaconda3\\\\lib\\\\site-packages\\\\locket-0.2.1-py3.8.egg', 'C:\\\\MySoftware\\\\Anaconda3\\\\lib\\\\site-packages\\\\win32', 'C:\\\\MySoftware\\\\Anaconda3\\\\lib\\\\site-packages\\\\win32\\\\lib', 'C:\\\\MySoftware\\\\Anaconda3\\\\lib\\\\site-packages\\\\Pythonwin', 'C:\\\\MySoftware\\\\Anaconda3\\\\lib\\\\site-packages\\\\IPython\\\\extensions', 'C:\\\\Users\\\\lzx84\\\\.ipython']\n"
     ]
    }
   ],
   "execution_count": 13
  },
  {
   "metadata": {
    "ExecuteTime": {
     "end_time": "2025-09-14T13:07:39.408508Z",
     "start_time": "2025-09-14T13:07:39.396721Z"
    }
   },
   "cell_type": "code",
   "source": [
    "import os\n",
    "\n",
    "path2 = r'D:\\Projects\\DeepBule\\PythonFiles\\p261'\n",
    "path = os.getcwd()\n",
    "print(path)"
   ],
   "id": "9e15e72fdef800ae",
   "outputs": [
    {
     "name": "stdout",
     "output_type": "stream",
     "text": [
      "D:\\Projects\\DeepBule\\PythonFiles\n"
     ]
    }
   ],
   "execution_count": 14
  },
  {
   "metadata": {
    "ExecuteTime": {
     "end_time": "2025-09-14T13:07:39.625806Z",
     "start_time": "2025-09-14T13:07:39.621680Z"
    }
   },
   "cell_type": "code",
   "source": [
    "cwd = path\n",
    "print(os.listdir(cwd))"
   ],
   "id": "9135fe99a1743148",
   "outputs": [
    {
     "name": "stdout",
     "output_type": "stream",
     "text": [
      "['.git', '.idea', 'homework1', 'homework2', 'homework3', 'homework4', 'homework5', 'homework6', 'p00.py', 'p01.py', 'p02.py', 'p03.py', 'p03理解函数.py', 'p04.py', 'P05.py', 'p06.py', 'p07.py', 'p08.py', 'p09.py', 'p10.py', 'p11.py', 'p12.py', 'p13.py', 'p14.py', 'p15.py', 'p16.py', 'p17.py', 'p18.py', 'p19.py', 'p20.py', 'p21.py', 'p22_1.py', 'p22_2.py', 'p23_1.py', 'p23_2.py', 'P23_3.py', 'p23面向对象编程.png', 'p23面向对象编程.py', 'p24.ipynb', 'p26.ipynb', 'p261', '__pycache__']\n"
     ]
    }
   ],
   "execution_count": 15
  },
  {
   "metadata": {
    "ExecuteTime": {
     "end_time": "2025-09-14T13:07:39.858124Z",
     "start_time": "2025-09-14T13:07:39.845889Z"
    }
   },
   "cell_type": "code",
   "source": "print(os.listdir(path2))",
   "id": "2afb7b50d51b4f7e",
   "outputs": [
    {
     "name": "stdout",
     "output_type": "stream",
     "text": [
      "['p26.py', 'p262', '__pycache__']\n"
     ]
    }
   ],
   "execution_count": 16
  },
  {
   "metadata": {
    "ExecuteTime": {
     "end_time": "2025-09-14T13:07:39.983349Z",
     "start_time": "2025-09-14T13:07:39.960137Z"
    }
   },
   "cell_type": "code",
   "source": "os.makedirs('p261', exist_ok=False)",
   "id": "dedddbc821c7f319",
   "outputs": [
    {
     "ename": "FileExistsError",
     "evalue": "[WinError 183] 当文件已存在时，无法创建该文件。: 'p261'",
     "output_type": "error",
     "traceback": [
      "\u001B[1;31m---------------------------------------------------------------------------\u001B[0m",
      "\u001B[1;31mFileExistsError\u001B[0m                           Traceback (most recent call last)",
      "\u001B[1;32m<ipython-input-17-2d470eb4b073>\u001B[0m in \u001B[0;36m<module>\u001B[1;34m\u001B[0m\n\u001B[1;32m----> 1\u001B[1;33m \u001B[0mos\u001B[0m\u001B[1;33m.\u001B[0m\u001B[0mmakedirs\u001B[0m\u001B[1;33m(\u001B[0m\u001B[1;34m'p261'\u001B[0m\u001B[1;33m,\u001B[0m \u001B[0mexist_ok\u001B[0m\u001B[1;33m=\u001B[0m\u001B[1;32mFalse\u001B[0m\u001B[1;33m)\u001B[0m\u001B[1;33m\u001B[0m\u001B[1;33m\u001B[0m\u001B[0m\n\u001B[0m",
      "\u001B[1;32mC:\\MySoftware\\Anaconda3\\lib\\os.py\u001B[0m in \u001B[0;36mmakedirs\u001B[1;34m(name, mode, exist_ok)\u001B[0m\n\u001B[0;32m    221\u001B[0m             \u001B[1;32mreturn\u001B[0m\u001B[1;33m\u001B[0m\u001B[1;33m\u001B[0m\u001B[0m\n\u001B[0;32m    222\u001B[0m     \u001B[1;32mtry\u001B[0m\u001B[1;33m:\u001B[0m\u001B[1;33m\u001B[0m\u001B[1;33m\u001B[0m\u001B[0m\n\u001B[1;32m--> 223\u001B[1;33m         \u001B[0mmkdir\u001B[0m\u001B[1;33m(\u001B[0m\u001B[0mname\u001B[0m\u001B[1;33m,\u001B[0m \u001B[0mmode\u001B[0m\u001B[1;33m)\u001B[0m\u001B[1;33m\u001B[0m\u001B[1;33m\u001B[0m\u001B[0m\n\u001B[0m\u001B[0;32m    224\u001B[0m     \u001B[1;32mexcept\u001B[0m \u001B[0mOSError\u001B[0m\u001B[1;33m:\u001B[0m\u001B[1;33m\u001B[0m\u001B[1;33m\u001B[0m\u001B[0m\n\u001B[0;32m    225\u001B[0m         \u001B[1;31m# Cannot rely on checking for EEXIST, since the operating system\u001B[0m\u001B[1;33m\u001B[0m\u001B[1;33m\u001B[0m\u001B[1;33m\u001B[0m\u001B[0m\n",
      "\u001B[1;31mFileExistsError\u001B[0m: [WinError 183] 当文件已存在时，无法创建该文件。: 'p261'"
     ]
    }
   ],
   "execution_count": 17
  },
  {
   "metadata": {
    "ExecuteTime": {
     "end_time": "2025-09-14T13:07:40.167481Z",
     "start_time": "2025-09-14T13:07:40.160982Z"
    }
   },
   "cell_type": "code",
   "source": "os.path.basename(path)",
   "id": "86076f346b9b86dd",
   "outputs": [
    {
     "data": {
      "text/plain": [
       "'PythonFiles'"
      ]
     },
     "execution_count": 18,
     "metadata": {},
     "output_type": "execute_result"
    }
   ],
   "execution_count": 18
  },
  {
   "metadata": {
    "ExecuteTime": {
     "end_time": "2025-09-14T13:07:40.354581Z",
     "start_time": "2025-09-14T13:07:40.341620Z"
    }
   },
   "cell_type": "code",
   "source": "os.path.basename(path2)",
   "id": "779eb0bfc4dea493",
   "outputs": [
    {
     "data": {
      "text/plain": [
       "'p261'"
      ]
     },
     "execution_count": 19,
     "metadata": {},
     "output_type": "execute_result"
    }
   ],
   "execution_count": 19
  },
  {
   "metadata": {
    "ExecuteTime": {
     "end_time": "2025-09-14T13:07:40.603608Z",
     "start_time": "2025-09-14T13:07:40.589647Z"
    }
   },
   "cell_type": "code",
   "source": "os.path.dirname(path)",
   "id": "2e0e30be0803d188",
   "outputs": [
    {
     "data": {
      "text/plain": [
       "'D:\\\\Projects\\\\DeepBule'"
      ]
     },
     "execution_count": 20,
     "metadata": {},
     "output_type": "execute_result"
    }
   ],
   "execution_count": 20
  },
  {
   "metadata": {
    "ExecuteTime": {
     "end_time": "2025-09-14T13:07:40.834163Z",
     "start_time": "2025-09-14T13:07:40.815844Z"
    }
   },
   "cell_type": "code",
   "source": "os.path.dirname(path2)",
   "id": "9d4e9f53015edf33",
   "outputs": [
    {
     "data": {
      "text/plain": [
       "'D:\\\\Projects\\\\DeepBule\\\\PythonFiles'"
      ]
     },
     "execution_count": 21,
     "metadata": {},
     "output_type": "execute_result"
    }
   ],
   "execution_count": 21
  },
  {
   "metadata": {
    "ExecuteTime": {
     "end_time": "2025-09-14T13:07:41.254433Z",
     "start_time": "2025-09-14T13:07:41.240732Z"
    }
   },
   "cell_type": "code",
   "source": "os.path.split(path)",
   "id": "ef7df69c6e180dd8",
   "outputs": [
    {
     "data": {
      "text/plain": [
       "('D:\\\\Projects\\\\DeepBule', 'PythonFiles')"
      ]
     },
     "execution_count": 22,
     "metadata": {},
     "output_type": "execute_result"
    }
   ],
   "execution_count": 22
  },
  {
   "metadata": {
    "ExecuteTime": {
     "end_time": "2025-09-14T13:07:41.409351Z",
     "start_time": "2025-09-14T13:07:41.401314Z"
    }
   },
   "cell_type": "code",
   "source": "os.path.splitext(path)",
   "id": "d4c4a18157ad3a05",
   "outputs": [
    {
     "data": {
      "text/plain": [
       "('D:\\\\Projects\\\\DeepBule\\\\PythonFiles', '')"
      ]
     },
     "execution_count": 23,
     "metadata": {},
     "output_type": "execute_result"
    }
   ],
   "execution_count": 23
  },
  {
   "metadata": {
    "ExecuteTime": {
     "end_time": "2025-09-14T13:07:41.562227Z",
     "start_time": "2025-09-14T13:07:41.555076Z"
    }
   },
   "cell_type": "code",
   "source": "os.path.split(path2)",
   "id": "e247e481ac813d51",
   "outputs": [
    {
     "data": {
      "text/plain": [
       "('D:\\\\Projects\\\\DeepBule\\\\PythonFiles', 'p261')"
      ]
     },
     "execution_count": 24,
     "metadata": {},
     "output_type": "execute_result"
    }
   ],
   "execution_count": 24
  },
  {
   "metadata": {
    "ExecuteTime": {
     "end_time": "2025-09-14T13:07:41.730109Z",
     "start_time": "2025-09-14T13:07:41.716896Z"
    }
   },
   "cell_type": "code",
   "source": "os.path.splitext(path2)",
   "id": "405bae40c22ff795",
   "outputs": [
    {
     "data": {
      "text/plain": [
       "('D:\\\\Projects\\\\DeepBule\\\\PythonFiles\\\\p261', '')"
      ]
     },
     "execution_count": 25,
     "metadata": {},
     "output_type": "execute_result"
    }
   ],
   "execution_count": 25
  },
  {
   "metadata": {
    "ExecuteTime": {
     "end_time": "2025-09-14T13:07:42.086514Z",
     "start_time": "2025-09-14T13:07:42.074843Z"
    }
   },
   "cell_type": "code",
   "source": "os.path.exists(path)",
   "id": "2b26db3ea08cabd4",
   "outputs": [
    {
     "data": {
      "text/plain": [
       "True"
      ]
     },
     "execution_count": 26,
     "metadata": {},
     "output_type": "execute_result"
    }
   ],
   "execution_count": 26
  },
  {
   "metadata": {
    "ExecuteTime": {
     "end_time": "2025-09-14T13:07:42.272193Z",
     "start_time": "2025-09-14T13:07:42.254445Z"
    }
   },
   "cell_type": "code",
   "source": "os.path.isfile(path)",
   "id": "441005276da3de2c",
   "outputs": [
    {
     "data": {
      "text/plain": [
       "False"
      ]
     },
     "execution_count": 27,
     "metadata": {},
     "output_type": "execute_result"
    }
   ],
   "execution_count": 27
  },
  {
   "metadata": {
    "ExecuteTime": {
     "end_time": "2025-09-14T13:07:42.708622Z",
     "start_time": "2025-09-14T13:07:42.703761Z"
    }
   },
   "cell_type": "code",
   "source": "os.path.isdir(path)",
   "id": "43bf2537a24bd774",
   "outputs": [
    {
     "data": {
      "text/plain": [
       "True"
      ]
     },
     "execution_count": 28,
     "metadata": {},
     "output_type": "execute_result"
    }
   ],
   "execution_count": 28
  },
  {
   "metadata": {
    "ExecuteTime": {
     "end_time": "2025-09-14T13:07:42.911649Z",
     "start_time": "2025-09-14T13:07:42.904096Z"
    }
   },
   "cell_type": "code",
   "source": "os.path.isfile(r'D:\\Projects\\DeepBule\\PythonFiles\\p261\\p26.py')",
   "id": "9b80e663b5c709c6",
   "outputs": [
    {
     "data": {
      "text/plain": [
       "True"
      ]
     },
     "execution_count": 29,
     "metadata": {},
     "output_type": "execute_result"
    }
   ],
   "execution_count": 29
  },
  {
   "metadata": {
    "ExecuteTime": {
     "end_time": "2025-09-14T13:07:43.406438Z",
     "start_time": "2025-09-14T13:07:43.399990Z"
    }
   },
   "cell_type": "code",
   "source": "os.path.isdir(r'D:\\Projects\\DeepBule\\PythonFiles\\p261\\p26.py')",
   "id": "d9961d510a5c54b8",
   "outputs": [
    {
     "data": {
      "text/plain": [
       "False"
      ]
     },
     "execution_count": 30,
     "metadata": {},
     "output_type": "execute_result"
    }
   ],
   "execution_count": 30
  },
  {
   "metadata": {
    "ExecuteTime": {
     "end_time": "2025-09-14T13:10:02.283444Z",
     "start_time": "2025-09-14T13:10:02.273223Z"
    }
   },
   "cell_type": "code",
   "source": [
    "p1 = 'D:\\\\Projects\\\\DeepBule\\\\PythonFiles\\\\'\n",
    "p2 = r'p261'\n",
    "p3 = 'p26.py'\n",
    "\n",
    "os.path.join(p1, p2, p3)"
   ],
   "id": "61688955e1aba381",
   "outputs": [
    {
     "data": {
      "text/plain": [
       "'D:\\\\Projects\\\\DeepBule\\\\PythonFiles\\\\p261\\\\p26.py'"
      ]
     },
     "execution_count": 36,
     "metadata": {},
     "output_type": "execute_result"
    }
   ],
   "execution_count": 36
  },
  {
   "metadata": {},
   "cell_type": "code",
   "outputs": [],
   "execution_count": null,
   "source": "",
   "id": "5599e6e1b9610710"
  }
 ],
 "metadata": {
  "kernelspec": {
   "display_name": "Python 3",
   "language": "python",
   "name": "python3"
  },
  "language_info": {
   "codemirror_mode": {
    "name": "ipython",
    "version": 2
   },
   "file_extension": ".py",
   "mimetype": "text/x-python",
   "name": "python",
   "nbconvert_exporter": "python",
   "pygments_lexer": "ipython2",
   "version": "2.7.6"
  }
 },
 "nbformat": 4,
 "nbformat_minor": 5
}
