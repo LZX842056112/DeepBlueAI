{
 "cells": [
  {
   "metadata": {},
   "cell_type": "markdown",
   "source": [
    "#### 字典（Dictionary）\n",
    "- 特性：可变，不是序列\n",
    "- 字典用花括号定义，每个元素都是键值对的形式 key: value\n",
    "- 字典的键不能存在可变的数据；值没有限制。\n",
    "- 字典的键如果重复，会自动去重，保留第一个重复键，并且其它重复的键对应的值还会对第一个重复键对应的值进行修改；值可以重复。\n",
    "- 当字典作为一个iterable对象参与操作时，只有键参与迭代。"
   ],
   "id": "6cc67ec496619a81"
  },
  {
   "metadata": {},
   "cell_type": "markdown",
   "source": [
    "#### 创建字典的多种方式\n",
    "- ① 直接在空字典里面写键值对"
   ],
   "id": "322776c89bcf23b2"
  },
  {
   "cell_type": "code",
   "id": "initial_id",
   "metadata": {
    "collapsed": true,
    "ExecuteTime": {
     "end_time": "2025-09-30T08:05:53.524641Z",
     "start_time": "2025-09-30T08:05:53.520214Z"
    }
   },
   "source": [
    "d = {'name': 'Tom', 'age': 28, True: [12]}\n",
    "print(d)\n",
    "print(len(d))"
   ],
   "outputs": [
    {
     "name": "stdout",
     "output_type": "stream",
     "text": [
      "{'name': 'Tom', 'age': 28, True: [12]}\n",
      "3\n"
     ]
    }
   ],
   "execution_count": 1
  },
  {
   "metadata": {},
   "cell_type": "markdown",
   "source": "- ② 定义一个空字典，再往里面添加键值对",
   "id": "3856c3a598abbeca"
  },
  {
   "metadata": {
    "ExecuteTime": {
     "end_time": "2025-09-30T08:05:53.539826Z",
     "start_time": "2025-09-30T08:05:53.524641Z"
    }
   },
   "cell_type": "code",
   "source": [
    "d = {}\n",
    "print(d)\n",
    "d['name'] = 'Tom'\n",
    "d['age'] = 28\n",
    "d[12.5] = 13\n",
    "print(d)"
   ],
   "id": "198d8f94faad2cef",
   "outputs": [
    {
     "name": "stdout",
     "output_type": "stream",
     "text": [
      "{}\n",
      "{'name': 'Tom', 'age': 28, 12.5: 13}\n"
     ]
    }
   ],
   "execution_count": 2
  },
  {
   "metadata": {},
   "cell_type": "markdown",
   "source": "- ③ 把键值对作为关键字参数传入",
   "id": "fe374fa46889a406"
  },
  {
   "metadata": {
    "ExecuteTime": {
     "end_time": "2025-09-30T08:05:53.555557Z",
     "start_time": "2025-09-30T08:05:53.541326Z"
    }
   },
   "cell_type": "code",
   "source": [
    "d = dict(name='Tom', age=28)\n",
    "print(d)"
   ],
   "id": "447cc83ce5e472aa",
   "outputs": [
    {
     "name": "stdout",
     "output_type": "stream",
     "text": [
      "{'name': 'Tom', 'age': 28}\n"
     ]
    }
   ],
   "execution_count": 3
  },
  {
   "metadata": {},
   "cell_type": "markdown",
   "source": "- ④ 用可迭代对象来构建字典",
   "id": "79e71be7e1e01e04"
  },
  {
   "metadata": {
    "ExecuteTime": {
     "end_time": "2025-09-30T08:05:53.570616Z",
     "start_time": "2025-09-30T08:05:53.556687Z"
    }
   },
   "cell_type": "code",
   "source": [
    "print(dict(['ab', 'cd', 'ef']))\n",
    "d = dict(name='Tom', age=28)\n",
    "print(d)"
   ],
   "id": "40206b14be4f0d9c",
   "outputs": [
    {
     "name": "stdout",
     "output_type": "stream",
     "text": [
      "{'a': 'b', 'c': 'd', 'e': 'f'}\n",
      "{'name': 'Tom', 'age': 28}\n"
     ]
    }
   ],
   "execution_count": 4
  },
  {
   "metadata": {
    "ExecuteTime": {
     "end_time": "2025-09-30T08:05:53.586270Z",
     "start_time": "2025-09-30T08:05:53.570616Z"
    }
   },
   "cell_type": "code",
   "source": [
    "d = dict([('name', 'Tom'), ('age', 28), (12.3, 14), (12.3, 18)])\n",
    "print(d)"
   ],
   "id": "576497ca25db1304",
   "outputs": [
    {
     "name": "stdout",
     "output_type": "stream",
     "text": [
      "{'name': 'Tom', 'age': 28, 12.3: 18}\n"
     ]
    }
   ],
   "execution_count": 5
  },
  {
   "metadata": {},
   "cell_type": "markdown",
   "source": "- ⑤ 用映射结构来构建字典",
   "id": "37fd56ea607b225b"
  },
  {
   "metadata": {
    "ExecuteTime": {
     "end_time": "2025-09-30T08:05:53.601769Z",
     "start_time": "2025-09-30T08:05:53.586270Z"
    }
   },
   "cell_type": "code",
   "source": [
    "d = dict(zip(['name', 'age'], ['Tom', 28]))\n",
    "print(d)"
   ],
   "id": "44710b85b8d6eef4",
   "outputs": [
    {
     "name": "stdout",
     "output_type": "stream",
     "text": [
      "{'name': 'Tom', 'age': 28}\n"
     ]
    }
   ],
   "execution_count": 6
  },
  {
   "metadata": {},
   "cell_type": "markdown",
   "source": [
    "#### dict(**kwargs) / dict(mapping) / dict(iterable)\n",
    "- 用于创建一个字典并返回"
   ],
   "id": "ea68e33cb85da531"
  },
  {
   "metadata": {
    "ExecuteTime": {
     "end_time": "2025-09-30T08:05:53.616652Z",
     "start_time": "2025-09-30T08:05:53.601769Z"
    }
   },
   "cell_type": "code",
   "source": [
    "print(dict())\n",
    "print(dict(one=1, two=2, three=3))\n",
    "print(dict(zip(['one', 'two', 'three'], [1, 2, 3])))\n",
    "print(dict([('one', 1), ('two', 2), ('three', 3)]))"
   ],
   "id": "f6427ed9ce3f779c",
   "outputs": [
    {
     "name": "stdout",
     "output_type": "stream",
     "text": [
      "{}\n",
      "{'one': 1, 'two': 2, 'three': 3}\n",
      "{'one': 1, 'two': 2, 'three': 3}\n",
      "{'one': 1, 'two': 2, 'three': 3}\n"
     ]
    }
   ],
   "execution_count": 7
  },
  {
   "metadata": {},
   "cell_type": "markdown",
   "source": [
    "#### zip(*iterables)\n",
    "- 返回一个迭代器，在迭代操作时，其中的第 i 个元组包含来自每个可迭代对象的第 i 个元素\n",
    "- 当所输入可迭代对象中最短的一个被耗尽时，迭代器将停止迭代\n",
    "- 不带参数时，它将返回一个空迭代器"
   ],
   "id": "b60b0238139d4ce4"
  },
  {
   "metadata": {
    "ExecuteTime": {
     "end_time": "2025-09-30T08:05:53.632471Z",
     "start_time": "2025-09-30T08:05:53.617112Z"
    }
   },
   "cell_type": "code",
   "source": [
    "# 迭代器一定是iterable\n",
    "# 迭代器如果耗尽, 则无法继续迭代\n",
    "res = zip('abcd', [1, 2, 3, 4, 5], (9, 8, 7))\n",
    "print(res)\n",
    "print(list(res))\n",
    "print(tuple(res))\n",
    "\n",
    "res = zip('abcd', [1, 2, 3, 4, 5], (9, 8, 7))\n",
    "print(tuple(res))\n",
    "\n",
    "res = zip('abcd', [1, 2, 3, 4, 5], (9, 8, 7))\n",
    "# next(iterator) 内置函数, 返回迭代器的下一个元素\n",
    "print(next(res))\n",
    "print(next(res))\n",
    "print(next(res))\n",
    "\n",
    "res = zip('abcd')\n",
    "print(list(res))\n",
    "\n",
    "res = zip()\n",
    "print(list(res))"
   ],
   "id": "b85e9346bb4a0ac8",
   "outputs": [
    {
     "name": "stdout",
     "output_type": "stream",
     "text": [
      "<zip object at 0x000001B2CF3C9E80>\n",
      "[('a', 1, 9), ('b', 2, 8), ('c', 3, 7)]\n",
      "()\n",
      "(('a', 1, 9), ('b', 2, 8), ('c', 3, 7))\n",
      "('a', 1, 9)\n",
      "('b', 2, 8)\n",
      "('c', 3, 7)\n",
      "[('a',), ('b',), ('c',), ('d',)]\n",
      "[]\n"
     ]
    }
   ],
   "execution_count": 8
  },
  {
   "metadata": {},
   "cell_type": "markdown",
   "source": "#### 访问和修改字典",
   "id": "e712819e8a37075"
  },
  {
   "metadata": {},
   "cell_type": "markdown",
   "source": "#### 访问字典的值",
   "id": "e506ae84b15a4c03"
  },
  {
   "metadata": {
    "ExecuteTime": {
     "end_time": "2025-09-30T08:05:53.648651Z",
     "start_time": "2025-09-30T08:05:53.633796Z"
    }
   },
   "cell_type": "code",
   "source": [
    "d = {'name': 'Tom', 'age': 28, 12.3: 18}\n",
    "print(d['name'])\n",
    "print(d[12.3])\n",
    "print(d.get(12.3))\n",
    "# 如果指定的键不存在, 则报错\n",
    "# KeyError: 'Gender'\n",
    "# d['Gender']"
   ],
   "id": "61aac8c001115cee",
   "outputs": [
    {
     "name": "stdout",
     "output_type": "stream",
     "text": [
      "Tom\n",
      "18\n",
      "18\n"
     ]
    }
   ],
   "execution_count": 9
  },
  {
   "metadata": {},
   "cell_type": "markdown",
   "source": "#### 修改字典",
   "id": "ab5001a5836a741"
  },
  {
   "metadata": {
    "ExecuteTime": {
     "end_time": "2025-09-30T08:05:53.664115Z",
     "start_time": "2025-09-30T08:05:53.649806Z"
    }
   },
   "cell_type": "code",
   "source": [
    "d = {'Name': 'Tom', 'Age': 7, 'Class': 'First'}\n",
    "# 修改指定键所对应的值\n",
    "d['Name'] = 'Tony'\n",
    "d['Age'] = 8\n",
    "print(d)\n",
    "# 如果指定的键不存在, 则新增该键值对\n",
    "d['Gender'] = 'male'\n",
    "print(d)"
   ],
   "id": "a2d25f401e9f0f72",
   "outputs": [
    {
     "name": "stdout",
     "output_type": "stream",
     "text": [
      "{'Name': 'Tony', 'Age': 8, 'Class': 'First'}\n",
      "{'Name': 'Tony', 'Age': 8, 'Class': 'First', 'Gender': 'male'}\n"
     ]
    }
   ],
   "execution_count": 10
  },
  {
   "metadata": {
    "ExecuteTime": {
     "end_time": "2025-09-30T08:05:53.679054Z",
     "start_time": "2025-09-30T08:05:53.665203Z"
    }
   },
   "cell_type": "code",
   "source": [
    "print('🐉'.join(d))\n",
    "\n",
    "st = [1, 2]\n",
    "print(st)\n",
    "\n",
    "st.extend(d)\n",
    "print(st)\n",
    "print(d)"
   ],
   "id": "42de727c0109fcda",
   "outputs": [
    {
     "name": "stdout",
     "output_type": "stream",
     "text": [
      "Name🐉Age🐉Class🐉Gender\n",
      "[1, 2]\n",
      "[1, 2, 'Name', 'Age', 'Class', 'Gender']\n",
      "{'Name': 'Tony', 'Age': 8, 'Class': 'First', 'Gender': 'male'}\n"
     ]
    }
   ],
   "execution_count": 11
  },
  {
   "metadata": {},
   "cell_type": "markdown",
   "source": "#### 字典方法",
   "id": "ed8780f720029c90"
  },
  {
   "metadata": {},
   "cell_type": "markdown",
   "source": [
    "#### dict.keys()\n",
    "- 返回由字典所有键组成的一个新视图\n",
    "- 返回的对象是视图对象，这意味着当原字典改变时，视图也会相应改变"
   ],
   "id": "8824bb9f74fad7ae"
  },
  {
   "metadata": {
    "ExecuteTime": {
     "end_time": "2025-09-30T08:05:53.694281Z",
     "start_time": "2025-09-30T08:05:53.680516Z"
    }
   },
   "cell_type": "code",
   "source": [
    "d = {'name': 'Tom', 'age': 15, 'height': 162}\n",
    "view_keys = d.keys()\n",
    "print(view_keys)\n",
    "# 修改字典\n",
    "d['weight'] = 59\n",
    "print(view_keys)\n",
    "print(list(view_keys))"
   ],
   "id": "43d9e3927e65d8c1",
   "outputs": [
    {
     "name": "stdout",
     "output_type": "stream",
     "text": [
      "dict_keys(['name', 'age', 'height'])\n",
      "dict_keys(['name', 'age', 'height', 'weight'])\n",
      "['name', 'age', 'height', 'weight']\n"
     ]
    }
   ],
   "execution_count": 12
  },
  {
   "metadata": {},
   "cell_type": "markdown",
   "source": [
    "#### dict.values()\n",
    "- 返回由字典所有值组成的一个新视图\n",
    "- 返回的对象是视图对象，这意味着当字典改变时，视图也会相应改变"
   ],
   "id": "c1388e7255ef1cb"
  },
  {
   "metadata": {
    "ExecuteTime": {
     "end_time": "2025-09-30T08:05:53.710386Z",
     "start_time": "2025-09-30T08:05:53.695284Z"
    }
   },
   "cell_type": "code",
   "source": [
    "d = {'name': 'Tom', 'age': 15, 'height': 162}\n",
    "view_values = d.values()\n",
    "print(view_values)\n",
    "# 修改字典\n",
    "d['weight'] = 59\n",
    "print(view_values)\n",
    "print(list(view_values))"
   ],
   "id": "653727301c50757f",
   "outputs": [
    {
     "name": "stdout",
     "output_type": "stream",
     "text": [
      "dict_values(['Tom', 15, 162])\n",
      "dict_values(['Tom', 15, 162, 59])\n",
      "['Tom', 15, 162, 59]\n"
     ]
    }
   ],
   "execution_count": 13
  },
  {
   "metadata": {},
   "cell_type": "markdown",
   "source": [
    "#### dict.items()\n",
    "- 返回由字典所有键和值组成的一个新视图\n",
    "- 返回的对象是视图对象，这意味着当字典改变时，视图也会相应改变"
   ],
   "id": "25b12416ff3cd40e"
  },
  {
   "metadata": {
    "ExecuteTime": {
     "end_time": "2025-09-30T08:05:53.725831Z",
     "start_time": "2025-09-30T08:05:53.711383Z"
    }
   },
   "cell_type": "code",
   "source": [
    "d = {'name': 'Tom', 'age': 15, 'height': 162}\n",
    "view_items = d.items()\n",
    "print(view_items)\n",
    "# 修改字典\n",
    "d['weight'] = 59\n",
    "print(view_items)"
   ],
   "id": "49452393ba51161",
   "outputs": [
    {
     "name": "stdout",
     "output_type": "stream",
     "text": [
      "dict_items([('name', 'Tom'), ('age', 15), ('height', 162)])\n",
      "dict_items([('name', 'Tom'), ('age', 15), ('height', 162), ('weight', 59)])\n"
     ]
    }
   ],
   "execution_count": 14
  },
  {
   "metadata": {},
   "cell_type": "markdown",
   "source": [
    "#### dict.get(key, default=None)\n",
    "- key：键\n",
    "- default：如果指定的键不存在时，返回该值，默认为 None\n",
    "- 返回指定的键对应的值，如果 key 不在字典中，则返回default"
   ],
   "id": "4a625bfd448164c4"
  },
  {
   "metadata": {
    "ExecuteTime": {
     "end_time": "2025-09-30T08:05:53.741224Z",
     "start_time": "2025-09-30T08:05:53.725831Z"
    }
   },
   "cell_type": "code",
   "source": [
    "d = {'name': 'Tom', 'age': 15, 'height': 162}\n",
    "print(d.get('age'))\n",
    "print(d.get('weight'))\n",
    "print(d.get('weight', '该键不存在'))"
   ],
   "id": "a1a66e8450fe7079",
   "outputs": [
    {
     "name": "stdout",
     "output_type": "stream",
     "text": [
      "15\n",
      "None\n",
      "该键不存在\n"
     ]
    }
   ],
   "execution_count": 15
  },
  {
   "metadata": {},
   "cell_type": "markdown",
   "source": [
    "#### dict.update([other])\n",
    "- 用 other 来更新原字典，没有返回值\n",
    "- other 可以像 dict() 那样传参"
   ],
   "id": "c6b6564e56d5432a"
  },
  {
   "metadata": {
    "ExecuteTime": {
     "end_time": "2025-09-30T08:05:53.757310Z",
     "start_time": "2025-09-30T08:05:53.741224Z"
    }
   },
   "cell_type": "code",
   "source": [
    "d = {'name': 'Tom', 'age': 15, 'height': 162}\n",
    "d.update(age=18, weight=59)\n",
    "d.update({'age': 18, 'weight': 59})\n",
    "d.update(zip(['age', 'weight'], [18, 59]))\n",
    "d.update([('age', 18), ('weight', 59)])\n",
    "print(d)\n",
    "\n",
    "d.update()\n",
    "print(d)"
   ],
   "id": "39604627a2319ebc",
   "outputs": [
    {
     "name": "stdout",
     "output_type": "stream",
     "text": [
      "{'name': 'Tom', 'age': 18, 'height': 162, 'weight': 59}\n",
      "{'name': 'Tom', 'age': 18, 'height': 162, 'weight': 59}\n"
     ]
    }
   ],
   "execution_count": 16
  },
  {
   "metadata": {},
   "cell_type": "markdown",
   "source": [
    "#### dict.pop(key[, default])\n",
    "- key：键\n",
    "- default：指定当键不存在时应该返回的值\n",
    "- 移除 key 所对应的键值对，并返回 key 对应的值；如果 key不在字典中，则返回 default 指定的值，此时如果 default 未指定值，则报错"
   ],
   "id": "2fc5025b438d0fd6"
  },
  {
   "metadata": {
    "ExecuteTime": {
     "end_time": "2025-09-30T08:05:53.772824Z",
     "start_time": "2025-09-30T08:05:53.758577Z"
    }
   },
   "cell_type": "code",
   "source": [
    "d = {'name': 'Tom', 'age': 15, 'height': 162}\n",
    "print(d.pop('height'))\n",
    "print(d)\n",
    "print(d.pop('weight', None))\n",
    "print(d.pop('weight', '132'))"
   ],
   "id": "71ba1ab98a424e16",
   "outputs": [
    {
     "name": "stdout",
     "output_type": "stream",
     "text": [
      "162\n",
      "{'name': 'Tom', 'age': 15}\n",
      "None\n",
      "132\n"
     ]
    }
   ],
   "execution_count": 17
  },
  {
   "metadata": {},
   "cell_type": "markdown",
   "source": [
    "#### dict.popitem()\n",
    "- 从字典中移除最后一个键值对，并返回它们构成的元组 (key,value)"
   ],
   "id": "c5f0a464e64d055c"
  },
  {
   "metadata": {
    "ExecuteTime": {
     "end_time": "2025-09-30T08:05:53.788008Z",
     "start_time": "2025-09-30T08:05:53.773148Z"
    }
   },
   "cell_type": "code",
   "source": [
    "d = {'name': 'Tom', 'age': 15, 'height': 162}\n",
    "print(d.popitem())\n",
    "print(d)"
   ],
   "id": "b273e75e62e1f244",
   "outputs": [
    {
     "name": "stdout",
     "output_type": "stream",
     "text": [
      "('height', 162)\n",
      "{'name': 'Tom', 'age': 15}\n"
     ]
    }
   ],
   "execution_count": 18
  },
  {
   "metadata": {},
   "cell_type": "markdown",
   "source": [
    "#### dict.setdefault(key, default=None)\n",
    "- 如果字典存在指定的键，则返回它的值\n",
    "- 如果不存在，则返回 default 指定的值，并且新增该键值对"
   ],
   "id": "febb3ae16f9d7392"
  },
  {
   "metadata": {
    "ExecuteTime": {
     "end_time": "2025-09-30T08:05:53.803445Z",
     "start_time": "2025-09-30T08:05:53.789199Z"
    }
   },
   "cell_type": "code",
   "source": [
    "d = {'name': 'Tom', 'age': 15, 'height': 162}\n",
    "print(d.setdefault('age'))\n",
    "print(d.setdefault('weight'))\n",
    "print(d)\n",
    "print(d.setdefault('gender', 'male'))\n",
    "print(d)"
   ],
   "id": "4a0db851cb752157",
   "outputs": [
    {
     "name": "stdout",
     "output_type": "stream",
     "text": [
      "15\n",
      "None\n",
      "{'name': 'Tom', 'age': 15, 'height': 162, 'weight': None}\n",
      "male\n",
      "{'name': 'Tom', 'age': 15, 'height': 162, 'weight': None, 'gender': 'male'}\n"
     ]
    }
   ],
   "execution_count": 19
  },
  {
   "metadata": {},
   "cell_type": "markdown",
   "source": [
    "#### dict.copy()\n",
    "- 返回该字典的一个副本"
   ],
   "id": "f779874680691c81"
  },
  {
   "metadata": {
    "ExecuteTime": {
     "end_time": "2025-09-30T08:05:53.818922Z",
     "start_time": "2025-09-30T08:05:53.804441Z"
    }
   },
   "cell_type": "code",
   "source": [
    "d = {'name': 'Tom', 'age': 15, 'height': 162}\n",
    "new_d = d.copy()\n",
    "print(new_d)"
   ],
   "id": "26123f96ef5425bd",
   "outputs": [
    {
     "name": "stdout",
     "output_type": "stream",
     "text": [
      "{'name': 'Tom', 'age': 15, 'height': 162}\n"
     ]
    }
   ],
   "execution_count": 20
  },
  {
   "metadata": {},
   "cell_type": "markdown",
   "source": [
    "#### dict.clear()\n",
    "- 移除字典中的所有元素，无返回值"
   ],
   "id": "61cad572fddc9dad"
  },
  {
   "metadata": {
    "ExecuteTime": {
     "end_time": "2025-09-30T08:05:53.834257Z",
     "start_time": "2025-09-30T08:05:53.819953Z"
    }
   },
   "cell_type": "code",
   "source": [
    "d = {'name': 'Tom', 'age': 15, 'height': 162}\n",
    "del d['height']\n",
    "print(d)\n",
    "print(len(d))\n",
    "\n",
    "d.clear()\n",
    "print(d)"
   ],
   "id": "9bce1de9f1103021",
   "outputs": [
    {
     "name": "stdout",
     "output_type": "stream",
     "text": [
      "{'name': 'Tom', 'age': 15}\n",
      "2\n",
      "{}\n"
     ]
    }
   ],
   "execution_count": 21
  }
 ],
 "metadata": {
  "kernelspec": {
   "display_name": "Python 3",
   "language": "python",
   "name": "python3"
  },
  "language_info": {
   "codemirror_mode": {
    "name": "ipython",
    "version": 2
   },
   "file_extension": ".py",
   "mimetype": "text/x-python",
   "name": "python",
   "nbconvert_exporter": "python",
   "pygments_lexer": "ipython2",
   "version": "2.7.6"
  }
 },
 "nbformat": 4,
 "nbformat_minor": 5
}
