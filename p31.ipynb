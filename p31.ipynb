{
 "cells": [
  {
   "cell_type": "code",
   "id": "initial_id",
   "metadata": {
    "collapsed": true,
    "ExecuteTime": {
     "end_time": "2025-09-19T06:59:05.444647Z",
     "start_time": "2025-09-19T06:59:05.357763Z"
    }
   },
   "source": "import numpy as np",
   "outputs": [],
   "execution_count": 1
  },
  {
   "metadata": {
    "ExecuteTime": {
     "end_time": "2025-09-19T06:59:05.460247Z",
     "start_time": "2025-09-19T06:59:05.444647Z"
    }
   },
   "cell_type": "code",
   "source": [
    "arr = np.arange(24).reshape(2, 3, 4)\n",
    "print(arr)"
   ],
   "id": "327839600a415a5c",
   "outputs": [
    {
     "name": "stdout",
     "output_type": "stream",
     "text": [
      "[[[ 0  1  2  3]\n",
      "  [ 4  5  6  7]\n",
      "  [ 8  9 10 11]]\n",
      "\n",
      " [[12 13 14 15]\n",
      "  [16 17 18 19]\n",
      "  [20 21 22 23]]]\n"
     ]
    }
   ],
   "execution_count": 2
  },
  {
   "metadata": {
    "ExecuteTime": {
     "end_time": "2025-09-19T06:59:05.475874Z",
     "start_time": "2025-09-19T06:59:05.460247Z"
    }
   },
   "cell_type": "code",
   "source": "print(arr > 10)",
   "id": "54ee1080254fd620",
   "outputs": [
    {
     "name": "stdout",
     "output_type": "stream",
     "text": [
      "[[[False False False False]\n",
      "  [False False False False]\n",
      "  [False False False  True]]\n",
      "\n",
      " [[ True  True  True  True]\n",
      "  [ True  True  True  True]\n",
      "  [ True  True  True  True]]]\n"
     ]
    }
   ],
   "execution_count": 3
  },
  {
   "metadata": {
    "ExecuteTime": {
     "end_time": "2025-09-19T06:59:05.491094Z",
     "start_time": "2025-09-19T06:59:05.475874Z"
    }
   },
   "cell_type": "code",
   "source": "print(arr + 10)",
   "id": "3a13b1185f722c1",
   "outputs": [
    {
     "name": "stdout",
     "output_type": "stream",
     "text": [
      "[[[10 11 12 13]\n",
      "  [14 15 16 17]\n",
      "  [18 19 20 21]]\n",
      "\n",
      " [[22 23 24 25]\n",
      "  [26 27 28 29]\n",
      "  [30 31 32 33]]]\n"
     ]
    }
   ],
   "execution_count": 4
  },
  {
   "metadata": {
    "ExecuteTime": {
     "end_time": "2025-09-19T06:59:05.506951Z",
     "start_time": "2025-09-19T06:59:05.491094Z"
    }
   },
   "cell_type": "code",
   "source": [
    "arr1 = np.arange(24).reshape(2, 3, 4)\n",
    "arr2 = np.arange(30, 54).reshape(2, 3, 4)\n",
    "print(arr1)\n",
    "print('*' * 30)\n",
    "print(arr2)"
   ],
   "id": "63839f780ec9b456",
   "outputs": [
    {
     "name": "stdout",
     "output_type": "stream",
     "text": [
      "[[[ 0  1  2  3]\n",
      "  [ 4  5  6  7]\n",
      "  [ 8  9 10 11]]\n",
      "\n",
      " [[12 13 14 15]\n",
      "  [16 17 18 19]\n",
      "  [20 21 22 23]]]\n",
      "******************************\n",
      "[[[30 31 32 33]\n",
      "  [34 35 36 37]\n",
      "  [38 39 40 41]]\n",
      "\n",
      " [[42 43 44 45]\n",
      "  [46 47 48 49]\n",
      "  [50 51 52 53]]]\n"
     ]
    }
   ],
   "execution_count": 5
  },
  {
   "metadata": {
    "ExecuteTime": {
     "end_time": "2025-09-19T06:59:05.522016Z",
     "start_time": "2025-09-19T06:59:05.506951Z"
    }
   },
   "cell_type": "code",
   "source": "print(arr1 + arr2)",
   "id": "36880581cf4edce6",
   "outputs": [
    {
     "name": "stdout",
     "output_type": "stream",
     "text": [
      "[[[30 32 34 36]\n",
      "  [38 40 42 44]\n",
      "  [46 48 50 52]]\n",
      "\n",
      " [[54 56 58 60]\n",
      "  [62 64 66 68]\n",
      "  [70 72 74 76]]]\n"
     ]
    }
   ],
   "execution_count": 6
  },
  {
   "metadata": {
    "ExecuteTime": {
     "end_time": "2025-09-19T06:59:05.537031Z",
     "start_time": "2025-09-19T06:59:05.522016Z"
    }
   },
   "cell_type": "code",
   "source": [
    "arr1 = np.arange(48).reshape(2, 3, 2, 4)\n",
    "arr2 = np.arange(50, 58).reshape(2, 4)\n",
    "print(arr1)\n",
    "print('*' * 30)\n",
    "print(arr2)"
   ],
   "id": "5c1313ad14970c93",
   "outputs": [
    {
     "name": "stdout",
     "output_type": "stream",
     "text": [
      "[[[[ 0  1  2  3]\n",
      "   [ 4  5  6  7]]\n",
      "\n",
      "  [[ 8  9 10 11]\n",
      "   [12 13 14 15]]\n",
      "\n",
      "  [[16 17 18 19]\n",
      "   [20 21 22 23]]]\n",
      "\n",
      "\n",
      " [[[24 25 26 27]\n",
      "   [28 29 30 31]]\n",
      "\n",
      "  [[32 33 34 35]\n",
      "   [36 37 38 39]]\n",
      "\n",
      "  [[40 41 42 43]\n",
      "   [44 45 46 47]]]]\n",
      "******************************\n",
      "[[50 51 52 53]\n",
      " [54 55 56 57]]\n"
     ]
    }
   ],
   "execution_count": 7
  },
  {
   "metadata": {
    "ExecuteTime": {
     "end_time": "2025-09-19T06:59:05.552769Z",
     "start_time": "2025-09-19T06:59:05.540016Z"
    }
   },
   "cell_type": "code",
   "source": "print(arr1 + arr2)",
   "id": "99795c3ef902a8a6",
   "outputs": [
    {
     "name": "stdout",
     "output_type": "stream",
     "text": [
      "[[[[ 50  52  54  56]\n",
      "   [ 58  60  62  64]]\n",
      "\n",
      "  [[ 58  60  62  64]\n",
      "   [ 66  68  70  72]]\n",
      "\n",
      "  [[ 66  68  70  72]\n",
      "   [ 74  76  78  80]]]\n",
      "\n",
      "\n",
      " [[[ 74  76  78  80]\n",
      "   [ 82  84  86  88]]\n",
      "\n",
      "  [[ 82  84  86  88]\n",
      "   [ 90  92  94  96]]\n",
      "\n",
      "  [[ 90  92  94  96]\n",
      "   [ 98 100 102 104]]]]\n"
     ]
    }
   ],
   "execution_count": 8
  },
  {
   "metadata": {
    "ExecuteTime": {
     "end_time": "2025-09-19T06:59:05.568770Z",
     "start_time": "2025-09-19T06:59:05.554005Z"
    }
   },
   "cell_type": "code",
   "source": [
    "arr1 = np.arange(24).reshape(3, 2, 1, 4)\n",
    "arr2 = np.arange(50, 62).reshape(1, 3, 4)\n",
    "print(arr1)\n",
    "print('*' * 30)\n",
    "print(arr2)"
   ],
   "id": "7238170267251e62",
   "outputs": [
    {
     "name": "stdout",
     "output_type": "stream",
     "text": [
      "[[[[ 0  1  2  3]]\n",
      "\n",
      "  [[ 4  5  6  7]]]\n",
      "\n",
      "\n",
      " [[[ 8  9 10 11]]\n",
      "\n",
      "  [[12 13 14 15]]]\n",
      "\n",
      "\n",
      " [[[16 17 18 19]]\n",
      "\n",
      "  [[20 21 22 23]]]]\n",
      "******************************\n",
      "[[[50 51 52 53]\n",
      "  [54 55 56 57]\n",
      "  [58 59 60 61]]]\n"
     ]
    }
   ],
   "execution_count": 9
  },
  {
   "metadata": {
    "ExecuteTime": {
     "end_time": "2025-09-19T06:59:05.584202Z",
     "start_time": "2025-09-19T06:59:05.569964Z"
    }
   },
   "cell_type": "code",
   "source": "print(arr1 + arr2)",
   "id": "3827506cbf6f9aa0",
   "outputs": [
    {
     "name": "stdout",
     "output_type": "stream",
     "text": [
      "[[[[50 52 54 56]\n",
      "   [54 56 58 60]\n",
      "   [58 60 62 64]]\n",
      "\n",
      "  [[54 56 58 60]\n",
      "   [58 60 62 64]\n",
      "   [62 64 66 68]]]\n",
      "\n",
      "\n",
      " [[[58 60 62 64]\n",
      "   [62 64 66 68]\n",
      "   [66 68 70 72]]\n",
      "\n",
      "  [[62 64 66 68]\n",
      "   [66 68 70 72]\n",
      "   [70 72 74 76]]]\n",
      "\n",
      "\n",
      " [[[66 68 70 72]\n",
      "   [70 72 74 76]\n",
      "   [74 76 78 80]]\n",
      "\n",
      "  [[70 72 74 76]\n",
      "   [74 76 78 80]\n",
      "   [78 80 82 84]]]]\n"
     ]
    }
   ],
   "execution_count": 10
  },
  {
   "metadata": {
    "ExecuteTime": {
     "end_time": "2025-09-19T06:59:05.598967Z",
     "start_time": "2025-09-19T06:59:05.584202Z"
    }
   },
   "cell_type": "code",
   "source": [
    "# [[[[ 0  1  2  3]\n",
    "#    [ 0  1  2  3]\n",
    "#    [ 0  1  2  3]]\n",
    "#   [[ 4  5  6  7]\n",
    "#    [ 4  5  6  7]\n",
    "#    [ 4  5  6  7]]]\n",
    "#  [[[ 8  9 10 11]\n",
    "#    [ 8  9 10 11]\n",
    "#    [ 8  9 10 11]]\n",
    "#   [[12 13 14 15]\n",
    "#    [12 13 14 15]\n",
    "#    [12 13 14 15]]]\n",
    "#  [[[16 17 18 19]\n",
    "#    [16 17 18 19]\n",
    "#    [16 17 18 19]]\n",
    "#   [[20 21 22 23]\n",
    "#    [20 21 22 23]\n",
    "#    [20 21 22 23]]]]\n",
    "# \n",
    "# \n",
    "# [[[[50 51 52 53]\n",
    "#    [54 55 56 57]\n",
    "#    [58 59 60 61]]\n",
    "#   [[50 51 52 53]\n",
    "#    [54 55 56 57]\n",
    "#    [58 59 60 61]]]\n",
    "#  [[[50 51 52 53]\n",
    "#    [54 55 56 57]\n",
    "#    [58 59 60 61]]\n",
    "#   [[50 51 52 53]\n",
    "#    [54 55 56 57]\n",
    "#    [58 59 60 61]]]\n",
    "#  [[[50 51 52 53]\n",
    "#    [54 55 56 57]\n",
    "#    [58 59 60 61]]\n",
    "#   [[50 51 52 53]\n",
    "#    [54 55 56 57]\n",
    "#    [58 59 60 61]]]]\n"
   ],
   "id": "168fd49972e9f64a",
   "outputs": [],
   "execution_count": 11
  },
  {
   "metadata": {
    "ExecuteTime": {
     "end_time": "2025-09-19T06:59:05.614946Z",
     "start_time": "2025-09-19T06:59:05.600055Z"
    }
   },
   "cell_type": "code",
   "source": [
    "lst = [8, 9, 2, 3, 7, 6]\n",
    "arr = np.array(lst)\n",
    "lst[1:4] = [100, 200]\n",
    "# arr[1:4] = [100, 200]\n",
    "# arr[1:4] = [100]\n",
    "arr[1:4] = 100\n",
    "print(lst)\n",
    "print(arr)"
   ],
   "id": "762c3ae832f67561",
   "outputs": [
    {
     "name": "stdout",
     "output_type": "stream",
     "text": [
      "[8, 100, 200, 7, 6]\n",
      "[  8 100 100 100   7   6]\n"
     ]
    }
   ],
   "execution_count": 12
  },
  {
   "metadata": {
    "ExecuteTime": {
     "end_time": "2025-09-19T06:59:05.630895Z",
     "start_time": "2025-09-19T06:59:05.614946Z"
    }
   },
   "cell_type": "code",
   "source": [
    "lst = [6, 8, 9, 1, 3]\n",
    "arr = np.array(lst)\n",
    "\n",
    "print(lst)\n",
    "item_lst = lst[2]\n",
    "part_lst = lst[2:3]\n",
    "print(item_lst)\n",
    "print(part_lst)\n",
    "lst[2] = 99\n",
    "print(lst)\n",
    "print(item_lst)\n",
    "print(part_lst)\n",
    "print('*' * 30)\n",
    "\n",
    "print(arr)\n",
    "item_arr = arr[2]\n",
    "part_arr = arr[2:3]\n",
    "print(item_arr)\n",
    "print(part_arr)\n",
    "arr[2] = 99\n",
    "print(arr)\n",
    "print(item_arr)\n",
    "print(part_arr)"
   ],
   "id": "60c2c68f57ccbcc6",
   "outputs": [
    {
     "name": "stdout",
     "output_type": "stream",
     "text": [
      "[6, 8, 9, 1, 3]\n",
      "9\n",
      "[9]\n",
      "[6, 8, 99, 1, 3]\n",
      "9\n",
      "[9]\n",
      "******************************\n",
      "[6 8 9 1 3]\n",
      "9\n",
      "[9]\n",
      "[ 6  8 99  1  3]\n",
      "9\n",
      "[99]\n"
     ]
    }
   ],
   "execution_count": 13
  },
  {
   "metadata": {
    "ExecuteTime": {
     "end_time": "2025-09-19T08:45:27.623717Z",
     "start_time": "2025-09-19T08:45:27.614508Z"
    }
   },
   "cell_type": "code",
   "source": [
    "lst = [[[5, 0, 8],\n",
    "        [1, 2, 9]],\n",
    "       [[6, 7, 4],\n",
    "        [3, 6, 2]],\n",
    "       [[7, 7, 1],\n",
    "        [9, 1, 2]],\n",
    "       [[5, 1, 5],\n",
    "        [3, 4, 6]]]\n",
    "arr = np.array(lst)\n",
    "lst_1 = lst[::2][1:]\n",
    "print(lst_1)\n",
    "arr_1 = arr[::2][1:]\n",
    "print(arr_1)\n",
    "\n",
    "print(arr[:, 1])"
   ],
   "id": "aa9a86ad5b64c6c2",
   "outputs": [
    {
     "name": "stdout",
     "output_type": "stream",
     "text": [
      "[[[7, 7, 1], [9, 1, 2]]]\n",
      "[[[7 7 1]\n",
      "  [9 1 2]]]\n",
      "[[1 2 9]\n",
      " [3 6 2]\n",
      " [9 1 2]\n",
      " [3 4 6]]\n"
     ]
    }
   ],
   "execution_count": 46
  },
  {
   "metadata": {
    "ExecuteTime": {
     "end_time": "2025-09-19T06:59:05.661522Z",
     "start_time": "2025-09-19T06:59:05.646036Z"
    }
   },
   "cell_type": "code",
   "source": [
    "lst[2] = [[2, 2, 2], [3, 3, 3]]\n",
    "print(lst_1)\n",
    "print(lst[::2][1:])\n",
    "print('*' * 30)\n",
    "arr[2] = [[2, 2, 2], [3, 3, 3]]\n",
    "print(arr_1)\n",
    "print(arr[::2][1:])"
   ],
   "id": "85fd3343aa2f5978",
   "outputs": [
    {
     "name": "stdout",
     "output_type": "stream",
     "text": [
      "[[[7, 7, 1], [9, 1, 2]]]\n",
      "[[[2, 2, 2], [3, 3, 3]]]\n",
      "******************************\n",
      "[[[2 2 2]\n",
      "  [3 3 3]]]\n",
      "[[[2 2 2]\n",
      "  [3 3 3]]]\n"
     ]
    }
   ],
   "execution_count": 15
  },
  {
   "metadata": {
    "ExecuteTime": {
     "end_time": "2025-09-19T06:59:05.676658Z",
     "start_time": "2025-09-19T06:59:05.661522Z"
    }
   },
   "cell_type": "code",
   "source": [
    "lst = [[[5, 0, 8],\n",
    "        [1, 2, 9]],\n",
    "       [[6, 7, 4],\n",
    "        [3, 6, 2]],\n",
    "       [[7, 7, 1],\n",
    "        [9, 1, 2]],\n",
    "       [[5, 1, 5],\n",
    "        [3, 4, 6]]]\n",
    "arr = np.array(lst)\n",
    "print(arr.shape)\n",
    "print(arr[1])\n",
    "print('*' * 30)\n",
    "print(arr[1, 0])\n",
    "print('*' * 30)\n",
    "print(arr[1, 0, 2])\n",
    "print(arr[1][0][2])\n",
    "print(arr[1:2, :1, 2:])"
   ],
   "id": "2bfb74b1f0a98aef",
   "outputs": [
    {
     "name": "stdout",
     "output_type": "stream",
     "text": [
      "(4, 2, 3)\n",
      "[[6 7 4]\n",
      " [3 6 2]]\n",
      "******************************\n",
      "[6 7 4]\n",
      "******************************\n",
      "4\n",
      "4\n",
      "[[[4]]]\n"
     ]
    }
   ],
   "execution_count": 16
  },
  {
   "metadata": {
    "ExecuteTime": {
     "end_time": "2025-09-19T06:59:05.692576Z",
     "start_time": "2025-09-19T06:59:05.677679Z"
    }
   },
   "cell_type": "code",
   "source": [
    "print(arr[::2, 1:])\n",
    "print(arr[::2][1:])"
   ],
   "id": "6b078fc7009c58fd",
   "outputs": [
    {
     "name": "stdout",
     "output_type": "stream",
     "text": [
      "[[[1 2 9]]\n",
      "\n",
      " [[9 1 2]]]\n",
      "[[[7 7 1]\n",
      "  [9 1 2]]]\n"
     ]
    }
   ],
   "execution_count": 17
  },
  {
   "metadata": {
    "ExecuteTime": {
     "end_time": "2025-09-19T07:05:24.045232Z",
     "start_time": "2025-09-19T07:05:24.027482Z"
    }
   },
   "cell_type": "code",
   "source": [
    "lst = [[[5, 0, 8],\n",
    "        [1, 2, 9]],\n",
    "       [[6, 7, 4],\n",
    "        [3, 6, 2]],\n",
    "       [[7, 7, 1],\n",
    "        [9, 1, 2]],\n",
    "       [[5, 1, 5],\n",
    "        [3, 4, 6]]]\n",
    "arr = np.array(lst)\n",
    "print(arr.shape)\n",
    "print(arr[1:, 0, ::-2])\n",
    "print(arr[1:, 1, ::-2])"
   ],
   "id": "aa55f1a230920749",
   "outputs": [
    {
     "name": "stdout",
     "output_type": "stream",
     "text": [
      "(4, 2, 3)\n",
      "[[4 6]\n",
      " [1 7]\n",
      " [5 5]]\n",
      "[[2 3]\n",
      " [2 9]\n",
      " [6 3]]\n"
     ]
    }
   ],
   "execution_count": 33
  },
  {
   "metadata": {
    "ExecuteTime": {
     "end_time": "2025-09-19T06:59:05.724216Z",
     "start_time": "2025-09-19T06:59:05.709325Z"
    }
   },
   "cell_type": "code",
   "source": "print(arr[::2, 1:])",
   "id": "74a1abef64ec110a",
   "outputs": [
    {
     "name": "stdout",
     "output_type": "stream",
     "text": [
      "[[[1 2 9]]\n",
      "\n",
      " [[9 1 2]]]\n"
     ]
    }
   ],
   "execution_count": 19
  },
  {
   "metadata": {
    "ExecuteTime": {
     "end_time": "2025-09-19T07:48:57.023861Z",
     "start_time": "2025-09-19T07:48:57.005528Z"
    }
   },
   "cell_type": "code",
   "source": [
    "lst = [[[5, 0, 8],\n",
    "        [1, 2, 9]],\n",
    "       [[6, 7, 4],\n",
    "        [3, 6, 2]],\n",
    "       [[7, 7, 1],\n",
    "        [9, 1, 2]],\n",
    "       [[5, 1, 5],\n",
    "        [3, 4, 6]]]\n",
    "arr = np.array(lst)\n",
    "print(arr[[3, 1], [0, 1], [2, 0]])\n",
    "print('*' * 30)\n",
    "print(arr[[3, 1, 2], [1, 1, 0]])"
   ],
   "id": "66ebb871ab71cf57",
   "outputs": [
    {
     "name": "stdout",
     "output_type": "stream",
     "text": [
      "[5 3]\n",
      "******************************\n",
      "[[3 4 6]\n",
      " [3 6 2]\n",
      " [7 7 1]]\n"
     ]
    }
   ],
   "execution_count": 36
  },
  {
   "metadata": {
    "ExecuteTime": {
     "end_time": "2025-09-19T06:59:05.755455Z",
     "start_time": "2025-09-19T06:59:05.739739Z"
    }
   },
   "cell_type": "code",
   "source": [
    "lst = [[[5, 0, 8],\n",
    "        [1, 2, 9]],\n",
    "       [[6, 7, 4],\n",
    "        [3, 6, 2]],\n",
    "       [[7, 7, 1],\n",
    "        [9, 1, 2]],\n",
    "       [[5, 1, 5],\n",
    "        [3, 4, 6]]]\n",
    "arr = np.array(lst)\n",
    "\n",
    "print(arr[[2, 1, 3, 0], [0, 1, 1, 0]])"
   ],
   "id": "738c2baf3a58dd3f",
   "outputs": [
    {
     "name": "stdout",
     "output_type": "stream",
     "text": [
      "[[7 7 1]\n",
      " [3 6 2]\n",
      " [3 4 6]\n",
      " [5 0 8]]\n"
     ]
    }
   ],
   "execution_count": 21
  },
  {
   "metadata": {
    "ExecuteTime": {
     "end_time": "2025-09-19T07:52:16.450458Z",
     "start_time": "2025-09-19T07:52:16.445723Z"
    }
   },
   "cell_type": "code",
   "source": [
    "print(arr[[1, 1, 2]])\n",
    "print(arr[1, 1, 2])"
   ],
   "id": "ab3f98d45bb2770d",
   "outputs": [
    {
     "name": "stdout",
     "output_type": "stream",
     "text": [
      "[[[6 7 4]\n",
      "  [3 6 2]]\n",
      "\n",
      " [[6 7 4]\n",
      "  [3 6 2]]\n",
      "\n",
      " [[7 7 1]\n",
      "  [9 1 2]]]\n",
      "2\n"
     ]
    }
   ],
   "execution_count": 37
  },
  {
   "metadata": {
    "ExecuteTime": {
     "end_time": "2025-09-19T06:59:05.786050Z",
     "start_time": "2025-09-19T06:59:05.771603Z"
    }
   },
   "cell_type": "code",
   "source": "print(arr[[1, 2]])",
   "id": "13bcd8abaf895607",
   "outputs": [
    {
     "name": "stdout",
     "output_type": "stream",
     "text": [
      "[[[6 7 4]\n",
      "  [3 6 2]]\n",
      "\n",
      " [[7 7 1]\n",
      "  [9 1 2]]]\n"
     ]
    }
   ],
   "execution_count": 23
  },
  {
   "metadata": {
    "ExecuteTime": {
     "end_time": "2025-09-19T07:59:16.803940Z",
     "start_time": "2025-09-19T07:59:16.795967Z"
    }
   },
   "cell_type": "code",
   "source": "print(arr[[1]])",
   "id": "6bb221a9642f94f0",
   "outputs": [
    {
     "name": "stdout",
     "output_type": "stream",
     "text": [
      "[[[6 7 4]\n",
      "  [3 6 2]]]\n"
     ]
    }
   ],
   "execution_count": 39
  },
  {
   "metadata": {
    "ExecuteTime": {
     "end_time": "2025-09-19T06:59:05.816972Z",
     "start_time": "2025-09-19T06:59:05.801415Z"
    }
   },
   "cell_type": "code",
   "source": "print(arr[1])",
   "id": "10ead04756acf848",
   "outputs": [
    {
     "name": "stdout",
     "output_type": "stream",
     "text": [
      "[[6 7 4]\n",
      " [3 6 2]]\n"
     ]
    }
   ],
   "execution_count": 25
  },
  {
   "metadata": {
    "ExecuteTime": {
     "end_time": "2025-09-19T08:55:15.871584Z",
     "start_time": "2025-09-19T08:55:15.866251Z"
    }
   },
   "cell_type": "code",
   "source": [
    "a = np.array([1, 2, 3])\n",
    "b = np.array([[1], [3], [2]])\n",
    "print(a + b)"
   ],
   "id": "d1707829dbcf8d7b",
   "outputs": [
    {
     "name": "stdout",
     "output_type": "stream",
     "text": [
      "[[2 3 4]\n",
      " [4 5 6]\n",
      " [3 4 5]]\n"
     ]
    }
   ],
   "execution_count": 56
  },
  {
   "metadata": {
    "ExecuteTime": {
     "end_time": "2025-09-19T12:54:24.953725Z",
     "start_time": "2025-09-19T12:54:24.935281Z"
    }
   },
   "cell_type": "code",
   "source": [
    "lst = [[[5, 0, 8],\n",
    "        [1, 2, 9]],\n",
    "       [[6, 7, 4],\n",
    "        [3, 6, 2]],\n",
    "       [[7, 7, 1],\n",
    "        [9, 1, 2]],\n",
    "       [[5, 1, 5],\n",
    "        [3, 4, 6]]]\n",
    "arr = np.array(lst)\n",
    "print(arr.shape)\n",
    "print(arr[[2], [1], [2]])\n",
    "print('*' * 30)\n",
    "# shape (2,) () (2,) => (2,) (2,) (2,)\n",
    "print(arr[[1, 3], 1, [2, 0]])\n",
    "print(arr[[1, 3], [1], [2, 0]])\n",
    "print(arr[[1, 3], [1, 1], [2, 0]])\n",
    "print(arr[1, 1, [2, 0, 1]])"
   ],
   "id": "aec643b02f262415",
   "outputs": [
    {
     "name": "stdout",
     "output_type": "stream",
     "text": [
      "(4, 2, 3)\n",
      "[2]\n",
      "******************************\n",
      "[2 3]\n",
      "[2 3]\n",
      "[2 3]\n",
      "[2 3 6]\n"
     ]
    }
   ],
   "execution_count": 58
  },
  {
   "metadata": {
    "ExecuteTime": {
     "end_time": "2025-09-19T08:15:59.965506Z",
     "start_time": "2025-09-19T08:15:59.960761Z"
    }
   },
   "cell_type": "code",
   "source": [
    "# shape (1,) () (3,) => (3,) (3,) (3,)\n",
    "\n",
    "print(arr[[2], 1, [2, 0, 1]])\n",
    "print(arr[[2, 2, 2], [1, 1, 1], [2, 0, 1]])"
   ],
   "id": "2cad022e3655c6fb",
   "outputs": [
    {
     "name": "stdout",
     "output_type": "stream",
     "text": [
      "[2 9 1]\n",
      "[2 9 1]\n"
     ]
    }
   ],
   "execution_count": 45
  },
  {
   "metadata": {
    "ExecuteTime": {
     "end_time": "2025-09-19T06:59:05.864352Z",
     "start_time": "2025-09-19T06:59:05.850018Z"
    }
   },
   "cell_type": "code",
   "source": [
    "print(arr[1::2, 0, ::2])\n",
    "print('*' * 30)\n",
    "print(arr[1::2, 0:1, ::2])"
   ],
   "id": "8174e57e03089059",
   "outputs": [
    {
     "name": "stdout",
     "output_type": "stream",
     "text": [
      "[[6 4]\n",
      " [5 5]]\n",
      "******************************\n",
      "[[[6 4]]\n",
      "\n",
      " [[5 5]]]\n"
     ]
    }
   ],
   "execution_count": 28
  },
  {
   "metadata": {
    "ExecuteTime": {
     "end_time": "2025-09-19T06:59:05.880298Z",
     "start_time": "2025-09-19T06:59:05.865349Z"
    }
   },
   "cell_type": "code",
   "source": [
    "lst = [[[5, 0, 8],\n",
    "        [1, 2, 9]],\n",
    "       [[6, 7, 4],\n",
    "        [3, 6, 2]],\n",
    "       [[7, 7, 1],\n",
    "        [9, 1, 2]],\n",
    "       [[5, 1, 5],\n",
    "        [3, 4, 6]]]\n",
    "arr = np.array(lst)\n",
    "lst = [[[False, False, True],\n",
    "        [False, False, False]],\n",
    "       [[False, True, False],\n",
    "        [False, False, False]],\n",
    "       [[False, True, True],\n",
    "        [False, False, False]],\n",
    "       [[False, False, False],\n",
    "        [True, False, False]]]\n",
    "bool_arr = np.array(lst)\n",
    "print(arr[bool_arr])"
   ],
   "id": "335b5ad3153f3f08",
   "outputs": [
    {
     "name": "stdout",
     "output_type": "stream",
     "text": [
      "[8 7 7 1 3]\n"
     ]
    }
   ],
   "execution_count": 29
  },
  {
   "metadata": {
    "ExecuteTime": {
     "end_time": "2025-09-19T06:59:05.895832Z",
     "start_time": "2025-09-19T06:59:05.880298Z"
    }
   },
   "cell_type": "code",
   "source": [
    "lst = [[False,\n",
    "        True],\n",
    "       [True,\n",
    "        True],\n",
    "       [False,\n",
    "        False],\n",
    "       [True,\n",
    "        False]]\n",
    "bool_arr = np.array(lst)\n",
    "print(arr[bool_arr])"
   ],
   "id": "9c4cd78c2ab3ce4f",
   "outputs": [
    {
     "name": "stdout",
     "output_type": "stream",
     "text": [
      "[[1 2 9]\n",
      " [6 7 4]\n",
      " [3 6 2]\n",
      " [5 1 5]]\n"
     ]
    }
   ],
   "execution_count": 30
  },
  {
   "metadata": {
    "ExecuteTime": {
     "end_time": "2025-09-19T06:59:05.911361Z",
     "start_time": "2025-09-19T06:59:05.895832Z"
    }
   },
   "cell_type": "code",
   "source": [
    "lst = [True,\n",
    "       False,\n",
    "       True,\n",
    "       True]\n",
    "bool_arr = np.array(lst)\n",
    "print(arr[bool_arr])\n",
    "print('*' * 30)\n",
    "print(arr[[0, 2, 3]])"
   ],
   "id": "3536b1727cf70807",
   "outputs": [
    {
     "name": "stdout",
     "output_type": "stream",
     "text": [
      "[[[5 0 8]\n",
      "  [1 2 9]]\n",
      "\n",
      " [[7 7 1]\n",
      "  [9 1 2]]\n",
      "\n",
      " [[5 1 5]\n",
      "  [3 4 6]]]\n",
      "******************************\n",
      "[[[5 0 8]\n",
      "  [1 2 9]]\n",
      "\n",
      " [[7 7 1]\n",
      "  [9 1 2]]\n",
      "\n",
      " [[5 1 5]\n",
      "  [3 4 6]]]\n"
     ]
    }
   ],
   "execution_count": 31
  },
  {
   "metadata": {
    "ExecuteTime": {
     "end_time": "2025-09-19T06:59:05.926331Z",
     "start_time": "2025-09-19T06:59:05.912507Z"
    }
   },
   "cell_type": "code",
   "source": "",
   "id": "56b90c484a21ffb2",
   "outputs": [],
   "execution_count": 31
  }
 ],
 "metadata": {
  "kernelspec": {
   "display_name": "Python 3",
   "language": "python",
   "name": "python3"
  },
  "language_info": {
   "codemirror_mode": {
    "name": "ipython",
    "version": 2
   },
   "file_extension": ".py",
   "mimetype": "text/x-python",
   "name": "python",
   "nbconvert_exporter": "python",
   "pygments_lexer": "ipython2",
   "version": "2.7.6"
  }
 },
 "nbformat": 4,
 "nbformat_minor": 5
}
