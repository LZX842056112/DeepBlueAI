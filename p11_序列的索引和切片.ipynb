{
 "cells": [
  {
   "metadata": {},
   "cell_type": "markdown",
   "source": [
    "#### 序列的索引和切片\n",
    "- 六种标准数据类型中是序列的有：字符串、列表、元组\n",
    "- 所以它们都可以通过索引和切片的方式来访问其中的元素"
   ],
   "id": "dac8b93838552902"
  },
  {
   "metadata": {},
   "cell_type": "markdown",
   "source": [
    "#### 序列索引\n",
    "\n",
    "![index](picture/index.png)"
   ],
   "id": "a6a84be72b7c9e8f"
  },
  {
   "cell_type": "code",
   "id": "initial_id",
   "metadata": {
    "collapsed": true,
    "ExecuteTime": {
     "end_time": "2025-09-30T08:33:45.228481Z",
     "start_time": "2025-09-30T08:33:45.224039Z"
    }
   },
   "source": [
    "string = \"Hello 1牛3 Python\"\n",
    "print(string[-len(string) + 1])\n",
    "print(string[7])\n",
    "print(string[-9])\n",
    "\"\"\" 索引超出范围时, 会报错 \"\"\"\n",
    "# IndexError: string index out of range\n",
    "# print(string[16])\n",
    "# print(string[-17])\n",
    "\n",
    "lst = [567, 'hello', True, False, 456]\n",
    "print(lst[1])\n",
    "print(lst[-4])\n",
    "\n",
    "tup = (567, 'hello', True, False, 456)\n",
    "print(tup[1])\n",
    "print(tup[-4])"
   ],
   "outputs": [
    {
     "name": "stdout",
     "output_type": "stream",
     "text": [
      "e\n",
      "牛\n",
      "牛\n",
      "hello\n",
      "hello\n",
      "hello\n",
      "hello\n"
     ]
    }
   ],
   "execution_count": 31
  },
  {
   "metadata": {},
   "cell_type": "markdown",
   "source": "#### 序列切片",
   "id": "f309eecfebf74982"
  },
  {
   "metadata": {},
   "cell_type": "markdown",
   "source": [
    "#### seq[start: end: step]\n",
    "- start: 起始索引，闭区间\n",
    "- - 步长为正数，start没有指定，默认为0\n",
    "- - 步长为负数，start没有指定，默认为-1\n",
    "- end: 结束索引，开区间\n",
    "- - 步长为正数，end没有指定，默认为len(seq)\n",
    "- - 步长为负数，end没有指定，默认为-len(seq)-1\n",
    "- step: 步长，没有指定时，默认为1\n",
    "- - 步长为正数，表示从左往右取数据\n",
    "- - 步长为负数，表示从右往左取数据\n",
    "- 如果start到end的方向和step的正负性不一致，则得到空序列\n",
    "- 索引超出范围会报错，但切片不会"
   ],
   "id": "9d8af35fbb136014"
  },
  {
   "metadata": {
    "ExecuteTime": {
     "end_time": "2025-09-30T08:33:45.244448Z",
     "start_time": "2025-09-30T08:33:45.228481Z"
    }
   },
   "cell_type": "code",
   "source": [
    "string = 'Hello 1牛3 Python'\n",
    "\"\"\"\n",
    "正向索引和反向索引都可以使用\n",
    "步长默认为1, 取连续的数据\n",
    "\"\"\"\n",
    "print(string[7: 11])  # '牛3 P'\n",
    "print(string[-9: -5])  # '牛3 P'\n",
    "print(string[7: -5])  # '牛3 P'\n",
    "print(string[-9: 11])  # '牛3 P'"
   ],
   "id": "8cb06457a66b9723",
   "outputs": [
    {
     "name": "stdout",
     "output_type": "stream",
     "text": [
      "牛3 P\n",
      "牛3 P\n",
      "牛3 P\n",
      "牛3 P\n"
     ]
    }
   ],
   "execution_count": 32
  },
  {
   "metadata": {
    "ExecuteTime": {
     "end_time": "2025-09-30T08:33:45.260248Z",
     "start_time": "2025-09-30T08:33:45.245445Z"
    }
   },
   "cell_type": "code",
   "source": [
    "string = 'Hello 1牛3 Python'\n",
    "\"\"\" 步长为2, 取数据时要隔一个再取 \"\"\"\n",
    "print(string[7: 14: 2])  # '牛 yh'\n",
    "\n",
    "\"\"\" 步长为3, 取数据时要隔两个再取 \"\"\"\n",
    "print(string[7: 14: 3])  # '牛Ph'\n",
    "\n",
    "\"\"\" 步长为负数, 表示从右往左取数据 \"\"\"\n",
    "print(string[10: 6: -1])  # 'P 3牛'\n",
    "\n",
    "\"\"\" 步长为-2, 表示从右往左隔一个取数据 \"\"\"\n",
    "print(string[13: 6: -2])  # 'hy 牛'"
   ],
   "id": "a9de7793f32588cc",
   "outputs": [
    {
     "name": "stdout",
     "output_type": "stream",
     "text": [
      "牛 yh\n",
      "牛Ph\n",
      "P 3牛\n",
      "hy 牛\n"
     ]
    }
   ],
   "execution_count": 33
  },
  {
   "metadata": {
    "ExecuteTime": {
     "end_time": "2025-09-30T08:33:45.275936Z",
     "start_time": "2025-09-30T08:33:45.261428Z"
    }
   },
   "cell_type": "code",
   "source": [
    "string = 'Hello 1牛3 Python'\n",
    "\"\"\" 步长为正数, start没有指定, 默认为0 \"\"\"\n",
    "print(string[: 3])  # 'Hel'\n",
    "print(string[0: 3])\n",
    "\n",
    "\"\"\" 步长为负数, start没有指定, 默认为-1 \"\"\"\n",
    "print(string[: 12: -1])  # 'noh'\n",
    "print(string[-1: 12: -1])\n",
    "\n",
    "\"\"\" 步长为正数, end没有指定, 默认为len(string) \"\"\"\n",
    "print(string[13:])  # 'hon'\n",
    "print(string[13:len(string)])\n",
    "\n",
    "\"\"\" 步长为负数, end没有指定, 默认为-len(string)-1\"\"\"\n",
    "print(string[2::-1])  # 'leH'\n",
    "print(string[2:-len(string) - 1:-1])"
   ],
   "id": "7b8f804f27771ef7",
   "outputs": [
    {
     "name": "stdout",
     "output_type": "stream",
     "text": [
      "Hel\n",
      "Hel\n",
      "noh\n",
      "noh\n",
      "hon\n",
      "hon\n",
      "leH\n",
      "leH\n"
     ]
    }
   ],
   "execution_count": 34
  },
  {
   "metadata": {
    "ExecuteTime": {
     "end_time": "2025-09-30T08:33:45.291082Z",
     "start_time": "2025-09-30T08:33:45.275936Z"
    }
   },
   "cell_type": "code",
   "source": [
    "string = 'Hello 1牛3 Python'\n",
    "\"\"\" 把该序列复制一份 \"\"\"\n",
    "print(string[:])\n",
    "\n",
    "\"\"\" 把该序列倒过来 \"\"\"\n",
    "print(string[::-1])\n",
    "\n",
    "\"\"\" start到end是从左往右，但step表示从右往左 \"\"\"\n",
    "print(string[1: 3: -1])  # ''"
   ],
   "id": "63ba5a173abb625d",
   "outputs": [
    {
     "name": "stdout",
     "output_type": "stream",
     "text": [
      "Hello 1牛3 Python\n",
      "nohtyP 3牛1 olleH\n",
      "\n"
     ]
    }
   ],
   "execution_count": 35
  },
  {
   "metadata": {
    "ExecuteTime": {
     "end_time": "2025-09-30T08:33:45.305969Z",
     "start_time": "2025-09-30T08:33:45.292353Z"
    }
   },
   "cell_type": "code",
   "source": [
    "tup = (1, 'xx', [33.4, True], 4 + 3j, 521)\n",
    "print(tup)\n",
    "print(len(tup))\n",
    "print(tup[2][1])\n",
    "print(tup[-len(tup)])\n",
    "\n",
    "print(tup[1:4:2])\n",
    "print(tup[4:1:-2])\n",
    "print(tup[-4:-1])\n",
    "print(tup[:4:2])"
   ],
   "id": "4783a40f3e4e4579",
   "outputs": [
    {
     "name": "stdout",
     "output_type": "stream",
     "text": [
      "(1, 'xx', [33.4, True], (4+3j), 521)\n",
      "5\n",
      "True\n",
      "1\n",
      "('xx', (4+3j))\n",
      "(521, [33.4, True])\n",
      "('xx', [33.4, True], (4+3j))\n",
      "(1, [33.4, True])\n"
     ]
    }
   ],
   "execution_count": 36
  },
  {
   "metadata": {},
   "cell_type": "markdown",
   "source": "- 特点：索引会降维，切片不会降维",
   "id": "24a9a7260a560deb"
  },
  {
   "metadata": {
    "ExecuteTime": {
     "end_time": "2025-09-30T08:33:45.321192Z",
     "start_time": "2025-09-30T08:33:45.306966Z"
    }
   },
   "cell_type": "code",
   "source": [
    "\"\"\" 类比0维数据 \"\"\"\n",
    "item1 = 1\n",
    "item2 = 2\n",
    "item3 = 3\n",
    "item4 = 4\n",
    "item5 = 5\n",
    "item6 = 6\n",
    "item7 = 7\n",
    "item8 = 8\n",
    "item9 = 9"
   ],
   "id": "ad4bf38e3d2f338a",
   "outputs": [],
   "execution_count": 37
  },
  {
   "metadata": {
    "ExecuteTime": {
     "end_time": "2025-09-30T08:33:45.337131Z",
     "start_time": "2025-09-30T08:33:45.322203Z"
    }
   },
   "cell_type": "code",
   "source": [
    "\"\"\" 类比1维数据 \"\"\"\n",
    "lst1 = [item1, item2, item3]\n",
    "lst2 = [item4, item5, item6]\n",
    "lst3 = [item7, item8, item9]\n",
    "\n",
    "# 对1维数据索引，结果为0维数据\n",
    "print(lst1[0])  # 1\n",
    "print(lst2[1])  # 5\n",
    "print(lst3[2])  # 9\n",
    "\n",
    "# 无论怎么切片，维度保持不变\n",
    "print(lst1[::2])  # [1, 3]\n",
    "print(lst2[1:2])  # [5]\n",
    "print(lst3[::2][1:2])  # [9]"
   ],
   "id": "331d949c663f3864",
   "outputs": [
    {
     "name": "stdout",
     "output_type": "stream",
     "text": [
      "1\n",
      "5\n",
      "9\n",
      "[1, 3]\n",
      "[5]\n",
      "[9]\n"
     ]
    }
   ],
   "execution_count": 38
  },
  {
   "metadata": {
    "ExecuteTime": {
     "end_time": "2025-09-30T08:33:45.352783Z",
     "start_time": "2025-09-30T08:33:45.338357Z"
    }
   },
   "cell_type": "code",
   "source": [
    "\"\"\" 类比2维数据 \"\"\"\n",
    "lst4 = [lst1, lst2, lst3]\n",
    "\n",
    "# 对2维数据索引，结果为1维数据\n",
    "print(lst4[0])  # [1, 2, 3]\n",
    "print(lst4[1])  # [4, 5, 6]\n",
    "print(lst4[2])  # [7, 8, 9]\n",
    "\n",
    "# 并且每索引一次，降低一次维度\n",
    "print(lst4[0][1])  # 2\n",
    "\n",
    "# 无论怎么切片，维度保持不变\n",
    "print(lst4[::2])  # [[1, 2, 3], [7, 8, 9]]\n",
    "print(lst4[1:2])  # [[4, 5, 6]]\n",
    "print(lst4[::2][1:2])  # [[7, 8, 9]]"
   ],
   "id": "b12e56d7e08026af",
   "outputs": [
    {
     "name": "stdout",
     "output_type": "stream",
     "text": [
      "[1, 2, 3]\n",
      "[4, 5, 6]\n",
      "[7, 8, 9]\n",
      "2\n",
      "[[1, 2, 3], [7, 8, 9]]\n",
      "[[4, 5, 6]]\n",
      "[[7, 8, 9]]\n"
     ]
    }
   ],
   "execution_count": 39
  },
  {
   "metadata": {},
   "cell_type": "markdown",
   "source": [
    "#### len(s)\n",
    "- s 可以是序列（如 string、tuple、list ...）/ 字典 / 集合等\n",
    "- 返回对象的长度（即元素个数）"
   ],
   "id": "e00c5cdfdff18555"
  },
  {
   "metadata": {
    "ExecuteTime": {
     "end_time": "2025-09-30T08:33:45.368255Z",
     "start_time": "2025-09-30T08:33:45.353963Z"
    }
   },
   "cell_type": "code",
   "source": [
    "print(len('abcd'))\n",
    "print(len([1, 2, 3, 4]))\n",
    "print(len((1, 2, 3, 4)))"
   ],
   "id": "14c779fb6e230954",
   "outputs": [
    {
     "name": "stdout",
     "output_type": "stream",
     "text": [
      "4\n",
      "4\n",
      "4\n"
     ]
    }
   ],
   "execution_count": 40
  },
  {
   "metadata": {},
   "cell_type": "markdown",
   "source": [
    "#### del 语句\n",
    "- del 语句不是直接删除数据，而是解除对应的引用，当该数据的引用计数为0时，该数据就变为了一个可回收的对象，然后会被Python自动回收。"
   ],
   "id": "539e8622426b60df"
  },
  {
   "metadata": {
    "ExecuteTime": {
     "end_time": "2025-09-30T08:37:08.876601Z",
     "start_time": "2025-09-30T08:37:08.863454Z"
    }
   },
   "cell_type": "code",
   "source": [
    "lst1 = [567, 'hello', 456, [912, 923], 'world']\n",
    "lst2 = lst1\n",
    "del lst1\n",
    "print(lst2)\n",
    "\n",
    "del lst2[1]\n",
    "print(lst2)\n",
    "\n",
    "del lst2[0], lst2[2]\n",
    "print(lst2)\n",
    "\n",
    "del lst2[:5:2]\n",
    "print(lst2)\n",
    "\n",
    "del lst2[0][1]\n",
    "print(lst2)\n",
    "\n",
    "del lst2[:]\n",
    "print(lst2)"
   ],
   "id": "4b2cc8fcdd725052",
   "outputs": [
    {
     "name": "stdout",
     "output_type": "stream",
     "text": [
      "[567, 'hello', 456, [912, 923], 'world']\n",
      "[567, 456, [912, 923], 'world']\n",
      "[456, [912, 923]]\n",
      "[[912, 923]]\n",
      "[[912]]\n",
      "[]\n"
     ]
    }
   ],
   "execution_count": 45
  }
 ],
 "metadata": {
  "kernelspec": {
   "display_name": "Python 3",
   "language": "python",
   "name": "python3"
  },
  "language_info": {
   "codemirror_mode": {
    "name": "ipython",
    "version": 2
   },
   "file_extension": ".py",
   "mimetype": "text/x-python",
   "name": "python",
   "nbconvert_exporter": "python",
   "pygments_lexer": "ipython2",
   "version": "2.7.6"
  }
 },
 "nbformat": 4,
 "nbformat_minor": 5
}
