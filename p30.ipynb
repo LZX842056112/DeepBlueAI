{
 "cells": [
  {
   "metadata": {},
   "cell_type": "markdown",
   "source": [
    "#### NumPy（Numerical Python）是 Python 进行科学计算的一个扩展库，提供了大量的函数和操作，主要用于对多维数组执行计算，它比 Python 自身的嵌套列表结构要高效的多。  \n",
    "NumPy 数组和 Python 列表的主要区别：  \n",
    "- 数组会对元素的数据类型做统一，而列表不会。  \n",
    "- 数组创建后具有固定大小，而列表由于内存自动管理，可动态调整。"
   ],
   "id": "1990018b44596aa0"
  },
  {
   "metadata": {
    "ExecuteTime": {
     "end_time": "2025-09-22T13:17:10.953578Z",
     "start_time": "2025-09-22T13:17:10.182564Z"
    }
   },
   "cell_type": "code",
   "source": "import numpy as np",
   "id": "b16172d80100a894",
   "outputs": [],
   "execution_count": 1
  },
  {
   "metadata": {},
   "cell_type": "markdown",
   "source": [
    "#### np.array(object, dtype=None)\n",
    "创建数组:  \n",
    "- object：array_like，类似于数组的对象。如果object是标量，则返回包含object的0维数组  \n",
    "- dtype：data-type，数据类型。如果没有给出，会从输入数据推断数据类型  \n",
    "- 创建一个数组对象并返回（ndarray实例对象）"
   ],
   "id": "d67c6cba89de3f14"
  },
  {
   "metadata": {
    "ExecuteTime": {
     "end_time": "2025-09-22T13:17:10.968638Z",
     "start_time": "2025-09-22T13:17:10.954839Z"
    }
   },
   "cell_type": "code",
   "source": [
    "num = 789\n",
    "arr = np.array(num)\n",
    "print(num)\n",
    "print(arr)\n",
    "print(type(num))\n",
    "print(type(arr))\n",
    "print(arr.dtype)\n",
    "print(arr.itemsize)\n",
    "print(arr.ndim)\n",
    "print(arr.size)\n",
    "print(arr.shape)"
   ],
   "id": "9e2c8f248f902c77",
   "outputs": [
    {
     "name": "stdout",
     "output_type": "stream",
     "text": [
      "789\n",
      "789\n",
      "<class 'int'>\n",
      "<class 'numpy.ndarray'>\n",
      "int32\n",
      "4\n",
      "0\n",
      "1\n",
      "()\n"
     ]
    }
   ],
   "execution_count": 2
  },
  {
   "metadata": {
    "ExecuteTime": {
     "end_time": "2025-09-22T13:17:10.984272Z",
     "start_time": "2025-09-22T13:17:10.970109Z"
    }
   },
   "cell_type": "code",
   "source": [
    "array = np.array([1, 2, 3.5, 6, 7, 8, 9])\n",
    "print(array)\n",
    "array = np.array([1, 2, 3.5, 6, 7, 8, 9], dtype=str)\n",
    "print(array)\n",
    "print(type(array))\n",
    "print(len(array))\n",
    "print(list(array))\n",
    "print(tuple(array))\n",
    "print(array[1::2])"
   ],
   "id": "48131c7c648056ad",
   "outputs": [
    {
     "name": "stdout",
     "output_type": "stream",
     "text": [
      "[1.  2.  3.5 6.  7.  8.  9. ]\n",
      "['1' '2' '3.5' '6' '7' '8' '9']\n",
      "<class 'numpy.ndarray'>\n",
      "7\n",
      "['1', '2', '3.5', '6', '7', '8', '9']\n",
      "('1', '2', '3.5', '6', '7', '8', '9')\n",
      "['2' '6' '8']\n"
     ]
    }
   ],
   "execution_count": 3
  },
  {
   "metadata": {
    "ExecuteTime": {
     "end_time": "2025-09-22T13:17:11.000134Z",
     "start_time": "2025-09-22T13:17:10.985634Z"
    }
   },
   "cell_type": "code",
   "source": [
    "lst = [1, 2, 3.5, 6, 7, 8, 9]\n",
    "lst[1:4] = [99, 22]\n",
    "print(lst)\n",
    "# array[1:4] = [99, 22]\n",
    "array[1:4] = [99, 22, 44]\n",
    "print(array)"
   ],
   "id": "81c1eeb9f0b1d58d",
   "outputs": [
    {
     "name": "stdout",
     "output_type": "stream",
     "text": [
      "[1, 99, 22, 7, 8, 9]\n",
      "['1' '99' '22' '44' '7' '8' '9']\n"
     ]
    }
   ],
   "execution_count": 4
  },
  {
   "metadata": {},
   "cell_type": "markdown",
   "source": [
    "##### NDARRAY常用属性 描述  \n",
    "ndarray.ndim &emsp;&emsp;&emsp;&emsp;&emsp; 秩，即轴的数量或维度的数量  \n",
    "ndarray.shape &emsp;&emsp;&emsp;&emsp; 数组的形状  \n",
    "ndarray.size &emsp;&emsp;&emsp;&emsp;&emsp;&emsp;数组中数据的总个数  \n",
    "ndarray.dtype &emsp;&emsp;&emsp;&emsp;&emsp;数组中的数据类型  \n",
    "ndarray.itemsize &emsp;&emsp;&emsp;&emsp; 数组中的数据大小，以字节为单位"
   ],
   "id": "1af000f30298a0d4"
  },
  {
   "metadata": {
    "ExecuteTime": {
     "end_time": "2025-09-22T13:17:11.018233Z",
     "start_time": "2025-09-22T13:17:11.001416Z"
    }
   },
   "cell_type": "code",
   "source": [
    "print(lst)\n",
    "print(arr)\n",
    "print(arr.dtype)\n",
    "print(arr.itemsize)\n",
    "print(arr.ndim)\n",
    "print(arr.size)\n",
    "print(arr.shape)"
   ],
   "id": "f9957fd90f1fe138",
   "outputs": [
    {
     "name": "stdout",
     "output_type": "stream",
     "text": [
      "[1, 99, 22, 7, 8, 9]\n",
      "789\n",
      "int32\n",
      "4\n",
      "0\n",
      "1\n",
      "()\n"
     ]
    }
   ],
   "execution_count": 5
  },
  {
   "metadata": {
    "ExecuteTime": {
     "end_time": "2025-09-22T13:17:11.031814Z",
     "start_time": "2025-09-22T13:17:11.020468Z"
    }
   },
   "cell_type": "code",
   "source": [
    "arr = np.array(lst, dtype=int)\n",
    "print(arr.dtype)\n",
    "print(arr.itemsize)\n",
    "print(arr.ndim)\n",
    "print(arr.size)\n",
    "print(arr.shape)"
   ],
   "id": "ad5fcf21e27d9224",
   "outputs": [
    {
     "name": "stdout",
     "output_type": "stream",
     "text": [
      "int32\n",
      "4\n",
      "1\n",
      "6\n",
      "(6,)\n"
     ]
    }
   ],
   "execution_count": 6
  },
  {
   "metadata": {
    "ExecuteTime": {
     "end_time": "2025-09-22T13:17:11.047062Z",
     "start_time": "2025-09-22T13:17:11.032976Z"
    }
   },
   "cell_type": "code",
   "source": [
    "arr = np.array({'name': 'jake', 'age': 23})\n",
    "print(arr)\n",
    "print(type(arr))\n",
    "print(arr.dtype)\n",
    "print(arr.itemsize)\n",
    "print(arr.ndim)\n",
    "print(arr.size)\n",
    "print(arr.shape)"
   ],
   "id": "e40b27a3ddf73c1",
   "outputs": [
    {
     "name": "stdout",
     "output_type": "stream",
     "text": [
      "{'name': 'jake', 'age': 23}\n",
      "<class 'numpy.ndarray'>\n",
      "object\n",
      "8\n",
      "0\n",
      "1\n",
      "()\n"
     ]
    }
   ],
   "execution_count": 7
  },
  {
   "metadata": {
    "ExecuteTime": {
     "end_time": "2025-09-22T13:17:11.063132Z",
     "start_time": "2025-09-22T13:17:11.047062Z"
    }
   },
   "cell_type": "code",
   "source": [
    "# lst = [[8, 9, 2], [3, 7]]\n",
    "lst = [[8, 9, 2], [3, 7.2, 6]]\n",
    "arr = np.array(lst)\n",
    "print(lst)\n",
    "print(arr)\n",
    "print(len(lst))\n",
    "print(len(arr))\n",
    "print(arr.size)\n",
    "print(arr.shape)"
   ],
   "id": "a8bdd2f4e46635a8",
   "outputs": [
    {
     "name": "stdout",
     "output_type": "stream",
     "text": [
      "[[8, 9, 2], [3, 7.2, 6]]\n",
      "[[8.  9.  2. ]\n",
      " [3.  7.2 6. ]]\n",
      "2\n",
      "2\n",
      "6\n",
      "(2, 3)\n"
     ]
    }
   ],
   "execution_count": 8
  },
  {
   "metadata": {
    "ExecuteTime": {
     "end_time": "2025-09-22T13:17:11.079239Z",
     "start_time": "2025-09-22T13:17:11.064418Z"
    }
   },
   "cell_type": "code",
   "source": [
    "lst = [[[8, 9], [2, 3], [3, 7], [6, 8]]]\n",
    "arr = np.array(lst)\n",
    "print(arr)\n",
    "print(arr.shape)"
   ],
   "id": "673e671912ff08d2",
   "outputs": [
    {
     "name": "stdout",
     "output_type": "stream",
     "text": [
      "[[[8 9]\n",
      "  [2 3]\n",
      "  [3 7]\n",
      "  [6 8]]]\n",
      "(1, 4, 2)\n"
     ]
    }
   ],
   "execution_count": 9
  },
  {
   "metadata": {
    "ExecuteTime": {
     "end_time": "2025-09-22T13:17:11.095193Z",
     "start_time": "2025-09-22T13:17:11.080627Z"
    }
   },
   "cell_type": "code",
   "source": [
    "lst = [[[[8, 9, 6], [2, 3, 0]], [[7, 6, 7], [4, 1, 3]]]]\n",
    "arr = np.array(lst)\n",
    "print(arr)\n",
    "print(arr.shape)"
   ],
   "id": "707a5ac34cf49121",
   "outputs": [
    {
     "name": "stdout",
     "output_type": "stream",
     "text": [
      "[[[[8 9 6]\n",
      "   [2 3 0]]\n",
      "\n",
      "  [[7 6 7]\n",
      "   [4 1 3]]]]\n",
      "(1, 2, 2, 3)\n"
     ]
    }
   ],
   "execution_count": 10
  },
  {
   "metadata": {
    "ExecuteTime": {
     "end_time": "2025-09-22T13:17:11.111315Z",
     "start_time": "2025-09-22T13:17:11.096532Z"
    }
   },
   "cell_type": "code",
   "source": [
    "lst = [[[[1, 2, 3], [1, 2, 3], [1, 2, 3], [1, 2, 3]]], [[[1, 2, 3], [1, 2, 3], [1, 2, 3], [1, 2, 3]]]]\n",
    "arr = np.array(lst)\n",
    "print(arr.shape)"
   ],
   "id": "929cb0a85cb1f0a9",
   "outputs": [
    {
     "name": "stdout",
     "output_type": "stream",
     "text": [
      "(2, 1, 4, 3)\n"
     ]
    }
   ],
   "execution_count": 11
  },
  {
   "metadata": {},
   "cell_type": "markdown",
   "source": [
    "#### np.arange([start,] stop[, step])\n",
    "- 返回给定区间内的均匀间隔值构成的数组"
   ],
   "id": "1c11dccbdea02841"
  },
  {
   "metadata": {
    "ExecuteTime": {
     "end_time": "2025-09-22T13:17:11.126473Z",
     "start_time": "2025-09-22T13:17:11.112747Z"
    }
   },
   "cell_type": "code",
   "source": [
    "print(list(range(1, 10, 2)))\n",
    "print(np.arange(1, 10, 2))"
   ],
   "id": "1697a2de746c40ab",
   "outputs": [
    {
     "name": "stdout",
     "output_type": "stream",
     "text": [
      "[1, 3, 5, 7, 9]\n",
      "[1 3 5 7 9]\n"
     ]
    }
   ],
   "execution_count": 12
  },
  {
   "metadata": {
    "ExecuteTime": {
     "end_time": "2025-09-22T13:17:11.141601Z",
     "start_time": "2025-09-22T13:17:11.127549Z"
    }
   },
   "cell_type": "code",
   "source": [
    "print(list(range(9, 0, -2)))\n",
    "print(np.arange(9, 0, -2))"
   ],
   "id": "fd3e26e7bff27313",
   "outputs": [
    {
     "name": "stdout",
     "output_type": "stream",
     "text": [
      "[9, 7, 5, 3, 1]\n",
      "[9 7 5 3 1]\n"
     ]
    }
   ],
   "execution_count": 13
  },
  {
   "metadata": {
    "ExecuteTime": {
     "end_time": "2025-09-22T13:17:11.157065Z",
     "start_time": "2025-09-22T13:17:11.142721Z"
    }
   },
   "cell_type": "code",
   "source": [
    "print(list(range(1, 6)))\n",
    "print(np.arange(1, 6))\n",
    "print(list(range(6)))\n",
    "print(np.arange(6))"
   ],
   "id": "5662c3e157afe391",
   "outputs": [
    {
     "name": "stdout",
     "output_type": "stream",
     "text": [
      "[1, 2, 3, 4, 5]\n",
      "[1 2 3 4 5]\n",
      "[0, 1, 2, 3, 4, 5]\n",
      "[0 1 2 3 4 5]\n"
     ]
    }
   ],
   "execution_count": 14
  },
  {
   "metadata": {
    "ExecuteTime": {
     "end_time": "2025-09-22T13:17:11.173072Z",
     "start_time": "2025-09-22T13:17:11.157065Z"
    }
   },
   "cell_type": "code",
   "source": [
    "# print(list(range(1.5, 12, 2.5)))\n",
    "print(np.arange(1.5, 12, 2.5))"
   ],
   "id": "1e85c381b6efbf9f",
   "outputs": [
    {
     "name": "stdout",
     "output_type": "stream",
     "text": [
      "[ 1.5  4.   6.5  9.  11.5]\n"
     ]
    }
   ],
   "execution_count": 15
  },
  {
   "metadata": {},
   "cell_type": "markdown",
   "source": [
    "#### np.linspace(start, stop, num=50, dtype=None)\n",
    "- num：生成的样本数量  \n",
    "- dtype：默认自动推断数据类型，推断出的 dtype 永远不会是整数；即使参数会产生一个整数数组，也会选择 np.float64\n",
    "- 把给定区间分成 num 个均匀间隔的样本，构成数组并返回"
   ],
   "id": "7152ca9469446965"
  },
  {
   "metadata": {
    "ExecuteTime": {
     "end_time": "2025-09-22T13:17:11.189160Z",
     "start_time": "2025-09-22T13:17:11.174068Z"
    }
   },
   "cell_type": "code",
   "source": [
    "print(np.linspace(1, 50))\n",
    "print(np.linspace(1, 10, num=10))\n",
    "print(np.linspace(1, 10, num=10, dtype=np.int32))\n",
    "print(np.linspace(1, 10, num=10, dtype=int))"
   ],
   "id": "ccc7a3ca97bef1e9",
   "outputs": [
    {
     "name": "stdout",
     "output_type": "stream",
     "text": [
      "[ 1.  2.  3.  4.  5.  6.  7.  8.  9. 10. 11. 12. 13. 14. 15. 16. 17. 18.\n",
      " 19. 20. 21. 22. 23. 24. 25. 26. 27. 28. 29. 30. 31. 32. 33. 34. 35. 36.\n",
      " 37. 38. 39. 40. 41. 42. 43. 44. 45. 46. 47. 48. 49. 50.]\n",
      "[ 1.  2.  3.  4.  5.  6.  7.  8.  9. 10.]\n",
      "[ 1  2  3  4  5  6  7  8  9 10]\n",
      "[ 1  2  3  4  5  6  7  8  9 10]\n"
     ]
    }
   ],
   "execution_count": 16
  },
  {
   "metadata": {
    "ExecuteTime": {
     "end_time": "2025-09-22T13:17:11.205255Z",
     "start_time": "2025-09-22T13:17:11.189160Z"
    }
   },
   "cell_type": "code",
   "source": [
    "print(np.linspace(1, 50, num=25))\n",
    "print(np.linspace(1, 50, num=25, dtype=int))"
   ],
   "id": "15703f14d39e263b",
   "outputs": [
    {
     "name": "stdout",
     "output_type": "stream",
     "text": [
      "[ 1.          3.04166667  5.08333333  7.125       9.16666667 11.20833333\n",
      " 13.25       15.29166667 17.33333333 19.375      21.41666667 23.45833333\n",
      " 25.5        27.54166667 29.58333333 31.625      33.66666667 35.70833333\n",
      " 37.75       39.79166667 41.83333333 43.875      45.91666667 47.95833333\n",
      " 50.        ]\n",
      "[ 1  3  5  7  9 11 13 15 17 19 21 23 25 27 29 31 33 35 37 39 41 43 45 47\n",
      " 50]\n"
     ]
    }
   ],
   "execution_count": 17
  },
  {
   "metadata": {},
   "cell_type": "markdown",
   "source": [
    "#### np.reshape(arr_like, newshape)\n",
    "- 保证 size 不变，在不更改数据的情况下为数组赋予新的形状\n",
    "- newshape如果是整数，则结果将是该长度的1-D数组\n",
    "- newshape的一个形状维度可以是-1，值将自行推断"
   ],
   "id": "ceefe895a6ba7c9f"
  },
  {
   "metadata": {
    "ExecuteTime": {
     "end_time": "2025-09-22T13:17:11.221081Z",
     "start_time": "2025-09-22T13:17:11.206771Z"
    }
   },
   "cell_type": "code",
   "source": [
    "arr = np.arange(24)\n",
    "print(arr.reshape(4, 6))\n",
    "print('*' * 30)\n",
    "print(np.reshape(arr, (4, 6)))"
   ],
   "id": "8b00e57d178bccb3",
   "outputs": [
    {
     "name": "stdout",
     "output_type": "stream",
     "text": [
      "[[ 0  1  2  3  4  5]\n",
      " [ 6  7  8  9 10 11]\n",
      " [12 13 14 15 16 17]\n",
      " [18 19 20 21 22 23]]\n",
      "******************************\n",
      "[[ 0  1  2  3  4  5]\n",
      " [ 6  7  8  9 10 11]\n",
      " [12 13 14 15 16 17]\n",
      " [18 19 20 21 22 23]]\n"
     ]
    }
   ],
   "execution_count": 18
  },
  {
   "metadata": {
    "ExecuteTime": {
     "end_time": "2025-09-22T13:17:11.236322Z",
     "start_time": "2025-09-22T13:17:11.222320Z"
    }
   },
   "cell_type": "code",
   "source": "print(np.reshape(arr, (4, 2, 3)))",
   "id": "162ae1e1548e2cb6",
   "outputs": [
    {
     "name": "stdout",
     "output_type": "stream",
     "text": [
      "[[[ 0  1  2]\n",
      "  [ 3  4  5]]\n",
      "\n",
      " [[ 6  7  8]\n",
      "  [ 9 10 11]]\n",
      "\n",
      " [[12 13 14]\n",
      "  [15 16 17]]\n",
      "\n",
      " [[18 19 20]\n",
      "  [21 22 23]]]\n"
     ]
    }
   ],
   "execution_count": 19
  },
  {
   "metadata": {
    "ExecuteTime": {
     "end_time": "2025-09-22T13:17:11.393189Z",
     "start_time": "2025-09-22T13:17:11.236322Z"
    }
   },
   "cell_type": "code",
   "source": [
    "arr = np.arange(24)\n",
    "print(np.reshape(arr, (4, -1)))\n",
    "print(np.reshape(arr, (5, -1)))"
   ],
   "id": "8ce921e15da2910f",
   "outputs": [
    {
     "name": "stdout",
     "output_type": "stream",
     "text": [
      "[[ 0  1  2  3  4  5]\n",
      " [ 6  7  8  9 10 11]\n",
      " [12 13 14 15 16 17]\n",
      " [18 19 20 21 22 23]]\n"
     ]
    },
    {
     "ename": "ValueError",
     "evalue": "cannot reshape array of size 24 into shape (5,newaxis)",
     "output_type": "error",
     "traceback": [
      "\u001B[1;31m---------------------------------------------------------------------------\u001B[0m",
      "\u001B[1;31mValueError\u001B[0m                                Traceback (most recent call last)",
      "\u001B[1;32m<ipython-input-20-943b453ab11a>\u001B[0m in \u001B[0;36m<module>\u001B[1;34m\u001B[0m\n\u001B[0;32m      1\u001B[0m \u001B[0marr\u001B[0m \u001B[1;33m=\u001B[0m \u001B[0mnp\u001B[0m\u001B[1;33m.\u001B[0m\u001B[0marange\u001B[0m\u001B[1;33m(\u001B[0m\u001B[1;36m24\u001B[0m\u001B[1;33m)\u001B[0m\u001B[1;33m\u001B[0m\u001B[1;33m\u001B[0m\u001B[0m\n\u001B[0;32m      2\u001B[0m \u001B[0mprint\u001B[0m\u001B[1;33m(\u001B[0m\u001B[0mnp\u001B[0m\u001B[1;33m.\u001B[0m\u001B[0mreshape\u001B[0m\u001B[1;33m(\u001B[0m\u001B[0marr\u001B[0m\u001B[1;33m,\u001B[0m \u001B[1;33m(\u001B[0m\u001B[1;36m4\u001B[0m\u001B[1;33m,\u001B[0m \u001B[1;33m-\u001B[0m\u001B[1;36m1\u001B[0m\u001B[1;33m)\u001B[0m\u001B[1;33m)\u001B[0m\u001B[1;33m)\u001B[0m\u001B[1;33m\u001B[0m\u001B[1;33m\u001B[0m\u001B[0m\n\u001B[1;32m----> 3\u001B[1;33m \u001B[0mprint\u001B[0m\u001B[1;33m(\u001B[0m\u001B[0mnp\u001B[0m\u001B[1;33m.\u001B[0m\u001B[0mreshape\u001B[0m\u001B[1;33m(\u001B[0m\u001B[0marr\u001B[0m\u001B[1;33m,\u001B[0m \u001B[1;33m(\u001B[0m\u001B[1;36m5\u001B[0m\u001B[1;33m,\u001B[0m \u001B[1;33m-\u001B[0m\u001B[1;36m1\u001B[0m\u001B[1;33m)\u001B[0m\u001B[1;33m)\u001B[0m\u001B[1;33m)\u001B[0m\u001B[1;33m\u001B[0m\u001B[1;33m\u001B[0m\u001B[0m\n\u001B[0m",
      "\u001B[1;32m<__array_function__ internals>\u001B[0m in \u001B[0;36mreshape\u001B[1;34m(*args, **kwargs)\u001B[0m\n",
      "\u001B[1;32mC:\\MySoftware\\Anaconda3\\lib\\site-packages\\numpy\\core\\fromnumeric.py\u001B[0m in \u001B[0;36mreshape\u001B[1;34m(a, newshape, order)\u001B[0m\n\u001B[0;32m    297\u001B[0m            [5, 6]])\n\u001B[0;32m    298\u001B[0m     \"\"\"\n\u001B[1;32m--> 299\u001B[1;33m     \u001B[1;32mreturn\u001B[0m \u001B[0m_wrapfunc\u001B[0m\u001B[1;33m(\u001B[0m\u001B[0ma\u001B[0m\u001B[1;33m,\u001B[0m \u001B[1;34m'reshape'\u001B[0m\u001B[1;33m,\u001B[0m \u001B[0mnewshape\u001B[0m\u001B[1;33m,\u001B[0m \u001B[0morder\u001B[0m\u001B[1;33m=\u001B[0m\u001B[0morder\u001B[0m\u001B[1;33m)\u001B[0m\u001B[1;33m\u001B[0m\u001B[1;33m\u001B[0m\u001B[0m\n\u001B[0m\u001B[0;32m    300\u001B[0m \u001B[1;33m\u001B[0m\u001B[0m\n\u001B[0;32m    301\u001B[0m \u001B[1;33m\u001B[0m\u001B[0m\n",
      "\u001B[1;32mC:\\MySoftware\\Anaconda3\\lib\\site-packages\\numpy\\core\\fromnumeric.py\u001B[0m in \u001B[0;36m_wrapfunc\u001B[1;34m(obj, method, *args, **kwds)\u001B[0m\n\u001B[0;32m     56\u001B[0m \u001B[1;33m\u001B[0m\u001B[0m\n\u001B[0;32m     57\u001B[0m     \u001B[1;32mtry\u001B[0m\u001B[1;33m:\u001B[0m\u001B[1;33m\u001B[0m\u001B[1;33m\u001B[0m\u001B[0m\n\u001B[1;32m---> 58\u001B[1;33m         \u001B[1;32mreturn\u001B[0m \u001B[0mbound\u001B[0m\u001B[1;33m(\u001B[0m\u001B[1;33m*\u001B[0m\u001B[0margs\u001B[0m\u001B[1;33m,\u001B[0m \u001B[1;33m**\u001B[0m\u001B[0mkwds\u001B[0m\u001B[1;33m)\u001B[0m\u001B[1;33m\u001B[0m\u001B[1;33m\u001B[0m\u001B[0m\n\u001B[0m\u001B[0;32m     59\u001B[0m     \u001B[1;32mexcept\u001B[0m \u001B[0mTypeError\u001B[0m\u001B[1;33m:\u001B[0m\u001B[1;33m\u001B[0m\u001B[1;33m\u001B[0m\u001B[0m\n\u001B[0;32m     60\u001B[0m         \u001B[1;31m# A TypeError occurs if the object does have such a method in its\u001B[0m\u001B[1;33m\u001B[0m\u001B[1;33m\u001B[0m\u001B[1;33m\u001B[0m\u001B[0m\n",
      "\u001B[1;31mValueError\u001B[0m: cannot reshape array of size 24 into shape (5,newaxis)"
     ]
    }
   ],
   "execution_count": 20
  },
  {
   "metadata": {
    "ExecuteTime": {
     "end_time": "2025-09-22T13:17:23.463430Z",
     "start_time": "2025-09-22T13:17:23.455791Z"
    }
   },
   "cell_type": "code",
   "source": [
    "arr = np.arange(24).reshape(4, 6)\n",
    "print(np.reshape(arr, (24,)))\n",
    "print(np.reshape(arr, 24))\n",
    "print(np.reshape(arr, -1))\n",
    "print(arr.reshape(24))\n",
    "print(arr.reshape(-1))"
   ],
   "id": "17f13161c8fc3b10",
   "outputs": [
    {
     "name": "stdout",
     "output_type": "stream",
     "text": [
      "[ 0  1  2  3  4  5  6  7  8  9 10 11 12 13 14 15 16 17 18 19 20 21 22 23]\n",
      "[ 0  1  2  3  4  5  6  7  8  9 10 11 12 13 14 15 16 17 18 19 20 21 22 23]\n",
      "[ 0  1  2  3  4  5  6  7  8  9 10 11 12 13 14 15 16 17 18 19 20 21 22 23]\n",
      "[ 0  1  2  3  4  5  6  7  8  9 10 11 12 13 14 15 16 17 18 19 20 21 22 23]\n",
      "[ 0  1  2  3  4  5  6  7  8  9 10 11 12 13 14 15 16 17 18 19 20 21 22 23]\n"
     ]
    }
   ],
   "execution_count": 21
  },
  {
   "metadata": {},
   "cell_type": "markdown",
   "source": [
    "#### ndarray.flatten()\n",
    "- 返回扁平化到一维的数组"
   ],
   "id": "65f90944cac6ea2"
  },
  {
   "metadata": {
    "ExecuteTime": {
     "end_time": "2025-09-22T13:17:25.232026Z",
     "start_time": "2025-09-22T13:17:25.214246Z"
    }
   },
   "cell_type": "code",
   "source": [
    "arr = np.arange(24).reshape(4, 6)\n",
    "print(arr.flatten())"
   ],
   "id": "2a8299d17e928d6c",
   "outputs": [
    {
     "name": "stdout",
     "output_type": "stream",
     "text": [
      "[ 0  1  2  3  4  5  6  7  8  9 10 11 12 13 14 15 16 17 18 19 20 21 22 23]\n"
     ]
    }
   ],
   "execution_count": 22
  },
  {
   "metadata": {},
   "cell_type": "code",
   "source": "",
   "id": "2eacb0d849987f10",
   "outputs": [],
   "execution_count": null
  }
 ],
 "metadata": {
  "kernelspec": {
   "display_name": "Python 3",
   "language": "python",
   "name": "python3"
  },
  "language_info": {
   "codemirror_mode": {
    "name": "ipython",
    "version": 2
   },
   "file_extension": ".py",
   "mimetype": "text/x-python",
   "name": "python",
   "nbconvert_exporter": "python",
   "pygments_lexer": "ipython2",
   "version": "2.7.6"
  }
 },
 "nbformat": 4,
 "nbformat_minor": 5
}
