{
 "cells": [
  {
   "metadata": {},
   "cell_type": "markdown",
   "source": [
    "#### NumPy（Numerical Python）是 Python 进行科学计算的一个扩展库，提供了大量的函数和操作，主要用于对多维数组执行计算，它比 Python 自身的嵌套列表结构要高效的多。  \n",
    "NumPy 数组和 Python 列表的主要区别：  \n",
    "- 数组会对元素的数据类型做统一，而列表不会。  \n",
    "- 数组创建后具有固定大小，而列表由于内存自动管理，可动态调整。"
   ],
   "id": "1990018b44596aa0"
  },
  {
   "metadata": {
    "ExecuteTime": {
     "end_time": "2025-09-24T12:06:27.596941Z",
     "start_time": "2025-09-24T12:06:27.140123Z"
    }
   },
   "cell_type": "code",
   "source": "import numpy as np",
   "id": "b16172d80100a894",
   "outputs": [],
   "execution_count": 1
  },
  {
   "metadata": {},
   "cell_type": "markdown",
   "source": [
    "#### np.array(object, dtype=None)\n",
    "创建数组:  \n",
    "- object：array_like，类似于数组的对象。如果object是标量，则返回包含object的0维数组  \n",
    "- dtype：data-type，数据类型。如果没有给出，会从输入数据推断数据类型  \n",
    "- 创建一个数组对象并返回（ndarray实例对象）"
   ],
   "id": "d67c6cba89de3f14"
  },
  {
   "metadata": {
    "ExecuteTime": {
     "end_time": "2025-09-24T12:06:27.613150Z",
     "start_time": "2025-09-24T12:06:27.597926Z"
    }
   },
   "cell_type": "code",
   "source": [
    "num = 789\n",
    "arr = np.array(num)\n",
    "print(num)\n",
    "print(arr)\n",
    "print(type(num))\n",
    "print(type(arr))\n",
    "print(arr.dtype)\n",
    "print(arr.itemsize)\n",
    "print(arr.ndim)\n",
    "print(arr.size)\n",
    "print(arr.shape)"
   ],
   "id": "9e2c8f248f902c77",
   "outputs": [
    {
     "name": "stdout",
     "output_type": "stream",
     "text": [
      "789\n",
      "789\n",
      "<class 'int'>\n",
      "<class 'numpy.ndarray'>\n",
      "int32\n",
      "4\n",
      "0\n",
      "1\n",
      "()\n"
     ]
    }
   ],
   "execution_count": 2
  },
  {
   "metadata": {
    "ExecuteTime": {
     "end_time": "2025-09-24T12:06:27.628738Z",
     "start_time": "2025-09-24T12:06:27.614280Z"
    }
   },
   "cell_type": "code",
   "source": [
    "array = np.array([1, 2, 3.5, 6, 7, 8, 9])\n",
    "print(array)\n",
    "array = np.array([1, 2, 3.5, 6, 7, 8, 9], dtype=str)\n",
    "print(array)\n",
    "print(type(array))\n",
    "print(len(array))\n",
    "print(list(array))\n",
    "print(tuple(array))\n",
    "print(array[1::2])"
   ],
   "id": "48131c7c648056ad",
   "outputs": [
    {
     "name": "stdout",
     "output_type": "stream",
     "text": [
      "[1.  2.  3.5 6.  7.  8.  9. ]\n",
      "['1' '2' '3.5' '6' '7' '8' '9']\n",
      "<class 'numpy.ndarray'>\n",
      "7\n",
      "['1', '2', '3.5', '6', '7', '8', '9']\n",
      "('1', '2', '3.5', '6', '7', '8', '9')\n",
      "['2' '6' '8']\n"
     ]
    }
   ],
   "execution_count": 3
  },
  {
   "metadata": {
    "ExecuteTime": {
     "end_time": "2025-09-24T12:06:27.644339Z",
     "start_time": "2025-09-24T12:06:27.629812Z"
    }
   },
   "cell_type": "code",
   "source": [
    "lst = [1, 2, 3.5, 6, 7, 8, 9]\n",
    "lst[1:4] = [99, 22]\n",
    "print(lst)\n",
    "# array[1:4] = [99, 22]\n",
    "array[1:4] = [99, 22, 44]\n",
    "print(array)"
   ],
   "id": "81c1eeb9f0b1d58d",
   "outputs": [
    {
     "name": "stdout",
     "output_type": "stream",
     "text": [
      "[1, 99, 22, 7, 8, 9]\n",
      "['1' '99' '22' '44' '7' '8' '9']\n"
     ]
    }
   ],
   "execution_count": 4
  },
  {
   "metadata": {},
   "cell_type": "markdown",
   "source": [
    "##### NDARRAY常用属性 描述  \n",
    "ndarray.ndim &emsp;&emsp;&emsp;&emsp;&emsp; 秩，即轴的数量或维度的数量  \n",
    "ndarray.shape &emsp;&emsp;&emsp;&emsp; 数组的形状  \n",
    "ndarray.size &emsp;&emsp;&emsp;&emsp;&emsp;&emsp;数组中数据的总个数  \n",
    "ndarray.dtype &emsp;&emsp;&emsp;&emsp;&emsp;数组中的数据类型  \n",
    "ndarray.itemsize &emsp;&emsp;&emsp;&emsp; 数组中的数据大小，以字节为单位"
   ],
   "id": "1af000f30298a0d4"
  },
  {
   "metadata": {
    "ExecuteTime": {
     "end_time": "2025-09-24T12:06:27.659999Z",
     "start_time": "2025-09-24T12:06:27.645393Z"
    }
   },
   "cell_type": "code",
   "source": [
    "print(lst)\n",
    "print(arr)\n",
    "print(arr.dtype)\n",
    "print(arr.itemsize)\n",
    "print(arr.ndim)\n",
    "print(arr.size)\n",
    "print(arr.shape)"
   ],
   "id": "f9957fd90f1fe138",
   "outputs": [
    {
     "name": "stdout",
     "output_type": "stream",
     "text": [
      "[1, 99, 22, 7, 8, 9]\n",
      "789\n",
      "int32\n",
      "4\n",
      "0\n",
      "1\n",
      "()\n"
     ]
    }
   ],
   "execution_count": 5
  },
  {
   "metadata": {
    "ExecuteTime": {
     "end_time": "2025-09-24T12:06:27.674823Z",
     "start_time": "2025-09-24T12:06:27.660996Z"
    }
   },
   "cell_type": "code",
   "source": [
    "arr = np.array(lst, dtype=int)\n",
    "print(arr.dtype)\n",
    "print(arr.itemsize)\n",
    "print(arr.ndim)\n",
    "print(arr.size)\n",
    "print(arr.shape)"
   ],
   "id": "ad5fcf21e27d9224",
   "outputs": [
    {
     "name": "stdout",
     "output_type": "stream",
     "text": [
      "int32\n",
      "4\n",
      "1\n",
      "6\n",
      "(6,)\n"
     ]
    }
   ],
   "execution_count": 6
  },
  {
   "metadata": {
    "ExecuteTime": {
     "end_time": "2025-09-24T12:06:27.690369Z",
     "start_time": "2025-09-24T12:06:27.676164Z"
    }
   },
   "cell_type": "code",
   "source": [
    "arr = np.array({'name': 'jake', 'age': 23})\n",
    "print(arr)\n",
    "print(type(arr))\n",
    "print(arr.dtype)\n",
    "print(arr.itemsize)\n",
    "print(arr.ndim)\n",
    "print(arr.size)\n",
    "print(arr.shape)"
   ],
   "id": "e40b27a3ddf73c1",
   "outputs": [
    {
     "name": "stdout",
     "output_type": "stream",
     "text": [
      "{'name': 'jake', 'age': 23}\n",
      "<class 'numpy.ndarray'>\n",
      "object\n",
      "8\n",
      "0\n",
      "1\n",
      "()\n"
     ]
    }
   ],
   "execution_count": 7
  },
  {
   "metadata": {
    "ExecuteTime": {
     "end_time": "2025-09-24T12:06:27.706136Z",
     "start_time": "2025-09-24T12:06:27.691490Z"
    }
   },
   "cell_type": "code",
   "source": [
    "# lst = [[8, 9, 2], [3, 7]]\n",
    "lst = [[8, 9, 2], \n",
    "       [3, 7.2, 6]]\n",
    "arr = np.array(lst)\n",
    "print(lst)\n",
    "print(arr)\n",
    "print(len(lst))\n",
    "print(len(arr))\n",
    "print(arr.size)\n",
    "print(arr.shape)"
   ],
   "id": "a8bdd2f4e46635a8",
   "outputs": [
    {
     "name": "stdout",
     "output_type": "stream",
     "text": [
      "[[8, 9, 2], [3, 7.2, 6]]\n",
      "[[8.  9.  2. ]\n",
      " [3.  7.2 6. ]]\n",
      "2\n",
      "2\n",
      "6\n",
      "(2, 3)\n"
     ]
    }
   ],
   "execution_count": 8
  },
  {
   "metadata": {
    "ExecuteTime": {
     "end_time": "2025-09-24T12:06:27.721619Z",
     "start_time": "2025-09-24T12:06:27.707243Z"
    }
   },
   "cell_type": "code",
   "source": [
    "lst = [[[8, 9], \n",
    "        [2, 3], \n",
    "        [3, 7], \n",
    "        [6, 8]]]\n",
    "arr = np.array(lst)\n",
    "print(arr)\n",
    "print(arr.shape)"
   ],
   "id": "673e671912ff08d2",
   "outputs": [
    {
     "name": "stdout",
     "output_type": "stream",
     "text": [
      "[[[8 9]\n",
      "  [2 3]\n",
      "  [3 7]\n",
      "  [6 8]]]\n",
      "(1, 4, 2)\n"
     ]
    }
   ],
   "execution_count": 9
  },
  {
   "metadata": {
    "ExecuteTime": {
     "end_time": "2025-09-24T12:06:27.737563Z",
     "start_time": "2025-09-24T12:06:27.722799Z"
    }
   },
   "cell_type": "code",
   "source": [
    "lst = [[[[8, 9, 6], \n",
    "         [2, 3, 0]], \n",
    "        [[7, 6, 7], \n",
    "         [4, 1, 3]]]]\n",
    "arr = np.array(lst)\n",
    "print(arr)\n",
    "print(arr.shape)"
   ],
   "id": "707a5ac34cf49121",
   "outputs": [
    {
     "name": "stdout",
     "output_type": "stream",
     "text": [
      "[[[[8 9 6]\n",
      "   [2 3 0]]\n",
      "\n",
      "  [[7 6 7]\n",
      "   [4 1 3]]]]\n",
      "(1, 2, 2, 3)\n"
     ]
    }
   ],
   "execution_count": 10
  },
  {
   "metadata": {
    "ExecuteTime": {
     "end_time": "2025-09-24T12:06:27.753559Z",
     "start_time": "2025-09-24T12:06:27.738737Z"
    }
   },
   "cell_type": "code",
   "source": [
    "lst = [[[[1, 2, 3], \n",
    "         [1, 2, 3], \n",
    "         [1, 2, 3], \n",
    "         [1, 2, 3]]], \n",
    "       [[[1, 2, 3], \n",
    "         [1, 2, 3], \n",
    "         [1, 2, 3], \n",
    "         [1, 2, 3]]]]\n",
    "arr = np.array(lst)\n",
    "print(arr.shape)"
   ],
   "id": "929cb0a85cb1f0a9",
   "outputs": [
    {
     "name": "stdout",
     "output_type": "stream",
     "text": [
      "(2, 1, 4, 3)\n"
     ]
    }
   ],
   "execution_count": 11
  },
  {
   "metadata": {},
   "cell_type": "markdown",
   "source": [
    "#### np.arange([start,] stop[, step])\n",
    "- 返回给定区间内的均匀间隔值构成的数组"
   ],
   "id": "1c11dccbdea02841"
  },
  {
   "metadata": {
    "ExecuteTime": {
     "end_time": "2025-09-24T12:06:27.768758Z",
     "start_time": "2025-09-24T12:06:27.754559Z"
    }
   },
   "cell_type": "code",
   "source": [
    "print(list(range(1, 10, 2)))\n",
    "print(np.arange(1, 10, 2))"
   ],
   "id": "1697a2de746c40ab",
   "outputs": [
    {
     "name": "stdout",
     "output_type": "stream",
     "text": [
      "[1, 3, 5, 7, 9]\n",
      "[1 3 5 7 9]\n"
     ]
    }
   ],
   "execution_count": 12
  },
  {
   "metadata": {
    "ExecuteTime": {
     "end_time": "2025-09-24T12:06:27.784117Z",
     "start_time": "2025-09-24T12:06:27.769950Z"
    }
   },
   "cell_type": "code",
   "source": [
    "print(list(range(9, 0, -2)))\n",
    "print(np.arange(9, 0, -2))"
   ],
   "id": "fd3e26e7bff27313",
   "outputs": [
    {
     "name": "stdout",
     "output_type": "stream",
     "text": [
      "[9, 7, 5, 3, 1]\n",
      "[9 7 5 3 1]\n"
     ]
    }
   ],
   "execution_count": 13
  },
  {
   "metadata": {
    "ExecuteTime": {
     "end_time": "2025-09-24T12:06:27.799685Z",
     "start_time": "2025-09-24T12:06:27.784117Z"
    }
   },
   "cell_type": "code",
   "source": [
    "print(list(range(1, 6)))\n",
    "print(np.arange(1, 6))\n",
    "print(list(range(6)))\n",
    "print(np.arange(6))"
   ],
   "id": "5662c3e157afe391",
   "outputs": [
    {
     "name": "stdout",
     "output_type": "stream",
     "text": [
      "[1, 2, 3, 4, 5]\n",
      "[1 2 3 4 5]\n",
      "[0, 1, 2, 3, 4, 5]\n",
      "[0 1 2 3 4 5]\n"
     ]
    }
   ],
   "execution_count": 14
  },
  {
   "metadata": {
    "ExecuteTime": {
     "end_time": "2025-09-24T12:06:27.815039Z",
     "start_time": "2025-09-24T12:06:27.800682Z"
    }
   },
   "cell_type": "code",
   "source": [
    "# print(list(range(1.5, 12, 2.5)))\n",
    "print(np.arange(1.5, 12, 2.5))"
   ],
   "id": "1e85c381b6efbf9f",
   "outputs": [
    {
     "name": "stdout",
     "output_type": "stream",
     "text": [
      "[ 1.5  4.   6.5  9.  11.5]\n"
     ]
    }
   ],
   "execution_count": 15
  },
  {
   "metadata": {},
   "cell_type": "markdown",
   "source": [
    "#### np.linspace(start, stop, num=50, dtype=None)\n",
    "- num：生成的样本数量  \n",
    "- dtype：默认自动推断数据类型，推断出的 dtype 永远不会是整数；即使参数会产生一个整数数组，也会选择 np.float64\n",
    "- 把给定区间分成 num 个均匀间隔的样本，构成数组并返回"
   ],
   "id": "7152ca9469446965"
  },
  {
   "metadata": {
    "ExecuteTime": {
     "end_time": "2025-09-24T12:06:27.830991Z",
     "start_time": "2025-09-24T12:06:27.815039Z"
    }
   },
   "cell_type": "code",
   "source": [
    "print(np.linspace(1, 50))\n",
    "print(np.linspace(1, 10, num=10))\n",
    "print(np.linspace(1, 10, num=10, dtype=np.int32))\n",
    "print(np.linspace(1, 10, num=10, dtype=int))"
   ],
   "id": "ccc7a3ca97bef1e9",
   "outputs": [
    {
     "name": "stdout",
     "output_type": "stream",
     "text": [
      "[ 1.  2.  3.  4.  5.  6.  7.  8.  9. 10. 11. 12. 13. 14. 15. 16. 17. 18.\n",
      " 19. 20. 21. 22. 23. 24. 25. 26. 27. 28. 29. 30. 31. 32. 33. 34. 35. 36.\n",
      " 37. 38. 39. 40. 41. 42. 43. 44. 45. 46. 47. 48. 49. 50.]\n",
      "[ 1.  2.  3.  4.  5.  6.  7.  8.  9. 10.]\n",
      "[ 1  2  3  4  5  6  7  8  9 10]\n",
      "[ 1  2  3  4  5  6  7  8  9 10]\n"
     ]
    }
   ],
   "execution_count": 16
  },
  {
   "metadata": {
    "ExecuteTime": {
     "end_time": "2025-09-24T12:06:27.846082Z",
     "start_time": "2025-09-24T12:06:27.832340Z"
    }
   },
   "cell_type": "code",
   "source": [
    "print(np.linspace(1, 50, num=25))\n",
    "print(np.linspace(1, 50, num=25, dtype=int))"
   ],
   "id": "15703f14d39e263b",
   "outputs": [
    {
     "name": "stdout",
     "output_type": "stream",
     "text": [
      "[ 1.          3.04166667  5.08333333  7.125       9.16666667 11.20833333\n",
      " 13.25       15.29166667 17.33333333 19.375      21.41666667 23.45833333\n",
      " 25.5        27.54166667 29.58333333 31.625      33.66666667 35.70833333\n",
      " 37.75       39.79166667 41.83333333 43.875      45.91666667 47.95833333\n",
      " 50.        ]\n",
      "[ 1  3  5  7  9 11 13 15 17 19 21 23 25 27 29 31 33 35 37 39 41 43 45 47\n",
      " 50]\n"
     ]
    }
   ],
   "execution_count": 17
  },
  {
   "metadata": {},
   "cell_type": "markdown",
   "source": [
    "#### np.reshape(arr_like, newshape)\n",
    "- 保证 size 不变，在不更改数据的情况下为数组赋予新的形状\n",
    "- newshape如果是整数，则结果将是该长度的1-D数组\n",
    "- newshape的一个形状维度可以是-1，值将自行推断"
   ],
   "id": "ceefe895a6ba7c9f"
  },
  {
   "metadata": {
    "ExecuteTime": {
     "end_time": "2025-09-24T12:06:27.861090Z",
     "start_time": "2025-09-24T12:06:27.847080Z"
    }
   },
   "cell_type": "code",
   "source": [
    "arr = np.arange(24)\n",
    "print(arr.reshape(4, 6))\n",
    "print('*' * 30)\n",
    "print(np.reshape(arr, (4, 6)))"
   ],
   "id": "8b00e57d178bccb3",
   "outputs": [
    {
     "name": "stdout",
     "output_type": "stream",
     "text": [
      "[[ 0  1  2  3  4  5]\n",
      " [ 6  7  8  9 10 11]\n",
      " [12 13 14 15 16 17]\n",
      " [18 19 20 21 22 23]]\n",
      "******************************\n",
      "[[ 0  1  2  3  4  5]\n",
      " [ 6  7  8  9 10 11]\n",
      " [12 13 14 15 16 17]\n",
      " [18 19 20 21 22 23]]\n"
     ]
    }
   ],
   "execution_count": 18
  },
  {
   "metadata": {
    "ExecuteTime": {
     "end_time": "2025-09-24T12:06:27.877214Z",
     "start_time": "2025-09-24T12:06:27.862228Z"
    }
   },
   "cell_type": "code",
   "source": "print(np.reshape(arr, (4, 2, 3)))",
   "id": "162ae1e1548e2cb6",
   "outputs": [
    {
     "name": "stdout",
     "output_type": "stream",
     "text": [
      "[[[ 0  1  2]\n",
      "  [ 3  4  5]]\n",
      "\n",
      " [[ 6  7  8]\n",
      "  [ 9 10 11]]\n",
      "\n",
      " [[12 13 14]\n",
      "  [15 16 17]]\n",
      "\n",
      " [[18 19 20]\n",
      "  [21 22 23]]]\n"
     ]
    }
   ],
   "execution_count": 19
  },
  {
   "metadata": {
    "ExecuteTime": {
     "end_time": "2025-09-24T12:06:27.892700Z",
     "start_time": "2025-09-24T12:06:27.878362Z"
    }
   },
   "cell_type": "code",
   "source": [
    "arr = np.arange(24)\n",
    "print(np.reshape(arr, (4, -1)))\n",
    "# ValueError: cannot reshape array of size 24 into shape (5,newaxis)\n",
    "# print(np.reshape(arr, (5, -1)))"
   ],
   "id": "8ce921e15da2910f",
   "outputs": [
    {
     "name": "stdout",
     "output_type": "stream",
     "text": [
      "[[ 0  1  2  3  4  5]\n",
      " [ 6  7  8  9 10 11]\n",
      " [12 13 14 15 16 17]\n",
      " [18 19 20 21 22 23]]\n"
     ]
    }
   ],
   "execution_count": 20
  },
  {
   "metadata": {
    "ExecuteTime": {
     "end_time": "2025-09-24T12:06:27.907937Z",
     "start_time": "2025-09-24T12:06:27.893848Z"
    }
   },
   "cell_type": "code",
   "source": [
    "arr = np.arange(24).reshape(4, 6)\n",
    "print(np.reshape(arr, (24,)))\n",
    "print(np.reshape(arr, 24))\n",
    "print(np.reshape(arr, -1))\n",
    "print(arr.reshape(24))\n",
    "print(arr.reshape(-1))"
   ],
   "id": "17f13161c8fc3b10",
   "outputs": [
    {
     "name": "stdout",
     "output_type": "stream",
     "text": [
      "[ 0  1  2  3  4  5  6  7  8  9 10 11 12 13 14 15 16 17 18 19 20 21 22 23]\n",
      "[ 0  1  2  3  4  5  6  7  8  9 10 11 12 13 14 15 16 17 18 19 20 21 22 23]\n",
      "[ 0  1  2  3  4  5  6  7  8  9 10 11 12 13 14 15 16 17 18 19 20 21 22 23]\n",
      "[ 0  1  2  3  4  5  6  7  8  9 10 11 12 13 14 15 16 17 18 19 20 21 22 23]\n",
      "[ 0  1  2  3  4  5  6  7  8  9 10 11 12 13 14 15 16 17 18 19 20 21 22 23]\n"
     ]
    }
   ],
   "execution_count": 21
  },
  {
   "metadata": {},
   "cell_type": "markdown",
   "source": [
    "#### ndarray.flatten()\n",
    "- 返回扁平化到一维的数组"
   ],
   "id": "65f90944cac6ea2"
  },
  {
   "metadata": {
    "ExecuteTime": {
     "end_time": "2025-09-24T12:06:27.923625Z",
     "start_time": "2025-09-24T12:06:27.908934Z"
    }
   },
   "cell_type": "code",
   "source": [
    "arr = np.arange(24).reshape(4, 6)\n",
    "print(arr.flatten())"
   ],
   "id": "2a8299d17e928d6c",
   "outputs": [
    {
     "name": "stdout",
     "output_type": "stream",
     "text": [
      "[ 0  1  2  3  4  5  6  7  8  9 10 11 12 13 14 15 16 17 18 19 20 21 22 23]\n"
     ]
    }
   ],
   "execution_count": 22
  },
  {
   "metadata": {
    "ExecuteTime": {
     "end_time": "2025-09-24T12:06:27.939044Z",
     "start_time": "2025-09-24T12:06:27.923625Z"
    }
   },
   "cell_type": "code",
   "source": "",
   "id": "2eacb0d849987f10",
   "outputs": [],
   "execution_count": 22
  }
 ],
 "metadata": {
  "kernelspec": {
   "display_name": "Python 3",
   "language": "python",
   "name": "python3"
  },
  "language_info": {
   "codemirror_mode": {
    "name": "ipython",
    "version": 2
   },
   "file_extension": ".py",
   "mimetype": "text/x-python",
   "name": "python",
   "nbconvert_exporter": "python",
   "pygments_lexer": "ipython2",
   "version": "2.7.6"
  }
 },
 "nbformat": 4,
 "nbformat_minor": 5
}
