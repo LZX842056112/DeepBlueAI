{
 "cells": [
  {
   "metadata": {
    "ExecuteTime": {
     "end_time": "2025-09-12T02:32:21.604672Z",
     "start_time": "2025-09-12T02:32:21.591503Z"
    }
   },
   "cell_type": "code",
   "source": [
    "class Cat:\n",
    "    pass\n",
    "\n",
    "    # def __str__(self):\n",
    "    #     return \"🐱\"\n",
    "\n",
    "    def __str__(self):\n",
    "        return '789'\n",
    "\n",
    "    def __repr__(self):\n",
    "        return \"猫\"\n",
    "\n",
    "\n",
    "c = Cat()\n",
    "print(c)\n",
    "print([c])\n",
    "print({c: str(c)})"
   ],
   "id": "a1f85c45d74d3fa8",
   "outputs": [
    {
     "name": "stdout",
     "output_type": "stream",
     "text": [
      "789\n",
      "[猫]\n",
      "{猫: '789'}\n"
     ]
    }
   ],
   "execution_count": 3
  },
  {
   "metadata": {
    "ExecuteTime": {
     "end_time": "2025-09-12T02:32:22.177770Z",
     "start_time": "2025-09-12T02:32:22.174036Z"
    }
   },
   "cell_type": "code",
   "source": [
    "def f(a, b):\n",
    "    print(a + b)\n",
    "    try:\n",
    "        print(a - b)\n",
    "        print(a / b)\n",
    "        print(a * b)\n",
    "    except (ZeroDivisionError, TypeError) as e:\n",
    "        print(e)\n",
    "    except Exception as e:\n",
    "        print(e)\n",
    "    except:\n",
    "        print('有错误')\n",
    "    else:\n",
    "        print('无错误')\n",
    "    finally:\n",
    "        print('finally')\n",
    "    print(a + b)\n",
    "\n",
    "\n",
    "f(5, 2)\n",
    "print('*' * 40)\n",
    "f(5, 0)\n",
    "print('*' * 40)\n",
    "f('a', 'b')\n",
    "print('ending...')"
   ],
   "id": "e2da9dc8bbf38802",
   "outputs": [
    {
     "name": "stdout",
     "output_type": "stream",
     "text": [
      "7\n",
      "3\n",
      "2.5\n",
      "10\n",
      "无错误\n",
      "finally\n",
      "7\n",
      "****************************************\n",
      "5\n",
      "5\n",
      "division by zero\n",
      "finally\n",
      "5\n",
      "****************************************\n",
      "ab\n",
      "unsupported operand type(s) for -: 'str' and 'str'\n",
      "finally\n",
      "ab\n",
      "ending...\n"
     ]
    }
   ],
   "execution_count": 4
  },
  {
   "metadata": {
    "ExecuteTime": {
     "end_time": "2025-09-12T02:32:23.174280Z",
     "start_time": "2025-09-12T02:32:23.160938Z"
    }
   },
   "cell_type": "code",
   "source": [
    "z = ZeroDivisionError()\n",
    "print(z)\n",
    "z = ZeroDivisionError([1, 2, 3])\n",
    "print(z)\n",
    "z = ZeroDivisionError('division by zero')\n",
    "print(z)"
   ],
   "id": "ef47984d4eb7302b",
   "outputs": [
    {
     "name": "stdout",
     "output_type": "stream",
     "text": [
      "\n",
      "[1, 2, 3]\n",
      "division by zero\n"
     ]
    }
   ],
   "execution_count": 5
  },
  {
   "metadata": {
    "ExecuteTime": {
     "end_time": "2025-09-12T02:32:24.197552Z",
     "start_time": "2025-09-12T02:32:24.191617Z"
    }
   },
   "cell_type": "code",
   "source": [
    "class MyZeroDivisionError(BaseException):\n",
    "    # class MyZeroDivisionError:\n",
    "    #     def __init__(self, describe=''):\n",
    "    #         self.describe = describe\n",
    "\n",
    "    # def __str__(self):\n",
    "    #     return f'{self.describe}'\n",
    "    pass\n",
    "\n",
    "\n",
    "z = MyZeroDivisionError()\n",
    "print(z)\n",
    "z = MyZeroDivisionError([1, 2, 3])\n",
    "print(z)\n",
    "z = MyZeroDivisionError('division by zero')\n",
    "print(z)"
   ],
   "id": "de6bd4bbe8b57545",
   "outputs": [
    {
     "name": "stdout",
     "output_type": "stream",
     "text": [
      "\n",
      "[1, 2, 3]\n",
      "division by zero\n"
     ]
    }
   ],
   "execution_count": 6
  },
  {
   "metadata": {
    "ExecuteTime": {
     "end_time": "2025-09-12T02:32:24.976479Z",
     "start_time": "2025-09-12T02:32:24.958080Z"
    }
   },
   "cell_type": "code",
   "source": [
    "def f(a, b):\n",
    "    try:\n",
    "        print(a - b)\n",
    "        print(a * b)\n",
    "        return\n",
    "    finally:\n",
    "        print('finally')\n",
    "    print(a + b)\n",
    "\n",
    "\n",
    "f(5, 0)"
   ],
   "id": "6e8330eed467126d",
   "outputs": [
    {
     "name": "stdout",
     "output_type": "stream",
     "text": [
      "5\n",
      "0\n",
      "finally\n"
     ]
    }
   ],
   "execution_count": 7
  },
  {
   "metadata": {
    "ExecuteTime": {
     "end_time": "2025-09-12T02:32:25.861811Z",
     "start_time": "2025-09-12T02:32:25.844260Z"
    }
   },
   "cell_type": "code",
   "source": [
    "def f(a, b):\n",
    "    try:\n",
    "        print(a - b)\n",
    "        print(a * b)\n",
    "    finally:\n",
    "        return\n",
    "        print('finally')\n",
    "    print(a + b)\n",
    "\n",
    "\n",
    "f(5, 0)"
   ],
   "id": "667a395f7fe2bd4f",
   "outputs": [
    {
     "name": "stdout",
     "output_type": "stream",
     "text": [
      "5\n",
      "0\n"
     ]
    }
   ],
   "execution_count": 8
  },
  {
   "metadata": {
    "ExecuteTime": {
     "end_time": "2025-09-12T02:32:26.830159Z",
     "start_time": "2025-09-12T02:32:26.803886Z"
    }
   },
   "cell_type": "code",
   "source": [
    "def div(a, b):\n",
    "    if b == 0:\n",
    "        raise ZeroDivisionError('ERROE')\n",
    "    print(a / b)\n",
    "\n",
    "\n",
    "div(5, 0)"
   ],
   "id": "93a91233b0facc42",
   "outputs": [
    {
     "ename": "ZeroDivisionError",
     "evalue": "ERROE",
     "output_type": "error",
     "traceback": [
      "\u001B[1;31m---------------------------------------------------------------------------\u001B[0m",
      "\u001B[1;31mZeroDivisionError\u001B[0m                         Traceback (most recent call last)",
      "\u001B[1;32m<ipython-input-9-227b9b6da778>\u001B[0m in \u001B[0;36m<module>\u001B[1;34m\u001B[0m\n\u001B[0;32m      5\u001B[0m \u001B[1;33m\u001B[0m\u001B[0m\n\u001B[0;32m      6\u001B[0m \u001B[1;33m\u001B[0m\u001B[0m\n\u001B[1;32m----> 7\u001B[1;33m \u001B[0mdiv\u001B[0m\u001B[1;33m(\u001B[0m\u001B[1;36m5\u001B[0m\u001B[1;33m,\u001B[0m \u001B[1;36m0\u001B[0m\u001B[1;33m)\u001B[0m\u001B[1;33m\u001B[0m\u001B[1;33m\u001B[0m\u001B[0m\n\u001B[0m",
      "\u001B[1;32m<ipython-input-9-227b9b6da778>\u001B[0m in \u001B[0;36mdiv\u001B[1;34m(a, b)\u001B[0m\n\u001B[0;32m      1\u001B[0m \u001B[1;32mdef\u001B[0m \u001B[0mdiv\u001B[0m\u001B[1;33m(\u001B[0m\u001B[0ma\u001B[0m\u001B[1;33m,\u001B[0m \u001B[0mb\u001B[0m\u001B[1;33m)\u001B[0m\u001B[1;33m:\u001B[0m\u001B[1;33m\u001B[0m\u001B[1;33m\u001B[0m\u001B[0m\n\u001B[0;32m      2\u001B[0m     \u001B[1;32mif\u001B[0m \u001B[0mb\u001B[0m \u001B[1;33m==\u001B[0m \u001B[1;36m0\u001B[0m\u001B[1;33m:\u001B[0m\u001B[1;33m\u001B[0m\u001B[1;33m\u001B[0m\u001B[0m\n\u001B[1;32m----> 3\u001B[1;33m         \u001B[1;32mraise\u001B[0m \u001B[0mZeroDivisionError\u001B[0m\u001B[1;33m(\u001B[0m\u001B[1;34m'ERROE'\u001B[0m\u001B[1;33m)\u001B[0m\u001B[1;33m\u001B[0m\u001B[1;33m\u001B[0m\u001B[0m\n\u001B[0m\u001B[0;32m      4\u001B[0m     \u001B[0mprint\u001B[0m\u001B[1;33m(\u001B[0m\u001B[0ma\u001B[0m \u001B[1;33m/\u001B[0m \u001B[0mb\u001B[0m\u001B[1;33m)\u001B[0m\u001B[1;33m\u001B[0m\u001B[1;33m\u001B[0m\u001B[0m\n\u001B[0;32m      5\u001B[0m \u001B[1;33m\u001B[0m\u001B[0m\n",
      "\u001B[1;31mZeroDivisionError\u001B[0m: ERROE"
     ]
    }
   ],
   "execution_count": 9
  },
  {
   "metadata": {
    "ExecuteTime": {
     "end_time": "2025-09-12T02:32:27.976397Z",
     "start_time": "2025-09-12T02:32:27.966642Z"
    }
   },
   "cell_type": "code",
   "source": [
    "def div(a, b):\n",
    "    assert b != 0, 'error'\n",
    "    if not b != 0:\n",
    "        raise AssertionError('error')\n",
    "    print(a / b)\n",
    "\n",
    "\n",
    "div(4, 2)\n",
    "div(4, 0)  # AssertionError"
   ],
   "id": "2d6b4b20731b743d",
   "outputs": [
    {
     "name": "stdout",
     "output_type": "stream",
     "text": [
      "2.0\n"
     ]
    },
    {
     "ename": "AssertionError",
     "evalue": "error",
     "output_type": "error",
     "traceback": [
      "\u001B[1;31m---------------------------------------------------------------------------\u001B[0m",
      "\u001B[1;31mAssertionError\u001B[0m                            Traceback (most recent call last)",
      "\u001B[1;32m<ipython-input-10-38d7f9ba82d2>\u001B[0m in \u001B[0;36m<module>\u001B[1;34m\u001B[0m\n\u001B[0;32m      7\u001B[0m \u001B[1;33m\u001B[0m\u001B[0m\n\u001B[0;32m      8\u001B[0m \u001B[0mdiv\u001B[0m\u001B[1;33m(\u001B[0m\u001B[1;36m4\u001B[0m\u001B[1;33m,\u001B[0m \u001B[1;36m2\u001B[0m\u001B[1;33m)\u001B[0m\u001B[1;33m\u001B[0m\u001B[1;33m\u001B[0m\u001B[0m\n\u001B[1;32m----> 9\u001B[1;33m \u001B[0mdiv\u001B[0m\u001B[1;33m(\u001B[0m\u001B[1;36m4\u001B[0m\u001B[1;33m,\u001B[0m \u001B[1;36m0\u001B[0m\u001B[1;33m)\u001B[0m  \u001B[1;31m# AssertionError\u001B[0m\u001B[1;33m\u001B[0m\u001B[1;33m\u001B[0m\u001B[0m\n\u001B[0m",
      "\u001B[1;32m<ipython-input-10-38d7f9ba82d2>\u001B[0m in \u001B[0;36mdiv\u001B[1;34m(a, b)\u001B[0m\n\u001B[0;32m      1\u001B[0m \u001B[1;32mdef\u001B[0m \u001B[0mdiv\u001B[0m\u001B[1;33m(\u001B[0m\u001B[0ma\u001B[0m\u001B[1;33m,\u001B[0m \u001B[0mb\u001B[0m\u001B[1;33m)\u001B[0m\u001B[1;33m:\u001B[0m\u001B[1;33m\u001B[0m\u001B[1;33m\u001B[0m\u001B[0m\n\u001B[1;32m----> 2\u001B[1;33m     \u001B[1;32massert\u001B[0m \u001B[0mb\u001B[0m \u001B[1;33m!=\u001B[0m \u001B[1;36m0\u001B[0m\u001B[1;33m,\u001B[0m \u001B[1;34m'error'\u001B[0m\u001B[1;33m\u001B[0m\u001B[1;33m\u001B[0m\u001B[0m\n\u001B[0m\u001B[0;32m      3\u001B[0m     \u001B[1;32mif\u001B[0m \u001B[1;32mnot\u001B[0m \u001B[0mb\u001B[0m \u001B[1;33m!=\u001B[0m \u001B[1;36m0\u001B[0m\u001B[1;33m:\u001B[0m\u001B[1;33m\u001B[0m\u001B[1;33m\u001B[0m\u001B[0m\n\u001B[0;32m      4\u001B[0m         \u001B[1;32mraise\u001B[0m \u001B[0mAssertionError\u001B[0m\u001B[1;33m(\u001B[0m\u001B[1;34m'error'\u001B[0m\u001B[1;33m)\u001B[0m\u001B[1;33m\u001B[0m\u001B[1;33m\u001B[0m\u001B[0m\n\u001B[0;32m      5\u001B[0m     \u001B[0mprint\u001B[0m\u001B[1;33m(\u001B[0m\u001B[0ma\u001B[0m \u001B[1;33m/\u001B[0m \u001B[0mb\u001B[0m\u001B[1;33m)\u001B[0m\u001B[1;33m\u001B[0m\u001B[1;33m\u001B[0m\u001B[0m\n",
      "\u001B[1;31mAssertionError\u001B[0m: error"
     ]
    }
   ],
   "execution_count": 10
  },
  {
   "metadata": {
    "ExecuteTime": {
     "end_time": "2025-09-12T02:32:30.651382Z",
     "start_time": "2025-09-12T02:32:30.636503Z"
    }
   },
   "cell_type": "code",
   "source": [
    "import math as m\n",
    "from math import floor as fl, gcd as g, ceil\n",
    "from math import *\n",
    "\n",
    "print(fl(-7.5))\n",
    "print(m.floor(-7.5))\n",
    "print(sin(pi / 6))"
   ],
   "id": "ff0251734f28fe51",
   "outputs": [
    {
     "name": "stdout",
     "output_type": "stream",
     "text": [
      "-8\n",
      "-8\n",
      "0.49999999999999994\n"
     ]
    }
   ],
   "execution_count": 11
  }
 ],
 "metadata": {
  "kernelspec": {
   "display_name": "Python 3",
   "language": "python",
   "name": "python3"
  },
  "language_info": {
   "codemirror_mode": {
    "name": "ipython",
    "version": 2
   },
   "file_extension": ".py",
   "mimetype": "text/x-python",
   "name": "python",
   "nbconvert_exporter": "python",
   "pygments_lexer": "ipython2",
   "version": "2.7.6"
  }
 },
 "nbformat": 4,
 "nbformat_minor": 5
}
