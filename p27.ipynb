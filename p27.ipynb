{
 "cells": [
  {
   "metadata": {
    "ExecuteTime": {
     "end_time": "2025-09-15T02:44:40.239444Z",
     "start_time": "2025-09-15T02:44:40.227251Z"
    }
   },
   "cell_type": "code",
   "source": "open(r'D:\\Projects\\DeepBule\\PythonFiles\\p261\\p26.py', mode='r', encoding='utf-8')",
   "id": "fa23d8ab1b1f5bf4",
   "outputs": [
    {
     "data": {
      "text/plain": [
       "<_io.TextIOWrapper name='D:\\\\Projects\\\\DeepBule\\\\PythonFiles\\\\p261\\\\p26.py' mode='r' encoding='utf-8'>"
      ]
     },
     "execution_count": 1,
     "metadata": {},
     "output_type": "execute_result"
    }
   ],
   "execution_count": 1
  },
  {
   "metadata": {
    "ExecuteTime": {
     "end_time": "2025-09-15T02:44:41.526947Z",
     "start_time": "2025-09-15T02:44:41.517163Z"
    }
   },
   "cell_type": "code",
   "source": [
    "file = open('./p261/p26.py', mode='r', encoding='utf-8')\n",
    "print(file)"
   ],
   "id": "c195593db5485dd0",
   "outputs": [
    {
     "name": "stdout",
     "output_type": "stream",
     "text": [
      "<_io.TextIOWrapper name='./p261/p26.py' mode='r' encoding='utf-8'>\n"
     ]
    }
   ],
   "execution_count": 2
  },
  {
   "metadata": {
    "ExecuteTime": {
     "end_time": "2025-09-15T02:44:41.835365Z",
     "start_time": "2025-09-15T02:44:41.825576Z"
    }
   },
   "cell_type": "code",
   "source": [
    "import _io\n",
    "\n",
    "print(_io.TextIOWrapper)"
   ],
   "id": "8eb71de4df7e4b78",
   "outputs": [
    {
     "name": "stdout",
     "output_type": "stream",
     "text": [
      "<class '_io.TextIOWrapper'>\n"
     ]
    }
   ],
   "execution_count": 3
  },
  {
   "metadata": {
    "ExecuteTime": {
     "end_time": "2025-09-15T02:44:42.159782Z",
     "start_time": "2025-09-15T02:44:42.145204Z"
    }
   },
   "cell_type": "code",
   "source": [
    "print(next(file))\n",
    "print([next(file)])"
   ],
   "id": "5f5b368a3d041483",
   "outputs": [
    {
     "name": "stdout",
     "output_type": "stream",
     "text": [
      "print('p26成功')\n",
      "\n",
      "['\\n']\n"
     ]
    }
   ],
   "execution_count": 4
  },
  {
   "metadata": {
    "ExecuteTime": {
     "end_time": "2025-09-15T02:44:42.458437Z",
     "start_time": "2025-09-15T02:44:42.451610Z"
    }
   },
   "cell_type": "code",
   "source": [
    "for line in file:\n",
    "    print(line, end='')"
   ],
   "id": "3ec9c1157122ebd3",
   "outputs": [
    {
     "name": "stdout",
     "output_type": "stream",
     "text": [
      "from p261.p262.p263 import p26_2\n",
      "\n",
      "print('p263')\n",
      "\n",
      "print(__name__,'*******')\n",
      "\n",
      "if __name__ == '__main__':\n",
      "    print('************')"
     ]
    }
   ],
   "execution_count": 5
  },
  {
   "metadata": {
    "ExecuteTime": {
     "end_time": "2025-09-15T06:06:55.097107Z",
     "start_time": "2025-09-15T06:06:55.091219Z"
    }
   },
   "cell_type": "code",
   "source": "file = open('./p261/p26.py', encoding='utf-8')",
   "id": "a2ea9b45c7b433fe",
   "outputs": [],
   "execution_count": 29
  },
  {
   "metadata": {
    "ExecuteTime": {
     "end_time": "2025-09-15T06:06:55.997224Z",
     "start_time": "2025-09-15T06:06:55.979106Z"
    }
   },
   "cell_type": "code",
   "source": "print(file.read(11))",
   "id": "9b2e3e56e3dc61ee",
   "outputs": [
    {
     "name": "stdout",
     "output_type": "stream",
     "text": [
      "print('p26成\n"
     ]
    }
   ],
   "execution_count": 30
  },
  {
   "metadata": {
    "ExecuteTime": {
     "end_time": "2025-09-15T06:06:56.385303Z",
     "start_time": "2025-09-15T06:06:56.375635Z"
    }
   },
   "cell_type": "code",
   "source": "print(file.read(25))",
   "id": "9ab7002a69a4bc58",
   "outputs": [
    {
     "name": "stdout",
     "output_type": "stream",
     "text": [
      "功')\n",
      "\n",
      "from p261.p262.p263 \n"
     ]
    }
   ],
   "execution_count": 31
  },
  {
   "metadata": {
    "ExecuteTime": {
     "end_time": "2025-09-15T06:06:56.833168Z",
     "start_time": "2025-09-15T06:06:56.814663Z"
    }
   },
   "cell_type": "code",
   "source": "print(file.read(20))",
   "id": "b6d959dfacb82bf",
   "outputs": [
    {
     "name": "stdout",
     "output_type": "stream",
     "text": [
      "import p26_2\n",
      "\n",
      "print(\n"
     ]
    }
   ],
   "execution_count": 32
  },
  {
   "metadata": {
    "ExecuteTime": {
     "end_time": "2025-09-15T06:06:58.370982Z",
     "start_time": "2025-09-15T06:06:58.363578Z"
    }
   },
   "cell_type": "code",
   "source": [
    "# print(file.read(-1))\n",
    "print(file.read())"
   ],
   "id": "7d5f1d2e56abe29d",
   "outputs": [
    {
     "name": "stdout",
     "output_type": "stream",
     "text": [
      "'p263')\n",
      "\n",
      "print(__name__,'*******')\n",
      "\n",
      "if __name__ == '__main__':\n",
      "    print('************')\n"
     ]
    }
   ],
   "execution_count": 33
  },
  {
   "metadata": {
    "ExecuteTime": {
     "end_time": "2025-09-15T02:41:38.404324Z",
     "start_time": "2025-09-15T02:41:38.402155Z"
    }
   },
   "cell_type": "code",
   "source": [
    "# file = open('./p261/p26.py', mode='w', encoding='utf-8')\n",
    "# print(file.write('abcd\\n123'))"
   ],
   "id": "65b6b781b2184f0e",
   "outputs": [],
   "execution_count": 136
  },
  {
   "metadata": {
    "ExecuteTime": {
     "end_time": "2025-09-15T06:12:23.036840Z",
     "start_time": "2025-09-15T06:12:23.023599Z"
    }
   },
   "cell_type": "code",
   "source": [
    "file = open('./p27_1.py', mode='a', encoding='utf-8')\n",
    "print(file.write('\\nabcd\\n123'))"
   ],
   "id": "1586b313c7be275c",
   "outputs": [
    {
     "name": "stdout",
     "output_type": "stream",
     "text": [
      "9\n"
     ]
    }
   ],
   "execution_count": 10
  },
  {
   "metadata": {
    "ExecuteTime": {
     "end_time": "2025-09-15T06:13:16.973281Z",
     "start_time": "2025-09-15T06:13:16.968125Z"
    }
   },
   "cell_type": "code",
   "source": [
    "file = open('./p27_1.py', mode='r+', encoding='utf-8')\n",
    "print(file.read())\n",
    "print(file.write('\\nabcd\\n123'))\n",
    "file.close()"
   ],
   "id": "b797b307615ad912",
   "outputs": [
    {
     "name": "stdout",
     "output_type": "stream",
     "text": [
      "hello\n",
      "wo你rld\n",
      "\n",
      "123456789\n",
      "123456789\n",
      "123456789\n",
      "\n",
      "9\n"
     ]
    }
   ],
   "execution_count": 3
  },
  {
   "metadata": {
    "ExecuteTime": {
     "end_time": "2025-09-15T06:13:34.693713Z",
     "start_time": "2025-09-15T06:13:34.678848Z"
    }
   },
   "cell_type": "code",
   "source": [
    "file = open('./p27_1.py', mode='r+', encoding='utf-8')\n",
    "print(file.write('你\\n好'))\n",
    "print(file.read())\n",
    "file.close()"
   ],
   "id": "5e0b7d4ececc6068",
   "outputs": [
    {
     "name": "stdout",
     "output_type": "stream",
     "text": [
      "3\n",
      "o你rld\n",
      "\n",
      "123456789\n",
      "123456789\n",
      "123456789\n",
      "\n",
      "abcd\n",
      "123\n"
     ]
    }
   ],
   "execution_count": 4
  },
  {
   "metadata": {
    "ExecuteTime": {
     "end_time": "2025-09-15T02:52:45.328500Z",
     "start_time": "2025-09-15T02:52:45.319085Z"
    }
   },
   "cell_type": "code",
   "source": [
    "file = open('./p27_1.py', mode='w+', encoding='utf-8')\n",
    "print(file.read())\n",
    "file.write('hello\\nworld')"
   ],
   "id": "9c3e57474dd02b4a",
   "outputs": [
    {
     "name": "stdout",
     "output_type": "stream",
     "text": [
      "\n"
     ]
    },
    {
     "data": {
      "text/plain": [
       "11"
      ]
     },
     "execution_count": 25,
     "metadata": {},
     "output_type": "execute_result"
    }
   ],
   "execution_count": 25
  },
  {
   "metadata": {
    "ExecuteTime": {
     "end_time": "2025-09-15T06:22:10.371843Z",
     "start_time": "2025-09-15T06:22:10.353590Z"
    }
   },
   "cell_type": "code",
   "source": [
    "file = open('./p27_1.py', mode='w+', encoding='utf-8')\n",
    "file.write('hello\\nwo你rld')\n",
    "file.seek(4)\n",
    "print(file.read())\n",
    "file.seek(5)\n",
    "print(file.read())\n",
    "file.seek(6)\n",
    "print(file.read())\n",
    "file.seek(7)\n",
    "print(file.read())"
   ],
   "id": "5d005ec76779e4c9",
   "outputs": [
    {
     "name": "stdout",
     "output_type": "stream",
     "text": [
      "o\n",
      "wo你rld\n",
      "\n",
      "wo你rld\n",
      "\n",
      "wo你rld\n",
      "wo你rld\n"
     ]
    }
   ],
   "execution_count": 11
  },
  {
   "metadata": {
    "ExecuteTime": {
     "end_time": "2025-09-15T06:25:01.589652Z",
     "start_time": "2025-09-15T06:25:01.577548Z"
    }
   },
   "cell_type": "code",
   "source": [
    "file = open(r\"./p27_1.py\", mode='a+', encoding='utf-8')\n",
    "print(file.read())\n",
    "file.write('\\n123456789')\n",
    "file.close()"
   ],
   "id": "8a48fe87c21704cd",
   "outputs": [
    {
     "name": "stdout",
     "output_type": "stream",
     "text": [
      "\n"
     ]
    }
   ],
   "execution_count": 1
  },
  {
   "metadata": {
    "ExecuteTime": {
     "end_time": "2025-09-15T06:25:16.795407Z",
     "start_time": "2025-09-15T06:25:16.779980Z"
    }
   },
   "cell_type": "code",
   "source": [
    "file = open(r\"./p27_1.py\", mode='a+', encoding='utf-8')\n",
    "file.write('\\n123456789')\n",
    "print(file.read())\n",
    "file.close()"
   ],
   "id": "bf79675f1a6923a9",
   "outputs": [
    {
     "name": "stdout",
     "output_type": "stream",
     "text": [
      "\n"
     ]
    }
   ],
   "execution_count": 2
  },
  {
   "metadata": {
    "ExecuteTime": {
     "end_time": "2025-09-15T06:29:44.667661Z",
     "start_time": "2025-09-15T06:29:39.642318Z"
    }
   },
   "cell_type": "code",
   "source": [
    "import time\n",
    "\n",
    "file = open(r\"./p27_1.py\", mode='a')\n",
    "file.write('\\n123456789')\n",
    "time.sleep(5)  # 文件需要等到关闭文件时才会把数据从缓冲区写入文件\n",
    "file.close()  # 关闭文件，自动刷新缓冲区，数据才写入文件"
   ],
   "id": "cb9a0a3cec6705b9",
   "outputs": [],
   "execution_count": 1
  },
  {
   "metadata": {
    "ExecuteTime": {
     "end_time": "2025-09-15T06:30:01.619936Z",
     "start_time": "2025-09-15T06:29:56.601654Z"
    }
   },
   "cell_type": "code",
   "source": [
    "file = open(r\"./p27_1.py\", mode='a')\n",
    "file.write('\\n123456789')\n",
    "file.flush()  # 刷新缓冲区，数据立刻写入文件\n",
    "time.sleep(5)\n",
    "file.close()"
   ],
   "id": "93459d9518b890ae",
   "outputs": [],
   "execution_count": 2
  },
  {
   "metadata": {
    "ExecuteTime": {
     "end_time": "2025-09-15T06:30:11.036508Z",
     "start_time": "2025-09-15T06:30:11.025516Z"
    }
   },
   "cell_type": "code",
   "source": [
    "with open(r\"./p27_1.py\", mode='a') as file:\n",
    "    file.write('\\n123456789')"
   ],
   "id": "977e5ae696eb650a",
   "outputs": [],
   "execution_count": 3
  },
  {
   "metadata": {
    "ExecuteTime": {
     "end_time": "2025-09-15T06:40:42.666676Z",
     "start_time": "2025-09-15T06:40:42.658149Z"
    }
   },
   "cell_type": "code",
   "source": "import re",
   "id": "aa392444fefd2313",
   "outputs": [],
   "execution_count": 4
  },
  {
   "metadata": {
    "ExecuteTime": {
     "end_time": "2025-09-15T06:41:23.206602Z",
     "start_time": "2025-09-15T06:41:23.192378Z"
    }
   },
   "cell_type": "code",
   "source": [
    "if re.fullmatch(r'[1-9]\\d{4,10}@qq\\.com','842123123@qq.com'):\n",
    "    print('yes')\n",
    "\n",
    "pattern = r'[1-9]\\d{4,10}@qq\\.com'\n",
    "p = re.compile(pattern)\n",
    "\n",
    "\n",
    "def isValid(email):\n",
    "    if p.fullmatch(email):\n",
    "        print(\"有效的QQ邮箱\")\n",
    "    else:\n",
    "        print(\"无效的QQ邮箱\")\n",
    "\n",
    "\n",
    "isValid('842123123@qq.com')\n",
    "isValid('842123123@qq.c1m')\n",
    "isValid('q8421231232@qq.com')\n",
    "isValid('8421@qq.com')\n",
    "isValid('842123123123@qq.com')"
   ],
   "id": "a7a9007f19b815e3",
   "outputs": [
    {
     "name": "stdout",
     "output_type": "stream",
     "text": [
      "yes\n",
      "有效的QQ邮箱\n",
      "无效的QQ邮箱\n",
      "无效的QQ邮箱\n",
      "无效的QQ邮箱\n",
      "无效的QQ邮箱\n"
     ]
    }
   ],
   "execution_count": 5
  },
  {
   "metadata": {},
   "cell_type": "code",
   "outputs": [],
   "execution_count": null,
   "source": "",
   "id": "1a56972959c84b96"
  }
 ],
 "metadata": {
  "kernelspec": {
   "display_name": "Python 3",
   "language": "python",
   "name": "python3"
  },
  "language_info": {
   "codemirror_mode": {
    "name": "ipython",
    "version": 2
   },
   "file_extension": ".py",
   "mimetype": "text/x-python",
   "name": "python",
   "nbconvert_exporter": "python",
   "pygments_lexer": "ipython2",
   "version": "2.7.6"
  }
 },
 "nbformat": 4,
 "nbformat_minor": 5
}
