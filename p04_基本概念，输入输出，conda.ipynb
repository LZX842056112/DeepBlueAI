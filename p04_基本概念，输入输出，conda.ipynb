{
 "cells": [
  {
   "metadata": {},
   "cell_type": "markdown",
   "source": [
    "#### 拼接\n",
    "#### 显式的行拼接\n",
    "- 如果某行代码过于冗长，可以用续行符（反斜杠 \\）将一行代码分成多行书写，以提高代码的可读性和清晰度。"
   ],
   "id": "b8d475dd6554f469"
  },
  {
   "metadata": {
    "ExecuteTime": {
     "end_time": "2025-10-01T06:01:29.534179Z",
     "start_time": "2025-10-01T06:01:29.521938Z"
    }
   },
   "cell_type": "code",
   "source": [
    "\"\"\" 下面 a, b 两种写法是等价的 \"\"\"\n",
    "a = 1 + 2 + 3 + 4 + 5 + 6\n",
    "b = 1 + 2 + \\\n",
    "    3 + 4 + \\\n",
    "    5 + 6\n",
    "\n",
    "print(a)\n",
    "print(b)"
   ],
   "id": "38e29383da3b8a93",
   "outputs": [
    {
     "name": "stdout",
     "output_type": "stream",
     "text": [
      "21\n",
      "21\n"
     ]
    }
   ],
   "execution_count": 1
  },
  {
   "metadata": {},
   "cell_type": "markdown",
   "source": [
    "#### 隐式的行拼接\n",
    "- 列表，元组，字典和集合，无需使用续行符，它们的元素会自动拼接为一行。"
   ],
   "id": "d57f74a31eb73e36"
  },
  {
   "metadata": {
    "ExecuteTime": {
     "end_time": "2025-10-01T06:01:29.549251Z",
     "start_time": "2025-10-01T06:01:29.535295Z"
    }
   },
   "cell_type": "code",
   "source": [
    "\"\"\" 下面 num1, num2 两种写法是等价的 \"\"\"\n",
    "num1 = [1, 2, 3,\n",
    "        4, 5, 6,\n",
    "        7, 8, 9]\n",
    "num2 = [1, 2, 3, 4, 5, 6, 7, 8, 9]\n",
    "print(num1)\n",
    "print(num2)"
   ],
   "id": "212fe032b5b81a6c",
   "outputs": [
    {
     "name": "stdout",
     "output_type": "stream",
     "text": [
      "[1, 2, 3, 4, 5, 6, 7, 8, 9]\n",
      "[1, 2, 3, 4, 5, 6, 7, 8, 9]\n"
     ]
    }
   ],
   "execution_count": 2
  },
  {
   "metadata": {
    "ExecuteTime": {
     "end_time": "2025-10-01T06:01:29.564699Z",
     "start_time": "2025-10-01T06:01:29.550248Z"
    }
   },
   "cell_type": "code",
   "source": [
    "a = (1, 2\n",
    "     , 3, 4,\n",
    "     5, 6, 7)\n",
    "print(a)\n",
    "\n",
    "a = {1, 2\n",
    "    , 3, 4,\n",
    "     5, 6, 7}\n",
    "print(a)\n",
    "\n",
    "a = {'1': 1, '2': 2\n",
    "    , '3': 3, '4': 4,\n",
    "     '5': 5, '6': 6, '7': 7}\n",
    "print(a)"
   ],
   "id": "2b87868978744040",
   "outputs": [
    {
     "name": "stdout",
     "output_type": "stream",
     "text": [
      "(1, 2, 3, 4, 5, 6, 7)\n",
      "{1, 2, 3, 4, 5, 6, 7}\n",
      "{'1': 1, '2': 2, '3': 3, '4': 4, '5': 5, '6': 6, '7': 7}\n"
     ]
    }
   ],
   "execution_count": 3
  },
  {
   "metadata": {},
   "cell_type": "markdown",
   "source": [
    "#### 变量\n",
    "- 变量就是可以变化的量，是计算机语言中能表示值的抽象概念。\n",
    "- 变量需要先定义再使用，解释器执行到变量定义的代码时会申请内存空间存放数据，然后将数据所在的内存地址绑定给变量名。\n",
    "- 变量的定义由三部分组成：\n",
    "- - 变量名：指向数据所在的内存地址，通过它访问数据。\n",
    "- - 等号（=）：赋值符号，用来将数据所在的内存地址绑定给变量名。\n",
    "- - 值：内存地址对应空间存储的数据。\n",
    "- 标识符：用于变量、函数、类、模块等的名称。\n",
    "- 变量命名规范（其它标识符也是类似）：\n",
    "- - 变量名通常只包括字母、数字和下划线，且不能以数字开头。\n",
    "- - 变量名是区分大小写的，如：num 和 Num 是两个不同的变量名。\n",
    "- - 由多个单词构成的变量名，可用下划线来分隔这些单词，或使用驼峰命名法。\n",
    "- - 变量名要尽量简短及具描述性，尽量做到短小精悍，见名知义。\n",
    "- - 不能使用关键字作为变量名。\n",
    "- - 尽量不要使用内置函数名作为变量名。"
   ],
   "id": "2d71f92903714250"
  },
  {
   "metadata": {
    "ExecuteTime": {
     "end_time": "2025-10-01T06:01:29.579946Z",
     "start_time": "2025-10-01T06:01:29.565817Z"
    }
   },
   "cell_type": "code",
   "source": [
    "a = 1 + 2 + 3 + 4 + 5 + 6 + 7 + 8 + 9 + 10 + 1 + 2 + 3 + 4 + 5 + 6 + 7 + 8 + 9 + 10\n",
    "print(a)\n",
    "\n",
    "a = [1, 2, 3, 4, 5, 6, 7]\n",
    "print(a)\n",
    "\n",
    "a = (1, 2, 3, 4, 5, 6, 7)\n",
    "print(a)\n",
    "\n",
    "a = {1, 2, 3, 4, 5, 6, 7}\n",
    "print(a)\n",
    "\n",
    "a = {'1': 1, '2': 2, '3': 3, '4': 4, '5': 5, '6': 6, '7': 7}\n",
    "print(a)"
   ],
   "id": "a9116060dfd76486",
   "outputs": [
    {
     "name": "stdout",
     "output_type": "stream",
     "text": [
      "110\n",
      "[1, 2, 3, 4, 5, 6, 7]\n",
      "(1, 2, 3, 4, 5, 6, 7)\n",
      "{1, 2, 3, 4, 5, 6, 7}\n",
      "{'1': 1, '2': 2, '3': 3, '4': 4, '5': 5, '6': 6, '7': 7}\n"
     ]
    }
   ],
   "execution_count": 4
  },
  {
   "metadata": {
    "ExecuteTime": {
     "end_time": "2025-10-01T06:01:29.595570Z",
     "start_time": "2025-10-01T06:01:29.580943Z"
    }
   },
   "cell_type": "code",
   "source": [
    "a = 789\n",
    "print(a)\n",
    "\n",
    "b = a\n",
    "print(b)\n",
    "\n",
    "a = 1\n",
    "print(b)\n",
    "\n",
    "b = 2\n",
    "print(a)"
   ],
   "id": "2dcdcbd7e6d1be6f",
   "outputs": [
    {
     "name": "stdout",
     "output_type": "stream",
     "text": [
      "789\n",
      "789\n",
      "789\n",
      "1\n"
     ]
    }
   ],
   "execution_count": 5
  },
  {
   "metadata": {
    "ExecuteTime": {
     "end_time": "2025-10-01T06:01:29.611055Z",
     "start_time": "2025-10-01T06:01:29.596690Z"
    }
   },
   "cell_type": "code",
   "source": [
    "def power(number, n):\n",
    "    return number ** (1 / n)\n",
    "\n",
    "\n",
    "def power(number, n):\n",
    "    return number ** n\n",
    "\n",
    "\n",
    "print(power(4, 2))\n",
    "\n",
    "a = 3 + 4j\n",
    "b = 1j\n",
    "\n",
    "print(a + b)\n",
    "print(a - b)\n",
    "print(a * b)\n",
    "print(a / b)"
   ],
   "id": "b3d3e0f7ace85d24",
   "outputs": [
    {
     "name": "stdout",
     "output_type": "stream",
     "text": [
      "16\n",
      "(3+5j)\n",
      "(3+3j)\n",
      "(-4+3j)\n",
      "(4-3j)\n"
     ]
    }
   ],
   "execution_count": 6
  },
  {
   "metadata": {
    "ExecuteTime": {
     "end_time": "2025-10-01T06:01:30.062327Z",
     "start_time": "2025-10-01T06:01:29.611055Z"
    }
   },
   "cell_type": "code",
   "source": [
    "import numpy as np\n",
    "\n",
    "\n",
    "def exam(arr):\n",
    "    return arr + 100\n",
    "\n",
    "\n",
    "res = exam(np.random.randint(1, 10, size=(2, 3)))\n",
    "print(res)"
   ],
   "id": "cbca1684d8a1080c",
   "outputs": [
    {
     "name": "stdout",
     "output_type": "stream",
     "text": [
      "[[106 106 105]\n",
      " [104 107 108]]\n"
     ]
    }
   ],
   "execution_count": 7
  },
  {
   "metadata": {},
   "cell_type": "markdown",
   "source": [
    "#### print(*values, sep=' ', end='\\n')\n",
    "- 输出\n",
    "- values：要输出的对象，可以是多个对象\n",
    "- sep：输出的多个对象用什么间隔，默认为一个空格字符\n",
    "- end：输出最后用什么结尾，默认为一个换行符"
   ],
   "id": "38b729c3805f4a23"
  },
  {
   "metadata": {
    "ExecuteTime": {
     "end_time": "2025-10-01T06:01:30.078049Z",
     "start_time": "2025-10-01T06:01:30.063807Z"
    }
   },
   "cell_type": "code",
   "source": [
    "print('hello world')\n",
    "print(1, 2, 3, sep='-', end='-456')"
   ],
   "id": "9b013fd5ae714103",
   "outputs": [
    {
     "name": "stdout",
     "output_type": "stream",
     "text": [
      "hello world\n",
      "1-2-3-456"
     ]
    }
   ],
   "execution_count": 8
  },
  {
   "metadata": {
    "ExecuteTime": {
     "end_time": "2025-10-01T06:01:30.093993Z",
     "start_time": "2025-10-01T06:01:30.080039Z"
    }
   },
   "cell_type": "code",
   "source": [
    "print('qqqqqqqqqq', sep='--', end='.\\n')\n",
    "print(111.11111, 'qqqqqqqq', sep='-', end='.\\n')\n",
    "print(sep='-', end='.\\n')"
   ],
   "id": "51f9500e788f185",
   "outputs": [
    {
     "name": "stdout",
     "output_type": "stream",
     "text": [
      "qqqqqqqqqq.\n",
      "111.11111-qqqqqqqq.\n",
      ".\n"
     ]
    }
   ],
   "execution_count": 9
  },
  {
   "metadata": {},
   "cell_type": "markdown",
   "source": [
    "#### input([prompt])\n",
    "- 输入\n",
    "- prompt: 提示信息\n",
    "- 接收控制台输入的数据，以字符串的形式返回该数据"
   ],
   "id": "2a256cb81104ec74"
  },
  {
   "metadata": {
    "ExecuteTime": {
     "end_time": "2025-10-01T06:01:34.174104Z",
     "start_time": "2025-10-01T06:01:30.094989Z"
    }
   },
   "cell_type": "code",
   "source": [
    "name = input('请输入你的姓名: ')\n",
    "print(name, '你好, 很高兴认识你!')"
   ],
   "id": "9e35fe2e424a6dad",
   "outputs": [
    {
     "name": "stdout",
     "output_type": "stream",
     "text": [
      "li 你好, 很高兴认识你!\n"
     ]
    }
   ],
   "execution_count": 10
  },
  {
   "metadata": {
    "ExecuteTime": {
     "end_time": "2025-10-01T06:01:35.200278Z",
     "start_time": "2025-10-01T06:01:34.175237Z"
    }
   },
   "cell_type": "code",
   "source": [
    "res = input('hello\\n')\n",
    "print(res, '11', sep='-', end='.\\n')"
   ],
   "id": "660f34658ab7a5ea",
   "outputs": [
    {
     "name": "stdout",
     "output_type": "stream",
     "text": [
      "li-11.\n"
     ]
    }
   ],
   "execution_count": 11
  },
  {
   "metadata": {
    "ExecuteTime": {
     "end_time": "2025-10-01T06:01:39.901459Z",
     "start_time": "2025-10-01T06:01:35.203325Z"
    }
   },
   "cell_type": "code",
   "source": [
    "name = input('name: ')\n",
    "age = int(input('age: '))\n",
    "height = float(input('height: '))\n",
    "weight = float(input('weight: '))\n",
    "print(f'name: {name}, age: {age}, height: {height:.2f}m, weight: {weight:.2f}kg')\n",
    "print('name: %s, age: %d, height: %.2fm, weight: %.2fkg' % (name, age, height, weight))\n",
    "print('name: {}, age: {}, height: {:.2f}m, weight: {:.2f}kg'.format(name, age, height, weight))\n",
    "print('name: {1}, age: {0}, height: {2:.2f}m, weight: {3:.2f}kg'.format(age, name, height, weight))\n",
    "print(\n",
    "    'name: {name}, age: {age}, height: {height:.2f}m, weight: {weight:.2f}kg'.format(age=age, name=name, height=height,\n",
    "                                                                                     weight=weight))"
   ],
   "id": "30f09d1b035aaa17",
   "outputs": [
    {
     "name": "stdout",
     "output_type": "stream",
     "text": [
      "name: li, age: 20, height: 165.00m, weight: 70.00kg\n",
      "name: li, age: 20, height: 165.00m, weight: 70.00kg\n",
      "name: li, age: 20, height: 165.00m, weight: 70.00kg\n",
      "name: li, age: 20, height: 165.00m, weight: 70.00kg\n",
      "name: li, age: 20, height: 165.00m, weight: 70.00kg\n"
     ]
    }
   ],
   "execution_count": 12
  },
  {
   "metadata": {},
   "cell_type": "markdown",
   "source": [
    "#### conda\n",
    "#### 列出当前环境中已安装的包\n",
    "- conda list\n",
    "\n",
    "![list](picture/list.png)"
   ],
   "id": "3d6ded0c0409faf0"
  },
  {
   "metadata": {},
   "cell_type": "markdown",
   "source": [
    "#### 列出当前存在的所有环境\n",
    "- conda env list\n",
    "\n",
    "![env_list](picture/env_list.png)"
   ],
   "id": "c86cc0e02a639916"
  },
  {
   "metadata": {},
   "cell_type": "markdown",
   "source": [
    "#### 为 conda 添加国内镜像源\n",
    "- conda config --add channels https://mirrors.tuna.tsinghua.edu.cn/anaconda/pkgs/main/"
   ],
   "id": "fa734509f040e0ee"
  },
  {
   "metadata": {},
   "cell_type": "markdown",
   "source": [
    "#### 移除指定的 channel\n",
    "- conda config --remove channels <channel_name>"
   ],
   "id": "804806445e31aad1"
  },
  {
   "metadata": {},
   "cell_type": "markdown",
   "source": [
    "#### 恢复默认源\n",
    "- conda config --remove-key channels"
   ],
   "id": "b5b073ae91ef8ddc"
  },
  {
   "metadata": {},
   "cell_type": "markdown",
   "source": [
    "#### 查看当前 channels 配置状态\n",
    "- conda config --show channels\n",
    "\n",
    "![show_channels](picture/show_channels.png)"
   ],
   "id": "819b3e0b2a32c930"
  },
  {
   "metadata": {},
   "cell_type": "markdown",
   "source": [
    "#### 搜索指定的包\n",
    "- conda search <package_name>\n",
    "\n",
    "![search_numpy](picture/search_numpy.png)"
   ],
   "id": "e3197ac15658fdc0"
  },
  {
   "metadata": {},
   "cell_type": "markdown",
   "source": [
    "#### 创建 Python 虚拟环境\n",
    "- conda create -n <your_env_name> python=x.x\n",
    "- 解释：创建 Python 版本为 x.x，名字为 your_env_name 的虚拟环境"
   ],
   "id": "8a5df876dabd61db"
  },
  {
   "metadata": {},
   "cell_type": "markdown",
   "source": [
    "#### 激活指定的环境\n",
    "- conda activate <your_env_name>"
   ],
   "id": "9b50ea00b6346091"
  },
  {
   "metadata": {},
   "cell_type": "markdown",
   "source": [
    "#### 退出当前环境\n",
    "- conda deactivate"
   ],
   "id": "194bfe772ee16783"
  },
  {
   "metadata": {},
   "cell_type": "markdown",
   "source": [
    "#### 在当前环境中安装包\n",
    "- conda install <package_name>=x.x"
   ],
   "id": "9941c848e76e3cce"
  },
  {
   "metadata": {},
   "cell_type": "markdown",
   "source": [
    "#### 在指定环境中安装包\n",
    "- conda install -n <your_env_name> <package_name>=x.x"
   ],
   "id": "b1182669004fd595"
  },
  {
   "metadata": {},
   "cell_type": "markdown",
   "source": [
    "#### 删除当前环境中的某个包\n",
    "- conda remove <package_name>"
   ],
   "id": "454dc3c1bd2a8d06"
  },
  {
   "metadata": {},
   "cell_type": "markdown",
   "source": [
    "#### 删除指定环境中的某个包\n",
    "- conda remove -n <your_env_name> <package_name>"
   ],
   "id": "b7f88fb5dfc3afea"
  },
  {
   "metadata": {},
   "cell_type": "markdown",
   "source": [
    "#### 删除指定的虚拟环境\n",
    "- conda remove -n <your_env_name> --all"
   ],
   "id": "79887800ad54b69e"
  }
 ],
 "metadata": {
  "kernelspec": {
   "display_name": "Python 3",
   "language": "python",
   "name": "python3"
  },
  "language_info": {
   "codemirror_mode": {
    "name": "ipython",
    "version": 2
   },
   "file_extension": ".py",
   "mimetype": "text/x-python",
   "name": "python",
   "nbconvert_exporter": "python",
   "pygments_lexer": "ipython2",
   "version": "2.7.6"
  }
 },
 "nbformat": 4,
 "nbformat_minor": 5
}
