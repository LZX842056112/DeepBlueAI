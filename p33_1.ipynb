{
 "cells": [
  {
   "metadata": {
    "ExecuteTime": {
     "end_time": "2025-09-23T08:01:12.739536Z",
     "start_time": "2025-09-23T08:01:12.655559Z"
    }
   },
   "cell_type": "code",
   "source": "import numpy as np",
   "id": "1c608a689db736f",
   "outputs": [],
   "execution_count": 1
  },
  {
   "metadata": {},
   "cell_type": "markdown",
   "source": [
    "#### np.nonzero(arr_like)\n",
    "返回非零元素的索引"
   ],
   "id": "d2a8c688a0342a38"
  },
  {
   "metadata": {
    "ExecuteTime": {
     "end_time": "2025-09-23T08:01:12.754425Z",
     "start_time": "2025-09-23T08:01:12.740721Z"
    }
   },
   "cell_type": "code",
   "source": [
    "lst = [[[0, 0, 8],\n",
    "        [0, 0, 0]],\n",
    "       [[0, 0, 0],\n",
    "        [3, 0, 0]],\n",
    "       [[0, 6, 1],\n",
    "        [0, 0, 0]],\n",
    "       [[9, 0, 0],\n",
    "        [0, 0, 0]]]\n",
    "arr = np.array(lst)\n",
    "'''\n",
    "8: 0 0 2\n",
    "3: 1 1 0\n",
    "6: 2 0 1\n",
    "1: 2 0 2\n",
    "9: 3 0 0\n",
    "'''\n",
    "print(np.nonzero(arr))\n",
    "print([np.nonzero(arr)])\n",
    "print(arr[np.nonzero(arr)])"
   ],
   "id": "8fa3de645b768a2",
   "outputs": [
    {
     "name": "stdout",
     "output_type": "stream",
     "text": [
      "(array([0, 1, 2, 2, 3], dtype=int64), array([0, 1, 0, 0, 0], dtype=int64), array([2, 0, 1, 2, 0], dtype=int64))\n",
      "[(array([0, 1, 2, 2, 3], dtype=int64), array([0, 1, 0, 0, 0], dtype=int64), array([2, 0, 1, 2, 0], dtype=int64))]\n",
      "[8 3 6 1 9]\n"
     ]
    }
   ],
   "execution_count": 2
  },
  {
   "metadata": {
    "ExecuteTime": {
     "end_time": "2025-09-23T08:01:12.769507Z",
     "start_time": "2025-09-23T08:01:12.755421Z"
    }
   },
   "cell_type": "code",
   "source": [
    "print(arr > 5)\n",
    "print(np.nonzero(arr > 5))\n",
    "print(arr[np.nonzero(arr > 5)])"
   ],
   "id": "9ac5a170236fc2a3",
   "outputs": [
    {
     "name": "stdout",
     "output_type": "stream",
     "text": [
      "[[[False False  True]\n",
      "  [False False False]]\n",
      "\n",
      " [[False False False]\n",
      "  [False False False]]\n",
      "\n",
      " [[False  True False]\n",
      "  [False False False]]\n",
      "\n",
      " [[ True False False]\n",
      "  [False False False]]]\n",
      "(array([0, 2, 3], dtype=int64), array([0, 0, 0], dtype=int64), array([2, 1, 0], dtype=int64))\n",
      "[8 6 9]\n"
     ]
    }
   ],
   "execution_count": 3
  },
  {
   "metadata": {},
   "cell_type": "markdown",
   "source": [
    "#### np.where(condition, x=None, y=None)\n",
    "- condition : array_like, bool\n",
    "- x, y：array_like，要么都传参，要么都不传\n",
    "- 如果传三个参数，条件成立返回x，不成立时返回y\n",
    "- 如果只传第一个参数，返回符合条件的元素的索引"
   ],
   "id": "54c98b4cb9072a60"
  },
  {
   "metadata": {
    "ExecuteTime": {
     "end_time": "2025-09-23T08:01:12.785232Z",
     "start_time": "2025-09-23T08:01:12.769507Z"
    }
   },
   "cell_type": "code",
   "source": [
    "print(arr != 0)\n",
    "print(np.where(arr != 0))"
   ],
   "id": "c5509c86182b4425",
   "outputs": [
    {
     "name": "stdout",
     "output_type": "stream",
     "text": [
      "[[[False False  True]\n",
      "  [False False False]]\n",
      "\n",
      " [[False False False]\n",
      "  [ True False False]]\n",
      "\n",
      " [[False  True  True]\n",
      "  [False False False]]\n",
      "\n",
      " [[ True False False]\n",
      "  [False False False]]]\n",
      "(array([0, 1, 2, 2, 3], dtype=int64), array([0, 1, 0, 0, 0], dtype=int64), array([2, 0, 1, 2, 0], dtype=int64))\n"
     ]
    }
   ],
   "execution_count": 4
  },
  {
   "metadata": {},
   "cell_type": "markdown",
   "source": "#### 如果只传第一个参数，返回符合条件的元素的索引",
   "id": "630b4cd2ac27f9dd"
  },
  {
   "metadata": {
    "ExecuteTime": {
     "end_time": "2025-09-23T08:01:12.800437Z",
     "start_time": "2025-09-23T08:01:12.785232Z"
    }
   },
   "cell_type": "code",
   "source": [
    "print(arr[np.nonzero(arr)])\n",
    "print(arr[np.where(arr != 0)])\n",
    "print(arr[np.nonzero(arr > 5)])\n",
    "print(arr[np.where(arr > 5)])"
   ],
   "id": "ec70ee3de7cbd6dd",
   "outputs": [
    {
     "name": "stdout",
     "output_type": "stream",
     "text": [
      "[8 3 6 1 9]\n",
      "[8 3 6 1 9]\n",
      "[8 6 9]\n",
      "[8 6 9]\n"
     ]
    }
   ],
   "execution_count": 5
  },
  {
   "metadata": {},
   "cell_type": "markdown",
   "source": "#### 当where内有三个参数时，当condition成立时返回x，当condition不成立时返回y",
   "id": "acd1318072ec9af5"
  },
  {
   "metadata": {
    "ExecuteTime": {
     "end_time": "2025-09-23T08:01:12.816012Z",
     "start_time": "2025-09-23T08:01:12.801432Z"
    }
   },
   "cell_type": "code",
   "source": [
    "# shape:(2,3)\n",
    "cond = [[False, True, False],\n",
    "        [True, False, False]]\n",
    "# shape:(3,)->(2,3)\n",
    "x = [1, 2, 3]\n",
    "# shape:(1,3)->(2,3)\n",
    "y = [[4, 5, 6]]\n",
    "print(np.where(cond, x, y))"
   ],
   "id": "5d6cf207c61ab7c1",
   "outputs": [
    {
     "name": "stdout",
     "output_type": "stream",
     "text": [
      "[[4 2 6]\n",
      " [1 5 6]]\n"
     ]
    }
   ],
   "execution_count": 6
  },
  {
   "metadata": {},
   "cell_type": "markdown",
   "source": [
    "#### np.argwhere(arr_like)\n",
    "- 找出数组中按元素分组的非零元素的索引"
   ],
   "id": "63796e25a17b2d8a"
  },
  {
   "metadata": {
    "ExecuteTime": {
     "end_time": "2025-09-23T08:01:12.831456Z",
     "start_time": "2025-09-23T08:01:12.817017Z"
    }
   },
   "cell_type": "code",
   "source": [
    "lst = [[[0, 0, 8],\n",
    "        [0, 0, 0]],\n",
    "       [[0, 0, 0],\n",
    "        [3, 0, 0]],\n",
    "       [[0, 6, 1],\n",
    "        [0, 0, 0]],\n",
    "       [[9, 0, 0],\n",
    "        [0, 0, 0]]]\n",
    "arr = np.array(lst)\n",
    "print(arr[np.nonzero(arr)])\n",
    "print(np.argwhere(arr))"
   ],
   "id": "57297e82fd534de3",
   "outputs": [
    {
     "name": "stdout",
     "output_type": "stream",
     "text": [
      "[8 3 6 1 9]\n",
      "[[0 0 2]\n",
      " [1 1 0]\n",
      " [2 0 1]\n",
      " [2 0 2]\n",
      " [3 0 0]]\n"
     ]
    }
   ],
   "execution_count": 7
  },
  {
   "metadata": {},
   "cell_type": "markdown",
   "source": [
    "#### np.random.normal(loc=0.0, scale=1.0, size=None)\n",
    "- 返回从正态分布中抽取的随机样本\n",
    "- 正态分布又称为常态分布或高斯分布，通常记作X~N（μ ,σ**2）。其中， μ是正态分布的数学期望（均值）， σ2是正态分布的方差。μ = 0,σ = 1的正态分布被称为标准正态分布\n",
    "- loc：均值（中心）\n",
    "- scale：标准差\n",
    "- size：输出的形状"
   ],
   "id": "81fd62cdd0a74565"
  },
  {
   "metadata": {
    "ExecuteTime": {
     "end_time": "2025-09-23T08:01:12.846323Z",
     "start_time": "2025-09-23T08:01:12.832615Z"
    }
   },
   "cell_type": "code",
   "source": [
    "print(np.random.normal())\n",
    "print(np.random.normal(size=(2, 3, 4)))"
   ],
   "id": "3681a032d6515caf",
   "outputs": [
    {
     "name": "stdout",
     "output_type": "stream",
     "text": [
      "0.46435633997413456\n",
      "[[[-0.29262623  0.80931901  2.4216276   0.25861917]\n",
      "  [ 0.41869048  0.29925261  0.02754457  1.12876554]\n",
      "  [ 2.00615782 -0.56786643  0.94562059  1.80614375]]\n",
      "\n",
      " [[-0.20598207 -1.15196765  0.62913892  0.42138022]\n",
      "  [ 0.73049544  0.23853829 -0.62796446  0.34013007]\n",
      "  [-0.36841677 -0.23650255 -1.58981404  0.01565933]]]\n"
     ]
    }
   ],
   "execution_count": 8
  },
  {
   "metadata": {
    "ExecuteTime": {
     "end_time": "2025-09-23T08:01:12.861492Z",
     "start_time": "2025-09-23T08:01:12.847360Z"
    }
   },
   "cell_type": "code",
   "source": [
    "print(np.random.normal(loc=10))\n",
    "(np.random.normal(loc=10, size=(2, 3, 4)))"
   ],
   "id": "3e9b7fcab392fdea",
   "outputs": [
    {
     "name": "stdout",
     "output_type": "stream",
     "text": [
      "11.654656775144336\n"
     ]
    },
    {
     "data": {
      "text/plain": [
       "array([[[10.28778258,  8.67586551,  8.75710456, 10.6132955 ],\n",
       "        [11.0497511 ,  9.62757483,  9.70867096,  8.87126866],\n",
       "        [10.88117821,  9.42049331, 10.34058341, 10.69357546]],\n",
       "\n",
       "       [[ 9.70972667, 10.29309822, 10.15814618,  9.86000973],\n",
       "        [11.4226868 ,  8.95536224,  8.34109606,  9.04998653],\n",
       "        [11.50500632,  9.89312844,  9.40442131,  8.91489392]]])"
      ]
     },
     "execution_count": 9,
     "metadata": {},
     "output_type": "execute_result"
    }
   ],
   "execution_count": 9
  },
  {
   "metadata": {
    "ExecuteTime": {
     "end_time": "2025-09-23T08:01:12.877614Z",
     "start_time": "2025-09-23T08:01:12.862717Z"
    }
   },
   "cell_type": "code",
   "source": [
    "print(np.random.normal(loc=10, scale=5))\n",
    "(np.random.normal(loc=10, scale=5, size=(2, 3, 4)))"
   ],
   "id": "b9ff27df63a0c047",
   "outputs": [
    {
     "name": "stdout",
     "output_type": "stream",
     "text": [
      "4.210924934955905\n"
     ]
    },
    {
     "data": {
      "text/plain": [
       "array([[[ 8.93188961, 16.14083933,  7.68484845, 10.39143035],\n",
       "        [ 3.0223155 ,  3.72177095,  4.80378005, 11.89726191],\n",
       "        [14.13823655, 11.62019867, 16.0718401 , 12.81752974]],\n",
       "\n",
       "       [[ 7.62407196, 14.65906691,  9.44980386,  9.20015848],\n",
       "        [ 9.50698078, 15.66505386,  7.36724888,  9.32015421],\n",
       "        [ 9.55086698,  5.47428666,  1.80377305, 10.20595475]]])"
      ]
     },
     "execution_count": 10,
     "metadata": {},
     "output_type": "execute_result"
    }
   ],
   "execution_count": 10
  },
  {
   "metadata": {},
   "cell_type": "markdown",
   "source": [
    "#### np.random.randint(low, high=None, size=None)\n",
    "- 返回从 [low, high) 离散均匀分布中抽取的随机整数"
   ],
   "id": "6729176b72d4e9"
  },
  {
   "metadata": {
    "ExecuteTime": {
     "end_time": "2025-09-23T08:01:12.893497Z",
     "start_time": "2025-09-23T08:01:12.877614Z"
    }
   },
   "cell_type": "code",
   "source": [
    "print(np.random.randint(2))\n",
    "print(np.random.randint(2, size=5))  # 等价于下一行\n",
    "print(np.random.randint(0, 2, size=5))  # 等价于上一行\n",
    "print(np.random.randint(2, 8, size=(2, 3)))"
   ],
   "id": "66b92faedc16292f",
   "outputs": [
    {
     "name": "stdout",
     "output_type": "stream",
     "text": [
      "0\n",
      "[1 1 1 0 1]\n",
      "[1 1 0 0 0]\n",
      "[[6 6 6]\n",
      " [6 2 3]]\n"
     ]
    }
   ],
   "execution_count": 11
  },
  {
   "metadata": {},
   "cell_type": "markdown",
   "source": [
    "#### np.random.uniform(low=0.0, high=1.0, size=None)\n",
    "- 返回从 [low, high) 均匀分布中抽取的随机样本"
   ],
   "id": "b122cb4abb4b861"
  },
  {
   "metadata": {
    "ExecuteTime": {
     "end_time": "2025-09-23T08:01:12.908523Z",
     "start_time": "2025-09-23T08:01:12.894572Z"
    }
   },
   "cell_type": "code",
   "source": [
    "print(np.random.uniform(8))\n",
    "print(np.random.uniform(3.5, size=5))  # 等价于下一行\n",
    "print(np.random.uniform(0, 3.5, size=5))  # 等价于上一行\n",
    "print(np.random.uniform(2.5, 3.5, size=(2, 3, 4)))"
   ],
   "id": "96b450008d1a2b9b",
   "outputs": [
    {
     "name": "stdout",
     "output_type": "stream",
     "text": [
      "3.707785437129065\n",
      "[3.316323   1.97930546 2.89938286 1.9376353  3.18782238]\n",
      "[1.79722985 0.85444892 2.32854112 3.15778992 1.42704749]\n",
      "[[[2.66246931 3.30772883 2.6687212  2.53595331]\n",
      "  [2.64257948 2.64700035 3.05881421 3.25389563]\n",
      "  [2.62014189 2.79294314 3.38082217 3.36015656]]\n",
      "\n",
      " [[2.73595866 2.5209162  3.28256338 2.70836873]\n",
      "  [2.92093555 3.26177882 3.39110548 3.30427558]\n",
      "  [2.62466075 2.64663123 3.18611999 3.10459178]]]\n"
     ]
    }
   ],
   "execution_count": 12
  },
  {
   "metadata": {},
   "cell_type": "markdown",
   "source": [
    "#### np.random.permutation(x)\n",
    "- x：int or array_like\n",
    "- 如果 x 是整数，返回随机排列的 np.arange(x)\n",
    "- 如果 x 是数组，只对数组的第一个维度随机排列，返回新的数组"
   ],
   "id": "a863f3aefd8d054e"
  },
  {
   "metadata": {
    "ExecuteTime": {
     "end_time": "2025-09-23T08:01:12.923656Z",
     "start_time": "2025-09-23T08:01:12.909723Z"
    }
   },
   "cell_type": "code",
   "source": [
    "print(np.arange(9))\n",
    "# 等价于返回一个随机排列的np.arange(9)\n",
    "print(np.random.permutation(9))"
   ],
   "id": "2a443fc5d80dcb38",
   "outputs": [
    {
     "name": "stdout",
     "output_type": "stream",
     "text": [
      "[0 1 2 3 4 5 6 7 8]\n",
      "[3 6 0 4 5 8 2 7 1]\n"
     ]
    }
   ],
   "execution_count": 13
  },
  {
   "metadata": {
    "ExecuteTime": {
     "end_time": "2025-09-23T08:01:12.939112Z",
     "start_time": "2025-09-23T08:01:12.924849Z"
    }
   },
   "cell_type": "code",
   "source": [
    "arr = np.arange(24).reshape(4, 2, 3)\n",
    "print(arr)\n",
    "print('*' * 30)\n",
    "print(np.random.permutation(arr))"
   ],
   "id": "df43a931f15811b6",
   "outputs": [
    {
     "name": "stdout",
     "output_type": "stream",
     "text": [
      "[[[ 0  1  2]\n",
      "  [ 3  4  5]]\n",
      "\n",
      " [[ 6  7  8]\n",
      "  [ 9 10 11]]\n",
      "\n",
      " [[12 13 14]\n",
      "  [15 16 17]]\n",
      "\n",
      " [[18 19 20]\n",
      "  [21 22 23]]]\n",
      "******************************\n",
      "[[[18 19 20]\n",
      "  [21 22 23]]\n",
      "\n",
      " [[ 0  1  2]\n",
      "  [ 3  4  5]]\n",
      "\n",
      " [[12 13 14]\n",
      "  [15 16 17]]\n",
      "\n",
      " [[ 6  7  8]\n",
      "  [ 9 10 11]]]\n"
     ]
    }
   ],
   "execution_count": 14
  },
  {
   "metadata": {},
   "cell_type": "markdown",
   "source": [
    "#### np.random.seed([x])\n",
    "- 随机数种子"
   ],
   "id": "b26a134fd6df8d32"
  },
  {
   "metadata": {
    "ExecuteTime": {
     "end_time": "2025-09-23T08:01:12.954887Z",
     "start_time": "2025-09-23T08:01:12.940367Z"
    }
   },
   "cell_type": "code",
   "source": [
    "print(np.random.randint(1, 90, size=(2, 1)))\n",
    "print(np.random.uniform(1.5, 3.5))\n",
    "print(np.random.randint(1, 90, size=(2, 1)))\n",
    "print(np.random.uniform(1.5, 3.5))\n",
    "np.random.seed(5)\n",
    "print(np.random.randint(1, 90, size=(2, 1)))\n",
    "print(np.random.uniform(1.5, 3.5))"
   ],
   "id": "61bd4000b3f622c8",
   "outputs": [
    {
     "name": "stdout",
     "output_type": "stream",
     "text": [
      "[[28]\n",
      " [28]]\n",
      "3.123335435912136\n",
      "[[23]\n",
      " [14]]\n",
      "3.283104400783315\n",
      "[[79]\n",
      " [62]]\n",
      "1.9134383106788528\n"
     ]
    }
   ],
   "execution_count": 15
  },
  {
   "metadata": {
    "ExecuteTime": {
     "end_time": "2025-09-23T08:01:12.970425Z",
     "start_time": "2025-09-23T08:01:12.954887Z"
    }
   },
   "cell_type": "code",
   "source": [
    "np.random.seed(5)\n",
    "print(np.random.randint(1, 90, size=(2, 1)))\n",
    "print(np.random.uniform(1.5, 3.5))"
   ],
   "id": "44e9ac0fde7fb093",
   "outputs": [
    {
     "name": "stdout",
     "output_type": "stream",
     "text": [
      "[[79]\n",
      " [62]]\n",
      "1.9134383106788528\n"
     ]
    }
   ],
   "execution_count": 16
  },
  {
   "metadata": {
    "ExecuteTime": {
     "end_time": "2025-09-23T08:01:12.986238Z",
     "start_time": "2025-09-23T08:01:12.971542Z"
    }
   },
   "cell_type": "code",
   "source": [
    "np.random.seed(3)\n",
    "print(np.random.randint(1, 90, size=(2, 1)))\n",
    "print(np.random.uniform(1.5, 3.5))"
   ],
   "id": "326ac1b15c11e68d",
   "outputs": [
    {
     "name": "stdout",
     "output_type": "stream",
     "text": [
      "[[25]\n",
      " [ 4]]\n",
      "2.081809477825889\n"
     ]
    }
   ],
   "execution_count": 17
  },
  {
   "metadata": {
    "ExecuteTime": {
     "end_time": "2025-09-23T08:01:13.002338Z",
     "start_time": "2025-09-23T08:01:12.987150Z"
    }
   },
   "cell_type": "code",
   "source": [
    "# 恢复随机\n",
    "np.random.seed()\n",
    "print(np.random.randint(1, 90, size=(2, 1)))\n",
    "print(np.random.uniform(1.5, 3.5))"
   ],
   "id": "9ee8f8f3d0bc705d",
   "outputs": [
    {
     "name": "stdout",
     "output_type": "stream",
     "text": [
      "[[63]\n",
      " [ 3]]\n",
      "1.8118207672289157\n"
     ]
    }
   ],
   "execution_count": 18
  },
  {
   "metadata": {
    "ExecuteTime": {
     "end_time": "2025-09-23T08:01:13.018200Z",
     "start_time": "2025-09-23T08:01:13.003392Z"
    }
   },
   "cell_type": "code",
   "source": "",
   "id": "ab14ddc7e3b675a9",
   "outputs": [],
   "execution_count": 18
  }
 ],
 "metadata": {
  "kernelspec": {
   "display_name": "Python 3",
   "language": "python",
   "name": "python3"
  },
  "language_info": {
   "codemirror_mode": {
    "name": "ipython",
    "version": 2
   },
   "file_extension": ".py",
   "mimetype": "text/x-python",
   "name": "python",
   "nbconvert_exporter": "python",
   "pygments_lexer": "ipython2",
   "version": "2.7.6"
  }
 },
 "nbformat": 4,
 "nbformat_minor": 5
}
