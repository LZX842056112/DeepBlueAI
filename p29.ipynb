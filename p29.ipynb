{
 "cells": [
  {
   "cell_type": "code",
   "id": "initial_id",
   "metadata": {
    "collapsed": true,
    "ExecuteTime": {
     "end_time": "2025-09-17T08:37:03.062747Z",
     "start_time": "2025-09-17T08:37:03.050989Z"
    }
   },
   "source": "import re",
   "outputs": [],
   "execution_count": 1
  },
  {
   "metadata": {
    "ExecuteTime": {
     "end_time": "2025-09-17T06:02:59.421984Z",
     "start_time": "2025-09-17T06:02:59.405237Z"
    }
   },
   "cell_type": "code",
   "source": [
    "p = re.compile(r'[amk]')\n",
    "print(p.findall('I have a monkey'))"
   ],
   "id": "660a7df13b552209",
   "outputs": [
    {
     "name": "stdout",
     "output_type": "stream",
     "text": [
      "['a', 'a', 'm', 'k']\n"
     ]
    }
   ],
   "execution_count": 22
  },
  {
   "metadata": {
    "ExecuteTime": {
     "end_time": "2025-09-17T06:03:00.056826Z",
     "start_time": "2025-09-17T06:03:00.050239Z"
    }
   },
   "cell_type": "code",
   "source": [
    "# p = re.compile(r'[a-zA-Z]')\n",
    "p = re.compile(r'[a-z]', re.I)\n",
    "print(p.findall('8`3_+]-.4t^[k\\GNfaLM'))"
   ],
   "id": "7d92c2293fb6e734",
   "outputs": [
    {
     "name": "stdout",
     "output_type": "stream",
     "text": [
      "['t', 'k', 'G', 'N', 'f', 'a', 'L', 'M']\n"
     ]
    }
   ],
   "execution_count": 23
  },
  {
   "metadata": {
    "ExecuteTime": {
     "end_time": "2025-09-17T06:03:00.675036Z",
     "start_time": "2025-09-17T06:03:00.661421Z"
    }
   },
   "cell_type": "code",
   "source": [
    "# p = re.compile(r'[0-9]')\n",
    "p = re.compile(r'\\d')\n",
    "print(p.findall('8`3_+]-.4t^[k\\GNfaLM'))"
   ],
   "id": "356f687fac207108",
   "outputs": [
    {
     "name": "stdout",
     "output_type": "stream",
     "text": [
      "['8', '3', '4']\n"
     ]
    }
   ],
   "execution_count": 24
  },
  {
   "metadata": {
    "ExecuteTime": {
     "end_time": "2025-09-17T06:32:05.763788Z",
     "start_time": "2025-09-17T06:32:05.754681Z"
    }
   },
   "cell_type": "code",
   "source": [
    "p = re.compile(r'\\+')\n",
    "p = re.compile(r'[+]')\n",
    "print(p.findall('8`3_++.4t^[k\\+++aLM'))\n",
    "p = re.compile(r\"[\\d+]\")\n",
    "print(p.findall('8`3_++.4t^[k\\+++aLM'))"
   ],
   "id": "eb9310ef3e716e7b",
   "outputs": [
    {
     "name": "stdout",
     "output_type": "stream",
     "text": [
      "['+', '+', '+', '+', '+']\n",
      "['8', '3', '+', '+', '4', '+', '+', '+']\n"
     ]
    }
   ],
   "execution_count": 31
  },
  {
   "metadata": {
    "ExecuteTime": {
     "end_time": "2025-09-17T06:31:52.565880Z",
     "start_time": "2025-09-17T06:31:52.555930Z"
    }
   },
   "cell_type": "code",
   "source": [
    "p = re.compile(r\"[.+]\")\n",
    "print(p.findall(\"abc\"))\n",
    "p = re.compile(r\"[.+]\")\n",
    "print(p.findall(\"a.b+c.d+\"))"
   ],
   "id": "4727fba29e39dd11",
   "outputs": [
    {
     "name": "stdout",
     "output_type": "stream",
     "text": [
      "[]\n",
      "['.', '+', '.', '+']\n"
     ]
    }
   ],
   "execution_count": 30
  },
  {
   "metadata": {
    "ExecuteTime": {
     "end_time": "2025-09-17T06:33:45.846873Z",
     "start_time": "2025-09-17T06:33:45.828214Z"
    }
   },
   "cell_type": "code",
   "source": [
    "p = re.compile(r'\\^')\n",
    "print(p.findall('8^^^^^-.4t^[k\\G^NfaL^^M'))\n",
    "p = re.compile(r'[\\^]')\n",
    "print(p.findall('8^^^^^-.4t^[k\\G^NfaL^^M'))"
   ],
   "id": "c40a5949093d8e34",
   "outputs": [
    {
     "name": "stdout",
     "output_type": "stream",
     "text": [
      "['^', '^', '^', '^', '^', '^', '^', '^', '^']\n",
      "['^', '^', '^', '^', '^', '^', '^', '^', '^']\n"
     ]
    }
   ],
   "execution_count": 35
  },
  {
   "metadata": {
    "ExecuteTime": {
     "end_time": "2025-09-17T06:38:30.697155Z",
     "start_time": "2025-09-17T06:38:30.692727Z"
    }
   },
   "cell_type": "code",
   "source": [
    "p = re.compile(r'[^\\d+._\\-a-z\\]\\[\\\\]', re.I)\n",
    "print(p.findall('8^^^^^-.4_t^[k\\G^NfaL^^M'))"
   ],
   "id": "7d3019688e27a7b4",
   "outputs": [
    {
     "name": "stdout",
     "output_type": "stream",
     "text": [
      "['^', '^', '^', '^', '^', '^', '^', '^', '^']\n"
     ]
    }
   ],
   "execution_count": 39
  },
  {
   "metadata": {
    "ExecuteTime": {
     "end_time": "2025-09-17T06:39:07.855062Z",
     "start_time": "2025-09-17T06:39:07.849284Z"
    }
   },
   "cell_type": "code",
   "source": [
    "p = re.compile(r'[^^]')\n",
    "print(p.findall('8^^^^^-.4_t^[k\\G^NfaL^^M'))"
   ],
   "id": "55569083b7a6475f",
   "outputs": [
    {
     "name": "stdout",
     "output_type": "stream",
     "text": [
      "['8', '-', '.', '4', '_', 't', '[', 'k', '\\\\', 'G', 'N', 'f', 'a', 'L', 'M']\n"
     ]
    }
   ],
   "execution_count": 40
  },
  {
   "metadata": {
    "ExecuteTime": {
     "end_time": "2025-09-17T06:40:18.676179Z",
     "start_time": "2025-09-17T06:40:18.662677Z"
    }
   },
   "cell_type": "code",
   "source": [
    "p = re.compile(r'\\[|]')\n",
    "print(p.findall('8[]^^]^[36_+[]-t^'))"
   ],
   "id": "c7a9fe73e59c8462",
   "outputs": [
    {
     "name": "stdout",
     "output_type": "stream",
     "text": [
      "['[', ']', ']', '[', '[', ']']\n"
     ]
    }
   ],
   "execution_count": 42
  },
  {
   "metadata": {
    "ExecuteTime": {
     "end_time": "2025-09-17T06:51:23.370679Z",
     "start_time": "2025-09-17T06:51:23.354187Z"
    }
   },
   "cell_type": "code",
   "source": [
    "p = re.compile(r'a(bc)d(efg)(.+)')\n",
    "m = p.search('abcdefghijk')\n",
    "print(m)\n",
    "print(m.group())\n",
    "print(m.group(0))\n",
    "print(m.group(1))\n",
    "print(m.group(2))\n",
    "print(m.group(3))\n",
    "print(m.group(2, 0, 3))\n",
    "print(m.span())\n",
    "print(m.span(0))\n",
    "print(m.span(2))"
   ],
   "id": "d6ffd62179af1a3a",
   "outputs": [
    {
     "name": "stdout",
     "output_type": "stream",
     "text": [
      "<re.Match object; span=(0, 11), match='abcdefghijk'>\n",
      "abcdefghijk\n",
      "abcdefghijk\n",
      "bc\n",
      "efg\n",
      "hijk\n",
      "('efg', 'abcdefghijk', 'hijk')\n",
      "(0, 11)\n",
      "(0, 11)\n",
      "(4, 7)\n"
     ]
    }
   ],
   "execution_count": 50
  },
  {
   "metadata": {
    "ExecuteTime": {
     "end_time": "2025-09-17T06:52:36.651264Z",
     "start_time": "2025-09-17T06:52:36.635957Z"
    }
   },
   "cell_type": "code",
   "source": [
    "p = re.compile(r'a(bc)d(efg)(.+?)')\n",
    "m = p.search('abcdefghijk')\n",
    "print(m)"
   ],
   "id": "f411b12d93ff3d56",
   "outputs": [
    {
     "name": "stdout",
     "output_type": "stream",
     "text": [
      "<re.Match object; span=(0, 8), match='abcdefgh'>\n"
     ]
    }
   ],
   "execution_count": 52
  },
  {
   "metadata": {
    "ExecuteTime": {
     "end_time": "2025-09-17T06:52:41.909475Z",
     "start_time": "2025-09-17T06:52:41.900562Z"
    }
   },
   "cell_type": "code",
   "source": [
    "p = re.compile(r'a(bc)d(efg)(.+)?')\n",
    "m = p.search('abcdefghijk')\n",
    "print(m)"
   ],
   "id": "c86245ca47b5d5cc",
   "outputs": [
    {
     "name": "stdout",
     "output_type": "stream",
     "text": [
      "<re.Match object; span=(0, 11), match='abcdefghijk'>\n"
     ]
    }
   ],
   "execution_count": 53
  },
  {
   "metadata": {
    "ExecuteTime": {
     "end_time": "2025-09-17T06:54:08.710816Z",
     "start_time": "2025-09-17T06:54:08.698691Z"
    }
   },
   "cell_type": "code",
   "source": [
    "p = re.compile(r'a(bc)d(efg)(.+)??')\n",
    "m = p.search('abcdefghijk')\n",
    "print(m)"
   ],
   "id": "59cecb46a8135615",
   "outputs": [
    {
     "name": "stdout",
     "output_type": "stream",
     "text": [
      "<re.Match object; span=(0, 7), match='abcdefg'>\n"
     ]
    }
   ],
   "execution_count": 54
  },
  {
   "metadata": {
    "ExecuteTime": {
     "end_time": "2025-09-17T06:58:37.720655Z",
     "start_time": "2025-09-17T06:58:37.712767Z"
    }
   },
   "cell_type": "code",
   "source": [
    "p = re.compile(r'\\d+-\\D')\n",
    "print(p.findall('101-years 8346 ago，3-dogs'))"
   ],
   "id": "95f45746a6cd0615",
   "outputs": [
    {
     "name": "stdout",
     "output_type": "stream",
     "text": [
      "['101-y', '3-d']\n"
     ]
    }
   ],
   "execution_count": 55
  },
  {
   "metadata": {
    "ExecuteTime": {
     "end_time": "2025-09-17T07:01:38.785277Z",
     "start_time": "2025-09-17T07:01:38.773887Z"
    }
   },
   "cell_type": "code",
   "source": [
    "p = re.compile(r'(\\d+)(-)(\\D)')\n",
    "print(p.findall('101-years 8346 ago，3-dogs'))"
   ],
   "id": "82a8e47cb2c44fd9",
   "outputs": [
    {
     "name": "stdout",
     "output_type": "stream",
     "text": [
      "[('101', '-', 'y'), ('3', '-', 'd')]\n"
     ]
    }
   ],
   "execution_count": 57
  },
  {
   "metadata": {
    "ExecuteTime": {
     "end_time": "2025-09-17T07:04:02.663192Z",
     "start_time": "2025-09-17T07:04:02.645457Z"
    }
   },
   "cell_type": "code",
   "source": [
    "p = re.compile(r'(\\d)+-(\\D)')\n",
    "print(p.findall('101-years 8346-ago，3-dogs'))"
   ],
   "id": "c252613e9159327e",
   "outputs": [
    {
     "name": "stdout",
     "output_type": "stream",
     "text": [
      "[('1', 'y'), ('6', 'a'), ('3', 'd')]\n"
     ]
    }
   ],
   "execution_count": 59
  },
  {
   "metadata": {
    "ExecuteTime": {
     "end_time": "2025-09-17T07:06:03.122106Z",
     "start_time": "2025-09-17T07:06:03.118225Z"
    }
   },
   "cell_type": "code",
   "source": [
    "p = re.compile(r'(\\d)(\\d){2}')\n",
    "print(p.findall('1234567890'))"
   ],
   "id": "57a0cfc81adea7cc",
   "outputs": [
    {
     "name": "stdout",
     "output_type": "stream",
     "text": [
      "[('1', '3'), ('4', '6'), ('7', '9')]\n"
     ]
    }
   ],
   "execution_count": 60
  },
  {
   "metadata": {
    "ExecuteTime": {
     "end_time": "2025-09-17T07:10:30.664005Z",
     "start_time": "2025-09-17T07:10:30.649299Z"
    }
   },
   "cell_type": "code",
   "source": [
    "p = re.compile(r\"(.+) \\1\")\n",
    "print(p.search(\"ab abc\"))\n",
    "print(p.search(\"5 5\"))"
   ],
   "id": "930f2cffdc79dad4",
   "outputs": [
    {
     "name": "stdout",
     "output_type": "stream",
     "text": [
      "<re.Match object; span=(0, 5), match='ab ab'>\n",
      "<re.Match object; span=(0, 3), match='5 5'>\n"
     ]
    }
   ],
   "execution_count": 71
  },
  {
   "metadata": {
    "ExecuteTime": {
     "end_time": "2025-09-17T07:11:16.830794Z",
     "start_time": "2025-09-17T07:11:16.818998Z"
    }
   },
   "cell_type": "code",
   "source": [
    "p = re.compile(r\"(.+)( )\\2\")\n",
    "print(p.search(\"ab  abc\"))\n",
    "print(p.search(\"5  5\"))"
   ],
   "id": "454bdecaf9cca4d1",
   "outputs": [
    {
     "name": "stdout",
     "output_type": "stream",
     "text": [
      "<re.Match object; span=(0, 4), match='ab  '>\n",
      "<re.Match object; span=(0, 3), match='5  '>\n"
     ]
    }
   ],
   "execution_count": 73
  },
  {
   "metadata": {
    "ExecuteTime": {
     "end_time": "2025-09-17T07:14:40.361583Z",
     "start_time": "2025-09-17T07:14:40.345321Z"
    }
   },
   "cell_type": "code",
   "source": [
    "p = re.compile(r\"(.+) [\\1]\")\n",
    "print(p.search(\"ab abc\"))\n",
    "m = p.search(\"ab \\1abc\")\n",
    "print(m.group())"
   ],
   "id": "69b7a58577a48a10",
   "outputs": [
    {
     "name": "stdout",
     "output_type": "stream",
     "text": [
      "None\n",
      "ab \u0001\n"
     ]
    }
   ],
   "execution_count": 77
  },
  {
   "metadata": {
    "ExecuteTime": {
     "end_time": "2025-09-17T07:15:52.519709Z",
     "start_time": "2025-09-17T07:15:52.504207Z"
    }
   },
   "cell_type": "code",
   "source": [
    "p = re.compile(r\"b(?:.+)a(?:.+)e\")\n",
    "m = p.match(\"babacdefg\")\n",
    "print(m)"
   ],
   "id": "4f12de81bf6338d0",
   "outputs": [
    {
     "name": "stdout",
     "output_type": "stream",
     "text": [
      "<re.Match object; span=(0, 7), match='babacde'>\n"
     ]
    }
   ],
   "execution_count": 78
  },
  {
   "metadata": {
    "ExecuteTime": {
     "end_time": "2025-09-17T07:18:03.458303Z",
     "start_time": "2025-09-17T07:18:03.445114Z"
    }
   },
   "cell_type": "code",
   "source": [
    "p = re.compile(r'a(?:bc)d(?:efg)(?:.+)')\n",
    "m = p.search('abcdefghijk')\n",
    "print(m)"
   ],
   "id": "fa89669a18c49eec",
   "outputs": [
    {
     "name": "stdout",
     "output_type": "stream",
     "text": [
      "<re.Match object; span=(0, 11), match='abcdefghijk'>\n"
     ]
    }
   ],
   "execution_count": 79
  },
  {
   "metadata": {
    "ExecuteTime": {
     "end_time": "2025-09-17T07:20:08.601828Z",
     "start_time": "2025-09-17T07:20:08.594851Z"
    }
   },
   "cell_type": "code",
   "source": [
    "p = re.compile(r'abcdefg(?:.+)?')\n",
    "m = p.search('abcdefghijk')\n",
    "print(m)\n",
    "print(m.group())\n",
    "print(m.group(0))"
   ],
   "id": "90137c511a747735",
   "outputs": [
    {
     "name": "stdout",
     "output_type": "stream",
     "text": [
      "<re.Match object; span=(0, 11), match='abcdefghijk'>\n",
      "abcdefghijk\n",
      "abcdefghijk\n"
     ]
    }
   ],
   "execution_count": 83
  },
  {
   "metadata": {
    "ExecuteTime": {
     "end_time": "2025-09-17T07:21:33.326082Z",
     "start_time": "2025-09-17T07:21:33.310343Z"
    }
   },
   "cell_type": "code",
   "source": [
    "p = re.compile(r'abcdefg.+?')\n",
    "m = p.search('abcdefghijk')\n",
    "print(m)\n",
    "print(m.group())\n",
    "print(m.group(0))"
   ],
   "id": "7e6c7c877f7cbacd",
   "outputs": [
    {
     "name": "stdout",
     "output_type": "stream",
     "text": [
      "<re.Match object; span=(0, 8), match='abcdefgh'>\n",
      "abcdefgh\n",
      "abcdefgh\n"
     ]
    }
   ],
   "execution_count": 85
  },
  {
   "metadata": {
    "ExecuteTime": {
     "end_time": "2025-09-17T08:45:31.083401Z",
     "start_time": "2025-09-17T08:45:31.072328Z"
    }
   },
   "cell_type": "code",
   "source": [
    "p = re.compile(r\"\\W+\")\n",
    "print(p.split('Words, words+-words.'))\n",
    "print(p.split('Words, words+-words.', 2))\n",
    "p = re.compile(r\"(\\W+)\")\n",
    "print(p.split('Words, words+-words.'))\n",
    "print(p.split('...Words, words+-words...'))"
   ],
   "id": "22c2950862968f74",
   "outputs": [
    {
     "name": "stdout",
     "output_type": "stream",
     "text": [
      "['Words', 'words', 'words', '']\n",
      "['Words', 'words', 'words.']\n",
      "['Words', ', ', 'words', '+-', 'words', '.', '']\n",
      "['', '...', 'Words', ', ', 'words', '+-', 'words', '...', '']\n"
     ]
    }
   ],
   "execution_count": 5
  },
  {
   "metadata": {
    "ExecuteTime": {
     "end_time": "2025-09-17T07:27:12.706648Z",
     "start_time": "2025-09-17T07:27:12.700607Z"
    }
   },
   "cell_type": "code",
   "source": [
    "p = re.compile(r\"(\\W)+\")\n",
    "print(p.split('Words, words+-words.'))"
   ],
   "id": "ac7f5234523d85ca",
   "outputs": [
    {
     "name": "stdout",
     "output_type": "stream",
     "text": [
      "['Words', ' ', 'words', '-', 'words', '.', '']\n"
     ]
    }
   ],
   "execution_count": 90
  },
  {
   "metadata": {
    "ExecuteTime": {
     "end_time": "2025-09-17T07:29:33.699710Z",
     "start_time": "2025-09-17T07:29:33.684535Z"
    }
   },
   "cell_type": "code",
   "source": [
    "p = re.compile(r'blue|white|red')\n",
    "\"\"\" 把每一个从左开始非重叠匹配的字符串用其他字符串替换 \"\"\"\n",
    "print(p.sub('colour', 'blue socks and red shoes'))\n",
    "print(p.sub('colour', 'blue socks and red shoes', count=1))"
   ],
   "id": "6716250730ef47b",
   "outputs": [
    {
     "name": "stdout",
     "output_type": "stream",
     "text": [
      "colour socks and colour shoes\n",
      "colour socks and red shoes\n"
     ]
    }
   ],
   "execution_count": 94
  },
  {
   "metadata": {
    "ExecuteTime": {
     "end_time": "2025-09-17T07:32:00.556960Z",
     "start_time": "2025-09-17T07:32:00.538813Z"
    }
   },
   "cell_type": "code",
   "source": [
    "def func(matchobj):\n",
    "    if matchobj.group() == '-':\n",
    "        return '🐉'\n",
    "    return '🐕'\n",
    "\n",
    "\n",
    "\"\"\" 把每一个从左开始非重叠匹配的对象作为参数传入函数调用\n",
    "这个函数只能有一个 匹配对象 参数, 并返回一个替换字符串 \"\"\"\n",
    "p = re.compile(r'-{1,2}')\n",
    "print(p.sub(func, 'pro----gram-files'))"
   ],
   "id": "a0e12ea8e750643a",
   "outputs": [
    {
     "name": "stdout",
     "output_type": "stream",
     "text": [
      "pro🐕🐕gram🐉files\n"
     ]
    }
   ],
   "execution_count": 97
  },
  {
   "metadata": {
    "ExecuteTime": {
     "end_time": "2025-09-17T07:36:33.427551Z",
     "start_time": "2025-09-17T07:36:33.412417Z"
    }
   },
   "cell_type": "code",
   "source": "print(re.sub(r'-{1,2}', func, 'pro----gram-files'))",
   "id": "315601e84cb56f3d",
   "outputs": [
    {
     "name": "stdout",
     "output_type": "stream",
     "text": [
      "pro🐕🐕gram🐉files\n"
     ]
    }
   ],
   "execution_count": 98
  },
  {
   "metadata": {},
   "cell_type": "code",
   "outputs": [],
   "execution_count": null,
   "source": "",
   "id": "cc737ed6d5f97700"
  }
 ],
 "metadata": {
  "kernelspec": {
   "display_name": "Python 3",
   "language": "python",
   "name": "python3"
  },
  "language_info": {
   "codemirror_mode": {
    "name": "ipython",
    "version": 2
   },
   "file_extension": ".py",
   "mimetype": "text/x-python",
   "name": "python",
   "nbconvert_exporter": "python",
   "pygments_lexer": "ipython2",
   "version": "2.7.6"
  }
 },
 "nbformat": 4,
 "nbformat_minor": 5
}
