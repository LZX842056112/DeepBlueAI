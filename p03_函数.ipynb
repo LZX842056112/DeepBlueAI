{
 "cells": [
  {
   "metadata": {},
   "cell_type": "markdown",
   "source": [
    "#### 定义函数\n",
    "- def func_name([arg1 [, arg2, ... argN]]):\n",
    "- - func_body\n",
    "- 调用函数的格式:\n",
    "- - func_name([实参1, 实参2, ..., 实参N])\n",
    "- 内置函数: Python官方在builtins模块下直接定义好的函数, 它们可以直接拿来使用, 比如: print, ...\n",
    "- 形参： 函数定义时声明的参数。\n",
    "- 实参： 函数调用时传入的参数。\n",
    "- 函数只需要定义一次，就可以被多次使用。\n",
    "- 当函数被调用时，才执行函数体，定义时不执行。\n",
    "- 每次函数调用时, 会先将实参传递给形参, 然后再执行函数体"
   ],
   "id": "97348b579d95b855"
  },
  {
   "metadata": {
    "ExecuteTime": {
     "end_time": "2025-10-01T05:52:47.371742Z",
     "start_time": "2025-10-01T05:52:47.365071Z"
    }
   },
   "cell_type": "code",
   "source": [
    "def plus(num):\n",
    "    print(num + 1)\n",
    "\n",
    "\n",
    "\"\"\" 调用函数 \"\"\"\n",
    "plus(2)  # 3\n",
    "plus(5)  # 6"
   ],
   "id": "d5024891c7406d41",
   "outputs": [
    {
     "name": "stdout",
     "output_type": "stream",
     "text": [
      "3\n",
      "6\n"
     ]
    }
   ],
   "execution_count": 1
  },
  {
   "metadata": {
    "ExecuteTime": {
     "end_time": "2025-10-01T05:52:47.387042Z",
     "start_time": "2025-10-01T05:52:47.372918Z"
    }
   },
   "cell_type": "code",
   "source": [
    "f = plus\n",
    "print(plus)\n",
    "print(f)\n",
    "f(2)  # 3\n",
    "f(5)  # 6"
   ],
   "id": "28c2b69589f71fee",
   "outputs": [
    {
     "name": "stdout",
     "output_type": "stream",
     "text": [
      "<function plus at 0x0000028ECDF21D30>\n",
      "<function plus at 0x0000028ECDF21D30>\n",
      "3\n",
      "6\n"
     ]
    }
   ],
   "execution_count": 2
  },
  {
   "metadata": {},
   "cell_type": "markdown",
   "source": [
    "#### return 用法\n",
    "- 把后面跟着的对象返回给函数调用方，并结束所在的函数\n",
    "- return 后面可以跟一个对象，多个对象，甚至不跟任何对象\n",
    "- return 后面什么都不跟，等价于 return None\n",
    "- 函数执行时，没有遇到 return，也等价于 return None"
   ],
   "id": "4ee2f0d3bc53f8b5"
  },
  {
   "metadata": {
    "ExecuteTime": {
     "end_time": "2025-10-01T05:52:47.402028Z",
     "start_time": "2025-10-01T05:52:47.388168Z"
    }
   },
   "cell_type": "code",
   "source": [
    "# 返回一个对象\n",
    "def add1(left, right):\n",
    "    res = left + right\n",
    "    return res\n",
    "\n",
    "\n",
    "def add2(left, right):\n",
    "    return left + right\n",
    "\n",
    "\n",
    "print(add1(3, 4))\n",
    "print(add2(3, 4))"
   ],
   "id": "974757bd56525ce4",
   "outputs": [
    {
     "name": "stdout",
     "output_type": "stream",
     "text": [
      "7\n",
      "7\n"
     ]
    }
   ],
   "execution_count": 3
  },
  {
   "metadata": {
    "ExecuteTime": {
     "end_time": "2025-10-01T05:52:47.417051Z",
     "start_time": "2025-10-01T05:52:47.403169Z"
    }
   },
   "cell_type": "code",
   "source": [
    "# 返回多个对象, 自动打包成一个元组\n",
    "def add3(left, right):\n",
    "    res1 = left + right\n",
    "    res2 = left * right\n",
    "    return res1, res2\n",
    "\n",
    "\n",
    "def add4(left, right):\n",
    "    return left + right, left * right\n",
    "\n",
    "\n",
    "print(add3(3, 4))\n",
    "print(add4(3, 4))"
   ],
   "id": "fa0b435b86cc1bfc",
   "outputs": [
    {
     "name": "stdout",
     "output_type": "stream",
     "text": [
      "(7, 12)\n",
      "(7, 12)\n"
     ]
    }
   ],
   "execution_count": 4
  },
  {
   "metadata": {
    "ExecuteTime": {
     "end_time": "2025-10-01T05:52:47.432961Z",
     "start_time": "2025-10-01T05:52:47.418049Z"
    }
   },
   "cell_type": "code",
   "source": [
    "# return None\n",
    "def add5(left, right):\n",
    "    print(left + right)\n",
    "    return\n",
    "\n",
    "\n",
    "# return None\n",
    "def add6(left, right):\n",
    "    pass\n",
    "\n",
    "\n",
    "print(add5(3, 4))\n",
    "print(add6(3, 4))"
   ],
   "id": "4e96490b53bae2b6",
   "outputs": [
    {
     "name": "stdout",
     "output_type": "stream",
     "text": [
      "7\n",
      "None\n",
      "None\n"
     ]
    }
   ],
   "execution_count": 5
  },
  {
   "metadata": {},
   "cell_type": "markdown",
   "source": [
    "#### 参数传递\n",
    "- 传不可变对象 & 传可变对象"
   ],
   "id": "5101b7ba88bec1a5"
  },
  {
   "metadata": {
    "ExecuteTime": {
     "end_time": "2025-10-01T05:52:47.448213Z",
     "start_time": "2025-10-01T05:52:47.434388Z"
    }
   },
   "cell_type": "code",
   "source": [
    "def func(b):\n",
    "    print(id(a), a)\n",
    "    print(id(b), b)\n",
    "\n",
    "\n",
    "a = 789\n",
    "func(a)"
   ],
   "id": "86c278a5ce2709b1",
   "outputs": [
    {
     "name": "stdout",
     "output_type": "stream",
     "text": [
      "2812363813488 789\n",
      "2812363813488 789\n"
     ]
    }
   ],
   "execution_count": 6
  },
  {
   "metadata": {
    "ExecuteTime": {
     "end_time": "2025-10-01T05:52:47.463760Z",
     "start_time": "2025-10-01T05:52:47.449348Z"
    }
   },
   "cell_type": "code",
   "source": [
    "def func(b):\n",
    "    print(id(a), a)\n",
    "    print(id(b), b)\n",
    "\n",
    "\n",
    "a = [789]\n",
    "func(a)"
   ],
   "id": "5b9840ede93ea56f",
   "outputs": [
    {
     "name": "stdout",
     "output_type": "stream",
     "text": [
      "2812363517056 [789]\n",
      "2812363517056 [789]\n"
     ]
    }
   ],
   "execution_count": 7
  },
  {
   "metadata": {},
   "cell_type": "markdown",
   "source": [
    "#### 参数分类\n",
    "#### 必需参数\n",
    "- 必须接收一个实参的形参，多了少了都不行"
   ],
   "id": "102d7c3265fa8cac"
  },
  {
   "metadata": {
    "ExecuteTime": {
     "end_time": "2025-10-01T05:52:47.478939Z",
     "start_time": "2025-10-01T05:52:47.463760Z"
    }
   },
   "cell_type": "code",
   "source": [
    "def func(a, b):\n",
    "    print(a - b)\n",
    "\n",
    "\n",
    "func(3, 4)\n",
    "func(3, b=4)\n",
    "func(b=4, a=3)"
   ],
   "id": "649fb17c2bf45f30",
   "outputs": [
    {
     "name": "stdout",
     "output_type": "stream",
     "text": [
      "-1\n",
      "-1\n",
      "-1\n"
     ]
    }
   ],
   "execution_count": 8
  },
  {
   "metadata": {},
   "cell_type": "markdown",
   "source": [
    "#### 位置参数\n",
    "- 按照从左往右的顺序将实参传递给对应的形参"
   ],
   "id": "64768d43242eeb94"
  },
  {
   "metadata": {
    "ExecuteTime": {
     "end_time": "2025-10-01T05:52:47.494738Z",
     "start_time": "2025-10-01T05:52:47.480064Z"
    }
   },
   "cell_type": "code",
   "source": [
    "def func(a, b):\n",
    "    print(a - b)\n",
    "\n",
    "\n",
    "func(3, 4)  # -1\n",
    "func(4, 3)  # 1"
   ],
   "id": "c53ca4b4553460b2",
   "outputs": [
    {
     "name": "stdout",
     "output_type": "stream",
     "text": [
      "-1\n",
      "1\n"
     ]
    }
   ],
   "execution_count": 9
  },
  {
   "metadata": {},
   "cell_type": "markdown",
   "source": [
    "#### 关键字参数\n",
    "- 实参会按照指定的名称传递给同名的形参(和顺序无关)\n",
    "- 注意: 关键字参数必须放在所有位置参数的后面"
   ],
   "id": "a07565b1525a37f8"
  },
  {
   "metadata": {
    "ExecuteTime": {
     "end_time": "2025-10-01T05:52:47.509898Z",
     "start_time": "2025-10-01T05:52:47.495936Z"
    }
   },
   "cell_type": "code",
   "source": [
    "def func(a, b):\n",
    "    print(a - b)\n",
    "\n",
    "\n",
    "func(a=3, b=4)  # -1\n",
    "func(b=4, a=3)  # -1\n",
    "func(3, b=4)  # -1"
   ],
   "id": "64b61b7bfe1cdf8d",
   "outputs": [
    {
     "name": "stdout",
     "output_type": "stream",
     "text": [
      "-1\n",
      "-1\n",
      "-1\n"
     ]
    }
   ],
   "execution_count": 10
  },
  {
   "metadata": {},
   "cell_type": "markdown",
   "source": [
    "#### 默认参数\n",
    "- 有接收到实参，使用实参，没有接收到实参时，才会使用默认值"
   ],
   "id": "711650e72fdf0847"
  },
  {
   "metadata": {
    "ExecuteTime": {
     "end_time": "2025-10-01T05:52:47.525694Z",
     "start_time": "2025-10-01T05:52:47.509898Z"
    }
   },
   "cell_type": "code",
   "source": [
    "def func(a, b=4):\n",
    "    print(a - b)\n",
    "\n",
    "\n",
    "func(3)  # -1\n",
    "func(3, 5)  # -2"
   ],
   "id": "12fdedc98435e2c0",
   "outputs": [
    {
     "name": "stdout",
     "output_type": "stream",
     "text": [
      "-1\n",
      "-2\n"
     ]
    }
   ],
   "execution_count": 11
  },
  {
   "metadata": {},
   "cell_type": "markdown",
   "source": [
    "#### 不定长参数\n",
    "- *args：接收[0, +∞)个位置参数，贪婪的，将它们打包成一个元组，如果没有接收到实参，则为空元组。\n",
    "- **kwargs：接收[0, +∞)个关键字参数，贪婪的，将它们打包成一个字典，如果没有接收到实参，则为空字典。必须放在所有形参的最后。"
   ],
   "id": "9a9a54fdadff1d52"
  },
  {
   "metadata": {
    "ExecuteTime": {
     "end_time": "2025-10-01T05:52:47.540746Z",
     "start_time": "2025-10-01T05:52:47.526691Z"
    }
   },
   "cell_type": "code",
   "source": [
    "def func(*args):\n",
    "    print(args)\n",
    "\n",
    "\n",
    "func()\n",
    "func(3, 1, 4, 6)\n",
    "\n",
    "\n",
    "def func(**kwargs):\n",
    "    print(kwargs)\n",
    "\n",
    "\n",
    "func()\n",
    "func(a=3, b=2, c=4)"
   ],
   "id": "7bb1ae378f6ce64f",
   "outputs": [
    {
     "name": "stdout",
     "output_type": "stream",
     "text": [
      "()\n",
      "(3, 1, 4, 6)\n",
      "{}\n",
      "{'a': 3, 'b': 2, 'c': 4}\n"
     ]
    }
   ],
   "execution_count": 12
  },
  {
   "metadata": {
    "ExecuteTime": {
     "end_time": "2025-10-01T05:52:47.556100Z",
     "start_time": "2025-10-01T05:52:47.542216Z"
    }
   },
   "cell_type": "code",
   "source": [
    "def func(*args, **kwargs):\n",
    "    print(args)\n",
    "    print(kwargs)\n",
    "\n",
    "\n",
    "func()\n",
    "print('*' * 30)\n",
    "func(1)\n",
    "print('*' * 30)\n",
    "func(1, 2, a=3, b=4)\n",
    "print('*' * 30)\n",
    "func(1, 45, 456, 465, 46)"
   ],
   "id": "a5133d0dd221859b",
   "outputs": [
    {
     "name": "stdout",
     "output_type": "stream",
     "text": [
      "()\n",
      "{}\n",
      "******************************\n",
      "(1,)\n",
      "{}\n",
      "******************************\n",
      "(1, 2)\n",
      "{'a': 3, 'b': 4}\n",
      "******************************\n",
      "(1, 45, 456, 465, 46)\n",
      "{}\n"
     ]
    }
   ],
   "execution_count": 13
  },
  {
   "metadata": {},
   "cell_type": "markdown",
   "source": [
    "#### 特殊参数\n",
    "- 默认情况下，实参的传递形式可以是位置参数或关键字参数\n",
    "- 可以用 / 和 * 来限制参数的传递形式\n",
    "- 其中 / 为仅限位置参数，限制在它之前的形参只能接收位置参数\n",
    "- 其中 * 为仅限关键字参数，限制在它之后的形参只能接收关键字参数\n",
    "- 这两个特殊参数只是为了限制参数的传递形式，不需要为它们传入实参"
   ],
   "id": "36d5727a449a04d3"
  },
  {
   "metadata": {
    "ExecuteTime": {
     "end_time": "2025-10-01T05:52:47.570946Z",
     "start_time": "2025-10-01T05:52:47.557255Z"
    }
   },
   "cell_type": "code",
   "source": [
    "def func(pos1, pos2, /, pos_or_kwd, *, kwd1, kwd2):\n",
    "    pass\n",
    "\n",
    "\n",
    "func(1, 2, 3, kwd1=4, kwd2=5)\n",
    "func(1, 2, pos_or_kwd=3, kwd1=4, kwd2=5)"
   ],
   "id": "bc905ccdee3cd957",
   "outputs": [],
   "execution_count": 14
  },
  {
   "metadata": {},
   "cell_type": "markdown",
   "source": [
    "#### 匿名函数\n",
    "- 格式： lambda [arg1 [, arg2, ... argN]] : expression\n",
    "- 匿名函数的参数可以有多个，但是后面的 expression 只能有一个\n",
    "- 匿名函数返回值就是 expression 的结果，而不需要使用return\n",
    "- 匿名函数可以在需要函数对象的地方使用（如：赋值给变量、作为参数传入其他函数等），因为匿名函数可以作为一个表达式，而不是一个结构化的代码块"
   ],
   "id": "aad33e75d1956d9a"
  },
  {
   "metadata": {
    "ExecuteTime": {
     "end_time": "2025-10-01T05:52:47.616673Z",
     "start_time": "2025-10-01T05:52:47.605886Z"
    }
   },
   "cell_type": "code",
   "source": [
    "print((lambda: 'It just returns a string')())\n",
    "f = lambda: 'It just returns a string'\n",
    "print(f())\n",
    "\n",
    "(lambda x, y, z: print(x + y + z))(1, 2, 3)\n",
    "f = lambda x, y, z: print(x + y + z)\n",
    "f(1, 2, 3)\n",
    "\n",
    "tup = (8, 5, -9, 6, 2)\n",
    "print(sorted(tup, key=lambda x: -x if x < 0 else x))"
   ],
   "id": "8aaef591790a972a",
   "outputs": [
    {
     "name": "stdout",
     "output_type": "stream",
     "text": [
      "It just returns a string\n",
      "It just returns a string\n",
      "6\n",
      "6\n",
      "[2, 5, 6, 8, -9]\n"
     ]
    }
   ],
   "execution_count": 15
  },
  {
   "metadata": {},
   "cell_type": "markdown",
   "source": [
    "#### 封包、解包\n",
    "#### 封包\n",
    "- 将多个值同时赋值给一个变量时，会自动将这些值打包成一个元组"
   ],
   "id": "757ee9b99cc75093"
  },
  {
   "metadata": {
    "ExecuteTime": {
     "end_time": "2025-10-01T05:52:47.678517Z",
     "start_time": "2025-10-01T05:52:47.675004Z"
    }
   },
   "cell_type": "code",
   "source": [
    "tup = 345, 'hello', 789\n",
    "print(tup)"
   ],
   "id": "984581bac89a2a88",
   "outputs": [
    {
     "name": "stdout",
     "output_type": "stream",
     "text": [
      "(345, 'hello', 789)\n"
     ]
    }
   ],
   "execution_count": 16
  },
  {
   "metadata": {},
   "cell_type": "markdown",
   "source": [
    "#### 解包\n",
    "- 解包是针对可迭代对象的操作\n",
    "- 赋值过程中的解包"
   ],
   "id": "e9d30cb638384cd7"
  },
  {
   "metadata": {
    "ExecuteTime": {
     "end_time": "2025-10-01T05:52:47.709463Z",
     "start_time": "2025-10-01T05:52:47.692656Z"
    }
   },
   "cell_type": "code",
   "source": [
    "a, b, c = [4, 3, 'a']\n",
    "print(a)  # 4\n",
    "print(b)  # 3\n",
    "print(c)  # 'a'\n",
    "\n",
    "a, *b, c = 'hello'\n",
    "print(a)  # 'h'\n",
    "print(b)  # ['e', 'l', 'l']\n",
    "print(c)  # 'o'\n",
    "\n",
    "a, *b, c = 'he'\n",
    "print(a)  # 'h'\n",
    "print(b)  # []\n",
    "print(c)  # 'e'\n",
    "\n",
    "*a, = 'hel'\n",
    "print(a)  # ['h', 'e', 'l']\n",
    "_, *b, _ = [4, 3, 5, 7]\n",
    "print(b)  # [3, 5]"
   ],
   "id": "e92781c4d340bc2c",
   "outputs": [
    {
     "name": "stdout",
     "output_type": "stream",
     "text": [
      "4\n",
      "3\n",
      "a\n",
      "h\n",
      "['e', 'l', 'l']\n",
      "o\n",
      "h\n",
      "[]\n",
      "e\n",
      "['h', 'e', 'l']\n",
      "[3, 5]\n"
     ]
    }
   ],
   "execution_count": 17
  },
  {
   "metadata": {},
   "cell_type": "markdown",
   "source": "- 在可迭代对象前面加一个星号（*），在字典对象前面加双星（**），这种解包方式主要运用在函数传参的过程中",
   "id": "96c908dcd9e63959"
  },
  {
   "metadata": {
    "ExecuteTime": {
     "end_time": "2025-10-01T05:52:47.755787Z",
     "start_time": "2025-10-01T05:52:47.737794Z"
    }
   },
   "cell_type": "code",
   "source": [
    "def func(a, b, c):\n",
    "    print(a, b, c)\n",
    "\n",
    "\n",
    "\"\"\"\n",
    "在函数传实参时, *iterable可以将\n",
    "该iterable解包成位置参数\n",
    "\"\"\"\n",
    "tup = (1, 2, 3)\n",
    "func(*tup)  # 等价于func(1, 2, 3)\n",
    "d = {'a': 1, 'b': 2, 'c': 3}\n",
    "func(*d)  # 等价于func('a', 'b', 'c')\n",
    "\"\"\"\n",
    "在函数传参时, **dict可以将\n",
    "该dict解包成关键字参数\n",
    "\"\"\"\n",
    "func(**d)  # 等价于func(a=1, b=2, c=3)"
   ],
   "id": "5b50e98d4fa7916e",
   "outputs": [
    {
     "name": "stdout",
     "output_type": "stream",
     "text": [
      "1 2 3\n",
      "a b c\n",
      "1 2 3\n"
     ]
    }
   ],
   "execution_count": 18
  },
  {
   "metadata": {},
   "cell_type": "markdown",
   "source": "#### 命名空间与作用域",
   "id": "b9dd9310555dfe92"
  },
  {
   "metadata": {},
   "cell_type": "markdown",
   "source": [
    "#### 命名空间\n",
    "- 定义：命名空间（Namespace）是一个从名称到对象的映射\n",
    "- 实现：大部分命名空间当前由 Python 字典实现（内置命名空间由builtins 模块实现）\n",
    "- 作用：提供了在项目中避免名字冲突的一种方法（各个命名空间是独立的，在一个命名空间中不能有重名，但不同的命名空间是可以重名而没有任何影响的）"
   ],
   "id": "45392ef6cd1c0980"
  },
  {
   "metadata": {},
   "cell_type": "markdown",
   "source": [
    "#### 内置命名空间\n",
    "- 包含了所有 Python 内置对象的名称\n",
    "- 在解释器启动时创建，持续到解释器终止"
   ],
   "id": "626e635e11f7ccc1"
  },
  {
   "metadata": {},
   "cell_type": "markdown",
   "source": [
    "#### 全局命名空间\n",
    "- 包含了模块中定义的名称，如：变量名、函数名、类名、其它导入的名称\n",
    "- 在模块被读入时创建，持续到解释器终止"
   ],
   "id": "a271413f5071a8a9"
  },
  {
   "metadata": {
    "ExecuteTime": {
     "end_time": "2025-10-01T05:52:47.771233Z",
     "start_time": "2025-10-01T05:52:47.757968Z"
    }
   },
   "cell_type": "code",
   "source": [
    "print(globals())  # 返回全局命名空间\n",
    "# 在全局作用域, locals()等价于globals()\n",
    "print(locals())"
   ],
   "id": "dc4626b246010f25",
   "outputs": [
    {
     "name": "stdout",
     "output_type": "stream",
     "text": [
      "{'__name__': '__main__', '__doc__': '\\n在函数传参时, **dict可以将\\n该dict解包成关键字参数\\n', '__package__': None, '__loader__': None, '__spec__': None, '__builtin__': <module 'builtins' (built-in)>, '__builtins__': <module 'builtins' (built-in)>, '_ih': ['', 'def plus(num):\\n    print(num + 1)\\n\\n\\n\"\"\" 调用函数 \"\"\"\\nplus(2)  # 3\\nplus(5)  # 6', 'f = plus\\nprint(plus)\\nprint(f)\\nf(2)  # 3\\nf(5)  # 6', '# 返回一个对象\\ndef add1(left, right):\\n    res = left + right\\n    return res\\n\\n\\ndef add2(left, right):\\n    return left + right\\n\\n\\nprint(add1(3, 4))\\nprint(add2(3, 4))', '# 返回多个对象, 自动打包成一个元组\\ndef add3(left, right):\\n    res1 = left + right\\n    res2 = left * right\\n    return res1, res2\\n\\n\\ndef add4(left, right):\\n    return left + right, left * right\\n\\n\\nprint(add3(3, 4))\\nprint(add4(3, 4))', '# return None\\ndef add5(left, right):\\n    print(left + right)\\n    return\\n\\n\\n# return None\\ndef add6(left, right):\\n    pass\\n\\n\\nprint(add5(3, 4))\\nprint(add6(3, 4))', 'def func(b):\\n    print(id(a), a)\\n    print(id(b), b)\\n\\n\\na = 789\\nfunc(a)', 'def func(b):\\n    print(id(a), a)\\n    print(id(b), b)\\n\\n\\na = [789]\\nfunc(a)', 'def func(a, b):\\n    print(a - b)\\n\\n\\nfunc(3, 4)\\nfunc(3, b=4)\\nfunc(b=4, a=3)', 'def func(a, b):\\n    print(a - b)\\n\\n\\nfunc(3, 4)  # -1\\nfunc(4, 3)  # 1', 'def func(a, b):\\n    print(a - b)\\n\\n\\nfunc(a=3, b=4)  # -1\\nfunc(b=4, a=3)  # -1\\nfunc(3, b=4)  # -1', 'def func(a, b=4):\\n    print(a - b)\\n\\n\\nfunc(3)  # -1\\nfunc(3, 5)  # -2', 'def func(*args):\\n    print(args)\\n\\n\\nfunc()\\nfunc(3, 1, 4, 6)\\n\\n\\ndef func(**kwargs):\\n    print(kwargs)\\n\\n\\nfunc()\\nfunc(a=3, b=2, c=4)', \"def func(*args, **kwargs):\\n    print(args)\\n    print(kwargs)\\n\\n\\nfunc()\\nprint('*' * 30)\\nfunc(1)\\nprint('*' * 30)\\nfunc(1, 2, a=3, b=4)\\nprint('*' * 30)\\nfunc(1, 45, 456, 465, 46)\", 'def func(pos1, pos2, /, pos_or_kwd, *, kwd1, kwd2):\\n    pass\\n\\n\\nfunc(1, 2, 3, kwd1=4, kwd2=5)\\nfunc(1, 2, pos_or_kwd=3, kwd1=4, kwd2=5)', \"print((lambda: 'It just returns a string')())\\nf = lambda: 'It just returns a string'\\nprint(f())\\n\\n(lambda x, y, z: print(x + y + z))(1, 2, 3)\\nf = lambda x, y, z: print(x + y + z)\\nf(1, 2, 3)\\n\\ntup = (8, 5, -9, 6, 2)\\nprint(sorted(tup, key=lambda x: -x if x < 0 else x))\", \"tup = 345, 'hello', 789\\nprint(tup)\", \"a, b, c = [4, 3, 'a']\\nprint(a)  # 4\\nprint(b)  # 3\\nprint(c)  # 'a'\\n\\na, *b, c = 'hello'\\nprint(a)  # 'h'\\nprint(b)  # ['e', 'l', 'l']\\nprint(c)  # 'o'\\n\\na, *b, c = 'he'\\nprint(a)  # 'h'\\nprint(b)  # []\\nprint(c)  # 'e'\\n\\n*a, = 'hel'\\nprint(a)  # ['h', 'e', 'l']\\n_, *b, _ = [4, 3, 5, 7]\\nprint(b)  # [3, 5]\", 'def func(a, b, c):\\n    print(a, b, c)\\n\\n\\n\"\"\"\\n在函数传实参时, *iterable可以将\\n该iterable解包成位置参数\\n\"\"\"\\ntup = (1, 2, 3)\\nfunc(*tup)  # 等价于func(1, 2, 3)\\nd = {\\'a\\': 1, \\'b\\': 2, \\'c\\': 3}\\nfunc(*d)  # 等价于func(\\'a\\', \\'b\\', \\'c\\')\\n\"\"\"\\n在函数传参时, **dict可以将\\n该dict解包成关键字参数\\n\"\"\"\\nfunc(**d)  # 等价于func(a=1, b=2, c=3)', 'print(globals())  # 返回全局命名空间\\n# 在全局作用域, locals()等价于globals()\\nprint(locals())'], '_oh': {}, '_dh': ['D:\\\\Projects\\\\DeepBule\\\\PythonFiles'], 'In': ['', 'def plus(num):\\n    print(num + 1)\\n\\n\\n\"\"\" 调用函数 \"\"\"\\nplus(2)  # 3\\nplus(5)  # 6', 'f = plus\\nprint(plus)\\nprint(f)\\nf(2)  # 3\\nf(5)  # 6', '# 返回一个对象\\ndef add1(left, right):\\n    res = left + right\\n    return res\\n\\n\\ndef add2(left, right):\\n    return left + right\\n\\n\\nprint(add1(3, 4))\\nprint(add2(3, 4))', '# 返回多个对象, 自动打包成一个元组\\ndef add3(left, right):\\n    res1 = left + right\\n    res2 = left * right\\n    return res1, res2\\n\\n\\ndef add4(left, right):\\n    return left + right, left * right\\n\\n\\nprint(add3(3, 4))\\nprint(add4(3, 4))', '# return None\\ndef add5(left, right):\\n    print(left + right)\\n    return\\n\\n\\n# return None\\ndef add6(left, right):\\n    pass\\n\\n\\nprint(add5(3, 4))\\nprint(add6(3, 4))', 'def func(b):\\n    print(id(a), a)\\n    print(id(b), b)\\n\\n\\na = 789\\nfunc(a)', 'def func(b):\\n    print(id(a), a)\\n    print(id(b), b)\\n\\n\\na = [789]\\nfunc(a)', 'def func(a, b):\\n    print(a - b)\\n\\n\\nfunc(3, 4)\\nfunc(3, b=4)\\nfunc(b=4, a=3)', 'def func(a, b):\\n    print(a - b)\\n\\n\\nfunc(3, 4)  # -1\\nfunc(4, 3)  # 1', 'def func(a, b):\\n    print(a - b)\\n\\n\\nfunc(a=3, b=4)  # -1\\nfunc(b=4, a=3)  # -1\\nfunc(3, b=4)  # -1', 'def func(a, b=4):\\n    print(a - b)\\n\\n\\nfunc(3)  # -1\\nfunc(3, 5)  # -2', 'def func(*args):\\n    print(args)\\n\\n\\nfunc()\\nfunc(3, 1, 4, 6)\\n\\n\\ndef func(**kwargs):\\n    print(kwargs)\\n\\n\\nfunc()\\nfunc(a=3, b=2, c=4)', \"def func(*args, **kwargs):\\n    print(args)\\n    print(kwargs)\\n\\n\\nfunc()\\nprint('*' * 30)\\nfunc(1)\\nprint('*' * 30)\\nfunc(1, 2, a=3, b=4)\\nprint('*' * 30)\\nfunc(1, 45, 456, 465, 46)\", 'def func(pos1, pos2, /, pos_or_kwd, *, kwd1, kwd2):\\n    pass\\n\\n\\nfunc(1, 2, 3, kwd1=4, kwd2=5)\\nfunc(1, 2, pos_or_kwd=3, kwd1=4, kwd2=5)', \"print((lambda: 'It just returns a string')())\\nf = lambda: 'It just returns a string'\\nprint(f())\\n\\n(lambda x, y, z: print(x + y + z))(1, 2, 3)\\nf = lambda x, y, z: print(x + y + z)\\nf(1, 2, 3)\\n\\ntup = (8, 5, -9, 6, 2)\\nprint(sorted(tup, key=lambda x: -x if x < 0 else x))\", \"tup = 345, 'hello', 789\\nprint(tup)\", \"a, b, c = [4, 3, 'a']\\nprint(a)  # 4\\nprint(b)  # 3\\nprint(c)  # 'a'\\n\\na, *b, c = 'hello'\\nprint(a)  # 'h'\\nprint(b)  # ['e', 'l', 'l']\\nprint(c)  # 'o'\\n\\na, *b, c = 'he'\\nprint(a)  # 'h'\\nprint(b)  # []\\nprint(c)  # 'e'\\n\\n*a, = 'hel'\\nprint(a)  # ['h', 'e', 'l']\\n_, *b, _ = [4, 3, 5, 7]\\nprint(b)  # [3, 5]\", 'def func(a, b, c):\\n    print(a, b, c)\\n\\n\\n\"\"\"\\n在函数传实参时, *iterable可以将\\n该iterable解包成位置参数\\n\"\"\"\\ntup = (1, 2, 3)\\nfunc(*tup)  # 等价于func(1, 2, 3)\\nd = {\\'a\\': 1, \\'b\\': 2, \\'c\\': 3}\\nfunc(*d)  # 等价于func(\\'a\\', \\'b\\', \\'c\\')\\n\"\"\"\\n在函数传参时, **dict可以将\\n该dict解包成关键字参数\\n\"\"\"\\nfunc(**d)  # 等价于func(a=1, b=2, c=3)', 'print(globals())  # 返回全局命名空间\\n# 在全局作用域, locals()等价于globals()\\nprint(locals())'], 'Out': {}, 'get_ipython': <bound method InteractiveShell.get_ipython of <ipykernel.zmqshell.ZMQInteractiveShell object at 0x0000028ECDE55D30>>, 'exit': <IPython.core.autocall.ZMQExitAutocall object at 0x0000028ECDEE46A0>, 'quit': <IPython.core.autocall.ZMQExitAutocall object at 0x0000028ECDEE46A0>, '_': 7, '__': '', '___': '', '_i': 'def func(a, b, c):\\n    print(a, b, c)\\n\\n\\n\"\"\"\\n在函数传实参时, *iterable可以将\\n该iterable解包成位置参数\\n\"\"\"\\ntup = (1, 2, 3)\\nfunc(*tup)  # 等价于func(1, 2, 3)\\nd = {\\'a\\': 1, \\'b\\': 2, \\'c\\': 3}\\nfunc(*d)  # 等价于func(\\'a\\', \\'b\\', \\'c\\')\\n\"\"\"\\n在函数传参时, **dict可以将\\n该dict解包成关键字参数\\n\"\"\"\\nfunc(**d)  # 等价于func(a=1, b=2, c=3)', '_ii': \"a, b, c = [4, 3, 'a']\\nprint(a)  # 4\\nprint(b)  # 3\\nprint(c)  # 'a'\\n\\na, *b, c = 'hello'\\nprint(a)  # 'h'\\nprint(b)  # ['e', 'l', 'l']\\nprint(c)  # 'o'\\n\\na, *b, c = 'he'\\nprint(a)  # 'h'\\nprint(b)  # []\\nprint(c)  # 'e'\\n\\n*a, = 'hel'\\nprint(a)  # ['h', 'e', 'l']\\n_, *b, _ = [4, 3, 5, 7]\\nprint(b)  # [3, 5]\", '_iii': \"tup = 345, 'hello', 789\\nprint(tup)\", '_i1': 'def plus(num):\\n    print(num + 1)\\n\\n\\n\"\"\" 调用函数 \"\"\"\\nplus(2)  # 3\\nplus(5)  # 6', 'plus': <function plus at 0x0000028ECDF21D30>, '_i2': 'f = plus\\nprint(plus)\\nprint(f)\\nf(2)  # 3\\nf(5)  # 6', 'f': <function <lambda> at 0x0000028ECDF4D9D0>, '_i3': '# 返回一个对象\\ndef add1(left, right):\\n    res = left + right\\n    return res\\n\\n\\ndef add2(left, right):\\n    return left + right\\n\\n\\nprint(add1(3, 4))\\nprint(add2(3, 4))', 'add1': <function add1 at 0x0000028ECDF4D280>, 'add2': <function add2 at 0x0000028ECDF4D310>, '_i4': '# 返回多个对象, 自动打包成一个元组\\ndef add3(left, right):\\n    res1 = left + right\\n    res2 = left * right\\n    return res1, res2\\n\\n\\ndef add4(left, right):\\n    return left + right, left * right\\n\\n\\nprint(add3(3, 4))\\nprint(add4(3, 4))', 'add3': <function add3 at 0x0000028ECDF210D0>, 'add4': <function add4 at 0x0000028ECDF21DC0>, '_i5': '# return None\\ndef add5(left, right):\\n    print(left + right)\\n    return\\n\\n\\n# return None\\ndef add6(left, right):\\n    pass\\n\\n\\nprint(add5(3, 4))\\nprint(add6(3, 4))', 'add5': <function add5 at 0x0000028ECDF4D0D0>, 'add6': <function add6 at 0x0000028ECDF4D160>, '_i6': 'def func(b):\\n    print(id(a), a)\\n    print(id(b), b)\\n\\n\\na = 789\\nfunc(a)', 'func': <function func at 0x0000028ECDF21AF0>, 'a': ['h', 'e', 'l'], '_i7': 'def func(b):\\n    print(id(a), a)\\n    print(id(b), b)\\n\\n\\na = [789]\\nfunc(a)', '_i8': 'def func(a, b):\\n    print(a - b)\\n\\n\\nfunc(3, 4)\\nfunc(3, b=4)\\nfunc(b=4, a=3)', '_i9': 'def func(a, b):\\n    print(a - b)\\n\\n\\nfunc(3, 4)  # -1\\nfunc(4, 3)  # 1', '_i10': 'def func(a, b):\\n    print(a - b)\\n\\n\\nfunc(a=3, b=4)  # -1\\nfunc(b=4, a=3)  # -1\\nfunc(3, b=4)  # -1', '_i11': 'def func(a, b=4):\\n    print(a - b)\\n\\n\\nfunc(3)  # -1\\nfunc(3, 5)  # -2', '_i12': 'def func(*args):\\n    print(args)\\n\\n\\nfunc()\\nfunc(3, 1, 4, 6)\\n\\n\\ndef func(**kwargs):\\n    print(kwargs)\\n\\n\\nfunc()\\nfunc(a=3, b=2, c=4)', '_i13': \"def func(*args, **kwargs):\\n    print(args)\\n    print(kwargs)\\n\\n\\nfunc()\\nprint('*' * 30)\\nfunc(1)\\nprint('*' * 30)\\nfunc(1, 2, a=3, b=4)\\nprint('*' * 30)\\nfunc(1, 45, 456, 465, 46)\", '_i14': 'def func(pos1, pos2, /, pos_or_kwd, *, kwd1, kwd2):\\n    pass\\n\\n\\nfunc(1, 2, 3, kwd1=4, kwd2=5)\\nfunc(1, 2, pos_or_kwd=3, kwd1=4, kwd2=5)', '_i15': \"print((lambda: 'It just returns a string')())\\nf = lambda: 'It just returns a string'\\nprint(f())\\n\\n(lambda x, y, z: print(x + y + z))(1, 2, 3)\\nf = lambda x, y, z: print(x + y + z)\\nf(1, 2, 3)\\n\\ntup = (8, 5, -9, 6, 2)\\nprint(sorted(tup, key=lambda x: -x if x < 0 else x))\", 'tup': (1, 2, 3), '_i16': \"tup = 345, 'hello', 789\\nprint(tup)\", '_i17': \"a, b, c = [4, 3, 'a']\\nprint(a)  # 4\\nprint(b)  # 3\\nprint(c)  # 'a'\\n\\na, *b, c = 'hello'\\nprint(a)  # 'h'\\nprint(b)  # ['e', 'l', 'l']\\nprint(c)  # 'o'\\n\\na, *b, c = 'he'\\nprint(a)  # 'h'\\nprint(b)  # []\\nprint(c)  # 'e'\\n\\n*a, = 'hel'\\nprint(a)  # ['h', 'e', 'l']\\n_, *b, _ = [4, 3, 5, 7]\\nprint(b)  # [3, 5]\", 'b': [3, 5], 'c': 'e', '_i18': 'def func(a, b, c):\\n    print(a, b, c)\\n\\n\\n\"\"\"\\n在函数传实参时, *iterable可以将\\n该iterable解包成位置参数\\n\"\"\"\\ntup = (1, 2, 3)\\nfunc(*tup)  # 等价于func(1, 2, 3)\\nd = {\\'a\\': 1, \\'b\\': 2, \\'c\\': 3}\\nfunc(*d)  # 等价于func(\\'a\\', \\'b\\', \\'c\\')\\n\"\"\"\\n在函数传参时, **dict可以将\\n该dict解包成关键字参数\\n\"\"\"\\nfunc(**d)  # 等价于func(a=1, b=2, c=3)', 'd': {'a': 1, 'b': 2, 'c': 3}, '_i19': 'print(globals())  # 返回全局命名空间\\n# 在全局作用域, locals()等价于globals()\\nprint(locals())'}\n",
      "{'__name__': '__main__', '__doc__': '\\n在函数传参时, **dict可以将\\n该dict解包成关键字参数\\n', '__package__': None, '__loader__': None, '__spec__': None, '__builtin__': <module 'builtins' (built-in)>, '__builtins__': <module 'builtins' (built-in)>, '_ih': ['', 'def plus(num):\\n    print(num + 1)\\n\\n\\n\"\"\" 调用函数 \"\"\"\\nplus(2)  # 3\\nplus(5)  # 6', 'f = plus\\nprint(plus)\\nprint(f)\\nf(2)  # 3\\nf(5)  # 6', '# 返回一个对象\\ndef add1(left, right):\\n    res = left + right\\n    return res\\n\\n\\ndef add2(left, right):\\n    return left + right\\n\\n\\nprint(add1(3, 4))\\nprint(add2(3, 4))', '# 返回多个对象, 自动打包成一个元组\\ndef add3(left, right):\\n    res1 = left + right\\n    res2 = left * right\\n    return res1, res2\\n\\n\\ndef add4(left, right):\\n    return left + right, left * right\\n\\n\\nprint(add3(3, 4))\\nprint(add4(3, 4))', '# return None\\ndef add5(left, right):\\n    print(left + right)\\n    return\\n\\n\\n# return None\\ndef add6(left, right):\\n    pass\\n\\n\\nprint(add5(3, 4))\\nprint(add6(3, 4))', 'def func(b):\\n    print(id(a), a)\\n    print(id(b), b)\\n\\n\\na = 789\\nfunc(a)', 'def func(b):\\n    print(id(a), a)\\n    print(id(b), b)\\n\\n\\na = [789]\\nfunc(a)', 'def func(a, b):\\n    print(a - b)\\n\\n\\nfunc(3, 4)\\nfunc(3, b=4)\\nfunc(b=4, a=3)', 'def func(a, b):\\n    print(a - b)\\n\\n\\nfunc(3, 4)  # -1\\nfunc(4, 3)  # 1', 'def func(a, b):\\n    print(a - b)\\n\\n\\nfunc(a=3, b=4)  # -1\\nfunc(b=4, a=3)  # -1\\nfunc(3, b=4)  # -1', 'def func(a, b=4):\\n    print(a - b)\\n\\n\\nfunc(3)  # -1\\nfunc(3, 5)  # -2', 'def func(*args):\\n    print(args)\\n\\n\\nfunc()\\nfunc(3, 1, 4, 6)\\n\\n\\ndef func(**kwargs):\\n    print(kwargs)\\n\\n\\nfunc()\\nfunc(a=3, b=2, c=4)', \"def func(*args, **kwargs):\\n    print(args)\\n    print(kwargs)\\n\\n\\nfunc()\\nprint('*' * 30)\\nfunc(1)\\nprint('*' * 30)\\nfunc(1, 2, a=3, b=4)\\nprint('*' * 30)\\nfunc(1, 45, 456, 465, 46)\", 'def func(pos1, pos2, /, pos_or_kwd, *, kwd1, kwd2):\\n    pass\\n\\n\\nfunc(1, 2, 3, kwd1=4, kwd2=5)\\nfunc(1, 2, pos_or_kwd=3, kwd1=4, kwd2=5)', \"print((lambda: 'It just returns a string')())\\nf = lambda: 'It just returns a string'\\nprint(f())\\n\\n(lambda x, y, z: print(x + y + z))(1, 2, 3)\\nf = lambda x, y, z: print(x + y + z)\\nf(1, 2, 3)\\n\\ntup = (8, 5, -9, 6, 2)\\nprint(sorted(tup, key=lambda x: -x if x < 0 else x))\", \"tup = 345, 'hello', 789\\nprint(tup)\", \"a, b, c = [4, 3, 'a']\\nprint(a)  # 4\\nprint(b)  # 3\\nprint(c)  # 'a'\\n\\na, *b, c = 'hello'\\nprint(a)  # 'h'\\nprint(b)  # ['e', 'l', 'l']\\nprint(c)  # 'o'\\n\\na, *b, c = 'he'\\nprint(a)  # 'h'\\nprint(b)  # []\\nprint(c)  # 'e'\\n\\n*a, = 'hel'\\nprint(a)  # ['h', 'e', 'l']\\n_, *b, _ = [4, 3, 5, 7]\\nprint(b)  # [3, 5]\", 'def func(a, b, c):\\n    print(a, b, c)\\n\\n\\n\"\"\"\\n在函数传实参时, *iterable可以将\\n该iterable解包成位置参数\\n\"\"\"\\ntup = (1, 2, 3)\\nfunc(*tup)  # 等价于func(1, 2, 3)\\nd = {\\'a\\': 1, \\'b\\': 2, \\'c\\': 3}\\nfunc(*d)  # 等价于func(\\'a\\', \\'b\\', \\'c\\')\\n\"\"\"\\n在函数传参时, **dict可以将\\n该dict解包成关键字参数\\n\"\"\"\\nfunc(**d)  # 等价于func(a=1, b=2, c=3)', 'print(globals())  # 返回全局命名空间\\n# 在全局作用域, locals()等价于globals()\\nprint(locals())'], '_oh': {}, '_dh': ['D:\\\\Projects\\\\DeepBule\\\\PythonFiles'], 'In': ['', 'def plus(num):\\n    print(num + 1)\\n\\n\\n\"\"\" 调用函数 \"\"\"\\nplus(2)  # 3\\nplus(5)  # 6', 'f = plus\\nprint(plus)\\nprint(f)\\nf(2)  # 3\\nf(5)  # 6', '# 返回一个对象\\ndef add1(left, right):\\n    res = left + right\\n    return res\\n\\n\\ndef add2(left, right):\\n    return left + right\\n\\n\\nprint(add1(3, 4))\\nprint(add2(3, 4))', '# 返回多个对象, 自动打包成一个元组\\ndef add3(left, right):\\n    res1 = left + right\\n    res2 = left * right\\n    return res1, res2\\n\\n\\ndef add4(left, right):\\n    return left + right, left * right\\n\\n\\nprint(add3(3, 4))\\nprint(add4(3, 4))', '# return None\\ndef add5(left, right):\\n    print(left + right)\\n    return\\n\\n\\n# return None\\ndef add6(left, right):\\n    pass\\n\\n\\nprint(add5(3, 4))\\nprint(add6(3, 4))', 'def func(b):\\n    print(id(a), a)\\n    print(id(b), b)\\n\\n\\na = 789\\nfunc(a)', 'def func(b):\\n    print(id(a), a)\\n    print(id(b), b)\\n\\n\\na = [789]\\nfunc(a)', 'def func(a, b):\\n    print(a - b)\\n\\n\\nfunc(3, 4)\\nfunc(3, b=4)\\nfunc(b=4, a=3)', 'def func(a, b):\\n    print(a - b)\\n\\n\\nfunc(3, 4)  # -1\\nfunc(4, 3)  # 1', 'def func(a, b):\\n    print(a - b)\\n\\n\\nfunc(a=3, b=4)  # -1\\nfunc(b=4, a=3)  # -1\\nfunc(3, b=4)  # -1', 'def func(a, b=4):\\n    print(a - b)\\n\\n\\nfunc(3)  # -1\\nfunc(3, 5)  # -2', 'def func(*args):\\n    print(args)\\n\\n\\nfunc()\\nfunc(3, 1, 4, 6)\\n\\n\\ndef func(**kwargs):\\n    print(kwargs)\\n\\n\\nfunc()\\nfunc(a=3, b=2, c=4)', \"def func(*args, **kwargs):\\n    print(args)\\n    print(kwargs)\\n\\n\\nfunc()\\nprint('*' * 30)\\nfunc(1)\\nprint('*' * 30)\\nfunc(1, 2, a=3, b=4)\\nprint('*' * 30)\\nfunc(1, 45, 456, 465, 46)\", 'def func(pos1, pos2, /, pos_or_kwd, *, kwd1, kwd2):\\n    pass\\n\\n\\nfunc(1, 2, 3, kwd1=4, kwd2=5)\\nfunc(1, 2, pos_or_kwd=3, kwd1=4, kwd2=5)', \"print((lambda: 'It just returns a string')())\\nf = lambda: 'It just returns a string'\\nprint(f())\\n\\n(lambda x, y, z: print(x + y + z))(1, 2, 3)\\nf = lambda x, y, z: print(x + y + z)\\nf(1, 2, 3)\\n\\ntup = (8, 5, -9, 6, 2)\\nprint(sorted(tup, key=lambda x: -x if x < 0 else x))\", \"tup = 345, 'hello', 789\\nprint(tup)\", \"a, b, c = [4, 3, 'a']\\nprint(a)  # 4\\nprint(b)  # 3\\nprint(c)  # 'a'\\n\\na, *b, c = 'hello'\\nprint(a)  # 'h'\\nprint(b)  # ['e', 'l', 'l']\\nprint(c)  # 'o'\\n\\na, *b, c = 'he'\\nprint(a)  # 'h'\\nprint(b)  # []\\nprint(c)  # 'e'\\n\\n*a, = 'hel'\\nprint(a)  # ['h', 'e', 'l']\\n_, *b, _ = [4, 3, 5, 7]\\nprint(b)  # [3, 5]\", 'def func(a, b, c):\\n    print(a, b, c)\\n\\n\\n\"\"\"\\n在函数传实参时, *iterable可以将\\n该iterable解包成位置参数\\n\"\"\"\\ntup = (1, 2, 3)\\nfunc(*tup)  # 等价于func(1, 2, 3)\\nd = {\\'a\\': 1, \\'b\\': 2, \\'c\\': 3}\\nfunc(*d)  # 等价于func(\\'a\\', \\'b\\', \\'c\\')\\n\"\"\"\\n在函数传参时, **dict可以将\\n该dict解包成关键字参数\\n\"\"\"\\nfunc(**d)  # 等价于func(a=1, b=2, c=3)', 'print(globals())  # 返回全局命名空间\\n# 在全局作用域, locals()等价于globals()\\nprint(locals())'], 'Out': {}, 'get_ipython': <bound method InteractiveShell.get_ipython of <ipykernel.zmqshell.ZMQInteractiveShell object at 0x0000028ECDE55D30>>, 'exit': <IPython.core.autocall.ZMQExitAutocall object at 0x0000028ECDEE46A0>, 'quit': <IPython.core.autocall.ZMQExitAutocall object at 0x0000028ECDEE46A0>, '_': 7, '__': '', '___': '', '_i': 'def func(a, b, c):\\n    print(a, b, c)\\n\\n\\n\"\"\"\\n在函数传实参时, *iterable可以将\\n该iterable解包成位置参数\\n\"\"\"\\ntup = (1, 2, 3)\\nfunc(*tup)  # 等价于func(1, 2, 3)\\nd = {\\'a\\': 1, \\'b\\': 2, \\'c\\': 3}\\nfunc(*d)  # 等价于func(\\'a\\', \\'b\\', \\'c\\')\\n\"\"\"\\n在函数传参时, **dict可以将\\n该dict解包成关键字参数\\n\"\"\"\\nfunc(**d)  # 等价于func(a=1, b=2, c=3)', '_ii': \"a, b, c = [4, 3, 'a']\\nprint(a)  # 4\\nprint(b)  # 3\\nprint(c)  # 'a'\\n\\na, *b, c = 'hello'\\nprint(a)  # 'h'\\nprint(b)  # ['e', 'l', 'l']\\nprint(c)  # 'o'\\n\\na, *b, c = 'he'\\nprint(a)  # 'h'\\nprint(b)  # []\\nprint(c)  # 'e'\\n\\n*a, = 'hel'\\nprint(a)  # ['h', 'e', 'l']\\n_, *b, _ = [4, 3, 5, 7]\\nprint(b)  # [3, 5]\", '_iii': \"tup = 345, 'hello', 789\\nprint(tup)\", '_i1': 'def plus(num):\\n    print(num + 1)\\n\\n\\n\"\"\" 调用函数 \"\"\"\\nplus(2)  # 3\\nplus(5)  # 6', 'plus': <function plus at 0x0000028ECDF21D30>, '_i2': 'f = plus\\nprint(plus)\\nprint(f)\\nf(2)  # 3\\nf(5)  # 6', 'f': <function <lambda> at 0x0000028ECDF4D9D0>, '_i3': '# 返回一个对象\\ndef add1(left, right):\\n    res = left + right\\n    return res\\n\\n\\ndef add2(left, right):\\n    return left + right\\n\\n\\nprint(add1(3, 4))\\nprint(add2(3, 4))', 'add1': <function add1 at 0x0000028ECDF4D280>, 'add2': <function add2 at 0x0000028ECDF4D310>, '_i4': '# 返回多个对象, 自动打包成一个元组\\ndef add3(left, right):\\n    res1 = left + right\\n    res2 = left * right\\n    return res1, res2\\n\\n\\ndef add4(left, right):\\n    return left + right, left * right\\n\\n\\nprint(add3(3, 4))\\nprint(add4(3, 4))', 'add3': <function add3 at 0x0000028ECDF210D0>, 'add4': <function add4 at 0x0000028ECDF21DC0>, '_i5': '# return None\\ndef add5(left, right):\\n    print(left + right)\\n    return\\n\\n\\n# return None\\ndef add6(left, right):\\n    pass\\n\\n\\nprint(add5(3, 4))\\nprint(add6(3, 4))', 'add5': <function add5 at 0x0000028ECDF4D0D0>, 'add6': <function add6 at 0x0000028ECDF4D160>, '_i6': 'def func(b):\\n    print(id(a), a)\\n    print(id(b), b)\\n\\n\\na = 789\\nfunc(a)', 'func': <function func at 0x0000028ECDF21AF0>, 'a': ['h', 'e', 'l'], '_i7': 'def func(b):\\n    print(id(a), a)\\n    print(id(b), b)\\n\\n\\na = [789]\\nfunc(a)', '_i8': 'def func(a, b):\\n    print(a - b)\\n\\n\\nfunc(3, 4)\\nfunc(3, b=4)\\nfunc(b=4, a=3)', '_i9': 'def func(a, b):\\n    print(a - b)\\n\\n\\nfunc(3, 4)  # -1\\nfunc(4, 3)  # 1', '_i10': 'def func(a, b):\\n    print(a - b)\\n\\n\\nfunc(a=3, b=4)  # -1\\nfunc(b=4, a=3)  # -1\\nfunc(3, b=4)  # -1', '_i11': 'def func(a, b=4):\\n    print(a - b)\\n\\n\\nfunc(3)  # -1\\nfunc(3, 5)  # -2', '_i12': 'def func(*args):\\n    print(args)\\n\\n\\nfunc()\\nfunc(3, 1, 4, 6)\\n\\n\\ndef func(**kwargs):\\n    print(kwargs)\\n\\n\\nfunc()\\nfunc(a=3, b=2, c=4)', '_i13': \"def func(*args, **kwargs):\\n    print(args)\\n    print(kwargs)\\n\\n\\nfunc()\\nprint('*' * 30)\\nfunc(1)\\nprint('*' * 30)\\nfunc(1, 2, a=3, b=4)\\nprint('*' * 30)\\nfunc(1, 45, 456, 465, 46)\", '_i14': 'def func(pos1, pos2, /, pos_or_kwd, *, kwd1, kwd2):\\n    pass\\n\\n\\nfunc(1, 2, 3, kwd1=4, kwd2=5)\\nfunc(1, 2, pos_or_kwd=3, kwd1=4, kwd2=5)', '_i15': \"print((lambda: 'It just returns a string')())\\nf = lambda: 'It just returns a string'\\nprint(f())\\n\\n(lambda x, y, z: print(x + y + z))(1, 2, 3)\\nf = lambda x, y, z: print(x + y + z)\\nf(1, 2, 3)\\n\\ntup = (8, 5, -9, 6, 2)\\nprint(sorted(tup, key=lambda x: -x if x < 0 else x))\", 'tup': (1, 2, 3), '_i16': \"tup = 345, 'hello', 789\\nprint(tup)\", '_i17': \"a, b, c = [4, 3, 'a']\\nprint(a)  # 4\\nprint(b)  # 3\\nprint(c)  # 'a'\\n\\na, *b, c = 'hello'\\nprint(a)  # 'h'\\nprint(b)  # ['e', 'l', 'l']\\nprint(c)  # 'o'\\n\\na, *b, c = 'he'\\nprint(a)  # 'h'\\nprint(b)  # []\\nprint(c)  # 'e'\\n\\n*a, = 'hel'\\nprint(a)  # ['h', 'e', 'l']\\n_, *b, _ = [4, 3, 5, 7]\\nprint(b)  # [3, 5]\", 'b': [3, 5], 'c': 'e', '_i18': 'def func(a, b, c):\\n    print(a, b, c)\\n\\n\\n\"\"\"\\n在函数传实参时, *iterable可以将\\n该iterable解包成位置参数\\n\"\"\"\\ntup = (1, 2, 3)\\nfunc(*tup)  # 等价于func(1, 2, 3)\\nd = {\\'a\\': 1, \\'b\\': 2, \\'c\\': 3}\\nfunc(*d)  # 等价于func(\\'a\\', \\'b\\', \\'c\\')\\n\"\"\"\\n在函数传参时, **dict可以将\\n该dict解包成关键字参数\\n\"\"\"\\nfunc(**d)  # 等价于func(a=1, b=2, c=3)', 'd': {'a': 1, 'b': 2, 'c': 3}, '_i19': 'print(globals())  # 返回全局命名空间\\n# 在全局作用域, locals()等价于globals()\\nprint(locals())'}\n"
     ]
    }
   ],
   "execution_count": 19
  },
  {
   "metadata": {},
   "cell_type": "markdown",
   "source": [
    "#### 局部命名空间\n",
    "- 包含了函数中定义的名称，如：函数中的变量名、参数名\n",
    "- 在函数被调用时创建，持续到该函数结束为止"
   ],
   "id": "3dbaf81fa97fd0fe"
  },
  {
   "metadata": {
    "ExecuteTime": {
     "end_time": "2025-10-01T05:52:47.801718Z",
     "start_time": "2025-10-01T05:52:47.790074Z"
    }
   },
   "cell_type": "code",
   "source": [
    "def func1(arg1, arg2):\n",
    "    num = 666\n",
    "    print(locals())  # 返回局部命名空间\n",
    "\n",
    "\n",
    "def func2(arg1, arg2):\n",
    "    num = 777\n",
    "    print(locals())\n",
    "\n",
    "\n",
    "num = 111\n",
    "func1(222, 333)\n",
    "func2(444, 555)\n",
    "\n",
    "print(globals())"
   ],
   "id": "c83e2600a6532f19",
   "outputs": [
    {
     "name": "stdout",
     "output_type": "stream",
     "text": [
      "{'arg1': 222, 'arg2': 333, 'num': 666}\n",
      "{'arg1': 444, 'arg2': 555, 'num': 777}\n",
      "{'__name__': '__main__', '__doc__': '\\n在函数传参时, **dict可以将\\n该dict解包成关键字参数\\n', '__package__': None, '__loader__': None, '__spec__': None, '__builtin__': <module 'builtins' (built-in)>, '__builtins__': <module 'builtins' (built-in)>, '_ih': ['', 'def plus(num):\\n    print(num + 1)\\n\\n\\n\"\"\" 调用函数 \"\"\"\\nplus(2)  # 3\\nplus(5)  # 6', 'f = plus\\nprint(plus)\\nprint(f)\\nf(2)  # 3\\nf(5)  # 6', '# 返回一个对象\\ndef add1(left, right):\\n    res = left + right\\n    return res\\n\\n\\ndef add2(left, right):\\n    return left + right\\n\\n\\nprint(add1(3, 4))\\nprint(add2(3, 4))', '# 返回多个对象, 自动打包成一个元组\\ndef add3(left, right):\\n    res1 = left + right\\n    res2 = left * right\\n    return res1, res2\\n\\n\\ndef add4(left, right):\\n    return left + right, left * right\\n\\n\\nprint(add3(3, 4))\\nprint(add4(3, 4))', '# return None\\ndef add5(left, right):\\n    print(left + right)\\n    return\\n\\n\\n# return None\\ndef add6(left, right):\\n    pass\\n\\n\\nprint(add5(3, 4))\\nprint(add6(3, 4))', 'def func(b):\\n    print(id(a), a)\\n    print(id(b), b)\\n\\n\\na = 789\\nfunc(a)', 'def func(b):\\n    print(id(a), a)\\n    print(id(b), b)\\n\\n\\na = [789]\\nfunc(a)', 'def func(a, b):\\n    print(a - b)\\n\\n\\nfunc(3, 4)\\nfunc(3, b=4)\\nfunc(b=4, a=3)', 'def func(a, b):\\n    print(a - b)\\n\\n\\nfunc(3, 4)  # -1\\nfunc(4, 3)  # 1', 'def func(a, b):\\n    print(a - b)\\n\\n\\nfunc(a=3, b=4)  # -1\\nfunc(b=4, a=3)  # -1\\nfunc(3, b=4)  # -1', 'def func(a, b=4):\\n    print(a - b)\\n\\n\\nfunc(3)  # -1\\nfunc(3, 5)  # -2', 'def func(*args):\\n    print(args)\\n\\n\\nfunc()\\nfunc(3, 1, 4, 6)\\n\\n\\ndef func(**kwargs):\\n    print(kwargs)\\n\\n\\nfunc()\\nfunc(a=3, b=2, c=4)', \"def func(*args, **kwargs):\\n    print(args)\\n    print(kwargs)\\n\\n\\nfunc()\\nprint('*' * 30)\\nfunc(1)\\nprint('*' * 30)\\nfunc(1, 2, a=3, b=4)\\nprint('*' * 30)\\nfunc(1, 45, 456, 465, 46)\", 'def func(pos1, pos2, /, pos_or_kwd, *, kwd1, kwd2):\\n    pass\\n\\n\\nfunc(1, 2, 3, kwd1=4, kwd2=5)\\nfunc(1, 2, pos_or_kwd=3, kwd1=4, kwd2=5)', \"print((lambda: 'It just returns a string')())\\nf = lambda: 'It just returns a string'\\nprint(f())\\n\\n(lambda x, y, z: print(x + y + z))(1, 2, 3)\\nf = lambda x, y, z: print(x + y + z)\\nf(1, 2, 3)\\n\\ntup = (8, 5, -9, 6, 2)\\nprint(sorted(tup, key=lambda x: -x if x < 0 else x))\", \"tup = 345, 'hello', 789\\nprint(tup)\", \"a, b, c = [4, 3, 'a']\\nprint(a)  # 4\\nprint(b)  # 3\\nprint(c)  # 'a'\\n\\na, *b, c = 'hello'\\nprint(a)  # 'h'\\nprint(b)  # ['e', 'l', 'l']\\nprint(c)  # 'o'\\n\\na, *b, c = 'he'\\nprint(a)  # 'h'\\nprint(b)  # []\\nprint(c)  # 'e'\\n\\n*a, = 'hel'\\nprint(a)  # ['h', 'e', 'l']\\n_, *b, _ = [4, 3, 5, 7]\\nprint(b)  # [3, 5]\", 'def func(a, b, c):\\n    print(a, b, c)\\n\\n\\n\"\"\"\\n在函数传实参时, *iterable可以将\\n该iterable解包成位置参数\\n\"\"\"\\ntup = (1, 2, 3)\\nfunc(*tup)  # 等价于func(1, 2, 3)\\nd = {\\'a\\': 1, \\'b\\': 2, \\'c\\': 3}\\nfunc(*d)  # 等价于func(\\'a\\', \\'b\\', \\'c\\')\\n\"\"\"\\n在函数传参时, **dict可以将\\n该dict解包成关键字参数\\n\"\"\"\\nfunc(**d)  # 等价于func(a=1, b=2, c=3)', 'print(globals())  # 返回全局命名空间\\n# 在全局作用域, locals()等价于globals()\\nprint(locals())', 'def func1(arg1, arg2):\\n    num = 666\\n    print(locals())  # 返回局部命名空间\\n\\n\\ndef func2(arg1, arg2):\\n    num = 777\\n    print(locals())\\n\\n\\nnum = 111\\nfunc1(222, 333)\\nfunc2(444, 555)\\n\\nprint(globals())'], '_oh': {}, '_dh': ['D:\\\\Projects\\\\DeepBule\\\\PythonFiles'], 'In': ['', 'def plus(num):\\n    print(num + 1)\\n\\n\\n\"\"\" 调用函数 \"\"\"\\nplus(2)  # 3\\nplus(5)  # 6', 'f = plus\\nprint(plus)\\nprint(f)\\nf(2)  # 3\\nf(5)  # 6', '# 返回一个对象\\ndef add1(left, right):\\n    res = left + right\\n    return res\\n\\n\\ndef add2(left, right):\\n    return left + right\\n\\n\\nprint(add1(3, 4))\\nprint(add2(3, 4))', '# 返回多个对象, 自动打包成一个元组\\ndef add3(left, right):\\n    res1 = left + right\\n    res2 = left * right\\n    return res1, res2\\n\\n\\ndef add4(left, right):\\n    return left + right, left * right\\n\\n\\nprint(add3(3, 4))\\nprint(add4(3, 4))', '# return None\\ndef add5(left, right):\\n    print(left + right)\\n    return\\n\\n\\n# return None\\ndef add6(left, right):\\n    pass\\n\\n\\nprint(add5(3, 4))\\nprint(add6(3, 4))', 'def func(b):\\n    print(id(a), a)\\n    print(id(b), b)\\n\\n\\na = 789\\nfunc(a)', 'def func(b):\\n    print(id(a), a)\\n    print(id(b), b)\\n\\n\\na = [789]\\nfunc(a)', 'def func(a, b):\\n    print(a - b)\\n\\n\\nfunc(3, 4)\\nfunc(3, b=4)\\nfunc(b=4, a=3)', 'def func(a, b):\\n    print(a - b)\\n\\n\\nfunc(3, 4)  # -1\\nfunc(4, 3)  # 1', 'def func(a, b):\\n    print(a - b)\\n\\n\\nfunc(a=3, b=4)  # -1\\nfunc(b=4, a=3)  # -1\\nfunc(3, b=4)  # -1', 'def func(a, b=4):\\n    print(a - b)\\n\\n\\nfunc(3)  # -1\\nfunc(3, 5)  # -2', 'def func(*args):\\n    print(args)\\n\\n\\nfunc()\\nfunc(3, 1, 4, 6)\\n\\n\\ndef func(**kwargs):\\n    print(kwargs)\\n\\n\\nfunc()\\nfunc(a=3, b=2, c=4)', \"def func(*args, **kwargs):\\n    print(args)\\n    print(kwargs)\\n\\n\\nfunc()\\nprint('*' * 30)\\nfunc(1)\\nprint('*' * 30)\\nfunc(1, 2, a=3, b=4)\\nprint('*' * 30)\\nfunc(1, 45, 456, 465, 46)\", 'def func(pos1, pos2, /, pos_or_kwd, *, kwd1, kwd2):\\n    pass\\n\\n\\nfunc(1, 2, 3, kwd1=4, kwd2=5)\\nfunc(1, 2, pos_or_kwd=3, kwd1=4, kwd2=5)', \"print((lambda: 'It just returns a string')())\\nf = lambda: 'It just returns a string'\\nprint(f())\\n\\n(lambda x, y, z: print(x + y + z))(1, 2, 3)\\nf = lambda x, y, z: print(x + y + z)\\nf(1, 2, 3)\\n\\ntup = (8, 5, -9, 6, 2)\\nprint(sorted(tup, key=lambda x: -x if x < 0 else x))\", \"tup = 345, 'hello', 789\\nprint(tup)\", \"a, b, c = [4, 3, 'a']\\nprint(a)  # 4\\nprint(b)  # 3\\nprint(c)  # 'a'\\n\\na, *b, c = 'hello'\\nprint(a)  # 'h'\\nprint(b)  # ['e', 'l', 'l']\\nprint(c)  # 'o'\\n\\na, *b, c = 'he'\\nprint(a)  # 'h'\\nprint(b)  # []\\nprint(c)  # 'e'\\n\\n*a, = 'hel'\\nprint(a)  # ['h', 'e', 'l']\\n_, *b, _ = [4, 3, 5, 7]\\nprint(b)  # [3, 5]\", 'def func(a, b, c):\\n    print(a, b, c)\\n\\n\\n\"\"\"\\n在函数传实参时, *iterable可以将\\n该iterable解包成位置参数\\n\"\"\"\\ntup = (1, 2, 3)\\nfunc(*tup)  # 等价于func(1, 2, 3)\\nd = {\\'a\\': 1, \\'b\\': 2, \\'c\\': 3}\\nfunc(*d)  # 等价于func(\\'a\\', \\'b\\', \\'c\\')\\n\"\"\"\\n在函数传参时, **dict可以将\\n该dict解包成关键字参数\\n\"\"\"\\nfunc(**d)  # 等价于func(a=1, b=2, c=3)', 'print(globals())  # 返回全局命名空间\\n# 在全局作用域, locals()等价于globals()\\nprint(locals())', 'def func1(arg1, arg2):\\n    num = 666\\n    print(locals())  # 返回局部命名空间\\n\\n\\ndef func2(arg1, arg2):\\n    num = 777\\n    print(locals())\\n\\n\\nnum = 111\\nfunc1(222, 333)\\nfunc2(444, 555)\\n\\nprint(globals())'], 'Out': {}, 'get_ipython': <bound method InteractiveShell.get_ipython of <ipykernel.zmqshell.ZMQInteractiveShell object at 0x0000028ECDE55D30>>, 'exit': <IPython.core.autocall.ZMQExitAutocall object at 0x0000028ECDEE46A0>, 'quit': <IPython.core.autocall.ZMQExitAutocall object at 0x0000028ECDEE46A0>, '_': 7, '__': '', '___': '', '_i': 'print(globals())  # 返回全局命名空间\\n# 在全局作用域, locals()等价于globals()\\nprint(locals())', '_ii': 'def func(a, b, c):\\n    print(a, b, c)\\n\\n\\n\"\"\"\\n在函数传实参时, *iterable可以将\\n该iterable解包成位置参数\\n\"\"\"\\ntup = (1, 2, 3)\\nfunc(*tup)  # 等价于func(1, 2, 3)\\nd = {\\'a\\': 1, \\'b\\': 2, \\'c\\': 3}\\nfunc(*d)  # 等价于func(\\'a\\', \\'b\\', \\'c\\')\\n\"\"\"\\n在函数传参时, **dict可以将\\n该dict解包成关键字参数\\n\"\"\"\\nfunc(**d)  # 等价于func(a=1, b=2, c=3)', '_iii': \"a, b, c = [4, 3, 'a']\\nprint(a)  # 4\\nprint(b)  # 3\\nprint(c)  # 'a'\\n\\na, *b, c = 'hello'\\nprint(a)  # 'h'\\nprint(b)  # ['e', 'l', 'l']\\nprint(c)  # 'o'\\n\\na, *b, c = 'he'\\nprint(a)  # 'h'\\nprint(b)  # []\\nprint(c)  # 'e'\\n\\n*a, = 'hel'\\nprint(a)  # ['h', 'e', 'l']\\n_, *b, _ = [4, 3, 5, 7]\\nprint(b)  # [3, 5]\", '_i1': 'def plus(num):\\n    print(num + 1)\\n\\n\\n\"\"\" 调用函数 \"\"\"\\nplus(2)  # 3\\nplus(5)  # 6', 'plus': <function plus at 0x0000028ECDF21D30>, '_i2': 'f = plus\\nprint(plus)\\nprint(f)\\nf(2)  # 3\\nf(5)  # 6', 'f': <function <lambda> at 0x0000028ECDF4D9D0>, '_i3': '# 返回一个对象\\ndef add1(left, right):\\n    res = left + right\\n    return res\\n\\n\\ndef add2(left, right):\\n    return left + right\\n\\n\\nprint(add1(3, 4))\\nprint(add2(3, 4))', 'add1': <function add1 at 0x0000028ECDF4D280>, 'add2': <function add2 at 0x0000028ECDF4D310>, '_i4': '# 返回多个对象, 自动打包成一个元组\\ndef add3(left, right):\\n    res1 = left + right\\n    res2 = left * right\\n    return res1, res2\\n\\n\\ndef add4(left, right):\\n    return left + right, left * right\\n\\n\\nprint(add3(3, 4))\\nprint(add4(3, 4))', 'add3': <function add3 at 0x0000028ECDF210D0>, 'add4': <function add4 at 0x0000028ECDF21DC0>, '_i5': '# return None\\ndef add5(left, right):\\n    print(left + right)\\n    return\\n\\n\\n# return None\\ndef add6(left, right):\\n    pass\\n\\n\\nprint(add5(3, 4))\\nprint(add6(3, 4))', 'add5': <function add5 at 0x0000028ECDF4D0D0>, 'add6': <function add6 at 0x0000028ECDF4D160>, '_i6': 'def func(b):\\n    print(id(a), a)\\n    print(id(b), b)\\n\\n\\na = 789\\nfunc(a)', 'func': <function func at 0x0000028ECDF21AF0>, 'a': ['h', 'e', 'l'], '_i7': 'def func(b):\\n    print(id(a), a)\\n    print(id(b), b)\\n\\n\\na = [789]\\nfunc(a)', '_i8': 'def func(a, b):\\n    print(a - b)\\n\\n\\nfunc(3, 4)\\nfunc(3, b=4)\\nfunc(b=4, a=3)', '_i9': 'def func(a, b):\\n    print(a - b)\\n\\n\\nfunc(3, 4)  # -1\\nfunc(4, 3)  # 1', '_i10': 'def func(a, b):\\n    print(a - b)\\n\\n\\nfunc(a=3, b=4)  # -1\\nfunc(b=4, a=3)  # -1\\nfunc(3, b=4)  # -1', '_i11': 'def func(a, b=4):\\n    print(a - b)\\n\\n\\nfunc(3)  # -1\\nfunc(3, 5)  # -2', '_i12': 'def func(*args):\\n    print(args)\\n\\n\\nfunc()\\nfunc(3, 1, 4, 6)\\n\\n\\ndef func(**kwargs):\\n    print(kwargs)\\n\\n\\nfunc()\\nfunc(a=3, b=2, c=4)', '_i13': \"def func(*args, **kwargs):\\n    print(args)\\n    print(kwargs)\\n\\n\\nfunc()\\nprint('*' * 30)\\nfunc(1)\\nprint('*' * 30)\\nfunc(1, 2, a=3, b=4)\\nprint('*' * 30)\\nfunc(1, 45, 456, 465, 46)\", '_i14': 'def func(pos1, pos2, /, pos_or_kwd, *, kwd1, kwd2):\\n    pass\\n\\n\\nfunc(1, 2, 3, kwd1=4, kwd2=5)\\nfunc(1, 2, pos_or_kwd=3, kwd1=4, kwd2=5)', '_i15': \"print((lambda: 'It just returns a string')())\\nf = lambda: 'It just returns a string'\\nprint(f())\\n\\n(lambda x, y, z: print(x + y + z))(1, 2, 3)\\nf = lambda x, y, z: print(x + y + z)\\nf(1, 2, 3)\\n\\ntup = (8, 5, -9, 6, 2)\\nprint(sorted(tup, key=lambda x: -x if x < 0 else x))\", 'tup': (1, 2, 3), '_i16': \"tup = 345, 'hello', 789\\nprint(tup)\", '_i17': \"a, b, c = [4, 3, 'a']\\nprint(a)  # 4\\nprint(b)  # 3\\nprint(c)  # 'a'\\n\\na, *b, c = 'hello'\\nprint(a)  # 'h'\\nprint(b)  # ['e', 'l', 'l']\\nprint(c)  # 'o'\\n\\na, *b, c = 'he'\\nprint(a)  # 'h'\\nprint(b)  # []\\nprint(c)  # 'e'\\n\\n*a, = 'hel'\\nprint(a)  # ['h', 'e', 'l']\\n_, *b, _ = [4, 3, 5, 7]\\nprint(b)  # [3, 5]\", 'b': [3, 5], 'c': 'e', '_i18': 'def func(a, b, c):\\n    print(a, b, c)\\n\\n\\n\"\"\"\\n在函数传实参时, *iterable可以将\\n该iterable解包成位置参数\\n\"\"\"\\ntup = (1, 2, 3)\\nfunc(*tup)  # 等价于func(1, 2, 3)\\nd = {\\'a\\': 1, \\'b\\': 2, \\'c\\': 3}\\nfunc(*d)  # 等价于func(\\'a\\', \\'b\\', \\'c\\')\\n\"\"\"\\n在函数传参时, **dict可以将\\n该dict解包成关键字参数\\n\"\"\"\\nfunc(**d)  # 等价于func(a=1, b=2, c=3)', 'd': {'a': 1, 'b': 2, 'c': 3}, '_i19': 'print(globals())  # 返回全局命名空间\\n# 在全局作用域, locals()等价于globals()\\nprint(locals())', '_i20': 'def func1(arg1, arg2):\\n    num = 666\\n    print(locals())  # 返回局部命名空间\\n\\n\\ndef func2(arg1, arg2):\\n    num = 777\\n    print(locals())\\n\\n\\nnum = 111\\nfunc1(222, 333)\\nfunc2(444, 555)\\n\\nprint(globals())', 'func1': <function func1 at 0x0000028ECDF4D3A0>, 'func2': <function func2 at 0x0000028ECDF4D430>, 'num': 111}\n"
     ]
    }
   ],
   "execution_count": 20
  },
  {
   "metadata": {},
   "cell_type": "markdown",
   "source": [
    "#### 命名空间查找顺序\n",
    "- 局部命名空间 >> 全局命名空间 >> 内置命名空间"
   ],
   "id": "9c9b6d101898e5c4"
  },
  {
   "metadata": {},
   "cell_type": "markdown",
   "source": [
    "#### 作用域\n",
    "- 定义：Python 程序可以直接访问命名空间的正文区域\n",
    "- 作用：决定了哪一部分区域可以访问哪个特定的名称\n",
    "- 分类：（L - E - G - B 作用域依次增大）\n",
    "- - 局部作用域（Local） - L\n",
    "- - 闭包函数外的函数中（Enclosing） - E\n",
    "- - 全局作用域（Global） - G\n",
    "- - 内置作用域（Built-in） - B\n",
    "- 规则：在当前作用域如果找不到对应名称，则去更大一级作用域去找，直到最后找不到就会报错\n",
    "- 注意：模块、类以及函数会引入新的作用域，而条件语句，循环语句并不会"
   ],
   "id": "b2f5dee957b81852"
  },
  {
   "metadata": {},
   "cell_type": "markdown",
   "source": [
    "#### 局部作用域\n",
    "- 函数内部区域可以直接访问该函数所对应的局部命名空间,所以该区域为 局部作用域(Local)"
   ],
   "id": "4af0fc6019151ed1"
  },
  {
   "metadata": {
    "ExecuteTime": {
     "end_time": "2025-10-01T05:52:47.817664Z",
     "start_time": "2025-10-01T05:52:47.808298Z"
    }
   },
   "cell_type": "code",
   "source": [
    "def func(x, y):\n",
    "    a = 3\n",
    "    b = 4\n",
    "    print(x, y, a, b)\n",
    "\n",
    "\n",
    "func(1, 2)"
   ],
   "id": "a6c1ed60ab6017ed",
   "outputs": [
    {
     "name": "stdout",
     "output_type": "stream",
     "text": [
      "1 2 3 4\n"
     ]
    }
   ],
   "execution_count": 21
  },
  {
   "metadata": {},
   "cell_type": "markdown",
   "source": [
    "#### 闭包函数外的函数中\n",
    "- 在inner函数的外部且在outer函数的内部区域,可以直接访问outer所对应的局部命名空间,所以该区域为 闭包函数外的函数中(Enclosing)"
   ],
   "id": "f4398a5849e10b54"
  },
  {
   "metadata": {
    "ExecuteTime": {
     "end_time": "2025-10-01T05:52:47.832953Z",
     "start_time": "2025-10-01T05:52:47.826181Z"
    }
   },
   "cell_type": "code",
   "source": [
    "def outer(a):\n",
    "    b = 2\n",
    "\n",
    "    def inner(c):\n",
    "        \"\"\" 局部作用域 \"\"\"\n",
    "        return a + b + c\n",
    "\n",
    "    return inner\n",
    "\n",
    "\n",
    "\"\"\" 全局作用域 \"\"\"\n",
    "print(outer(1)(3))"
   ],
   "id": "c2677b23740154b9",
   "outputs": [
    {
     "name": "stdout",
     "output_type": "stream",
     "text": [
      "6\n"
     ]
    }
   ],
   "execution_count": 22
  },
  {
   "metadata": {},
   "cell_type": "markdown",
   "source": [
    "#### 全局作用域\n",
    "- 函数外部区域可以直接访问该模块所对应的全局命名空间,所以该区域为 全局作用域(Global)"
   ],
   "id": "c8e7721b7fb26e0e"
  },
  {
   "metadata": {
    "ExecuteTime": {
     "end_time": "2025-10-01T05:52:47.878971Z",
     "start_time": "2025-10-01T05:52:47.873675Z"
    }
   },
   "cell_type": "code",
   "source": [
    "def func():\n",
    "    pass\n",
    "\n",
    "\n",
    "a = 3\n",
    "b = 4\n",
    "print(a, b)"
   ],
   "id": "7d30b71b37a82129",
   "outputs": [
    {
     "name": "stdout",
     "output_type": "stream",
     "text": [
      "3 4\n"
     ]
    }
   ],
   "execution_count": 23
  },
  {
   "metadata": {},
   "cell_type": "markdown",
   "source": [
    "#### 内置作用域\n",
    "- 能够直接访问内置命名空间的正文区域为内置作用域\n",
    "- builtins模块的全局作用域，相当于Python的内置作用域"
   ],
   "id": "218f49b8d351b46e"
  },
  {
   "metadata": {},
   "cell_type": "markdown",
   "source": [
    "#### global 和 nonlocal\n",
    "- 当内部作用域想要给外部作用域的变量重新赋值时，可以用global 或 nonlocal 关键字"
   ],
   "id": "e20a3ed633fda272"
  },
  {
   "metadata": {
    "ExecuteTime": {
     "end_time": "2025-10-01T05:52:47.909459Z",
     "start_time": "2025-10-01T05:52:47.896250Z"
    }
   },
   "cell_type": "code",
   "source": [
    "def outer():\n",
    "    global a, b\n",
    "    a, b, c, d = 3, 4, 5, 6\n",
    "    print(a, b)\n",
    "\n",
    "    def inner():\n",
    "        global a, b\n",
    "        nonlocal c, d\n",
    "        a, b, c, d = 7, 8, 9, 0\n",
    "\n",
    "    inner()\n",
    "    print(c, d)\n",
    "\n",
    "\n",
    "a, b = 1, 2\n",
    "outer()\n",
    "print(a, b)"
   ],
   "id": "668c7f25c2994919",
   "outputs": [
    {
     "name": "stdout",
     "output_type": "stream",
     "text": [
      "3 4\n",
      "9 0\n",
      "7 8\n"
     ]
    }
   ],
   "execution_count": 24
  }
 ],
 "metadata": {
  "kernelspec": {
   "display_name": "Python 3",
   "language": "python",
   "name": "python3"
  },
  "language_info": {
   "codemirror_mode": {
    "name": "ipython",
    "version": 2
   },
   "file_extension": ".py",
   "mimetype": "text/x-python",
   "name": "python",
   "nbconvert_exporter": "python",
   "pygments_lexer": "ipython2",
   "version": "2.7.6"
  }
 },
 "nbformat": 4,
 "nbformat_minor": 5
}
