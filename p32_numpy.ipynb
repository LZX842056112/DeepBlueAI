{
 "cells": [
  {
   "metadata": {
    "ExecuteTime": {
     "end_time": "2025-10-06T05:19:32.723719Z",
     "start_time": "2025-10-06T05:19:32.633027Z"
    }
   },
   "cell_type": "code",
   "source": "import numpy as np",
   "id": "ec3e639dfa280624",
   "outputs": [],
   "execution_count": 1
  },
  {
   "metadata": {},
   "cell_type": "markdown",
   "source": "#### 切片在高阶索引一侧, 按照轴的顺序定shape即可",
   "id": "7ac89dbb2301e127"
  },
  {
   "metadata": {
    "ExecuteTime": {
     "end_time": "2025-10-06T05:19:32.739189Z",
     "start_time": "2025-10-06T05:19:32.724716Z"
    }
   },
   "cell_type": "code",
   "source": [
    "lst = [[[5, 0, 8],\n",
    "        [1, 2, 9]],\n",
    "       [[6, 7, 4],\n",
    "        [3, 6, 2]],\n",
    "       [[7, 7, 1],\n",
    "        [9, 1, 2]],\n",
    "       [[5, 1, 5],\n",
    "        [3, 4, 6]]]\n",
    "arr = np.array(lst)\n",
    "print(arr.shape)\n",
    "print(arr[1:, 0, [2, 1]])"
   ],
   "id": "e96fe21119bee7bc",
   "outputs": [
    {
     "name": "stdout",
     "output_type": "stream",
     "text": [
      "(4, 2, 3)\n",
      "[[4 7]\n",
      " [1 7]\n",
      " [5 1]]\n"
     ]
    }
   ],
   "execution_count": 2
  },
  {
   "metadata": {
    "ExecuteTime": {
     "end_time": "2025-10-06T05:19:32.754354Z",
     "start_time": "2025-10-06T05:19:32.740351Z"
    }
   },
   "cell_type": "code",
   "source": "print(arr[1:, [0, 1], [2, 1]])",
   "id": "64ab5f178fed5d26",
   "outputs": [
    {
     "name": "stdout",
     "output_type": "stream",
     "text": [
      "[[4 6]\n",
      " [1 1]\n",
      " [5 4]]\n"
     ]
    }
   ],
   "execution_count": 3
  },
  {
   "metadata": {
    "ExecuteTime": {
     "end_time": "2025-10-06T05:19:32.770053Z",
     "start_time": "2025-10-06T05:19:32.755351Z"
    }
   },
   "cell_type": "code",
   "source": "print(arr[[2, 3, 1], [1, 0, 1], ::2])",
   "id": "87797871250d7db8",
   "outputs": [
    {
     "name": "stdout",
     "output_type": "stream",
     "text": [
      "[[9 2]\n",
      " [5 5]\n",
      " [3 2]]\n"
     ]
    }
   ],
   "execution_count": 4
  },
  {
   "metadata": {},
   "cell_type": "markdown",
   "source": "#### 切片两侧都有高阶索引时, 定shape时高阶索引在前, 切片在后",
   "id": "12afc3d8fa6aedd9"
  },
  {
   "metadata": {
    "ExecuteTime": {
     "end_time": "2025-10-06T05:19:32.786045Z",
     "start_time": "2025-10-06T05:19:32.770053Z"
    }
   },
   "cell_type": "code",
   "source": "print(arr[[3, 2], 1:, [1, 0]])",
   "id": "b66652e9e55b51b5",
   "outputs": [
    {
     "name": "stdout",
     "output_type": "stream",
     "text": [
      "[[4]\n",
      " [9]]\n"
     ]
    }
   ],
   "execution_count": 5
  },
  {
   "metadata": {},
   "cell_type": "markdown",
   "source": "![常用函数](picture/常用函数.png)",
   "id": "a51a562b3a22726b"
  },
  {
   "metadata": {},
   "cell_type": "markdown",
   "source": "#### ... 简化不变操作",
   "id": "fa950fac02ad23fe"
  },
  {
   "metadata": {
    "ExecuteTime": {
     "end_time": "2025-10-06T05:19:32.801312Z",
     "start_time": "2025-10-06T05:19:32.787042Z"
    }
   },
   "cell_type": "code",
   "source": [
    "arr = np.arange(140 * 48 * 9).reshape(5, 7, 4, 6, 8, 9)\n",
    "print(arr[::2, :, :, :, :, 8].shape)\n",
    "print(arr[::2, ..., 8].shape)\n",
    "print(arr[..., ::2, 1, 2].shape)"
   ],
   "id": "4ecfe4f88f8d0d03",
   "outputs": [
    {
     "name": "stdout",
     "output_type": "stream",
     "text": [
      "(3, 7, 4, 6, 8)\n",
      "(3, 7, 4, 6, 8)\n",
      "(5, 7, 4, 3)\n"
     ]
    }
   ],
   "execution_count": 6
  },
  {
   "metadata": {},
   "cell_type": "markdown",
   "source": [
    "#### ndarray.T\n",
    "- 转置数组"
   ],
   "id": "a9c3812d23071042"
  },
  {
   "metadata": {
    "ExecuteTime": {
     "end_time": "2025-10-06T05:19:32.816281Z",
     "start_time": "2025-10-06T05:19:32.802494Z"
    }
   },
   "cell_type": "code",
   "source": [
    "a = np.arange(6).reshape(2, 3)\n",
    "print(a)\n",
    "print(a.T)\n",
    "print('*' * 30)"
   ],
   "id": "4646b4dca8cf34e6",
   "outputs": [
    {
     "name": "stdout",
     "output_type": "stream",
     "text": [
      "[[0 1 2]\n",
      " [3 4 5]]\n",
      "[[0 3]\n",
      " [1 4]\n",
      " [2 5]]\n",
      "******************************\n"
     ]
    }
   ],
   "execution_count": 7
  },
  {
   "metadata": {},
   "cell_type": "markdown",
   "source": [
    "#### np.transpose(arr_like, axes=None)\n",
    "- 通过axes参数排列数组的shape，axes没有指定，默认为转置"
   ],
   "id": "b83a5f76ef959877"
  },
  {
   "metadata": {
    "ExecuteTime": {
     "end_time": "2025-10-06T05:19:32.831464Z",
     "start_time": "2025-10-06T05:19:32.817277Z"
    }
   },
   "cell_type": "code",
   "source": [
    "arr = np.arange(120).reshape(2, 3, 4, 5)\n",
    "print(arr.T.shape)\n",
    "\n",
    "print(np.transpose(arr).shape)\n",
    "print(np.transpose(arr, (3, 2, 1, 0)).shape)"
   ],
   "id": "f0196371747027a0",
   "outputs": [
    {
     "name": "stdout",
     "output_type": "stream",
     "text": [
      "(5, 4, 3, 2)\n",
      "(5, 4, 3, 2)\n",
      "(5, 4, 3, 2)\n"
     ]
    }
   ],
   "execution_count": 8
  },
  {
   "metadata": {},
   "cell_type": "markdown",
   "source": [
    "#### np.swapaxes(arr_like, axis1, axis2)\n",
    "- 交换数组的两个轴"
   ],
   "id": "cdc71500bed8bb83"
  },
  {
   "metadata": {
    "ExecuteTime": {
     "end_time": "2025-10-06T05:19:32.846420Z",
     "start_time": "2025-10-06T05:19:32.832461Z"
    }
   },
   "cell_type": "code",
   "source": [
    "print(np.swapaxes(arr, 1, -1).shape)\n",
    "\n",
    "print(np.transpose(arr, (0, 3, 2, 1)).shape)"
   ],
   "id": "a14ccc73fd06f03b",
   "outputs": [
    {
     "name": "stdout",
     "output_type": "stream",
     "text": [
      "(2, 5, 4, 3)\n",
      "(2, 5, 4, 3)\n"
     ]
    }
   ],
   "execution_count": 9
  },
  {
   "metadata": {
    "ExecuteTime": {
     "end_time": "2025-10-06T05:19:32.862386Z",
     "start_time": "2025-10-06T05:19:32.847668Z"
    }
   },
   "cell_type": "code",
   "source": [
    "arr = np.arange(24).reshape(2, 3, 4)\n",
    "print(arr)"
   ],
   "id": "aaea458b8f42da11",
   "outputs": [
    {
     "name": "stdout",
     "output_type": "stream",
     "text": [
      "[[[ 0  1  2  3]\n",
      "  [ 4  5  6  7]\n",
      "  [ 8  9 10 11]]\n",
      "\n",
      " [[12 13 14 15]\n",
      "  [16 17 18 19]\n",
      "  [20 21 22 23]]]\n"
     ]
    }
   ],
   "execution_count": 10
  },
  {
   "metadata": {
    "ExecuteTime": {
     "end_time": "2025-10-06T05:19:32.877771Z",
     "start_time": "2025-10-06T05:19:32.863521Z"
    }
   },
   "cell_type": "code",
   "source": "print(arr.T)",
   "id": "c83bcc60dc59add8",
   "outputs": [
    {
     "name": "stdout",
     "output_type": "stream",
     "text": [
      "[[[ 0 12]\n",
      "  [ 4 16]\n",
      "  [ 8 20]]\n",
      "\n",
      " [[ 1 13]\n",
      "  [ 5 17]\n",
      "  [ 9 21]]\n",
      "\n",
      " [[ 2 14]\n",
      "  [ 6 18]\n",
      "  [10 22]]\n",
      "\n",
      " [[ 3 15]\n",
      "  [ 7 19]\n",
      "  [11 23]]]\n"
     ]
    }
   ],
   "execution_count": 11
  },
  {
   "metadata": {
    "ExecuteTime": {
     "end_time": "2025-10-06T05:19:32.940567Z",
     "start_time": "2025-10-06T05:19:32.928426Z"
    }
   },
   "cell_type": "code",
   "source": "print(np.transpose(arr, (2, 0, 1)))",
   "id": "77ed1fb8c980e779",
   "outputs": [
    {
     "name": "stdout",
     "output_type": "stream",
     "text": [
      "[[[ 0  4  8]\n",
      "  [12 16 20]]\n",
      "\n",
      " [[ 1  5  9]\n",
      "  [13 17 21]]\n",
      "\n",
      " [[ 2  6 10]\n",
      "  [14 18 22]]\n",
      "\n",
      " [[ 3  7 11]\n",
      "  [15 19 23]]]\n"
     ]
    }
   ],
   "execution_count": 12
  },
  {
   "metadata": {},
   "cell_type": "markdown",
   "source": [
    "#### np.concatenate(arrays, axis=0)\n",
    "- arrays：Sequence[ArrayLike]\n",
    "- 沿现有轴连接一系列数组，如果axis为None，则数组在使用前会被扁平化"
   ],
   "id": "6d36ff24899dc4d5"
  },
  {
   "metadata": {
    "ExecuteTime": {
     "end_time": "2025-10-06T05:19:33.064634Z",
     "start_time": "2025-10-06T05:19:33.055621Z"
    }
   },
   "cell_type": "code",
   "source": [
    "a = np.arange(24).reshape(2, 3, 4)\n",
    "b = np.arange(36).reshape(3, 3, 4)\n",
    "print(np.concatenate((a, b), axis=None))\n",
    "print(np.concatenate((a.flatten(), b.flatten()), axis=0))\n",
    "print(np.concatenate((np.arange(24), np.arange(36)), axis=0))"
   ],
   "id": "940170c6cfc7090b",
   "outputs": [
    {
     "name": "stdout",
     "output_type": "stream",
     "text": [
      "[ 0  1  2  3  4  5  6  7  8  9 10 11 12 13 14 15 16 17 18 19 20 21 22 23\n",
      "  0  1  2  3  4  5  6  7  8  9 10 11 12 13 14 15 16 17 18 19 20 21 22 23\n",
      " 24 25 26 27 28 29 30 31 32 33 34 35]\n",
      "[ 0  1  2  3  4  5  6  7  8  9 10 11 12 13 14 15 16 17 18 19 20 21 22 23\n",
      "  0  1  2  3  4  5  6  7  8  9 10 11 12 13 14 15 16 17 18 19 20 21 22 23\n",
      " 24 25 26 27 28 29 30 31 32 33 34 35]\n",
      "[ 0  1  2  3  4  5  6  7  8  9 10 11 12 13 14 15 16 17 18 19 20 21 22 23\n",
      "  0  1  2  3  4  5  6  7  8  9 10 11 12 13 14 15 16 17 18 19 20 21 22 23\n",
      " 24 25 26 27 28 29 30 31 32 33 34 35]\n"
     ]
    }
   ],
   "execution_count": 13
  },
  {
   "metadata": {
    "ExecuteTime": {
     "end_time": "2025-10-06T05:19:33.157892Z",
     "start_time": "2025-10-06T05:19:33.141904Z"
    }
   },
   "cell_type": "code",
   "source": [
    "a = np.arange(24).reshape(3, 2, 4)\n",
    "b = np.arange(36).reshape(3, 3, 4)\n",
    "print(np.concatenate((a, b), axis=1))"
   ],
   "id": "aa35d9730812ccf8",
   "outputs": [
    {
     "name": "stdout",
     "output_type": "stream",
     "text": [
      "[[[ 0  1  2  3]\n",
      "  [ 4  5  6  7]\n",
      "  [ 0  1  2  3]\n",
      "  [ 4  5  6  7]\n",
      "  [ 8  9 10 11]]\n",
      "\n",
      " [[ 8  9 10 11]\n",
      "  [12 13 14 15]\n",
      "  [12 13 14 15]\n",
      "  [16 17 18 19]\n",
      "  [20 21 22 23]]\n",
      "\n",
      " [[16 17 18 19]\n",
      "  [20 21 22 23]\n",
      "  [24 25 26 27]\n",
      "  [28 29 30 31]\n",
      "  [32 33 34 35]]]\n"
     ]
    }
   ],
   "execution_count": 14
  },
  {
   "metadata": {
    "ExecuteTime": {
     "end_time": "2025-10-06T05:19:33.250400Z",
     "start_time": "2025-10-06T05:19:33.233369Z"
    }
   },
   "cell_type": "code",
   "source": [
    "a = np.arange(30).reshape(3, 2, 5)\n",
    "b = np.arange(24).reshape(3, 2, 4)\n",
    "print(np.concatenate((a, b), axis=2))"
   ],
   "id": "cf8455d99ee7adf2",
   "outputs": [
    {
     "name": "stdout",
     "output_type": "stream",
     "text": [
      "[[[ 0  1  2  3  4  0  1  2  3]\n",
      "  [ 5  6  7  8  9  4  5  6  7]]\n",
      "\n",
      " [[10 11 12 13 14  8  9 10 11]\n",
      "  [15 16 17 18 19 12 13 14 15]]\n",
      "\n",
      " [[20 21 22 23 24 16 17 18 19]\n",
      "  [25 26 27 28 29 20 21 22 23]]]\n"
     ]
    }
   ],
   "execution_count": 15
  },
  {
   "metadata": {
    "ExecuteTime": {
     "end_time": "2025-10-06T05:19:33.266292Z",
     "start_time": "2025-10-06T05:19:33.253937Z"
    }
   },
   "cell_type": "code",
   "source": [
    "a = np.array([[1, 2], [3, 4]])\n",
    "b = np.array([[5, 6]])\n",
    "print(np.concatenate((a, b), axis=0))\n",
    "print(np.concatenate((a, b.T), axis=1))\n",
    "print(np.concatenate((a, b), axis=None))"
   ],
   "id": "3ae005e53eb713a9",
   "outputs": [
    {
     "name": "stdout",
     "output_type": "stream",
     "text": [
      "[[1 2]\n",
      " [3 4]\n",
      " [5 6]]\n",
      "[[1 2 5]\n",
      " [3 4 6]]\n",
      "[1 2 3 4 5 6]\n"
     ]
    }
   ],
   "execution_count": 16
  },
  {
   "metadata": {},
   "cell_type": "markdown",
   "source": [
    "#### np.stack(arrays, axis=0)\n",
    "- arrays：Sequence[ArrayLike]\n",
    "- 沿新轴连接一系列数组"
   ],
   "id": "5b1b5b4efe624b42"
  },
  {
   "metadata": {
    "ExecuteTime": {
     "end_time": "2025-10-06T05:19:33.296720Z",
     "start_time": "2025-10-06T05:19:33.286550Z"
    }
   },
   "cell_type": "code",
   "source": [
    "a1 = np.arange(6).reshape((2, 3))\n",
    "a2 = np.arange(10, 16).reshape((2, 3))\n",
    "a3 = np.arange(20, 26).reshape((2, 3))\n",
    "a4 = np.arange(30, 36).reshape((2, 3))\n",
    "print(np.stack((a1, a2, a3, a4)).shape)\n",
    "print(np.stack((a1, a2, a3, a4)))"
   ],
   "id": "cc4dce32d9b04db8",
   "outputs": [
    {
     "name": "stdout",
     "output_type": "stream",
     "text": [
      "(4, 2, 3)\n",
      "[[[ 0  1  2]\n",
      "  [ 3  4  5]]\n",
      "\n",
      " [[10 11 12]\n",
      "  [13 14 15]]\n",
      "\n",
      " [[20 21 22]\n",
      "  [23 24 25]]\n",
      "\n",
      " [[30 31 32]\n",
      "  [33 34 35]]]\n"
     ]
    }
   ],
   "execution_count": 17
  },
  {
   "metadata": {
    "ExecuteTime": {
     "end_time": "2025-10-06T05:19:33.375147Z",
     "start_time": "2025-10-06T05:19:33.360265Z"
    }
   },
   "cell_type": "code",
   "source": [
    "print(np.stack((a1, a2, a3, a4), axis=1).shape)\n",
    "print(np.stack((a1, a2, a3, a4), axis=1))"
   ],
   "id": "8b8db0ecfb8abff6",
   "outputs": [
    {
     "name": "stdout",
     "output_type": "stream",
     "text": [
      "(2, 4, 3)\n",
      "[[[ 0  1  2]\n",
      "  [10 11 12]\n",
      "  [20 21 22]\n",
      "  [30 31 32]]\n",
      "\n",
      " [[ 3  4  5]\n",
      "  [13 14 15]\n",
      "  [23 24 25]\n",
      "  [33 34 35]]]\n"
     ]
    }
   ],
   "execution_count": 18
  },
  {
   "metadata": {
    "ExecuteTime": {
     "end_time": "2025-10-06T05:19:33.436389Z",
     "start_time": "2025-10-06T05:19:33.419724Z"
    }
   },
   "cell_type": "code",
   "source": [
    "print(np.stack((a1, a2, a3, a4), axis=2).shape)\n",
    "print(np.stack((a1, a2, a3, a4), axis=2))"
   ],
   "id": "7762d1da28b7366c",
   "outputs": [
    {
     "name": "stdout",
     "output_type": "stream",
     "text": [
      "(2, 3, 4)\n",
      "[[[ 0 10 20 30]\n",
      "  [ 1 11 21 31]\n",
      "  [ 2 12 22 32]]\n",
      "\n",
      " [[ 3 13 23 33]\n",
      "  [ 4 14 24 34]\n",
      "  [ 5 15 25 35]]]\n"
     ]
    }
   ],
   "execution_count": 19
  },
  {
   "metadata": {},
   "cell_type": "markdown",
   "source": [
    "#### np.dot(a, b)\n",
    "- 两个数组的点积"
   ],
   "id": "c1c099aa950d872"
  },
  {
   "metadata": {
    "ExecuteTime": {
     "end_time": "2025-10-06T05:19:33.452110Z",
     "start_time": "2025-10-06T05:19:33.445746Z"
    }
   },
   "cell_type": "code",
   "source": [
    "a = [3, 2, 0]\n",
    "b = [1, 4, 9]\n",
    "print(np.dot(a, b))"
   ],
   "id": "1d1210916ffc1254",
   "outputs": [
    {
     "name": "stdout",
     "output_type": "stream",
     "text": [
      "11\n"
     ]
    }
   ],
   "execution_count": 20
  },
  {
   "metadata": {},
   "cell_type": "markdown",
   "source": [
    "#### np.matmul(x1, x2)\n",
    "- @操作符也可表示\n",
    "- 两个数组的矩阵乘积\n"
   ],
   "id": "f658a3f052dad09"
  },
  {
   "metadata": {
    "ExecuteTime": {
     "end_time": "2025-10-06T05:19:33.483252Z",
     "start_time": "2025-10-06T05:19:33.473276Z"
    }
   },
   "cell_type": "code",
   "source": [
    "a = [[1, 2, 1],\n",
    "     [3, 1, 2]]\n",
    "b = [[1, 2, 1, 3],\n",
    "     [2, 3, 0, 2],\n",
    "     [0, 1, 3, 2]]\n",
    "print(np.dot(a, b))\n",
    "print(np.matmul(a, b))"
   ],
   "id": "f969d21073d84d68",
   "outputs": [
    {
     "name": "stdout",
     "output_type": "stream",
     "text": [
      "[[ 5  9  4  9]\n",
      " [ 5 11  9 15]]\n",
      "[[ 5  9  4  9]\n",
      " [ 5 11  9 15]]\n"
     ]
    }
   ],
   "execution_count": 21
  },
  {
   "metadata": {
    "ExecuteTime": {
     "end_time": "2025-10-06T05:19:33.577644Z",
     "start_time": "2025-10-06T05:19:33.563464Z"
    }
   },
   "cell_type": "code",
   "source": [
    "arr1 = np.arange(30 * 63).reshape(5, 3, 2, 9, 7)\n",
    "arr2 = np.arange(24 * 56).reshape(4, 6, 7, 8)\n",
    "print(np.dot(arr1, arr2).shape)"
   ],
   "id": "a467234ed7fbfd7f",
   "outputs": [
    {
     "name": "stdout",
     "output_type": "stream",
     "text": [
      "(5, 3, 2, 9, 4, 6, 8)\n"
     ]
    }
   ],
   "execution_count": 22
  },
  {
   "metadata": {
    "ExecuteTime": {
     "end_time": "2025-10-06T05:19:33.624374Z",
     "start_time": "2025-10-06T05:19:33.616701Z"
    }
   },
   "cell_type": "code",
   "source": [
    "arr2 = np.arange(24 * 72).reshape(4, 6, 9, 8)\n",
    "arr1 = np.arange(30 * 56).reshape(5, 3, 2, 8, 7)\n",
    "print(np.dot(arr2, arr1).shape)"
   ],
   "id": "c19895b485758edc",
   "outputs": [
    {
     "name": "stdout",
     "output_type": "stream",
     "text": [
      "(4, 6, 9, 5, 3, 2, 7)\n"
     ]
    }
   ],
   "execution_count": 23
  },
  {
   "metadata": {
    "ExecuteTime": {
     "end_time": "2025-10-06T05:19:33.654625Z",
     "start_time": "2025-10-06T05:19:33.648005Z"
    }
   },
   "cell_type": "code",
   "source": [
    "arr1 = np.arange(15 * 63).reshape(5, 3, 1, 9, 7)\n",
    "arr2 = np.arange(56).reshape(7, 8)\n",
    "print(np.matmul(arr1, arr2).shape)\n",
    "print((arr1 @ arr2).shape)"
   ],
   "id": "7821c553dd793685",
   "outputs": [
    {
     "name": "stdout",
     "output_type": "stream",
     "text": [
      "(5, 3, 1, 9, 8)\n",
      "(5, 3, 1, 9, 8)\n"
     ]
    }
   ],
   "execution_count": 24
  },
  {
   "metadata": {
    "ExecuteTime": {
     "end_time": "2025-10-06T05:19:33.701095Z",
     "start_time": "2025-10-06T05:19:33.696873Z"
    }
   },
   "cell_type": "code",
   "source": [
    "# 支持广播\n",
    "arr2 = np.arange(6 * 56).reshape(6, 7, 8)\n",
    "print(np.matmul(arr1, arr2).shape)\n",
    "arr2 = np.arange(18 * 56).reshape(3, 6, 7, 8)\n",
    "print(np.matmul(arr1, arr2).shape)"
   ],
   "id": "6f8cec366f8b9ca8",
   "outputs": [
    {
     "name": "stdout",
     "output_type": "stream",
     "text": [
      "(5, 3, 6, 9, 8)\n",
      "(5, 3, 6, 9, 8)\n"
     ]
    }
   ],
   "execution_count": 25
  },
  {
   "metadata": {},
   "cell_type": "markdown",
   "source": [
    "#### np.greater(x1, x2)\n",
    "- x1，x2的形状必须相同，或者可以广播\n",
    "- 按元素判断 x1 > x2 的结果"
   ],
   "id": "2a4ccd1150494c6f"
  },
  {
   "metadata": {
    "ExecuteTime": {
     "end_time": "2025-10-06T05:19:33.732160Z",
     "start_time": "2025-10-06T05:19:33.714677Z"
    }
   },
   "cell_type": "code",
   "source": [
    "lst1 = [5, 1, 9]\n",
    "lst2 = [[4, 3, 6],\n",
    "        [7, 1, 5]]\n",
    "\n",
    "print(np.greater(lst1, lst2))\n",
    "print(np.array(lst1) > np.array(lst2))"
   ],
   "id": "90bceef4f0a79b03",
   "outputs": [
    {
     "name": "stdout",
     "output_type": "stream",
     "text": [
      "[[ True False  True]\n",
      " [False False  True]]\n",
      "[[ True False  True]\n",
      " [False False  True]]\n"
     ]
    }
   ],
   "execution_count": 26
  },
  {
   "metadata": {},
   "cell_type": "markdown",
   "source": [
    "#### np.greater_equal(x1, x2)\n",
    "- x1，x2的形状必须相同，或者可以广播\n",
    "- 按元素判断 x1 >= x2 的结果"
   ],
   "id": "a3d1188689c70abd"
  },
  {
   "metadata": {
    "ExecuteTime": {
     "end_time": "2025-10-06T05:19:33.763340Z",
     "start_time": "2025-10-06T05:19:33.748918Z"
    }
   },
   "cell_type": "code",
   "source": [
    "print(np.greater_equal(lst1, lst2))\n",
    "print(np.array(lst1) >= np.array(lst2))"
   ],
   "id": "ad69608908a3f837",
   "outputs": [
    {
     "name": "stdout",
     "output_type": "stream",
     "text": [
      "[[ True False  True]\n",
      " [False  True  True]]\n",
      "[[ True False  True]\n",
      " [False  True  True]]\n"
     ]
    }
   ],
   "execution_count": 27
  },
  {
   "metadata": {},
   "cell_type": "markdown",
   "source": [
    "#### np.less(x1, x2)\n",
    "- x1，x2的形状必须相同，或者可以广播\n",
    "- 按元素判断 x1 < x2 的结果"
   ],
   "id": "1697d15fbfe3b9a1"
  },
  {
   "metadata": {
    "ExecuteTime": {
     "end_time": "2025-10-06T05:19:33.824323Z",
     "start_time": "2025-10-06T05:19:33.820713Z"
    }
   },
   "cell_type": "code",
   "source": [
    "print(np.less(lst1, lst2))\n",
    "print(np.array(lst1) < np.array(lst2))"
   ],
   "id": "a1fdce0231257278",
   "outputs": [
    {
     "name": "stdout",
     "output_type": "stream",
     "text": [
      "[[False  True False]\n",
      " [ True False False]]\n",
      "[[False  True False]\n",
      " [ True False False]]\n"
     ]
    }
   ],
   "execution_count": 28
  },
  {
   "metadata": {},
   "cell_type": "markdown",
   "source": [
    "#### np.less_equal(x1, x2)\n",
    "- x1，x2的形状必须相同，或者可以广播\n",
    "- 按元素判断 x1 <= x2 的结果"
   ],
   "id": "ef918aa6baa816cc"
  },
  {
   "metadata": {
    "ExecuteTime": {
     "end_time": "2025-10-06T05:19:33.887168Z",
     "start_time": "2025-10-06T05:19:33.873635Z"
    }
   },
   "cell_type": "code",
   "source": [
    "print(np.less_equal(lst1, lst2))\n",
    "print(np.array(lst1) < np.array(lst2))"
   ],
   "id": "682f1aba3269da1a",
   "outputs": [
    {
     "name": "stdout",
     "output_type": "stream",
     "text": [
      "[[False  True False]\n",
      " [ True  True False]]\n",
      "[[False  True False]\n",
      " [ True False False]]\n"
     ]
    }
   ],
   "execution_count": 29
  },
  {
   "metadata": {},
   "cell_type": "markdown",
   "source": [
    "#### np.equal(x1, x2)\n",
    "- x1，x2的形状必须相同，或者可以广播\n",
    "- 按元素判断 x1 == x2 的结果"
   ],
   "id": "48ce0f5b715793b4"
  },
  {
   "metadata": {
    "ExecuteTime": {
     "end_time": "2025-10-06T05:19:33.917863Z",
     "start_time": "2025-10-06T05:19:33.909906Z"
    }
   },
   "cell_type": "code",
   "source": [
    "print(np.equal(lst1, lst2))\n",
    "print(np.array(lst1) == np.array(lst2))"
   ],
   "id": "df8419c873d924bf",
   "outputs": [
    {
     "name": "stdout",
     "output_type": "stream",
     "text": [
      "[[False False False]\n",
      " [False  True False]]\n",
      "[[False False False]\n",
      " [False  True False]]\n"
     ]
    }
   ],
   "execution_count": 30
  },
  {
   "metadata": {},
   "cell_type": "markdown",
   "source": [
    "#### np.not_equal(x1, x2)\n",
    "- x1，x2的形状必须相同，或者可以广播\n",
    "- 按元素判断 x1 != x2 的结果"
   ],
   "id": "ebecfffc23a0505c"
  },
  {
   "metadata": {
    "ExecuteTime": {
     "end_time": "2025-10-06T05:19:33.995226Z",
     "start_time": "2025-10-06T05:19:33.979151Z"
    }
   },
   "cell_type": "code",
   "source": [
    "print(np.not_equal(lst1, lst2))\n",
    "print(np.array(lst1) != np.array(lst2))"
   ],
   "id": "50ef3f0f3cf02e25",
   "outputs": [
    {
     "name": "stdout",
     "output_type": "stream",
     "text": [
      "[[ True  True  True]\n",
      " [ True False  True]]\n",
      "[[ True  True  True]\n",
      " [ True False  True]]\n"
     ]
    }
   ],
   "execution_count": 31
  },
  {
   "metadata": {},
   "cell_type": "markdown",
   "source": [
    "#### np.sin(x)\n",
    "- x：角度（弧度值）\n",
    "- 正弦函数"
   ],
   "id": "97e676794b0557e4"
  },
  {
   "metadata": {
    "ExecuteTime": {
     "end_time": "2025-10-06T05:19:34.010917Z",
     "start_time": "2025-10-06T05:19:34.001868Z"
    }
   },
   "cell_type": "code",
   "source": [
    "import math\n",
    "\n",
    "print(math.sin(math.pi / 6))\n",
    "print(np.sin(np.pi / 6))"
   ],
   "id": "33411f461e403f1d",
   "outputs": [
    {
     "name": "stdout",
     "output_type": "stream",
     "text": [
      "0.49999999999999994\n",
      "0.49999999999999994\n"
     ]
    }
   ],
   "execution_count": 32
  },
  {
   "metadata": {
    "ExecuteTime": {
     "end_time": "2025-10-06T05:19:34.058312Z",
     "start_time": "2025-10-06T05:19:34.042230Z"
    }
   },
   "cell_type": "code",
   "source": [
    "lst = [[0.6, 1.2, 0.5],\n",
    "       [6, 9, 3]]\n",
    "lst2 = [0, 30, 90]\n",
    "# print(math.sin(lst))\n",
    "print(np.sin(lst))\n",
    "print(np.sin(np.array(lst2) * np.pi / 180))"
   ],
   "id": "3a88e66f742e677d",
   "outputs": [
    {
     "name": "stdout",
     "output_type": "stream",
     "text": [
      "[[ 0.56464247  0.93203909  0.47942554]\n",
      " [-0.2794155   0.41211849  0.14112001]]\n",
      "[0.  0.5 1. ]\n"
     ]
    }
   ],
   "execution_count": 33
  },
  {
   "metadata": {},
   "cell_type": "markdown",
   "source": [
    "#### np.cos(x)\n",
    "- x：角度（弧度值）\n",
    "- 余弦函数"
   ],
   "id": "c0e509381e1f5b97"
  },
  {
   "metadata": {
    "ExecuteTime": {
     "end_time": "2025-10-06T05:19:34.135431Z",
     "start_time": "2025-10-06T05:19:34.128721Z"
    }
   },
   "cell_type": "code",
   "source": [
    "print(np.cos(np.pi / 2))\n",
    "print(np.cos(np.array((0, 60, 90)) * np.pi / 180))"
   ],
   "id": "7c30f9cb2d2a6b6b",
   "outputs": [
    {
     "name": "stdout",
     "output_type": "stream",
     "text": [
      "6.123233995736766e-17\n",
      "[1.000000e+00 5.000000e-01 6.123234e-17]\n"
     ]
    }
   ],
   "execution_count": 34
  },
  {
   "metadata": {},
   "cell_type": "markdown",
   "source": [
    "#### np.tan(x)\n",
    "- x：角度（弧度值）\n",
    "- 正切函数"
   ],
   "id": "b0098facc889cee0"
  },
  {
   "metadata": {
    "ExecuteTime": {
     "end_time": "2025-10-06T05:19:34.181485Z",
     "start_time": "2025-10-06T05:19:34.173224Z"
    }
   },
   "cell_type": "code",
   "source": [
    "print(np.tan(-np.pi))\n",
    "print(np.tan(np.array((0, 180)) * np.pi / 180))"
   ],
   "id": "42c6b648cff84b5d",
   "outputs": [
    {
     "name": "stdout",
     "output_type": "stream",
     "text": [
      "1.2246467991473532e-16\n",
      "[ 0.0000000e+00 -1.2246468e-16]\n"
     ]
    }
   ],
   "execution_count": 35
  },
  {
   "metadata": {},
   "cell_type": "markdown",
   "source": [
    "#### np.arcsin(x)/math.asin(x)\n",
    "- 反正弦函数"
   ],
   "id": "c738330370416586"
  },
  {
   "metadata": {
    "ExecuteTime": {
     "end_time": "2025-10-06T05:19:34.212726Z",
     "start_time": "2025-10-06T05:19:34.205471Z"
    }
   },
   "cell_type": "code",
   "source": [
    "print(math.asin(1))\n",
    "print(np.arcsin(1))\n",
    "print(np.arcsin(np.array([0.5, -0.5])))"
   ],
   "id": "4c22926098175407",
   "outputs": [
    {
     "name": "stdout",
     "output_type": "stream",
     "text": [
      "1.5707963267948966\n",
      "1.5707963267948966\n",
      "[ 0.52359878 -0.52359878]\n"
     ]
    }
   ],
   "execution_count": 36
  },
  {
   "metadata": {},
   "cell_type": "markdown",
   "source": [
    "#### np.arccos(x)/math.acos(x)\n",
    "- 反余弦函数"
   ],
   "id": "24a8a6a8301f375d"
  },
  {
   "metadata": {
    "ExecuteTime": {
     "end_time": "2025-10-06T05:19:34.290523Z",
     "start_time": "2025-10-06T05:19:34.274610Z"
    }
   },
   "cell_type": "code",
   "source": [
    "print(math.acos(-1))\n",
    "print(np.arccos(-1))\n",
    "print(np.arccos(np.array([0.5, 1])))"
   ],
   "id": "dbe5feb803cb292e",
   "outputs": [
    {
     "name": "stdout",
     "output_type": "stream",
     "text": [
      "3.141592653589793\n",
      "3.141592653589793\n",
      "[1.04719755 0.        ]\n"
     ]
    }
   ],
   "execution_count": 37
  },
  {
   "metadata": {},
   "cell_type": "markdown",
   "source": [
    "#### np.arctan(x)/math.atan(x)\n",
    "- 反正切函数"
   ],
   "id": "beec94eaf66afbef"
  },
  {
   "metadata": {
    "ExecuteTime": {
     "end_time": "2025-10-06T05:19:34.321056Z",
     "start_time": "2025-10-06T05:19:34.308940Z"
    }
   },
   "cell_type": "code",
   "source": [
    "print(math.atan(1))\n",
    "print(np.arctan(1))\n",
    "print(np.arctan(np.array([0, -1])))"
   ],
   "id": "6de288d0a967eb1b",
   "outputs": [
    {
     "name": "stdout",
     "output_type": "stream",
     "text": [
      "0.7853981633974483\n",
      "0.7853981633974483\n",
      "[ 0.         -0.78539816]\n"
     ]
    }
   ],
   "execution_count": 38
  },
  {
   "metadata": {},
   "cell_type": "markdown",
   "source": [
    "#### np.floor(x)\n",
    "- 返回 x 的底限"
   ],
   "id": "34580e5813effa8d"
  },
  {
   "metadata": {
    "ExecuteTime": {
     "end_time": "2025-10-06T05:19:34.397856Z",
     "start_time": "2025-10-06T05:19:34.379236Z"
    }
   },
   "cell_type": "code",
   "source": [
    "a = np.array([-1.7, -1.5, -0.2, 0.2, 1.5, 1.7, 2.0])\n",
    "print(np.floor(a))"
   ],
   "id": "2609cb8baf42730f",
   "outputs": [
    {
     "name": "stdout",
     "output_type": "stream",
     "text": [
      "[-2. -2. -1.  0.  1.  1.  2.]\n"
     ]
    }
   ],
   "execution_count": 39
  },
  {
   "metadata": {},
   "cell_type": "markdown",
   "source": [
    "#### np.ceil(x)\n",
    "- 返回 x 的上限"
   ],
   "id": "bd27c7361f21f0fd"
  },
  {
   "metadata": {
    "ExecuteTime": {
     "end_time": "2025-10-06T05:19:34.428753Z",
     "start_time": "2025-10-06T05:19:34.411672Z"
    }
   },
   "cell_type": "code",
   "source": "print(np.ceil(a))",
   "id": "7a2025fda557bd11",
   "outputs": [
    {
     "name": "stdout",
     "output_type": "stream",
     "text": [
      "[-1. -1. -0.  1.  2.  2.  2.]\n"
     ]
    }
   ],
   "execution_count": 40
  },
  {
   "metadata": {},
   "cell_type": "markdown",
   "source": [
    "#### np.exp(x)\n",
    "- 计算 e 的 x 幂次方"
   ],
   "id": "7800c5a444ef63fd"
  },
  {
   "metadata": {
    "ExecuteTime": {
     "end_time": "2025-10-06T05:19:34.475476Z",
     "start_time": "2025-10-06T05:19:34.459597Z"
    }
   },
   "cell_type": "code",
   "source": [
    "# e的0次方、e的1次方、e的2次方\n",
    "print(np.exp([0, 1, 2]))"
   ],
   "id": "bd5a3f9f56f19433",
   "outputs": [
    {
     "name": "stdout",
     "output_type": "stream",
     "text": [
      "[1.         2.71828183 7.3890561 ]\n"
     ]
    }
   ],
   "execution_count": 41
  },
  {
   "metadata": {},
   "cell_type": "markdown",
   "source": [
    "#### np.log(x)\n",
    "- 计算 x 的自然对数"
   ],
   "id": "793f50505706c45a"
  },
  {
   "metadata": {
    "ExecuteTime": {
     "end_time": "2025-10-06T05:19:34.521752Z",
     "start_time": "2025-10-06T05:19:34.505920Z"
    }
   },
   "cell_type": "code",
   "source": "print(np.log([1, np.e, np.e ** 2]))",
   "id": "29616eb59cbecac7",
   "outputs": [
    {
     "name": "stdout",
     "output_type": "stream",
     "text": [
      "[0. 1. 2.]\n"
     ]
    }
   ],
   "execution_count": 42
  },
  {
   "metadata": {},
   "cell_type": "markdown",
   "source": [
    "#### np.log2(x)\n",
    "- 计算 x 的以 2 为底的对数"
   ],
   "id": "a2e40d9b316fe5de"
  },
  {
   "metadata": {
    "ExecuteTime": {
     "end_time": "2025-10-06T05:19:34.584618Z",
     "start_time": "2025-10-06T05:19:34.570581Z"
    }
   },
   "cell_type": "code",
   "source": [
    "x = np.array([1, 2, 2 ** 4])\n",
    "print(np.log2(x))"
   ],
   "id": "2f3803a4f45a510",
   "outputs": [
    {
     "name": "stdout",
     "output_type": "stream",
     "text": [
      "[0. 1. 4.]\n"
     ]
    }
   ],
   "execution_count": 43
  },
  {
   "metadata": {},
   "cell_type": "markdown",
   "source": [
    "#### np.log10(x)\n",
    "- 计算 x 的以 10 为底的对数"
   ],
   "id": "2ea7d0144e4d5d82"
  },
  {
   "metadata": {
    "ExecuteTime": {
     "end_time": "2025-10-06T05:19:34.616085Z",
     "start_time": "2025-10-06T05:19:34.599001Z"
    }
   },
   "cell_type": "code",
   "source": "print(np.log10([1e-15, 1000]))",
   "id": "8384035528829172",
   "outputs": [
    {
     "name": "stdout",
     "output_type": "stream",
     "text": [
      "[-15.   3.]\n"
     ]
    }
   ],
   "execution_count": 44
  },
  {
   "metadata": {},
   "cell_type": "markdown",
   "source": [
    "#### np.max(arr_like, axis=None, keepdims=False)\n",
    "- 返回沿给定轴的最大值，axis没有指定时，默认为None，表示返回所有元素的最大值"
   ],
   "id": "5a1f4307e721b0ec"
  },
  {
   "metadata": {
    "ExecuteTime": {
     "end_time": "2025-10-06T05:19:34.678666Z",
     "start_time": "2025-10-06T05:19:34.663963Z"
    }
   },
   "cell_type": "code",
   "source": [
    "lst = [[[5, 0, 8],\n",
    "        [1, 2, 9]],\n",
    "       [[6, 7, 4],\n",
    "        [3, 6, 2]],\n",
    "       [[7, 7, 1],\n",
    "        [9, 1, 2]],\n",
    "       [[5, 1, 5],\n",
    "        [3, 4, 6]]]\n",
    "arr = np.array(lst)\n",
    "print(np.max(arr))\n",
    "print(np.max(arr, keepdims=True))"
   ],
   "id": "dafc8acb45928d41",
   "outputs": [
    {
     "name": "stdout",
     "output_type": "stream",
     "text": [
      "9\n",
      "[[[9]]]\n"
     ]
    }
   ],
   "execution_count": 45
  },
  {
   "metadata": {
    "ExecuteTime": {
     "end_time": "2025-10-06T05:19:34.708438Z",
     "start_time": "2025-10-06T05:19:34.700846Z"
    }
   },
   "cell_type": "code",
   "source": [
    "print(arr.shape)\n",
    "print(np.max(arr, axis=0))\n",
    "print(np.max(arr, axis=0, keepdims=True))"
   ],
   "id": "902e1ad48a224d9e",
   "outputs": [
    {
     "name": "stdout",
     "output_type": "stream",
     "text": [
      "(4, 2, 3)\n",
      "[[7 7 8]\n",
      " [9 6 9]]\n",
      "[[[7 7 8]\n",
      "  [9 6 9]]]\n"
     ]
    }
   ],
   "execution_count": 46
  },
  {
   "metadata": {
    "ExecuteTime": {
     "end_time": "2025-10-06T05:19:34.771262Z",
     "start_time": "2025-10-06T05:19:34.762535Z"
    }
   },
   "cell_type": "code",
   "source": [
    "print(np.max(arr, axis=1))\n",
    "print(np.max(arr, axis=1, keepdims=True))"
   ],
   "id": "9c7a30bdfa0cbfe",
   "outputs": [
    {
     "name": "stdout",
     "output_type": "stream",
     "text": [
      "[[5 2 9]\n",
      " [6 7 4]\n",
      " [9 7 2]\n",
      " [5 4 6]]\n",
      "[[[5 2 9]]\n",
      "\n",
      " [[6 7 4]]\n",
      "\n",
      " [[9 7 2]]\n",
      "\n",
      " [[5 4 6]]]\n"
     ]
    }
   ],
   "execution_count": 47
  },
  {
   "metadata": {
    "ExecuteTime": {
     "end_time": "2025-10-06T05:19:34.801223Z",
     "start_time": "2025-10-06T05:19:34.793834Z"
    }
   },
   "cell_type": "code",
   "source": [
    "print(np.max(arr, axis=2))\n",
    "print(np.max(arr, axis=2, keepdims=True))"
   ],
   "id": "a72d3a062acdb235",
   "outputs": [
    {
     "name": "stdout",
     "output_type": "stream",
     "text": [
      "[[8 9]\n",
      " [7 6]\n",
      " [7 9]\n",
      " [5 6]]\n",
      "[[[8]\n",
      "  [9]]\n",
      "\n",
      " [[7]\n",
      "  [6]]\n",
      "\n",
      " [[7]\n",
      "  [9]]\n",
      "\n",
      " [[5]\n",
      "  [6]]]\n"
     ]
    }
   ],
   "execution_count": 48
  },
  {
   "metadata": {},
   "cell_type": "markdown",
   "source": [
    "#### np.min(arr_like, axis=None, keepdims=False)\n",
    "- 返回沿给定轴的最小值，axis没有指定时，默认为None，表示返回所有元素的最小值"
   ],
   "id": "7f92e25d0565c1af"
  },
  {
   "metadata": {
    "ExecuteTime": {
     "end_time": "2025-10-06T05:19:34.864200Z",
     "start_time": "2025-10-06T05:19:34.857116Z"
    }
   },
   "cell_type": "code",
   "source": "print(np.min(arr, axis=2))",
   "id": "3fe283685688ef6",
   "outputs": [
    {
     "name": "stdout",
     "output_type": "stream",
     "text": [
      "[[0 1]\n",
      " [4 2]\n",
      " [1 1]\n",
      " [1 3]]\n"
     ]
    }
   ],
   "execution_count": 49
  },
  {
   "metadata": {},
   "cell_type": "markdown",
   "source": [
    "#### np.mean(arr_like, axis=None, keepdims=False)\n",
    "- 返回沿给定轴的平均值，axis没有指定时，默认为None，表示返回所有元素的平均值"
   ],
   "id": "71c0fd387948afa6"
  },
  {
   "metadata": {
    "ExecuteTime": {
     "end_time": "2025-10-06T05:19:34.910358Z",
     "start_time": "2025-10-06T05:19:34.907278Z"
    }
   },
   "cell_type": "code",
   "source": "print(np.mean(arr, axis=2))",
   "id": "9a13121654b3866",
   "outputs": [
    {
     "name": "stdout",
     "output_type": "stream",
     "text": [
      "[[4.33333333 4.        ]\n",
      " [5.66666667 3.66666667]\n",
      " [5.         4.        ]\n",
      " [3.66666667 4.33333333]]\n"
     ]
    }
   ],
   "execution_count": 50
  },
  {
   "metadata": {},
   "cell_type": "markdown",
   "source": [
    "#### np.var(arr_like, axis=None, keepdims=False)\n",
    "- 返回沿给定轴的方差，axis没有指定时，默认为None，表示返回所有元素的方差"
   ],
   "id": "87d5e352d2f86938"
  },
  {
   "metadata": {
    "ExecuteTime": {
     "end_time": "2025-10-06T05:19:34.941341Z",
     "start_time": "2025-10-06T05:19:34.925077Z"
    }
   },
   "cell_type": "code",
   "source": [
    "lis = [[0, 1, 7, 3],\n",
    "       [4, 9, 6, 2],\n",
    "       [8, 5, 11, 10]]\n",
    "arr1 = np.array(lis)\n",
    "print(np.var(arr1))\n",
    "print(np.var(arr1, axis=0))\n",
    "print(np.var(arr1, axis=1))"
   ],
   "id": "4f57e12fde0c97a2",
   "outputs": [
    {
     "name": "stdout",
     "output_type": "stream",
     "text": [
      "11.916666666666666\n",
      "[10.66666667 10.66666667  4.66666667 12.66666667]\n",
      "[7.1875 6.6875 5.25  ]\n"
     ]
    }
   ],
   "execution_count": 51
  },
  {
   "metadata": {},
   "cell_type": "markdown",
   "source": [
    "#### np.std(arr_like, axis=None, keepdims=False)\n",
    "- 返回沿给定轴的标准差，axis没有指定时，默认为None，表示返回所有元素的标准差"
   ],
   "id": "a78f038994a1b40e"
  },
  {
   "metadata": {
    "ExecuteTime": {
     "end_time": "2025-10-06T05:19:34.971940Z",
     "start_time": "2025-10-06T05:19:34.957367Z"
    }
   },
   "cell_type": "code",
   "source": [
    "arr1 = np.array(lis)\n",
    "print(np.std(arr1))\n",
    "print(np.std(arr1, axis=0))\n",
    "print(np.std(arr1, axis=1))"
   ],
   "id": "35ba106ed75d12e7",
   "outputs": [
    {
     "name": "stdout",
     "output_type": "stream",
     "text": [
      "3.452052529534663\n",
      "[3.26598632 3.26598632 2.1602469  3.55902608]\n",
      "[2.68095132 2.58602011 2.29128785]\n"
     ]
    }
   ],
   "execution_count": 52
  },
  {
   "metadata": {},
   "cell_type": "markdown",
   "source": [
    "#### np.prod(arr_like, axis=None, keepdims=np._NoValue,initial=np._NoValue)\n",
    "- 返回给定轴上数组元素的乘积\n",
    "- 默认的axis=None将计算输入数组中所有元素的乘积"
   ],
   "id": "607d0997d79d7df6"
  },
  {
   "metadata": {
    "ExecuteTime": {
     "end_time": "2025-10-06T05:19:35.033344Z",
     "start_time": "2025-10-06T05:19:35.022350Z"
    }
   },
   "cell_type": "code",
   "source": [
    "lst = [[[5, 0, 8],\n",
    "        [1, 2, 9]],\n",
    "       [[6, 7, 4],\n",
    "        [3, 6, 2]],\n",
    "       [[7, 7, 1],\n",
    "        [9, 1, 2]],\n",
    "       [[5, 1, 5],\n",
    "        [3, 4, 6]]]\n",
    "arr = np.array(lst)\n",
    "print(np.prod(arr))\n",
    "print(np.prod(arr, axis=2))\n",
    "print(np.prod(arr, axis=2, initial=10))"
   ],
   "id": "b706673a13e38fc4",
   "outputs": [
    {
     "name": "stdout",
     "output_type": "stream",
     "text": [
      "0\n",
      "[[  0  18]\n",
      " [168  36]\n",
      " [ 49  18]\n",
      " [ 25  72]]\n",
      "[[   0  180]\n",
      " [1680  360]\n",
      " [ 490  180]\n",
      " [ 250  720]]\n"
     ]
    }
   ],
   "execution_count": 53
  },
  {
   "metadata": {},
   "cell_type": "markdown",
   "source": [
    "#### np.sum(arr_like, axis=None, keepdims=np._NoValue,initial=np._NoValue)\n",
    "- 返回给定轴上数组元素的和\n",
    "- 默认的axis=None将计算输入数组中所有元素的和"
   ],
   "id": "e2deebde760dfa54"
  },
  {
   "metadata": {
    "ExecuteTime": {
     "end_time": "2025-10-06T05:19:35.064037Z",
     "start_time": "2025-10-06T05:19:35.058983Z"
    }
   },
   "cell_type": "code",
   "source": [
    "print(np.sum(arr))\n",
    "print(np.sum(arr, axis=2))\n",
    "print(np.sum(arr, axis=2, initial=10))"
   ],
   "id": "9e27e77c6fe94706",
   "outputs": [
    {
     "name": "stdout",
     "output_type": "stream",
     "text": [
      "104\n",
      "[[13 12]\n",
      " [17 11]\n",
      " [15 12]\n",
      " [11 13]]\n",
      "[[23 22]\n",
      " [27 21]\n",
      " [25 22]\n",
      " [21 23]]\n"
     ]
    }
   ],
   "execution_count": 54
  },
  {
   "metadata": {},
   "cell_type": "markdown",
   "source": "#### 中位数 median",
   "id": "7c2a3759b3db6b66"
  },
  {
   "metadata": {
    "ExecuteTime": {
     "end_time": "2025-10-06T05:19:35.125418Z",
     "start_time": "2025-10-06T05:19:35.120981Z"
    }
   },
   "cell_type": "code",
   "source": [
    "print(np.median(arr))\n",
    "print(np.median(arr, axis=0))\n",
    "print(np.median(arr, axis=2))\n",
    "# print(np.median(arr, axis=2, initial=10))"
   ],
   "id": "7bc5ba1c695581be",
   "outputs": [
    {
     "name": "stdout",
     "output_type": "stream",
     "text": [
      "4.5\n",
      "[[5.5 4.  4.5]\n",
      " [3.  3.  4. ]]\n",
      "[[5. 2.]\n",
      " [6. 3.]\n",
      " [7. 2.]\n",
      " [5. 4.]]\n"
     ]
    }
   ],
   "execution_count": 55
  },
  {
   "metadata": {},
   "cell_type": "markdown",
   "source": [
    "#### np.argmax(arr_like, axis=None)\n",
    "- 返回沿轴的最大值的索引\n",
    "- 没有指定轴，则数组扁平化处理"
   ],
   "id": "6314703d05f62b2"
  },
  {
   "metadata": {
    "ExecuteTime": {
     "end_time": "2025-10-06T05:19:35.172189Z",
     "start_time": "2025-10-06T05:19:35.165120Z"
    }
   },
   "cell_type": "code",
   "source": [
    "print(arr.flatten())\n",
    "# 没有指定轴，则数组扁平化处理\n",
    "print(np.argmax(arr))\n",
    "print(np.argmax(arr, axis=0))"
   ],
   "id": "e34356afa234c308",
   "outputs": [
    {
     "name": "stdout",
     "output_type": "stream",
     "text": [
      "[5 0 8 1 2 9 6 7 4 3 6 2 7 7 1 9 1 2 5 1 5 3 4 6]\n",
      "5\n",
      "[[2 1 0]\n",
      " [2 1 0]]\n"
     ]
    }
   ],
   "execution_count": 56
  },
  {
   "metadata": {
    "ExecuteTime": {
     "end_time": "2025-10-06T05:19:35.249888Z",
     "start_time": "2025-10-06T05:19:35.231284Z"
    }
   },
   "cell_type": "code",
   "source": "print(np.argmax(arr, axis=1))",
   "id": "541a2cda17fcbfd2",
   "outputs": [
    {
     "name": "stdout",
     "output_type": "stream",
     "text": [
      "[[0 1 1]\n",
      " [0 0 0]\n",
      " [1 0 1]\n",
      " [0 1 1]]\n"
     ]
    }
   ],
   "execution_count": 57
  },
  {
   "metadata": {},
   "cell_type": "markdown",
   "source": [
    "#### np.argmin(arr_like, axis=None)\n",
    "- 返回沿轴的最小值的索引\n",
    "- 没有指定轴，则数组扁平化处理"
   ],
   "id": "7a990da7a3816008"
  },
  {
   "metadata": {
    "ExecuteTime": {
     "end_time": "2025-10-06T05:19:35.280455Z",
     "start_time": "2025-10-06T05:19:35.269510Z"
    }
   },
   "cell_type": "code",
   "source": [
    "print(np.argmin(arr))\n",
    "print(np.argmin(arr, axis=0))"
   ],
   "id": "7718001256815877",
   "outputs": [
    {
     "name": "stdout",
     "output_type": "stream",
     "text": [
      "1\n",
      "[[0 0 2]\n",
      " [0 2 1]]\n"
     ]
    }
   ],
   "execution_count": 58
  },
  {
   "metadata": {},
   "cell_type": "markdown",
   "source": [
    "#### np.maximum(x1, x2)\n",
    "- 返回x1和x2逐个元素比较中的最大值"
   ],
   "id": "ef5a98f9913ce89e"
  },
  {
   "metadata": {
    "ExecuteTime": {
     "end_time": "2025-10-06T05:19:35.358735Z",
     "start_time": "2025-10-06T05:19:35.349209Z"
    }
   },
   "cell_type": "code",
   "source": [
    "lst1 = [5, 1, 9]\n",
    "lst2 = [[4, 3, 6],\n",
    "        [7, 1, 5]]\n",
    "print(np.greater(lst1, lst2))\n",
    "print(np.maximum(lst1, lst2))"
   ],
   "id": "b19998c19bd9e3cd",
   "outputs": [
    {
     "name": "stdout",
     "output_type": "stream",
     "text": [
      "[[ True False  True]\n",
      " [False False  True]]\n",
      "[[5 3 9]\n",
      " [7 1 9]]\n"
     ]
    }
   ],
   "execution_count": 59
  },
  {
   "metadata": {},
   "cell_type": "markdown",
   "source": [
    "#### np.minimum(x1, x2)\n",
    "- 返回x1和x2逐个元素比较中的最小值"
   ],
   "id": "c5c2d5f2c22635a3"
  },
  {
   "metadata": {
    "ExecuteTime": {
     "end_time": "2025-10-06T05:19:35.374368Z",
     "start_time": "2025-10-06T05:19:35.367716Z"
    }
   },
   "cell_type": "code",
   "source": "print(np.minimum(lst1, lst2))",
   "id": "7351a480f9e65296",
   "outputs": [
    {
     "name": "stdout",
     "output_type": "stream",
     "text": [
      "[[4 1 6]\n",
      " [5 1 5]]\n"
     ]
    }
   ],
   "execution_count": 60
  },
  {
   "metadata": {
    "ExecuteTime": {
     "end_time": "2025-10-06T05:19:35.481601Z",
     "start_time": "2025-10-06T05:19:35.476366Z"
    }
   },
   "cell_type": "code",
   "source": "",
   "id": "da3f331d5fc84e46",
   "outputs": [],
   "execution_count": 60
  }
 ],
 "metadata": {
  "kernelspec": {
   "display_name": "Python 3",
   "language": "python",
   "name": "python3"
  },
  "language_info": {
   "codemirror_mode": {
    "name": "ipython",
    "version": 2
   },
   "file_extension": ".py",
   "mimetype": "text/x-python",
   "name": "python",
   "nbconvert_exporter": "python",
   "pygments_lexer": "ipython2",
   "version": "2.7.6"
  }
 },
 "nbformat": 4,
 "nbformat_minor": 5
}
