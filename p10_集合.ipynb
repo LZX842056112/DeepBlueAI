{
 "cells": [
  {
   "metadata": {},
   "cell_type": "markdown",
   "source": [
    "#### 集合（Set）\n",
    "- 特性：可变，不是序列\n",
    "- 集合也用花括号定义，但其中的元素不是键值对\n",
    "- 集合中不能存在可变的数据\n",
    "- 集合是无序的\n",
    "- 集合的元素如果重复，会自动去重\n",
    "- 创建空集合必须用 set()，因为 {} 已用来创建空字典"
   ],
   "id": "d5fee804ff92cda9"
  },
  {
   "cell_type": "code",
   "id": "initial_id",
   "metadata": {
    "collapsed": true,
    "ExecuteTime": {
     "end_time": "2025-09-30T08:06:01.212988Z",
     "start_time": "2025-09-30T08:06:01.202272Z"
    }
   },
   "source": [
    "# 空集合\n",
    "s = set()\n",
    "print(s)\n",
    "# 空字典\n",
    "d = {}\n",
    "print(d)\n",
    "s = {789, 12.5, False, 3 + 4j, 'hello', 12.5, (1456, 'asd')}\n",
    "print(s)\n",
    "print(len(s))\n",
    "print(tuple(s))"
   ],
   "outputs": [
    {
     "name": "stdout",
     "output_type": "stream",
     "text": [
      "set()\n",
      "{}\n",
      "{False, 12.5, (3+4j), 789, (1456, 'asd'), 'hello'}\n",
      "6\n",
      "(False, 12.5, (3+4j), 789, (1456, 'asd'), 'hello')\n"
     ]
    }
   ],
   "execution_count": 1
  },
  {
   "metadata": {},
   "cell_type": "markdown",
   "source": [
    "#### set([iterable])\n",
    "- 将一个iterable对象转化为集合并返回，如果没有实参，则返回空集合"
   ],
   "id": "c5bb4aeb0dc16d5e"
  },
  {
   "metadata": {
    "ExecuteTime": {
     "end_time": "2025-09-30T08:06:01.228198Z",
     "start_time": "2025-09-30T08:06:01.214086Z"
    }
   },
   "cell_type": "code",
   "source": [
    "print(set())\n",
    "print(set(\"hel lo\"))\n",
    "print(set([1, 2, 3]))\n",
    "print(set((1, 2, 3)))\n",
    "# 字典作为一个iterable, 只有键参与迭代\n",
    "print(set({1: 2, 3: 4}))\n",
    "print('-'.join(set(\"hel lo\")))"
   ],
   "id": "cfe7930205808d51",
   "outputs": [
    {
     "name": "stdout",
     "output_type": "stream",
     "text": [
      "set()\n",
      "{'l', 'h', 'o', 'e', ' '}\n",
      "{1, 2, 3}\n",
      "{1, 2, 3}\n",
      "{1, 3}\n",
      "l-h-o-e- \n"
     ]
    }
   ],
   "execution_count": 2
  },
  {
   "metadata": {},
   "cell_type": "markdown",
   "source": "#### 集合方法",
   "id": "6a5ce3e95abf84d9"
  },
  {
   "metadata": {},
   "cell_type": "markdown",
   "source": [
    "#### set.update(*iterables)\n",
    "- 更新集合，添加来自 iterables 中的所有元素"
   ],
   "id": "b1c3601912085ef9"
  },
  {
   "metadata": {
    "ExecuteTime": {
     "end_time": "2025-09-30T08:06:01.243803Z",
     "start_time": "2025-09-30T08:06:01.229476Z"
    }
   },
   "cell_type": "code",
   "source": [
    "s = '12'\n",
    "lst = [1, '2']\n",
    "d = {1: '3', 2: '3'}\n",
    "set1 = {'1', '2', 1, 3}\n",
    "set1.update(s, lst, d)\n",
    "print(set1)"
   ],
   "id": "593360b5d8e8a43f",
   "outputs": [
    {
     "name": "stdout",
     "output_type": "stream",
     "text": [
      "{'2', 1, 2, 3, '1'}\n"
     ]
    }
   ],
   "execution_count": 3
  },
  {
   "metadata": {},
   "cell_type": "markdown",
   "source": [
    "#### set.add(elem)\n",
    "- 将指定元素添加到集合中。如果元素已经存在，则不做任何操作"
   ],
   "id": "d12e3e58a04095e1"
  },
  {
   "metadata": {
    "ExecuteTime": {
     "end_time": "2025-09-30T08:06:01.259069Z",
     "start_time": "2025-09-30T08:06:01.244996Z"
    }
   },
   "cell_type": "code",
   "source": [
    "s = {1, 2, 3}\n",
    "s.add(\"hello world\")\n",
    "print(s)"
   ],
   "id": "d31e99de9e751c2",
   "outputs": [
    {
     "name": "stdout",
     "output_type": "stream",
     "text": [
      "{1, 2, 3, 'hello world'}\n"
     ]
    }
   ],
   "execution_count": 4
  },
  {
   "metadata": {},
   "cell_type": "markdown",
   "source": [
    "#### set.remove(elem)\n",
    "- 从集合中移除指定元素。 如果指定元素不存在，则报错"
   ],
   "id": "5d69790ab4f35ff6"
  },
  {
   "metadata": {
    "ExecuteTime": {
     "end_time": "2025-09-30T08:06:01.274392Z",
     "start_time": "2025-09-30T08:06:01.259069Z"
    }
   },
   "cell_type": "code",
   "source": [
    "s = {1, 2, 3, 4}\n",
    "s.remove(3)\n",
    "print(s)"
   ],
   "id": "716ff8d9ff8ca624",
   "outputs": [
    {
     "name": "stdout",
     "output_type": "stream",
     "text": [
      "{1, 2, 4}\n"
     ]
    }
   ],
   "execution_count": 5
  },
  {
   "metadata": {},
   "cell_type": "markdown",
   "source": [
    "#### set.discard(elem)\n",
    "- 从集合中移除指定元素。 如果指定元素不存在，则不做任何操作"
   ],
   "id": "311139c6ce27ea2e"
  },
  {
   "metadata": {
    "ExecuteTime": {
     "end_time": "2025-09-30T08:06:37.421495Z",
     "start_time": "2025-09-30T08:06:37.407983Z"
    }
   },
   "cell_type": "code",
   "source": [
    "s = {1, 2, 3, 4}\n",
    "s.discard(2)\n",
    "s.discard(3)\n",
    "s.discard(3)\n",
    "print(s)"
   ],
   "id": "e823523a0870602f",
   "outputs": [
    {
     "name": "stdout",
     "output_type": "stream",
     "text": [
      "{1, 4}\n"
     ]
    }
   ],
   "execution_count": 10
  },
  {
   "metadata": {},
   "cell_type": "markdown",
   "source": [
    "#### set.pop()\n",
    "- 从集合中移除并返回任意一个元素。如果集合为空，则报错"
   ],
   "id": "88488edddf3cdf93"
  },
  {
   "metadata": {
    "ExecuteTime": {
     "end_time": "2025-09-30T08:06:01.305227Z",
     "start_time": "2025-09-30T08:06:01.291470Z"
    }
   },
   "cell_type": "code",
   "source": [
    "s = {'1', '2', 'hello', 789}\n",
    "print(s.pop())\n",
    "print(s)"
   ],
   "id": "8cee7b189a378a5d",
   "outputs": [
    {
     "name": "stdout",
     "output_type": "stream",
     "text": [
      "2\n",
      "{'1', 789, 'hello'}\n"
     ]
    }
   ],
   "execution_count": 7
  },
  {
   "metadata": {},
   "cell_type": "markdown",
   "source": [
    "#### set.copy()\n",
    "- 返回该集合的一个副本"
   ],
   "id": "f113f85d2934186b"
  },
  {
   "metadata": {
    "ExecuteTime": {
     "end_time": "2025-09-30T08:06:01.320675Z",
     "start_time": "2025-09-30T08:06:01.305227Z"
    }
   },
   "cell_type": "code",
   "source": [
    "set1 = {'1', '2', 1, 3}\n",
    "set2 = set1.copy()\n",
    "print(set2)"
   ],
   "id": "6e9beab829d83332",
   "outputs": [
    {
     "name": "stdout",
     "output_type": "stream",
     "text": [
      "{'2', 1, '1', 3}\n"
     ]
    }
   ],
   "execution_count": 8
  },
  {
   "metadata": {},
   "cell_type": "markdown",
   "source": [
    "#### set.clear()\n",
    "- 从集合中移除所有元素"
   ],
   "id": "ef973e1942702f27"
  },
  {
   "metadata": {
    "ExecuteTime": {
     "end_time": "2025-09-30T08:06:01.336409Z",
     "start_time": "2025-09-30T08:06:01.320994Z"
    }
   },
   "cell_type": "code",
   "source": [
    "s = {'1', '2', 'hello', 789}\n",
    "s.clear()\n",
    "print(s)"
   ],
   "id": "6f879a8705eb9e2c",
   "outputs": [
    {
     "name": "stdout",
     "output_type": "stream",
     "text": [
      "set()\n"
     ]
    }
   ],
   "execution_count": 9
  }
 ],
 "metadata": {
  "kernelspec": {
   "display_name": "Python 3",
   "language": "python",
   "name": "python3"
  },
  "language_info": {
   "codemirror_mode": {
    "name": "ipython",
    "version": 2
   },
   "file_extension": ".py",
   "mimetype": "text/x-python",
   "name": "python",
   "nbconvert_exporter": "python",
   "pygments_lexer": "ipython2",
   "version": "2.7.6"
  }
 },
 "nbformat": 4,
 "nbformat_minor": 5
}
