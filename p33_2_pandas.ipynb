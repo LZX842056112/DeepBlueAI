{
 "cells": [
  {
   "metadata": {
    "ExecuteTime": {
     "end_time": "2025-09-24T14:16:12.470175Z",
     "start_time": "2025-09-24T14:16:12.170360Z"
    }
   },
   "cell_type": "code",
   "source": [
    "import numpy as np\n",
    "import pandas as pd"
   ],
   "id": "7b03acedd33a4423",
   "outputs": [],
   "execution_count": 1
  },
  {
   "metadata": {},
   "cell_type": "markdown",
   "source": [
    "#### Pandas 是 Python 进行数据分析的一个扩展库，是基于 NumPy 的一种工具。能够快速得从不同格式的文件中加载数据（比如 CSV 、Excel文件等），然后将其转换为可处理的对象。\n",
    "#### Pandas 在 ndarray 的基础上构建出了两种更适用于数据分析的存储结构，分别是 Series（一维数据结构）和 DataFrame（二维数据结构）。在操作Series 和 DataFrame 时，基本上可以看成是 NumPy 中的一维和二维数组来操作，数组的绝大多数操作它们都可以适用。"
   ],
   "id": "b1c103b072975c44"
  },
  {
   "metadata": {},
   "cell_type": "markdown",
   "source": [
    "#### Pandas Series\n",
    "- Series是一种一维数据结构，每一个元素都带有一个索引，与NumPy 中的一维数组类似\n",
    "- Series 可以保存任何数据类型，比如整数、字符串、浮点数、Python 对象等，它的索引默认为整数，从 0 开始依次递增。Series的结构图，如下所示：\n",
    "\n",
    "![Series](picture/Series.png)\n"
   ],
   "id": "e4730cf43e102224"
  },
  {
   "metadata": {},
   "cell_type": "markdown",
   "source": [
    "#### pd.Series(data=None, index=None, dtype=None, name=None)\n",
    "- 创建 Series 对象\n",
    "- data：array-like, dict, or scalar value\n",
    "- index：索引必须是不可变数据类型，允许相同。不指定时，默认为从 0 开始依次递增的整数\n",
    "- dtype：数据类型，如果没有指定，则会自动推断得出\n",
    "- name：设置 Series 的名称"
   ],
   "id": "9f43d60273114ea8"
  },
  {
   "cell_type": "code",
   "id": "initial_id",
   "metadata": {
    "collapsed": true,
    "ExecuteTime": {
     "end_time": "2025-09-24T14:16:12.485907Z",
     "start_time": "2025-09-24T14:16:12.471361Z"
    }
   },
   "source": [
    "ser = pd.Series(data=78.9)\n",
    "print(ser)\n",
    "ser = pd.Series(789)\n",
    "print(ser)\n",
    "ser = pd.Series([12, 5, 6])\n",
    "print(ser)"
   ],
   "outputs": [
    {
     "name": "stdout",
     "output_type": "stream",
     "text": [
      "0    78.9\n",
      "dtype: float64\n",
      "0    789\n",
      "dtype: int64\n",
      "0    12\n",
      "1     5\n",
      "2     6\n",
      "dtype: int64\n"
     ]
    }
   ],
   "execution_count": 2
  },
  {
   "metadata": {},
   "cell_type": "markdown",
   "source": "#### str创建Series对象: 当作标量一样处理",
   "id": "67b975cbdcf3ddc5"
  },
  {
   "metadata": {
    "ExecuteTime": {
     "end_time": "2025-09-24T14:16:12.501196Z",
     "start_time": "2025-09-24T14:16:12.486490Z"
    }
   },
   "cell_type": "code",
   "source": [
    "ser = pd.Series('xyz')\n",
    "print(ser)"
   ],
   "id": "ec729791030858bd",
   "outputs": [
    {
     "name": "stdout",
     "output_type": "stream",
     "text": [
      "0    xyz\n",
      "dtype: object\n"
     ]
    }
   ],
   "execution_count": 3
  },
  {
   "metadata": {},
   "cell_type": "markdown",
   "source": "#### ndarray创建Series对象",
   "id": "5b90bf36070f85ab"
  },
  {
   "metadata": {
    "ExecuteTime": {
     "end_time": "2025-09-24T14:16:12.516845Z",
     "start_time": "2025-09-24T14:16:12.502201Z"
    }
   },
   "cell_type": "code",
   "source": [
    "ser = pd.Series([12, True, 6])\n",
    "print(ser)\n",
    "lst = [6, 7, 0, 8, 1, 2]\n",
    "arr = np.array(lst)\n",
    "ser = pd.Series(arr)\n",
    "print(ser)"
   ],
   "id": "9758ff9934332963",
   "outputs": [
    {
     "name": "stdout",
     "output_type": "stream",
     "text": [
      "0      12\n",
      "1    True\n",
      "2       6\n",
      "dtype: object\n",
      "0    6\n",
      "1    7\n",
      "2    0\n",
      "3    8\n",
      "4    1\n",
      "5    2\n",
      "dtype: int32\n"
     ]
    }
   ],
   "execution_count": 4
  },
  {
   "metadata": {},
   "cell_type": "markdown",
   "source": "#### list创建Series对象",
   "id": "109512f34c86e52"
  },
  {
   "metadata": {
    "ExecuteTime": {
     "end_time": "2025-09-24T14:16:12.532014Z",
     "start_time": "2025-09-24T14:16:12.517728Z"
    }
   },
   "cell_type": "code",
   "source": [
    "# lst = [[6, 7, 0], [8, 1, 2]]\n",
    "lst = [[6, 7, 0], [8, 1], 2, {'a': 1}]\n",
    "ser = pd.Series(lst)\n",
    "print(ser)"
   ],
   "id": "702844c12385592d",
   "outputs": [
    {
     "name": "stdout",
     "output_type": "stream",
     "text": [
      "0    [6, 7, 0]\n",
      "1       [8, 1]\n",
      "2            2\n",
      "3     {'a': 1}\n",
      "dtype: object\n"
     ]
    }
   ],
   "execution_count": 5
  },
  {
   "metadata": {},
   "cell_type": "markdown",
   "source": [
    "#### dict创建Series对象\n",
    "- 默认用字典的键作为index, 对应字典的值作为数据"
   ],
   "id": "289ab1bba4cd942d"
  },
  {
   "metadata": {
    "ExecuteTime": {
     "end_time": "2025-09-24T14:16:12.547096Z",
     "start_time": "2025-09-24T14:16:12.533325Z"
    }
   },
   "cell_type": "code",
   "source": [
    "data = {'a': 8, 'b': 5, 'c': 6, 'd': 1}\n",
    "ser = pd.Series(data)\n",
    "print(ser)"
   ],
   "id": "82ced3400fc6c391",
   "outputs": [
    {
     "name": "stdout",
     "output_type": "stream",
     "text": [
      "a    8\n",
      "b    5\n",
      "c    6\n",
      "d    1\n",
      "dtype: int64\n"
     ]
    }
   ],
   "execution_count": 6
  },
  {
   "metadata": {},
   "cell_type": "markdown",
   "source": [
    "#### 标量创建Series对象:\n",
    "- 标量值按照 index 的数量进行重复，并与其一一对应如果没有指定index, 就只有一个数据"
   ],
   "id": "96aba0c33e23a65f"
  },
  {
   "metadata": {
    "ExecuteTime": {
     "end_time": "2025-09-24T14:16:12.563177Z",
     "start_time": "2025-09-24T14:16:12.548222Z"
    }
   },
   "cell_type": "code",
   "source": [
    "lst = [6, 7, 0, 8, 1, 2]\n",
    "ser = pd.Series(lst, index=['a', 'b', 'c', 'd', 'e', 'f'])\n",
    "print(ser)"
   ],
   "id": "ec093c7b9f9eb22c",
   "outputs": [
    {
     "name": "stdout",
     "output_type": "stream",
     "text": [
      "a    6\n",
      "b    7\n",
      "c    0\n",
      "d    8\n",
      "e    1\n",
      "f    2\n",
      "dtype: int64\n"
     ]
    }
   ],
   "execution_count": 7
  },
  {
   "metadata": {},
   "cell_type": "markdown",
   "source": "#### 索引必须是不可变数据类型",
   "id": "a65c3a956964336f"
  },
  {
   "metadata": {
    "ExecuteTime": {
     "end_time": "2025-09-24T14:16:12.578702Z",
     "start_time": "2025-09-24T14:16:12.563177Z"
    }
   },
   "cell_type": "code",
   "source": [
    "lst = [6, 7, 0, 8, 1, 2]\n",
    "ser = pd.Series(lst, index=['a', 'b', 'c', (), 'e', 'f'])\n",
    "print(ser['b'])\n",
    "print(ser[()])"
   ],
   "id": "9eb88dc7ce0f83ad",
   "outputs": [
    {
     "name": "stdout",
     "output_type": "stream",
     "text": [
      "7\n",
      "8\n"
     ]
    }
   ],
   "execution_count": 8
  },
  {
   "metadata": {
    "ExecuteTime": {
     "end_time": "2025-09-24T14:16:12.594354Z",
     "start_time": "2025-09-24T14:16:12.580559Z"
    }
   },
   "cell_type": "code",
   "source": [
    "lst = [6, 7, 0, 8, 1, 2]\n",
    "ser = pd.Series(lst, index=['a', 'b', 'c', 'd', 'b', 'f'])\n",
    "print(ser['b'])\n",
    "print(ser['a':'c'])\n",
    "# KeyError: \"Cannot get left slice bound for non-unique label: 'b'\"\n",
    "# print(ser['b':'f']) "
   ],
   "id": "bc6a7f27ae453215",
   "outputs": [
    {
     "name": "stdout",
     "output_type": "stream",
     "text": [
      "b    7\n",
      "b    1\n",
      "dtype: int64\n",
      "a    6\n",
      "b    7\n",
      "c    0\n",
      "dtype: int64\n"
     ]
    }
   ],
   "execution_count": 9
  },
  {
   "metadata": {
    "ExecuteTime": {
     "end_time": "2025-09-24T14:16:12.609705Z",
     "start_time": "2025-09-24T14:16:12.595720Z"
    }
   },
   "cell_type": "code",
   "source": [
    "lst = [6, 7, 0, 8, 1, 2]\n",
    "arr = np.array(arr, dtype=np.float64)\n",
    "print(arr)\n",
    "ser = pd.Series(lst, index=['a', 'b', 'c', 'd', 'e', 'f'], dtype=np.float64)\n",
    "print(ser)"
   ],
   "id": "2fbf265d37fc2adc",
   "outputs": [
    {
     "name": "stdout",
     "output_type": "stream",
     "text": [
      "[6. 7. 0. 8. 1. 2.]\n",
      "a    6.0\n",
      "b    7.0\n",
      "c    0.0\n",
      "d    8.0\n",
      "e    1.0\n",
      "f    2.0\n",
      "dtype: float64\n"
     ]
    }
   ],
   "execution_count": 10
  },
  {
   "metadata": {
    "ExecuteTime": {
     "end_time": "2025-09-24T14:16:12.625647Z",
     "start_time": "2025-09-24T14:16:12.609705Z"
    }
   },
   "cell_type": "code",
   "source": [
    "lst = [6, 7, 0, 8.2, 1, 2]\n",
    "arr = np.array(lst, dtype=np.int32)\n",
    "print(arr)\n",
    "# ValueError: Trying to coerce float values to integers\n",
    "# ser = pd.Series(lst, index=['a', 'b', 'c', 'd', 'e', 'f'],dtype=np.int32)\n",
    "# print(ser)\n",
    "ser = pd.Series(lst, index=['a', 'b', 'c', 'd', 'e', 'f'], dtype=np.object0)\n",
    "print(ser)"
   ],
   "id": "d5adfd37172a6ace",
   "outputs": [
    {
     "name": "stdout",
     "output_type": "stream",
     "text": [
      "[6 7 0 8 1 2]\n",
      "a      6\n",
      "b      7\n",
      "c      0\n",
      "d    8.2\n",
      "e      1\n",
      "f      2\n",
      "dtype: object\n"
     ]
    }
   ],
   "execution_count": 11
  },
  {
   "metadata": {},
   "cell_type": "markdown",
   "source": [
    "#### Series 常用属性\n",
    "- dtype &emsp;&emsp;&emsp; 返回 Series 对象数据类型\n",
    "- name &emsp;&emsp;&emsp; 返回 Series 对象名称\n",
    "- shape &emsp;&emsp;&emsp; 返回 Series 对象的形状\n",
    "- size &emsp;&emsp;&emsp;&emsp;  返回 Series 中的元素数量\n",
    "- values &emsp;&emsp;&emsp; 以 ndarray 数组的形式返回 Series 中的数据\n",
    "- index &emsp;&emsp;&emsp; 返回 index"
   ],
   "id": "6559628af3731f45"
  },
  {
   "metadata": {
    "ExecuteTime": {
     "end_time": "2025-09-24T14:16:12.640925Z",
     "start_time": "2025-09-24T14:16:12.626959Z"
    }
   },
   "cell_type": "code",
   "source": [
    "lst = [6, 7, 0, 8.2, 1, 2]\n",
    "ser = pd.Series(lst, index=['a', 'b', 'c', 'd', 'e', 'f'], name='first-ser')\n",
    "print(ser)\n",
    "print(ser.dtype)\n",
    "print(ser.name)\n",
    "print(ser.shape)\n",
    "print(ser.size)\n",
    "print(ser.values)\n",
    "print(ser.index)\n",
    "print(type(ser.index) is pd.Index)\n",
    "print(ser.keys())\n"
   ],
   "id": "6666836280d8ee2b",
   "outputs": [
    {
     "name": "stdout",
     "output_type": "stream",
     "text": [
      "a    6.0\n",
      "b    7.0\n",
      "c    0.0\n",
      "d    8.2\n",
      "e    1.0\n",
      "f    2.0\n",
      "Name: first-ser, dtype: float64\n",
      "float64\n",
      "first-ser\n",
      "(6,)\n",
      "6\n",
      "[6.  7.  0.  8.2 1.  2. ]\n",
      "Index(['a', 'b', 'c', 'd', 'e', 'f'], dtype='object')\n",
      "True\n",
      "Index(['a', 'b', 'c', 'd', 'e', 'f'], dtype='object')\n"
     ]
    }
   ],
   "execution_count": 12
  },
  {
   "metadata": {
    "ExecuteTime": {
     "end_time": "2025-09-24T14:16:12.656273Z",
     "start_time": "2025-09-24T14:16:12.641842Z"
    }
   },
   "cell_type": "code",
   "source": [
    "lst = [6, 7, 0, 8.2, 1, 2]\n",
    "ser = pd.Series(lst, index=[6, 7, 8, 0, 5, 3])\n",
    "print(ser)\n",
    "print(ser.index)\n",
    "print(ser.values)\n",
    "print(ser[0])"
   ],
   "id": "46bb6a216afd6e47",
   "outputs": [
    {
     "name": "stdout",
     "output_type": "stream",
     "text": [
      "6    6.0\n",
      "7    7.0\n",
      "8    0.0\n",
      "0    8.2\n",
      "5    1.0\n",
      "3    2.0\n",
      "dtype: float64\n",
      "Int64Index([6, 7, 8, 0, 5, 3], dtype='int64')\n",
      "[6.  7.  0.  8.2 1.  2. ]\n",
      "8.2\n"
     ]
    }
   ],
   "execution_count": 13
  },
  {
   "metadata": {
    "ExecuteTime": {
     "end_time": "2025-09-24T14:16:12.671821Z",
     "start_time": "2025-09-24T14:16:12.656273Z"
    }
   },
   "cell_type": "code",
   "source": [
    "lst = [6, 7, 0, 8.2, 1, 2]\n",
    "ser = pd.Series(lst)\n",
    "print(ser)\n",
    "print(ser.index)\n",
    "print(ser.values)\n",
    "print(ser[3])"
   ],
   "id": "18d45de23a31d05c",
   "outputs": [
    {
     "name": "stdout",
     "output_type": "stream",
     "text": [
      "0    6.0\n",
      "1    7.0\n",
      "2    0.0\n",
      "3    8.2\n",
      "4    1.0\n",
      "5    2.0\n",
      "dtype: float64\n",
      "RangeIndex(start=0, stop=6, step=1)\n",
      "[6.  7.  0.  8.2 1.  2. ]\n",
      "8.2\n"
     ]
    }
   ],
   "execution_count": 14
  },
  {
   "metadata": {
    "ExecuteTime": {
     "end_time": "2025-09-24T14:16:12.687877Z",
     "start_time": "2025-09-24T14:16:12.673005Z"
    }
   },
   "cell_type": "code",
   "source": [
    "ser.name = 'first-ser'\n",
    "print(ser)"
   ],
   "id": "77dba9d6315db66f",
   "outputs": [
    {
     "name": "stdout",
     "output_type": "stream",
     "text": [
      "0    6.0\n",
      "1    7.0\n",
      "2    0.0\n",
      "3    8.2\n",
      "4    1.0\n",
      "5    2.0\n",
      "Name: first-ser, dtype: float64\n"
     ]
    }
   ],
   "execution_count": 15
  },
  {
   "metadata": {
    "ExecuteTime": {
     "end_time": "2025-09-24T14:16:12.703632Z",
     "start_time": "2025-09-24T14:16:12.687877Z"
    }
   },
   "cell_type": "code",
   "source": [
    "ser.index = list('abcdef')\n",
    "print(ser)"
   ],
   "id": "5da3fa28c1d7f646",
   "outputs": [
    {
     "name": "stdout",
     "output_type": "stream",
     "text": [
      "a    6.0\n",
      "b    7.0\n",
      "c    0.0\n",
      "d    8.2\n",
      "e    1.0\n",
      "f    2.0\n",
      "Name: first-ser, dtype: float64\n"
     ]
    }
   ],
   "execution_count": 16
  },
  {
   "metadata": {
    "ExecuteTime": {
     "end_time": "2025-09-24T14:16:12.719529Z",
     "start_time": "2025-09-24T14:16:12.704542Z"
    }
   },
   "cell_type": "code",
   "source": [
    "ser.index = pd.Index([1, 2, 3, 4, 5, 6], dtype=np.int32)\n",
    "print(ser)\n",
    "print(ser.index)"
   ],
   "id": "656c6eb78c1abc90",
   "outputs": [
    {
     "name": "stdout",
     "output_type": "stream",
     "text": [
      "1    6.0\n",
      "2    7.0\n",
      "3    0.0\n",
      "4    8.2\n",
      "5    1.0\n",
      "6    2.0\n",
      "Name: first-ser, dtype: float64\n",
      "Int64Index([1, 2, 3, 4, 5, 6], dtype='int64')\n"
     ]
    }
   ],
   "execution_count": 17
  },
  {
   "metadata": {},
   "cell_type": "markdown",
   "source": [
    "#### Series 运算\n",
    "- Series 保留了 NumPy 中的数组运算，且 Series 进行数组运算的时候，索引与值之间的映射关系不会发生改变。在进行 Series 和 Series 的运算时，把两个 Series 中索引一样的值进行运算，其他不一样的做并集，对应的值为 NaN"
   ],
   "id": "ab8a9b3f83312538"
  },
  {
   "metadata": {
    "ExecuteTime": {
     "end_time": "2025-09-24T14:16:12.735539Z",
     "start_time": "2025-09-24T14:16:12.720037Z"
    }
   },
   "cell_type": "code",
   "source": [
    "lst = [6, 7, 0, 8, 1, 2]\n",
    "ser = pd.Series(lst, index=list('abcdef'))\n",
    "print(ser + 10)"
   ],
   "id": "5ec013bfcc598508",
   "outputs": [
    {
     "name": "stdout",
     "output_type": "stream",
     "text": [
      "a    16\n",
      "b    17\n",
      "c    10\n",
      "d    18\n",
      "e    11\n",
      "f    12\n",
      "dtype: int64\n"
     ]
    }
   ],
   "execution_count": 18
  },
  {
   "metadata": {
    "ExecuteTime": {
     "end_time": "2025-09-24T14:16:12.750920Z",
     "start_time": "2025-09-24T14:16:12.735539Z"
    }
   },
   "cell_type": "code",
   "source": [
    "lst1 = [6, 7, 0, 8]\n",
    "ser1 = pd.Series(lst1, index=list('HTFK'))\n",
    "lst2 = [5, 4, 9]\n",
    "ser2 = pd.Series(lst2, index=list('FMT'))\n",
    "print(ser1 + ser2)"
   ],
   "id": "6b5a736a74bae3be",
   "outputs": [
    {
     "name": "stdout",
     "output_type": "stream",
     "text": [
      "F     5.0\n",
      "H     NaN\n",
      "K     NaN\n",
      "M     NaN\n",
      "T    16.0\n",
      "dtype: float64\n"
     ]
    }
   ],
   "execution_count": 19
  },
  {
   "metadata": {
    "ExecuteTime": {
     "end_time": "2025-09-24T14:16:12.767021Z",
     "start_time": "2025-09-24T14:16:12.751916Z"
    }
   },
   "cell_type": "code",
   "source": [
    "ta = {'a': 8, 'b': 5, 'c': 6, 'd': 1}\n",
    "ser = pd.Series(data, index=['f', 'd', 'a', 'k', 'c'])\n",
    "print(ser)"
   ],
   "id": "c47037a6e18d3f2",
   "outputs": [
    {
     "name": "stdout",
     "output_type": "stream",
     "text": [
      "f    NaN\n",
      "d    1.0\n",
      "a    8.0\n",
      "k    NaN\n",
      "c    6.0\n",
      "dtype: float64\n"
     ]
    }
   ],
   "execution_count": 20
  },
  {
   "metadata": {},
   "cell_type": "markdown",
   "source": [
    "#### 访问 Series 数据\n",
    "- 两种方式：位置索引访问、索引标签访问"
   ],
   "id": "19abb621e923ac6d"
  },
  {
   "metadata": {
    "ExecuteTime": {
     "end_time": "2025-09-24T14:16:12.783190Z",
     "start_time": "2025-09-24T14:16:12.768306Z"
    }
   },
   "cell_type": "code",
   "source": [
    "lst = [6, 7, 0, 8, 1, 2]\n",
    "ser = pd.Series(lst, index=list('abcdef'))\n",
    "print(ser[3])\n",
    "print(ser[-3])\n",
    "print(ser['d'])"
   ],
   "id": "c6d2a11ba103542d",
   "outputs": [
    {
     "name": "stdout",
     "output_type": "stream",
     "text": [
      "8\n",
      "8\n",
      "8\n"
     ]
    }
   ],
   "execution_count": 21
  },
  {
   "metadata": {
    "ExecuteTime": {
     "end_time": "2025-09-24T14:16:12.799067Z",
     "start_time": "2025-09-24T14:16:12.783190Z"
    }
   },
   "cell_type": "code",
   "source": [
    "print(ser[[3]])\n",
    "# ser[1]，ser[3]，ser[-2]的结果合并\n",
    "print(ser[[1, 3, -2]])\n",
    "print(ser[['b', 'd', 'e']])"
   ],
   "id": "2467af84c9c75df1",
   "outputs": [
    {
     "name": "stdout",
     "output_type": "stream",
     "text": [
      "d    8\n",
      "dtype: int64\n",
      "b    7\n",
      "d    8\n",
      "e    1\n",
      "dtype: int64\n",
      "b    7\n",
      "d    8\n",
      "e    1\n",
      "dtype: int64\n"
     ]
    }
   ],
   "execution_count": 22
  },
  {
   "metadata": {},
   "cell_type": "markdown",
   "source": "#### 索引标签切片时, 右边不是开区间",
   "id": "97dbbc6f2fb1f53b"
  },
  {
   "metadata": {
    "ExecuteTime": {
     "end_time": "2025-09-24T14:16:12.814199Z",
     "start_time": "2025-09-24T14:16:12.799067Z"
    }
   },
   "cell_type": "code",
   "source": [
    "print(ser[1:4:2])\n",
    "print(ser['b':'d':2])"
   ],
   "id": "f3021a517d14cd6",
   "outputs": [
    {
     "name": "stdout",
     "output_type": "stream",
     "text": [
      "b    7\n",
      "d    8\n",
      "dtype: int64\n",
      "b    7\n",
      "d    8\n",
      "dtype: int64\n"
     ]
    }
   ],
   "execution_count": 23
  },
  {
   "metadata": {
    "ExecuteTime": {
     "end_time": "2025-09-24T14:16:12.829555Z",
     "start_time": "2025-09-24T14:16:12.814199Z"
    }
   },
   "cell_type": "code",
   "source": [
    "lst = [6, 7, 0, 8, 1, 2]\n",
    "ser = pd.Series(lst, index=list('abadef'))\n",
    "print(ser['a'])\n",
    "# KeyError: \"Cannot get left slice bound for non-unique label: 'a'\"\n",
    "# print(ser['a':'e'])"
   ],
   "id": "8328683b189a7b8d",
   "outputs": [
    {
     "name": "stdout",
     "output_type": "stream",
     "text": [
      "a    6\n",
      "a    0\n",
      "dtype: int64\n"
     ]
    }
   ],
   "execution_count": 24
  },
  {
   "metadata": {
    "ExecuteTime": {
     "end_time": "2025-09-24T14:16:12.845006Z",
     "start_time": "2025-09-24T14:16:12.830441Z"
    }
   },
   "cell_type": "code",
   "source": [
    "lst = [6, 7, 0, 8, 1, 2]\n",
    "ser = pd.Series(lst, index=list('aaceef'))\n",
    "print(ser['a':'c'])\n",
    "print(ser['a':'e'])"
   ],
   "id": "aa6c5f7150723780",
   "outputs": [
    {
     "name": "stdout",
     "output_type": "stream",
     "text": [
      "a    6\n",
      "a    7\n",
      "c    0\n",
      "dtype: int64\n",
      "a    6\n",
      "a    7\n",
      "c    0\n",
      "e    8\n",
      "e    1\n",
      "dtype: int64\n"
     ]
    }
   ],
   "execution_count": 25
  },
  {
   "metadata": {
    "ExecuteTime": {
     "end_time": "2025-09-24T14:16:12.861076Z",
     "start_time": "2025-09-24T14:16:12.845006Z"
    }
   },
   "cell_type": "code",
   "source": [
    "lst = [6, 7, 0, 8, 1, 2]\n",
    "ser = pd.Series(lst, index=list('abcd1f'))\n",
    "print(ser[1])\n",
    "print(ser['1'])"
   ],
   "id": "b76aa5a8b3403b7",
   "outputs": [
    {
     "name": "stdout",
     "output_type": "stream",
     "text": [
      "7\n",
      "1\n"
     ]
    }
   ],
   "execution_count": 26
  },
  {
   "metadata": {},
   "cell_type": "markdown",
   "source": "#### 标签有数字类型时，下标不允许用",
   "id": "6eca274e26f63d3d"
  },
  {
   "metadata": {
    "ExecuteTime": {
     "end_time": "2025-09-24T14:16:12.876782Z",
     "start_time": "2025-09-24T14:16:12.863018Z"
    }
   },
   "cell_type": "code",
   "source": [
    "lst = [6, 7, 0, 8, 1, 2]\n",
    "ser = pd.Series(lst, index=['a', 'b', 'c', 'd', 1, 'f'])\n",
    "print(ser[1])\n",
    "print(ser['a'])\n",
    "# print(ser[0])"
   ],
   "id": "37f9bc0f6e27aad5",
   "outputs": [
    {
     "name": "stdout",
     "output_type": "stream",
     "text": [
      "1\n",
      "6\n"
     ]
    }
   ],
   "execution_count": 27
  },
  {
   "metadata": {
    "ExecuteTime": {
     "end_time": "2025-09-24T14:16:12.892357Z",
     "start_time": "2025-09-24T14:16:12.878163Z"
    }
   },
   "cell_type": "code",
   "source": [
    "lst = [6, 7, 0, 8, 1, 2]\n",
    "ser = pd.Series(lst, index=[5, 2, 3, 1, 4, 6])\n",
    "print(ser[1])\n",
    "print(ser[5])"
   ],
   "id": "5a2d8e9c5e5c807e",
   "outputs": [
    {
     "name": "stdout",
     "output_type": "stream",
     "text": [
      "8\n",
      "6\n"
     ]
    }
   ],
   "execution_count": 28
  },
  {
   "metadata": {},
   "cell_type": "markdown",
   "source": [
    "#### 修改 Series 索引\n",
    "- 可以通过给 index 属性重新赋值达到修改索引的目的\n",
    "- 可以通过索引和切片的方式修改数据"
   ],
   "id": "ac23e80b6994087d"
  },
  {
   "metadata": {
    "ExecuteTime": {
     "end_time": "2025-09-24T14:16:12.907121Z",
     "start_time": "2025-09-24T14:16:12.893795Z"
    }
   },
   "cell_type": "code",
   "source": [
    "lst = [6, 7, 0, 8, 1, 2]\n",
    "ser = pd.Series(lst, index=list('abcdef'))\n",
    "ser[0] = 20\n",
    "ser['b'] = 100\n",
    "ser['c':'e':2] = 30, 40\n",
    "ser[['d', 'f']] = 50\n",
    "ser['d', 'f'] = 70\n",
    "print(ser)"
   ],
   "id": "8089891e88a4a4f8",
   "outputs": [
    {
     "name": "stdout",
     "output_type": "stream",
     "text": [
      "a     20\n",
      "b    100\n",
      "c     30\n",
      "d     70\n",
      "e     40\n",
      "f     70\n",
      "dtype: int64\n"
     ]
    }
   ],
   "execution_count": 29
  },
  {
   "metadata": {
    "ExecuteTime": {
     "end_time": "2025-09-24T14:16:12.922722Z",
     "start_time": "2025-09-24T14:16:12.908281Z"
    }
   },
   "cell_type": "code",
   "source": [
    "ser['h'] = 200\n",
    "print(ser)"
   ],
   "id": "5f5245f38682a3f6",
   "outputs": [
    {
     "name": "stdout",
     "output_type": "stream",
     "text": [
      "a     20\n",
      "b    100\n",
      "c     30\n",
      "d     70\n",
      "e     40\n",
      "f     70\n",
      "h    200\n",
      "dtype: int64\n"
     ]
    }
   ],
   "execution_count": 30
  },
  {
   "metadata": {
    "ExecuteTime": {
     "end_time": "2025-09-24T14:16:12.938731Z",
     "start_time": "2025-09-24T14:16:12.922722Z"
    }
   },
   "cell_type": "code",
   "source": [
    "del ser['c'], ser['a']\n",
    "print(ser)"
   ],
   "id": "387f4499a11c0543",
   "outputs": [
    {
     "name": "stdout",
     "output_type": "stream",
     "text": [
      "b    100\n",
      "d     70\n",
      "e     40\n",
      "f     70\n",
      "h    200\n",
      "dtype: int64\n"
     ]
    }
   ],
   "execution_count": 31
  },
  {
   "metadata": {
    "ExecuteTime": {
     "end_time": "2025-09-24T14:16:12.953665Z",
     "start_time": "2025-09-24T14:16:12.939914Z"
    }
   },
   "cell_type": "code",
   "source": "",
   "id": "a42039db6ab6a860",
   "outputs": [],
   "execution_count": 31
  }
 ],
 "metadata": {
  "kernelspec": {
   "display_name": "Python 3",
   "language": "python",
   "name": "python3"
  },
  "language_info": {
   "codemirror_mode": {
    "name": "ipython",
    "version": 2
   },
   "file_extension": ".py",
   "mimetype": "text/x-python",
   "name": "python",
   "nbconvert_exporter": "python",
   "pygments_lexer": "ipython2",
   "version": "2.7.6"
  }
 },
 "nbformat": 4,
 "nbformat_minor": 5
}
