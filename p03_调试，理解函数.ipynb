{
 "cells": [
  {
   "metadata": {},
   "cell_type": "markdown",
   "source": [
    "#### PyCharm 调试操作\n",
    "- 学会看IDE的各种提示，以及掌握如何调试代码"
   ],
   "id": "126c7f28aa40fa04"
  },
  {
   "cell_type": "code",
   "id": "initial_id",
   "metadata": {
    "collapsed": true,
    "ExecuteTime": {
     "end_time": "2025-09-30T03:02:55.826807Z",
     "start_time": "2025-09-30T03:02:55.821203Z"
    }
   },
   "source": [
    "print(\"执行第1行啦\")\n",
    "print(2 / 1)\n",
    "print(\"执行第3行啦\")\n",
    "a = 123\n",
    "print(a)\n",
    "\n",
    "\n",
    "def func(left, right):\n",
    "    print(\"执行第9行啦\")\n",
    "    print(\"执行第10行啦\", left + right)\n",
    "    print(\"执行第11行啦\", left - right)\n",
    "    print(\"执行第12行啦\", left * right, left / right)\n",
    "\n",
    "\n",
    "print(\"执行第15行啦\")\n",
    "func(3, 4)\n",
    "a = 124\n",
    "print(a)\n",
    "print(\"执行第19行啦\")"
   ],
   "outputs": [
    {
     "name": "stdout",
     "output_type": "stream",
     "text": [
      "执行第1行啦\n",
      "2.0\n",
      "执行第3行啦\n",
      "123\n",
      "执行第15行啦\n",
      "执行第9行啦\n",
      "执行第10行啦 7\n",
      "执行第11行啦 -1\n",
      "执行第12行啦 12 0.75\n",
      "124\n",
      "执行第19行啦\n"
     ]
    }
   ],
   "execution_count": 1
  },
  {
   "metadata": {},
   "cell_type": "markdown",
   "source": [
    "#### 缩进\n",
    "- 行开头处的空白被用来计算该行的缩进等级，以决定语句段落的组织结构。\n",
    "- 缩进不仅仅是为了美观和可读性，而且是Python语法的一部分，不正确的缩进可能导致语法错误或逻辑错误。\n",
    "- Python中的复合语句（如条件语句、循环循环、函数定义等）通常需要使用缩进来表示代码块的层次结构。一次缩进通常是4个空格。"
   ],
   "id": "763c11076376b806"
  },
  {
   "metadata": {
    "ExecuteTime": {
     "end_time": "2025-09-30T03:02:55.842785Z",
     "start_time": "2025-09-30T03:02:55.827804Z"
    }
   },
   "cell_type": "code",
   "source": [
    "def add(left, right):\n",
    "    print(left + right)\n",
    "    print(left * right)\n",
    "\n",
    "\n",
    "add(1, 2)\n",
    "add(3, 4)"
   ],
   "id": "7fd286822e9eff46",
   "outputs": [
    {
     "name": "stdout",
     "output_type": "stream",
     "text": [
      "3\n",
      "2\n",
      "7\n",
      "12\n"
     ]
    }
   ],
   "execution_count": 2
  },
  {
   "metadata": {},
   "cell_type": "markdown",
   "source": [
    "#### 定义函数\n",
    "- def func_name([arg1 [, arg2, ... argN]]):\n",
    "- - func_body\n",
    "- 调用函数的格式:\n",
    "- - func_name([实参1, 实参2, ..., 实参N])\n",
    "- 内置函数: Python官方在builtins模块下直接定义好的函数, 它们可以直接拿来使用, 比如: print, ...\n",
    "- 形参： 函数定义时声明的参数。\n",
    "- 实参： 函数调用时传入的参数。\n",
    "- 函数只需要定义一次，就可以被多次使用。\n",
    "- 当函数被调用时，才执行函数体，定义时不执行。\n",
    "- 每次函数调用时, 会先将实参传递给形参, 然后再执行函数体"
   ],
   "id": "97348b579d95b855"
  },
  {
   "metadata": {
    "ExecuteTime": {
     "end_time": "2025-09-30T03:02:55.858329Z",
     "start_time": "2025-09-30T03:02:55.844189Z"
    }
   },
   "cell_type": "code",
   "source": [
    "def plus(num):\n",
    "    print(num + 1)\n",
    "\n",
    "\n",
    "\"\"\" 调用函数 \"\"\"\n",
    "plus(2)  # 3\n",
    "plus(5)  # 6"
   ],
   "id": "d5024891c7406d41",
   "outputs": [
    {
     "name": "stdout",
     "output_type": "stream",
     "text": [
      "3\n",
      "6\n"
     ]
    }
   ],
   "execution_count": 3
  },
  {
   "metadata": {
    "ExecuteTime": {
     "end_time": "2025-09-30T03:02:55.873925Z",
     "start_time": "2025-09-30T03:02:55.859326Z"
    }
   },
   "cell_type": "code",
   "source": [
    "f = plus\n",
    "print(plus)\n",
    "print(f)\n",
    "f(2)  # 3\n",
    "f(5)  # 6"
   ],
   "id": "28c2b69589f71fee",
   "outputs": [
    {
     "name": "stdout",
     "output_type": "stream",
     "text": [
      "<function plus at 0x00000260F17B2310>\n",
      "<function plus at 0x00000260F17B2310>\n",
      "3\n",
      "6\n"
     ]
    }
   ],
   "execution_count": 4
  },
  {
   "metadata": {},
   "cell_type": "markdown",
   "source": [
    "#### return 用法\n",
    "- 把后面跟着的对象返回给函数调用方，并结束所在的函数\n",
    "- return 后面可以跟一个对象，多个对象，甚至不跟任何对象\n",
    "- return 后面什么都不跟，等价于 return None\n",
    "- 函数执行时，没有遇到 return，也等价于 return None"
   ],
   "id": "4ee2f0d3bc53f8b5"
  },
  {
   "metadata": {
    "ExecuteTime": {
     "end_time": "2025-09-30T03:02:55.889049Z",
     "start_time": "2025-09-30T03:02:55.875168Z"
    }
   },
   "cell_type": "code",
   "source": [
    "# 返回一个对象\n",
    "def add1(left, right):\n",
    "    res = left + right\n",
    "    return res\n",
    "\n",
    "\n",
    "def add2(left, right):\n",
    "    return left + right\n",
    "\n",
    "\n",
    "print(add1(3, 4))\n",
    "print(add2(3, 4))"
   ],
   "id": "974757bd56525ce4",
   "outputs": [
    {
     "name": "stdout",
     "output_type": "stream",
     "text": [
      "7\n",
      "7\n"
     ]
    }
   ],
   "execution_count": 5
  },
  {
   "metadata": {
    "ExecuteTime": {
     "end_time": "2025-09-30T03:02:55.904179Z",
     "start_time": "2025-09-30T03:02:55.890243Z"
    }
   },
   "cell_type": "code",
   "source": [
    "# 返回多个对象, 自动打包成一个元组\n",
    "def add3(left, right):\n",
    "    res1 = left + right\n",
    "    res2 = left * right\n",
    "    return res1, res2\n",
    "\n",
    "\n",
    "def add4(left, right):\n",
    "    return left + right, left * right\n",
    "\n",
    "\n",
    "print(add3(3, 4))\n",
    "print(add4(3, 4))"
   ],
   "id": "fa0b435b86cc1bfc",
   "outputs": [
    {
     "name": "stdout",
     "output_type": "stream",
     "text": [
      "(7, 12)\n",
      "(7, 12)\n"
     ]
    }
   ],
   "execution_count": 6
  },
  {
   "metadata": {
    "ExecuteTime": {
     "end_time": "2025-09-30T03:02:55.919817Z",
     "start_time": "2025-09-30T03:02:55.904179Z"
    }
   },
   "cell_type": "code",
   "source": [
    "# return None\n",
    "def add5(left, right):\n",
    "    print(left + right)\n",
    "    return\n",
    "\n",
    "\n",
    "# return None\n",
    "def add6(left, right):\n",
    "    pass\n",
    "\n",
    "\n",
    "print(add5(3, 4))\n",
    "print(add6(3, 4))"
   ],
   "id": "4e96490b53bae2b6",
   "outputs": [
    {
     "name": "stdout",
     "output_type": "stream",
     "text": [
      "7\n",
      "None\n",
      "None\n"
     ]
    }
   ],
   "execution_count": 7
  },
  {
   "metadata": {},
   "cell_type": "markdown",
   "source": [
    "#### 参数传递\n",
    "- 传不可变对象 & 传可变对象"
   ],
   "id": "5101b7ba88bec1a5"
  },
  {
   "metadata": {
    "ExecuteTime": {
     "end_time": "2025-09-30T03:02:55.935068Z",
     "start_time": "2025-09-30T03:02:55.920831Z"
    }
   },
   "cell_type": "code",
   "source": [
    "def func(b):\n",
    "    print(id(a), a)\n",
    "    print(id(b), b)\n",
    "\n",
    "\n",
    "a = 789\n",
    "func(a)"
   ],
   "id": "86c278a5ce2709b1",
   "outputs": [
    {
     "name": "stdout",
     "output_type": "stream",
     "text": [
      "2615391368656 789\n",
      "2615391368656 789\n"
     ]
    }
   ],
   "execution_count": 8
  },
  {
   "metadata": {
    "ExecuteTime": {
     "end_time": "2025-09-30T03:02:55.950278Z",
     "start_time": "2025-09-30T03:02:55.936093Z"
    }
   },
   "cell_type": "code",
   "source": [
    "def func(b):\n",
    "    print(id(a), a)\n",
    "    print(id(b), b)\n",
    "\n",
    "\n",
    "a = [789]\n",
    "func(a)"
   ],
   "id": "5b9840ede93ea56f",
   "outputs": [
    {
     "name": "stdout",
     "output_type": "stream",
     "text": [
      "2615391255104 [789]\n",
      "2615391255104 [789]\n"
     ]
    }
   ],
   "execution_count": 9
  },
  {
   "metadata": {},
   "cell_type": "markdown",
   "source": [
    "#### 参数分类\n",
    "#### 必需参数\n",
    "- 必须接收一个实参的形参，多了少了都不行"
   ],
   "id": "102d7c3265fa8cac"
  },
  {
   "metadata": {
    "ExecuteTime": {
     "end_time": "2025-09-30T03:02:55.966394Z",
     "start_time": "2025-09-30T03:02:55.951498Z"
    }
   },
   "cell_type": "code",
   "source": [
    "def func(a, b):\n",
    "    print(a - b)\n",
    "\n",
    "\n",
    "func(3, 4)\n",
    "func(3, b=4)\n",
    "func(a=3, b=4)"
   ],
   "id": "649fb17c2bf45f30",
   "outputs": [
    {
     "name": "stdout",
     "output_type": "stream",
     "text": [
      "-1\n",
      "-1\n",
      "-1\n"
     ]
    }
   ],
   "execution_count": 10
  },
  {
   "metadata": {},
   "cell_type": "markdown",
   "source": [
    "#### 位置参数\n",
    "- 按照从左往右的顺序将实参传递给对应的形参"
   ],
   "id": "64768d43242eeb94"
  },
  {
   "metadata": {
    "ExecuteTime": {
     "end_time": "2025-09-30T03:02:55.981970Z",
     "start_time": "2025-09-30T03:02:55.967471Z"
    }
   },
   "cell_type": "code",
   "source": [
    "def func(a, b):\n",
    "    print(a - b)\n",
    "\n",
    "\n",
    "func(3, 4)  # -1\n",
    "func(4, 3)  # 1"
   ],
   "id": "c53ca4b4553460b2",
   "outputs": [
    {
     "name": "stdout",
     "output_type": "stream",
     "text": [
      "-1\n",
      "1\n"
     ]
    }
   ],
   "execution_count": 11
  },
  {
   "metadata": {},
   "cell_type": "markdown",
   "source": [
    "#### 关键字参数\n",
    "- 实参会按照指定的名称传递给同名的形参(和顺序无关)\n",
    "- 注意: 关键字参数必须放在所有位置参数的后面"
   ],
   "id": "a07565b1525a37f8"
  },
  {
   "metadata": {
    "ExecuteTime": {
     "end_time": "2025-09-30T03:02:55.997898Z",
     "start_time": "2025-09-30T03:02:55.983008Z"
    }
   },
   "cell_type": "code",
   "source": [
    "def func(a, b):\n",
    "    print(a - b)\n",
    "\n",
    "\n",
    "func(a=3, b=4)  # -1\n",
    "func(b=4, a=3)  # -1\n",
    "func(3, b=4)  # -1"
   ],
   "id": "64b61b7bfe1cdf8d",
   "outputs": [
    {
     "name": "stdout",
     "output_type": "stream",
     "text": [
      "-1\n",
      "-1\n",
      "-1\n"
     ]
    }
   ],
   "execution_count": 12
  },
  {
   "metadata": {},
   "cell_type": "markdown",
   "source": [
    "#### 默认参数\n",
    "- 有接收到实参，使用实参，没有接收到实参时，才会使用默认值"
   ],
   "id": "711650e72fdf0847"
  },
  {
   "metadata": {
    "ExecuteTime": {
     "end_time": "2025-09-30T03:02:56.013351Z",
     "start_time": "2025-09-30T03:02:55.999158Z"
    }
   },
   "cell_type": "code",
   "source": [
    "def func(a, b=4):\n",
    "    print(a - b)\n",
    "\n",
    "\n",
    "func(3)  # -1\n",
    "func(3, 5)  # -2"
   ],
   "id": "12fdedc98435e2c0",
   "outputs": [
    {
     "name": "stdout",
     "output_type": "stream",
     "text": [
      "-1\n",
      "-2\n"
     ]
    }
   ],
   "execution_count": 13
  }
 ],
 "metadata": {
  "kernelspec": {
   "display_name": "Python 3",
   "language": "python",
   "name": "python3"
  },
  "language_info": {
   "codemirror_mode": {
    "name": "ipython",
    "version": 2
   },
   "file_extension": ".py",
   "mimetype": "text/x-python",
   "name": "python",
   "nbconvert_exporter": "python",
   "pygments_lexer": "ipython2",
   "version": "2.7.6"
  }
 },
 "nbformat": 4,
 "nbformat_minor": 5
}
