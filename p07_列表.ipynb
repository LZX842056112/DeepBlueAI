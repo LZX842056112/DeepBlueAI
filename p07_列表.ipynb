{
 "cells": [
  {
   "metadata": {},
   "cell_type": "markdown",
   "source": [
    "#### 列表（List）\n",
    "- 特性：可变，是序列\n",
    "- 列表用方括号定义，元素没有类型限制"
   ],
   "id": "5ac7169154d77071"
  },
  {
   "cell_type": "code",
   "id": "initial_id",
   "metadata": {
    "collapsed": true,
    "ExecuteTime": {
     "end_time": "2025-10-01T07:01:53.439059Z",
     "start_time": "2025-10-01T07:01:53.427947Z"
    }
   },
   "source": [
    "list1 = ['China', 1997, 2000]\n",
    "list2 = [1, 2, 3, 4, 5]\n",
    "list3 = [\"a\", \"b\", \"c\", \"d\"]\n",
    "list4 = ['red', 'green', 'blue', 'yellow', 'white', 'black']\n",
    "lst = []\n",
    "print(lst)\n",
    "print(len(lst))\n",
    "lst = [4864, 'adsasd', [True, 2556.56], 3 + 4j]\n",
    "print(lst)\n",
    "print(len(lst))"
   ],
   "outputs": [
    {
     "name": "stdout",
     "output_type": "stream",
     "text": [
      "[]\n",
      "0\n",
      "[4864, 'adsasd', [True, 2556.56], (3+4j)]\n",
      "4\n"
     ]
    }
   ],
   "execution_count": 1
  },
  {
   "metadata": {
    "ExecuteTime": {
     "end_time": "2025-10-01T07:01:53.454501Z",
     "start_time": "2025-10-01T07:01:53.440190Z"
    }
   },
   "cell_type": "code",
   "source": [
    "print([1233, '645', \"\"\"52\"\"\", True == 1, 3 + 4j, 45.52])\n",
    "print(list({1: 2, 3: 4}))\n",
    "print(list({'a', 'b', 'c', 789, 456}))"
   ],
   "id": "cc8884b502549ef5",
   "outputs": [
    {
     "name": "stdout",
     "output_type": "stream",
     "text": [
      "[1233, '645', '52', True, (3+4j), 45.52]\n",
      "[1, 3]\n",
      "['a', 'b', 'c', 456, 789]\n"
     ]
    }
   ],
   "execution_count": 2
  },
  {
   "metadata": {},
   "cell_type": "markdown",
   "source": [
    "#### 修改列表\n",
    "- 列表是可变的，可以通过索引和切片的方式来对列表的元素重新赋值"
   ],
   "id": "804c6a88d241d689"
  },
  {
   "metadata": {
    "ExecuteTime": {
     "end_time": "2025-10-01T07:01:53.469224Z",
     "start_time": "2025-10-01T07:01:53.455497Z"
    }
   },
   "cell_type": "code",
   "source": [
    "lst[0:1] = ['abc']\n",
    "print(lst)\n",
    "lst[0:1] = (123,)\n",
    "print(lst)\n",
    "lst[0:1] = 'qw'\n",
    "print(lst)\n",
    "lst[1::2] = '12'\n",
    "print(lst)\n",
    "lst[0:2] = ''\n",
    "print(lst)\n",
    "lst[len(lst):] = '🐉🐍'\n",
    "print(lst)"
   ],
   "id": "5d3a9bd6939c3de2",
   "outputs": [
    {
     "name": "stdout",
     "output_type": "stream",
     "text": [
      "['abc', 'adsasd', [True, 2556.56], (3+4j)]\n",
      "[123, 'adsasd', [True, 2556.56], (3+4j)]\n",
      "['q', 'w', 'adsasd', [True, 2556.56], (3+4j)]\n",
      "['q', '1', 'adsasd', '2', (3+4j)]\n",
      "['adsasd', '2', (3+4j)]\n",
      "['adsasd', '2', (3+4j), '🐉', '🐍']\n"
     ]
    }
   ],
   "execution_count": 3
  },
  {
   "metadata": {},
   "cell_type": "markdown",
   "source": [
    "- 针对一个元素:\n",
    "- 格式: lst[index] = object"
   ],
   "id": "9960d2216e63bc08"
  },
  {
   "metadata": {
    "ExecuteTime": {
     "end_time": "2025-10-01T07:01:53.484907Z",
     "start_time": "2025-10-01T07:01:53.469543Z"
    }
   },
   "cell_type": "code",
   "source": [
    "lst = [567, 'hello', 78.9, 'world', False]\n",
    "lst[2] = 9.87\n",
    "lst[3] = 'dlrow'\n",
    "print(lst)"
   ],
   "id": "7d550687e3955d1d",
   "outputs": [
    {
     "name": "stdout",
     "output_type": "stream",
     "text": [
      "[567, 'hello', 9.87, 'dlrow', False]\n"
     ]
    }
   ],
   "execution_count": 4
  },
  {
   "metadata": {},
   "cell_type": "markdown",
   "source": [
    "- 针对多个元素:\n",
    "- 格式: lst[start: end: step] = iterable"
   ],
   "id": "e645b8cbbb34e9ad"
  },
  {
   "metadata": {
    "ExecuteTime": {
     "end_time": "2025-10-01T07:01:53.500489Z",
     "start_time": "2025-10-01T07:01:53.484907Z"
    }
   },
   "cell_type": "code",
   "source": [
    "lst = [567, 'hello', 78.9, 'world', False]\n",
    "# 1 vs 1\n",
    "lst[2:3] = [9.87]\n",
    "print(lst)\n",
    "\n",
    "# n vs n\n",
    "lst = [567, 'hello', 78.9, 'world', False]\n",
    "lst[2:4] = [9.87, 'dlrow']\n",
    "print(lst)\n",
    "\n",
    "lst[2:4] = (9.87, 'dlrow')\n",
    "print(lst)\n",
    "\n",
    "lst[2:4] = 9.87, 'dlrow'\n",
    "print(lst)"
   ],
   "id": "ae8826d98a11d83a",
   "outputs": [
    {
     "name": "stdout",
     "output_type": "stream",
     "text": [
      "[567, 'hello', 9.87, 'world', False]\n",
      "[567, 'hello', 9.87, 'dlrow', False]\n",
      "[567, 'hello', 9.87, 'dlrow', False]\n",
      "[567, 'hello', 9.87, 'dlrow', False]\n"
     ]
    }
   ],
   "execution_count": 5
  },
  {
   "metadata": {
    "ExecuteTime": {
     "end_time": "2025-10-01T07:01:53.515709Z",
     "start_time": "2025-10-01T07:01:53.500489Z"
    }
   },
   "cell_type": "code",
   "source": [
    "# step为1, 可以 1 vs n\n",
    "lst = [567, 'hello', 78.9, 'world', False]\n",
    "lst[2:3] = 7, 8, 9\n",
    "print(lst)\n",
    "\n",
    "# step为1, 可以 n vs m\n",
    "lst = [567, 'hello', 78.9, 'world', False]\n",
    "lst[2:4] = 1, 2, 3\n",
    "print(lst)\n",
    "\n",
    "lst = [567, 'hello', 78.9, 'world', False]\n",
    "lst[1:4] = 1, 2\n",
    "print(lst)"
   ],
   "id": "df9dfe61a823b2f5",
   "outputs": [
    {
     "name": "stdout",
     "output_type": "stream",
     "text": [
      "[567, 'hello', 7, 8, 9, 'world', False]\n",
      "[567, 'hello', 1, 2, 3, False]\n",
      "[567, 1, 2, False]\n"
     ]
    }
   ],
   "execution_count": 6
  },
  {
   "metadata": {
    "ExecuteTime": {
     "end_time": "2025-10-01T07:01:53.531442Z",
     "start_time": "2025-10-01T07:01:53.516948Z"
    }
   },
   "cell_type": "code",
   "source": [
    "# step为1, 可以 1 vs 0\n",
    "lst = [567, 'hello', 78.9, 'world', False]\n",
    "lst[2:3] = ''\n",
    "print(lst)\n",
    "\n",
    "# step为1, 可以 n vs 0\n",
    "lst = [567, 'hello', 78.9, 'world', False]\n",
    "lst[1:4] = []\n",
    "print(lst)\n",
    "\n",
    "# step不为1, 只能 n vs n\n",
    "# ValueError: attempt to assign sequence of size 2 to extended slice of size 1\n",
    "# lst[1::2] = ['a']\n",
    "lst = [567, 'hello', 78.9, 'world', False]\n",
    "lst[1::2] = ['a', 'b']\n",
    "print(lst)"
   ],
   "id": "ff17b26682130269",
   "outputs": [
    {
     "name": "stdout",
     "output_type": "stream",
     "text": [
      "[567, 'hello', 'world', False]\n",
      "[567, False]\n",
      "[567, 'a', 78.9, 'b', False]\n"
     ]
    }
   ],
   "execution_count": 7
  },
  {
   "metadata": {
    "ExecuteTime": {
     "end_time": "2025-10-01T07:01:53.546638Z",
     "start_time": "2025-10-01T07:01:53.531442Z"
    }
   },
   "cell_type": "code",
   "source": [
    "# 插入一个元素\n",
    "lst = [567, 'hello', 78.9, 'world', False]\n",
    "lst[0:0] = ['a']\n",
    "lst[1:1] = ['b']\n",
    "lst[len(lst):] = ['c']\n",
    "print(lst)"
   ],
   "id": "df054943bd297bca",
   "outputs": [
    {
     "name": "stdout",
     "output_type": "stream",
     "text": [
      "['a', 'b', 567, 'hello', 78.9, 'world', False, 'c']\n"
     ]
    }
   ],
   "execution_count": 8
  },
  {
   "metadata": {
    "ExecuteTime": {
     "end_time": "2025-10-01T07:01:53.561942Z",
     "start_time": "2025-10-01T07:01:53.547879Z"
    }
   },
   "cell_type": "code",
   "source": [
    "# 插入多个元素\n",
    "lst = [567, 'hello', 78.9, 'world', False]\n",
    "lst[0:0] = ['a', 'b', 'c']\n",
    "lst[1:1] = ['d', 'f']\n",
    "lst[len(lst):] = ['x', 'y', 'z']\n",
    "print(lst)"
   ],
   "id": "ff0a5531f74c64b5",
   "outputs": [
    {
     "name": "stdout",
     "output_type": "stream",
     "text": [
      "['a', 'd', 'f', 'b', 'c', 567, 'hello', 78.9, 'world', False, 'x', 'y', 'z']\n"
     ]
    }
   ],
   "execution_count": 9
  },
  {
   "metadata": {},
   "cell_type": "markdown",
   "source": [
    "#### list([iterable])\n",
    "- 将一个iterable对象转化为列表并返回，如果没有实参，则返回空列表"
   ],
   "id": "4354d1a9a41fdf64"
  },
  {
   "metadata": {
    "ExecuteTime": {
     "end_time": "2025-10-01T07:01:53.577432Z",
     "start_time": "2025-10-01T07:01:53.562380Z"
    }
   },
   "cell_type": "code",
   "source": [
    "print(list())\n",
    "print(list(\"hello\"))\n",
    "print(list((1, 2, 3)))\n",
    "# 字典作为一个iterable, 只有键参与迭代\n",
    "print(list({1: 2, 3: 4}))\n",
    "print(list({'a', 'b', 'c', 789, 456}))"
   ],
   "id": "7686eaba99d1fa2f",
   "outputs": [
    {
     "name": "stdout",
     "output_type": "stream",
     "text": [
      "[]\n",
      "['h', 'e', 'l', 'l', 'o']\n",
      "[1, 2, 3]\n",
      "[1, 3]\n",
      "['a', 'b', 'c', 456, 789]\n"
     ]
    }
   ],
   "execution_count": 10
  },
  {
   "metadata": {
    "ExecuteTime": {
     "end_time": "2025-10-01T07:01:53.593267Z",
     "start_time": "2025-10-01T07:01:53.577432Z"
    }
   },
   "cell_type": "code",
   "source": [
    "lst = list('123')\n",
    "print(lst)\n",
    "print(type(lst))\n",
    "s = str(lst)\n",
    "print(s)\n",
    "print(type(s))\n",
    "s = ' '.join(lst)\n",
    "print(s)"
   ],
   "id": "4576eacd969d70b2",
   "outputs": [
    {
     "name": "stdout",
     "output_type": "stream",
     "text": [
      "['1', '2', '3']\n",
      "<class 'list'>\n",
      "['1', '2', '3']\n",
      "<class 'str'>\n",
      "1 2 3\n"
     ]
    }
   ],
   "execution_count": 11
  },
  {
   "metadata": {},
   "cell_type": "markdown",
   "source": "#### 列表方法",
   "id": "9721bc74e5c702f1"
  },
  {
   "metadata": {},
   "cell_type": "markdown",
   "source": [
    "#### list.append(object)\n",
    "- 往列表中追加一个元素，无返回值，相当于 lst[len(lst):] =[object]"
   ],
   "id": "85948e96df40f8a9"
  },
  {
   "metadata": {
    "ExecuteTime": {
     "end_time": "2025-10-01T07:01:53.608939Z",
     "start_time": "2025-10-01T07:01:53.593267Z"
    }
   },
   "cell_type": "code",
   "source": [
    "lst = [1, 2, 3]\n",
    "lst.append(4)\n",
    "print(lst)\n",
    "lst.append([5, 6, 'qwe', False])\n",
    "print(lst)"
   ],
   "id": "1eef69798e3b1a99",
   "outputs": [
    {
     "name": "stdout",
     "output_type": "stream",
     "text": [
      "[1, 2, 3, 4]\n",
      "[1, 2, 3, 4, [5, 6, 'qwe', False]]\n"
     ]
    }
   ],
   "execution_count": 12
  },
  {
   "metadata": {},
   "cell_type": "markdown",
   "source": [
    "#### list.extend(iterable)\n",
    "- 使用 iterable 中的所有元素来扩展列表，无返回值，相当于lst[len(lst):] = iterable"
   ],
   "id": "607c8ba1635a3220"
  },
  {
   "metadata": {
    "ExecuteTime": {
     "end_time": "2025-10-01T07:01:53.624773Z",
     "start_time": "2025-10-01T07:01:53.609337Z"
    }
   },
   "cell_type": "code",
   "source": [
    "lst = [1, 2, 3]\n",
    "lst.extend([5, 6])\n",
    "print(lst)\n",
    "\n",
    "lst.extend([5, 'a'])\n",
    "print(lst)\n",
    "print(lst[len(lst):])"
   ],
   "id": "b8c7bf1dab06840b",
   "outputs": [
    {
     "name": "stdout",
     "output_type": "stream",
     "text": [
      "[1, 2, 3, 5, 6]\n",
      "[1, 2, 3, 5, 6, 5, 'a']\n",
      "[]\n"
     ]
    }
   ],
   "execution_count": 13
  },
  {
   "metadata": {},
   "cell_type": "markdown",
   "source": [
    "#### list.insert(index, object)\n",
    "- 在指定位置插入一个元素，无返回值\n",
    "- index：要插入元素的位置\n",
    "- object：要插入的元素"
   ],
   "id": "8530cb5be1412fca"
  },
  {
   "metadata": {
    "ExecuteTime": {
     "end_time": "2025-10-01T07:01:53.640620Z",
     "start_time": "2025-10-01T07:01:53.625892Z"
    }
   },
   "cell_type": "code",
   "source": [
    "lst = [1, 2, 3, 4]\n",
    "lst.insert(1, ['a', 'b'])\n",
    "print(lst)\n",
    "\n",
    "lst.insert(1, 888)\n",
    "lst.insert(-1, 888)\n",
    "print(lst)"
   ],
   "id": "cad0589ae2b52479",
   "outputs": [
    {
     "name": "stdout",
     "output_type": "stream",
     "text": [
      "[1, ['a', 'b'], 2, 3, 4]\n",
      "[1, 888, ['a', 'b'], 2, 3, 888, 4]\n"
     ]
    }
   ],
   "execution_count": 14
  },
  {
   "metadata": {},
   "cell_type": "markdown",
   "source": [
    "#### list.sort( [key], reverse=False)\n",
    "- 对原列表进行排序，无返回值\n",
    "- key：指定一个函数，在排序之前，列表每个元素先应用这个函数，再根据函数的返回值对原数据进行排序\n",
    "- reverse：默认为 False，代表升序，指定为 True 则为降序"
   ],
   "id": "75d4805077662ff8"
  },
  {
   "metadata": {
    "ExecuteTime": {
     "end_time": "2025-10-01T07:01:53.655808Z",
     "start_time": "2025-10-01T07:01:53.640620Z"
    }
   },
   "cell_type": "code",
   "source": [
    "lst = [1, 2, -5, -3]\n",
    "# 升序排序\n",
    "lst.sort()\n",
    "print(lst)\n",
    "\n",
    "# 降序排序\n",
    "lst.sort(reverse=True)\n",
    "print(lst)"
   ],
   "id": "5b3e90b82afd20cd",
   "outputs": [
    {
     "name": "stdout",
     "output_type": "stream",
     "text": [
      "[-5, -3, 1, 2]\n",
      "[2, 1, -3, -5]\n"
     ]
    }
   ],
   "execution_count": 15
  },
  {
   "metadata": {},
   "cell_type": "markdown",
   "source": [
    "- 字符串在大小比较时是逐个字符进行比较的\n",
    "- 根据字符在编码表里的位置"
   ],
   "id": "c7753f9d8dff1d8b"
  },
  {
   "metadata": {
    "ExecuteTime": {
     "end_time": "2025-10-01T07:01:53.671605Z",
     "start_time": "2025-10-01T07:01:53.657021Z"
    }
   },
   "cell_type": "code",
   "source": [
    "lst = ['b', 'f', 'a', '1', ' ', '好']\n",
    "lst.sort()\n",
    "print(lst)\n",
    "\n",
    "lst.sort(reverse=True)\n",
    "print(lst)\n",
    "\n",
    "lst = ['10', '2', '1', '-3', '101']\n",
    "lst.sort()\n",
    "print(lst)"
   ],
   "id": "71d4aa241cf23b9c",
   "outputs": [
    {
     "name": "stdout",
     "output_type": "stream",
     "text": [
      "[' ', '1', 'a', 'b', 'f', '好']\n",
      "['好', 'f', 'b', 'a', '1', ' ']\n",
      "['-3', '1', '10', '101', '2']\n"
     ]
    }
   ],
   "execution_count": 16
  },
  {
   "metadata": {
    "ExecuteTime": {
     "end_time": "2025-10-01T07:01:53.686228Z",
     "start_time": "2025-10-01T07:01:53.671605Z"
    }
   },
   "cell_type": "code",
   "source": [
    "lst = [['a', 'z'], ['f'], ['a', 'x'], ['1'], [' '], ['好']]\n",
    "lst.sort()\n",
    "print(lst)\n",
    "\n",
    "lst.sort(reverse=True)\n",
    "print(lst)"
   ],
   "id": "d348b5ba1a62c4e5",
   "outputs": [
    {
     "name": "stdout",
     "output_type": "stream",
     "text": [
      "[[' '], ['1'], ['a', 'x'], ['a', 'z'], ['f'], ['好']]\n",
      "[['好'], ['f'], ['a', 'z'], ['a', 'x'], ['1'], [' ']]\n"
     ]
    }
   ],
   "execution_count": 17
  },
  {
   "metadata": {
    "ExecuteTime": {
     "end_time": "2025-10-01T07:01:53.701627Z",
     "start_time": "2025-10-01T07:01:53.687217Z"
    }
   },
   "cell_type": "code",
   "source": [
    "lst = [('b',), ('f',), ('a', 5), ('1',), (' ',), ('a', 1)]\n",
    "lst.sort()\n",
    "print(lst)\n",
    "\n",
    "lst.sort(reverse=True)\n",
    "print(lst)"
   ],
   "id": "d8913316b134eae",
   "outputs": [
    {
     "name": "stdout",
     "output_type": "stream",
     "text": [
      "[(' ',), ('1',), ('a', 1), ('a', 5), ('b',), ('f',)]\n",
      "[('f',), ('b',), ('a', 5), ('a', 1), ('1',), (' ',)]\n"
     ]
    }
   ],
   "execution_count": 18
  },
  {
   "metadata": {
    "ExecuteTime": {
     "end_time": "2025-10-01T07:01:53.716772Z",
     "start_time": "2025-10-01T07:01:53.701627Z"
    }
   },
   "cell_type": "code",
   "source": [
    "lst = [True, False, True]\n",
    "lst.sort()\n",
    "print(lst)\n",
    "\n",
    "lst.sort(reverse=True)\n",
    "print(lst)"
   ],
   "id": "b7067c2a4adbb32d",
   "outputs": [
    {
     "name": "stdout",
     "output_type": "stream",
     "text": [
      "[False, True, True]\n",
      "[True, True, False]\n"
     ]
    }
   ],
   "execution_count": 19
  },
  {
   "metadata": {},
   "cell_type": "markdown",
   "source": [
    "- chr(i) 返回Unicode码位为指定整数的字符\n",
    "- ord(c) 返回指定字符对应的Unicode码位"
   ],
   "id": "5ac4b3dcad8ae054"
  },
  {
   "metadata": {
    "ExecuteTime": {
     "end_time": "2025-10-01T07:01:53.732385Z",
     "start_time": "2025-10-01T07:01:53.717939Z"
    }
   },
   "cell_type": "code",
   "source": [
    "print(chr(97))  # 'a'\n",
    "print(ord('a'))  # 97"
   ],
   "id": "18acb78e8bf05d01",
   "outputs": [
    {
     "name": "stdout",
     "output_type": "stream",
     "text": [
      "a\n",
      "97\n"
     ]
    }
   ],
   "execution_count": 20
  },
  {
   "metadata": {
    "ExecuteTime": {
     "end_time": "2025-10-01T07:01:53.747555Z",
     "start_time": "2025-10-01T07:01:53.733678Z"
    }
   },
   "cell_type": "code",
   "source": [
    "# abs(number) 内置函数，返回number的绝对值\n",
    "print(abs(9))  # 9\n",
    "print(abs(9.87))  # 9.87\n",
    "print(abs(0))  # 0\n",
    "print(abs(-9))  # 9\n",
    "print(abs(-9.87))  # 9.87\n",
    "print(abs(True))  # 1\n",
    "print(abs(False))  # 0\n",
    "# 复数的绝对值公式为：|a + bj| = sqrt(a^2 + b^2)\n",
    "print(abs(3 + 4j))  # 求模, 5.0"
   ],
   "id": "784f6b4c7db4c0d0",
   "outputs": [
    {
     "name": "stdout",
     "output_type": "stream",
     "text": [
      "9\n",
      "9.87\n",
      "0\n",
      "9\n",
      "9.87\n",
      "1\n",
      "0\n",
      "5.0\n"
     ]
    }
   ],
   "execution_count": 21
  },
  {
   "metadata": {},
   "cell_type": "markdown",
   "source": [
    "- 对lst中的元素按照绝对值的大小降序排序\n",
    "- 把lst中的每个元素依次作为实参传递给key所指定的函数去调用"
   ],
   "id": "2226c313220ddecc"
  },
  {
   "metadata": {
    "ExecuteTime": {
     "end_time": "2025-10-01T07:01:53.763557Z",
     "start_time": "2025-10-01T07:01:53.748544Z"
    }
   },
   "cell_type": "code",
   "source": [
    "'''\n",
    "abs(1), abs(2), abs(-5), abs(-3)\n",
    "返回值分别为: 1, 2, 5, 3\n",
    "根据返回值的大小对原数据进行排序\n",
    "'''\n",
    "lst = [1, 2, -5, -3]\n",
    "lst.sort(key=abs)\n",
    "print(lst)\n",
    "\n",
    "lst.sort(key=abs, reverse=True)\n",
    "print(lst)"
   ],
   "id": "63ac61c9af785fe8",
   "outputs": [
    {
     "name": "stdout",
     "output_type": "stream",
     "text": [
      "[1, 2, -3, -5]\n",
      "[-5, -3, 2, 1]\n"
     ]
    }
   ],
   "execution_count": 22
  },
  {
   "metadata": {
    "ExecuteTime": {
     "end_time": "2025-10-01T07:01:53.778944Z",
     "start_time": "2025-10-01T07:01:53.763557Z"
    }
   },
   "cell_type": "code",
   "source": [
    "def fun(num):\n",
    "    if num < 0:\n",
    "        return -num\n",
    "    return num\n",
    "\n",
    "\n",
    "lst = [5, -9, 1, -6]\n",
    "lst.sort(key=fun)\n",
    "print(lst)\n",
    "\n",
    "lst.sort(key=fun, reverse=True)\n",
    "print(lst)"
   ],
   "id": "164b25ba7442ff6f",
   "outputs": [
    {
     "name": "stdout",
     "output_type": "stream",
     "text": [
      "[1, 5, -6, -9]\n",
      "[-9, -6, 5, 1]\n"
     ]
    }
   ],
   "execution_count": 23
  },
  {
   "metadata": {
    "ExecuteTime": {
     "end_time": "2025-10-01T07:01:53.795099Z",
     "start_time": "2025-10-01T07:01:53.779933Z"
    }
   },
   "cell_type": "code",
   "source": [
    "lst = ['4864', '3', '132']\n",
    "lst.sort(key=int)\n",
    "print(lst)\n",
    "\n",
    "lst.sort(key=int, reverse=True)\n",
    "print(lst)"
   ],
   "id": "f40508963316fdf1",
   "outputs": [
    {
     "name": "stdout",
     "output_type": "stream",
     "text": [
      "['3', '132', '4864']\n",
      "['4864', '132', '3']\n"
     ]
    }
   ],
   "execution_count": 24
  },
  {
   "metadata": {},
   "cell_type": "markdown",
   "source": [
    "#### sorted(iterable, [key], reverse=False)\n",
    "- 对可迭代对象进行排序，以列表形式返回排序之后的结果\n",
    "- iterable：要排序的可迭代对象\n",
    "- key：指定一个函数，在排序之前，每个元素都先应用这个函数之后再排序\n",
    "- reverse：默认为 False，代表升序，指定为 True 则为降序"
   ],
   "id": "20daaaae608f70d1"
  },
  {
   "metadata": {
    "ExecuteTime": {
     "end_time": "2025-10-01T07:01:53.810491Z",
     "start_time": "2025-10-01T07:01:53.796112Z"
    }
   },
   "cell_type": "code",
   "source": [
    "lst = [1, 2, -5, -3]\n",
    "# 升序排序\n",
    "print(sorted(lst))\n",
    "# 降序排序\n",
    "print(sorted(lst, reverse=True))\n",
    "# 对lst中的元素按照绝对值的大小降序排序\n",
    "print(sorted(lst, key=abs, reverse=True))\n",
    "# 对字符串排序\n",
    "print(sorted('hello world'))"
   ],
   "id": "22bc4298c3545190",
   "outputs": [
    {
     "name": "stdout",
     "output_type": "stream",
     "text": [
      "[-5, -3, 1, 2]\n",
      "[2, 1, -3, -5]\n",
      "[-5, -3, 2, 1]\n",
      "[' ', 'd', 'e', 'h', 'l', 'l', 'l', 'o', 'o', 'r', 'w']\n"
     ]
    }
   ],
   "execution_count": 25
  },
  {
   "metadata": {
    "ExecuteTime": {
     "end_time": "2025-10-01T07:01:53.825612Z",
     "start_time": "2025-10-01T07:01:53.810827Z"
    }
   },
   "cell_type": "code",
   "source": [
    "lst = ('4864', '3', '132')\n",
    "# lst.sort(key=int)\n",
    "# AttributeError: 'tuple' object has no attribute 'sort'\n",
    "# lst.sort(key=int, reverse=True)\n",
    "print(lst)\n",
    "print(sorted(lst, key=int))\n",
    "print(sorted(lst, key=int, reverse=True))"
   ],
   "id": "aa81e03878654a94",
   "outputs": [
    {
     "name": "stdout",
     "output_type": "stream",
     "text": [
      "('4864', '3', '132')\n",
      "['3', '132', '4864']\n",
      "['4864', '132', '3']\n"
     ]
    }
   ],
   "execution_count": 26
  },
  {
   "metadata": {
    "ExecuteTime": {
     "end_time": "2025-10-01T07:01:53.841022Z",
     "start_time": "2025-10-01T07:01:53.827094Z"
    }
   },
   "cell_type": "code",
   "source": [
    "lst = {'4864': 12, '3': 34, '132': 56}\n",
    "# lst.sort(key=int)\n",
    "# AttributeError: 'dict' object has no attribute 'sort'\n",
    "# lst.sort(key=int, reverse=True)\n",
    "print(lst)\n",
    "print(sorted(lst, key=int))\n",
    "print(sorted(lst, key=int, reverse=True))"
   ],
   "id": "82527ff8dcb8b319",
   "outputs": [
    {
     "name": "stdout",
     "output_type": "stream",
     "text": [
      "{'4864': 12, '3': 34, '132': 56}\n",
      "['3', '132', '4864']\n",
      "['4864', '132', '3']\n"
     ]
    }
   ],
   "execution_count": 27
  },
  {
   "metadata": {
    "ExecuteTime": {
     "end_time": "2025-10-01T07:01:53.856233Z",
     "start_time": "2025-10-01T07:01:53.842132Z"
    }
   },
   "cell_type": "code",
   "source": [
    "s = 'acdfg'\n",
    "print(sorted(s))\n",
    "print(s)"
   ],
   "id": "76fda43ed9f587cd",
   "outputs": [
    {
     "name": "stdout",
     "output_type": "stream",
     "text": [
      "['a', 'c', 'd', 'f', 'g']\n",
      "acdfg\n"
     ]
    }
   ],
   "execution_count": 28
  },
  {
   "metadata": {},
   "cell_type": "markdown",
   "source": [
    "#### list.reverse()\n",
    "- 把列表中的元素倒过来，无返回值"
   ],
   "id": "e732197761b42459"
  },
  {
   "metadata": {
    "ExecuteTime": {
     "end_time": "2025-10-01T07:01:53.871330Z",
     "start_time": "2025-10-01T07:01:53.856233Z"
    }
   },
   "cell_type": "code",
   "source": [
    "lst = [1, 3, 5, 2]\n",
    "lst.reverse()  # inplace\n",
    "print(lst)\n",
    "print(lst[::-1])  # copy"
   ],
   "id": "768189af3711022f",
   "outputs": [
    {
     "name": "stdout",
     "output_type": "stream",
     "text": [
      "[2, 5, 3, 1]\n",
      "[1, 3, 5, 2]\n"
     ]
    }
   ],
   "execution_count": 29
  },
  {
   "metadata": {},
   "cell_type": "markdown",
   "source": [
    "#### list.count(x)\n",
    "- 返回元素 x 在列表中出现的次数"
   ],
   "id": "46eb0ddbe0261db9"
  },
  {
   "metadata": {
    "ExecuteTime": {
     "end_time": "2025-10-01T07:01:53.887286Z",
     "start_time": "2025-10-01T07:01:53.872576Z"
    }
   },
   "cell_type": "code",
   "source": [
    "lst = [1, 2, 3, '23', [2, 4, False]]\n",
    "print(lst.count(2))\n",
    "print(lst.count([2, 4, False]))\n",
    "print(lst[-1].count(False))"
   ],
   "id": "210c0713535712c",
   "outputs": [
    {
     "name": "stdout",
     "output_type": "stream",
     "text": [
      "1\n",
      "1\n",
      "1\n"
     ]
    }
   ],
   "execution_count": 30
  },
  {
   "metadata": {},
   "cell_type": "markdown",
   "source": [
    "#### list.index(x[, start[, end]])\n",
    "- 返回从左边开始第一次找到指定值时的正向索引，找不到报错\n",
    "- x：要找的值\n",
    "- start：起始索引，默认为 0\n",
    "- end：结束索引（开区间），默认为 len(lst)"
   ],
   "id": "9eba834d2e785077"
  },
  {
   "metadata": {
    "ExecuteTime": {
     "end_time": "2025-10-01T07:01:53.902235Z",
     "start_time": "2025-10-01T07:01:53.888282Z"
    }
   },
   "cell_type": "code",
   "source": [
    "lst = [1, 2, [2, 4], 3, 4, '23']\n",
    "print(lst.index(2))\n",
    "# ValueError: 2 is not in list\n",
    "# lst.index(2, 4)\n",
    "\n",
    "print(lst.index([2, 4]))\n",
    "print(lst.index(4, 2))"
   ],
   "id": "d7a7d96832b7977b",
   "outputs": [
    {
     "name": "stdout",
     "output_type": "stream",
     "text": [
      "1\n",
      "2\n",
      "4\n"
     ]
    }
   ],
   "execution_count": 31
  },
  {
   "metadata": {},
   "cell_type": "markdown",
   "source": [
    "#### list.pop(i=-1)\n",
    "- i：要删除并返回的元素的索引\n",
    "- 删除列表中指定索引的元素并返回该元素，默认最后一个\n",
    "- 索引超出范围，则报错"
   ],
   "id": "d0fde75b354f0501"
  },
  {
   "metadata": {
    "ExecuteTime": {
     "end_time": "2025-10-01T07:01:53.917185Z",
     "start_time": "2025-10-01T07:01:53.903232Z"
    }
   },
   "cell_type": "code",
   "source": [
    "lst = [567, 'hello', True, False, 456]\n",
    "print(lst.pop())\n",
    "print(lst.pop(1))\n",
    "print(lst)"
   ],
   "id": "82b0a4596ed2b1fb",
   "outputs": [
    {
     "name": "stdout",
     "output_type": "stream",
     "text": [
      "456\n",
      "hello\n",
      "[567, True, False]\n"
     ]
    }
   ],
   "execution_count": 32
  },
  {
   "metadata": {},
   "cell_type": "markdown",
   "source": [
    "#### list.remove(x)\n",
    "- 删除列表中从左往右遇到的第一个x元素，无返回值\n",
    "- 如果没有这样的元素，则报错"
   ],
   "id": "d27abb237932ffe0"
  },
  {
   "metadata": {
    "ExecuteTime": {
     "end_time": "2025-10-01T07:01:53.932884Z",
     "start_time": "2025-10-01T07:01:53.917185Z"
    }
   },
   "cell_type": "code",
   "source": [
    "lst = [1, 2, 4, 2, 3, 3]\n",
    "lst.remove(2)\n",
    "print(lst)"
   ],
   "id": "df54e6a1abdb2a11",
   "outputs": [
    {
     "name": "stdout",
     "output_type": "stream",
     "text": [
      "[1, 4, 2, 3, 3]\n"
     ]
    }
   ],
   "execution_count": 33
  },
  {
   "metadata": {},
   "cell_type": "markdown",
   "source": [
    "#### list.copy()\n",
    "- 返回该列表的一个副本，等价于 lst[:]"
   ],
   "id": "cfce2bc01c1a267d"
  },
  {
   "metadata": {
    "ExecuteTime": {
     "end_time": "2025-10-01T07:01:53.948835Z",
     "start_time": "2025-10-01T07:01:53.933881Z"
    }
   },
   "cell_type": "code",
   "source": [
    "lst = [567, 'hello', True, False, 456]\n",
    "lst2 = lst.copy()\n",
    "print(lst)\n",
    "print(lst[:])\n",
    "print(lst2)"
   ],
   "id": "3d22c336fad475a1",
   "outputs": [
    {
     "name": "stdout",
     "output_type": "stream",
     "text": [
      "[567, 'hello', True, False, 456]\n",
      "[567, 'hello', True, False, 456]\n",
      "[567, 'hello', True, False, 456]\n"
     ]
    }
   ],
   "execution_count": 34
  },
  {
   "metadata": {},
   "cell_type": "markdown",
   "source": [
    "#### list.clear()\n",
    "- 移除列表中的所有元素，无返回值，等价于 del lst[:]"
   ],
   "id": "f55428ff803047af"
  },
  {
   "metadata": {
    "ExecuteTime": {
     "end_time": "2025-10-01T07:01:53.964353Z",
     "start_time": "2025-10-01T07:01:53.949831Z"
    }
   },
   "cell_type": "code",
   "source": [
    "print(id(lst2))\n",
    "lst2.clear()\n",
    "print(id(lst2))\n",
    "print(lst2)\n",
    "print(lst)"
   ],
   "id": "a3c5dc31a3f54239",
   "outputs": [
    {
     "name": "stdout",
     "output_type": "stream",
     "text": [
      "2323739319616\n",
      "2323739319616\n",
      "[]\n",
      "[567, 'hello', True, False, 456]\n"
     ]
    }
   ],
   "execution_count": 35
  },
  {
   "metadata": {
    "ExecuteTime": {
     "end_time": "2025-10-01T07:01:53.980117Z",
     "start_time": "2025-10-01T07:01:53.965502Z"
    }
   },
   "cell_type": "code",
   "source": "",
   "id": "29e029815a2570b9",
   "outputs": [],
   "execution_count": 35
  }
 ],
 "metadata": {
  "kernelspec": {
   "display_name": "Python 3",
   "language": "python",
   "name": "python3"
  },
  "language_info": {
   "codemirror_mode": {
    "name": "ipython",
    "version": 2
   },
   "file_extension": ".py",
   "mimetype": "text/x-python",
   "name": "python",
   "nbconvert_exporter": "python",
   "pygments_lexer": "ipython2",
   "version": "2.7.6"
  }
 },
 "nbformat": 4,
 "nbformat_minor": 5
}
