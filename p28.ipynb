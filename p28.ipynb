{
 "cells": [
  {
   "metadata": {
    "ExecuteTime": {
     "end_time": "2025-09-17T08:34:53.590737Z",
     "start_time": "2025-09-17T08:34:53.585548Z"
    }
   },
   "cell_type": "code",
   "source": "import re",
   "id": "365b0bd3d013dad",
   "outputs": [],
   "execution_count": 2
  },
  {
   "metadata": {
    "ExecuteTime": {
     "end_time": "2025-09-16T09:14:33.751206Z",
     "start_time": "2025-09-16T09:14:33.733010Z"
    }
   },
   "cell_type": "code",
   "source": [
    "# p = re.compile('abc d')\n",
    "p = re.compile('abcd')\n",
    "print(p)\n",
    "print(type(p))"
   ],
   "id": "893530d386164567",
   "outputs": [
    {
     "name": "stdout",
     "output_type": "stream",
     "text": [
      "re.compile('abcd')\n",
      "<class 're.Pattern'>\n"
     ]
    }
   ],
   "execution_count": 65
  },
  {
   "metadata": {
    "ExecuteTime": {
     "end_time": "2025-09-16T09:14:33.830166Z",
     "start_time": "2025-09-16T09:14:33.822208Z"
    }
   },
   "cell_type": "code",
   "source": [
    "m = p.search('wa8kabc6+abcd-43abcdja')\n",
    "print(m)\n",
    "print(type(m))\n",
    "print(m.group())\n",
    "print(m.span())\n",
    "print(m.start())\n",
    "print(m.end())"
   ],
   "id": "b8785e95a29293ab",
   "outputs": [
    {
     "name": "stdout",
     "output_type": "stream",
     "text": [
      "<re.Match object; span=(9, 13), match='abcd'>\n",
      "<class 're.Match'>\n",
      "abcd\n",
      "(9, 13)\n",
      "9\n",
      "13\n"
     ]
    }
   ],
   "execution_count": 66
  },
  {
   "metadata": {
    "ExecuteTime": {
     "end_time": "2025-09-16T09:14:33.860501Z",
     "start_time": "2025-09-16T09:14:33.858432Z"
    }
   },
   "cell_type": "code",
   "source": [
    "m = p.search('wa8kabc6+abcd-43abcdja', pos=15)\n",
    "print(m)\n",
    "print(type(m))\n",
    "print(m.group())\n",
    "print(m.span())\n",
    "print(m.start())\n",
    "print(m.end())"
   ],
   "id": "4fbbd9eb38e03779",
   "outputs": [
    {
     "name": "stdout",
     "output_type": "stream",
     "text": [
      "<re.Match object; span=(16, 20), match='abcd'>\n",
      "<class 're.Match'>\n",
      "abcd\n",
      "(16, 20)\n",
      "16\n",
      "20\n"
     ]
    }
   ],
   "execution_count": 67
  },
  {
   "metadata": {
    "ExecuteTime": {
     "end_time": "2025-09-16T09:14:33.922502Z",
     "start_time": "2025-09-16T09:14:33.908542Z"
    }
   },
   "cell_type": "code",
   "source": [
    "m = p.match('wa8kabc6+abcd-43abcdja')\n",
    "print(m)"
   ],
   "id": "6e57012f1d11b38f",
   "outputs": [
    {
     "name": "stdout",
     "output_type": "stream",
     "text": [
      "None\n"
     ]
    }
   ],
   "execution_count": 68
  },
  {
   "metadata": {
    "ExecuteTime": {
     "end_time": "2025-09-16T09:14:33.953166Z",
     "start_time": "2025-09-16T09:14:33.939106Z"
    }
   },
   "cell_type": "code",
   "source": [
    "m = p.match('wa8kabc6+abcd-43abcdja', pos=9)\n",
    "print(m)"
   ],
   "id": "b33333c68c87449f",
   "outputs": [
    {
     "name": "stdout",
     "output_type": "stream",
     "text": [
      "<re.Match object; span=(9, 13), match='abcd'>\n"
     ]
    }
   ],
   "execution_count": 69
  },
  {
   "metadata": {
    "ExecuteTime": {
     "end_time": "2025-09-16T09:14:34.030752Z",
     "start_time": "2025-09-16T09:14:34.017019Z"
    }
   },
   "cell_type": "code",
   "source": [
    "m = p.fullmatch('wa8kabc6+abcd-43abcdja', pos=9)\n",
    "print(m)"
   ],
   "id": "60343195c01f7a25",
   "outputs": [
    {
     "name": "stdout",
     "output_type": "stream",
     "text": [
      "None\n"
     ]
    }
   ],
   "execution_count": 70
  },
  {
   "metadata": {
    "ExecuteTime": {
     "end_time": "2025-09-16T09:14:34.092548Z",
     "start_time": "2025-09-16T09:14:34.077696Z"
    }
   },
   "cell_type": "code",
   "source": [
    "m = p.fullmatch('wa8kabc6+abcd-43abcdja', pos=9, endpos=13)\n",
    "print(m)"
   ],
   "id": "62935af2abb4bde",
   "outputs": [
    {
     "name": "stdout",
     "output_type": "stream",
     "text": [
      "<re.Match object; span=(9, 13), match='abcd'>\n"
     ]
    }
   ],
   "execution_count": 71
  },
  {
   "metadata": {
    "ExecuteTime": {
     "end_time": "2025-09-16T09:14:34.123536Z",
     "start_time": "2025-09-16T09:14:34.111162Z"
    }
   },
   "cell_type": "code",
   "source": "p.findall('wa8kabc6+abcd-43abcdja')",
   "id": "e8cf10a23d6951e",
   "outputs": [
    {
     "data": {
      "text/plain": [
       "['abcd', 'abcd']"
      ]
     },
     "execution_count": 72,
     "metadata": {},
     "output_type": "execute_result"
    }
   ],
   "execution_count": 72
  },
  {
   "metadata": {
    "ExecuteTime": {
     "end_time": "2025-09-16T09:14:34.170465Z",
     "start_time": "2025-09-16T09:14:34.165790Z"
    }
   },
   "cell_type": "code",
   "source": [
    "p = re.compile('aaa')\n",
    "p.findall('aaaaa')"
   ],
   "id": "57c9179f720f8744",
   "outputs": [
    {
     "data": {
      "text/plain": [
       "['aaa']"
      ]
     },
     "execution_count": 73,
     "metadata": {},
     "output_type": "execute_result"
    }
   ],
   "execution_count": 73
  },
  {
   "metadata": {
    "ExecuteTime": {
     "end_time": "2025-09-16T09:14:34.217085Z",
     "start_time": "2025-09-16T09:14:34.206571Z"
    }
   },
   "cell_type": "code",
   "source": [
    "p = re.compile(r'\\\\\\\\')\n",
    "string = r'e\\g7\\\\10E\\\\\\H4'\n",
    "p.findall(string)"
   ],
   "id": "bb44bb0155c62a8b",
   "outputs": [
    {
     "data": {
      "text/plain": [
       "['\\\\\\\\', '\\\\\\\\']"
      ]
     },
     "execution_count": 74,
     "metadata": {},
     "output_type": "execute_result"
    }
   ],
   "execution_count": 74
  },
  {
   "metadata": {
    "ExecuteTime": {
     "end_time": "2025-09-16T09:14:34.233087Z",
     "start_time": "2025-09-16T09:14:34.222260Z"
    }
   },
   "cell_type": "code",
   "source": [
    "p = re.compile(r'ab.c')\n",
    "string = 'ab c ab+c ab我c ab\\nc ab\\tc abkfc'\n",
    "p.findall(string)"
   ],
   "id": "5d72545317f95ec",
   "outputs": [
    {
     "data": {
      "text/plain": [
       "['ab c', 'ab+c', 'ab我c', 'ab\\tc']"
      ]
     },
     "execution_count": 75,
     "metadata": {},
     "output_type": "execute_result"
    }
   ],
   "execution_count": 75
  },
  {
   "metadata": {
    "ExecuteTime": {
     "end_time": "2025-09-16T09:14:34.248610Z",
     "start_time": "2025-09-16T09:14:34.243053Z"
    }
   },
   "cell_type": "code",
   "source": [
    "p = re.compile(r'ab.c', flags=re.S)\n",
    "p = re.compile(r'ab.c', flags=re.DOTALL)\n",
    "string = 'ab c ab+c ab我c ab\\nc ab\\tc abkfc'\n",
    "p.findall(string)"
   ],
   "id": "c6bedea34e292c14",
   "outputs": [
    {
     "data": {
      "text/plain": [
       "['ab c', 'ab+c', 'ab我c', 'ab\\nc', 'ab\\tc']"
      ]
     },
     "execution_count": 76,
     "metadata": {},
     "output_type": "execute_result"
    }
   ],
   "execution_count": 76
  },
  {
   "metadata": {
    "ExecuteTime": {
     "end_time": "2025-09-16T09:14:34.295559Z",
     "start_time": "2025-09-16T09:14:34.288030Z"
    }
   },
   "cell_type": "code",
   "source": [
    "p = re.compile(r'^ab')\n",
    "string = 'abcd\\nabfabg'\n",
    "p.findall(string)"
   ],
   "id": "90c37541d1b05deb",
   "outputs": [
    {
     "data": {
      "text/plain": [
       "['ab']"
      ]
     },
     "execution_count": 77,
     "metadata": {},
     "output_type": "execute_result"
    }
   ],
   "execution_count": 77
  },
  {
   "metadata": {
    "ExecuteTime": {
     "end_time": "2025-09-16T09:14:34.311480Z",
     "start_time": "2025-09-16T09:14:34.304115Z"
    }
   },
   "cell_type": "code",
   "source": [
    "p = re.compile(r'^ab', re.M)\n",
    "string = 'abcd\\nabfabg'\n",
    "p.findall(string)"
   ],
   "id": "f3e6621718e2ae29",
   "outputs": [
    {
     "data": {
      "text/plain": [
       "['ab', 'ab']"
      ]
     },
     "execution_count": 78,
     "metadata": {},
     "output_type": "execute_result"
    }
   ],
   "execution_count": 78
  },
  {
   "metadata": {
    "ExecuteTime": {
     "end_time": "2025-09-16T09:14:34.342857Z",
     "start_time": "2025-09-16T09:14:34.335195Z"
    }
   },
   "cell_type": "code",
   "source": [
    "p = re.compile(r'^', re.M)\n",
    "string = 'abcd\\nabfabg\\n'\n",
    "p.findall(string)"
   ],
   "id": "7e248cca93a52d4e",
   "outputs": [
    {
     "data": {
      "text/plain": [
       "['', '', '']"
      ]
     },
     "execution_count": 79,
     "metadata": {},
     "output_type": "execute_result"
    }
   ],
   "execution_count": 79
  },
  {
   "metadata": {
    "ExecuteTime": {
     "end_time": "2025-09-16T09:14:34.389754Z",
     "start_time": "2025-09-16T09:14:34.375606Z"
    }
   },
   "cell_type": "code",
   "source": [
    "p = re.compile(r'cd')\n",
    "string = 'acdbcd\\nefcd'\n",
    "p.findall(string)"
   ],
   "id": "14fdc34b1788ac1c",
   "outputs": [
    {
     "data": {
      "text/plain": [
       "['cd', 'cd', 'cd']"
      ]
     },
     "execution_count": 80,
     "metadata": {},
     "output_type": "execute_result"
    }
   ],
   "execution_count": 80
  },
  {
   "metadata": {
    "ExecuteTime": {
     "end_time": "2025-09-16T09:14:34.420899Z",
     "start_time": "2025-09-16T09:14:34.416873Z"
    }
   },
   "cell_type": "code",
   "source": [
    "p = re.compile(r'cd$')\n",
    "string = 'acdbcd\\nefcd'\n",
    "p.findall(string)"
   ],
   "id": "7dde0845f937aaac",
   "outputs": [
    {
     "data": {
      "text/plain": [
       "['cd']"
      ]
     },
     "execution_count": 81,
     "metadata": {},
     "output_type": "execute_result"
    }
   ],
   "execution_count": 81
  },
  {
   "metadata": {
    "ExecuteTime": {
     "end_time": "2025-09-16T09:14:34.467858Z",
     "start_time": "2025-09-16T09:14:34.452629Z"
    }
   },
   "cell_type": "code",
   "source": [
    "p = re.compile(r'cd$', re.M)\n",
    "string = 'acdbcd\\nefcd'\n",
    "p.findall(string)"
   ],
   "id": "cbfb07d26ccea797",
   "outputs": [
    {
     "data": {
      "text/plain": [
       "['cd', 'cd']"
      ]
     },
     "execution_count": 82,
     "metadata": {},
     "output_type": "execute_result"
    }
   ],
   "execution_count": 82
  },
  {
   "metadata": {
    "ExecuteTime": {
     "end_time": "2025-09-16T09:14:34.498204Z",
     "start_time": "2025-09-16T09:14:34.482397Z"
    }
   },
   "cell_type": "code",
   "source": [
    "p = re.compile(r'$', re.M)\n",
    "string = 'acdbcd\\nefcd\\n'\n",
    "p.findall(string)"
   ],
   "id": "77195e938750318e",
   "outputs": [
    {
     "data": {
      "text/plain": [
       "['', '', '']"
      ]
     },
     "execution_count": 83,
     "metadata": {},
     "output_type": "execute_result"
    }
   ],
   "execution_count": 83
  },
  {
   "metadata": {
    "ExecuteTime": {
     "end_time": "2025-09-16T09:14:34.528746Z",
     "start_time": "2025-09-16T09:14:34.517549Z"
    }
   },
   "cell_type": "code",
   "source": [
    "p = re.compile(r\"ab*\")\n",
    "print(p.search(\"a\"))\n",
    "print(p.search(\"ab\"))\n",
    "print(p.search(\"abb\"))\n",
    "print(p.search(\"abbbc\"))"
   ],
   "id": "32cf9278340a0617",
   "outputs": [
    {
     "name": "stdout",
     "output_type": "stream",
     "text": [
      "<re.Match object; span=(0, 1), match='a'>\n",
      "<re.Match object; span=(0, 2), match='ab'>\n",
      "<re.Match object; span=(0, 3), match='abb'>\n",
      "<re.Match object; span=(0, 4), match='abbb'>\n"
     ]
    }
   ],
   "execution_count": 84
  },
  {
   "metadata": {
    "ExecuteTime": {
     "end_time": "2025-09-16T09:14:34.575260Z",
     "start_time": "2025-09-16T09:14:34.561033Z"
    }
   },
   "cell_type": "code",
   "source": [
    "p = re.compile(r\"a.*\")\n",
    "print(p.search(\"a\"))\n",
    "print(p.search(\"ab\"))\n",
    "print(p.search(\"abb\"))\n",
    "print(p.search(\"abbbc\"))"
   ],
   "id": "a4a121a90f499a6c",
   "outputs": [
    {
     "name": "stdout",
     "output_type": "stream",
     "text": [
      "<re.Match object; span=(0, 1), match='a'>\n",
      "<re.Match object; span=(0, 2), match='ab'>\n",
      "<re.Match object; span=(0, 3), match='abb'>\n",
      "<re.Match object; span=(0, 5), match='abbbc'>\n"
     ]
    }
   ],
   "execution_count": 85
  },
  {
   "metadata": {
    "ExecuteTime": {
     "end_time": "2025-09-16T09:14:34.590351Z",
     "start_time": "2025-09-16T09:14:34.578634Z"
    }
   },
   "cell_type": "code",
   "source": [
    "p = re.compile(r\"ab{2}\")\n",
    "# p = re.compile(r\"ab{3}\")\n",
    "print(p.search(\"a\"))\n",
    "print(p.search(\"ab\"))\n",
    "print(p.search(\"abb\"))\n",
    "print(p.search(\"abbbc\"))"
   ],
   "id": "f37d731f1eb68d68",
   "outputs": [
    {
     "name": "stdout",
     "output_type": "stream",
     "text": [
      "None\n",
      "None\n",
      "<re.Match object; span=(0, 3), match='abb'>\n",
      "<re.Match object; span=(0, 3), match='abb'>\n"
     ]
    }
   ],
   "execution_count": 86
  },
  {
   "metadata": {
    "ExecuteTime": {
     "end_time": "2025-09-16T09:14:34.621716Z",
     "start_time": "2025-09-16T09:14:34.605508Z"
    }
   },
   "cell_type": "code",
   "source": [
    "p = re.compile(r\"ab{2,3}\")\n",
    "print(p.search(\"a\"))\n",
    "print(p.search(\"ab\"))\n",
    "print(p.search(\"abb\"))\n",
    "print(p.search(\"abbbc\"))"
   ],
   "id": "e134b22d9758de14",
   "outputs": [
    {
     "name": "stdout",
     "output_type": "stream",
     "text": [
      "None\n",
      "None\n",
      "<re.Match object; span=(0, 3), match='abb'>\n",
      "<re.Match object; span=(0, 4), match='abbb'>\n"
     ]
    }
   ],
   "execution_count": 87
  },
  {
   "metadata": {
    "ExecuteTime": {
     "end_time": "2025-09-16T09:14:34.667882Z",
     "start_time": "2025-09-16T09:14:34.653799Z"
    }
   },
   "cell_type": "code",
   "source": [
    "p = re.compile(r\"ab{1,}\")\n",
    "print(p.search(\"a\"))\n",
    "print(p.search(\"ab\"))\n",
    "print(p.search(\"abb\"))\n",
    "print(p.search(\"abbbc\"))"
   ],
   "id": "58743e448bd42b93",
   "outputs": [
    {
     "name": "stdout",
     "output_type": "stream",
     "text": [
      "None\n",
      "<re.Match object; span=(0, 2), match='ab'>\n",
      "<re.Match object; span=(0, 3), match='abb'>\n",
      "<re.Match object; span=(0, 4), match='abbb'>\n"
     ]
    }
   ],
   "execution_count": 88
  },
  {
   "metadata": {
    "ExecuteTime": {
     "end_time": "2025-09-16T09:14:34.699529Z",
     "start_time": "2025-09-16T09:14:34.684956Z"
    }
   },
   "cell_type": "code",
   "source": [
    "p = re.compile(r\"ab?\")\n",
    "print(p.search(\"a\"))\n",
    "print(p.search(\"ab\"))\n",
    "print(p.search(\"abb\"))\n",
    "print(p.search(\"abbbc\"))"
   ],
   "id": "88b1d24262215a4",
   "outputs": [
    {
     "name": "stdout",
     "output_type": "stream",
     "text": [
      "<re.Match object; span=(0, 1), match='a'>\n",
      "<re.Match object; span=(0, 2), match='ab'>\n",
      "<re.Match object; span=(0, 2), match='ab'>\n",
      "<re.Match object; span=(0, 2), match='ab'>\n"
     ]
    }
   ],
   "execution_count": 89
  },
  {
   "metadata": {
    "ExecuteTime": {
     "end_time": "2025-09-16T09:14:34.730463Z",
     "start_time": "2025-09-16T09:14:34.713395Z"
    }
   },
   "cell_type": "code",
   "source": [
    "p = re.compile(r'<.*>')\n",
    "print(p.search('<a> b <c>'))\n",
    "print(p.findall('<a> b <c>'))"
   ],
   "id": "327b030d388a9f23",
   "outputs": [
    {
     "name": "stdout",
     "output_type": "stream",
     "text": [
      "<re.Match object; span=(0, 9), match='<a> b <c>'>\n",
      "['<a> b <c>']\n"
     ]
    }
   ],
   "execution_count": 90
  },
  {
   "metadata": {
    "ExecuteTime": {
     "end_time": "2025-09-16T09:15:22.102525Z",
     "start_time": "2025-09-16T09:15:22.087751Z"
    }
   },
   "cell_type": "code",
   "source": [
    "p = re.compile(r'<.*?>')\n",
    "print(p.search('<a> b <c>'))\n",
    "print(p.findall('<a> b <c>'))"
   ],
   "id": "560a2660655fe12e",
   "outputs": [
    {
     "name": "stdout",
     "output_type": "stream",
     "text": [
      "<re.Match object; span=(0, 3), match='<a>'>\n",
      "['<a>', '<c>']\n"
     ]
    }
   ],
   "execution_count": 126
  },
  {
   "metadata": {
    "ExecuteTime": {
     "end_time": "2025-09-16T09:18:03.652350Z",
     "start_time": "2025-09-16T09:18:03.647841Z"
    }
   },
   "cell_type": "code",
   "source": [
    "p = re.compile(r\"ab+?\")\n",
    "print(p.search(\"abbbc\"))\n",
    "print(p.findall(\"abc\"))\n",
    "print(p.findall(\"abbbc\"))"
   ],
   "id": "e7fca8c7fb55f2c0",
   "outputs": [
    {
     "name": "stdout",
     "output_type": "stream",
     "text": [
      "<re.Match object; span=(0, 2), match='ab'>\n",
      "['ab']\n",
      "['ab']\n"
     ]
    }
   ],
   "execution_count": 134
  },
  {
   "metadata": {
    "ExecuteTime": {
     "end_time": "2025-09-16T09:18:17.320849Z",
     "start_time": "2025-09-16T09:18:17.303243Z"
    }
   },
   "cell_type": "code",
   "source": [
    "p = re.compile(r\"ab??\")\n",
    "print(p.search(\"abc\"))\n",
    "print(p.findall(\"ab\"))\n",
    "print(p.findall(\"abc\"))"
   ],
   "id": "767dbfdc41d233a1",
   "outputs": [
    {
     "name": "stdout",
     "output_type": "stream",
     "text": [
      "<re.Match object; span=(0, 1), match='a'>\n",
      "['a']\n",
      "['a']\n"
     ]
    }
   ],
   "execution_count": 135
  },
  {
   "metadata": {
    "ExecuteTime": {
     "end_time": "2025-09-16T09:14:34.853449Z",
     "start_time": "2025-09-16T09:14:34.841834Z"
    }
   },
   "cell_type": "code",
   "source": [
    "p = re.compile(r\"ab{2,4}?\")\n",
    "print(p.search(\"abc\"))\n",
    "print(p.search(\"abbc\"))\n",
    "print(p.search(\"abbbc\"))\n",
    "print(p.search(\"abbbbc\"))\n",
    "print(p.search(\"abbbbbc\"))"
   ],
   "id": "551e288119da8be5",
   "outputs": [
    {
     "name": "stdout",
     "output_type": "stream",
     "text": [
      "None\n",
      "<re.Match object; span=(0, 3), match='abb'>\n",
      "<re.Match object; span=(0, 3), match='abb'>\n",
      "<re.Match object; span=(0, 3), match='abb'>\n",
      "<re.Match object; span=(0, 3), match='abb'>\n"
     ]
    }
   ],
   "execution_count": 94
  },
  {
   "metadata": {
    "ExecuteTime": {
     "end_time": "2025-09-16T09:14:34.884448Z",
     "start_time": "2025-09-16T09:14:34.871173Z"
    }
   },
   "cell_type": "code",
   "source": [
    "p = re.compile(r\"ab{,4}?\")\n",
    "print(p.search(\"ac\"))\n",
    "print(p.search(\"abc\"))"
   ],
   "id": "21e3b34fb4ee45ec",
   "outputs": [
    {
     "name": "stdout",
     "output_type": "stream",
     "text": [
      "<re.Match object; span=(0, 1), match='a'>\n",
      "<re.Match object; span=(0, 1), match='a'>\n"
     ]
    }
   ],
   "execution_count": 95
  },
  {
   "metadata": {
    "ExecuteTime": {
     "end_time": "2025-09-16T09:14:34.931725Z",
     "start_time": "2025-09-16T09:14:34.921931Z"
    }
   },
   "cell_type": "code",
   "source": [
    "p = re.compile(r\"ab{2,}?\")\n",
    "print(p.search(\"abbbbc\"))\n",
    "print(p.search(\"abbbbbc\"))"
   ],
   "id": "664b3c41fdee4924",
   "outputs": [
    {
     "name": "stdout",
     "output_type": "stream",
     "text": [
      "<re.Match object; span=(0, 3), match='abb'>\n",
      "<re.Match object; span=(0, 3), match='abb'>\n"
     ]
    }
   ],
   "execution_count": 96
  },
  {
   "metadata": {
    "ExecuteTime": {
     "end_time": "2025-09-16T09:19:07.905372Z",
     "start_time": "2025-09-16T09:19:07.890422Z"
    }
   },
   "cell_type": "code",
   "source": [
    "p = re.compile(r\"d|e|b\")\n",
    "print(p.search(\"abc\"))\n",
    "print(p.search(\"aebcd\"))\n",
    "print(p.findall(\"abc\"))\n",
    "print(p.findall(\"aebcd\"))"
   ],
   "id": "90a36181de1a4774",
   "outputs": [
    {
     "name": "stdout",
     "output_type": "stream",
     "text": [
      "<re.Match object; span=(1, 2), match='b'>\n",
      "<re.Match object; span=(1, 2), match='e'>\n",
      "['b']\n",
      "['e', 'b', 'd']\n"
     ]
    }
   ],
   "execution_count": 137
  },
  {
   "metadata": {
    "ExecuteTime": {
     "end_time": "2025-09-16T09:19:55.438126Z",
     "start_time": "2025-09-16T09:19:55.423866Z"
    }
   },
   "cell_type": "code",
   "source": [
    "p = re.compile(r\"\\++\")\n",
    "p.findall('a...8b++e..t+++2.1+')"
   ],
   "id": "cea097445c994ce4",
   "outputs": [
    {
     "data": {
      "text/plain": [
       "['++', '+++', '+']"
      ]
     },
     "execution_count": 141,
     "metadata": {},
     "output_type": "execute_result"
    }
   ],
   "execution_count": 141
  },
  {
   "metadata": {
    "ExecuteTime": {
     "end_time": "2025-09-16T09:14:35.023923Z",
     "start_time": "2025-09-16T09:14:35.019667Z"
    }
   },
   "cell_type": "code",
   "source": [
    "p = re.compile(r\"\\.+\")\n",
    "p.findall('a...8b++e..t+++2.1+')"
   ],
   "id": "39dbb84b64a9c2e7",
   "outputs": [
    {
     "data": {
      "text/plain": [
       "['...', '..', '.']"
      ]
     },
     "execution_count": 99,
     "metadata": {},
     "output_type": "execute_result"
    }
   ],
   "execution_count": 99
  },
  {
   "metadata": {
    "ExecuteTime": {
     "end_time": "2025-09-16T09:14:35.101591Z",
     "start_time": "2025-09-16T09:14:35.091599Z"
    }
   },
   "cell_type": "code",
   "source": [
    "p = re.compile(r'\\Aab')\n",
    "string = 'abcd\\nabfabg'\n",
    "p.findall(string)"
   ],
   "id": "7935f2a7a871d2d0",
   "outputs": [
    {
     "data": {
      "text/plain": [
       "['ab']"
      ]
     },
     "execution_count": 100,
     "metadata": {},
     "output_type": "execute_result"
    }
   ],
   "execution_count": 100
  },
  {
   "metadata": {
    "ExecuteTime": {
     "end_time": "2025-09-16T09:14:35.117424Z",
     "start_time": "2025-09-16T09:14:35.111682Z"
    }
   },
   "cell_type": "code",
   "source": [
    "p = re.compile(r'\\Aab', re.M)\n",
    "string = 'abcd\\nabfabg'\n",
    "p.findall(string)"
   ],
   "id": "58532a9273767b8f",
   "outputs": [
    {
     "data": {
      "text/plain": [
       "['ab']"
      ]
     },
     "execution_count": 101,
     "metadata": {},
     "output_type": "execute_result"
    }
   ],
   "execution_count": 101
  },
  {
   "metadata": {
    "ExecuteTime": {
     "end_time": "2025-09-16T09:14:35.147549Z",
     "start_time": "2025-09-16T09:14:35.131810Z"
    }
   },
   "cell_type": "code",
   "source": [
    "p = re.compile(r'\\A', re.M)\n",
    "string = 'abcd\\nabfabg'\n",
    "p.findall(string)"
   ],
   "id": "41812a8a91597a3e",
   "outputs": [
    {
     "data": {
      "text/plain": [
       "['']"
      ]
     },
     "execution_count": 102,
     "metadata": {},
     "output_type": "execute_result"
    }
   ],
   "execution_count": 102
  },
  {
   "metadata": {
    "ExecuteTime": {
     "end_time": "2025-09-16T09:14:35.193403Z",
     "start_time": "2025-09-16T09:14:35.176906Z"
    }
   },
   "cell_type": "code",
   "source": [
    "p = re.compile(r'\\Z', re.M)\n",
    "string = 'abcd\\nabfabg'\n",
    "p.findall(string)"
   ],
   "id": "6c284a1195cf8d5b",
   "outputs": [
    {
     "data": {
      "text/plain": [
       "['']"
      ]
     },
     "execution_count": 103,
     "metadata": {},
     "output_type": "execute_result"
    }
   ],
   "execution_count": 103
  },
  {
   "metadata": {
    "ExecuteTime": {
     "end_time": "2025-09-16T09:14:35.224981Z",
     "start_time": "2025-09-16T09:14:35.214700Z"
    }
   },
   "cell_type": "code",
   "source": [
    "p = re.compile(r'CD\\Z')\n",
    "string = 'ACDBCD\\nNEFCD\\n'\n",
    "p.findall(string)"
   ],
   "id": "708e95ddf5abc22e",
   "outputs": [
    {
     "data": {
      "text/plain": [
       "[]"
      ]
     },
     "execution_count": 104,
     "metadata": {},
     "output_type": "execute_result"
    }
   ],
   "execution_count": 104
  },
  {
   "metadata": {
    "ExecuteTime": {
     "end_time": "2025-09-16T09:14:35.286967Z",
     "start_time": "2025-09-16T09:14:35.270663Z"
    }
   },
   "cell_type": "code",
   "source": [
    "p = re.compile(r'CD\\Z', re.M)\n",
    "string = 'ACDBCD\\nNEFCD\\n'\n",
    "p.findall(string)"
   ],
   "id": "f58dcc351b7979e8",
   "outputs": [
    {
     "data": {
      "text/plain": [
       "[]"
      ]
     },
     "execution_count": 105,
     "metadata": {},
     "output_type": "execute_result"
    }
   ],
   "execution_count": 105
  },
  {
   "metadata": {
    "ExecuteTime": {
     "end_time": "2025-09-16T09:14:35.318007Z",
     "start_time": "2025-09-16T09:14:35.308749Z"
    }
   },
   "cell_type": "code",
   "source": [
    "p = re.compile(r\"er\\B\")\n",
    "print(p.search(\"never\"))\n",
    "print(p.search(\"verb\"))"
   ],
   "id": "ce46d6ab709dc27c",
   "outputs": [
    {
     "name": "stdout",
     "output_type": "stream",
     "text": [
      "None\n",
      "<re.Match object; span=(1, 3), match='er'>\n"
     ]
    }
   ],
   "execution_count": 106
  },
  {
   "metadata": {
    "ExecuteTime": {
     "end_time": "2025-09-16T09:14:35.364869Z",
     "start_time": "2025-09-16T09:14:35.346930Z"
    }
   },
   "cell_type": "code",
   "source": [
    "p = re.compile(r\"er\\b\")\n",
    "print(p.search(\"never\"))\n",
    "print(p.search(\"verb\"))"
   ],
   "id": "508010483396e22d",
   "outputs": [
    {
     "name": "stdout",
     "output_type": "stream",
     "text": [
      "<re.Match object; span=(3, 5), match='er'>\n",
      "None\n"
     ]
    }
   ],
   "execution_count": 107
  },
  {
   "metadata": {
    "ExecuteTime": {
     "end_time": "2025-09-16T09:14:35.427354Z",
     "start_time": "2025-09-16T09:14:35.413890Z"
    }
   },
   "cell_type": "code",
   "source": [
    "p = re.compile(r\"\\ba\\b\")\n",
    "print(p.search(\"I have a panda\"))"
   ],
   "id": "b66123262768b4f7",
   "outputs": [
    {
     "name": "stdout",
     "output_type": "stream",
     "text": [
      "<re.Match object; span=(7, 8), match='a'>\n"
     ]
    }
   ],
   "execution_count": 108
  },
  {
   "metadata": {
    "ExecuteTime": {
     "end_time": "2025-09-16T09:14:35.489638Z",
     "start_time": "2025-09-16T09:14:35.481504Z"
    }
   },
   "cell_type": "code",
   "source": [
    "p = re.compile(r\"\\ba\")\n",
    "print(p.search(\"I have a panda\"))"
   ],
   "id": "6861ff853d9d191f",
   "outputs": [
    {
     "name": "stdout",
     "output_type": "stream",
     "text": [
      "<re.Match object; span=(7, 8), match='a'>\n"
     ]
    }
   ],
   "execution_count": 109
  },
  {
   "metadata": {
    "ExecuteTime": {
     "end_time": "2025-09-16T09:21:40.252158Z",
     "start_time": "2025-09-16T09:21:40.245427Z"
    }
   },
   "cell_type": "code",
   "source": [
    "p = re.compile(r\"a\\b\")\n",
    "print(p.search(\"I have a panda\"))\n",
    "print(p.findall(\"I have a panda\"))"
   ],
   "id": "aa4e5285f7713034",
   "outputs": [
    {
     "name": "stdout",
     "output_type": "stream",
     "text": [
      "<re.Match object; span=(7, 8), match='a'>\n",
      "['a', 'a']\n"
     ]
    }
   ],
   "execution_count": 142
  },
  {
   "metadata": {
    "ExecuteTime": {
     "end_time": "2025-09-16T09:14:35.537097Z",
     "start_time": "2025-09-16T09:14:35.527647Z"
    }
   },
   "cell_type": "code",
   "source": [
    "p = re.compile(r\"\\ba\\B\")\n",
    "print(p.search(\"I have a panda\"))"
   ],
   "id": "73b89084911d412b",
   "outputs": [
    {
     "name": "stdout",
     "output_type": "stream",
     "text": [
      "None\n"
     ]
    }
   ],
   "execution_count": 111
  },
  {
   "metadata": {
    "ExecuteTime": {
     "end_time": "2025-09-16T09:14:35.597916Z",
     "start_time": "2025-09-16T09:14:35.587880Z"
    }
   },
   "cell_type": "code",
   "source": [
    "p = re.compile(r\"\\Ba\\b\")\n",
    "print(p.search(\"I have a panda\"))"
   ],
   "id": "17781b4ee8f78772",
   "outputs": [
    {
     "name": "stdout",
     "output_type": "stream",
     "text": [
      "<re.Match object; span=(13, 14), match='a'>\n"
     ]
    }
   ],
   "execution_count": 112
  },
  {
   "metadata": {
    "ExecuteTime": {
     "end_time": "2025-09-16T09:14:35.644867Z",
     "start_time": "2025-09-16T09:14:35.629333Z"
    }
   },
   "cell_type": "code",
   "source": [
    "p = re.compile(r\"\\ba\\b\")\n",
    "print(p.search(\"I have a dog\"))"
   ],
   "id": "6a432cce07a4e3ba",
   "outputs": [
    {
     "name": "stdout",
     "output_type": "stream",
     "text": [
      "<re.Match object; span=(7, 8), match='a'>\n"
     ]
    }
   ],
   "execution_count": 113
  },
  {
   "metadata": {
    "ExecuteTime": {
     "end_time": "2025-09-16T15:12:41.656424Z",
     "start_time": "2025-09-16T15:12:41.645069Z"
    }
   },
   "cell_type": "code",
   "source": [
    "p = re.compile(r\"\\b\")\n",
    "print(p.search(\"what\"))\n",
    "print(p.findall(\"what\"))"
   ],
   "id": "72b8d8369609faa",
   "outputs": [
    {
     "name": "stdout",
     "output_type": "stream",
     "text": [
      "<re.Match object; span=(0, 0), match=''>\n",
      "['', '']\n"
     ]
    }
   ],
   "execution_count": 143
  },
  {
   "metadata": {
    "ExecuteTime": {
     "end_time": "2025-09-17T08:35:00.821275Z",
     "start_time": "2025-09-17T08:35:00.816654Z"
    }
   },
   "cell_type": "code",
   "source": [
    "p = re.compile(r\"\")\n",
    "print(p.search(\"what\"))\n",
    "print(p.findall(\"what\"))\n",
    "p = re.compile(r\"\\B\")\n",
    "print(p.search(\"what\"))\n",
    "print(p.findall(\"what\"))"
   ],
   "id": "34c82e9485060bac",
   "outputs": [
    {
     "name": "stdout",
     "output_type": "stream",
     "text": [
      "<re.Match object; span=(0, 0), match=''>\n",
      "['', '', '', '', '']\n",
      "<re.Match object; span=(1, 1), match=''>\n",
      "['', '', '']\n"
     ]
    }
   ],
   "execution_count": 3
  },
  {
   "metadata": {
    "ExecuteTime": {
     "end_time": "2025-09-16T15:13:26.436060Z",
     "start_time": "2025-09-16T15:13:26.430308Z"
    }
   },
   "cell_type": "code",
   "source": [
    "p = re.compile(r\"a\\b\")\n",
    "print(p.search(\"I ha\\nve a panda\"))\n",
    "print(p.findall(\"I ha\\nve a panda\"))"
   ],
   "id": "97bca13f034218c5",
   "outputs": [
    {
     "name": "stdout",
     "output_type": "stream",
     "text": [
      "<re.Match object; span=(3, 4), match='a'>\n",
      "['a', 'a', 'a']\n"
     ]
    }
   ],
   "execution_count": 145
  },
  {
   "metadata": {
    "ExecuteTime": {
     "end_time": "2025-09-16T09:14:35.799645Z",
     "start_time": "2025-09-16T09:14:35.784482Z"
    }
   },
   "cell_type": "code",
   "source": [
    "p = re.compile(r\"a\\b\")\n",
    "print(p.findall('abc'))\n",
    "print(p.findall('a123'))\n",
    "print(p.findall('a_24'))\n",
    "print(p.findall('a你好'))\n",
    "print()\n",
    "print(p.findall('a-你好'))\n",
    "print(p.findall('a+你好'))\n",
    "print(p.findall('a*'))\n",
    "print(p.findall('a/'))\n",
    "print(p.findall('a '))\n",
    "print(p.findall('a\\n'))\n",
    "print(p.findall('a\\t'))"
   ],
   "id": "bfcbc6b0ae2de350",
   "outputs": [
    {
     "name": "stdout",
     "output_type": "stream",
     "text": [
      "[]\n",
      "[]\n",
      "[]\n",
      "[]\n",
      "\n",
      "['a']\n",
      "['a']\n",
      "['a']\n",
      "['a']\n",
      "['a']\n",
      "['a']\n",
      "['a']\n"
     ]
    }
   ],
   "execution_count": 117
  },
  {
   "metadata": {
    "ExecuteTime": {
     "end_time": "2025-09-16T09:14:35.830935Z",
     "start_time": "2025-09-16T09:14:35.827552Z"
    }
   },
   "cell_type": "code",
   "source": [
    "p = re.compile(r\"\\d\")\n",
    "print(p.findall(\"ab41+789*- C\"))"
   ],
   "id": "1502b06ea9c2f8c3",
   "outputs": [
    {
     "name": "stdout",
     "output_type": "stream",
     "text": [
      "['4', '1', '7', '8', '9']\n"
     ]
    }
   ],
   "execution_count": 118
  },
  {
   "metadata": {
    "ExecuteTime": {
     "end_time": "2025-09-16T09:14:35.876703Z",
     "start_time": "2025-09-16T09:14:35.860223Z"
    }
   },
   "cell_type": "code",
   "source": [
    "p = re.compile(r\"\\d+\")\n",
    "print(p.findall(\"ab41+789*- C\"))"
   ],
   "id": "c454c77b1e800c46",
   "outputs": [
    {
     "name": "stdout",
     "output_type": "stream",
     "text": [
      "['41', '789']\n"
     ]
    }
   ],
   "execution_count": 119
  },
  {
   "metadata": {
    "ExecuteTime": {
     "end_time": "2025-09-16T09:14:35.892057Z",
     "start_time": "2025-09-16T09:14:35.880477Z"
    }
   },
   "cell_type": "code",
   "source": [
    "p = re.compile(r\"\\D\")\n",
    "print(p.findall(\"ab41+789*- C\"))"
   ],
   "id": "4d2b5a6d154ab5d4",
   "outputs": [
    {
     "name": "stdout",
     "output_type": "stream",
     "text": [
      "['a', 'b', '+', '*', '-', ' ', 'C']\n"
     ]
    }
   ],
   "execution_count": 120
  },
  {
   "metadata": {
    "ExecuteTime": {
     "end_time": "2025-09-16T09:14:35.939489Z",
     "start_time": "2025-09-16T09:14:35.921445Z"
    }
   },
   "cell_type": "code",
   "source": [
    "p = re.compile(r\"\\D+\")\n",
    "print(p.findall(\"ab41+789*- C\"))"
   ],
   "id": "9dde9bc589576cd",
   "outputs": [
    {
     "name": "stdout",
     "output_type": "stream",
     "text": [
      "['ab', '+', '*- C']\n"
     ]
    }
   ],
   "execution_count": 121
  },
  {
   "metadata": {
    "ExecuteTime": {
     "end_time": "2025-09-16T09:14:36.001708Z",
     "start_time": "2025-09-16T09:14:35.991339Z"
    }
   },
   "cell_type": "code",
   "source": [
    "p = re.compile(r\"a\\sc\")\n",
    "print(p.findall(\"adc a cc\\nc  a\\tc a+c  a我c\"))"
   ],
   "id": "83976d737b4943e5",
   "outputs": [
    {
     "name": "stdout",
     "output_type": "stream",
     "text": [
      "['a c', 'a\\tc']\n"
     ]
    }
   ],
   "execution_count": 122
  },
  {
   "metadata": {
    "ExecuteTime": {
     "end_time": "2025-09-16T09:14:36.033489Z",
     "start_time": "2025-09-16T09:14:36.022053Z"
    }
   },
   "cell_type": "code",
   "source": [
    "p = re.compile(r\"a\\Sc\")\n",
    "print(p.findall(\"adc a cc\\nc  a\\tc a+c  a我c\"))"
   ],
   "id": "b96a15543e542310",
   "outputs": [
    {
     "name": "stdout",
     "output_type": "stream",
     "text": [
      "['adc', 'a+c', 'a我c']\n"
     ]
    }
   ],
   "execution_count": 123
  },
  {
   "metadata": {
    "ExecuteTime": {
     "end_time": "2025-09-16T09:14:36.081544Z",
     "start_time": "2025-09-16T09:14:36.074369Z"
    }
   },
   "cell_type": "code",
   "source": [
    "p = re.compile(r\"a\\wb\")\n",
    "print(p.findall(\"adba9ba_ba b aのb a+b a-b a\\nb\"))"
   ],
   "id": "a3fc8925c9eed1de",
   "outputs": [
    {
     "name": "stdout",
     "output_type": "stream",
     "text": [
      "['adb', 'a9b', 'a_b', 'aのb']\n"
     ]
    }
   ],
   "execution_count": 124
  },
  {
   "metadata": {
    "ExecuteTime": {
     "end_time": "2025-09-16T09:14:36.111904Z",
     "start_time": "2025-09-16T09:14:36.103992Z"
    }
   },
   "cell_type": "code",
   "source": [
    "import re\n",
    "\n",
    "p = re.compile(r\"a\\Wb\")\n",
    "print(p.findall(\"adba9ba_ba b aのb a+b a-b a\\nb\"))"
   ],
   "id": "2403761dfe994acb",
   "outputs": [
    {
     "name": "stdout",
     "output_type": "stream",
     "text": [
      "['a b', 'a+b', 'a-b', 'a\\nb']\n"
     ]
    }
   ],
   "execution_count": 125
  },
  {
   "metadata": {
    "ExecuteTime": {
     "end_time": "2025-09-16T09:14:36.143363Z",
     "start_time": "2025-09-16T09:14:36.142209Z"
    }
   },
   "cell_type": "code",
   "source": "",
   "id": "c6c6edc5d9ac9e6",
   "outputs": [],
   "execution_count": 125
  }
 ],
 "metadata": {
  "kernelspec": {
   "display_name": "Python 3",
   "language": "python",
   "name": "python3"
  },
  "language_info": {
   "codemirror_mode": {
    "name": "ipython",
    "version": 2
   },
   "file_extension": ".py",
   "mimetype": "text/x-python",
   "name": "python",
   "nbconvert_exporter": "python",
   "pygments_lexer": "ipython2",
   "version": "2.7.6"
  }
 },
 "nbformat": 4,
 "nbformat_minor": 5
}
