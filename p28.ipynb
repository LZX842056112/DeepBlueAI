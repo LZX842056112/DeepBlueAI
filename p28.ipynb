{
 "cells": [
  {
   "metadata": {
    "ExecuteTime": {
     "end_time": "2025-09-16T05:22:30.771767Z",
     "start_time": "2025-09-16T05:22:30.755129Z"
    }
   },
   "cell_type": "code",
   "source": "import re",
   "id": "365b0bd3d013dad",
   "outputs": [],
   "execution_count": 34
  },
  {
   "metadata": {
    "ExecuteTime": {
     "end_time": "2025-09-16T05:31:32.064369Z",
     "start_time": "2025-09-16T05:31:32.045547Z"
    }
   },
   "cell_type": "code",
   "source": [
    "# p = re.compile('abc d')\n",
    "p = re.compile('abcd')\n",
    "print(p)\n",
    "print(type(p))"
   ],
   "id": "893530d386164567",
   "outputs": [
    {
     "name": "stdout",
     "output_type": "stream",
     "text": [
      "re.compile('abcd')\n",
      "<class 're.Pattern'>\n"
     ]
    }
   ],
   "execution_count": 58
  },
  {
   "metadata": {
    "ExecuteTime": {
     "end_time": "2025-09-16T05:31:32.395874Z",
     "start_time": "2025-09-16T05:31:32.390712Z"
    }
   },
   "cell_type": "code",
   "source": [
    "m = p.search('wa8kabc6+abcd-43abcdja')\n",
    "print(m)\n",
    "print(type(m))\n",
    "print(m.group())\n",
    "print(m.span())\n",
    "print(m.start())\n",
    "print(m.end())"
   ],
   "id": "b8785e95a29293ab",
   "outputs": [
    {
     "name": "stdout",
     "output_type": "stream",
     "text": [
      "<re.Match object; span=(9, 13), match='abcd'>\n",
      "<class 're.Match'>\n",
      "abcd\n",
      "(9, 13)\n",
      "9\n",
      "13\n"
     ]
    }
   ],
   "execution_count": 59
  },
  {
   "metadata": {
    "ExecuteTime": {
     "end_time": "2025-09-16T05:31:32.816184Z",
     "start_time": "2025-09-16T05:31:32.797075Z"
    }
   },
   "cell_type": "code",
   "source": [
    "m = p.search('wa8kabc6+abcd-43abcdja', pos=15)\n",
    "print(m)\n",
    "print(type(m))\n",
    "print(m.group())\n",
    "print(m.span())\n",
    "print(m.start())\n",
    "print(m.end())"
   ],
   "id": "4fbbd9eb38e03779",
   "outputs": [
    {
     "name": "stdout",
     "output_type": "stream",
     "text": [
      "<re.Match object; span=(16, 20), match='abcd'>\n",
      "<class 're.Match'>\n",
      "abcd\n",
      "(16, 20)\n",
      "16\n",
      "20\n"
     ]
    }
   ],
   "execution_count": 60
  },
  {
   "metadata": {
    "ExecuteTime": {
     "end_time": "2025-09-16T05:34:21.162556Z",
     "start_time": "2025-09-16T05:34:21.151888Z"
    }
   },
   "cell_type": "code",
   "source": [
    "m = p.match('wa8kabc6+abcd-43abcdja')\n",
    "print(m)"
   ],
   "id": "6e57012f1d11b38f",
   "outputs": [
    {
     "name": "stdout",
     "output_type": "stream",
     "text": [
      "None\n"
     ]
    }
   ],
   "execution_count": 62
  },
  {
   "metadata": {
    "ExecuteTime": {
     "end_time": "2025-09-16T05:34:22.958282Z",
     "start_time": "2025-09-16T05:34:22.943430Z"
    }
   },
   "cell_type": "code",
   "source": [
    "m = p.match('wa8kabc6+abcd-43abcdja', pos=9)\n",
    "print(m)"
   ],
   "id": "b33333c68c87449f",
   "outputs": [
    {
     "name": "stdout",
     "output_type": "stream",
     "text": [
      "<re.Match object; span=(9, 13), match='abcd'>\n"
     ]
    }
   ],
   "execution_count": 63
  },
  {
   "metadata": {
    "ExecuteTime": {
     "end_time": "2025-09-16T05:35:34.280678Z",
     "start_time": "2025-09-16T05:35:34.264817Z"
    }
   },
   "cell_type": "code",
   "source": [
    "m = p.fullmatch('wa8kabc6+abcd-43abcdja', pos=9)\n",
    "print(m)"
   ],
   "id": "60343195c01f7a25",
   "outputs": [
    {
     "name": "stdout",
     "output_type": "stream",
     "text": [
      "None\n"
     ]
    }
   ],
   "execution_count": 66
  },
  {
   "metadata": {
    "ExecuteTime": {
     "end_time": "2025-09-16T05:36:01.990729Z",
     "start_time": "2025-09-16T05:36:01.973967Z"
    }
   },
   "cell_type": "code",
   "source": [
    "m = p.fullmatch('wa8kabc6+abcd-43abcdja', pos=9, endpos=13)\n",
    "print(m)"
   ],
   "id": "62935af2abb4bde",
   "outputs": [
    {
     "name": "stdout",
     "output_type": "stream",
     "text": [
      "<re.Match object; span=(9, 13), match='abcd'>\n"
     ]
    }
   ],
   "execution_count": 67
  },
  {
   "metadata": {
    "ExecuteTime": {
     "end_time": "2025-09-16T05:37:04.465265Z",
     "start_time": "2025-09-16T05:37:04.460615Z"
    }
   },
   "cell_type": "code",
   "source": "p.findall('wa8kabc6+abcd-43abcdja')",
   "id": "e8cf10a23d6951e",
   "outputs": [
    {
     "data": {
      "text/plain": [
       "['abcd', 'abcd']"
      ]
     },
     "execution_count": 68,
     "metadata": {},
     "output_type": "execute_result"
    }
   ],
   "execution_count": 68
  },
  {
   "metadata": {
    "ExecuteTime": {
     "end_time": "2025-09-16T05:38:37.360067Z",
     "start_time": "2025-09-16T05:38:37.352847Z"
    }
   },
   "cell_type": "code",
   "source": [
    "p = re.compile('aaa')\n",
    "p.findall('aaaaa')"
   ],
   "id": "57c9179f720f8744",
   "outputs": [
    {
     "data": {
      "text/plain": [
       "['aaa']"
      ]
     },
     "execution_count": 69,
     "metadata": {},
     "output_type": "execute_result"
    }
   ],
   "execution_count": 69
  },
  {
   "metadata": {
    "ExecuteTime": {
     "end_time": "2025-09-16T05:46:17.983576Z",
     "start_time": "2025-09-16T05:46:17.970121Z"
    }
   },
   "cell_type": "code",
   "source": [
    "p = re.compile(r'\\\\\\\\')\n",
    "string = r'e\\g7\\\\10E\\\\\\H4'\n",
    "p.findall(string)"
   ],
   "id": "bb44bb0155c62a8b",
   "outputs": [
    {
     "data": {
      "text/plain": [
       "['\\\\\\\\', '\\\\\\\\']"
      ]
     },
     "execution_count": 72,
     "metadata": {},
     "output_type": "execute_result"
    }
   ],
   "execution_count": 72
  },
  {
   "metadata": {
    "ExecuteTime": {
     "end_time": "2025-09-16T05:47:43.808809Z",
     "start_time": "2025-09-16T05:47:43.795194Z"
    }
   },
   "cell_type": "code",
   "source": [
    "p = re.compile(r'ab.c')\n",
    "string = 'ab c ab+c ab我c ab\\nc ab\\tc abkfc'\n",
    "p.findall(string)"
   ],
   "id": "5d72545317f95ec",
   "outputs": [
    {
     "data": {
      "text/plain": [
       "['ab c', 'ab+c', 'ab我c', 'ab\\tc']"
      ]
     },
     "execution_count": 75,
     "metadata": {},
     "output_type": "execute_result"
    }
   ],
   "execution_count": 75
  },
  {
   "metadata": {
    "ExecuteTime": {
     "end_time": "2025-09-16T05:53:43.822672Z",
     "start_time": "2025-09-16T05:53:43.814144Z"
    }
   },
   "cell_type": "code",
   "source": [
    "p = re.compile(r'ab.c', flags=re.S)\n",
    "p = re.compile(r'ab.c', flags=re.DOTALL)\n",
    "string = 'ab c ab+c ab我c ab\\nc ab\\tc abkfc'\n",
    "p.findall(string)"
   ],
   "id": "c6bedea34e292c14",
   "outputs": [
    {
     "data": {
      "text/plain": [
       "['ab c', 'ab+c', 'ab我c', 'ab\\nc', 'ab\\tc']"
      ]
     },
     "execution_count": 95,
     "metadata": {},
     "output_type": "execute_result"
    }
   ],
   "execution_count": 95
  },
  {
   "metadata": {
    "ExecuteTime": {
     "end_time": "2025-09-16T05:53:44.878756Z",
     "start_time": "2025-09-16T05:53:44.874065Z"
    }
   },
   "cell_type": "code",
   "source": [
    "p = re.compile(r'^ab')\n",
    "string = 'abcd\\nabfabg'\n",
    "p.findall(string)"
   ],
   "id": "90c37541d1b05deb",
   "outputs": [
    {
     "data": {
      "text/plain": [
       "['ab']"
      ]
     },
     "execution_count": 96,
     "metadata": {},
     "output_type": "execute_result"
    }
   ],
   "execution_count": 96
  },
  {
   "metadata": {
    "ExecuteTime": {
     "end_time": "2025-09-16T05:53:45.733064Z",
     "start_time": "2025-09-16T05:53:45.714373Z"
    }
   },
   "cell_type": "code",
   "source": [
    "p = re.compile(r'^ab', re.M)\n",
    "string = 'abcd\\nabfabg'\n",
    "p.findall(string)"
   ],
   "id": "f3e6621718e2ae29",
   "outputs": [
    {
     "data": {
      "text/plain": [
       "['ab', 'ab']"
      ]
     },
     "execution_count": 97,
     "metadata": {},
     "output_type": "execute_result"
    }
   ],
   "execution_count": 97
  },
  {
   "metadata": {
    "ExecuteTime": {
     "end_time": "2025-09-16T05:55:45.148336Z",
     "start_time": "2025-09-16T05:55:45.130533Z"
    }
   },
   "cell_type": "code",
   "source": [
    "p = re.compile(r'^', re.M)\n",
    "string = 'abcd\\nabfabg\\n'\n",
    "p.findall(string)"
   ],
   "id": "7e248cca93a52d4e",
   "outputs": [
    {
     "data": {
      "text/plain": [
       "['', '', '']"
      ]
     },
     "execution_count": 99,
     "metadata": {},
     "output_type": "execute_result"
    }
   ],
   "execution_count": 99
  },
  {
   "metadata": {
    "ExecuteTime": {
     "end_time": "2025-09-16T05:57:04.724747Z",
     "start_time": "2025-09-16T05:57:04.710677Z"
    }
   },
   "cell_type": "code",
   "source": [
    "p = re.compile(r'cd')\n",
    "string = 'acdbcd\\nefcd'\n",
    "p.findall(string)"
   ],
   "id": "14fdc34b1788ac1c",
   "outputs": [
    {
     "data": {
      "text/plain": [
       "['cd', 'cd', 'cd']"
      ]
     },
     "execution_count": 100,
     "metadata": {},
     "output_type": "execute_result"
    }
   ],
   "execution_count": 100
  },
  {
   "metadata": {
    "ExecuteTime": {
     "end_time": "2025-09-16T05:57:18.917810Z",
     "start_time": "2025-09-16T05:57:18.912078Z"
    }
   },
   "cell_type": "code",
   "source": [
    "p = re.compile(r'cd$')\n",
    "string = 'acdbcd\\nefcd'\n",
    "p.findall(string)"
   ],
   "id": "7dde0845f937aaac",
   "outputs": [
    {
     "data": {
      "text/plain": [
       "['cd']"
      ]
     },
     "execution_count": 101,
     "metadata": {},
     "output_type": "execute_result"
    }
   ],
   "execution_count": 101
  },
  {
   "metadata": {
    "ExecuteTime": {
     "end_time": "2025-09-16T05:59:28.315630Z",
     "start_time": "2025-09-16T05:59:28.306422Z"
    }
   },
   "cell_type": "code",
   "source": [
    "p = re.compile(r'cd$', re.M)\n",
    "string = 'acdbcd\\nefcd'\n",
    "p.findall(string)"
   ],
   "id": "cbfb07d26ccea797",
   "outputs": [
    {
     "data": {
      "text/plain": [
       "['cd', 'cd']"
      ]
     },
     "execution_count": 110,
     "metadata": {},
     "output_type": "execute_result"
    }
   ],
   "execution_count": 110
  },
  {
   "metadata": {
    "ExecuteTime": {
     "end_time": "2025-09-16T05:59:52.665838Z",
     "start_time": "2025-09-16T05:59:52.649005Z"
    }
   },
   "cell_type": "code",
   "source": [
    "p = re.compile(r'$', re.M)\n",
    "string = 'acdbcd\\nefcd\\n'\n",
    "p.findall(string)"
   ],
   "id": "77195e938750318e",
   "outputs": [
    {
     "data": {
      "text/plain": [
       "['', '', '']"
      ]
     },
     "execution_count": 112,
     "metadata": {},
     "output_type": "execute_result"
    }
   ],
   "execution_count": 112
  },
  {
   "metadata": {
    "ExecuteTime": {
     "end_time": "2025-09-16T06:04:16.446702Z",
     "start_time": "2025-09-16T06:04:16.438069Z"
    }
   },
   "cell_type": "code",
   "source": [
    "p = re.compile(r\"ab*\")\n",
    "print(p.search(\"a\"))\n",
    "print(p.search(\"ab\"))\n",
    "print(p.search(\"abb\"))\n",
    "print(p.search(\"abbbc\"))"
   ],
   "id": "32cf9278340a0617",
   "outputs": [
    {
     "name": "stdout",
     "output_type": "stream",
     "text": [
      "<re.Match object; span=(0, 1), match='a'>\n",
      "<re.Match object; span=(0, 2), match='ab'>\n",
      "<re.Match object; span=(0, 3), match='abb'>\n",
      "<re.Match object; span=(0, 4), match='abbb'>\n"
     ]
    }
   ],
   "execution_count": 113
  },
  {
   "metadata": {
    "ExecuteTime": {
     "end_time": "2025-09-16T06:07:26.154812Z",
     "start_time": "2025-09-16T06:07:26.148442Z"
    }
   },
   "cell_type": "code",
   "source": [
    "p = re.compile(r\"a.*\")\n",
    "print(p.search(\"a\"))\n",
    "print(p.search(\"ab\"))\n",
    "print(p.search(\"abb\"))\n",
    "print(p.search(\"abbbc\"))"
   ],
   "id": "a4a121a90f499a6c",
   "outputs": [
    {
     "name": "stdout",
     "output_type": "stream",
     "text": [
      "<re.Match object; span=(0, 1), match='a'>\n",
      "<re.Match object; span=(0, 2), match='ab'>\n",
      "<re.Match object; span=(0, 3), match='abb'>\n",
      "<re.Match object; span=(0, 5), match='abbbc'>\n"
     ]
    }
   ],
   "execution_count": 114
  },
  {
   "metadata": {
    "ExecuteTime": {
     "end_time": "2025-09-16T06:11:51.775813Z",
     "start_time": "2025-09-16T06:11:51.757116Z"
    }
   },
   "cell_type": "code",
   "source": [
    "p = re.compile(r\"ab{2}\")\n",
    "# p = re.compile(r\"ab{3}\")\n",
    "print(p.search(\"a\"))\n",
    "print(p.search(\"ab\"))\n",
    "print(p.search(\"abb\"))\n",
    "print(p.search(\"abbbc\"))"
   ],
   "id": "f37d731f1eb68d68",
   "outputs": [
    {
     "name": "stdout",
     "output_type": "stream",
     "text": [
      "None\n",
      "None\n",
      "<re.Match object; span=(0, 3), match='abb'>\n",
      "<re.Match object; span=(0, 3), match='abb'>\n"
     ]
    }
   ],
   "execution_count": 122
  },
  {
   "metadata": {
    "ExecuteTime": {
     "end_time": "2025-09-16T06:12:41.604259Z",
     "start_time": "2025-09-16T06:12:41.592622Z"
    }
   },
   "cell_type": "code",
   "source": [
    "p = re.compile(r\"ab{2,3}\")\n",
    "print(p.search(\"a\"))\n",
    "print(p.search(\"ab\"))\n",
    "print(p.search(\"abb\"))\n",
    "print(p.search(\"abbbc\"))"
   ],
   "id": "e134b22d9758de14",
   "outputs": [
    {
     "name": "stdout",
     "output_type": "stream",
     "text": [
      "None\n",
      "None\n",
      "<re.Match object; span=(0, 3), match='abb'>\n",
      "<re.Match object; span=(0, 4), match='abbb'>\n"
     ]
    }
   ],
   "execution_count": 125
  },
  {
   "metadata": {
    "ExecuteTime": {
     "end_time": "2025-09-16T06:15:20.638640Z",
     "start_time": "2025-09-16T06:15:20.634648Z"
    }
   },
   "cell_type": "code",
   "source": [
    "p = re.compile(r\"ab{1,}\")\n",
    "print(p.search(\"a\"))\n",
    "print(p.search(\"ab\"))\n",
    "print(p.search(\"abb\"))\n",
    "print(p.search(\"abbbc\"))"
   ],
   "id": "58743e448bd42b93",
   "outputs": [
    {
     "name": "stdout",
     "output_type": "stream",
     "text": [
      "None\n",
      "<re.Match object; span=(0, 2), match='ab'>\n",
      "<re.Match object; span=(0, 3), match='abb'>\n",
      "<re.Match object; span=(0, 4), match='abbb'>\n"
     ]
    }
   ],
   "execution_count": 130
  },
  {
   "metadata": {
    "ExecuteTime": {
     "end_time": "2025-09-16T06:19:59.605719Z",
     "start_time": "2025-09-16T06:19:59.591510Z"
    }
   },
   "cell_type": "code",
   "source": [
    "p = re.compile(r\"ab?\")\n",
    "print(p.search(\"a\"))\n",
    "print(p.search(\"ab\"))\n",
    "print(p.search(\"abb\"))\n",
    "print(p.search(\"abbbc\"))"
   ],
   "id": "88b1d24262215a4",
   "outputs": [
    {
     "name": "stdout",
     "output_type": "stream",
     "text": [
      "<re.Match object; span=(0, 1), match='a'>\n",
      "<re.Match object; span=(0, 2), match='ab'>\n",
      "<re.Match object; span=(0, 2), match='ab'>\n",
      "<re.Match object; span=(0, 2), match='ab'>\n"
     ]
    }
   ],
   "execution_count": 133
  },
  {
   "metadata": {
    "ExecuteTime": {
     "end_time": "2025-09-16T06:24:40.812220Z",
     "start_time": "2025-09-16T06:24:40.803904Z"
    }
   },
   "cell_type": "code",
   "source": [
    "p = re.compile(r'<.*>')\n",
    "print(p.search('<a> b <c>'))"
   ],
   "id": "327b030d388a9f23",
   "outputs": [
    {
     "name": "stdout",
     "output_type": "stream",
     "text": [
      "<re.Match object; span=(0, 9), match='<a> b <c>'>\n"
     ]
    }
   ],
   "execution_count": 137
  },
  {
   "metadata": {
    "ExecuteTime": {
     "end_time": "2025-09-16T06:24:42.676103Z",
     "start_time": "2025-09-16T06:24:42.668983Z"
    }
   },
   "cell_type": "code",
   "source": [
    "p = re.compile(r'<.*?>')\n",
    "print(p.search('<a> b <c>'))"
   ],
   "id": "560a2660655fe12e",
   "outputs": [
    {
     "name": "stdout",
     "output_type": "stream",
     "text": [
      "<re.Match object; span=(0, 3), match='<a>'>\n"
     ]
    }
   ],
   "execution_count": 138
  },
  {
   "metadata": {
    "ExecuteTime": {
     "end_time": "2025-09-16T06:27:11.615976Z",
     "start_time": "2025-09-16T06:27:11.602832Z"
    }
   },
   "cell_type": "code",
   "source": [
    "p = re.compile(r\"ab+?\")\n",
    "print(p.search(\"abbbc\"))"
   ],
   "id": "e7fca8c7fb55f2c0",
   "outputs": [
    {
     "name": "stdout",
     "output_type": "stream",
     "text": [
      "<re.Match object; span=(0, 2), match='ab'>\n"
     ]
    }
   ],
   "execution_count": 140
  },
  {
   "metadata": {
    "ExecuteTime": {
     "end_time": "2025-09-16T06:27:13.699375Z",
     "start_time": "2025-09-16T06:27:13.690423Z"
    }
   },
   "cell_type": "code",
   "source": [
    "p = re.compile(r\"ab??\")\n",
    "print(p.search(\"abc\"))"
   ],
   "id": "767dbfdc41d233a1",
   "outputs": [
    {
     "name": "stdout",
     "output_type": "stream",
     "text": [
      "<re.Match object; span=(0, 1), match='a'>\n"
     ]
    }
   ],
   "execution_count": 141
  },
  {
   "metadata": {
    "ExecuteTime": {
     "end_time": "2025-09-16T06:28:23.126722Z",
     "start_time": "2025-09-16T06:28:23.118659Z"
    }
   },
   "cell_type": "code",
   "source": [
    "p = re.compile(r\"ab{2,4}?\")\n",
    "print(p.search(\"abc\"))\n",
    "print(p.search(\"abbc\"))\n",
    "print(p.search(\"abbbc\"))\n",
    "print(p.search(\"abbbbc\"))\n",
    "print(p.search(\"abbbbbc\"))"
   ],
   "id": "551e288119da8be5",
   "outputs": [
    {
     "name": "stdout",
     "output_type": "stream",
     "text": [
      "None\n",
      "<re.Match object; span=(0, 3), match='abb'>\n",
      "<re.Match object; span=(0, 3), match='abb'>\n",
      "<re.Match object; span=(0, 3), match='abb'>\n",
      "<re.Match object; span=(0, 3), match='abb'>\n"
     ]
    }
   ],
   "execution_count": 142
  },
  {
   "metadata": {
    "ExecuteTime": {
     "end_time": "2025-09-16T06:28:28.051670Z",
     "start_time": "2025-09-16T06:28:28.042089Z"
    }
   },
   "cell_type": "code",
   "source": [
    "p = re.compile(r\"ab{,4}?\")\n",
    "print(p.search(\"ac\"))\n",
    "print(p.search(\"abc\"))"
   ],
   "id": "21e3b34fb4ee45ec",
   "outputs": [
    {
     "name": "stdout",
     "output_type": "stream",
     "text": [
      "<re.Match object; span=(0, 1), match='a'>\n",
      "<re.Match object; span=(0, 1), match='a'>\n"
     ]
    }
   ],
   "execution_count": 143
  },
  {
   "metadata": {
    "ExecuteTime": {
     "end_time": "2025-09-16T06:28:30.192962Z",
     "start_time": "2025-09-16T06:28:30.179372Z"
    }
   },
   "cell_type": "code",
   "source": [
    "p = re.compile(r\"ab{2,}?\")\n",
    "print(p.search(\"abbbbc\"))\n",
    "print(p.search(\"abbbbbc\"))"
   ],
   "id": "664b3c41fdee4924",
   "outputs": [
    {
     "name": "stdout",
     "output_type": "stream",
     "text": [
      "<re.Match object; span=(0, 3), match='abb'>\n",
      "<re.Match object; span=(0, 3), match='abb'>\n"
     ]
    }
   ],
   "execution_count": 144
  },
  {
   "metadata": {
    "ExecuteTime": {
     "end_time": "2025-09-16T06:29:29.364437Z",
     "start_time": "2025-09-16T06:29:29.360046Z"
    }
   },
   "cell_type": "code",
   "source": [
    "p = re.compile(r\"d|e|b\")\n",
    "print(p.search(\"abc\"))\n",
    "print(p.search(\"aebcd\"))"
   ],
   "id": "90a36181de1a4774",
   "outputs": [
    {
     "name": "stdout",
     "output_type": "stream",
     "text": [
      "<re.Match object; span=(1, 2), match='b'>\n",
      "<re.Match object; span=(1, 2), match='e'>\n"
     ]
    }
   ],
   "execution_count": 145
  },
  {
   "metadata": {
    "ExecuteTime": {
     "end_time": "2025-09-16T07:02:58.545879Z",
     "start_time": "2025-09-16T07:02:58.539187Z"
    }
   },
   "cell_type": "code",
   "source": [
    "p = re.compile(r\"\\++\")\n",
    "p.findall('a...8b++e..t+++2.1+')"
   ],
   "id": "cea097445c994ce4",
   "outputs": [
    {
     "data": {
      "text/plain": [
       "['++', '+++', '+']"
      ]
     },
     "execution_count": 153,
     "metadata": {},
     "output_type": "execute_result"
    }
   ],
   "execution_count": 153
  },
  {
   "metadata": {
    "ExecuteTime": {
     "end_time": "2025-09-16T07:02:59.441559Z",
     "start_time": "2025-09-16T07:02:59.431941Z"
    }
   },
   "cell_type": "code",
   "source": [
    "p = re.compile(r\"\\.+\")\n",
    "p.findall('a...8b++e..t+++2.1+')"
   ],
   "id": "39dbb84b64a9c2e7",
   "outputs": [
    {
     "data": {
      "text/plain": [
       "['...', '..', '.']"
      ]
     },
     "execution_count": 154,
     "metadata": {},
     "output_type": "execute_result"
    }
   ],
   "execution_count": 154
  },
  {
   "metadata": {
    "ExecuteTime": {
     "end_time": "2025-09-16T07:05:22.722286Z",
     "start_time": "2025-09-16T07:05:22.708113Z"
    }
   },
   "cell_type": "code",
   "source": [
    "p = re.compile(r'\\Aab')\n",
    "string = 'abcd\\nabfabg'\n",
    "p.findall(string)"
   ],
   "id": "7935f2a7a871d2d0",
   "outputs": [
    {
     "data": {
      "text/plain": [
       "['ab']"
      ]
     },
     "execution_count": 155,
     "metadata": {},
     "output_type": "execute_result"
    }
   ],
   "execution_count": 155
  },
  {
   "metadata": {
    "ExecuteTime": {
     "end_time": "2025-09-16T07:06:39.752941Z",
     "start_time": "2025-09-16T07:06:39.735878Z"
    }
   },
   "cell_type": "code",
   "source": [
    "p = re.compile(r'\\Aab',re.M)\n",
    "string = 'abcd\\nabfabg'\n",
    "p.findall(string)"
   ],
   "id": "58532a9273767b8f",
   "outputs": [
    {
     "data": {
      "text/plain": [
       "['ab']"
      ]
     },
     "execution_count": 159,
     "metadata": {},
     "output_type": "execute_result"
    }
   ],
   "execution_count": 159
  },
  {
   "metadata": {
    "ExecuteTime": {
     "end_time": "2025-09-16T07:06:56.210454Z",
     "start_time": "2025-09-16T07:06:56.203594Z"
    }
   },
   "cell_type": "code",
   "source": [
    "p = re.compile(r'\\A',re.M)\n",
    "string = 'abcd\\nabfabg'\n",
    "p.findall(string)"
   ],
   "id": "41812a8a91597a3e",
   "outputs": [
    {
     "data": {
      "text/plain": [
       "['']"
      ]
     },
     "execution_count": 160,
     "metadata": {},
     "output_type": "execute_result"
    }
   ],
   "execution_count": 160
  },
  {
   "metadata": {
    "ExecuteTime": {
     "end_time": "2025-09-16T07:07:29.021743Z",
     "start_time": "2025-09-16T07:07:29.012977Z"
    }
   },
   "cell_type": "code",
   "source": [
    "p = re.compile(r'\\Z',re.M)\n",
    "string = 'abcd\\nabfabg'\n",
    "p.findall(string)"
   ],
   "id": "6c284a1195cf8d5b",
   "outputs": [
    {
     "data": {
      "text/plain": [
       "['']"
      ]
     },
     "execution_count": 161,
     "metadata": {},
     "output_type": "execute_result"
    }
   ],
   "execution_count": 161
  },
  {
   "metadata": {
    "ExecuteTime": {
     "end_time": "2025-09-16T07:09:36.283051Z",
     "start_time": "2025-09-16T07:09:36.267882Z"
    }
   },
   "cell_type": "code",
   "source": [
    "p = re.compile(r'CD\\Z')\n",
    "string = 'ACDBCD\\nNEFCD\\n'\n",
    "p.findall(string)"
   ],
   "id": "708e95ddf5abc22e",
   "outputs": [
    {
     "data": {
      "text/plain": [
       "[]"
      ]
     },
     "execution_count": 165,
     "metadata": {},
     "output_type": "execute_result"
    }
   ],
   "execution_count": 165
  },
  {
   "metadata": {
    "ExecuteTime": {
     "end_time": "2025-09-16T07:09:36.829187Z",
     "start_time": "2025-09-16T07:09:36.816299Z"
    }
   },
   "cell_type": "code",
   "source": [
    "p = re.compile(r'CD\\Z',re.M)\n",
    "string = 'ACDBCD\\nNEFCD\\n'\n",
    "p.findall(string)"
   ],
   "id": "f58dcc351b7979e8",
   "outputs": [
    {
     "data": {
      "text/plain": [
       "[]"
      ]
     },
     "execution_count": 166,
     "metadata": {},
     "output_type": "execute_result"
    }
   ],
   "execution_count": 166
  },
  {
   "metadata": {
    "ExecuteTime": {
     "end_time": "2025-09-16T07:14:55.063972Z",
     "start_time": "2025-09-16T07:14:55.058789Z"
    }
   },
   "cell_type": "code",
   "source": [
    "p = re.compile(r\"er\\B\")\n",
    "print(p.search(\"never\"))\n",
    "print(p.search(\"verb\"))"
   ],
   "id": "ce46d6ab709dc27c",
   "outputs": [
    {
     "name": "stdout",
     "output_type": "stream",
     "text": [
      "None\n",
      "<re.Match object; span=(1, 3), match='er'>\n"
     ]
    }
   ],
   "execution_count": 183
  },
  {
   "metadata": {
    "ExecuteTime": {
     "end_time": "2025-09-16T07:14:55.796017Z",
     "start_time": "2025-09-16T07:14:55.781748Z"
    }
   },
   "cell_type": "code",
   "source": [
    "p = re.compile(r\"er\\b\")\n",
    "print(p.search(\"never\"))\n",
    "print(p.search(\"verb\"))"
   ],
   "id": "508010483396e22d",
   "outputs": [
    {
     "name": "stdout",
     "output_type": "stream",
     "text": [
      "<re.Match object; span=(3, 5), match='er'>\n",
      "None\n"
     ]
    }
   ],
   "execution_count": 184
  },
  {
   "metadata": {
    "ExecuteTime": {
     "end_time": "2025-09-16T07:14:13.019781Z",
     "start_time": "2025-09-16T07:14:13.003621Z"
    }
   },
   "cell_type": "code",
   "source": [
    "p = re.compile(r\"\\ba\\b\")\n",
    "print(p.search(\"I have a panda\"))"
   ],
   "id": "b66123262768b4f7",
   "outputs": [
    {
     "name": "stdout",
     "output_type": "stream",
     "text": [
      "<re.Match object; span=(7, 8), match='a'>\n"
     ]
    }
   ],
   "execution_count": 178
  },
  {
   "metadata": {
    "ExecuteTime": {
     "end_time": "2025-09-16T07:14:13.968447Z",
     "start_time": "2025-09-16T07:14:13.952881Z"
    }
   },
   "cell_type": "code",
   "source": [
    "p = re.compile(r\"\\ba\")\n",
    "print(p.search(\"I have a panda\"))"
   ],
   "id": "6861ff853d9d191f",
   "outputs": [
    {
     "name": "stdout",
     "output_type": "stream",
     "text": [
      "<re.Match object; span=(7, 8), match='a'>\n"
     ]
    }
   ],
   "execution_count": 179
  },
  {
   "metadata": {
    "ExecuteTime": {
     "end_time": "2025-09-16T07:14:17.348688Z",
     "start_time": "2025-09-16T07:14:17.341711Z"
    }
   },
   "cell_type": "code",
   "source": [
    "p = re.compile(r\"a\\b\")\n",
    "print(p.search(\"I have a panda\"))"
   ],
   "id": "aa4e5285f7713034",
   "outputs": [
    {
     "name": "stdout",
     "output_type": "stream",
     "text": [
      "<re.Match object; span=(7, 8), match='a'>\n"
     ]
    }
   ],
   "execution_count": 180
  },
  {
   "metadata": {
    "ExecuteTime": {
     "end_time": "2025-09-16T07:14:24.572426Z",
     "start_time": "2025-09-16T07:14:24.564609Z"
    }
   },
   "cell_type": "code",
   "source": [
    "p = re.compile(r\"\\ba\\B\")\n",
    "print(p.search(\"I have a panda\"))"
   ],
   "id": "73b89084911d412b",
   "outputs": [
    {
     "name": "stdout",
     "output_type": "stream",
     "text": [
      "None\n"
     ]
    }
   ],
   "execution_count": 181
  },
  {
   "metadata": {
    "ExecuteTime": {
     "end_time": "2025-09-16T07:14:27.867901Z",
     "start_time": "2025-09-16T07:14:27.859492Z"
    }
   },
   "cell_type": "code",
   "source": [
    "p = re.compile(r\"\\Ba\\b\")\n",
    "print(p.search(\"I have a panda\"))"
   ],
   "id": "17781b4ee8f78772",
   "outputs": [
    {
     "name": "stdout",
     "output_type": "stream",
     "text": [
      "<re.Match object; span=(13, 14), match='a'>\n"
     ]
    }
   ],
   "execution_count": 182
  },
  {
   "metadata": {
    "ExecuteTime": {
     "end_time": "2025-09-16T07:20:53.681744Z",
     "start_time": "2025-09-16T07:20:53.678989Z"
    }
   },
   "cell_type": "code",
   "source": [
    "p = re.compile(r\"\\ba\\b\")\n",
    "print(p.search(\"I have a dog\"))"
   ],
   "id": "6a432cce07a4e3ba",
   "outputs": [
    {
     "name": "stdout",
     "output_type": "stream",
     "text": [
      "<re.Match object; span=(7, 8), match='a'>\n"
     ]
    }
   ],
   "execution_count": 208
  },
  {
   "metadata": {
    "ExecuteTime": {
     "end_time": "2025-09-16T07:18:27.273170Z",
     "start_time": "2025-09-16T07:18:27.262215Z"
    }
   },
   "cell_type": "code",
   "source": [
    "p = re.compile(r\"\\b\")\n",
    "print(p.search(\"what\"))"
   ],
   "id": "72b8d8369609faa",
   "outputs": [
    {
     "name": "stdout",
     "output_type": "stream",
     "text": [
      "<re.Match object; span=(0, 0), match=''>\n"
     ]
    }
   ],
   "execution_count": 201
  },
  {
   "metadata": {
    "ExecuteTime": {
     "end_time": "2025-09-16T07:18:32.259029Z",
     "start_time": "2025-09-16T07:18:32.248420Z"
    }
   },
   "cell_type": "code",
   "source": [
    "p = re.compile(r\"\\B\")\n",
    "print(p.search(\"what\"))"
   ],
   "id": "34c82e9485060bac",
   "outputs": [
    {
     "name": "stdout",
     "output_type": "stream",
     "text": [
      "<re.Match object; span=(1, 1), match=''>\n"
     ]
    }
   ],
   "execution_count": 203
  },
  {
   "metadata": {
    "ExecuteTime": {
     "end_time": "2025-09-16T07:19:24.785504Z",
     "start_time": "2025-09-16T07:19:24.771379Z"
    }
   },
   "cell_type": "code",
   "source": [
    "p = re.compile(r\"a\\b\")\n",
    "print(p.search(\"I ha\\nve a panda\"))"
   ],
   "id": "97bca13f034218c5",
   "outputs": [
    {
     "name": "stdout",
     "output_type": "stream",
     "text": [
      "<re.Match object; span=(3, 4), match='a'>\n"
     ]
    }
   ],
   "execution_count": 204
  },
  {
   "metadata": {
    "ExecuteTime": {
     "end_time": "2025-09-16T07:21:39.949628Z",
     "start_time": "2025-09-16T07:21:39.942130Z"
    }
   },
   "cell_type": "code",
   "source": [
    "p = re.compile(r\"a\\b\")\n",
    "print(p.findall('abc'))\n",
    "print(p.findall('a123'))\n",
    "print(p.findall('a_24'))\n",
    "print(p.findall('a你好'))\n",
    "print()\n",
    "print(p.findall('a-你好'))\n",
    "print(p.findall('a+你好'))\n",
    "print(p.findall('a*'))\n",
    "print(p.findall('a/'))\n",
    "print(p.findall('a '))\n",
    "print(p.findall('a\\n'))\n",
    "print(p.findall('a\\t'))"
   ],
   "id": "bfcbc6b0ae2de350",
   "outputs": [
    {
     "name": "stdout",
     "output_type": "stream",
     "text": [
      "[]\n",
      "[]\n",
      "[]\n",
      "[]\n",
      "\n",
      "['a']\n",
      "['a']\n",
      "['a']\n",
      "['a']\n",
      "['a']\n",
      "['a']\n",
      "['a']\n"
     ]
    }
   ],
   "execution_count": 212
  },
  {
   "metadata": {
    "ExecuteTime": {
     "end_time": "2025-09-16T07:23:43.240167Z",
     "start_time": "2025-09-16T07:23:43.233925Z"
    }
   },
   "cell_type": "code",
   "source": [
    "p = re.compile(r\"\\d\")\n",
    "print(p.findall(\"ab41+789*- C\"))"
   ],
   "id": "1502b06ea9c2f8c3",
   "outputs": [
    {
     "name": "stdout",
     "output_type": "stream",
     "text": [
      "['4', '1', '7', '8', '9']\n"
     ]
    }
   ],
   "execution_count": 217
  },
  {
   "metadata": {
    "ExecuteTime": {
     "end_time": "2025-09-16T07:23:49.163485Z",
     "start_time": "2025-09-16T07:23:49.150095Z"
    }
   },
   "cell_type": "code",
   "source": [
    "p = re.compile(r\"\\d+\")\n",
    "print(p.findall(\"ab41+789*- C\"))"
   ],
   "id": "c454c77b1e800c46",
   "outputs": [
    {
     "name": "stdout",
     "output_type": "stream",
     "text": [
      "['41', '789']\n"
     ]
    }
   ],
   "execution_count": 218
  },
  {
   "metadata": {
    "ExecuteTime": {
     "end_time": "2025-09-16T07:23:55.785509Z",
     "start_time": "2025-09-16T07:23:55.771704Z"
    }
   },
   "cell_type": "code",
   "source": [
    "p = re.compile(r\"\\D\")\n",
    "print(p.findall(\"ab41+789*- C\"))"
   ],
   "id": "4d2b5a6d154ab5d4",
   "outputs": [
    {
     "name": "stdout",
     "output_type": "stream",
     "text": [
      "['a', 'b', '+', '*', '-', ' ', 'C']\n"
     ]
    }
   ],
   "execution_count": 219
  },
  {
   "metadata": {
    "ExecuteTime": {
     "end_time": "2025-09-16T07:23:57.371237Z",
     "start_time": "2025-09-16T07:23:57.357895Z"
    }
   },
   "cell_type": "code",
   "source": [
    "p = re.compile(r\"\\D+\")\n",
    "print(p.findall(\"ab41+789*- C\"))"
   ],
   "id": "9dde9bc589576cd",
   "outputs": [
    {
     "name": "stdout",
     "output_type": "stream",
     "text": [
      "['ab', '+', '*- C']\n"
     ]
    }
   ],
   "execution_count": 220
  },
  {
   "metadata": {
    "ExecuteTime": {
     "end_time": "2025-09-16T07:26:17.974587Z",
     "start_time": "2025-09-16T07:26:17.968387Z"
    }
   },
   "cell_type": "code",
   "source": [
    "p = re.compile(r\"a\\sc\")\n",
    "print(p.findall(\"adc a cc\\nc  a\\tc a+c  a我c\"))"
   ],
   "id": "83976d737b4943e5",
   "outputs": [
    {
     "name": "stdout",
     "output_type": "stream",
     "text": [
      "['a c', 'a\\tc']\n"
     ]
    }
   ],
   "execution_count": 223
  },
  {
   "metadata": {
    "ExecuteTime": {
     "end_time": "2025-09-16T07:26:27.651437Z",
     "start_time": "2025-09-16T07:26:27.633470Z"
    }
   },
   "cell_type": "code",
   "source": [
    "p = re.compile(r\"a\\Sc\")\n",
    "print(p.findall(\"adc a cc\\nc  a\\tc a+c  a我c\"))"
   ],
   "id": "b96a15543e542310",
   "outputs": [
    {
     "name": "stdout",
     "output_type": "stream",
     "text": [
      "['adc', 'a+c', 'a我c']\n"
     ]
    }
   ],
   "execution_count": 224
  },
  {
   "metadata": {
    "ExecuteTime": {
     "end_time": "2025-09-16T07:31:32.170834Z",
     "start_time": "2025-09-16T07:31:32.165346Z"
    }
   },
   "cell_type": "code",
   "source": [
    "p = re.compile(r\"a\\wb\")\n",
    "print(p.findall(\"adba9ba_ba b aのb a+b a-b a\\nb\"))"
   ],
   "id": "a3fc8925c9eed1de",
   "outputs": [
    {
     "name": "stdout",
     "output_type": "stream",
     "text": [
      "['adb', 'a9b', 'a_b', 'aのb']\n"
     ]
    }
   ],
   "execution_count": 232
  },
  {
   "metadata": {
    "ExecuteTime": {
     "end_time": "2025-09-16T07:31:32.916254Z",
     "start_time": "2025-09-16T07:31:32.909899Z"
    }
   },
   "cell_type": "code",
   "source": [
    "import re\n",
    "p = re.compile(r\"a\\Wb\")\n",
    "print(p.findall(\"adba9ba_ba b aのb a+b a-b a\\nb\"))"
   ],
   "id": "2403761dfe994acb",
   "outputs": [
    {
     "name": "stdout",
     "output_type": "stream",
     "text": [
      "['a b', 'a+b', 'a-b', 'a\\nb']\n"
     ]
    }
   ],
   "execution_count": 233
  },
  {
   "metadata": {},
   "cell_type": "code",
   "outputs": [],
   "execution_count": null,
   "source": "",
   "id": "c6c6edc5d9ac9e6"
  }
 ],
 "metadata": {
  "kernelspec": {
   "display_name": "Python 3",
   "language": "python",
   "name": "python3"
  },
  "language_info": {
   "codemirror_mode": {
    "name": "ipython",
    "version": 2
   },
   "file_extension": ".py",
   "mimetype": "text/x-python",
   "name": "python",
   "nbconvert_exporter": "python",
   "pygments_lexer": "ipython2",
   "version": "2.7.6"
  }
 },
 "nbformat": 4,
 "nbformat_minor": 5
}
