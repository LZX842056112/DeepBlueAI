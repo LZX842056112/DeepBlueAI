{
 "cells": [
  {
   "metadata": {},
   "cell_type": "markdown",
   "source": [
    "#### 什么是编程语言？\n",
    "- 用来和计算机交流，控制计算机，让计算机按照我们的要求做事情，这样的语言叫做编程语言。"
   ],
   "id": "5f554adceee29606"
  },
  {
   "metadata": {},
   "cell_type": "markdown",
   "source": [
    "#### 编程语言的发展历程？\n",
    "- 计算机语言经历了3个主要阶段：机器语言、汇编语言、高级语言\n",
    "- 机器语言：用二进制编码表示的机器指令，是CPU能直接识别并执行的唯一一种语言\n",
    "- 汇编语言：符号语言。用与机器指令含义相近的英文缩写、字母和数字等符号来取代机器指令\n",
    "- 高级语言：机器语言和汇编语言都是面向机器(硬件)的语言，占用内存空间少，运行速度快，但用起来繁琐费时，通用性差；而高级语言是面向用户的语言，更接近人类的自然语言，且无论何种机型的计算机，只要配备上相应的高级语言的编译或解释程序，就可以实现通用"
   ],
   "id": "6721794bafcc7501"
  },
  {
   "metadata": {},
   "cell_type": "markdown",
   "source": [
    "#### 编译型语言 & 解释型语言？\n",
    "- 用任何编程语言来开发程序，都是为了让计算机干活，而计算机干活的CPU只认识机器指令，所以，尽管不同的编程语言差异极大，最后都得“翻译”成CPU可以执行的机器指令。这种“翻译”通常有两种方式，即编译方式和解释方式：\n",
    "- 编译方式：源代码文件经过编译器翻译成目标程序文件，然后计算机再执行该目标程序。\n",
    "- 解释方式：源代码文件经过解释器逐句输入逐句翻译，计算机一句句执行，并不产生目标程序文件。"
   ],
   "id": "44055f1f806a3007"
  },
  {
   "metadata": {},
   "cell_type": "markdown",
   "source": [
    "#### Python 是什么样的语言?\n",
    "- Python是 \"龟叔\" Guido van Rossum（吉多·范罗苏姆，出生成长于荷兰，现美国国籍）在1989年圣诞节期间，为了打发无聊的圣诞节而编写的一种编程语言。现在，全世界有700多种编程语言，但流行的编程语言也就那么20来种。TIOBE 排行榜（每月更新一次）很好的反映了各种编程语言的热门程度。\n",
    "- TIOBE 排行榜：https://www.tiobe.com/tiobe-index/\n",
    "\n",
    "![TIOBE](picture/TIOBE.png)"
   ],
   "id": "812c89c66963eb57"
  },
  {
   "metadata": {},
   "cell_type": "markdown",
   "source": [
    "#### Python 环境搭建\n",
    "#### Python 安装\n",
    "- 官方宣布，2020 年1月1日，停止 Python 2 的更新，Python2.7 被确定为最后一个 Python 2.x 版本。Python 3 和Python 2 还是有差别的，所以现在学习 Python，通常选择Python 3.x 。大家可以根据情况选择不同的 Python 3.x 版本安装。\n",
    "- 可以通过anaconda搭建环境，anaconda包含了conda、Python等180多个科学包及其依赖项，这样会比单独安装Python，再去安装一堆的工具包更方便。\n",
    "- anaconda 官方下载地址：https://www.anaconda.com/products/individual\n",
    "- anaconda 清华镜像下载地址：https://mirrors.tuna.tsinghua.edu.cn/anaconda/archive/\n",
    "\n",
    "#### IDE 安装\n",
    "- 安装好Python之后就可以在命令行写程序了，但在命令行写程序并不是那么方便，所以通常我们会选择在IDE（集成开发环境）中编写程序，因为 IDE 集成了代码编写功能、分析功能、编译功能、调试功能等一体化的开发软件服务，可以大大提升我们的工作效率。\n",
    "- 主流的 Python IDE 有：PyCharm、VSCode、Jupyter、WingIDE 等等\n",
    "- 完全可以根据个人的习惯选择不同的 IDE\n",
    "- PyCharm 官方下载地址：https://www.jetbrains.com/pycharm/download/#section=windows"
   ],
   "id": "74e127bfb1389cbd"
  },
  {
   "metadata": {},
   "cell_type": "markdown",
   "source": [
    "#### Python 之禅（Zen of Python）\n",
    "- Python之禅是隐藏在Python语言中的一种哲学思想，作者是 TimPeters。旨在鼓励开发者编写更加优美、简洁、易读和可维护的代码。希望开发者遵循一致的编码风格，避免编写过度复杂和晦涩难懂的代码。\n",
    "\n",
    "![this](picture/this.png)\n",
    "\n",
    "- 翻译如下：\n",
    "- 优美胜于丑陋（Python 以编写优美的代码为目标）\n",
    "- 明了胜于晦涩（优美的代码应当是明了的，命名规范，风格相似）\n",
    "- 简洁胜于复杂（优美的代码应当是简洁的，不要有复杂的内部实现）\n",
    "- 复杂胜于凌乱（如果复杂不可避免，那代码间也不能有难懂的关系，要保持接口简洁）\n",
    "- 扁平胜于嵌套（优美的代码应当是扁平的，不能有太多的嵌套）\n",
    "- 间隔胜于紧凑（优美的代码有适当的间隔，不要奢望一行代码解决问题）\n",
    "- 可读性很重要（优美的代码是可读的）\n",
    "- 即便假借特例的实用性之名，也不可违背这些规则（这些规则至高无上）\n",
    "- 不要包容所有错误，除非你确定需要这样做（精准地捕获异常，不写 except:pass 风格的代码）\n",
    "- 当存在多种可能，不要尝试去猜测\n",
    "- 而是尽量找一种，最好是唯一一种明显的解决方案（如果不确定，就用穷举法）\n",
    "- 虽然这并不容易，因为你不是 Python 之父（这里的 Dutch 是指作者 Guido ）\n",
    "- 做也许好过不做，但不假思索就动手还不如不做（动手之前要细思量）\n",
    "- 如果你无法向人描述你的方案，那肯定不是一个好方案；反之亦然（方案测评标准）\n",
    "- 命名空间是一种绝妙的理念，我们应当多加利用（倡导与号召）"
   ],
   "id": "fe78034050ecb46e"
  },
  {
   "metadata": {},
   "cell_type": "markdown",
   "source": [
    "#### PyCharm 调试操作\n",
    "- 学会看IDE的各种提示，以及掌握如何调试代码"
   ],
   "id": "e9bc069a7309656e"
  },
  {
   "metadata": {
    "ExecuteTime": {
     "end_time": "2025-09-30T02:26:11.200881Z",
     "start_time": "2025-09-30T02:26:11.180438Z"
    }
   },
   "cell_type": "code",
   "source": [
    "print(\"执行第1行啦\")\n",
    "print(2 / 1)\n",
    "print(\"执行第3行啦\")\n",
    "a = 123\n",
    "print(a)\n",
    "\n",
    "\n",
    "def func(left, right):\n",
    "    print(\"执行第9行啦\")\n",
    "    print(\"执行第10行啦\", left + right)\n",
    "    print(\"执行第11行啦\", left - right)\n",
    "    print(\"执行第12行啦\", left * right, left / right)\n",
    "\n",
    "\n",
    "print(\"执行第15行啦\")\n",
    "func(3, 4)\n",
    "a = 124\n",
    "print(a)\n",
    "print(\"执行第19行啦\")"
   ],
   "id": "64483c9c9195c410",
   "outputs": [
    {
     "name": "stdout",
     "output_type": "stream",
     "text": [
      "执行第1行啦\n",
      "2.0\n",
      "执行第3行啦\n",
      "123\n",
      "执行第15行啦\n",
      "执行第9行啦\n",
      "执行第10行啦 7\n",
      "执行第11行啦 -1\n",
      "执行第12行啦 12 0.75\n",
      "124\n",
      "执行第19行啦\n"
     ]
    }
   ],
   "execution_count": 1
  },
  {
   "metadata": {
    "ExecuteTime": {
     "end_time": "2025-09-30T02:26:11.216945Z",
     "start_time": "2025-09-30T02:26:11.205184Z"
    }
   },
   "cell_type": "code",
   "source": [
    "import this\n",
    "\n",
    "print(this.s)"
   ],
   "id": "44261c7dc7d2546f",
   "outputs": [
    {
     "name": "stdout",
     "output_type": "stream",
     "text": [
      "The Zen of Python, by Tim Peters\n",
      "\n",
      "Beautiful is better than ugly.\n",
      "Explicit is better than implicit.\n",
      "Simple is better than complex.\n",
      "Complex is better than complicated.\n",
      "Flat is better than nested.\n",
      "Sparse is better than dense.\n",
      "Readability counts.\n",
      "Special cases aren't special enough to break the rules.\n",
      "Although practicality beats purity.\n",
      "Errors should never pass silently.\n",
      "Unless explicitly silenced.\n",
      "In the face of ambiguity, refuse the temptation to guess.\n",
      "There should be one-- and preferably only one --obvious way to do it.\n",
      "Although that way may not be obvious at first unless you're Dutch.\n",
      "Now is better than never.\n",
      "Although never is often better than *right* now.\n",
      "If the implementation is hard to explain, it's a bad idea.\n",
      "If the implementation is easy to explain, it may be a good idea.\n",
      "Namespaces are one honking great idea -- let's do more of those!\n",
      "Gur Mra bs Clguba, ol Gvz Crgref\n",
      "\n",
      "Ornhgvshy vf orggre guna htyl.\n",
      "Rkcyvpvg vf orggre guna vzcyvpvg.\n",
      "Fvzcyr vf orggre guna pbzcyrk.\n",
      "Pbzcyrk vf orggre guna pbzcyvpngrq.\n",
      "Syng vf orggre guna arfgrq.\n",
      "Fcnefr vf orggre guna qrafr.\n",
      "Ernqnovyvgl pbhagf.\n",
      "Fcrpvny pnfrf nera'g fcrpvny rabhtu gb oernx gur ehyrf.\n",
      "Nygubhtu cenpgvpnyvgl orngf chevgl.\n",
      "Reebef fubhyq arire cnff fvyragyl.\n",
      "Hayrff rkcyvpvgyl fvyraprq.\n",
      "Va gur snpr bs nzovthvgl, ershfr gur grzcgngvba gb thrff.\n",
      "Gurer fubhyq or bar-- naq cersrenoyl bayl bar --boivbhf jnl gb qb vg.\n",
      "Nygubhtu gung jnl znl abg or boivbhf ng svefg hayrff lbh'er Qhgpu.\n",
      "Abj vf orggre guna arire.\n",
      "Nygubhtu arire vf bsgra orggre guna *evtug* abj.\n",
      "Vs gur vzcyrzragngvba vf uneq gb rkcynva, vg'f n onq vqrn.\n",
      "Vs gur vzcyrzragngvba vf rnfl gb rkcynva, vg znl or n tbbq vqrn.\n",
      "Anzrfcnprf ner bar ubaxvat terng vqrn -- yrg'f qb zber bs gubfr!\n"
     ]
    }
   ],
   "execution_count": 2
  },
  {
   "metadata": {
    "ExecuteTime": {
     "end_time": "2025-09-30T02:26:11.247826Z",
     "start_time": "2025-09-30T02:26:11.221200Z"
    }
   },
   "cell_type": "code",
   "source": [
    "print(this.d)\n",
    "'''hugikhuo'''\n",
    "\n",
    "\"\"\"2+4949849\"\"\""
   ],
   "id": "dbbf9803df5595e8",
   "outputs": [
    {
     "name": "stdout",
     "output_type": "stream",
     "text": [
      "{'A': 'N', 'B': 'O', 'C': 'P', 'D': 'Q', 'E': 'R', 'F': 'S', 'G': 'T', 'H': 'U', 'I': 'V', 'J': 'W', 'K': 'X', 'L': 'Y', 'M': 'Z', 'N': 'A', 'O': 'B', 'P': 'C', 'Q': 'D', 'R': 'E', 'S': 'F', 'T': 'G', 'U': 'H', 'V': 'I', 'W': 'J', 'X': 'K', 'Y': 'L', 'Z': 'M', 'a': 'n', 'b': 'o', 'c': 'p', 'd': 'q', 'e': 'r', 'f': 's', 'g': 't', 'h': 'u', 'i': 'v', 'j': 'w', 'k': 'x', 'l': 'y', 'm': 'z', 'n': 'a', 'o': 'b', 'p': 'c', 'q': 'd', 'r': 'e', 's': 'f', 't': 'g', 'u': 'h', 'v': 'i', 'w': 'j', 'x': 'k', 'y': 'l', 'z': 'm'}\n"
     ]
    },
    {
     "data": {
      "text/plain": [
       "'2+4949849'"
      ]
     },
     "execution_count": 3,
     "metadata": {},
     "output_type": "execute_result"
    }
   ],
   "execution_count": 3
  }
 ],
 "metadata": {
  "kernelspec": {
   "display_name": "Python 3",
   "language": "python",
   "name": "python3"
  },
  "language_info": {
   "codemirror_mode": {
    "name": "ipython",
    "version": 2
   },
   "file_extension": ".py",
   "mimetype": "text/x-python",
   "name": "python",
   "nbconvert_exporter": "python",
   "pygments_lexer": "ipython2",
   "version": "2.7.6"
  }
 },
 "nbformat": 4,
 "nbformat_minor": 5
}
