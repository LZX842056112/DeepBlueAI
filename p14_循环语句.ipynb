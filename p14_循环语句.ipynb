{
 "cells": [
  {
   "metadata": {},
   "cell_type": "markdown",
   "source": "#### 循环语句",
   "id": "1aec4548efd8a854"
  },
  {
   "metadata": {},
   "cell_type": "markdown",
   "source": [
    "#### while 循环\n",
    "- while 判断条件:\n",
    "- 循环体"
   ],
   "id": "f70f5ed9709fba2d"
  },
  {
   "cell_type": "code",
   "id": "initial_id",
   "metadata": {
    "collapsed": true,
    "ExecuteTime": {
     "end_time": "2025-10-01T12:53:32.098640Z",
     "start_time": "2025-10-01T12:53:32.088396Z"
    }
   },
   "source": [
    "num = 1\n",
    "total = 0\n",
    "while num <= 100:\n",
    "    print(num)\n",
    "    total += num\n",
    "    num += 1\n",
    "print(total)"
   ],
   "outputs": [
    {
     "name": "stdout",
     "output_type": "stream",
     "text": [
      "1\n",
      "2\n",
      "3\n",
      "4\n",
      "5\n",
      "6\n",
      "7\n",
      "8\n",
      "9\n",
      "10\n",
      "11\n",
      "12\n",
      "13\n",
      "14\n",
      "15\n",
      "16\n",
      "17\n",
      "18\n",
      "19\n",
      "20\n",
      "21\n",
      "22\n",
      "23\n",
      "24\n",
      "25\n",
      "26\n",
      "27\n",
      "28\n",
      "29\n",
      "30\n",
      "31\n",
      "32\n",
      "33\n",
      "34\n",
      "35\n",
      "36\n",
      "37\n",
      "38\n",
      "39\n",
      "40\n",
      "41\n",
      "42\n",
      "43\n",
      "44\n",
      "45\n",
      "46\n",
      "47\n",
      "48\n",
      "49\n",
      "50\n",
      "51\n",
      "52\n",
      "53\n",
      "54\n",
      "55\n",
      "56\n",
      "57\n",
      "58\n",
      "59\n",
      "60\n",
      "61\n",
      "62\n",
      "63\n",
      "64\n",
      "65\n",
      "66\n",
      "67\n",
      "68\n",
      "69\n",
      "70\n",
      "71\n",
      "72\n",
      "73\n",
      "74\n",
      "75\n",
      "76\n",
      "77\n",
      "78\n",
      "79\n",
      "80\n",
      "81\n",
      "82\n",
      "83\n",
      "84\n",
      "85\n",
      "86\n",
      "87\n",
      "88\n",
      "89\n",
      "90\n",
      "91\n",
      "92\n",
      "93\n",
      "94\n",
      "95\n",
      "96\n",
      "97\n",
      "98\n",
      "99\n",
      "100\n",
      "5050\n"
     ]
    }
   ],
   "execution_count": 1
  },
  {
   "metadata": {
    "ExecuteTime": {
     "end_time": "2025-10-01T12:53:32.113824Z",
     "start_time": "2025-10-01T12:53:32.099637Z"
    }
   },
   "cell_type": "code",
   "source": [
    "num = 1\n",
    "while num <= 10:\n",
    "    if not num % 2:\n",
    "        print(num)\n",
    "    num += 1"
   ],
   "id": "376f255a93f97f25",
   "outputs": [
    {
     "name": "stdout",
     "output_type": "stream",
     "text": [
      "2\n",
      "4\n",
      "6\n",
      "8\n",
      "10\n"
     ]
    }
   ],
   "execution_count": 2
  },
  {
   "metadata": {},
   "cell_type": "markdown",
   "source": [
    "#### while True\n",
    "- 无限循环（俗称：死循环），通常配合 break 使用"
   ],
   "id": "9a78ea6e8e768a22"
  },
  {
   "metadata": {
    "ExecuteTime": {
     "end_time": "2025-10-01T12:53:32.128907Z",
     "start_time": "2025-10-01T12:53:32.115107Z"
    }
   },
   "cell_type": "code",
   "source": [
    "# 输出1-100之间的整数\n",
    "num = 1\n",
    "while True:\n",
    "    print(num)\n",
    "    num += 1\n",
    "    if num > 100:\n",
    "        break"
   ],
   "id": "96b7a04b14028e61",
   "outputs": [
    {
     "name": "stdout",
     "output_type": "stream",
     "text": [
      "1\n",
      "2\n",
      "3\n",
      "4\n",
      "5\n",
      "6\n",
      "7\n",
      "8\n",
      "9\n",
      "10\n",
      "11\n",
      "12\n",
      "13\n",
      "14\n",
      "15\n",
      "16\n",
      "17\n",
      "18\n",
      "19\n",
      "20\n",
      "21\n",
      "22\n",
      "23\n",
      "24\n",
      "25\n",
      "26\n",
      "27\n",
      "28\n",
      "29\n",
      "30\n",
      "31\n",
      "32\n",
      "33\n",
      "34\n",
      "35\n",
      "36\n",
      "37\n",
      "38\n",
      "39\n",
      "40\n",
      "41\n",
      "42\n",
      "43\n",
      "44\n",
      "45\n",
      "46\n",
      "47\n",
      "48\n",
      "49\n",
      "50\n",
      "51\n",
      "52\n",
      "53\n",
      "54\n",
      "55\n",
      "56\n",
      "57\n",
      "58\n",
      "59\n",
      "60\n",
      "61\n",
      "62\n",
      "63\n",
      "64\n",
      "65\n",
      "66\n",
      "67\n",
      "68\n",
      "69\n",
      "70\n",
      "71\n",
      "72\n",
      "73\n",
      "74\n",
      "75\n",
      "76\n",
      "77\n",
      "78\n",
      "79\n",
      "80\n",
      "81\n",
      "82\n",
      "83\n",
      "84\n",
      "85\n",
      "86\n",
      "87\n",
      "88\n",
      "89\n",
      "90\n",
      "91\n",
      "92\n",
      "93\n",
      "94\n",
      "95\n",
      "96\n",
      "97\n",
      "98\n",
      "99\n",
      "100\n"
     ]
    }
   ],
   "execution_count": 3
  },
  {
   "metadata": {
    "ExecuteTime": {
     "end_time": "2025-10-01T12:53:32.144829Z",
     "start_time": "2025-10-01T12:53:32.129903Z"
    }
   },
   "cell_type": "code",
   "source": [
    "num = 1\n",
    "while num <= 100:\n",
    "    # if '4' not in str(num):\n",
    "    # if num % 10 != 4 and num // 10 != 4:\n",
    "    if 4 not in (num % 10, num // 10):\n",
    "        print(num)\n",
    "    num += 1"
   ],
   "id": "c8b147c72a34dced",
   "outputs": [
    {
     "name": "stdout",
     "output_type": "stream",
     "text": [
      "1\n",
      "2\n",
      "3\n",
      "5\n",
      "6\n",
      "7\n",
      "8\n",
      "9\n",
      "10\n",
      "11\n",
      "12\n",
      "13\n",
      "15\n",
      "16\n",
      "17\n",
      "18\n",
      "19\n",
      "20\n",
      "21\n",
      "22\n",
      "23\n",
      "25\n",
      "26\n",
      "27\n",
      "28\n",
      "29\n",
      "30\n",
      "31\n",
      "32\n",
      "33\n",
      "35\n",
      "36\n",
      "37\n",
      "38\n",
      "39\n",
      "50\n",
      "51\n",
      "52\n",
      "53\n",
      "55\n",
      "56\n",
      "57\n",
      "58\n",
      "59\n",
      "60\n",
      "61\n",
      "62\n",
      "63\n",
      "65\n",
      "66\n",
      "67\n",
      "68\n",
      "69\n",
      "70\n",
      "71\n",
      "72\n",
      "73\n",
      "75\n",
      "76\n",
      "77\n",
      "78\n",
      "79\n",
      "80\n",
      "81\n",
      "82\n",
      "83\n",
      "85\n",
      "86\n",
      "87\n",
      "88\n",
      "89\n",
      "90\n",
      "91\n",
      "92\n",
      "93\n",
      "95\n",
      "96\n",
      "97\n",
      "98\n",
      "99\n",
      "100\n"
     ]
    }
   ],
   "execution_count": 4
  },
  {
   "metadata": {},
   "cell_type": "markdown",
   "source": "#### while 循环嵌套",
   "id": "e7e6fc8373e05038"
  },
  {
   "metadata": {
    "ExecuteTime": {
     "end_time": "2025-10-01T12:53:32.160418Z",
     "start_time": "2025-10-01T12:53:32.144829Z"
    }
   },
   "cell_type": "code",
   "source": [
    "# 实现九九乘法表\n",
    "right = 1\n",
    "while right <= 9:\n",
    "    left = 1\n",
    "    while left <= right:\n",
    "        print(f'{left}x{right}={left * right}', end='\\t')\n",
    "        left += 1\n",
    "    print()\n",
    "    right += 1"
   ],
   "id": "7347db4199244853",
   "outputs": [
    {
     "name": "stdout",
     "output_type": "stream",
     "text": [
      "1x1=1\t\n",
      "1x2=2\t2x2=4\t\n",
      "1x3=3\t2x3=6\t3x3=9\t\n",
      "1x4=4\t2x4=8\t3x4=12\t4x4=16\t\n",
      "1x5=5\t2x5=10\t3x5=15\t4x5=20\t5x5=25\t\n",
      "1x6=6\t2x6=12\t3x6=18\t4x6=24\t5x6=30\t6x6=36\t\n",
      "1x7=7\t2x7=14\t3x7=21\t4x7=28\t5x7=35\t6x7=42\t7x7=49\t\n",
      "1x8=8\t2x8=16\t3x8=24\t4x8=32\t5x8=40\t6x8=48\t7x8=56\t8x8=64\t\n",
      "1x9=9\t2x9=18\t3x9=27\t4x9=36\t5x9=45\t6x9=54\t7x9=63\t8x9=72\t9x9=81\t\n"
     ]
    }
   ],
   "execution_count": 5
  },
  {
   "metadata": {},
   "cell_type": "markdown",
   "source": [
    "#### for 循环\n",
    "- for 变量 in 可迭代对象:\n",
    "- - 循环体"
   ],
   "id": "9c7611a9f9c11e29"
  },
  {
   "metadata": {
    "ExecuteTime": {
     "end_time": "2025-10-01T12:53:32.175701Z",
     "start_time": "2025-10-01T12:53:32.160988Z"
    }
   },
   "cell_type": "code",
   "source": [
    "\"\"\"\n",
    "第1次循环: i = lst[0], 执行循环体 print(i)\n",
    "第2次循环: i = lst[1], 执行循环体 print(i)\n",
    "第3次循环: i = lst[2], 执行循环体 print(i)\n",
    "第4次循环: i = lst[3], 执行循环体 print(i)\n",
    "当取不到lst中元素时，for循环自动停止。\n",
    "\"\"\"\n",
    "lst = ['d', 'c', 'k', 'a']\n",
    "# 获取元素\n",
    "for i in lst:\n",
    "    print(i)\n",
    "\n",
    "# 获取索引\n",
    "for i in range(len(lst)):\n",
    "    print(i)\n",
    "\n",
    "# 获取索引和元素\n",
    "for index, item in enumerate(lst):\n",
    "    print(index, item)"
   ],
   "id": "9c90a8b6ecac2612",
   "outputs": [
    {
     "name": "stdout",
     "output_type": "stream",
     "text": [
      "d\n",
      "c\n",
      "k\n",
      "a\n",
      "0\n",
      "1\n",
      "2\n",
      "3\n",
      "0 d\n",
      "1 c\n",
      "2 k\n",
      "3 a\n"
     ]
    }
   ],
   "execution_count": 6
  },
  {
   "metadata": {
    "ExecuteTime": {
     "end_time": "2025-10-01T12:53:32.191328Z",
     "start_time": "2025-10-01T12:53:32.176833Z"
    }
   },
   "cell_type": "code",
   "source": [
    "lst = [321, 'qwe', True, {1, 'as'}, {'a': 1, 'b': 2}, (123, 'abc')]\n",
    "for i in lst:\n",
    "    print(i)"
   ],
   "id": "8e17ebfb9fb0da0e",
   "outputs": [
    {
     "name": "stdout",
     "output_type": "stream",
     "text": [
      "321\n",
      "qwe\n",
      "True\n",
      "{1, 'as'}\n",
      "{'a': 1, 'b': 2}\n",
      "(123, 'abc')\n"
     ]
    }
   ],
   "execution_count": 7
  },
  {
   "metadata": {
    "ExecuteTime": {
     "end_time": "2025-10-01T12:53:32.206903Z",
     "start_time": "2025-10-01T12:53:32.192466Z"
    }
   },
   "cell_type": "code",
   "source": [
    "for i in lst[1]:\n",
    "    print(i)\n",
    "for i in lst[4]:\n",
    "    print(i)\n",
    "for i in lst[3]:\n",
    "    print(i)\n",
    "for i in lst[len(lst) - 1]:\n",
    "    print(i)"
   ],
   "id": "2742659d84830420",
   "outputs": [
    {
     "name": "stdout",
     "output_type": "stream",
     "text": [
      "q\n",
      "w\n",
      "e\n",
      "a\n",
      "b\n",
      "1\n",
      "as\n",
      "123\n",
      "abc\n"
     ]
    }
   ],
   "execution_count": 8
  },
  {
   "metadata": {
    "ExecuteTime": {
     "end_time": "2025-10-01T12:53:32.222751Z",
     "start_time": "2025-10-01T12:53:32.208356Z"
    }
   },
   "cell_type": "code",
   "source": [
    "res = zip('abcd', [4, 5, 7, 1])\n",
    "for i in res:\n",
    "    print(i)\n",
    "\n",
    "for i in range(-4, 10, 2):\n",
    "    print(i)"
   ],
   "id": "ad221e40a4781502",
   "outputs": [
    {
     "name": "stdout",
     "output_type": "stream",
     "text": [
      "('a', 4)\n",
      "('b', 5)\n",
      "('c', 7)\n",
      "('d', 1)\n",
      "-4\n",
      "-2\n",
      "0\n",
      "2\n",
      "4\n",
      "6\n",
      "8\n"
     ]
    }
   ],
   "execution_count": 9
  },
  {
   "metadata": {
    "ExecuteTime": {
     "end_time": "2025-10-01T12:53:32.238399Z",
     "start_time": "2025-10-01T12:53:32.223904Z"
    }
   },
   "cell_type": "code",
   "source": [
    "tup = ('abc', [1, 2, 3], {'a': 5, 'b': 6, 'c': 7}, ('x', 'y', 'z'))\n",
    "for a, b, c in tup:\n",
    "    print(a, b, c)"
   ],
   "id": "d710166570b9f1fa",
   "outputs": [
    {
     "name": "stdout",
     "output_type": "stream",
     "text": [
      "a b c\n",
      "1 2 3\n",
      "a b c\n",
      "x y z\n"
     ]
    }
   ],
   "execution_count": 10
  },
  {
   "metadata": {},
   "cell_type": "markdown",
   "source": "#### for 循环嵌套",
   "id": "b93ecc1c65752029"
  },
  {
   "metadata": {
    "ExecuteTime": {
     "end_time": "2025-10-01T12:53:32.254194Z",
     "start_time": "2025-10-01T12:53:32.239774Z"
    }
   },
   "cell_type": "code",
   "source": [
    "# 实现九九乘法表\n",
    "for right in range(1, 10):\n",
    "    for left in range(1, right + 1):\n",
    "        print(f'{left}x{right}={left * right}', end='\\t')\n",
    "print()"
   ],
   "id": "e0df2002c826ee49",
   "outputs": [
    {
     "name": "stdout",
     "output_type": "stream",
     "text": [
      "1x1=1\t1x2=2\t2x2=4\t1x3=3\t2x3=6\t3x3=9\t1x4=4\t2x4=8\t3x4=12\t4x4=16\t1x5=5\t2x5=10\t3x5=15\t4x5=20\t5x5=25\t1x6=6\t2x6=12\t3x6=18\t4x6=24\t5x6=30\t6x6=36\t1x7=7\t2x7=14\t3x7=21\t4x7=28\t5x7=35\t6x7=42\t7x7=49\t1x8=8\t2x8=16\t3x8=24\t4x8=32\t5x8=40\t6x8=48\t7x8=56\t8x8=64\t1x9=9\t2x9=18\t3x9=27\t4x9=36\t5x9=45\t6x9=54\t7x9=63\t8x9=72\t9x9=81\t\n"
     ]
    }
   ],
   "execution_count": 11
  },
  {
   "metadata": {},
   "cell_type": "markdown",
   "source": [
    "#### range([start], stop[, step])\n",
    "- 按照 step 生成从 start 到 stop 的整数序列（不可变）\n",
    "- start：起始值，闭区间，默认为 0\n",
    "- stop：结束值，开区间\n",
    "- step：步长，默认为 1"
   ],
   "id": "b46a3344bbadd878"
  },
  {
   "metadata": {
    "ExecuteTime": {
     "end_time": "2025-10-01T12:53:32.269804Z",
     "start_time": "2025-10-01T12:53:32.254194Z"
    }
   },
   "cell_type": "code",
   "source": [
    "print(list(range(4)))  # [0, 1, 2, 3]\n",
    "print(list(range(1, 5)))  # [1, 2, 3, 4]\n",
    "print(list(range(1, 8, 2)))  # [1, 3, 5, 7]\n",
    "print(list(range(8, 1, -2)))  # [8, 6, 4, 2]\n",
    "\n",
    "rg = range(1, 8, 2)\n",
    "print(len(rg))  # 4\n",
    "print(rg[2])  # 5\n",
    "print(rg[::2])  # range(1, 9, 4)"
   ],
   "id": "3131f6ecde492457",
   "outputs": [
    {
     "name": "stdout",
     "output_type": "stream",
     "text": [
      "[0, 1, 2, 3]\n",
      "[1, 2, 3, 4]\n",
      "[1, 3, 5, 7]\n",
      "[8, 6, 4, 2]\n",
      "4\n",
      "5\n",
      "range(1, 9, 4)\n"
     ]
    }
   ],
   "execution_count": 12
  },
  {
   "metadata": {
    "ExecuteTime": {
     "end_time": "2025-10-01T12:53:32.285419Z",
     "start_time": "2025-10-01T12:53:32.270952Z"
    }
   },
   "cell_type": "code",
   "source": [
    "r = range(-4, 10, 2)\n",
    "print(r)\n",
    "print(list(r))\n",
    "print(tuple(r))\n",
    "print(len(r))\n",
    "print(r[-1])\n",
    "print(r[::3])\n",
    "print(r[:4])\n",
    "print(r[2:])\n",
    "print(r[2:-4:-1])\n",
    "print(list(r[2:-4:-1]))"
   ],
   "id": "bfa38a569fd73eb0",
   "outputs": [
    {
     "name": "stdout",
     "output_type": "stream",
     "text": [
      "range(-4, 10, 2)\n",
      "[-4, -2, 0, 2, 4, 6, 8]\n",
      "(-4, -2, 0, 2, 4, 6, 8)\n",
      "7\n",
      "8\n",
      "range(-4, 10, 6)\n",
      "range(-4, 4, 2)\n",
      "range(0, 10, 2)\n",
      "range(0, 2, -2)\n",
      "[]\n"
     ]
    }
   ],
   "execution_count": 13
  },
  {
   "metadata": {
    "ExecuteTime": {
     "end_time": "2025-10-01T12:53:32.300682Z",
     "start_time": "2025-10-01T12:53:32.285419Z"
    }
   },
   "cell_type": "code",
   "source": [
    "r = range(-6)\n",
    "print(r)\n",
    "print(len(r))"
   ],
   "id": "2681e0ce885ebbaf",
   "outputs": [
    {
     "name": "stdout",
     "output_type": "stream",
     "text": [
      "range(0, -6)\n",
      "0\n"
     ]
    }
   ],
   "execution_count": 14
  },
  {
   "metadata": {
    "ExecuteTime": {
     "end_time": "2025-10-01T12:53:32.315997Z",
     "start_time": "2025-10-01T12:53:32.301836Z"
    }
   },
   "cell_type": "code",
   "source": [
    "lst = [321, 'qwe', True, {1, 'as'}, {'a': 1, 'b': 2}, (123, 'abc')]\n",
    "for i in range(len(lst) - 1):\n",
    "    item = lst[i]\n",
    "    print(i, item, sep=',')"
   ],
   "id": "edff1ecacead2ad",
   "outputs": [
    {
     "name": "stdout",
     "output_type": "stream",
     "text": [
      "0,321\n",
      "1,qwe\n",
      "2,True\n",
      "3,{1, 'as'}\n",
      "4,{'a': 1, 'b': 2}\n"
     ]
    }
   ],
   "execution_count": 15
  },
  {
   "metadata": {},
   "cell_type": "markdown",
   "source": [
    "#### enumerate(iterable, start=0)\n",
    "- 返回一个迭代器对象。迭代它会得到一个个的元组，每个元组是由索引和对应元素构成的。start决定索引的起始值。"
   ],
   "id": "bf5c6d591afeb2fa"
  },
  {
   "metadata": {
    "ExecuteTime": {
     "end_time": "2025-10-01T12:53:32.331629Z",
     "start_time": "2025-10-01T12:53:32.315997Z"
    }
   },
   "cell_type": "code",
   "source": [
    "print(enumerate)\n",
    "\n",
    "lst = ['d', 'c', 'k', 'a']\n",
    "print(list(enumerate(lst)))\n",
    "print(tuple(enumerate(lst)))\n",
    "\n",
    "for i in enumerate(lst):\n",
    "    print(i)"
   ],
   "id": "8ef9f93fdb398516",
   "outputs": [
    {
     "name": "stdout",
     "output_type": "stream",
     "text": [
      "<class 'enumerate'>\n",
      "[(0, 'd'), (1, 'c'), (2, 'k'), (3, 'a')]\n",
      "((0, 'd'), (1, 'c'), (2, 'k'), (3, 'a'))\n",
      "(0, 'd')\n",
      "(1, 'c')\n",
      "(2, 'k')\n",
      "(3, 'a')\n"
     ]
    }
   ],
   "execution_count": 16
  },
  {
   "metadata": {
    "ExecuteTime": {
     "end_time": "2025-10-01T12:53:32.346536Z",
     "start_time": "2025-10-01T12:53:32.332786Z"
    }
   },
   "cell_type": "code",
   "source": [
    "str1 = 'lstaa'\n",
    "e = enumerate(str1)\n",
    "print(e)\n",
    "for i, item in e:\n",
    "    print(i, item)"
   ],
   "id": "61d10fab76f34de0",
   "outputs": [
    {
     "name": "stdout",
     "output_type": "stream",
     "text": [
      "<enumerate object at 0x0000028F11900700>\n",
      "0 l\n",
      "1 s\n",
      "2 t\n",
      "3 a\n",
      "4 a\n"
     ]
    }
   ],
   "execution_count": 17
  },
  {
   "metadata": {
    "ExecuteTime": {
     "end_time": "2025-10-01T12:53:32.362613Z",
     "start_time": "2025-10-01T12:53:32.346536Z"
    }
   },
   "cell_type": "code",
   "source": [
    "str1 = 'lstaa'\n",
    "e = enumerate(str1)\n",
    "for i in range(len(str1)):\n",
    "    print(next(e))\n",
    "\n",
    "e = enumerate(str1)\n",
    "print(list(e))\n",
    "\n",
    "e = enumerate(str1)\n",
    "print(tuple(e))"
   ],
   "id": "20f1ae8812dc34bd",
   "outputs": [
    {
     "name": "stdout",
     "output_type": "stream",
     "text": [
      "(0, 'l')\n",
      "(1, 's')\n",
      "(2, 't')\n",
      "(3, 'a')\n",
      "(4, 'a')\n",
      "[(0, 'l'), (1, 's'), (2, 't'), (3, 'a'), (4, 'a')]\n",
      "((0, 'l'), (1, 's'), (2, 't'), (3, 'a'), (4, 'a'))\n"
     ]
    }
   ],
   "execution_count": 18
  },
  {
   "metadata": {
    "ExecuteTime": {
     "end_time": "2025-10-01T12:53:32.378029Z",
     "start_time": "2025-10-01T12:53:32.363621Z"
    }
   },
   "cell_type": "code",
   "source": [
    "e1 = enumerate({'a': 5, 'b': 6, 'c': 7})\n",
    "print(list(e1))"
   ],
   "id": "31374f07d2c49f95",
   "outputs": [
    {
     "name": "stdout",
     "output_type": "stream",
     "text": [
      "[(0, 'a'), (1, 'b'), (2, 'c')]\n"
     ]
    }
   ],
   "execution_count": 19
  },
  {
   "metadata": {},
   "cell_type": "markdown",
   "source": "#### 循环控制语句",
   "id": "e0f3df07ace70e94"
  },
  {
   "metadata": {},
   "cell_type": "markdown",
   "source": [
    "#### break\n",
    "- 终止所在的循环"
   ],
   "id": "8de345231405f8b"
  },
  {
   "metadata": {
    "ExecuteTime": {
     "end_time": "2025-10-01T12:53:32.392753Z",
     "start_time": "2025-10-01T12:53:32.379056Z"
    }
   },
   "cell_type": "code",
   "source": [
    "for _ in range(3):\n",
    "    for _ in range(4):\n",
    "        print('hello')\n",
    "        break\n",
    "\n",
    "print('*' * 30)\n",
    "for _ in range(3):\n",
    "    for _ in range(4):\n",
    "        print('hello')\n",
    "        break"
   ],
   "id": "e9d5b777236bcfcb",
   "outputs": [
    {
     "name": "stdout",
     "output_type": "stream",
     "text": [
      "hello\n",
      "hello\n",
      "hello\n",
      "******************************\n",
      "hello\n",
      "hello\n",
      "hello\n"
     ]
    }
   ],
   "execution_count": 20
  },
  {
   "metadata": {},
   "cell_type": "markdown",
   "source": [
    "#### continue\n",
    "- 跳过当前这次循环，继续到下一次循环"
   ],
   "id": "6e6b00a99c985592"
  },
  {
   "metadata": {
    "ExecuteTime": {
     "end_time": "2025-10-01T12:53:32.408854Z",
     "start_time": "2025-10-01T12:53:32.393903Z"
    }
   },
   "cell_type": "code",
   "source": [
    "numbers = [1, 2, 3, 4, 5, 6, 7, 8, 9]\n",
    "for number in numbers:\n",
    "    if number % 2 == 0:\n",
    "        continue  # 如果数字是偶数，跳过当前循环\n",
    "    print(number)"
   ],
   "id": "f465612083be0154",
   "outputs": [
    {
     "name": "stdout",
     "output_type": "stream",
     "text": [
      "1\n",
      "3\n",
      "5\n",
      "7\n",
      "9\n"
     ]
    }
   ],
   "execution_count": 21
  },
  {
   "metadata": {},
   "cell_type": "markdown",
   "source": "#### 推导式",
   "id": "426447d63e9c2829"
  },
  {
   "metadata": {},
   "cell_type": "markdown",
   "source": [
    "#### 列表推导式\n",
    "- 格式：[exp for子句]\n",
    "- 格式：[exp for子句 更多的for子句或者if子句]"
   ],
   "id": "19952e29fe246392"
  },
  {
   "metadata": {
    "ExecuteTime": {
     "end_time": "2025-10-01T12:53:32.424827Z",
     "start_time": "2025-10-01T12:53:32.410205Z"
    }
   },
   "cell_type": "code",
   "source": [
    "lst = [x ** 2 for x in range(4)]\n",
    "print(lst)\n",
    "\n",
    "# 类比\n",
    "lst = []\n",
    "for x in range(4):\n",
    "    lst.append(x ** 2)\n",
    "print(lst)\n",
    "\n",
    "lst = [x + y for x in range(5) if x % 2 for y in (1, 2, 3)]\n",
    "print(lst)\n",
    "\n",
    "# 类比\n",
    "lst = []\n",
    "for x in range(5):\n",
    "    if x % 2:\n",
    "        for y in (1, 2, 3):\n",
    "            lst.append(x + y)\n",
    "print(lst)"
   ],
   "id": "e7c7ace6b1dc5840",
   "outputs": [
    {
     "name": "stdout",
     "output_type": "stream",
     "text": [
      "[0, 1, 4, 9]\n",
      "[0, 1, 4, 9]\n",
      "[2, 3, 4, 4, 5, 6]\n",
      "[2, 3, 4, 4, 5, 6]\n"
     ]
    }
   ],
   "execution_count": 22
  },
  {
   "metadata": {
    "ExecuteTime": {
     "end_time": "2025-10-01T12:53:32.439904Z",
     "start_time": "2025-10-01T12:53:32.425825Z"
    }
   },
   "cell_type": "code",
   "source": "[f'{j}x{i}={i * j}' for i in range(5) for j in range(1, i + 1)]",
   "id": "1e8fac6d81c2b4fe",
   "outputs": [
    {
     "data": {
      "text/plain": [
       "['1x1=1',\n",
       " '1x2=2',\n",
       " '2x2=4',\n",
       " '1x3=3',\n",
       " '2x3=6',\n",
       " '3x3=9',\n",
       " '1x4=4',\n",
       " '2x4=8',\n",
       " '3x4=12',\n",
       " '4x4=16']"
      ]
     },
     "execution_count": 23,
     "metadata": {},
     "output_type": "execute_result"
    }
   ],
   "execution_count": 23
  },
  {
   "metadata": {
    "ExecuteTime": {
     "end_time": "2025-10-01T12:53:32.454896Z",
     "start_time": "2025-10-01T12:53:32.439904Z"
    }
   },
   "cell_type": "code",
   "source": [
    "lst = [(i, i ** 2) for i in range(1, 9, 2)]\n",
    "print(lst)"
   ],
   "id": "a3f2312542d872b7",
   "outputs": [
    {
     "name": "stdout",
     "output_type": "stream",
     "text": [
      "[(1, 1), (3, 9), (5, 25), (7, 49)]\n"
     ]
    }
   ],
   "execution_count": 24
  },
  {
   "metadata": {
    "ExecuteTime": {
     "end_time": "2025-10-01T12:53:32.470799Z",
     "start_time": "2025-10-01T12:53:32.454896Z"
    }
   },
   "cell_type": "code",
   "source": [
    "# 生成器表达式\n",
    "g = (i ** 2 for i in range(1, 9, 2))\n",
    "print(g)\n",
    "# print(next(g))\n",
    "# print(next(g))\n",
    "# print(next(g))\n",
    "# print(next(g))\n",
    "# print(list(g))\n",
    "print(tuple(g))"
   ],
   "id": "98a41a1e6f50215f",
   "outputs": [
    {
     "name": "stdout",
     "output_type": "stream",
     "text": [
      "<generator object <genexpr> at 0x0000028F118F95F0>\n",
      "(1, 9, 25, 49)\n"
     ]
    }
   ],
   "execution_count": 25
  },
  {
   "metadata": {},
   "cell_type": "markdown",
   "source": "#### 斐波那契系数",
   "id": "7e37c4b21ce2c1c6"
  },
  {
   "metadata": {
    "ExecuteTime": {
     "end_time": "2025-10-01T12:53:32.486116Z",
     "start_time": "2025-10-01T12:53:32.470799Z"
    }
   },
   "cell_type": "code",
   "source": [
    "def get_rabbits(n):\n",
    "    a = b = 1\n",
    "    for _ in range(n - 1):\n",
    "        a, b = b, a + b\n",
    "    return a\n",
    "\n",
    "\n",
    "for i in range(1, 11):\n",
    "    print(get_rabbits(i), end=' \\t')"
   ],
   "id": "3ab67df3a6b67139",
   "outputs": [
    {
     "name": "stdout",
     "output_type": "stream",
     "text": [
      "1 \t1 \t2 \t3 \t5 \t8 \t13 \t21 \t34 \t55 \t"
     ]
    }
   ],
   "execution_count": 26
  },
  {
   "metadata": {},
   "cell_type": "markdown",
   "source": [
    "#### 字典推导式\n",
    "- 格式：{k: v for子句}\n",
    "- 格式：{k: v for子句 更多的for子句或者if子句}"
   ],
   "id": "54d3de920dba8cd"
  },
  {
   "metadata": {
    "ExecuteTime": {
     "end_time": "2025-10-01T12:53:32.501341Z",
     "start_time": "2025-10-01T12:53:32.486116Z"
    }
   },
   "cell_type": "code",
   "source": [
    "d = {x: x ** 2 for x in range(4)}\n",
    "print(d)\n",
    "\n",
    "# 类比\n",
    "d = {}\n",
    "for x in range(4):\n",
    "    d[x] = x ** 2\n",
    "print(d)\n",
    "\n",
    "d = {x: v for x in range(4) for v in range(9) if v % 2}\n",
    "print(d)\n",
    "\n",
    "# 类比\n",
    "d = {}\n",
    "for x in range(4):\n",
    "    for v in range(9):\n",
    "        if v % 2:\n",
    "            d[x] = v\n",
    "print(d)"
   ],
   "id": "535219bd91d37417",
   "outputs": [
    {
     "name": "stdout",
     "output_type": "stream",
     "text": [
      "{0: 0, 1: 1, 2: 4, 3: 9}\n",
      "{0: 0, 1: 1, 2: 4, 3: 9}\n",
      "{0: 7, 1: 7, 2: 7, 3: 7}\n",
      "{0: 7, 1: 7, 2: 7, 3: 7}\n"
     ]
    }
   ],
   "execution_count": 27
  },
  {
   "metadata": {
    "ExecuteTime": {
     "end_time": "2025-10-01T12:53:32.516676Z",
     "start_time": "2025-10-01T12:53:32.502823Z"
    }
   },
   "cell_type": "code",
   "source": [
    "d = {i: i ** 2 for i in range(1, 9, 2)}\n",
    "print(d)"
   ],
   "id": "16c47b78c7358a51",
   "outputs": [
    {
     "name": "stdout",
     "output_type": "stream",
     "text": [
      "{1: 1, 3: 9, 5: 25, 7: 49}\n"
     ]
    }
   ],
   "execution_count": 28
  },
  {
   "metadata": {},
   "cell_type": "markdown",
   "source": [
    "#### 集合推导式\n",
    "- 格式：{exp for子句}\n",
    "- 格式：{exp for子句 更多的for子句或者if子句}"
   ],
   "id": "ae7f66eac70db9c0"
  },
  {
   "metadata": {
    "ExecuteTime": {
     "end_time": "2025-10-01T12:53:32.532229Z",
     "start_time": "2025-10-01T12:53:32.517220Z"
    }
   },
   "cell_type": "code",
   "source": [
    "s = {x ** 2 for x in range(4)}\n",
    "print(s)\n",
    "\n",
    "# 类比\n",
    "s = set()\n",
    "for x in range(4):\n",
    "    s.add(x ** 2)\n",
    "print(s)\n",
    "\n",
    "s = {x + y for x in range(5) if x % 2 for y in (1, 2, 3)}\n",
    "print(s)\n",
    "\n",
    "# 类比\n",
    "s = set()\n",
    "for x in range(5):\n",
    "    if x % 2:\n",
    "        for y in (1, 2, 3):\n",
    "            s.add(x + y)\n",
    "print(s)"
   ],
   "id": "fd7e40ac631f9966",
   "outputs": [
    {
     "name": "stdout",
     "output_type": "stream",
     "text": [
      "{0, 1, 4, 9}\n",
      "{0, 1, 4, 9}\n",
      "{2, 3, 4, 5, 6}\n",
      "{2, 3, 4, 5, 6}\n"
     ]
    }
   ],
   "execution_count": 29
  },
  {
   "metadata": {
    "ExecuteTime": {
     "end_time": "2025-10-01T12:53:32.547658Z",
     "start_time": "2025-10-01T12:53:32.532229Z"
    }
   },
   "cell_type": "code",
   "source": [
    "s = {(i, i ** 2) for i in range(1, 9, 2)}\n",
    "print(s)\n",
    "\n",
    "s = {i + j for i in range(3, 4) for j in range(1, 6) if j % 2}\n",
    "print(s)"
   ],
   "id": "a0d8bdb638c7b9e0",
   "outputs": [
    {
     "name": "stdout",
     "output_type": "stream",
     "text": [
      "{(5, 25), (7, 49), (1, 1), (3, 9)}\n",
      "{8, 4, 6}\n"
     ]
    }
   ],
   "execution_count": 30
  },
  {
   "metadata": {},
   "cell_type": "markdown",
   "source": [
    "#### pass 语句\n",
    "- pass 是一个关键字，表示一个空语句，当它被执行时，不做任何操作，通常用作占位语句，在语法上需要语句但实际上不需要执行任何操作的情况下使用。"
   ],
   "id": "733b1245a484e078"
  },
  {
   "metadata": {
    "ExecuteTime": {
     "end_time": "2025-10-01T12:53:32.563115Z",
     "start_time": "2025-10-01T12:53:32.548655Z"
    }
   },
   "cell_type": "code",
   "source": [
    "for i in range(1, 51):\n",
    "    if '4' in str(i):\n",
    "        pass\n",
    "    else:\n",
    "        print(i)"
   ],
   "id": "5dda8bc5dc8568f4",
   "outputs": [
    {
     "name": "stdout",
     "output_type": "stream",
     "text": [
      "1\n",
      "2\n",
      "3\n",
      "5\n",
      "6\n",
      "7\n",
      "8\n",
      "9\n",
      "10\n",
      "11\n",
      "12\n",
      "13\n",
      "15\n",
      "16\n",
      "17\n",
      "18\n",
      "19\n",
      "20\n",
      "21\n",
      "22\n",
      "23\n",
      "25\n",
      "26\n",
      "27\n",
      "28\n",
      "29\n",
      "30\n",
      "31\n",
      "32\n",
      "33\n",
      "35\n",
      "36\n",
      "37\n",
      "38\n",
      "39\n",
      "50\n"
     ]
    }
   ],
   "execution_count": 31
  },
  {
   "metadata": {
    "ExecuteTime": {
     "end_time": "2025-10-01T12:53:32.579022Z",
     "start_time": "2025-10-01T12:53:32.563466Z"
    }
   },
   "cell_type": "code",
   "source": [
    "for i in range(1, 51):\n",
    "    if '4' in str(i):\n",
    "        ...\n",
    "    else:\n",
    "        print(i)"
   ],
   "id": "70e5dd0315b579cb",
   "outputs": [
    {
     "name": "stdout",
     "output_type": "stream",
     "text": [
      "1\n",
      "2\n",
      "3\n",
      "5\n",
      "6\n",
      "7\n",
      "8\n",
      "9\n",
      "10\n",
      "11\n",
      "12\n",
      "13\n",
      "15\n",
      "16\n",
      "17\n",
      "18\n",
      "19\n",
      "20\n",
      "21\n",
      "22\n",
      "23\n",
      "25\n",
      "26\n",
      "27\n",
      "28\n",
      "29\n",
      "30\n",
      "31\n",
      "32\n",
      "33\n",
      "35\n",
      "36\n",
      "37\n",
      "38\n",
      "39\n",
      "50\n"
     ]
    }
   ],
   "execution_count": 32
  },
  {
   "metadata": {
    "ExecuteTime": {
     "end_time": "2025-10-01T12:53:34.946812Z",
     "start_time": "2025-10-01T12:53:32.580019Z"
    }
   },
   "cell_type": "code",
   "source": [
    "score = float(input('你这次考试考了多少分? '))\n",
    "if score >= 90:\n",
    "    print('厉害!')\n",
    "elif score >= 80:\n",
    "    pass\n",
    "elif score >= 70:\n",
    "    print('良好!')\n",
    "elif score >= 60:\n",
    "    ...\n",
    "else:\n",
    "    print('不及格!')"
   ],
   "id": "c45ab96b5002763c",
   "outputs": [
    {
     "name": "stdout",
     "output_type": "stream",
     "text": [
      "厉害!\n"
     ]
    }
   ],
   "execution_count": 33
  }
 ],
 "metadata": {
  "kernelspec": {
   "display_name": "Python 3",
   "language": "python",
   "name": "python3"
  },
  "language_info": {
   "codemirror_mode": {
    "name": "ipython",
    "version": 2
   },
   "file_extension": ".py",
   "mimetype": "text/x-python",
   "name": "python",
   "nbconvert_exporter": "python",
   "pygments_lexer": "ipython2",
   "version": "2.7.6"
  }
 },
 "nbformat": 4,
 "nbformat_minor": 5
}
