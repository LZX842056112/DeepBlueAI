{
 "cells": [
  {
   "metadata": {
    "ExecuteTime": {
     "end_time": "2025-10-06T05:52:32.584986Z",
     "start_time": "2025-10-06T05:52:32.463842Z"
    }
   },
   "cell_type": "code",
   "source": "import numpy as np",
   "id": "1c608a689db736f",
   "outputs": [],
   "execution_count": 1
  },
  {
   "metadata": {},
   "cell_type": "markdown",
   "source": "#### 特殊矩阵",
   "id": "7070623f47583b47"
  },
  {
   "metadata": {},
   "cell_type": "markdown",
   "source": "- 单位矩阵：主对角线上的数字为1，其他的数字为0",
   "id": "7e35ba15a3dca698"
  },
  {
   "metadata": {
    "ExecuteTime": {
     "end_time": "2025-10-06T05:52:32.600346Z",
     "start_time": "2025-10-06T05:52:32.586155Z"
    }
   },
   "cell_type": "code",
   "source": [
    "arr = np.eye(3, 4, dtype=int)\n",
    "print(arr)"
   ],
   "id": "97c1884bcb6ebbd8",
   "outputs": [
    {
     "name": "stdout",
     "output_type": "stream",
     "text": [
      "[[1 0 0 0]\n",
      " [0 1 0 0]\n",
      " [0 0 1 0]]\n"
     ]
    }
   ],
   "execution_count": 2
  },
  {
   "metadata": {},
   "cell_type": "markdown",
   "source": "- 对角矩阵：主对角线上非零的0，其他的数字为0",
   "id": "6a9d4a01e4ff2291"
  },
  {
   "metadata": {
    "ExecuteTime": {
     "end_time": "2025-10-06T05:52:32.615802Z",
     "start_time": "2025-10-06T05:52:32.601718Z"
    }
   },
   "cell_type": "code",
   "source": [
    "arr = np.diag([5, 1, 2, 3])\n",
    "print(arr)"
   ],
   "id": "d38242e6d91733e7",
   "outputs": [
    {
     "name": "stdout",
     "output_type": "stream",
     "text": [
      "[[5 0 0 0]\n",
      " [0 1 0 0]\n",
      " [0 0 2 0]\n",
      " [0 0 0 3]]\n"
     ]
    }
   ],
   "execution_count": 3
  },
  {
   "metadata": {},
   "cell_type": "markdown",
   "source": [
    "#### 均匀分布随机数 (np.random.rand)\n",
    "- 返回给定形状的数组，用 [0, 1) 上均匀分布的随机样本填充\n",
    "- 生成0到1之间的随机浮点数（均匀分布）"
   ],
   "id": "a7b420c44632ecaa"
  },
  {
   "metadata": {
    "ExecuteTime": {
     "end_time": "2025-10-06T05:52:32.631180Z",
     "start_time": "2025-10-06T05:52:32.617018Z"
    }
   },
   "cell_type": "code",
   "source": [
    "arr = np.random.rand(2, 3)\n",
    "print(arr)"
   ],
   "id": "17ea3058cc9672f2",
   "outputs": [
    {
     "name": "stdout",
     "output_type": "stream",
     "text": [
      "[[0.32727547 0.68271002 0.84125027]\n",
      " [0.04892638 0.76751555 0.81498643]]\n"
     ]
    }
   ],
   "execution_count": 4
  },
  {
   "metadata": {},
   "cell_type": "markdown",
   "source": "- 生成指定范围区间的随机浮点数",
   "id": "5fb77f41d85fc273"
  },
  {
   "metadata": {
    "ExecuteTime": {
     "end_time": "2025-10-06T05:52:32.646428Z",
     "start_time": "2025-10-06T05:52:32.631180Z"
    }
   },
   "cell_type": "code",
   "source": [
    "arr = np.random.uniform(3, 6, (2, 3))\n",
    "print(arr)"
   ],
   "id": "9664470317dd5f34",
   "outputs": [
    {
     "name": "stdout",
     "output_type": "stream",
     "text": [
      "[[3.50236009 4.78128688 4.30972729]\n",
      " [5.86057968 3.13772002 3.34183653]]\n"
     ]
    }
   ],
   "execution_count": 5
  },
  {
   "metadata": {},
   "cell_type": "markdown",
   "source": [
    "#### 正态分布随机数 (np.random.randn)\n",
    "- 返回给定形状的数组，用标准正态分布(均值为0，标准差为1)的随机样本填充。\n",
    "- 两边小，中间大"
   ],
   "id": "d7f5714c97b09a63"
  },
  {
   "metadata": {
    "ExecuteTime": {
     "end_time": "2025-10-06T05:52:32.662635Z",
     "start_time": "2025-10-06T05:52:32.646428Z"
    }
   },
   "cell_type": "code",
   "source": [
    "arr = np.random.randn(2, 3)\n",
    "print(arr)"
   ],
   "id": "3a25b494641fe4e3",
   "outputs": [
    {
     "name": "stdout",
     "output_type": "stream",
     "text": [
      "[[ 2.49745581  1.11323092 -0.0030891 ]\n",
      " [-1.79448934 -1.26144566 -0.84182996]]\n"
     ]
    }
   ],
   "execution_count": 6
  },
  {
   "metadata": {
    "ExecuteTime": {
     "end_time": "2025-10-06T05:52:32.678538Z",
     "start_time": "2025-10-06T05:52:32.663631Z"
    }
   },
   "cell_type": "code",
   "source": [
    "arr = np.array([1, 2, 3], dtype='i8')\n",
    "print(arr)"
   ],
   "id": "f41fb0e0add01b91",
   "outputs": [
    {
     "name": "stdout",
     "output_type": "stream",
     "text": [
      "[1 2 3]\n"
     ]
    }
   ],
   "execution_count": 7
  },
  {
   "metadata": {},
   "cell_type": "markdown",
   "source": [
    "#### np.nonzero(arr_like)\n",
    "返回非零元素的索引"
   ],
   "id": "d2a8c688a0342a38"
  },
  {
   "metadata": {
    "ExecuteTime": {
     "end_time": "2025-10-06T05:52:32.694495Z",
     "start_time": "2025-10-06T05:52:32.680041Z"
    }
   },
   "cell_type": "code",
   "source": [
    "lst = [[[0, 0, 8],\n",
    "        [0, 0, 0]],\n",
    "       [[0, 0, 0],\n",
    "        [3, 0, 0]],\n",
    "       [[0, 6, 1],\n",
    "        [0, 0, 0]],\n",
    "       [[9, 0, 0],\n",
    "        [0, 0, 0]]]\n",
    "arr = np.array(lst)\n",
    "'''\n",
    "8: 0 0 2\n",
    "3: 1 1 0\n",
    "6: 2 0 1\n",
    "1: 2 0 2\n",
    "9: 3 0 0\n",
    "'''\n",
    "print(np.nonzero(arr))\n",
    "print([np.nonzero(arr)])\n",
    "print(arr[np.nonzero(arr)])"
   ],
   "id": "8fa3de645b768a2",
   "outputs": [
    {
     "name": "stdout",
     "output_type": "stream",
     "text": [
      "(array([0, 1, 2, 2, 3], dtype=int64), array([0, 1, 0, 0, 0], dtype=int64), array([2, 0, 1, 2, 0], dtype=int64))\n",
      "[(array([0, 1, 2, 2, 3], dtype=int64), array([0, 1, 0, 0, 0], dtype=int64), array([2, 0, 1, 2, 0], dtype=int64))]\n",
      "[8 3 6 1 9]\n"
     ]
    }
   ],
   "execution_count": 8
  },
  {
   "metadata": {
    "ExecuteTime": {
     "end_time": "2025-10-06T05:52:32.710068Z",
     "start_time": "2025-10-06T05:52:32.695931Z"
    }
   },
   "cell_type": "code",
   "source": [
    "print(arr > 5)\n",
    "print(np.nonzero(arr > 5))\n",
    "print(arr[np.nonzero(arr > 5)])"
   ],
   "id": "9ac5a170236fc2a3",
   "outputs": [
    {
     "name": "stdout",
     "output_type": "stream",
     "text": [
      "[[[False False  True]\n",
      "  [False False False]]\n",
      "\n",
      " [[False False False]\n",
      "  [False False False]]\n",
      "\n",
      " [[False  True False]\n",
      "  [False False False]]\n",
      "\n",
      " [[ True False False]\n",
      "  [False False False]]]\n",
      "(array([0, 2, 3], dtype=int64), array([0, 0, 0], dtype=int64), array([2, 1, 0], dtype=int64))\n",
      "[8 6 9]\n"
     ]
    }
   ],
   "execution_count": 9
  },
  {
   "metadata": {},
   "cell_type": "markdown",
   "source": [
    "#### np.where(condition, x=None, y=None)\n",
    "- condition : array_like, bool\n",
    "- x, y：array_like，要么都传参，要么都不传\n",
    "- 如果传三个参数，条件成立返回x，不成立时返回y\n",
    "- 如果只传第一个参数，返回符合条件的元素的索引"
   ],
   "id": "54c98b4cb9072a60"
  },
  {
   "metadata": {
    "ExecuteTime": {
     "end_time": "2025-10-06T05:52:32.725116Z",
     "start_time": "2025-10-06T05:52:32.711340Z"
    }
   },
   "cell_type": "code",
   "source": [
    "print(arr != 0)\n",
    "print(np.where(arr != 0))"
   ],
   "id": "c5509c86182b4425",
   "outputs": [
    {
     "name": "stdout",
     "output_type": "stream",
     "text": [
      "[[[False False  True]\n",
      "  [False False False]]\n",
      "\n",
      " [[False False False]\n",
      "  [ True False False]]\n",
      "\n",
      " [[False  True  True]\n",
      "  [False False False]]\n",
      "\n",
      " [[ True False False]\n",
      "  [False False False]]]\n",
      "(array([0, 1, 2, 2, 3], dtype=int64), array([0, 1, 0, 0, 0], dtype=int64), array([2, 0, 1, 2, 0], dtype=int64))\n"
     ]
    }
   ],
   "execution_count": 10
  },
  {
   "metadata": {},
   "cell_type": "markdown",
   "source": "#### 如果只传第一个参数，返回符合条件的元素的索引",
   "id": "630b4cd2ac27f9dd"
  },
  {
   "metadata": {
    "ExecuteTime": {
     "end_time": "2025-10-06T05:52:32.741030Z",
     "start_time": "2025-10-06T05:52:32.726274Z"
    }
   },
   "cell_type": "code",
   "source": [
    "print(arr[np.nonzero(arr)])\n",
    "print(arr[np.where(arr != 0)])\n",
    "print(arr[np.nonzero(arr > 5)])\n",
    "print(arr[np.where(arr > 5)])"
   ],
   "id": "ec70ee3de7cbd6dd",
   "outputs": [
    {
     "name": "stdout",
     "output_type": "stream",
     "text": [
      "[8 3 6 1 9]\n",
      "[8 3 6 1 9]\n",
      "[8 6 9]\n",
      "[8 6 9]\n"
     ]
    }
   ],
   "execution_count": 11
  },
  {
   "metadata": {},
   "cell_type": "markdown",
   "source": "#### 当where内有三个参数时，当condition成立时返回x，当condition不成立时返回y",
   "id": "acd1318072ec9af5"
  },
  {
   "metadata": {
    "ExecuteTime": {
     "end_time": "2025-10-06T05:52:32.756155Z",
     "start_time": "2025-10-06T05:52:32.741030Z"
    }
   },
   "cell_type": "code",
   "source": [
    "# shape:(2,3)\n",
    "cond = [[False, True, False],\n",
    "        [True, False, False]]\n",
    "# shape:(3,)->(2,3)\n",
    "x = [1, 2, 3]\n",
    "# shape:(1,3)->(2,3)\n",
    "y = [[4, 5, 6]]\n",
    "print(np.where(cond, x, y))"
   ],
   "id": "5d6cf207c61ab7c1",
   "outputs": [
    {
     "name": "stdout",
     "output_type": "stream",
     "text": [
      "[[4 2 6]\n",
      " [1 5 6]]\n"
     ]
    }
   ],
   "execution_count": 12
  },
  {
   "metadata": {},
   "cell_type": "markdown",
   "source": [
    "#### np.argwhere(arr_like)\n",
    "- 找出数组中按元素分组的非零元素的索引"
   ],
   "id": "63796e25a17b2d8a"
  },
  {
   "metadata": {
    "ExecuteTime": {
     "end_time": "2025-10-06T05:52:32.772031Z",
     "start_time": "2025-10-06T05:52:32.756155Z"
    }
   },
   "cell_type": "code",
   "source": [
    "lst = [[[0, 0, 8],\n",
    "        [0, 0, 0]],\n",
    "       [[0, 0, 0],\n",
    "        [3, 0, 0]],\n",
    "       [[0, 6, 1],\n",
    "        [0, 0, 0]],\n",
    "       [[9, 0, 0],\n",
    "        [0, 0, 0]]]\n",
    "arr = np.array(lst)\n",
    "print(arr[np.nonzero(arr)])\n",
    "print(np.argwhere(arr))"
   ],
   "id": "57297e82fd534de3",
   "outputs": [
    {
     "name": "stdout",
     "output_type": "stream",
     "text": [
      "[8 3 6 1 9]\n",
      "[[0 0 2]\n",
      " [1 1 0]\n",
      " [2 0 1]\n",
      " [2 0 2]\n",
      " [3 0 0]]\n"
     ]
    }
   ],
   "execution_count": 13
  },
  {
   "metadata": {},
   "cell_type": "markdown",
   "source": [
    "#### np.random.normal(loc=0.0, scale=1.0, size=None)\n",
    "- 返回从正态分布中抽取的随机样本\n",
    "- 正态分布又称为常态分布或高斯分布，通常记作X~N（μ ,σ**2）。其中， μ是正态分布的数学期望（均值）， σ2是正态分布的方差。μ = 0,σ = 1的正态分布被称为标准正态分布\n",
    "- loc：均值（中心）\n",
    "- scale：标准差\n",
    "- size：输出的形状"
   ],
   "id": "81fd62cdd0a74565"
  },
  {
   "metadata": {
    "ExecuteTime": {
     "end_time": "2025-10-06T05:52:32.787099Z",
     "start_time": "2025-10-06T05:52:32.773172Z"
    }
   },
   "cell_type": "code",
   "source": [
    "print(np.random.normal())\n",
    "print(np.random.normal(size=(2, 3, 4)))"
   ],
   "id": "3681a032d6515caf",
   "outputs": [
    {
     "name": "stdout",
     "output_type": "stream",
     "text": [
      "0.3349694136366709\n",
      "[[[ 0.02327301  0.70216582 -1.1571219  -0.09184747]\n",
      "  [ 0.87434196  1.18684238  1.1439867   0.17125924]\n",
      "  [ 2.40070593 -0.69132838  0.41322654 -1.10226443]]\n",
      "\n",
      " [[-0.0438386  -0.44921684  0.50067214  0.80427636]\n",
      "  [-1.03476636 -0.01287659 -0.37466309  0.2850581 ]\n",
      "  [-0.23197312 -1.58925692 -1.11830746  1.58433864]]]\n"
     ]
    }
   ],
   "execution_count": 14
  },
  {
   "metadata": {
    "ExecuteTime": {
     "end_time": "2025-10-06T05:52:32.803086Z",
     "start_time": "2025-10-06T05:52:32.788534Z"
    }
   },
   "cell_type": "code",
   "source": [
    "print(np.random.normal(loc=10))\n",
    "np.random.normal(loc=10, size=(2, 3, 4))"
   ],
   "id": "3e9b7fcab392fdea",
   "outputs": [
    {
     "name": "stdout",
     "output_type": "stream",
     "text": [
      "10.487523433326077\n"
     ]
    },
    {
     "data": {
      "text/plain": [
       "array([[[10.8242457 , 10.41717729, 10.9472624 , 10.14781163],\n",
       "        [10.45420616, 10.50589315,  8.70442696,  8.9805497 ],\n",
       "        [ 8.79387209, 10.36171115, 10.58012014,  8.36008123]],\n",
       "\n",
       "       [[11.5428127 ,  9.42907102,  8.77241764,  8.31552091],\n",
       "        [ 9.69943929,  9.4035199 ,  9.34797111, 11.2632112 ],\n",
       "        [ 8.37415054,  9.71821675, 10.17738995, 10.031495  ]]])"
      ]
     },
     "execution_count": 15,
     "metadata": {},
     "output_type": "execute_result"
    }
   ],
   "execution_count": 15
  },
  {
   "metadata": {
    "ExecuteTime": {
     "end_time": "2025-10-06T05:52:32.818930Z",
     "start_time": "2025-10-06T05:52:32.804296Z"
    }
   },
   "cell_type": "code",
   "source": [
    "print(np.random.normal(loc=10, scale=5))\n",
    "np.random.normal(loc=10, scale=5, size=(2, 3, 4))"
   ],
   "id": "b9ff27df63a0c047",
   "outputs": [
    {
     "name": "stdout",
     "output_type": "stream",
     "text": [
      "13.256802484251898\n"
     ]
    },
    {
     "data": {
      "text/plain": [
       "array([[[15.33128232, 21.87524752, 11.36453318, 10.97931349],\n",
       "        [ 6.15400064, 15.85091557, 11.97988615,  9.91159541],\n",
       "        [ 7.55787234,  8.30226346, 13.02144195, 16.27405492]],\n",
       "\n",
       "       [[16.22487112,  1.45960665,  3.15158514, 17.29293651],\n",
       "        [ 0.3784963 ,  5.06728465, 14.3459202 ,  8.3488736 ],\n",
       "        [ 5.77444066, 15.7102088 ,  1.00500061,  1.87047955]]])"
      ]
     },
     "execution_count": 16,
     "metadata": {},
     "output_type": "execute_result"
    }
   ],
   "execution_count": 16
  },
  {
   "metadata": {},
   "cell_type": "markdown",
   "source": [
    "#### np.random.randint(low, high=None, size=None)\n",
    "- 返回从 [low, high) 离散均匀分布中抽取的随机整数"
   ],
   "id": "6729176b72d4e9"
  },
  {
   "metadata": {
    "ExecuteTime": {
     "end_time": "2025-10-06T05:52:32.834101Z",
     "start_time": "2025-10-06T05:52:32.818930Z"
    }
   },
   "cell_type": "code",
   "source": [
    "print(np.random.randint(2))\n",
    "print(np.random.randint(2, size=5))  # 等价于下一行\n",
    "print(np.random.randint(0, 2, size=5))  # 等价于上一行\n",
    "print(np.random.randint(2, 8, size=(2, 3)))"
   ],
   "id": "66b92faedc16292f",
   "outputs": [
    {
     "name": "stdout",
     "output_type": "stream",
     "text": [
      "0\n",
      "[1 0 0 1 0]\n",
      "[1 1 1 0 1]\n",
      "[[6 3 2]\n",
      " [5 2 4]]\n"
     ]
    }
   ],
   "execution_count": 17
  },
  {
   "metadata": {},
   "cell_type": "markdown",
   "source": [
    "#### np.random.uniform(low=0.0, high=1.0, size=None)\n",
    "- 返回从 [low, high) 均匀分布中抽取的随机样本"
   ],
   "id": "b122cb4abb4b861"
  },
  {
   "metadata": {
    "ExecuteTime": {
     "end_time": "2025-10-06T05:52:32.850052Z",
     "start_time": "2025-10-06T05:52:32.835214Z"
    }
   },
   "cell_type": "code",
   "source": [
    "print(np.random.uniform(8))\n",
    "print(np.random.uniform(3.5, size=5))  # 等价于下一行\n",
    "print(np.random.uniform(0, 3.5, size=5))  # 等价于上一行\n",
    "print(np.random.uniform(2.5, 3.5, size=(2, 3, 4)))"
   ],
   "id": "96b450008d1a2b9b",
   "outputs": [
    {
     "name": "stdout",
     "output_type": "stream",
     "text": [
      "7.484339995690678\n",
      "[1.15321255 1.74082907 1.85435661 1.75644077 2.25710749]\n",
      "[1.6643039  0.32465486 1.54825858 1.49276891 2.01811286]\n",
      "[[[2.8930876  3.32050094 2.99156752 2.89227587]\n",
      "  [2.5086648  3.42737661 2.60364008 3.2621858 ]\n",
      "  [2.93387854 3.01350204 2.56218129 3.19007487]]\n",
      "\n",
      " [[2.77090237 3.44488686 3.35706471 2.67033284]\n",
      "  [3.1862644  2.74644129 3.18708296 3.43488832]\n",
      "  [3.47463672 3.29075726 3.04209643 3.45446966]]]\n"
     ]
    }
   ],
   "execution_count": 18
  },
  {
   "metadata": {},
   "cell_type": "markdown",
   "source": [
    "#### np.random.permutation(x)\n",
    "- x：int or array_like\n",
    "- 如果 x 是整数，返回随机排列的 np.arange(x)\n",
    "- 如果 x 是数组，只对数组的第一个维度随机排列，返回新的数组"
   ],
   "id": "a863f3aefd8d054e"
  },
  {
   "metadata": {
    "ExecuteTime": {
     "end_time": "2025-10-06T05:52:32.865595Z",
     "start_time": "2025-10-06T05:52:32.851536Z"
    }
   },
   "cell_type": "code",
   "source": [
    "print(np.arange(9))\n",
    "# 等价于返回一个随机排列的np.arange(9)\n",
    "print(np.random.permutation(9))"
   ],
   "id": "2a443fc5d80dcb38",
   "outputs": [
    {
     "name": "stdout",
     "output_type": "stream",
     "text": [
      "[0 1 2 3 4 5 6 7 8]\n",
      "[3 6 1 4 0 2 7 5 8]\n"
     ]
    }
   ],
   "execution_count": 19
  },
  {
   "metadata": {
    "ExecuteTime": {
     "end_time": "2025-10-06T05:52:32.881084Z",
     "start_time": "2025-10-06T05:52:32.866590Z"
    }
   },
   "cell_type": "code",
   "source": [
    "arr = np.arange(24).reshape(4, 2, 3)\n",
    "print(arr)\n",
    "print('*' * 30)\n",
    "print(np.random.permutation(arr))"
   ],
   "id": "df43a931f15811b6",
   "outputs": [
    {
     "name": "stdout",
     "output_type": "stream",
     "text": [
      "[[[ 0  1  2]\n",
      "  [ 3  4  5]]\n",
      "\n",
      " [[ 6  7  8]\n",
      "  [ 9 10 11]]\n",
      "\n",
      " [[12 13 14]\n",
      "  [15 16 17]]\n",
      "\n",
      " [[18 19 20]\n",
      "  [21 22 23]]]\n",
      "******************************\n",
      "[[[18 19 20]\n",
      "  [21 22 23]]\n",
      "\n",
      " [[ 0  1  2]\n",
      "  [ 3  4  5]]\n",
      "\n",
      " [[ 6  7  8]\n",
      "  [ 9 10 11]]\n",
      "\n",
      " [[12 13 14]\n",
      "  [15 16 17]]]\n"
     ]
    }
   ],
   "execution_count": 20
  },
  {
   "metadata": {},
   "cell_type": "markdown",
   "source": [
    "#### np.random.seed([x])\n",
    "- np.random.seed 是 NumPy 中用于设置**随机数生成器种子**的函数，目的是确保程序的随机操作可以重复生成相同的结果（即保证随机结果的确定性）。这在实验复现、调试和教学场景中非常有用。\n",
    "- 种子的一致性：\n",
    "- - 相同种子生成的随机数序列完全一致。\n",
    "- - 不同种子（如 np.random.seed(0) 和 np.random.seed(1)）会产生不同序列。\n",
    "- 作用范围：\n",
    "- - 种子对后续所有基于 NumPy 的随机函数生效（如 np.random.rand(), np.random.normal(), np.random.shuffle() 等）。\n",
    "-通过控制种子，你能在“随机”和“可复现”之间灵活切换！"
   ],
   "id": "b26a134fd6df8d32"
  },
  {
   "metadata": {
    "ExecuteTime": {
     "end_time": "2025-10-06T05:52:32.896236Z",
     "start_time": "2025-10-06T05:52:32.882157Z"
    }
   },
   "cell_type": "code",
   "source": [
    "print(np.random.randint(1, 90, size=(2, 1)))\n",
    "print(np.random.uniform(1.5, 3.5))\n",
    "print(np.random.randint(1, 90, size=(2, 1)))\n",
    "print(np.random.uniform(1.5, 3.5))\n",
    "np.random.seed(5)\n",
    "print(np.random.randint(1, 90, size=(2, 1)))\n",
    "print(np.random.uniform(1.5, 3.5))"
   ],
   "id": "61bd4000b3f622c8",
   "outputs": [
    {
     "name": "stdout",
     "output_type": "stream",
     "text": [
      "[[51]\n",
      " [55]]\n",
      "2.102604253294989\n",
      "[[58]\n",
      " [86]]\n",
      "2.222180350600639\n",
      "[[79]\n",
      " [62]]\n",
      "1.9134383106788528\n"
     ]
    }
   ],
   "execution_count": 21
  },
  {
   "metadata": {
    "ExecuteTime": {
     "end_time": "2025-10-06T05:52:32.911125Z",
     "start_time": "2025-10-06T05:52:32.897496Z"
    }
   },
   "cell_type": "code",
   "source": [
    "np.random.seed(5)\n",
    "print(np.random.randint(1, 90, size=(2, 1)))\n",
    "print(np.random.uniform(1.5, 3.5))"
   ],
   "id": "44e9ac0fde7fb093",
   "outputs": [
    {
     "name": "stdout",
     "output_type": "stream",
     "text": [
      "[[79]\n",
      " [62]]\n",
      "1.9134383106788528\n"
     ]
    }
   ],
   "execution_count": 22
  },
  {
   "metadata": {
    "ExecuteTime": {
     "end_time": "2025-10-06T05:52:32.926582Z",
     "start_time": "2025-10-06T05:52:32.913292Z"
    }
   },
   "cell_type": "code",
   "source": [
    "np.random.seed(3)\n",
    "print(np.random.randint(1, 90, size=(2, 1)))\n",
    "print(np.random.uniform(1.5, 3.5))"
   ],
   "id": "326ac1b15c11e68d",
   "outputs": [
    {
     "name": "stdout",
     "output_type": "stream",
     "text": [
      "[[25]\n",
      " [ 4]]\n",
      "2.081809477825889\n"
     ]
    }
   ],
   "execution_count": 23
  },
  {
   "metadata": {
    "ExecuteTime": {
     "end_time": "2025-10-06T05:52:32.942110Z",
     "start_time": "2025-10-06T05:52:32.927758Z"
    }
   },
   "cell_type": "code",
   "source": [
    "# 恢复随机\n",
    "np.random.seed()\n",
    "print(np.random.randint(1, 90, size=(2, 1)))\n",
    "print(np.random.uniform(1.5, 3.5))"
   ],
   "id": "9ee8f8f3d0bc705d",
   "outputs": [
    {
     "name": "stdout",
     "output_type": "stream",
     "text": [
      "[[ 4]\n",
      " [29]]\n",
      "2.7844617187619933\n"
     ]
    }
   ],
   "execution_count": 24
  },
  {
   "metadata": {},
   "cell_type": "markdown",
   "source": [
    "#### 题目 1：温度数据分析\n",
    "- 题目：某城市一周的最高气温（℃）为 [28, 30, 29, 31, 32, 30, 29]。  \n",
    "- - 计算平均气温、最高气温和最低气温。  \n",
    "- - 找出气温超过 30℃ 的天数。  \n",
    "\n",
    "- 解析：\n",
    "- - 使用 np.mean() 计算平均值。  \n",
    "- - 使用 np.max() 和 np.min() 计算极值。  \n",
    "- - 使用布尔索引 arr[arr > 30] 筛选数据。 "
   ],
   "id": "1ddd69ea83e9e68e"
  },
  {
   "metadata": {
    "ExecuteTime": {
     "end_time": "2025-10-06T05:52:32.957982Z",
     "start_time": "2025-10-06T05:52:32.944105Z"
    }
   },
   "cell_type": "code",
   "source": [
    "temps = np.array([28, 30, 29, 31, 32, 30, 29])\n",
    "print(\"平均气温:\", np.mean(temps))  # 29.857\n",
    "print(\"最高气温:\", np.max(temps))  # 32\n",
    "print(\"最低气温:\", np.min(temps))  # 28\n",
    "print(\"超过30℃的天数:\", len(temps[temps > 30]))  # 2\n",
    "print(np.count_nonzero(temps > 30))\n",
    "print(np.cumsum(np.where(temps > 30, 1, 0))[-1])"
   ],
   "id": "ab14ddc7e3b675a9",
   "outputs": [
    {
     "name": "stdout",
     "output_type": "stream",
     "text": [
      "平均气温: 29.857142857142858\n",
      "最高气温: 32\n",
      "最低气温: 28\n",
      "超过30℃的天数: 2\n",
      "2\n",
      "2\n"
     ]
    }
   ],
   "execution_count": 25
  },
  {
   "metadata": {},
   "cell_type": "markdown",
   "source": [
    "#### 题目 2：学生成绩统计\n",
    "- 题目：某班级 5 名学生的数学成绩为 [85, 90, 78, 92, 88]。  \n",
    "- - 计算成绩的平均分、中位数和标准差。  \n",
    "- - 将成绩转换为百分制（假设满分为 100）。  \n",
    "\n",
    "- 解析：\n",
    "- - 使用 np.mean()、np.median() 和 np.std() 计算统计量。  \n",
    "- - 百分制无需转换（已经是百分制）。 "
   ],
   "id": "560c698cfe5dafb7"
  },
  {
   "metadata": {
    "ExecuteTime": {
     "end_time": "2025-10-06T05:52:32.974173Z",
     "start_time": "2025-10-06T05:52:32.959155Z"
    }
   },
   "cell_type": "code",
   "source": [
    "scores = np.array([85, 90, 78, 92, 88])\n",
    "print(\"平均分:\", np.mean(scores))  # 86.6\n",
    "print(\"中位数:\", np.median(scores))  # 88\n",
    "print(\"标准差:\", np.std(scores))  # 4.98"
   ],
   "id": "70e8f55be618f60d",
   "outputs": [
    {
     "name": "stdout",
     "output_type": "stream",
     "text": [
      "平均分: 86.6\n",
      "中位数: 88.0\n",
      "标准差: 4.882622246293481\n"
     ]
    }
   ],
   "execution_count": 26
  },
  {
   "metadata": {},
   "cell_type": "markdown",
   "source": [
    "#### 题目 3：矩阵运算\n",
    "- 题目：给定矩阵 A = [[1, 2], [3, 4]] 和 B = [[5, 6], [7, 8]]。  \n",
    "- - 计算 A + B 和 A * B（逐元素乘法）。  \n",
    "- - 计算 A 和 B 的矩阵乘法（点积）。  \n",
    "\n",
    "- 解析：\n",
    "- - A + B 和 A * B 是逐元素运算。  \n",
    "- - 矩阵乘法用 A @ B 或 np.dot(A, B)。 "
   ],
   "id": "cc7bdf2f8d358e6e"
  },
  {
   "metadata": {
    "ExecuteTime": {
     "end_time": "2025-10-06T05:52:32.989658Z",
     "start_time": "2025-10-06T05:52:32.975170Z"
    }
   },
   "cell_type": "code",
   "source": [
    "A = np.array([[1, 2], [3, 4]])\n",
    "B = np.array([[5, 6], [7, 8]])\n",
    "print(\"A + B:\\n\", A + B)  # [[6, 8], [10, 12]]\n",
    "print(\"A * B:\\n\", A * B)  # [[5, 12], [21, 32]]\n",
    "print(\"A @ B:\\n\", A @ B)  # [[19, 22], [43, 50]]"
   ],
   "id": "bbfa96efd0156249",
   "outputs": [
    {
     "name": "stdout",
     "output_type": "stream",
     "text": [
      "A + B:\n",
      " [[ 6  8]\n",
      " [10 12]]\n",
      "A * B:\n",
      " [[ 5 12]\n",
      " [21 32]]\n",
      "A @ B:\n",
      " [[19 22]\n",
      " [43 50]]\n"
     ]
    }
   ],
   "execution_count": 27
  },
  {
   "metadata": {},
   "cell_type": "markdown",
   "source": [
    "#### 题目 4：随机数据生成\n",
    "- 题目：生成一个 (3, 4) 的随机整数数组，范围 [0, 10)。  \n",
    "- - 计算每列的最大值和每行的最小值。  \n",
    "- - 将数组中的所有奇数替换为 -1。  \n",
    "\n",
    "- 解析：\n",
    "- - 使用 np.random.randint() 生成随机数。  \n",
    "- - np.max(axis=0) 计算列最大值，np.min(axis=1) 计算行最小值。  \n",
    "- - 使用布尔索引 arr[arr % 2 == 1] = -1 替换奇数。  "
   ],
   "id": "94d7b98555370d28"
  },
  {
   "metadata": {
    "ExecuteTime": {
     "end_time": "2025-10-06T05:52:33.005230Z",
     "start_time": "2025-10-06T05:52:32.989658Z"
    }
   },
   "cell_type": "code",
   "source": [
    "arr = np.random.randint(0, 10, (3, 4))\n",
    "print(\"原数组:\\n\", arr)\n",
    "print(\"每列最大值:\", np.max(arr, axis=0))\n",
    "print(\"每行最小值:\", np.min(arr, axis=1))\n",
    "arr[arr % 2 == 1] = -1  # 奇数替换为-1\n",
    "print(\"替换后:\\n\", arr)"
   ],
   "id": "e080cd4b78e8ccb",
   "outputs": [
    {
     "name": "stdout",
     "output_type": "stream",
     "text": [
      "原数组:\n",
      " [[6 8 0 7]\n",
      " [4 5 5 2]\n",
      " [0 7 6 3]]\n",
      "每列最大值: [6 8 6 7]\n",
      "每行最小值: [0 2 0]\n",
      "替换后:\n",
      " [[ 6  8  0 -1]\n",
      " [ 4 -1 -1  2]\n",
      " [ 0 -1  6 -1]]\n"
     ]
    }
   ],
   "execution_count": 28
  },
  {
   "metadata": {},
   "cell_type": "markdown",
   "source": [
    "#### 题目 5：数组变形\n",
    "- 题目：创建一个 1 到 12 的一维数组，并转换为 (3, 4) 的二维数组。  \n",
    "- - 计算每行的和与每列的平均值。  \n",
    "- - 将数组展平为一维数组。  \n",
    "\n",
    "- 解析：\n",
    "- - 用 np.arange(1, 13).reshape(3, 4) 创建数组。  \n",
    "- - np.sum(axis=1) 计算行和，np.mean(axis=0) 计算列均值。  \n",
    "- - arr.flatten() 展平数组。 "
   ],
   "id": "bcd780eb1723e089"
  },
  {
   "metadata": {
    "ExecuteTime": {
     "end_time": "2025-10-06T05:52:33.020144Z",
     "start_time": "2025-10-06T05:52:33.006423Z"
    }
   },
   "cell_type": "code",
   "source": [
    "arr = np.arange(1, 13).reshape(3, 4)\n",
    "print(\"每行和:\", np.sum(arr, axis=1))  # [10, 26, 42]\n",
    "print(\"每列均值:\", np.mean(arr, axis=0))  # [5, 6, 7, 8]\n",
    "print(\"展平后:\", arr.flatten())  # [1, 2, ..., 12]"
   ],
   "id": "cc20a99a2ee7e30f",
   "outputs": [
    {
     "name": "stdout",
     "output_type": "stream",
     "text": [
      "每行和: [10 26 42]\n",
      "每列均值: [5. 6. 7. 8.]\n",
      "展平后: [ 1  2  3  4  5  6  7  8  9 10 11 12]\n"
     ]
    }
   ],
   "execution_count": 29
  },
  {
   "metadata": {},
   "cell_type": "markdown",
   "source": [
    "#### 题目 6：布尔索引\n",
    "- 题目：生成一个 (5, 5) 的随机数组，范围 [0, 20)。  \n",
    "- - 找出数组中大于 10 的元素。  \n",
    "- - 将所有大于 10 的元素替换为 0。  \n",
    "\n",
    "- 解析：\n",
    "- - 使用 np.random.randint() 生成数组。  \n",
    "- - 用 arr[arr > 10] 筛选元素。  \n",
    "- - 直接赋值 arr[arr > 10] = 0 替换。"
   ],
   "id": "dfd53cce3093fee6"
  },
  {
   "metadata": {
    "ExecuteTime": {
     "end_time": "2025-10-06T05:52:33.035838Z",
     "start_time": "2025-10-06T05:52:33.021643Z"
    }
   },
   "cell_type": "code",
   "source": [
    "arr = np.random.randint(0, 20, (5, 5))\n",
    "print(\">10的元素:\", arr[arr > 10])\n",
    "arr[arr > 10] = 0  # 替换为0\n",
    "print(\"替换后:\\n\", arr)"
   ],
   "id": "e72bfab7589757d7",
   "outputs": [
    {
     "name": "stdout",
     "output_type": "stream",
     "text": [
      ">10的元素: [17 19 16 16 12 11 18 11 17 17]\n",
      "替换后:\n",
      " [[7 0 2 8 6]\n",
      " [0 0 0 3 0]\n",
      " [7 0 9 8 0]\n",
      " [0 0 3 2 0]\n",
      " [6 9 2 2 0]]\n"
     ]
    }
   ],
   "execution_count": 30
  },
  {
   "metadata": {},
   "cell_type": "markdown",
   "source": [
    "#### 题目 7：统计函数应用\n",
    "- 题目：某公司 6 个月的销售额（万元）为 [120, 135, 110, 125, 130, 140]。  \n",
    "- - 计算销售额的总和、均值和方差。  \n",
    "- - 找出销售额最高的月份和最低的月份。  \n",
    "\n",
    "- 解析：\n",
    "- - np.sum()、np.mean()、np.var() 计算统计量。  \n",
    "- - np.argmax() 和 np.argmin() 返回极值索引。 "
   ],
   "id": "f98f717d476fd460"
  },
  {
   "metadata": {
    "ExecuteTime": {
     "end_time": "2025-10-06T05:52:33.052273Z",
     "start_time": "2025-10-06T05:52:33.037229Z"
    }
   },
   "cell_type": "code",
   "source": [
    "sales = np.array([120, 135, 110, 125, 130, 140])\n",
    "print(\"总和:\", np.sum(sales))  # 760\n",
    "print(\"均值:\", np.mean(sales))  # 126.67\n",
    "print(\"方差:\", np.var(sales))  # 108.89\n",
    "print(\"最高月份:\", np.argmax(sales) + 1)  # 6\n",
    "print(\"最低月份:\", np.argmin(sales) + 1)  # 3"
   ],
   "id": "bccc5e84bf612cd0",
   "outputs": [
    {
     "name": "stdout",
     "output_type": "stream",
     "text": [
      "总和: 760\n",
      "均值: 126.66666666666667\n",
      "方差: 97.22222222222223\n",
      "最高月份: 6\n",
      "最低月份: 3\n"
     ]
    }
   ],
   "execution_count": 31
  },
  {
   "metadata": {},
   "cell_type": "markdown",
   "source": [
    "#### 题目 8：数组拼接\n",
    "- 题目：给定 A = [1, 2, 3] 和 B = [4, 5, 6]。  \n",
    "- - 水平拼接为 [1, 2, 3, 4, 5, 6]。  \n",
    "- - 垂直拼接为 [[1, 2, 3], [4, 5, 6]]。  \n",
    "\n",
    "- 解析：\n",
    "- - 水平拼接用 np.concatenate((A, B))。  \n",
    "- - 垂直拼接需先转为二维 np.vstack((A, B))。"
   ],
   "id": "573966c3bf1540bb"
  },
  {
   "metadata": {
    "ExecuteTime": {
     "end_time": "2025-10-06T05:52:33.146213Z",
     "start_time": "2025-10-06T05:52:33.135977Z"
    }
   },
   "cell_type": "code",
   "source": [
    "A, B = np.array([1, 2, 3]), np.array([4, 5, 6])\n",
    "concatenate = np.concatenate((A, B))\n",
    "print(\"水平拼接:\", concatenate)  # [1, 2, 3, 4, 5, 6]\n",
    "print(\"垂直拼接:\\n\", np.vstack((A, B)))  # [[1,2,3], [4,5,6]]\n",
    "print(\"垂直拼接:\\n\", np.reshape(concatenate, (2, 3)))  # [[1,2,3], [4,5,6]]"
   ],
   "id": "2151261a5a53aa2f",
   "outputs": [
    {
     "name": "stdout",
     "output_type": "stream",
     "text": [
      "水平拼接: [1 2 3 4 5 6]\n",
      "垂直拼接:\n",
      " [[1 2 3]\n",
      " [4 5 6]]\n",
      "垂直拼接:\n",
      " [[1 2 3]\n",
      " [4 5 6]]\n"
     ]
    }
   ],
   "execution_count": 32
  },
  {
   "metadata": {},
   "cell_type": "markdown",
   "source": [
    "#### 题目 9：唯一值与排序\n",
    "- 题目：给定数组 [2, 1, 2, 3, 1, 4, 3]。  \n",
    "- - 找出唯一值并排序。  \n",
    "- - 计算每个唯一值出现的次数。  \n",
    "\n",
    "- 解析：\n",
    "- - np.unique() 返回唯一值并排序。  \n",
    "- - return_counts=True 统计频次。  "
   ],
   "id": "3ea07ed16f4d6bd6"
  },
  {
   "metadata": {
    "ExecuteTime": {
     "end_time": "2025-10-06T05:52:33.162102Z",
     "start_time": "2025-10-06T05:52:33.150836Z"
    }
   },
   "cell_type": "code",
   "source": [
    "arr = np.array([2, 1, 2, 3, 1, 4, 3])\n",
    "unique_values, counts = np.unique(arr, return_counts=True)\n",
    "print(\"唯一值:\", unique_values)  # [1, 2, 3, 4]\n",
    "print(\"出现次数:\", counts)       # [2, 2, 2, 1]"
   ],
   "id": "e8110be8ee7b5c4b",
   "outputs": [
    {
     "name": "stdout",
     "output_type": "stream",
     "text": [
      "唯一值: [1 2 3 4]\n",
      "出现次数: [2 2 2 1]\n"
     ]
    }
   ],
   "execution_count": 33
  },
  {
   "metadata": {},
   "cell_type": "markdown",
   "source": [
    "#### 题目 10：缺失值处理\n",
    "- 题目：给定数组 [1, np.nan, 3, np.nan, 5]。  \n",
    "- - 计算非缺失值的数量。  \n",
    "- - 将缺失值替换为 0。  \n",
    "\n",
    "- 解析：\n",
    "- - np.isnan() 检测缺失值。  \n",
    "- - ~np.isnan(arr) 计算非缺失值数量。  \n",
    "- - arr[np.isnan(arr)] = 0 替换缺失值。  "
   ],
   "id": "84cc4797bb2bd8ca"
  },
  {
   "metadata": {
    "ExecuteTime": {
     "end_time": "2025-10-06T05:52:33.207866Z",
     "start_time": "2025-10-06T05:52:33.200884Z"
    }
   },
   "cell_type": "code",
   "source": [
    "arr = np.array([1, np.nan, 3, np.nan, 5])\n",
    "print(\"非缺失值数量:\", np.sum(~np.isnan(arr)))  # 3\n",
    "arr[np.isnan(arr)] = 0  # 替换为0\n",
    "print(\"替换后:\", arr)  # [1, 0, 3, 0, 5]"
   ],
   "id": "76a5e6c9fe312d4a",
   "outputs": [
    {
     "name": "stdout",
     "output_type": "stream",
     "text": [
      "非缺失值数量: 3\n",
      "替换后: [1. 0. 3. 0. 5.]\n"
     ]
    }
   ],
   "execution_count": 34
  }
 ],
 "metadata": {
  "kernelspec": {
   "display_name": "Python 3",
   "language": "python",
   "name": "python3"
  },
  "language_info": {
   "codemirror_mode": {
    "name": "ipython",
    "version": 2
   },
   "file_extension": ".py",
   "mimetype": "text/x-python",
   "name": "python",
   "nbconvert_exporter": "python",
   "pygments_lexer": "ipython2",
   "version": "2.7.6"
  }
 },
 "nbformat": 4,
 "nbformat_minor": 5
}
