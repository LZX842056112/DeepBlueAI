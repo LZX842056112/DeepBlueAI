{
 "cells": [
  {
   "metadata": {
    "ExecuteTime": {
     "end_time": "2025-09-24T13:59:17.692636Z",
     "start_time": "2025-09-24T13:59:17.603367Z"
    }
   },
   "cell_type": "code",
   "source": "import numpy as np",
   "id": "1c608a689db736f",
   "outputs": [],
   "execution_count": 1
  },
  {
   "metadata": {},
   "cell_type": "markdown",
   "source": [
    "#### np.nonzero(arr_like)\n",
    "返回非零元素的索引"
   ],
   "id": "d2a8c688a0342a38"
  },
  {
   "metadata": {
    "ExecuteTime": {
     "end_time": "2025-09-24T13:59:17.707921Z",
     "start_time": "2025-09-24T13:59:17.693775Z"
    }
   },
   "cell_type": "code",
   "source": [
    "lst = [[[0, 0, 8],\n",
    "        [0, 0, 0]],\n",
    "       [[0, 0, 0],\n",
    "        [3, 0, 0]],\n",
    "       [[0, 6, 1],\n",
    "        [0, 0, 0]],\n",
    "       [[9, 0, 0],\n",
    "        [0, 0, 0]]]\n",
    "arr = np.array(lst)\n",
    "'''\n",
    "8: 0 0 2\n",
    "3: 1 1 0\n",
    "6: 2 0 1\n",
    "1: 2 0 2\n",
    "9: 3 0 0\n",
    "'''\n",
    "print(np.nonzero(arr))\n",
    "print([np.nonzero(arr)])\n",
    "print(arr[np.nonzero(arr)])"
   ],
   "id": "8fa3de645b768a2",
   "outputs": [
    {
     "name": "stdout",
     "output_type": "stream",
     "text": [
      "(array([0, 1, 2, 2, 3], dtype=int64), array([0, 1, 0, 0, 0], dtype=int64), array([2, 0, 1, 2, 0], dtype=int64))\n",
      "[(array([0, 1, 2, 2, 3], dtype=int64), array([0, 1, 0, 0, 0], dtype=int64), array([2, 0, 1, 2, 0], dtype=int64))]\n",
      "[8 3 6 1 9]\n"
     ]
    }
   ],
   "execution_count": 2
  },
  {
   "metadata": {
    "ExecuteTime": {
     "end_time": "2025-09-24T13:59:17.723689Z",
     "start_time": "2025-09-24T13:59:17.709025Z"
    }
   },
   "cell_type": "code",
   "source": [
    "print(arr > 5)\n",
    "print(np.nonzero(arr > 5))\n",
    "print(arr[np.nonzero(arr > 5)])"
   ],
   "id": "9ac5a170236fc2a3",
   "outputs": [
    {
     "name": "stdout",
     "output_type": "stream",
     "text": [
      "[[[False False  True]\n",
      "  [False False False]]\n",
      "\n",
      " [[False False False]\n",
      "  [False False False]]\n",
      "\n",
      " [[False  True False]\n",
      "  [False False False]]\n",
      "\n",
      " [[ True False False]\n",
      "  [False False False]]]\n",
      "(array([0, 2, 3], dtype=int64), array([0, 0, 0], dtype=int64), array([2, 1, 0], dtype=int64))\n",
      "[8 6 9]\n"
     ]
    }
   ],
   "execution_count": 3
  },
  {
   "metadata": {},
   "cell_type": "markdown",
   "source": [
    "#### np.where(condition, x=None, y=None)\n",
    "- condition : array_like, bool\n",
    "- x, y：array_like，要么都传参，要么都不传\n",
    "- 如果传三个参数，条件成立返回x，不成立时返回y\n",
    "- 如果只传第一个参数，返回符合条件的元素的索引"
   ],
   "id": "54c98b4cb9072a60"
  },
  {
   "metadata": {
    "ExecuteTime": {
     "end_time": "2025-09-24T13:59:17.738864Z",
     "start_time": "2025-09-24T13:59:17.724898Z"
    }
   },
   "cell_type": "code",
   "source": [
    "print(arr != 0)\n",
    "print(np.where(arr != 0))"
   ],
   "id": "c5509c86182b4425",
   "outputs": [
    {
     "name": "stdout",
     "output_type": "stream",
     "text": [
      "[[[False False  True]\n",
      "  [False False False]]\n",
      "\n",
      " [[False False False]\n",
      "  [ True False False]]\n",
      "\n",
      " [[False  True  True]\n",
      "  [False False False]]\n",
      "\n",
      " [[ True False False]\n",
      "  [False False False]]]\n",
      "(array([0, 1, 2, 2, 3], dtype=int64), array([0, 1, 0, 0, 0], dtype=int64), array([2, 0, 1, 2, 0], dtype=int64))\n"
     ]
    }
   ],
   "execution_count": 4
  },
  {
   "metadata": {},
   "cell_type": "markdown",
   "source": "#### 如果只传第一个参数，返回符合条件的元素的索引",
   "id": "630b4cd2ac27f9dd"
  },
  {
   "metadata": {
    "ExecuteTime": {
     "end_time": "2025-09-24T13:59:17.754782Z",
     "start_time": "2025-09-24T13:59:17.740153Z"
    }
   },
   "cell_type": "code",
   "source": [
    "print(arr[np.nonzero(arr)])\n",
    "print(arr[np.where(arr != 0)])\n",
    "print(arr[np.nonzero(arr > 5)])\n",
    "print(arr[np.where(arr > 5)])"
   ],
   "id": "ec70ee3de7cbd6dd",
   "outputs": [
    {
     "name": "stdout",
     "output_type": "stream",
     "text": [
      "[8 3 6 1 9]\n",
      "[8 3 6 1 9]\n",
      "[8 6 9]\n",
      "[8 6 9]\n"
     ]
    }
   ],
   "execution_count": 5
  },
  {
   "metadata": {},
   "cell_type": "markdown",
   "source": "#### 当where内有三个参数时，当condition成立时返回x，当condition不成立时返回y",
   "id": "acd1318072ec9af5"
  },
  {
   "metadata": {
    "ExecuteTime": {
     "end_time": "2025-09-24T13:59:17.769918Z",
     "start_time": "2025-09-24T13:59:17.755975Z"
    }
   },
   "cell_type": "code",
   "source": [
    "# shape:(2,3)\n",
    "cond = [[False, True, False],\n",
    "        [True, False, False]]\n",
    "# shape:(3,)->(2,3)\n",
    "x = [1, 2, 3]\n",
    "# shape:(1,3)->(2,3)\n",
    "y = [[4, 5, 6]]\n",
    "print(np.where(cond, x, y))"
   ],
   "id": "5d6cf207c61ab7c1",
   "outputs": [
    {
     "name": "stdout",
     "output_type": "stream",
     "text": [
      "[[4 2 6]\n",
      " [1 5 6]]\n"
     ]
    }
   ],
   "execution_count": 6
  },
  {
   "metadata": {},
   "cell_type": "markdown",
   "source": [
    "#### np.argwhere(arr_like)\n",
    "- 找出数组中按元素分组的非零元素的索引"
   ],
   "id": "63796e25a17b2d8a"
  },
  {
   "metadata": {
    "ExecuteTime": {
     "end_time": "2025-09-24T13:59:17.785729Z",
     "start_time": "2025-09-24T13:59:17.769918Z"
    }
   },
   "cell_type": "code",
   "source": [
    "lst = [[[0, 0, 8],\n",
    "        [0, 0, 0]],\n",
    "       [[0, 0, 0],\n",
    "        [3, 0, 0]],\n",
    "       [[0, 6, 1],\n",
    "        [0, 0, 0]],\n",
    "       [[9, 0, 0],\n",
    "        [0, 0, 0]]]\n",
    "arr = np.array(lst)\n",
    "print(arr[np.nonzero(arr)])\n",
    "print(np.argwhere(arr))"
   ],
   "id": "57297e82fd534de3",
   "outputs": [
    {
     "name": "stdout",
     "output_type": "stream",
     "text": [
      "[8 3 6 1 9]\n",
      "[[0 0 2]\n",
      " [1 1 0]\n",
      " [2 0 1]\n",
      " [2 0 2]\n",
      " [3 0 0]]\n"
     ]
    }
   ],
   "execution_count": 7
  },
  {
   "metadata": {},
   "cell_type": "markdown",
   "source": [
    "#### np.random.normal(loc=0.0, scale=1.0, size=None)\n",
    "- 返回从正态分布中抽取的随机样本\n",
    "- 正态分布又称为常态分布或高斯分布，通常记作X~N（μ ,σ**2）。其中， μ是正态分布的数学期望（均值）， σ2是正态分布的方差。μ = 0,σ = 1的正态分布被称为标准正态分布\n",
    "- loc：均值（中心）\n",
    "- scale：标准差\n",
    "- size：输出的形状"
   ],
   "id": "81fd62cdd0a74565"
  },
  {
   "metadata": {
    "ExecuteTime": {
     "end_time": "2025-09-24T13:59:17.801629Z",
     "start_time": "2025-09-24T13:59:17.786721Z"
    }
   },
   "cell_type": "code",
   "source": [
    "print(np.random.normal())\n",
    "print(np.random.normal(size=(2, 3, 4)))"
   ],
   "id": "3681a032d6515caf",
   "outputs": [
    {
     "name": "stdout",
     "output_type": "stream",
     "text": [
      "-0.6315469743757247\n",
      "[[[ 0.33691639 -0.12944963  0.69316645  0.26896045]\n",
      "  [-0.79340633  0.34270995 -1.00498169  0.82137274]\n",
      "  [ 0.8678683   0.14729821 -1.14972019 -0.61892186]]\n",
      "\n",
      " [[-0.09874971  0.04506453  0.23882207 -0.99680086]\n",
      "  [-1.37039561  2.78596201  0.84452074  1.04508687]\n",
      "  [-0.65158602  2.15317954 -0.97918572 -0.92928483]]]\n"
     ]
    }
   ],
   "execution_count": 8
  },
  {
   "metadata": {
    "ExecuteTime": {
     "end_time": "2025-09-24T13:59:17.817020Z",
     "start_time": "2025-09-24T13:59:17.802803Z"
    }
   },
   "cell_type": "code",
   "source": [
    "print(np.random.normal(loc=10))\n",
    "np.random.normal(loc=10, size=(2, 3, 4))"
   ],
   "id": "3e9b7fcab392fdea",
   "outputs": [
    {
     "name": "stdout",
     "output_type": "stream",
     "text": [
      "9.786694974408624\n"
     ]
    },
    {
     "data": {
      "text/plain": [
       "array([[[10.0270316 ,  9.74471195, 10.49934665, 12.19782783],\n",
       "        [11.40760134,  8.5690297 , 11.32107388,  8.96287804],\n",
       "        [ 8.88727234,  9.26271988,  8.78327798,  9.67304195]],\n",
       "\n",
       "       [[ 9.25420714, 10.49353822, 11.87428683, 11.40771836],\n",
       "        [10.35023081,  9.2375818 , 11.7630568 , 11.34694459],\n",
       "        [10.0167724 ,  9.46524735,  8.62184711, 10.74770503]]])"
      ]
     },
     "execution_count": 9,
     "metadata": {},
     "output_type": "execute_result"
    }
   ],
   "execution_count": 9
  },
  {
   "metadata": {
    "ExecuteTime": {
     "end_time": "2025-09-24T13:59:17.833068Z",
     "start_time": "2025-09-24T13:59:17.817020Z"
    }
   },
   "cell_type": "code",
   "source": [
    "print(np.random.normal(loc=10, scale=5))\n",
    "np.random.normal(loc=10, scale=5, size=(2, 3, 4))"
   ],
   "id": "b9ff27df63a0c047",
   "outputs": [
    {
     "name": "stdout",
     "output_type": "stream",
     "text": [
      "6.126261451834811\n"
     ]
    },
    {
     "data": {
      "text/plain": [
       "array([[[ 8.84483311, 10.33521478, 13.88851771,  7.55783327],\n",
       "        [ 7.71704199,  3.97445254, 11.36232317,  1.5099799 ],\n",
       "        [10.97474589,  9.27539053, 11.97209183,  8.4197371 ]],\n",
       "\n",
       "       [[ 8.53659939,  6.08424181,  2.82042706,  3.13179027],\n",
       "        [ 8.95871886,  8.59481293, 10.88762751, 22.24662936],\n",
       "        [12.56467439,  9.8699122 ,  4.70373814,  8.15547957]]])"
      ]
     },
     "execution_count": 10,
     "metadata": {},
     "output_type": "execute_result"
    }
   ],
   "execution_count": 10
  },
  {
   "metadata": {},
   "cell_type": "markdown",
   "source": [
    "#### np.random.randint(low, high=None, size=None)\n",
    "- 返回从 [low, high) 离散均匀分布中抽取的随机整数"
   ],
   "id": "6729176b72d4e9"
  },
  {
   "metadata": {
    "ExecuteTime": {
     "end_time": "2025-09-24T13:59:17.848470Z",
     "start_time": "2025-09-24T13:59:17.834137Z"
    }
   },
   "cell_type": "code",
   "source": [
    "print(np.random.randint(2))\n",
    "print(np.random.randint(2, size=5))  # 等价于下一行\n",
    "print(np.random.randint(0, 2, size=5))  # 等价于上一行\n",
    "print(np.random.randint(2, 8, size=(2, 3)))"
   ],
   "id": "66b92faedc16292f",
   "outputs": [
    {
     "name": "stdout",
     "output_type": "stream",
     "text": [
      "1\n",
      "[0 1 1 1 1]\n",
      "[1 0 0 1 0]\n",
      "[[2 7 3]\n",
      " [4 2 7]]\n"
     ]
    }
   ],
   "execution_count": 11
  },
  {
   "metadata": {},
   "cell_type": "markdown",
   "source": [
    "#### np.random.uniform(low=0.0, high=1.0, size=None)\n",
    "- 返回从 [low, high) 均匀分布中抽取的随机样本"
   ],
   "id": "b122cb4abb4b861"
  },
  {
   "metadata": {
    "ExecuteTime": {
     "end_time": "2025-09-24T13:59:17.863655Z",
     "start_time": "2025-09-24T13:59:17.849540Z"
    }
   },
   "cell_type": "code",
   "source": [
    "print(np.random.uniform(8))\n",
    "print(np.random.uniform(3.5, size=5))  # 等价于下一行\n",
    "print(np.random.uniform(0, 3.5, size=5))  # 等价于上一行\n",
    "print(np.random.uniform(2.5, 3.5, size=(2, 3, 4)))"
   ],
   "id": "96b450008d1a2b9b",
   "outputs": [
    {
     "name": "stdout",
     "output_type": "stream",
     "text": [
      "3.2960750580544786\n",
      "[3.21462142 1.08296119 2.04422945 1.58809574 3.07737908]\n",
      "[3.04693102 3.12080193 2.10679251 3.40153341 1.56255333]\n",
      "[[[2.75554912 3.45621875 2.74898556 2.90951633]\n",
      "  [3.15800811 3.10563236 3.14746634 2.97194838]\n",
      "  [3.2478956  2.52553423 2.95886959 2.51161829]]\n",
      "\n",
      " [[3.28055285 3.32686783 3.29102511 2.71309541]\n",
      "  [3.34331577 3.2867165  2.78604552 3.0361627 ]\n",
      "  [3.0735291  3.29508487 3.03396005 2.82961741]]]\n"
     ]
    }
   ],
   "execution_count": 12
  },
  {
   "metadata": {},
   "cell_type": "markdown",
   "source": [
    "#### np.random.permutation(x)\n",
    "- x：int or array_like\n",
    "- 如果 x 是整数，返回随机排列的 np.arange(x)\n",
    "- 如果 x 是数组，只对数组的第一个维度随机排列，返回新的数组"
   ],
   "id": "a863f3aefd8d054e"
  },
  {
   "metadata": {
    "ExecuteTime": {
     "end_time": "2025-09-24T13:59:17.879276Z",
     "start_time": "2025-09-24T13:59:17.863994Z"
    }
   },
   "cell_type": "code",
   "source": [
    "print(np.arange(9))\n",
    "# 等价于返回一个随机排列的np.arange(9)\n",
    "print(np.random.permutation(9))"
   ],
   "id": "2a443fc5d80dcb38",
   "outputs": [
    {
     "name": "stdout",
     "output_type": "stream",
     "text": [
      "[0 1 2 3 4 5 6 7 8]\n",
      "[1 6 5 7 3 0 2 8 4]\n"
     ]
    }
   ],
   "execution_count": 13
  },
  {
   "metadata": {
    "ExecuteTime": {
     "end_time": "2025-09-24T13:59:17.894556Z",
     "start_time": "2025-09-24T13:59:17.879276Z"
    }
   },
   "cell_type": "code",
   "source": [
    "arr = np.arange(24).reshape(4, 2, 3)\n",
    "print(arr)\n",
    "print('*' * 30)\n",
    "print(np.random.permutation(arr))"
   ],
   "id": "df43a931f15811b6",
   "outputs": [
    {
     "name": "stdout",
     "output_type": "stream",
     "text": [
      "[[[ 0  1  2]\n",
      "  [ 3  4  5]]\n",
      "\n",
      " [[ 6  7  8]\n",
      "  [ 9 10 11]]\n",
      "\n",
      " [[12 13 14]\n",
      "  [15 16 17]]\n",
      "\n",
      " [[18 19 20]\n",
      "  [21 22 23]]]\n",
      "******************************\n",
      "[[[18 19 20]\n",
      "  [21 22 23]]\n",
      "\n",
      " [[12 13 14]\n",
      "  [15 16 17]]\n",
      "\n",
      " [[ 0  1  2]\n",
      "  [ 3  4  5]]\n",
      "\n",
      " [[ 6  7  8]\n",
      "  [ 9 10 11]]]\n"
     ]
    }
   ],
   "execution_count": 14
  },
  {
   "metadata": {},
   "cell_type": "markdown",
   "source": [
    "#### np.random.seed([x])\n",
    "- 随机数种子"
   ],
   "id": "b26a134fd6df8d32"
  },
  {
   "metadata": {
    "ExecuteTime": {
     "end_time": "2025-09-24T13:59:17.910663Z",
     "start_time": "2025-09-24T13:59:17.894556Z"
    }
   },
   "cell_type": "code",
   "source": [
    "print(np.random.randint(1, 90, size=(2, 1)))\n",
    "print(np.random.uniform(1.5, 3.5))\n",
    "print(np.random.randint(1, 90, size=(2, 1)))\n",
    "print(np.random.uniform(1.5, 3.5))\n",
    "np.random.seed(5)\n",
    "print(np.random.randint(1, 90, size=(2, 1)))\n",
    "print(np.random.uniform(1.5, 3.5))"
   ],
   "id": "61bd4000b3f622c8",
   "outputs": [
    {
     "name": "stdout",
     "output_type": "stream",
     "text": [
      "[[27]\n",
      " [60]]\n",
      "2.646653600610829\n",
      "[[72]\n",
      " [18]]\n",
      "2.504323600943334\n",
      "[[79]\n",
      " [62]]\n",
      "1.9134383106788528\n"
     ]
    }
   ],
   "execution_count": 15
  },
  {
   "metadata": {
    "ExecuteTime": {
     "end_time": "2025-09-24T13:59:17.926741Z",
     "start_time": "2025-09-24T13:59:17.912057Z"
    }
   },
   "cell_type": "code",
   "source": [
    "np.random.seed(5)\n",
    "print(np.random.randint(1, 90, size=(2, 1)))\n",
    "print(np.random.uniform(1.5, 3.5))"
   ],
   "id": "44e9ac0fde7fb093",
   "outputs": [
    {
     "name": "stdout",
     "output_type": "stream",
     "text": [
      "[[79]\n",
      " [62]]\n",
      "1.9134383106788528\n"
     ]
    }
   ],
   "execution_count": 16
  },
  {
   "metadata": {
    "ExecuteTime": {
     "end_time": "2025-09-24T13:59:17.942753Z",
     "start_time": "2025-09-24T13:59:17.926741Z"
    }
   },
   "cell_type": "code",
   "source": [
    "np.random.seed(3)\n",
    "print(np.random.randint(1, 90, size=(2, 1)))\n",
    "print(np.random.uniform(1.5, 3.5))"
   ],
   "id": "326ac1b15c11e68d",
   "outputs": [
    {
     "name": "stdout",
     "output_type": "stream",
     "text": [
      "[[25]\n",
      " [ 4]]\n",
      "2.081809477825889\n"
     ]
    }
   ],
   "execution_count": 17
  },
  {
   "metadata": {
    "ExecuteTime": {
     "end_time": "2025-09-24T13:59:17.958657Z",
     "start_time": "2025-09-24T13:59:17.943969Z"
    }
   },
   "cell_type": "code",
   "source": [
    "# 恢复随机\n",
    "np.random.seed()\n",
    "print(np.random.randint(1, 90, size=(2, 1)))\n",
    "print(np.random.uniform(1.5, 3.5))"
   ],
   "id": "9ee8f8f3d0bc705d",
   "outputs": [
    {
     "name": "stdout",
     "output_type": "stream",
     "text": [
      "[[81]\n",
      " [84]]\n",
      "2.5183290726597463\n"
     ]
    }
   ],
   "execution_count": 18
  },
  {
   "metadata": {
    "ExecuteTime": {
     "end_time": "2025-09-24T13:59:17.974086Z",
     "start_time": "2025-09-24T13:59:17.958657Z"
    }
   },
   "cell_type": "code",
   "source": "",
   "id": "ab14ddc7e3b675a9",
   "outputs": [],
   "execution_count": 18
  }
 ],
 "metadata": {
  "kernelspec": {
   "display_name": "Python 3",
   "language": "python",
   "name": "python3"
  },
  "language_info": {
   "codemirror_mode": {
    "name": "ipython",
    "version": 2
   },
   "file_extension": ".py",
   "mimetype": "text/x-python",
   "name": "python",
   "nbconvert_exporter": "python",
   "pygments_lexer": "ipython2",
   "version": "2.7.6"
  }
 },
 "nbformat": 4,
 "nbformat_minor": 5
}
