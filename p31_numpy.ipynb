{
 "cells": [
  {
   "cell_type": "code",
   "id": "initial_id",
   "metadata": {
    "collapsed": true,
    "ExecuteTime": {
     "end_time": "2025-10-06T05:19:20.851035Z",
     "start_time": "2025-10-06T05:19:20.756754Z"
    }
   },
   "source": "import numpy as np",
   "outputs": [],
   "execution_count": 1
  },
  {
   "metadata": {},
   "cell_type": "markdown",
   "source": "#### 数组的算术运算和比较运算为逐元素操作",
   "id": "791bc43a4208db4"
  },
  {
   "metadata": {
    "ExecuteTime": {
     "end_time": "2025-10-06T05:19:20.866827Z",
     "start_time": "2025-10-06T05:19:20.852203Z"
    }
   },
   "cell_type": "code",
   "source": [
    "arr = np.arange(24).reshape(2, 3, 4)\n",
    "print(arr)"
   ],
   "id": "327839600a415a5c",
   "outputs": [
    {
     "name": "stdout",
     "output_type": "stream",
     "text": [
      "[[[ 0  1  2  3]\n",
      "  [ 4  5  6  7]\n",
      "  [ 8  9 10 11]]\n",
      "\n",
      " [[12 13 14 15]\n",
      "  [16 17 18 19]\n",
      "  [20 21 22 23]]]\n"
     ]
    }
   ],
   "execution_count": 2
  },
  {
   "metadata": {
    "ExecuteTime": {
     "end_time": "2025-10-06T05:19:20.882017Z",
     "start_time": "2025-10-06T05:19:20.868032Z"
    }
   },
   "cell_type": "code",
   "source": "print(arr > 10)",
   "id": "54ee1080254fd620",
   "outputs": [
    {
     "name": "stdout",
     "output_type": "stream",
     "text": [
      "[[[False False False False]\n",
      "  [False False False False]\n",
      "  [False False False  True]]\n",
      "\n",
      " [[ True  True  True  True]\n",
      "  [ True  True  True  True]\n",
      "  [ True  True  True  True]]]\n"
     ]
    }
   ],
   "execution_count": 3
  },
  {
   "metadata": {
    "ExecuteTime": {
     "end_time": "2025-10-06T05:19:20.897981Z",
     "start_time": "2025-10-06T05:19:20.883253Z"
    }
   },
   "cell_type": "code",
   "source": "print(arr + 10)",
   "id": "3a13b1185f722c1",
   "outputs": [
    {
     "name": "stdout",
     "output_type": "stream",
     "text": [
      "[[[10 11 12 13]\n",
      "  [14 15 16 17]\n",
      "  [18 19 20 21]]\n",
      "\n",
      " [[22 23 24 25]\n",
      "  [26 27 28 29]\n",
      "  [30 31 32 33]]]\n"
     ]
    }
   ],
   "execution_count": 4
  },
  {
   "metadata": {
    "ExecuteTime": {
     "end_time": "2025-10-06T05:19:20.913125Z",
     "start_time": "2025-10-06T05:19:20.897981Z"
    }
   },
   "cell_type": "code",
   "source": [
    "arr1 = np.arange(24).reshape(2, 3, 4)\n",
    "arr2 = np.arange(30, 54).reshape(2, 3, 4)\n",
    "print(arr1)\n",
    "print('*' * 30)\n",
    "print(arr2)"
   ],
   "id": "63839f780ec9b456",
   "outputs": [
    {
     "name": "stdout",
     "output_type": "stream",
     "text": [
      "[[[ 0  1  2  3]\n",
      "  [ 4  5  6  7]\n",
      "  [ 8  9 10 11]]\n",
      "\n",
      " [[12 13 14 15]\n",
      "  [16 17 18 19]\n",
      "  [20 21 22 23]]]\n",
      "******************************\n",
      "[[[30 31 32 33]\n",
      "  [34 35 36 37]\n",
      "  [38 39 40 41]]\n",
      "\n",
      " [[42 43 44 45]\n",
      "  [46 47 48 49]\n",
      "  [50 51 52 53]]]\n"
     ]
    }
   ],
   "execution_count": 5
  },
  {
   "metadata": {
    "ExecuteTime": {
     "end_time": "2025-10-06T05:19:20.928997Z",
     "start_time": "2025-10-06T05:19:20.913125Z"
    }
   },
   "cell_type": "code",
   "source": "print(arr1 + arr2)",
   "id": "36880581cf4edce6",
   "outputs": [
    {
     "name": "stdout",
     "output_type": "stream",
     "text": [
      "[[[30 32 34 36]\n",
      "  [38 40 42 44]\n",
      "  [46 48 50 52]]\n",
      "\n",
      " [[54 56 58 60]\n",
      "  [62 64 66 68]\n",
      "  [70 72 74 76]]]\n"
     ]
    }
   ],
   "execution_count": 6
  },
  {
   "metadata": {},
   "cell_type": "markdown",
   "source": "#### 广播机制",
   "id": "fc4d74eb5297c894"
  },
  {
   "metadata": {},
   "cell_type": "markdown",
   "source": "#### 后缘维度相同或者不同的维度有1，可以广播",
   "id": "7625d7a475f4a42f"
  },
  {
   "metadata": {
    "ExecuteTime": {
     "end_time": "2025-10-06T05:19:20.945104Z",
     "start_time": "2025-10-06T05:19:20.930170Z"
    }
   },
   "cell_type": "code",
   "source": [
    "arr1 = np.arange(48).reshape(2, 3, 2, 4)\n",
    "arr2 = np.arange(50, 58).reshape(2, 4)\n",
    "print(arr1)\n",
    "print('*' * 30)\n",
    "print(arr2)"
   ],
   "id": "5c1313ad14970c93",
   "outputs": [
    {
     "name": "stdout",
     "output_type": "stream",
     "text": [
      "[[[[ 0  1  2  3]\n",
      "   [ 4  5  6  7]]\n",
      "\n",
      "  [[ 8  9 10 11]\n",
      "   [12 13 14 15]]\n",
      "\n",
      "  [[16 17 18 19]\n",
      "   [20 21 22 23]]]\n",
      "\n",
      "\n",
      " [[[24 25 26 27]\n",
      "   [28 29 30 31]]\n",
      "\n",
      "  [[32 33 34 35]\n",
      "   [36 37 38 39]]\n",
      "\n",
      "  [[40 41 42 43]\n",
      "   [44 45 46 47]]]]\n",
      "******************************\n",
      "[[50 51 52 53]\n",
      " [54 55 56 57]]\n"
     ]
    }
   ],
   "execution_count": 7
  },
  {
   "metadata": {
    "ExecuteTime": {
     "end_time": "2025-10-06T05:19:20.961153Z",
     "start_time": "2025-10-06T05:19:20.945104Z"
    }
   },
   "cell_type": "code",
   "source": "print(arr1 + arr2)",
   "id": "99795c3ef902a8a6",
   "outputs": [
    {
     "name": "stdout",
     "output_type": "stream",
     "text": [
      "[[[[ 50  52  54  56]\n",
      "   [ 58  60  62  64]]\n",
      "\n",
      "  [[ 58  60  62  64]\n",
      "   [ 66  68  70  72]]\n",
      "\n",
      "  [[ 66  68  70  72]\n",
      "   [ 74  76  78  80]]]\n",
      "\n",
      "\n",
      " [[[ 74  76  78  80]\n",
      "   [ 82  84  86  88]]\n",
      "\n",
      "  [[ 82  84  86  88]\n",
      "   [ 90  92  94  96]]\n",
      "\n",
      "  [[ 90  92  94  96]\n",
      "   [ 98 100 102 104]]]]\n"
     ]
    }
   ],
   "execution_count": 8
  },
  {
   "metadata": {
    "ExecuteTime": {
     "end_time": "2025-10-06T05:19:20.977045Z",
     "start_time": "2025-10-06T05:19:20.962239Z"
    }
   },
   "cell_type": "code",
   "source": [
    "arr1 = np.arange(24).reshape(3, 2, 1, 4)\n",
    "arr2 = np.arange(50, 62).reshape(1, 3, 4)\n",
    "print(arr1)\n",
    "print('*' * 30)\n",
    "print(arr2)"
   ],
   "id": "7238170267251e62",
   "outputs": [
    {
     "name": "stdout",
     "output_type": "stream",
     "text": [
      "[[[[ 0  1  2  3]]\n",
      "\n",
      "  [[ 4  5  6  7]]]\n",
      "\n",
      "\n",
      " [[[ 8  9 10 11]]\n",
      "\n",
      "  [[12 13 14 15]]]\n",
      "\n",
      "\n",
      " [[[16 17 18 19]]\n",
      "\n",
      "  [[20 21 22 23]]]]\n",
      "******************************\n",
      "[[[50 51 52 53]\n",
      "  [54 55 56 57]\n",
      "  [58 59 60 61]]]\n"
     ]
    }
   ],
   "execution_count": 9
  },
  {
   "metadata": {
    "ExecuteTime": {
     "end_time": "2025-10-06T05:19:20.992461Z",
     "start_time": "2025-10-06T05:19:20.978166Z"
    }
   },
   "cell_type": "code",
   "source": "print(arr1 + arr2)",
   "id": "3827506cbf6f9aa0",
   "outputs": [
    {
     "name": "stdout",
     "output_type": "stream",
     "text": [
      "[[[[50 52 54 56]\n",
      "   [54 56 58 60]\n",
      "   [58 60 62 64]]\n",
      "\n",
      "  [[54 56 58 60]\n",
      "   [58 60 62 64]\n",
      "   [62 64 66 68]]]\n",
      "\n",
      "\n",
      " [[[58 60 62 64]\n",
      "   [62 64 66 68]\n",
      "   [66 68 70 72]]\n",
      "\n",
      "  [[62 64 66 68]\n",
      "   [66 68 70 72]\n",
      "   [70 72 74 76]]]\n",
      "\n",
      "\n",
      " [[[66 68 70 72]\n",
      "   [70 72 74 76]\n",
      "   [74 76 78 80]]\n",
      "\n",
      "  [[70 72 74 76]\n",
      "   [74 76 78 80]\n",
      "   [78 80 82 84]]]]\n"
     ]
    }
   ],
   "execution_count": 10
  },
  {
   "metadata": {
    "ExecuteTime": {
     "end_time": "2025-10-06T05:19:21.007903Z",
     "start_time": "2025-10-06T05:19:20.993574Z"
    }
   },
   "cell_type": "code",
   "source": [
    "# [[[[ 0  1  2  3]\n",
    "#    [ 0  1  2  3]\n",
    "#    [ 0  1  2  3]]\n",
    "#   [[ 4  5  6  7]\n",
    "#    [ 4  5  6  7]\n",
    "#    [ 4  5  6  7]]]\n",
    "#  [[[ 8  9 10 11]\n",
    "#    [ 8  9 10 11]\n",
    "#    [ 8  9 10 11]]\n",
    "#   [[12 13 14 15]\n",
    "#    [12 13 14 15]\n",
    "#    [12 13 14 15]]]\n",
    "#  [[[16 17 18 19]\n",
    "#    [16 17 18 19]\n",
    "#    [16 17 18 19]]\n",
    "#   [[20 21 22 23]\n",
    "#    [20 21 22 23]\n",
    "#    [20 21 22 23]]]]\n",
    "# \n",
    "# \n",
    "# [[[[50 51 52 53]\n",
    "#    [54 55 56 57]\n",
    "#    [58 59 60 61]]\n",
    "#   [[50 51 52 53]\n",
    "#    [54 55 56 57]\n",
    "#    [58 59 60 61]]]\n",
    "#  [[[50 51 52 53]\n",
    "#    [54 55 56 57]\n",
    "#    [58 59 60 61]]\n",
    "#   [[50 51 52 53]\n",
    "#    [54 55 56 57]\n",
    "#    [58 59 60 61]]]\n",
    "#  [[[50 51 52 53]\n",
    "#    [54 55 56 57]\n",
    "#    [58 59 60 61]]\n",
    "#   [[50 51 52 53]\n",
    "#    [54 55 56 57]\n",
    "#    [58 59 60 61]]]]\n"
   ],
   "id": "168fd49972e9f64a",
   "outputs": [],
   "execution_count": 11
  },
  {
   "metadata": {},
   "cell_type": "markdown",
   "source": "#### 索引和切片",
   "id": "32a9d18423946acf"
  },
  {
   "metadata": {},
   "cell_type": "markdown",
   "source": [
    "#### 数组除了支持Python序列的索引和切片操作以外，还可以针对各个轴进行索引和切片操作。\n",
    "\n",
    "![索引](picture/索引.png)"
   ],
   "id": "53d770feabb50cf8"
  },
  {
   "metadata": {},
   "cell_type": "markdown",
   "source": "#### 序列索引和切片",
   "id": "59931f373a570f98"
  },
  {
   "metadata": {
    "ExecuteTime": {
     "end_time": "2025-10-06T05:19:21.023800Z",
     "start_time": "2025-10-06T05:19:21.008916Z"
    }
   },
   "cell_type": "code",
   "source": [
    "lst = [8, 9, 2, 3, 7, 6]\n",
    "arr = np.array(lst)\n",
    "lst[1:4] = [100, 200]\n",
    "# arr[1:4] = [100, 200]\n",
    "# arr[1:4] = [100]\n",
    "arr[1:4] = 100\n",
    "print(lst)\n",
    "print(arr)\n",
    "arr[1:4] = [200, 300, 400]\n",
    "print(arr)"
   ],
   "id": "762c3ae832f67561",
   "outputs": [
    {
     "name": "stdout",
     "output_type": "stream",
     "text": [
      "[8, 100, 200, 7, 6]\n",
      "[  8 100 100 100   7   6]\n",
      "[  8 200 300 400   7   6]\n"
     ]
    }
   ],
   "execution_count": 12
  },
  {
   "metadata": {
    "ExecuteTime": {
     "end_time": "2025-10-06T05:19:21.039069Z",
     "start_time": "2025-10-06T05:19:21.024984Z"
    }
   },
   "cell_type": "code",
   "source": [
    "lst = [6, 8, 9, 1, 3]\n",
    "arr = np.array(lst)\n",
    "\n",
    "print(lst)\n",
    "item_lst = lst[2]\n",
    "part_lst = lst[2:3] # 返回视图\n",
    "print(item_lst)\n",
    "print(part_lst)\n",
    "print('*' * 30)\n",
    "\n",
    "lst[2] = 99\n",
    "print(lst)\n",
    "print(item_lst)\n",
    "print(part_lst)\n",
    "print('*' * 30)\n",
    "\n",
    "print(arr)\n",
    "item_arr = arr[2]\n",
    "part_arr = arr[2:3]\n",
    "print(item_arr)\n",
    "print(part_arr)\n",
    "print('*' * 30)\n",
    "\n",
    "arr[2] = 99\n",
    "print(arr)\n",
    "print(item_arr)\n",
    "print(part_arr) # 动态性"
   ],
   "id": "60c2c68f57ccbcc6",
   "outputs": [
    {
     "name": "stdout",
     "output_type": "stream",
     "text": [
      "[6, 8, 9, 1, 3]\n",
      "9\n",
      "[9]\n",
      "******************************\n",
      "[6, 8, 99, 1, 3]\n",
      "9\n",
      "[9]\n",
      "******************************\n",
      "[6 8 9 1 3]\n",
      "9\n",
      "[9]\n",
      "******************************\n",
      "[ 6  8 99  1  3]\n",
      "9\n",
      "[99]\n"
     ]
    }
   ],
   "execution_count": 13
  },
  {
   "metadata": {},
   "cell_type": "markdown",
   "source": "#### 数组针对各个轴的索引和切片",
   "id": "c51f990212dd1cc8"
  },
  {
   "metadata": {
    "ExecuteTime": {
     "end_time": "2025-10-06T05:19:21.054528Z",
     "start_time": "2025-10-06T05:19:21.040066Z"
    }
   },
   "cell_type": "code",
   "source": [
    "lst = [[[5, 0, 8],\n",
    "        [1, 2, 9]],\n",
    "       [[6, 7, 4],\n",
    "        [3, 6, 2]],\n",
    "       [[7, 7, 1],\n",
    "        [9, 1, 2]],\n",
    "       [[5, 1, 5],\n",
    "        [3, 4, 6]]]\n",
    "arr = np.array(lst)\n",
    "lst_1 = lst[::2][1:]\n",
    "print(lst_1)\n",
    "arr_1 = arr[::2][1:]\n",
    "print(arr_1)\n",
    "\n",
    "print(arr[:, 1])"
   ],
   "id": "aa9a86ad5b64c6c2",
   "outputs": [
    {
     "name": "stdout",
     "output_type": "stream",
     "text": [
      "[[[7, 7, 1], [9, 1, 2]]]\n",
      "[[[7 7 1]\n",
      "  [9 1 2]]]\n",
      "[[1 2 9]\n",
      " [3 6 2]\n",
      " [9 1 2]\n",
      " [3 4 6]]\n"
     ]
    }
   ],
   "execution_count": 14
  },
  {
   "metadata": {
    "ExecuteTime": {
     "end_time": "2025-10-06T05:19:21.070122Z",
     "start_time": "2025-10-06T05:19:21.055648Z"
    }
   },
   "cell_type": "code",
   "source": [
    "lst[2] = [[2, 2, 2], [3, 3, 3]]\n",
    "print(lst_1)\n",
    "print(lst[::2][1:])\n",
    "print('*' * 30)\n",
    "arr[2] = [[2, 2, 2], [3, 3, 3]]\n",
    "print(arr_1)\n",
    "print(arr[::2][1:])"
   ],
   "id": "85fd3343aa2f5978",
   "outputs": [
    {
     "name": "stdout",
     "output_type": "stream",
     "text": [
      "[[[7, 7, 1], [9, 1, 2]]]\n",
      "[[[2, 2, 2], [3, 3, 3]]]\n",
      "******************************\n",
      "[[[2 2 2]\n",
      "  [3 3 3]]]\n",
      "[[[2 2 2]\n",
      "  [3 3 3]]]\n"
     ]
    }
   ],
   "execution_count": 15
  },
  {
   "metadata": {
    "ExecuteTime": {
     "end_time": "2025-10-06T05:19:21.085542Z",
     "start_time": "2025-10-06T05:19:21.071119Z"
    }
   },
   "cell_type": "code",
   "source": [
    "lst = [[[5, 0, 8],\n",
    "        [1, 2, 9]],\n",
    "       [[6, 7, 4],\n",
    "        [3, 6, 2]],\n",
    "       [[7, 7, 1],\n",
    "        [9, 1, 2]],\n",
    "       [[5, 1, 5],\n",
    "        [3, 4, 6]]]\n",
    "arr = np.array(lst)\n",
    "print(arr.shape)\n",
    "print(arr[1])\n",
    "print('*' * 30)\n",
    "print(arr[1, 0])\n",
    "print('*' * 30)\n",
    "print(arr[1, 0, 2])\n",
    "print(arr[1][0][2])\n",
    "print(arr[1:2, :1, 2:])"
   ],
   "id": "2bfb74b1f0a98aef",
   "outputs": [
    {
     "name": "stdout",
     "output_type": "stream",
     "text": [
      "(4, 2, 3)\n",
      "[[6 7 4]\n",
      " [3 6 2]]\n",
      "******************************\n",
      "[6 7 4]\n",
      "******************************\n",
      "4\n",
      "4\n",
      "[[[4]]]\n"
     ]
    }
   ],
   "execution_count": 16
  },
  {
   "metadata": {
    "ExecuteTime": {
     "end_time": "2025-10-06T05:19:21.100178Z",
     "start_time": "2025-10-06T05:19:21.086539Z"
    }
   },
   "cell_type": "code",
   "source": [
    "print(arr[::2, 1:])\n",
    "print(arr[::2][1:])"
   ],
   "id": "6b078fc7009c58fd",
   "outputs": [
    {
     "name": "stdout",
     "output_type": "stream",
     "text": [
      "[[[1 2 9]]\n",
      "\n",
      " [[9 1 2]]]\n",
      "[[[7 7 1]\n",
      "  [9 1 2]]]\n"
     ]
    }
   ],
   "execution_count": 17
  },
  {
   "metadata": {
    "ExecuteTime": {
     "end_time": "2025-10-06T05:19:21.116369Z",
     "start_time": "2025-10-06T05:19:21.100178Z"
    }
   },
   "cell_type": "code",
   "source": [
    "lst = [[[5, 0, 8],\n",
    "        [1, 2, 9]],\n",
    "       [[6, 7, 4],\n",
    "        [3, 6, 2]],\n",
    "       [[7, 7, 1],\n",
    "        [9, 1, 2]],\n",
    "       [[5, 1, 5],\n",
    "        [3, 4, 6]]]\n",
    "arr = np.array(lst)\n",
    "print(arr.shape)\n",
    "print(arr[1:, 0, ::-2])\n",
    "print(arr[1:, 1, ::-2])"
   ],
   "id": "aa55f1a230920749",
   "outputs": [
    {
     "name": "stdout",
     "output_type": "stream",
     "text": [
      "(4, 2, 3)\n",
      "[[4 6]\n",
      " [1 7]\n",
      " [5 5]]\n",
      "[[2 3]\n",
      " [2 9]\n",
      " [6 3]]\n"
     ]
    }
   ],
   "execution_count": 18
  },
  {
   "metadata": {
    "ExecuteTime": {
     "end_time": "2025-10-06T05:19:21.132216Z",
     "start_time": "2025-10-06T05:19:21.117473Z"
    }
   },
   "cell_type": "code",
   "source": "print(arr[::2, 1:])",
   "id": "74a1abef64ec110a",
   "outputs": [
    {
     "name": "stdout",
     "output_type": "stream",
     "text": [
      "[[[1 2 9]]\n",
      "\n",
      " [[9 1 2]]]\n"
     ]
    }
   ],
   "execution_count": 19
  },
  {
   "metadata": {},
   "cell_type": "markdown",
   "source": [
    "#### 数组的高阶索引\n",
    "- 把整数列表或者bool数组作为索引"
   ],
   "id": "b8211319b86f6159"
  },
  {
   "metadata": {
    "ExecuteTime": {
     "end_time": "2025-10-06T05:19:21.148118Z",
     "start_time": "2025-10-06T05:19:21.133320Z"
    }
   },
   "cell_type": "code",
   "source": [
    "lst = [[[5, 0, 8],\n",
    "        [1, 2, 9]],\n",
    "       [[6, 7, 4],\n",
    "        [3, 6, 2]],\n",
    "       [[7, 7, 1],\n",
    "        [9, 1, 2]],\n",
    "       [[5, 1, 5],\n",
    "        [3, 4, 6]]]\n",
    "arr = np.array(lst)\n",
    "# 可以理解为 arr[3, 0, 2], arr[1, 1, 0],构成一个更高维度的数组\n",
    "print(arr[[3, 1], [0, 1], [2, 0]])\n",
    "print('*' * 30)\n",
    "# 可以理解为 arr[3, 1], arr[1, 1], arr[2, 0]构成一个更高维度的数组\n",
    "print(arr[[3, 1, 2], [1, 1, 0]])"
   ],
   "id": "66ebb871ab71cf57",
   "outputs": [
    {
     "name": "stdout",
     "output_type": "stream",
     "text": [
      "[5 3]\n",
      "******************************\n",
      "[[3 4 6]\n",
      " [3 6 2]\n",
      " [7 7 1]]\n"
     ]
    }
   ],
   "execution_count": 20
  },
  {
   "metadata": {
    "ExecuteTime": {
     "end_time": "2025-10-06T05:19:21.163302Z",
     "start_time": "2025-10-06T05:19:21.149288Z"
    }
   },
   "cell_type": "code",
   "source": [
    "lst = [[[5, 0, 8],\n",
    "        [1, 2, 9]],\n",
    "       [[6, 7, 4],\n",
    "        [3, 6, 2]],\n",
    "       [[7, 7, 1],\n",
    "        [9, 1, 2]],\n",
    "       [[5, 1, 5],\n",
    "        [3, 4, 6]]]\n",
    "arr = np.array(lst)\n",
    "\n",
    "print(arr[[2, 1, 3, 0], [0, 1, 1, 0]])"
   ],
   "id": "738c2baf3a58dd3f",
   "outputs": [
    {
     "name": "stdout",
     "output_type": "stream",
     "text": [
      "[[7 7 1]\n",
      " [3 6 2]\n",
      " [3 4 6]\n",
      " [5 0 8]]\n"
     ]
    }
   ],
   "execution_count": 21
  },
  {
   "metadata": {
    "ExecuteTime": {
     "end_time": "2025-10-06T05:19:21.178441Z",
     "start_time": "2025-10-06T05:19:21.164442Z"
    }
   },
   "cell_type": "code",
   "source": [
    "print(arr[[1, 1, 2]])\n",
    "print(arr[1, 1, 2])"
   ],
   "id": "ab3f98d45bb2770d",
   "outputs": [
    {
     "name": "stdout",
     "output_type": "stream",
     "text": [
      "[[[6 7 4]\n",
      "  [3 6 2]]\n",
      "\n",
      " [[6 7 4]\n",
      "  [3 6 2]]\n",
      "\n",
      " [[7 7 1]\n",
      "  [9 1 2]]]\n",
      "2\n"
     ]
    }
   ],
   "execution_count": 22
  },
  {
   "metadata": {
    "ExecuteTime": {
     "end_time": "2025-10-06T05:19:21.194257Z",
     "start_time": "2025-10-06T05:19:21.179507Z"
    }
   },
   "cell_type": "code",
   "source": "print(arr[[1, 2]])",
   "id": "13bcd8abaf895607",
   "outputs": [
    {
     "name": "stdout",
     "output_type": "stream",
     "text": [
      "[[[6 7 4]\n",
      "  [3 6 2]]\n",
      "\n",
      " [[7 7 1]\n",
      "  [9 1 2]]]\n"
     ]
    }
   ],
   "execution_count": 23
  },
  {
   "metadata": {
    "ExecuteTime": {
     "end_time": "2025-10-06T05:19:21.210005Z",
     "start_time": "2025-10-06T05:19:21.195420Z"
    }
   },
   "cell_type": "code",
   "source": "print(arr[[1]])",
   "id": "6bb221a9642f94f0",
   "outputs": [
    {
     "name": "stdout",
     "output_type": "stream",
     "text": [
      "[[[6 7 4]\n",
      "  [3 6 2]]]\n"
     ]
    }
   ],
   "execution_count": 24
  },
  {
   "metadata": {
    "ExecuteTime": {
     "end_time": "2025-10-06T05:19:21.225526Z",
     "start_time": "2025-10-06T05:19:21.210005Z"
    }
   },
   "cell_type": "code",
   "source": "print(arr[1])",
   "id": "10ead04756acf848",
   "outputs": [
    {
     "name": "stdout",
     "output_type": "stream",
     "text": [
      "[[6 7 4]\n",
      " [3 6 2]]\n"
     ]
    }
   ],
   "execution_count": 25
  },
  {
   "metadata": {
    "ExecuteTime": {
     "end_time": "2025-10-06T05:19:21.240344Z",
     "start_time": "2025-10-06T05:19:21.227700Z"
    }
   },
   "cell_type": "code",
   "source": [
    "a = np.array([1, 2, 3])\n",
    "b = np.array([[1], [3], [2]])\n",
    "print(a + b)"
   ],
   "id": "d1707829dbcf8d7b",
   "outputs": [
    {
     "name": "stdout",
     "output_type": "stream",
     "text": [
      "[[2 3 4]\n",
      " [4 5 6]\n",
      " [3 4 5]]\n"
     ]
    }
   ],
   "execution_count": 26
  },
  {
   "metadata": {},
   "cell_type": "markdown",
   "source": "#### 基本索引和高阶索引组合时, 会发生广播",
   "id": "e2a40a989f0c0072"
  },
  {
   "metadata": {
    "ExecuteTime": {
     "end_time": "2025-10-06T05:19:21.256030Z",
     "start_time": "2025-10-06T05:19:21.241777Z"
    }
   },
   "cell_type": "code",
   "source": [
    "lst = [[[5, 0, 8],\n",
    "        [1, 2, 9]],\n",
    "       [[6, 7, 4],\n",
    "        [3, 6, 2]],\n",
    "       [[7, 7, 1],\n",
    "        [9, 1, 2]],\n",
    "       [[5, 1, 5],\n",
    "        [3, 4, 6]]]\n",
    "arr = np.array(lst)\n",
    "print(arr.shape)\n",
    "print(arr[[2], [1], [2]])\n",
    "print('*' * 30)\n",
    "# shape (2,) () (2,) => (2,) (2,) (2,)\n",
    "print(arr[[1, 3], 1, [2, 0]])\n",
    "print(arr[[1, 3], [1], [2, 0]])\n",
    "print(arr[[1, 3], [1, 1], [2, 0]])\n",
    "print(arr[1, 1, [2, 0, 1]])"
   ],
   "id": "aec643b02f262415",
   "outputs": [
    {
     "name": "stdout",
     "output_type": "stream",
     "text": [
      "(4, 2, 3)\n",
      "[2]\n",
      "******************************\n",
      "[2 3]\n",
      "[2 3]\n",
      "[2 3]\n",
      "[2 3 6]\n"
     ]
    }
   ],
   "execution_count": 27
  },
  {
   "metadata": {
    "ExecuteTime": {
     "end_time": "2025-10-06T05:19:21.272166Z",
     "start_time": "2025-10-06T05:19:21.257191Z"
    }
   },
   "cell_type": "code",
   "source": [
    "# shape (1,) () (3,) => (3,) (3,) (3,)\n",
    "print(arr[[2], 1, [2, 0, 1]])\n",
    "print(arr[[2, 2, 2], [1, 1, 1], [2, 0, 1]])"
   ],
   "id": "2cad022e3655c6fb",
   "outputs": [
    {
     "name": "stdout",
     "output_type": "stream",
     "text": [
      "[2 9 1]\n",
      "[2 9 1]\n"
     ]
    }
   ],
   "execution_count": 28
  },
  {
   "metadata": {
    "ExecuteTime": {
     "end_time": "2025-10-06T05:19:21.288311Z",
     "start_time": "2025-10-06T05:19:21.273281Z"
    }
   },
   "cell_type": "code",
   "source": [
    "print(arr[1::2, 0, ::2])\n",
    "print('*' * 30)\n",
    "print(arr[1::2, 0:1, ::2])"
   ],
   "id": "8174e57e03089059",
   "outputs": [
    {
     "name": "stdout",
     "output_type": "stream",
     "text": [
      "[[6 4]\n",
      " [5 5]]\n",
      "******************************\n",
      "[[[6 4]]\n",
      "\n",
      " [[5 5]]]\n"
     ]
    }
   ],
   "execution_count": 29
  },
  {
   "metadata": {},
   "cell_type": "markdown",
   "source": "#### 如果需要利用bool索引对标量进行操作, 也就是针对最后一个维度,只需要创建一个shape为(4, 2, 3)的bool索引即可",
   "id": "7ba9df7d90cdebdb"
  },
  {
   "metadata": {
    "ExecuteTime": {
     "end_time": "2025-10-06T05:19:21.303261Z",
     "start_time": "2025-10-06T05:19:21.288311Z"
    }
   },
   "cell_type": "code",
   "source": [
    "lst = [[[5, 0, 8],\n",
    "        [1, 2, 9]],\n",
    "       [[6, 7, 4],\n",
    "        [3, 6, 2]],\n",
    "       [[7, 7, 1],\n",
    "        [9, 1, 2]],\n",
    "       [[5, 1, 5],\n",
    "        [3, 4, 6]]]\n",
    "arr = np.array(lst)\n",
    "lst = [[[False, False, True],\n",
    "        [False, False, False]],\n",
    "       [[False, True, False],\n",
    "        [False, False, False]],\n",
    "       [[False, True, True],\n",
    "        [False, False, False]],\n",
    "       [[False, False, False],\n",
    "        [True, False, False]]]\n",
    "bool_arr = np.array(lst)\n",
    "print(arr[bool_arr])"
   ],
   "id": "335b5ad3153f3f08",
   "outputs": [
    {
     "name": "stdout",
     "output_type": "stream",
     "text": [
      "[8 7 7 1 3]\n"
     ]
    }
   ],
   "execution_count": 30
  },
  {
   "metadata": {
    "ExecuteTime": {
     "end_time": "2025-10-06T05:19:21.318439Z",
     "start_time": "2025-10-06T05:19:21.304385Z"
    }
   },
   "cell_type": "code",
   "source": [
    "lst = [[False,\n",
    "        True],\n",
    "       [True,\n",
    "        True],\n",
    "       [False,\n",
    "        False],\n",
    "       [True,\n",
    "        False]]\n",
    "bool_arr = np.array(lst)\n",
    "print(arr[bool_arr])"
   ],
   "id": "9c4cd78c2ab3ce4f",
   "outputs": [
    {
     "name": "stdout",
     "output_type": "stream",
     "text": [
      "[[1 2 9]\n",
      " [6 7 4]\n",
      " [3 6 2]\n",
      " [5 1 5]]\n"
     ]
    }
   ],
   "execution_count": 31
  },
  {
   "metadata": {
    "ExecuteTime": {
     "end_time": "2025-10-06T05:19:21.333726Z",
     "start_time": "2025-10-06T05:19:21.319428Z"
    }
   },
   "cell_type": "code",
   "source": [
    "lst = [True,\n",
    "       False,\n",
    "       True,\n",
    "       True]\n",
    "bool_arr = np.array(lst)\n",
    "print(arr[bool_arr])\n",
    "print('*' * 30)\n",
    "print(arr[[0, 2, 3]])"
   ],
   "id": "3536b1727cf70807",
   "outputs": [
    {
     "name": "stdout",
     "output_type": "stream",
     "text": [
      "[[[5 0 8]\n",
      "  [1 2 9]]\n",
      "\n",
      " [[7 7 1]\n",
      "  [9 1 2]]\n",
      "\n",
      " [[5 1 5]\n",
      "  [3 4 6]]]\n",
      "******************************\n",
      "[[[5 0 8]\n",
      "  [1 2 9]]\n",
      "\n",
      " [[7 7 1]\n",
      "  [9 1 2]]\n",
      "\n",
      " [[5 1 5]\n",
      "  [3 4 6]]]\n"
     ]
    }
   ],
   "execution_count": 32
  },
  {
   "metadata": {
    "ExecuteTime": {
     "end_time": "2025-10-06T05:19:21.349267Z",
     "start_time": "2025-10-06T05:19:21.343722Z"
    }
   },
   "cell_type": "code",
   "source": "",
   "id": "56b90c484a21ffb2",
   "outputs": [],
   "execution_count": 32
  }
 ],
 "metadata": {
  "kernelspec": {
   "display_name": "Python 3",
   "language": "python",
   "name": "python3"
  },
  "language_info": {
   "codemirror_mode": {
    "name": "ipython",
    "version": 2
   },
   "file_extension": ".py",
   "mimetype": "text/x-python",
   "name": "python",
   "nbconvert_exporter": "python",
   "pygments_lexer": "ipython2",
   "version": "2.7.6"
  }
 },
 "nbformat": 4,
 "nbformat_minor": 5
}
